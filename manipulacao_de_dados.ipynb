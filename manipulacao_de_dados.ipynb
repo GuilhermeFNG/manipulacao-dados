{
  "metadata": {
    "kernelspec": {
      "name": "python",
      "display_name": "Python (Pyodide)",
      "language": "python"
    },
    "language_info": {
      "codemirror_mode": {
        "name": "python",
        "version": 3
      },
      "file_extension": ".py",
      "mimetype": "text/x-python",
      "name": "python",
      "nbconvert_exporter": "python",
      "pygments_lexer": "ipython3",
      "version": "3.8"
    }
  },
  "nbformat_minor": 5,
  "nbformat": 4,
  "cells": [
    {
      "id": "innovative-honolulu",
      "cell_type": "markdown",
      "source": "### Pacotes usados neste Notebook",
      "metadata": {}
    },
    {
      "id": "backed-twenty",
      "cell_type": "code",
      "source": "# pacotes usados neste notebook\nimport pandas as pd",
      "metadata": {
        "trusted": true
      },
      "outputs": [],
      "execution_count": 1
    },
    {
      "id": "tracked-shakespeare",
      "cell_type": "markdown",
      "source": "<h1>Manipulação de Dados com Pandas</h1><hr/>",
      "metadata": {}
    },
    {
      "id": "federal-vinyl",
      "cell_type": "markdown",
      "source": "<h2>1. Manipulação Básica de Datasets</h2>\n<hr/>",
      "metadata": {}
    },
    {
      "id": "optimum-season",
      "cell_type": "markdown",
      "source": "**Dataset**: Gas Prices in Brazil: https://www.kaggle.com/matheusfreitag/gas-prices-in-brazil <br/>\n\nEste dataset contém os **registros dos preços médios semanais dos combustíveis do Brasil entre os anos de 2004 e 2019**. <br/>\nCada *amostra (registro/linha)* consiste em um registro de preço aferido para um dado tipo de combustível em uma dada localidade do Brasil. <br/>\nAlguns dos principais *atributos* (colunas) do dataset são: 'ESTADO', 'PRODUTO', 'NÚMERO DE POSTOS PESQUISADOS', 'PREÇO MÉDIO REVENDA'.\n\n\n\\* O arquivo disponibilizado no Kaggle está no formato *tsv*. Embora o _pandas_ consiga abrí-lo normalmente, convertemos tal arquivo para o formato *CSV*, que é um dos formatos mais utilizados, e mudamos seu separado para ';' apenas para mostrar algumas opções da função de carregamento.",
      "metadata": {}
    },
    {
      "id": "aggregate-provision",
      "cell_type": "markdown",
      "source": "### 1.1. Importando o Dataset\nPara carregar um dataset no formato csv, basta utilizar a função `read_csv` do pandas. Por padrão, ela considera _','_ como separador.",
      "metadata": {}
    },
    {
      "id": "medieval-strain",
      "cell_type": "code",
      "source": "data = pd.read_csv('./datasets/2004-2021.csv')",
      "metadata": {
        "trusted": true
      },
      "outputs": [],
      "execution_count": 2
    },
    {
      "id": "sorted-martin",
      "cell_type": "code",
      "source": "data",
      "metadata": {
        "trusted": true
      },
      "outputs": [
        {
          "execution_count": 3,
          "output_type": "execute_result",
          "data": {
            "text/plain": "       DATA INICIAL  DATA FINAL        REGIÃO              ESTADO  \\\n0        2004-05-09  2004-05-15  CENTRO OESTE    DISTRITO FEDERAL   \n1        2004-05-09  2004-05-15  CENTRO OESTE               GOIAS   \n2        2004-05-09  2004-05-15  CENTRO OESTE         MATO GROSSO   \n3        2004-05-09  2004-05-15  CENTRO OESTE  MATO GROSSO DO SUL   \n4        2004-05-09  2004-05-15      NORDESTE             ALAGOAS   \n...             ...         ...           ...                 ...   \n120818   2021-04-25  2021-05-01         NORTE             RORAIMA   \n120819   2021-04-25  2021-05-01           SUL      SANTA CATARINA   \n120820   2021-04-25  2021-05-01       SUDESTE           SAO PAULO   \n120821   2021-04-25  2021-05-01      NORDESTE             SERGIPE   \n120822   2021-04-25  2021-05-01         NORTE           TOCANTINS   \n\n                 PRODUTO  NÚMERO DE POSTOS PESQUISADOS UNIDADE DE MEDIDA  \\\n0       ETANOL HIDRATADO                           127              R$/l   \n1       ETANOL HIDRATADO                           387              R$/l   \n2       ETANOL HIDRATADO                           192              R$/l   \n3       ETANOL HIDRATADO                           162              R$/l   \n4       ETANOL HIDRATADO                           103              R$/l   \n...                  ...                           ...               ...   \n120818   OLEO DIESEL S10                            12              R$/l   \n120819   OLEO DIESEL S10                           100              R$/l   \n120820   OLEO DIESEL S10                           886              R$/l   \n120821   OLEO DIESEL S10                            33              R$/l   \n120822   OLEO DIESEL S10                            18              R$/l   \n\n        PREÇO MÉDIO REVENDA  DESVIO PADRÃO REVENDA  PREÇO MÍNIMO REVENDA  \\\n0                     1.288                  0.016                 1.190   \n1                     1.162                  0.114                 0.890   \n2                     1.389                  0.097                 1.180   \n3                     1.262                  0.070                 1.090   \n4                     1.181                  0.078                 1.050   \n...                     ...                    ...                   ...   \n120818                4.582                  0.056                 4.510   \n120819                4.141                  0.187                 3.838   \n120820                4.246                  0.216                 3.769   \n120821                4.464                  0.205                 4.190   \n120822                4.352                  0.156                 4.199   \n\n        PREÇO MÁXIMO REVENDA MARGEM MÉDIA REVENDA  COEF DE VARIAÇÃO REVENDA  \\\n0                      1.350                0.463                     0.012   \n1                      1.449                0.399                     0.098   \n2                      1.760                0.419                     0.070   \n3                      1.509                0.432                     0.055   \n4                      1.400                 0.24                     0.066   \n...                      ...                  ...                       ...   \n120818                 4.690             -99999.0                     0.012   \n120819                 4.739             -99999.0                     0.045   \n120820                 5.199             -99999.0                     0.051   \n120821                 4.699             -99999.0                     0.046   \n120822                 4.699             -99999.0                     0.036   \n\n       PREÇO MÉDIO DISTRIBUIÇÃO DESVIO PADRÃO DISTRIBUIÇÃO  \\\n0                         0.825                       0.11   \n1                         0.763                      0.088   \n2                          0.97                      0.095   \n3                          0.83                      0.119   \n4                         0.941                      0.077   \n...                         ...                        ...   \n120818                 -99999.0                   -99999.0   \n120819                 -99999.0                   -99999.0   \n120820                 -99999.0                   -99999.0   \n120821                 -99999.0                   -99999.0   \n120822                 -99999.0                   -99999.0   \n\n       PREÇO MÍNIMO DISTRIBUIÇÃO PREÇO MÁXIMO DISTRIBUIÇÃO  \\\n0                         0.4201                    0.9666   \n1                         0.5013                      1.05   \n2                         0.5614                     1.161   \n3                         0.5991                   1.22242   \n4                         0.7441                    1.0317   \n...                          ...                       ...   \n120818                  -99999.0                  -99999.0   \n120819                  -99999.0                  -99999.0   \n120820                  -99999.0                  -99999.0   \n120821                  -99999.0                  -99999.0   \n120822                  -99999.0                  -99999.0   \n\n       COEF DE VARIAÇÃO DISTRIBUIÇÃO  \n0                              0.133  \n1                              0.115  \n2                              0.098  \n3                              0.143  \n4                              0.082  \n...                              ...  \n120818                      -99999.0  \n120819                      -99999.0  \n120820                      -99999.0  \n120821                      -99999.0  \n120822                      -99999.0  \n\n[120823 rows x 18 columns]",
            "text/html": "<div>\n<style scoped>\n    .dataframe tbody tr th:only-of-type {\n        vertical-align: middle;\n    }\n\n    .dataframe tbody tr th {\n        vertical-align: top;\n    }\n\n    .dataframe thead th {\n        text-align: right;\n    }\n</style>\n<table border=\"1\" class=\"dataframe\">\n  <thead>\n    <tr style=\"text-align: right;\">\n      <th></th>\n      <th>DATA INICIAL</th>\n      <th>DATA FINAL</th>\n      <th>REGIÃO</th>\n      <th>ESTADO</th>\n      <th>PRODUTO</th>\n      <th>NÚMERO DE POSTOS PESQUISADOS</th>\n      <th>UNIDADE DE MEDIDA</th>\n      <th>PREÇO MÉDIO REVENDA</th>\n      <th>DESVIO PADRÃO REVENDA</th>\n      <th>PREÇO MÍNIMO REVENDA</th>\n      <th>PREÇO MÁXIMO REVENDA</th>\n      <th>MARGEM MÉDIA REVENDA</th>\n      <th>COEF DE VARIAÇÃO REVENDA</th>\n      <th>PREÇO MÉDIO DISTRIBUIÇÃO</th>\n      <th>DESVIO PADRÃO DISTRIBUIÇÃO</th>\n      <th>PREÇO MÍNIMO DISTRIBUIÇÃO</th>\n      <th>PREÇO MÁXIMO DISTRIBUIÇÃO</th>\n      <th>COEF DE VARIAÇÃO DISTRIBUIÇÃO</th>\n    </tr>\n  </thead>\n  <tbody>\n    <tr>\n      <th>0</th>\n      <td>2004-05-09</td>\n      <td>2004-05-15</td>\n      <td>CENTRO OESTE</td>\n      <td>DISTRITO FEDERAL</td>\n      <td>ETANOL HIDRATADO</td>\n      <td>127</td>\n      <td>R$/l</td>\n      <td>1.288</td>\n      <td>0.016</td>\n      <td>1.190</td>\n      <td>1.350</td>\n      <td>0.463</td>\n      <td>0.012</td>\n      <td>0.825</td>\n      <td>0.11</td>\n      <td>0.4201</td>\n      <td>0.9666</td>\n      <td>0.133</td>\n    </tr>\n    <tr>\n      <th>1</th>\n      <td>2004-05-09</td>\n      <td>2004-05-15</td>\n      <td>CENTRO OESTE</td>\n      <td>GOIAS</td>\n      <td>ETANOL HIDRATADO</td>\n      <td>387</td>\n      <td>R$/l</td>\n      <td>1.162</td>\n      <td>0.114</td>\n      <td>0.890</td>\n      <td>1.449</td>\n      <td>0.399</td>\n      <td>0.098</td>\n      <td>0.763</td>\n      <td>0.088</td>\n      <td>0.5013</td>\n      <td>1.05</td>\n      <td>0.115</td>\n    </tr>\n    <tr>\n      <th>2</th>\n      <td>2004-05-09</td>\n      <td>2004-05-15</td>\n      <td>CENTRO OESTE</td>\n      <td>MATO GROSSO</td>\n      <td>ETANOL HIDRATADO</td>\n      <td>192</td>\n      <td>R$/l</td>\n      <td>1.389</td>\n      <td>0.097</td>\n      <td>1.180</td>\n      <td>1.760</td>\n      <td>0.419</td>\n      <td>0.070</td>\n      <td>0.97</td>\n      <td>0.095</td>\n      <td>0.5614</td>\n      <td>1.161</td>\n      <td>0.098</td>\n    </tr>\n    <tr>\n      <th>3</th>\n      <td>2004-05-09</td>\n      <td>2004-05-15</td>\n      <td>CENTRO OESTE</td>\n      <td>MATO GROSSO DO SUL</td>\n      <td>ETANOL HIDRATADO</td>\n      <td>162</td>\n      <td>R$/l</td>\n      <td>1.262</td>\n      <td>0.070</td>\n      <td>1.090</td>\n      <td>1.509</td>\n      <td>0.432</td>\n      <td>0.055</td>\n      <td>0.83</td>\n      <td>0.119</td>\n      <td>0.5991</td>\n      <td>1.22242</td>\n      <td>0.143</td>\n    </tr>\n    <tr>\n      <th>4</th>\n      <td>2004-05-09</td>\n      <td>2004-05-15</td>\n      <td>NORDESTE</td>\n      <td>ALAGOAS</td>\n      <td>ETANOL HIDRATADO</td>\n      <td>103</td>\n      <td>R$/l</td>\n      <td>1.181</td>\n      <td>0.078</td>\n      <td>1.050</td>\n      <td>1.400</td>\n      <td>0.24</td>\n      <td>0.066</td>\n      <td>0.941</td>\n      <td>0.077</td>\n      <td>0.7441</td>\n      <td>1.0317</td>\n      <td>0.082</td>\n    </tr>\n    <tr>\n      <th>...</th>\n      <td>...</td>\n      <td>...</td>\n      <td>...</td>\n      <td>...</td>\n      <td>...</td>\n      <td>...</td>\n      <td>...</td>\n      <td>...</td>\n      <td>...</td>\n      <td>...</td>\n      <td>...</td>\n      <td>...</td>\n      <td>...</td>\n      <td>...</td>\n      <td>...</td>\n      <td>...</td>\n      <td>...</td>\n      <td>...</td>\n    </tr>\n    <tr>\n      <th>120818</th>\n      <td>2021-04-25</td>\n      <td>2021-05-01</td>\n      <td>NORTE</td>\n      <td>RORAIMA</td>\n      <td>OLEO DIESEL S10</td>\n      <td>12</td>\n      <td>R$/l</td>\n      <td>4.582</td>\n      <td>0.056</td>\n      <td>4.510</td>\n      <td>4.690</td>\n      <td>-99999.0</td>\n      <td>0.012</td>\n      <td>-99999.0</td>\n      <td>-99999.0</td>\n      <td>-99999.0</td>\n      <td>-99999.0</td>\n      <td>-99999.0</td>\n    </tr>\n    <tr>\n      <th>120819</th>\n      <td>2021-04-25</td>\n      <td>2021-05-01</td>\n      <td>SUL</td>\n      <td>SANTA CATARINA</td>\n      <td>OLEO DIESEL S10</td>\n      <td>100</td>\n      <td>R$/l</td>\n      <td>4.141</td>\n      <td>0.187</td>\n      <td>3.838</td>\n      <td>4.739</td>\n      <td>-99999.0</td>\n      <td>0.045</td>\n      <td>-99999.0</td>\n      <td>-99999.0</td>\n      <td>-99999.0</td>\n      <td>-99999.0</td>\n      <td>-99999.0</td>\n    </tr>\n    <tr>\n      <th>120820</th>\n      <td>2021-04-25</td>\n      <td>2021-05-01</td>\n      <td>SUDESTE</td>\n      <td>SAO PAULO</td>\n      <td>OLEO DIESEL S10</td>\n      <td>886</td>\n      <td>R$/l</td>\n      <td>4.246</td>\n      <td>0.216</td>\n      <td>3.769</td>\n      <td>5.199</td>\n      <td>-99999.0</td>\n      <td>0.051</td>\n      <td>-99999.0</td>\n      <td>-99999.0</td>\n      <td>-99999.0</td>\n      <td>-99999.0</td>\n      <td>-99999.0</td>\n    </tr>\n    <tr>\n      <th>120821</th>\n      <td>2021-04-25</td>\n      <td>2021-05-01</td>\n      <td>NORDESTE</td>\n      <td>SERGIPE</td>\n      <td>OLEO DIESEL S10</td>\n      <td>33</td>\n      <td>R$/l</td>\n      <td>4.464</td>\n      <td>0.205</td>\n      <td>4.190</td>\n      <td>4.699</td>\n      <td>-99999.0</td>\n      <td>0.046</td>\n      <td>-99999.0</td>\n      <td>-99999.0</td>\n      <td>-99999.0</td>\n      <td>-99999.0</td>\n      <td>-99999.0</td>\n    </tr>\n    <tr>\n      <th>120822</th>\n      <td>2021-04-25</td>\n      <td>2021-05-01</td>\n      <td>NORTE</td>\n      <td>TOCANTINS</td>\n      <td>OLEO DIESEL S10</td>\n      <td>18</td>\n      <td>R$/l</td>\n      <td>4.352</td>\n      <td>0.156</td>\n      <td>4.199</td>\n      <td>4.699</td>\n      <td>-99999.0</td>\n      <td>0.036</td>\n      <td>-99999.0</td>\n      <td>-99999.0</td>\n      <td>-99999.0</td>\n      <td>-99999.0</td>\n      <td>-99999.0</td>\n    </tr>\n  </tbody>\n</table>\n<p>120823 rows × 18 columns</p>\n</div>"
          },
          "metadata": {}
        }
      ],
      "execution_count": 3
    },
    {
      "id": "greater-harvest",
      "cell_type": "markdown",
      "source": "### 1.2. Exibindo as primeiras linhas do Dataset\nA função `.head()` exibe as 5 primeiras linhas do dataset/tabela/Data Frame.",
      "metadata": {}
    },
    {
      "id": "continued-isaac",
      "cell_type": "code",
      "source": "data.head()",
      "metadata": {
        "trusted": true
      },
      "outputs": [
        {
          "execution_count": 197,
          "output_type": "execute_result",
          "data": {
            "text/plain": "  DATA INICIAL  DATA FINAL        REGIÃO              ESTADO  \\\n0   2004-05-09  2004-05-15  CENTRO OESTE    DISTRITO FEDERAL   \n1   2004-05-09  2004-05-15  CENTRO OESTE               GOIAS   \n2   2004-05-09  2004-05-15  CENTRO OESTE         MATO GROSSO   \n3   2004-05-09  2004-05-15  CENTRO OESTE  MATO GROSSO DO SUL   \n4   2004-05-09  2004-05-15      NORDESTE             ALAGOAS   \n\n            PRODUTO  NÚMERO DE POSTOS PESQUISADOS UNIDADE DE MEDIDA  \\\n0  ETANOL HIDRATADO                           127              R$/l   \n1  ETANOL HIDRATADO                           387              R$/l   \n2  ETANOL HIDRATADO                           192              R$/l   \n3  ETANOL HIDRATADO                           162              R$/l   \n4  ETANOL HIDRATADO                           103              R$/l   \n\n   PREÇO MÉDIO REVENDA  DESVIO PADRÃO REVENDA  PREÇO MÍNIMO REVENDA  \\\n0                1.288                  0.016                  1.19   \n1                1.162                  0.114                  0.89   \n2                1.389                  0.097                  1.18   \n3                1.262                  0.070                  1.09   \n4                1.181                  0.078                  1.05   \n\n   PREÇO MÁXIMO REVENDA MARGEM MÉDIA REVENDA  COEF DE VARIAÇÃO REVENDA  \\\n0                 1.350                0.463                     0.012   \n1                 1.449                0.399                     0.098   \n2                 1.760                0.419                     0.070   \n3                 1.509                0.432                     0.055   \n4                 1.400                 0.24                     0.066   \n\n  PREÇO MÉDIO DISTRIBUIÇÃO DESVIO PADRÃO DISTRIBUIÇÃO  \\\n0                    0.825                       0.11   \n1                    0.763                      0.088   \n2                     0.97                      0.095   \n3                     0.83                      0.119   \n4                    0.941                      0.077   \n\n  PREÇO MÍNIMO DISTRIBUIÇÃO PREÇO MÁXIMO DISTRIBUIÇÃO  \\\n0                    0.4201                    0.9666   \n1                    0.5013                      1.05   \n2                    0.5614                     1.161   \n3                    0.5991                   1.22242   \n4                    0.7441                    1.0317   \n\n  COEF DE VARIAÇÃO DISTRIBUIÇÃO  \n0                         0.133  \n1                         0.115  \n2                         0.098  \n3                         0.143  \n4                         0.082  ",
            "text/html": "<div>\n<style scoped>\n    .dataframe tbody tr th:only-of-type {\n        vertical-align: middle;\n    }\n\n    .dataframe tbody tr th {\n        vertical-align: top;\n    }\n\n    .dataframe thead th {\n        text-align: right;\n    }\n</style>\n<table border=\"1\" class=\"dataframe\">\n  <thead>\n    <tr style=\"text-align: right;\">\n      <th></th>\n      <th>DATA INICIAL</th>\n      <th>DATA FINAL</th>\n      <th>REGIÃO</th>\n      <th>ESTADO</th>\n      <th>PRODUTO</th>\n      <th>NÚMERO DE POSTOS PESQUISADOS</th>\n      <th>UNIDADE DE MEDIDA</th>\n      <th>PREÇO MÉDIO REVENDA</th>\n      <th>DESVIO PADRÃO REVENDA</th>\n      <th>PREÇO MÍNIMO REVENDA</th>\n      <th>PREÇO MÁXIMO REVENDA</th>\n      <th>MARGEM MÉDIA REVENDA</th>\n      <th>COEF DE VARIAÇÃO REVENDA</th>\n      <th>PREÇO MÉDIO DISTRIBUIÇÃO</th>\n      <th>DESVIO PADRÃO DISTRIBUIÇÃO</th>\n      <th>PREÇO MÍNIMO DISTRIBUIÇÃO</th>\n      <th>PREÇO MÁXIMO DISTRIBUIÇÃO</th>\n      <th>COEF DE VARIAÇÃO DISTRIBUIÇÃO</th>\n    </tr>\n  </thead>\n  <tbody>\n    <tr>\n      <th>0</th>\n      <td>2004-05-09</td>\n      <td>2004-05-15</td>\n      <td>CENTRO OESTE</td>\n      <td>DISTRITO FEDERAL</td>\n      <td>ETANOL HIDRATADO</td>\n      <td>127</td>\n      <td>R$/l</td>\n      <td>1.288</td>\n      <td>0.016</td>\n      <td>1.19</td>\n      <td>1.350</td>\n      <td>0.463</td>\n      <td>0.012</td>\n      <td>0.825</td>\n      <td>0.11</td>\n      <td>0.4201</td>\n      <td>0.9666</td>\n      <td>0.133</td>\n    </tr>\n    <tr>\n      <th>1</th>\n      <td>2004-05-09</td>\n      <td>2004-05-15</td>\n      <td>CENTRO OESTE</td>\n      <td>GOIAS</td>\n      <td>ETANOL HIDRATADO</td>\n      <td>387</td>\n      <td>R$/l</td>\n      <td>1.162</td>\n      <td>0.114</td>\n      <td>0.89</td>\n      <td>1.449</td>\n      <td>0.399</td>\n      <td>0.098</td>\n      <td>0.763</td>\n      <td>0.088</td>\n      <td>0.5013</td>\n      <td>1.05</td>\n      <td>0.115</td>\n    </tr>\n    <tr>\n      <th>2</th>\n      <td>2004-05-09</td>\n      <td>2004-05-15</td>\n      <td>CENTRO OESTE</td>\n      <td>MATO GROSSO</td>\n      <td>ETANOL HIDRATADO</td>\n      <td>192</td>\n      <td>R$/l</td>\n      <td>1.389</td>\n      <td>0.097</td>\n      <td>1.18</td>\n      <td>1.760</td>\n      <td>0.419</td>\n      <td>0.070</td>\n      <td>0.97</td>\n      <td>0.095</td>\n      <td>0.5614</td>\n      <td>1.161</td>\n      <td>0.098</td>\n    </tr>\n    <tr>\n      <th>3</th>\n      <td>2004-05-09</td>\n      <td>2004-05-15</td>\n      <td>CENTRO OESTE</td>\n      <td>MATO GROSSO DO SUL</td>\n      <td>ETANOL HIDRATADO</td>\n      <td>162</td>\n      <td>R$/l</td>\n      <td>1.262</td>\n      <td>0.070</td>\n      <td>1.09</td>\n      <td>1.509</td>\n      <td>0.432</td>\n      <td>0.055</td>\n      <td>0.83</td>\n      <td>0.119</td>\n      <td>0.5991</td>\n      <td>1.22242</td>\n      <td>0.143</td>\n    </tr>\n    <tr>\n      <th>4</th>\n      <td>2004-05-09</td>\n      <td>2004-05-15</td>\n      <td>NORDESTE</td>\n      <td>ALAGOAS</td>\n      <td>ETANOL HIDRATADO</td>\n      <td>103</td>\n      <td>R$/l</td>\n      <td>1.181</td>\n      <td>0.078</td>\n      <td>1.05</td>\n      <td>1.400</td>\n      <td>0.24</td>\n      <td>0.066</td>\n      <td>0.941</td>\n      <td>0.077</td>\n      <td>0.7441</td>\n      <td>1.0317</td>\n      <td>0.082</td>\n    </tr>\n  </tbody>\n</table>\n</div>"
          },
          "metadata": {}
        }
      ],
      "execution_count": 197
    },
    {
      "id": "selective-danish",
      "cell_type": "code",
      "source": "data.head(10)",
      "metadata": {
        "trusted": true
      },
      "outputs": [
        {
          "execution_count": 7,
          "output_type": "execute_result",
          "data": {
            "text/plain": "  DATA INICIAL  DATA FINAL        REGIÃO              ESTADO  \\\n0   2004-05-09  2004-05-15  CENTRO OESTE    DISTRITO FEDERAL   \n1   2004-05-09  2004-05-15  CENTRO OESTE               GOIAS   \n2   2004-05-09  2004-05-15  CENTRO OESTE         MATO GROSSO   \n3   2004-05-09  2004-05-15  CENTRO OESTE  MATO GROSSO DO SUL   \n4   2004-05-09  2004-05-15      NORDESTE             ALAGOAS   \n5   2004-05-09  2004-05-15      NORDESTE               BAHIA   \n6   2004-05-09  2004-05-15      NORDESTE               CEARA   \n7   2004-05-09  2004-05-15      NORDESTE            MARANHAO   \n8   2004-05-09  2004-05-15      NORDESTE             PARAIBA   \n9   2004-05-09  2004-05-15      NORDESTE          PERNAMBUCO   \n\n            PRODUTO  NÚMERO DE POSTOS PESQUISADOS UNIDADE DE MEDIDA  \\\n0  ETANOL HIDRATADO                           127              R$/l   \n1  ETANOL HIDRATADO                           387              R$/l   \n2  ETANOL HIDRATADO                           192              R$/l   \n3  ETANOL HIDRATADO                           162              R$/l   \n4  ETANOL HIDRATADO                           103              R$/l   \n5  ETANOL HIDRATADO                           408              R$/l   \n6  ETANOL HIDRATADO                           278              R$/l   \n7  ETANOL HIDRATADO                           105              R$/l   \n8  ETANOL HIDRATADO                           125              R$/l   \n9  ETANOL HIDRATADO                           423              R$/l   \n\n   PREÇO MÉDIO REVENDA  DESVIO PADRÃO REVENDA  PREÇO MÍNIMO REVENDA  \\\n0                1.288                  0.016                 1.190   \n1                1.162                  0.114                 0.890   \n2                1.389                  0.097                 1.180   \n3                1.262                  0.070                 1.090   \n4                1.181                  0.078                 1.050   \n5                1.383                  0.132                 0.999   \n6                1.453                  0.218                 1.030   \n7                1.631                  0.158                 1.350   \n8                1.284                  0.130                 1.100   \n9                1.224                  0.141                 0.989   \n\n   PREÇO MÁXIMO REVENDA MARGEM MÉDIA REVENDA  COEF DE VARIAÇÃO REVENDA  \\\n0                 1.350                0.463                     0.012   \n1                 1.449                0.399                     0.098   \n2                 1.760                0.419                     0.070   \n3                 1.509                0.432                     0.055   \n4                 1.400                 0.24                     0.066   \n5                 2.050                0.426                     0.095   \n6                 1.950                0.353                     0.150   \n7                 2.000                0.515                     0.097   \n8                 1.699                0.353                     0.101   \n9                 1.700                0.277                     0.115   \n\n  PREÇO MÉDIO DISTRIBUIÇÃO DESVIO PADRÃO DISTRIBUIÇÃO  \\\n0                    0.825                       0.11   \n1                    0.763                      0.088   \n2                     0.97                      0.095   \n3                     0.83                      0.119   \n4                    0.941                      0.077   \n5                    0.957                      0.128   \n6                      1.1                      0.068   \n7                    1.116                      0.091   \n8                    0.931                      0.072   \n9                    0.947                      0.091   \n\n  PREÇO MÍNIMO DISTRIBUIÇÃO PREÇO MÁXIMO DISTRIBUIÇÃO  \\\n0                    0.4201                    0.9666   \n1                    0.5013                      1.05   \n2                    0.5614                     1.161   \n3                    0.5991                   1.22242   \n4                    0.7441                    1.0317   \n5                    0.5686                      1.35   \n6                    0.7332                     1.294   \n7                    0.9923                   1.36183   \n8                    0.7577                    1.2972   \n9                    0.5643                    1.3541   \n\n  COEF DE VARIAÇÃO DISTRIBUIÇÃO  \n0                         0.133  \n1                         0.115  \n2                         0.098  \n3                         0.143  \n4                         0.082  \n5                         0.134  \n6                         0.062  \n7                         0.082  \n8                         0.077  \n9                         0.096  ",
            "text/html": "<div>\n<style scoped>\n    .dataframe tbody tr th:only-of-type {\n        vertical-align: middle;\n    }\n\n    .dataframe tbody tr th {\n        vertical-align: top;\n    }\n\n    .dataframe thead th {\n        text-align: right;\n    }\n</style>\n<table border=\"1\" class=\"dataframe\">\n  <thead>\n    <tr style=\"text-align: right;\">\n      <th></th>\n      <th>DATA INICIAL</th>\n      <th>DATA FINAL</th>\n      <th>REGIÃO</th>\n      <th>ESTADO</th>\n      <th>PRODUTO</th>\n      <th>NÚMERO DE POSTOS PESQUISADOS</th>\n      <th>UNIDADE DE MEDIDA</th>\n      <th>PREÇO MÉDIO REVENDA</th>\n      <th>DESVIO PADRÃO REVENDA</th>\n      <th>PREÇO MÍNIMO REVENDA</th>\n      <th>PREÇO MÁXIMO REVENDA</th>\n      <th>MARGEM MÉDIA REVENDA</th>\n      <th>COEF DE VARIAÇÃO REVENDA</th>\n      <th>PREÇO MÉDIO DISTRIBUIÇÃO</th>\n      <th>DESVIO PADRÃO DISTRIBUIÇÃO</th>\n      <th>PREÇO MÍNIMO DISTRIBUIÇÃO</th>\n      <th>PREÇO MÁXIMO DISTRIBUIÇÃO</th>\n      <th>COEF DE VARIAÇÃO DISTRIBUIÇÃO</th>\n    </tr>\n  </thead>\n  <tbody>\n    <tr>\n      <th>0</th>\n      <td>2004-05-09</td>\n      <td>2004-05-15</td>\n      <td>CENTRO OESTE</td>\n      <td>DISTRITO FEDERAL</td>\n      <td>ETANOL HIDRATADO</td>\n      <td>127</td>\n      <td>R$/l</td>\n      <td>1.288</td>\n      <td>0.016</td>\n      <td>1.190</td>\n      <td>1.350</td>\n      <td>0.463</td>\n      <td>0.012</td>\n      <td>0.825</td>\n      <td>0.11</td>\n      <td>0.4201</td>\n      <td>0.9666</td>\n      <td>0.133</td>\n    </tr>\n    <tr>\n      <th>1</th>\n      <td>2004-05-09</td>\n      <td>2004-05-15</td>\n      <td>CENTRO OESTE</td>\n      <td>GOIAS</td>\n      <td>ETANOL HIDRATADO</td>\n      <td>387</td>\n      <td>R$/l</td>\n      <td>1.162</td>\n      <td>0.114</td>\n      <td>0.890</td>\n      <td>1.449</td>\n      <td>0.399</td>\n      <td>0.098</td>\n      <td>0.763</td>\n      <td>0.088</td>\n      <td>0.5013</td>\n      <td>1.05</td>\n      <td>0.115</td>\n    </tr>\n    <tr>\n      <th>2</th>\n      <td>2004-05-09</td>\n      <td>2004-05-15</td>\n      <td>CENTRO OESTE</td>\n      <td>MATO GROSSO</td>\n      <td>ETANOL HIDRATADO</td>\n      <td>192</td>\n      <td>R$/l</td>\n      <td>1.389</td>\n      <td>0.097</td>\n      <td>1.180</td>\n      <td>1.760</td>\n      <td>0.419</td>\n      <td>0.070</td>\n      <td>0.97</td>\n      <td>0.095</td>\n      <td>0.5614</td>\n      <td>1.161</td>\n      <td>0.098</td>\n    </tr>\n    <tr>\n      <th>3</th>\n      <td>2004-05-09</td>\n      <td>2004-05-15</td>\n      <td>CENTRO OESTE</td>\n      <td>MATO GROSSO DO SUL</td>\n      <td>ETANOL HIDRATADO</td>\n      <td>162</td>\n      <td>R$/l</td>\n      <td>1.262</td>\n      <td>0.070</td>\n      <td>1.090</td>\n      <td>1.509</td>\n      <td>0.432</td>\n      <td>0.055</td>\n      <td>0.83</td>\n      <td>0.119</td>\n      <td>0.5991</td>\n      <td>1.22242</td>\n      <td>0.143</td>\n    </tr>\n    <tr>\n      <th>4</th>\n      <td>2004-05-09</td>\n      <td>2004-05-15</td>\n      <td>NORDESTE</td>\n      <td>ALAGOAS</td>\n      <td>ETANOL HIDRATADO</td>\n      <td>103</td>\n      <td>R$/l</td>\n      <td>1.181</td>\n      <td>0.078</td>\n      <td>1.050</td>\n      <td>1.400</td>\n      <td>0.24</td>\n      <td>0.066</td>\n      <td>0.941</td>\n      <td>0.077</td>\n      <td>0.7441</td>\n      <td>1.0317</td>\n      <td>0.082</td>\n    </tr>\n    <tr>\n      <th>5</th>\n      <td>2004-05-09</td>\n      <td>2004-05-15</td>\n      <td>NORDESTE</td>\n      <td>BAHIA</td>\n      <td>ETANOL HIDRATADO</td>\n      <td>408</td>\n      <td>R$/l</td>\n      <td>1.383</td>\n      <td>0.132</td>\n      <td>0.999</td>\n      <td>2.050</td>\n      <td>0.426</td>\n      <td>0.095</td>\n      <td>0.957</td>\n      <td>0.128</td>\n      <td>0.5686</td>\n      <td>1.35</td>\n      <td>0.134</td>\n    </tr>\n    <tr>\n      <th>6</th>\n      <td>2004-05-09</td>\n      <td>2004-05-15</td>\n      <td>NORDESTE</td>\n      <td>CEARA</td>\n      <td>ETANOL HIDRATADO</td>\n      <td>278</td>\n      <td>R$/l</td>\n      <td>1.453</td>\n      <td>0.218</td>\n      <td>1.030</td>\n      <td>1.950</td>\n      <td>0.353</td>\n      <td>0.150</td>\n      <td>1.1</td>\n      <td>0.068</td>\n      <td>0.7332</td>\n      <td>1.294</td>\n      <td>0.062</td>\n    </tr>\n    <tr>\n      <th>7</th>\n      <td>2004-05-09</td>\n      <td>2004-05-15</td>\n      <td>NORDESTE</td>\n      <td>MARANHAO</td>\n      <td>ETANOL HIDRATADO</td>\n      <td>105</td>\n      <td>R$/l</td>\n      <td>1.631</td>\n      <td>0.158</td>\n      <td>1.350</td>\n      <td>2.000</td>\n      <td>0.515</td>\n      <td>0.097</td>\n      <td>1.116</td>\n      <td>0.091</td>\n      <td>0.9923</td>\n      <td>1.36183</td>\n      <td>0.082</td>\n    </tr>\n    <tr>\n      <th>8</th>\n      <td>2004-05-09</td>\n      <td>2004-05-15</td>\n      <td>NORDESTE</td>\n      <td>PARAIBA</td>\n      <td>ETANOL HIDRATADO</td>\n      <td>125</td>\n      <td>R$/l</td>\n      <td>1.284</td>\n      <td>0.130</td>\n      <td>1.100</td>\n      <td>1.699</td>\n      <td>0.353</td>\n      <td>0.101</td>\n      <td>0.931</td>\n      <td>0.072</td>\n      <td>0.7577</td>\n      <td>1.2972</td>\n      <td>0.077</td>\n    </tr>\n    <tr>\n      <th>9</th>\n      <td>2004-05-09</td>\n      <td>2004-05-15</td>\n      <td>NORDESTE</td>\n      <td>PERNAMBUCO</td>\n      <td>ETANOL HIDRATADO</td>\n      <td>423</td>\n      <td>R$/l</td>\n      <td>1.224</td>\n      <td>0.141</td>\n      <td>0.989</td>\n      <td>1.700</td>\n      <td>0.277</td>\n      <td>0.115</td>\n      <td>0.947</td>\n      <td>0.091</td>\n      <td>0.5643</td>\n      <td>1.3541</td>\n      <td>0.096</td>\n    </tr>\n  </tbody>\n</table>\n</div>"
          },
          "metadata": {}
        }
      ],
      "execution_count": 7
    },
    {
      "id": "naval-relation",
      "cell_type": "markdown",
      "source": "### 1.3 Informações do Dataset e Elementos Chave",
      "metadata": {}
    },
    {
      "id": "southern-collaboration",
      "cell_type": "markdown",
      "source": "### 1.3.1 Informações gerais sobre o Dataset",
      "metadata": {}
    },
    {
      "id": "abstract-component",
      "cell_type": "code",
      "source": "data.info()",
      "metadata": {
        "trusted": true
      },
      "outputs": [
        {
          "name": "stdout",
          "output_type": "stream",
          "text": "<class 'pandas.core.frame.DataFrame'>\nRangeIndex: 120823 entries, 0 to 120822\nData columns (total 18 columns):\n #   Column                         Non-Null Count   Dtype  \n---  ------                         --------------   -----  \n 0   DATA INICIAL                   120823 non-null  object \n 1   DATA FINAL                     120823 non-null  object \n 2   REGIÃO                         120823 non-null  object \n 3   ESTADO                         120823 non-null  object \n 4   PRODUTO                        120823 non-null  object \n 5   NÚMERO DE POSTOS PESQUISADOS   120823 non-null  int64  \n 6   UNIDADE DE MEDIDA              120823 non-null  object \n 7   PREÇO MÉDIO REVENDA            120823 non-null  float64\n 8   DESVIO PADRÃO REVENDA          120823 non-null  float64\n 9   PREÇO MÍNIMO REVENDA           120823 non-null  float64\n 10  PREÇO MÁXIMO REVENDA           120823 non-null  float64\n 11  MARGEM MÉDIA REVENDA           120823 non-null  object \n 12  COEF DE VARIAÇÃO REVENDA       120823 non-null  float64\n 13  PREÇO MÉDIO DISTRIBUIÇÃO       120823 non-null  object \n 14  DESVIO PADRÃO DISTRIBUIÇÃO     120823 non-null  object \n 15  PREÇO MÍNIMO DISTRIBUIÇÃO      120823 non-null  object \n 16  PREÇO MÁXIMO DISTRIBUIÇÃO      120823 non-null  object \n 17  COEF DE VARIAÇÃO DISTRIBUIÇÃO  120823 non-null  object \ndtypes: float64(5), int64(1), object(12)\nmemory usage: 11.1+ MB\n"
        }
      ],
      "execution_count": 9
    },
    {
      "id": "expressed-amber",
      "cell_type": "markdown",
      "source": "A primeira coluna da tabela, chamada _'Unnamed: 0'_, parece não significar nada. Na verdade, ela parece ser os **índices** da tabela, que foram salvos como uma _coluna_.<br/>\nVeremos jajá como **remover tal coluna**.\n\nOutro ponto é que, aparentemente, nenhum atributo/coluna possui valores nulos (_null_), uma vez que o número de registros do dataframe e os números de valores _non-null_ é de **106823**. <br/>\nMas, veremos que não é bem assim para esse caso.",
      "metadata": {}
    },
    {
      "id": "nasty-singing",
      "cell_type": "markdown",
      "source": "### 1.3.2 Data Frame\nTodo dataset carregado (dados estruturados) é um `Data Frame`: 'Tabela' bi-dimensional, de tamanho mutável, com dados potencialmente heterogêneos. <br/>",
      "metadata": {}
    },
    {
      "id": "micro-progress",
      "cell_type": "code",
      "source": "type(data)",
      "metadata": {
        "trusted": true
      },
      "outputs": [
        {
          "execution_count": 10,
          "output_type": "execute_result",
          "data": {
            "text/plain": "pandas.core.frame.DataFrame"
          },
          "metadata": {}
        }
      ],
      "execution_count": 10
    },
    {
      "id": "educated-fourth",
      "cell_type": "markdown",
      "source": "Podemos acessar as **dimensões do Data Frame** (número de linhas x número de colunas) utilizando o atributo `.shape` do Data Frame.",
      "metadata": {}
    },
    {
      "id": "detected-prediction",
      "cell_type": "code",
      "source": "data.shape",
      "metadata": {
        "trusted": true
      },
      "outputs": [
        {
          "execution_count": 8,
          "output_type": "execute_result",
          "data": {
            "text/plain": "(120823, 18)"
          },
          "metadata": {}
        }
      ],
      "execution_count": 8
    },
    {
      "id": "fallen-distance",
      "cell_type": "code",
      "source": "print(f'O DataFrame possui {data.shape[0]} linhas/observações e {data.shape[1]} colunas/atributos.')",
      "metadata": {
        "trusted": true
      },
      "outputs": [
        {
          "name": "stdout",
          "output_type": "stream",
          "text": "O DataFrame possui 120823 linhas/observações e 18 colunas/atributos.\n"
        }
      ],
      "execution_count": 12
    },
    {
      "id": "binary-sussex",
      "cell_type": "markdown",
      "source": "#### **Criando um DataFrame**\n\nPodemos criar um DataFrame a partir de um _dicionário_, onde cada **chave** possui uma **lista de elementos de igual tamanho**.<br/>\nAs **chaves** representam as **colunas** e **cada um dos valores de sua lista** representa o **valor da linha** correspondente para aquela coluna.",
      "metadata": {}
    },
    {
      "id": "beneficial-passport",
      "cell_type": "code",
      "source": "personagens_df = pd.DataFrame({\n    'nome': ['Luke Skywalker', 'Yoda', 'Palpatine'],\n    'idade': [16, 1000, 70],\n    'peso': [70.5, 15.2, 60.1],\n    'eh jedi': [True, True, False]\n})",
      "metadata": {
        "trusted": true
      },
      "outputs": [],
      "execution_count": 16
    },
    {
      "id": "great-relief",
      "cell_type": "code",
      "source": "personagens_df",
      "metadata": {
        "trusted": true
      },
      "outputs": [
        {
          "execution_count": 18,
          "output_type": "execute_result",
          "data": {
            "text/plain": "             nome  idade  peso  eh jedi\n0  Luke Skywalker     16  70.5     True\n1            Yoda   1000  15.2     True\n2       Palpatine     70  60.1    False",
            "text/html": "<div>\n<style scoped>\n    .dataframe tbody tr th:only-of-type {\n        vertical-align: middle;\n    }\n\n    .dataframe tbody tr th {\n        vertical-align: top;\n    }\n\n    .dataframe thead th {\n        text-align: right;\n    }\n</style>\n<table border=\"1\" class=\"dataframe\">\n  <thead>\n    <tr style=\"text-align: right;\">\n      <th></th>\n      <th>nome</th>\n      <th>idade</th>\n      <th>peso</th>\n      <th>eh jedi</th>\n    </tr>\n  </thead>\n  <tbody>\n    <tr>\n      <th>0</th>\n      <td>Luke Skywalker</td>\n      <td>16</td>\n      <td>70.5</td>\n      <td>True</td>\n    </tr>\n    <tr>\n      <th>1</th>\n      <td>Yoda</td>\n      <td>1000</td>\n      <td>15.2</td>\n      <td>True</td>\n    </tr>\n    <tr>\n      <th>2</th>\n      <td>Palpatine</td>\n      <td>70</td>\n      <td>60.1</td>\n      <td>False</td>\n    </tr>\n  </tbody>\n</table>\n</div>"
          },
          "metadata": {}
        }
      ],
      "execution_count": 18
    },
    {
      "id": "elegant-profit",
      "cell_type": "markdown",
      "source": "#### **VEJA MAIS**\nCriando um Data Frame a partir de um dicionário: https://www.geeksforgeeks.org/how-to-create-dataframe-from-dictionary-in-python-pandas/",
      "metadata": {
        "jp-MarkdownHeadingCollapsed": true
      }
    },
    {
      "id": "laden-trance",
      "cell_type": "markdown",
      "source": "#### **Renomeando as colunas de um DataFrame**\n**===>** O método `DataFrame.columns` retorna uma \";lista\" com os **nomes de todas as colunas** do data frame.",
      "metadata": {}
    },
    {
      "id": "impaired-spain",
      "cell_type": "code",
      "source": "personagens_df.columns",
      "metadata": {
        "trusted": true
      },
      "outputs": [
        {
          "execution_count": 19,
          "output_type": "execute_result",
          "data": {
            "text/plain": "Index(['nome', 'idade', 'peso', 'eh jedi'], dtype='object')"
          },
          "metadata": {}
        }
      ],
      "execution_count": 19
    },
    {
      "id": "detected-ceramic",
      "cell_type": "code",
      "source": "type(personagens_df.columns)",
      "metadata": {
        "trusted": true
      },
      "outputs": [
        {
          "execution_count": 23,
          "output_type": "execute_result",
          "data": {
            "text/plain": "pandas.core.indexes.base.Index"
          },
          "metadata": {}
        }
      ],
      "execution_count": 23
    },
    {
      "id": "conditional-password",
      "cell_type": "code",
      "source": "list(personagens_df.columns)",
      "metadata": {
        "trusted": true
      },
      "outputs": [
        {
          "execution_count": 26,
          "output_type": "execute_result",
          "data": {
            "text/plain": "['nome', 'idade', 'peso', 'eh jedi']"
          },
          "metadata": {}
        }
      ],
      "execution_count": 26
    },
    {
      "id": "geographic-wages",
      "cell_type": "markdown",
      "source": "<br/>\n\n**===>** Para **renomear colunas** do data frame, utilize o método `DataFrame.rename`, que retorna uma _cópia_ do data frame com as as colunas renomeadas:",
      "metadata": {}
    },
    {
      "id": "adopted-charlotte",
      "cell_type": "code",
      "source": "personagens_df_renomeado = personagens_df.rename(columns={\n    'nome': 'Nome Completo',\n    'idade': 'Idade'\n})",
      "metadata": {
        "trusted": true
      },
      "outputs": [],
      "execution_count": 29
    },
    {
      "id": "infinite-christian",
      "cell_type": "code",
      "source": "personagens_df_renomeado",
      "metadata": {
        "trusted": true
      },
      "outputs": [
        {
          "execution_count": 30,
          "output_type": "execute_result",
          "data": {
            "text/plain": "    Nome Completo  Idade  peso  eh jedi\n0  Luke Skywalker     16  70.5     True\n1            Yoda   1000  15.2     True\n2       Palpatine     70  60.1    False",
            "text/html": "<div>\n<style scoped>\n    .dataframe tbody tr th:only-of-type {\n        vertical-align: middle;\n    }\n\n    .dataframe tbody tr th {\n        vertical-align: top;\n    }\n\n    .dataframe thead th {\n        text-align: right;\n    }\n</style>\n<table border=\"1\" class=\"dataframe\">\n  <thead>\n    <tr style=\"text-align: right;\">\n      <th></th>\n      <th>Nome Completo</th>\n      <th>Idade</th>\n      <th>peso</th>\n      <th>eh jedi</th>\n    </tr>\n  </thead>\n  <tbody>\n    <tr>\n      <th>0</th>\n      <td>Luke Skywalker</td>\n      <td>16</td>\n      <td>70.5</td>\n      <td>True</td>\n    </tr>\n    <tr>\n      <th>1</th>\n      <td>Yoda</td>\n      <td>1000</td>\n      <td>15.2</td>\n      <td>True</td>\n    </tr>\n    <tr>\n      <th>2</th>\n      <td>Palpatine</td>\n      <td>70</td>\n      <td>60.1</td>\n      <td>False</td>\n    </tr>\n  </tbody>\n</table>\n</div>"
          },
          "metadata": {}
        }
      ],
      "execution_count": 30
    },
    {
      "id": "violent-inspector",
      "cell_type": "code",
      "source": "personagens_df",
      "metadata": {
        "trusted": true
      },
      "outputs": [
        {
          "execution_count": 31,
          "output_type": "execute_result",
          "data": {
            "text/plain": "             nome  idade  peso  eh jedi\n0  Luke Skywalker     16  70.5     True\n1            Yoda   1000  15.2     True\n2       Palpatine     70  60.1    False",
            "text/html": "<div>\n<style scoped>\n    .dataframe tbody tr th:only-of-type {\n        vertical-align: middle;\n    }\n\n    .dataframe tbody tr th {\n        vertical-align: top;\n    }\n\n    .dataframe thead th {\n        text-align: right;\n    }\n</style>\n<table border=\"1\" class=\"dataframe\">\n  <thead>\n    <tr style=\"text-align: right;\">\n      <th></th>\n      <th>nome</th>\n      <th>idade</th>\n      <th>peso</th>\n      <th>eh jedi</th>\n    </tr>\n  </thead>\n  <tbody>\n    <tr>\n      <th>0</th>\n      <td>Luke Skywalker</td>\n      <td>16</td>\n      <td>70.5</td>\n      <td>True</td>\n    </tr>\n    <tr>\n      <th>1</th>\n      <td>Yoda</td>\n      <td>1000</td>\n      <td>15.2</td>\n      <td>True</td>\n    </tr>\n    <tr>\n      <th>2</th>\n      <td>Palpatine</td>\n      <td>70</td>\n      <td>60.1</td>\n      <td>False</td>\n    </tr>\n  </tbody>\n</table>\n</div>"
          },
          "metadata": {}
        }
      ],
      "execution_count": 31
    },
    {
      "id": "personalized-belize",
      "cell_type": "markdown",
      "source": "Para renomear o _próprio_ data frame em questão, utilize o parâmetro `inplace=True`:",
      "metadata": {}
    },
    {
      "id": "nonprofit-missouri",
      "cell_type": "code",
      "source": "personagens_df.rename(columns={\n    'nome': 'Nome Completo',\n    'idade': 'Idade'}, inplace=True)",
      "metadata": {
        "trusted": true
      },
      "outputs": [],
      "execution_count": 35
    },
    {
      "id": "nervous-placement",
      "cell_type": "code",
      "source": "personagens_df",
      "metadata": {
        "trusted": true
      },
      "outputs": [
        {
          "execution_count": 36,
          "output_type": "execute_result",
          "data": {
            "text/plain": "    Nome Completo  Idade  peso  eh jedi\n0  Luke Skywalker     16  70.5     True\n1            Yoda   1000  15.2     True\n2       Palpatine     70  60.1    False",
            "text/html": "<div>\n<style scoped>\n    .dataframe tbody tr th:only-of-type {\n        vertical-align: middle;\n    }\n\n    .dataframe tbody tr th {\n        vertical-align: top;\n    }\n\n    .dataframe thead th {\n        text-align: right;\n    }\n</style>\n<table border=\"1\" class=\"dataframe\">\n  <thead>\n    <tr style=\"text-align: right;\">\n      <th></th>\n      <th>Nome Completo</th>\n      <th>Idade</th>\n      <th>peso</th>\n      <th>eh jedi</th>\n    </tr>\n  </thead>\n  <tbody>\n    <tr>\n      <th>0</th>\n      <td>Luke Skywalker</td>\n      <td>16</td>\n      <td>70.5</td>\n      <td>True</td>\n    </tr>\n    <tr>\n      <th>1</th>\n      <td>Yoda</td>\n      <td>1000</td>\n      <td>15.2</td>\n      <td>True</td>\n    </tr>\n    <tr>\n      <th>2</th>\n      <td>Palpatine</td>\n      <td>70</td>\n      <td>60.1</td>\n      <td>False</td>\n    </tr>\n  </tbody>\n</table>\n</div>"
          },
          "metadata": {}
        }
      ],
      "execution_count": 36
    },
    {
      "id": "prompt-childhood",
      "cell_type": "markdown",
      "source": "<br/>\n\n**===>** Uma outra forma de **renomear todas as listas** de um data frame é passar uma _lista_ com os novos nomes das colunas para o atributo `DataFrame.columns`:",
      "metadata": {}
    },
    {
      "id": "bright-procurement",
      "cell_type": "code",
      "source": "personagens_df.columns",
      "metadata": {
        "trusted": true
      },
      "outputs": [
        {
          "execution_count": 37,
          "output_type": "execute_result",
          "data": {
            "text/plain": "Index(['Nome Completo', 'Idade', 'peso', 'eh jedi'], dtype='object')"
          },
          "metadata": {}
        }
      ],
      "execution_count": 37
    },
    {
      "id": "operational-authority",
      "cell_type": "code",
      "source": "personagens_df.columns = ['NOME', 'IDADE', 'PESO', 'EH JEDI']",
      "metadata": {
        "trusted": true
      },
      "outputs": [],
      "execution_count": 40
    },
    {
      "id": "authorized-indicator",
      "cell_type": "code",
      "source": "personagens_df",
      "metadata": {
        "trusted": true
      },
      "outputs": [
        {
          "execution_count": 41,
          "output_type": "execute_result",
          "data": {
            "text/plain": "             NOME  IDADE  PESO  EH JEDI\n0  Luke Skywalker     16  70.5     True\n1            Yoda   1000  15.2     True\n2       Palpatine     70  60.1    False",
            "text/html": "<div>\n<style scoped>\n    .dataframe tbody tr th:only-of-type {\n        vertical-align: middle;\n    }\n\n    .dataframe tbody tr th {\n        vertical-align: top;\n    }\n\n    .dataframe thead th {\n        text-align: right;\n    }\n</style>\n<table border=\"1\" class=\"dataframe\">\n  <thead>\n    <tr style=\"text-align: right;\">\n      <th></th>\n      <th>NOME</th>\n      <th>IDADE</th>\n      <th>PESO</th>\n      <th>EH JEDI</th>\n    </tr>\n  </thead>\n  <tbody>\n    <tr>\n      <th>0</th>\n      <td>Luke Skywalker</td>\n      <td>16</td>\n      <td>70.5</td>\n      <td>True</td>\n    </tr>\n    <tr>\n      <th>1</th>\n      <td>Yoda</td>\n      <td>1000</td>\n      <td>15.2</td>\n      <td>True</td>\n    </tr>\n    <tr>\n      <th>2</th>\n      <td>Palpatine</td>\n      <td>70</td>\n      <td>60.1</td>\n      <td>False</td>\n    </tr>\n  </tbody>\n</table>\n</div>"
          },
          "metadata": {}
        }
      ],
      "execution_count": 41
    },
    {
      "id": "lonely-sister",
      "cell_type": "markdown",
      "source": "### 1.3.3 Series",
      "metadata": {}
    },
    {
      "id": "cheap-dressing",
      "cell_type": "markdown",
      "source": "Array uni-dimensional com os dados e rótulos de um eixo.",
      "metadata": {}
    },
    {
      "id": "bacterial-country",
      "cell_type": "code",
      "source": "data.head()",
      "metadata": {
        "trusted": true
      },
      "outputs": [
        {
          "execution_count": 42,
          "output_type": "execute_result",
          "data": {
            "text/plain": "  DATA INICIAL  DATA FINAL        REGIÃO              ESTADO  \\\n0   2004-05-09  2004-05-15  CENTRO OESTE    DISTRITO FEDERAL   \n1   2004-05-09  2004-05-15  CENTRO OESTE               GOIAS   \n2   2004-05-09  2004-05-15  CENTRO OESTE         MATO GROSSO   \n3   2004-05-09  2004-05-15  CENTRO OESTE  MATO GROSSO DO SUL   \n4   2004-05-09  2004-05-15      NORDESTE             ALAGOAS   \n\n            PRODUTO  NÚMERO DE POSTOS PESQUISADOS UNIDADE DE MEDIDA  \\\n0  ETANOL HIDRATADO                           127              R$/l   \n1  ETANOL HIDRATADO                           387              R$/l   \n2  ETANOL HIDRATADO                           192              R$/l   \n3  ETANOL HIDRATADO                           162              R$/l   \n4  ETANOL HIDRATADO                           103              R$/l   \n\n   PREÇO MÉDIO REVENDA  DESVIO PADRÃO REVENDA  PREÇO MÍNIMO REVENDA  \\\n0                1.288                  0.016                  1.19   \n1                1.162                  0.114                  0.89   \n2                1.389                  0.097                  1.18   \n3                1.262                  0.070                  1.09   \n4                1.181                  0.078                  1.05   \n\n   PREÇO MÁXIMO REVENDA MARGEM MÉDIA REVENDA  COEF DE VARIAÇÃO REVENDA  \\\n0                 1.350                0.463                     0.012   \n1                 1.449                0.399                     0.098   \n2                 1.760                0.419                     0.070   \n3                 1.509                0.432                     0.055   \n4                 1.400                 0.24                     0.066   \n\n  PREÇO MÉDIO DISTRIBUIÇÃO DESVIO PADRÃO DISTRIBUIÇÃO  \\\n0                    0.825                       0.11   \n1                    0.763                      0.088   \n2                     0.97                      0.095   \n3                     0.83                      0.119   \n4                    0.941                      0.077   \n\n  PREÇO MÍNIMO DISTRIBUIÇÃO PREÇO MÁXIMO DISTRIBUIÇÃO  \\\n0                    0.4201                    0.9666   \n1                    0.5013                      1.05   \n2                    0.5614                     1.161   \n3                    0.5991                   1.22242   \n4                    0.7441                    1.0317   \n\n  COEF DE VARIAÇÃO DISTRIBUIÇÃO  \n0                         0.133  \n1                         0.115  \n2                         0.098  \n3                         0.143  \n4                         0.082  ",
            "text/html": "<div>\n<style scoped>\n    .dataframe tbody tr th:only-of-type {\n        vertical-align: middle;\n    }\n\n    .dataframe tbody tr th {\n        vertical-align: top;\n    }\n\n    .dataframe thead th {\n        text-align: right;\n    }\n</style>\n<table border=\"1\" class=\"dataframe\">\n  <thead>\n    <tr style=\"text-align: right;\">\n      <th></th>\n      <th>DATA INICIAL</th>\n      <th>DATA FINAL</th>\n      <th>REGIÃO</th>\n      <th>ESTADO</th>\n      <th>PRODUTO</th>\n      <th>NÚMERO DE POSTOS PESQUISADOS</th>\n      <th>UNIDADE DE MEDIDA</th>\n      <th>PREÇO MÉDIO REVENDA</th>\n      <th>DESVIO PADRÃO REVENDA</th>\n      <th>PREÇO MÍNIMO REVENDA</th>\n      <th>PREÇO MÁXIMO REVENDA</th>\n      <th>MARGEM MÉDIA REVENDA</th>\n      <th>COEF DE VARIAÇÃO REVENDA</th>\n      <th>PREÇO MÉDIO DISTRIBUIÇÃO</th>\n      <th>DESVIO PADRÃO DISTRIBUIÇÃO</th>\n      <th>PREÇO MÍNIMO DISTRIBUIÇÃO</th>\n      <th>PREÇO MÁXIMO DISTRIBUIÇÃO</th>\n      <th>COEF DE VARIAÇÃO DISTRIBUIÇÃO</th>\n    </tr>\n  </thead>\n  <tbody>\n    <tr>\n      <th>0</th>\n      <td>2004-05-09</td>\n      <td>2004-05-15</td>\n      <td>CENTRO OESTE</td>\n      <td>DISTRITO FEDERAL</td>\n      <td>ETANOL HIDRATADO</td>\n      <td>127</td>\n      <td>R$/l</td>\n      <td>1.288</td>\n      <td>0.016</td>\n      <td>1.19</td>\n      <td>1.350</td>\n      <td>0.463</td>\n      <td>0.012</td>\n      <td>0.825</td>\n      <td>0.11</td>\n      <td>0.4201</td>\n      <td>0.9666</td>\n      <td>0.133</td>\n    </tr>\n    <tr>\n      <th>1</th>\n      <td>2004-05-09</td>\n      <td>2004-05-15</td>\n      <td>CENTRO OESTE</td>\n      <td>GOIAS</td>\n      <td>ETANOL HIDRATADO</td>\n      <td>387</td>\n      <td>R$/l</td>\n      <td>1.162</td>\n      <td>0.114</td>\n      <td>0.89</td>\n      <td>1.449</td>\n      <td>0.399</td>\n      <td>0.098</td>\n      <td>0.763</td>\n      <td>0.088</td>\n      <td>0.5013</td>\n      <td>1.05</td>\n      <td>0.115</td>\n    </tr>\n    <tr>\n      <th>2</th>\n      <td>2004-05-09</td>\n      <td>2004-05-15</td>\n      <td>CENTRO OESTE</td>\n      <td>MATO GROSSO</td>\n      <td>ETANOL HIDRATADO</td>\n      <td>192</td>\n      <td>R$/l</td>\n      <td>1.389</td>\n      <td>0.097</td>\n      <td>1.18</td>\n      <td>1.760</td>\n      <td>0.419</td>\n      <td>0.070</td>\n      <td>0.97</td>\n      <td>0.095</td>\n      <td>0.5614</td>\n      <td>1.161</td>\n      <td>0.098</td>\n    </tr>\n    <tr>\n      <th>3</th>\n      <td>2004-05-09</td>\n      <td>2004-05-15</td>\n      <td>CENTRO OESTE</td>\n      <td>MATO GROSSO DO SUL</td>\n      <td>ETANOL HIDRATADO</td>\n      <td>162</td>\n      <td>R$/l</td>\n      <td>1.262</td>\n      <td>0.070</td>\n      <td>1.09</td>\n      <td>1.509</td>\n      <td>0.432</td>\n      <td>0.055</td>\n      <td>0.83</td>\n      <td>0.119</td>\n      <td>0.5991</td>\n      <td>1.22242</td>\n      <td>0.143</td>\n    </tr>\n    <tr>\n      <th>4</th>\n      <td>2004-05-09</td>\n      <td>2004-05-15</td>\n      <td>NORDESTE</td>\n      <td>ALAGOAS</td>\n      <td>ETANOL HIDRATADO</td>\n      <td>103</td>\n      <td>R$/l</td>\n      <td>1.181</td>\n      <td>0.078</td>\n      <td>1.05</td>\n      <td>1.400</td>\n      <td>0.24</td>\n      <td>0.066</td>\n      <td>0.941</td>\n      <td>0.077</td>\n      <td>0.7441</td>\n      <td>1.0317</td>\n      <td>0.082</td>\n    </tr>\n  </tbody>\n</table>\n</div>"
          },
          "metadata": {}
        }
      ],
      "execution_count": 42
    },
    {
      "id": "incorrect-moment",
      "cell_type": "code",
      "source": "data['ESTADO']",
      "metadata": {
        "trusted": true
      },
      "outputs": [
        {
          "execution_count": 43,
          "output_type": "execute_result",
          "data": {
            "text/plain": "0           DISTRITO FEDERAL\n1                      GOIAS\n2                MATO GROSSO\n3         MATO GROSSO DO SUL\n4                    ALAGOAS\n                 ...        \n120818               RORAIMA\n120819        SANTA CATARINA\n120820             SAO PAULO\n120821               SERGIPE\n120822             TOCANTINS\nName: ESTADO, Length: 120823, dtype: object"
          },
          "metadata": {}
        }
      ],
      "execution_count": 43
    },
    {
      "id": "conscious-fountain",
      "cell_type": "code",
      "source": "data.ESTADO",
      "metadata": {
        "trusted": true
      },
      "outputs": [
        {
          "execution_count": 44,
          "output_type": "execute_result",
          "data": {
            "text/plain": "0           DISTRITO FEDERAL\n1                      GOIAS\n2                MATO GROSSO\n3         MATO GROSSO DO SUL\n4                    ALAGOAS\n                 ...        \n120818               RORAIMA\n120819        SANTA CATARINA\n120820             SAO PAULO\n120821               SERGIPE\n120822             TOCANTINS\nName: ESTADO, Length: 120823, dtype: object"
          },
          "metadata": {}
        }
      ],
      "execution_count": 44
    },
    {
      "id": "direct-convenience",
      "cell_type": "code",
      "source": "type(data['ESTADO'])",
      "metadata": {
        "trusted": true
      },
      "outputs": [
        {
          "execution_count": 46,
          "output_type": "execute_result",
          "data": {
            "text/plain": "pandas.core.series.Series"
          },
          "metadata": {}
        }
      ],
      "execution_count": 46
    },
    {
      "id": "average-final",
      "cell_type": "code",
      "source": "#Selecionando a observação indexada no índice[1] do dataframe\ndata.iloc[1]",
      "metadata": {
        "trusted": true
      },
      "outputs": [
        {
          "execution_count": 48,
          "output_type": "execute_result",
          "data": {
            "text/plain": "DATA INICIAL                           2004-05-09\nDATA FINAL                             2004-05-15\nREGIÃO                               CENTRO OESTE\nESTADO                                      GOIAS\nPRODUTO                          ETANOL HIDRATADO\nNÚMERO DE POSTOS PESQUISADOS                  387\nUNIDADE DE MEDIDA                            R$/l\nPREÇO MÉDIO REVENDA                         1.162\nDESVIO PADRÃO REVENDA                       0.114\nPREÇO MÍNIMO REVENDA                         0.89\nPREÇO MÁXIMO REVENDA                        1.449\nMARGEM MÉDIA REVENDA                        0.399\nCOEF DE VARIAÇÃO REVENDA                    0.098\nPREÇO MÉDIO DISTRIBUIÇÃO                    0.763\nDESVIO PADRÃO DISTRIBUIÇÃO                  0.088\nPREÇO MÍNIMO DISTRIBUIÇÃO                  0.5013\nPREÇO MÁXIMO DISTRIBUIÇÃO                    1.05\nCOEF DE VARIAÇÃO DISTRIBUIÇÃO               0.115\nName: 1, dtype: object"
          },
          "metadata": {}
        }
      ],
      "execution_count": 48
    },
    {
      "id": "sensitive-clerk",
      "cell_type": "code",
      "source": "type(data.iloc[1])",
      "metadata": {
        "trusted": true
      },
      "outputs": [
        {
          "execution_count": 49,
          "output_type": "execute_result",
          "data": {
            "text/plain": "pandas.core.series.Series"
          },
          "metadata": {}
        }
      ],
      "execution_count": 49
    },
    {
      "id": "ready-brook",
      "cell_type": "markdown",
      "source": "#### **Criando uma Series**\n\nPodemos criar um DataFrame a partir de uma lista de elementos.",
      "metadata": {}
    },
    {
      "id": "acoustic-container",
      "cell_type": "code",
      "source": "pd.Series([5.5, 6.0, 9.5])",
      "metadata": {
        "trusted": true
      },
      "outputs": [
        {
          "execution_count": 50,
          "output_type": "execute_result",
          "data": {
            "text/plain": "0    5.5\n1    6.0\n2    9.5\ndtype: float64"
          },
          "metadata": {}
        }
      ],
      "execution_count": 50
    },
    {
      "id": "european-ministry",
      "cell_type": "markdown",
      "source": "Podemos alterar o **nome dos índices** (veremos melhor jajá) e o **nome da Series** (o que ela representa):",
      "metadata": {}
    },
    {
      "id": "motivated-warning",
      "cell_type": "code",
      "source": "pd.Series([5.5, 6.0, 9.5], index=['Prova 1', 'Prova 2', 'Projeto'], name='Notas do Luke Skywalker')",
      "metadata": {
        "trusted": true
      },
      "outputs": [
        {
          "execution_count": 54,
          "output_type": "execute_result",
          "data": {
            "text/plain": "Prova 1    5.5\nProva 2    6.0\nProjeto    9.5\nName: Notas do Luke Skywalker, dtype: float64"
          },
          "metadata": {}
        }
      ],
      "execution_count": 54
    },
    {
      "id": "deadly-prince",
      "cell_type": "markdown",
      "source": "#### **VEJA MAIS**\nhttps://pandas.pydata.org/pandas-docs/stable/user_guide/dsintro.html",
      "metadata": {}
    },
    {
      "id": "insured-turkey",
      "cell_type": "markdown",
      "source": "### 1.3.4 Atribuindo Dados",
      "metadata": {}
    },
    {
      "id": "smooth-tuesday",
      "cell_type": "markdown",
      "source": "#### 1.3.4.1 Atribuindo constantes",
      "metadata": {}
    },
    {
      "id": "electoral-graduate",
      "cell_type": "code",
      "source": "data.head()",
      "metadata": {
        "trusted": true
      },
      "outputs": [
        {
          "execution_count": 62,
          "output_type": "execute_result",
          "data": {
            "text/plain": "  DATA INICIAL  DATA FINAL        REGIÃO              ESTADO  \\\n0   2004-05-09  2004-05-15  CENTRO OESTE    DISTRITO FEDERAL   \n1   2004-05-09  2004-05-15  CENTRO OESTE               GOIAS   \n2   2004-05-09  2004-05-15  CENTRO OESTE         MATO GROSSO   \n3   2004-05-09  2004-05-15  CENTRO OESTE  MATO GROSSO DO SUL   \n4   2004-05-09  2004-05-15      NORDESTE             ALAGOAS   \n\n            PRODUTO  NÚMERO DE POSTOS PESQUISADOS UNIDADE DE MEDIDA  \\\n0  ETANOL HIDRATADO                           127              R$/l   \n1  ETANOL HIDRATADO                           387              R$/l   \n2  ETANOL HIDRATADO                           192              R$/l   \n3  ETANOL HIDRATADO                           162              R$/l   \n4  ETANOL HIDRATADO                           103              R$/l   \n\n   PREÇO MÉDIO REVENDA  DESVIO PADRÃO REVENDA  PREÇO MÍNIMO REVENDA  \\\n0                1.288                  0.016                  1.19   \n1                1.162                  0.114                  0.89   \n2                1.389                  0.097                  1.18   \n3                1.262                  0.070                  1.09   \n4                1.181                  0.078                  1.05   \n\n   PREÇO MÁXIMO REVENDA MARGEM MÉDIA REVENDA  COEF DE VARIAÇÃO REVENDA  \\\n0                 1.350                0.463                     0.012   \n1                 1.449                0.399                     0.098   \n2                 1.760                0.419                     0.070   \n3                 1.509                0.432                     0.055   \n4                 1.400                 0.24                     0.066   \n\n  PREÇO MÉDIO DISTRIBUIÇÃO DESVIO PADRÃO DISTRIBUIÇÃO  \\\n0                    0.825                       0.11   \n1                    0.763                      0.088   \n2                     0.97                      0.095   \n3                     0.83                      0.119   \n4                    0.941                      0.077   \n\n  PREÇO MÍNIMO DISTRIBUIÇÃO PREÇO MÁXIMO DISTRIBUIÇÃO  \\\n0                    0.4201                    0.9666   \n1                    0.5013                      1.05   \n2                    0.5614                     1.161   \n3                    0.5991                   1.22242   \n4                    0.7441                    1.0317   \n\n  COEF DE VARIAÇÃO DISTRIBUIÇÃO  \n0                         0.133  \n1                         0.115  \n2                         0.098  \n3                         0.143  \n4                         0.082  ",
            "text/html": "<div>\n<style scoped>\n    .dataframe tbody tr th:only-of-type {\n        vertical-align: middle;\n    }\n\n    .dataframe tbody tr th {\n        vertical-align: top;\n    }\n\n    .dataframe thead th {\n        text-align: right;\n    }\n</style>\n<table border=\"1\" class=\"dataframe\">\n  <thead>\n    <tr style=\"text-align: right;\">\n      <th></th>\n      <th>DATA INICIAL</th>\n      <th>DATA FINAL</th>\n      <th>REGIÃO</th>\n      <th>ESTADO</th>\n      <th>PRODUTO</th>\n      <th>NÚMERO DE POSTOS PESQUISADOS</th>\n      <th>UNIDADE DE MEDIDA</th>\n      <th>PREÇO MÉDIO REVENDA</th>\n      <th>DESVIO PADRÃO REVENDA</th>\n      <th>PREÇO MÍNIMO REVENDA</th>\n      <th>PREÇO MÁXIMO REVENDA</th>\n      <th>MARGEM MÉDIA REVENDA</th>\n      <th>COEF DE VARIAÇÃO REVENDA</th>\n      <th>PREÇO MÉDIO DISTRIBUIÇÃO</th>\n      <th>DESVIO PADRÃO DISTRIBUIÇÃO</th>\n      <th>PREÇO MÍNIMO DISTRIBUIÇÃO</th>\n      <th>PREÇO MÁXIMO DISTRIBUIÇÃO</th>\n      <th>COEF DE VARIAÇÃO DISTRIBUIÇÃO</th>\n    </tr>\n  </thead>\n  <tbody>\n    <tr>\n      <th>0</th>\n      <td>2004-05-09</td>\n      <td>2004-05-15</td>\n      <td>CENTRO OESTE</td>\n      <td>DISTRITO FEDERAL</td>\n      <td>ETANOL HIDRATADO</td>\n      <td>127</td>\n      <td>R$/l</td>\n      <td>1.288</td>\n      <td>0.016</td>\n      <td>1.19</td>\n      <td>1.350</td>\n      <td>0.463</td>\n      <td>0.012</td>\n      <td>0.825</td>\n      <td>0.11</td>\n      <td>0.4201</td>\n      <td>0.9666</td>\n      <td>0.133</td>\n    </tr>\n    <tr>\n      <th>1</th>\n      <td>2004-05-09</td>\n      <td>2004-05-15</td>\n      <td>CENTRO OESTE</td>\n      <td>GOIAS</td>\n      <td>ETANOL HIDRATADO</td>\n      <td>387</td>\n      <td>R$/l</td>\n      <td>1.162</td>\n      <td>0.114</td>\n      <td>0.89</td>\n      <td>1.449</td>\n      <td>0.399</td>\n      <td>0.098</td>\n      <td>0.763</td>\n      <td>0.088</td>\n      <td>0.5013</td>\n      <td>1.05</td>\n      <td>0.115</td>\n    </tr>\n    <tr>\n      <th>2</th>\n      <td>2004-05-09</td>\n      <td>2004-05-15</td>\n      <td>CENTRO OESTE</td>\n      <td>MATO GROSSO</td>\n      <td>ETANOL HIDRATADO</td>\n      <td>192</td>\n      <td>R$/l</td>\n      <td>1.389</td>\n      <td>0.097</td>\n      <td>1.18</td>\n      <td>1.760</td>\n      <td>0.419</td>\n      <td>0.070</td>\n      <td>0.97</td>\n      <td>0.095</td>\n      <td>0.5614</td>\n      <td>1.161</td>\n      <td>0.098</td>\n    </tr>\n    <tr>\n      <th>3</th>\n      <td>2004-05-09</td>\n      <td>2004-05-15</td>\n      <td>CENTRO OESTE</td>\n      <td>MATO GROSSO DO SUL</td>\n      <td>ETANOL HIDRATADO</td>\n      <td>162</td>\n      <td>R$/l</td>\n      <td>1.262</td>\n      <td>0.070</td>\n      <td>1.09</td>\n      <td>1.509</td>\n      <td>0.432</td>\n      <td>0.055</td>\n      <td>0.83</td>\n      <td>0.119</td>\n      <td>0.5991</td>\n      <td>1.22242</td>\n      <td>0.143</td>\n    </tr>\n    <tr>\n      <th>4</th>\n      <td>2004-05-09</td>\n      <td>2004-05-15</td>\n      <td>NORDESTE</td>\n      <td>ALAGOAS</td>\n      <td>ETANOL HIDRATADO</td>\n      <td>103</td>\n      <td>R$/l</td>\n      <td>1.181</td>\n      <td>0.078</td>\n      <td>1.05</td>\n      <td>1.400</td>\n      <td>0.24</td>\n      <td>0.066</td>\n      <td>0.941</td>\n      <td>0.077</td>\n      <td>0.7441</td>\n      <td>1.0317</td>\n      <td>0.082</td>\n    </tr>\n  </tbody>\n</table>\n</div>"
          },
          "metadata": {}
        }
      ],
      "execution_count": 62
    },
    {
      "id": "level-hazard",
      "cell_type": "code",
      "source": "data['PRODUTO'] #a series retornada referente à coluna, NÃO É UMA COPIA, mas sim, uma REFERÊNCIA à coluna do dataframe",
      "metadata": {
        "trusted": true
      },
      "outputs": [
        {
          "execution_count": 64,
          "output_type": "execute_result",
          "data": {
            "text/plain": "0         ETANOL HIDRATADO\n1         ETANOL HIDRATADO\n2         ETANOL HIDRATADO\n3         ETANOL HIDRATADO\n4         ETANOL HIDRATADO\n                ...       \n120818     OLEO DIESEL S10\n120819     OLEO DIESEL S10\n120820     OLEO DIESEL S10\n120821     OLEO DIESEL S10\n120822     OLEO DIESEL S10\nName: PRODUTO, Length: 120823, dtype: object"
          },
          "metadata": {}
        }
      ],
      "execution_count": 64
    },
    {
      "id": "connected-lambda",
      "cell_type": "code",
      "source": "produto_copy_bkp = data['PRODUTO'].copy() #retorna uma CÓPIA da coluna 'PRODUTO'\nproduto_copy_bkp",
      "metadata": {
        "trusted": true
      },
      "outputs": [
        {
          "execution_count": 68,
          "output_type": "execute_result",
          "data": {
            "text/plain": "0         ETANOL HIDRATADO\n1         ETANOL HIDRATADO\n2         ETANOL HIDRATADO\n3         ETANOL HIDRATADO\n4         ETANOL HIDRATADO\n                ...       \n120818     OLEO DIESEL S10\n120819     OLEO DIESEL S10\n120820     OLEO DIESEL S10\n120821     OLEO DIESEL S10\n120822     OLEO DIESEL S10\nName: PRODUTO, Length: 120823, dtype: object"
          },
          "metadata": {}
        }
      ],
      "execution_count": 68
    },
    {
      "id": "danish-thumbnail",
      "cell_type": "code",
      "source": "data['PRODUTO'] = 'Combustível' #atribuindo o valor constante 'Combustível' para cada linha do dataframe na coluna 'PRODUTO'",
      "metadata": {
        "trusted": true
      },
      "outputs": [],
      "execution_count": 71
    },
    {
      "id": "corresponding-cabinet",
      "cell_type": "code",
      "source": "data.head()",
      "metadata": {
        "trusted": true
      },
      "outputs": [
        {
          "execution_count": 72,
          "output_type": "execute_result",
          "data": {
            "text/plain": "  DATA INICIAL  DATA FINAL        REGIÃO              ESTADO      PRODUTO  \\\n0   2004-05-09  2004-05-15  CENTRO OESTE    DISTRITO FEDERAL  Combustível   \n1   2004-05-09  2004-05-15  CENTRO OESTE               GOIAS  Combustível   \n2   2004-05-09  2004-05-15  CENTRO OESTE         MATO GROSSO  Combustível   \n3   2004-05-09  2004-05-15  CENTRO OESTE  MATO GROSSO DO SUL  Combustível   \n4   2004-05-09  2004-05-15      NORDESTE             ALAGOAS  Combustível   \n\n   NÚMERO DE POSTOS PESQUISADOS UNIDADE DE MEDIDA  PREÇO MÉDIO REVENDA  \\\n0                           127              R$/l                1.288   \n1                           387              R$/l                1.162   \n2                           192              R$/l                1.389   \n3                           162              R$/l                1.262   \n4                           103              R$/l                1.181   \n\n   DESVIO PADRÃO REVENDA  PREÇO MÍNIMO REVENDA  PREÇO MÁXIMO REVENDA  \\\n0                  0.016                  1.19                 1.350   \n1                  0.114                  0.89                 1.449   \n2                  0.097                  1.18                 1.760   \n3                  0.070                  1.09                 1.509   \n4                  0.078                  1.05                 1.400   \n\n  MARGEM MÉDIA REVENDA  COEF DE VARIAÇÃO REVENDA PREÇO MÉDIO DISTRIBUIÇÃO  \\\n0                0.463                     0.012                    0.825   \n1                0.399                     0.098                    0.763   \n2                0.419                     0.070                     0.97   \n3                0.432                     0.055                     0.83   \n4                 0.24                     0.066                    0.941   \n\n  DESVIO PADRÃO DISTRIBUIÇÃO PREÇO MÍNIMO DISTRIBUIÇÃO  \\\n0                       0.11                    0.4201   \n1                      0.088                    0.5013   \n2                      0.095                    0.5614   \n3                      0.119                    0.5991   \n4                      0.077                    0.7441   \n\n  PREÇO MÁXIMO DISTRIBUIÇÃO COEF DE VARIAÇÃO DISTRIBUIÇÃO  \n0                    0.9666                         0.133  \n1                      1.05                         0.115  \n2                     1.161                         0.098  \n3                   1.22242                         0.143  \n4                    1.0317                         0.082  ",
            "text/html": "<div>\n<style scoped>\n    .dataframe tbody tr th:only-of-type {\n        vertical-align: middle;\n    }\n\n    .dataframe tbody tr th {\n        vertical-align: top;\n    }\n\n    .dataframe thead th {\n        text-align: right;\n    }\n</style>\n<table border=\"1\" class=\"dataframe\">\n  <thead>\n    <tr style=\"text-align: right;\">\n      <th></th>\n      <th>DATA INICIAL</th>\n      <th>DATA FINAL</th>\n      <th>REGIÃO</th>\n      <th>ESTADO</th>\n      <th>PRODUTO</th>\n      <th>NÚMERO DE POSTOS PESQUISADOS</th>\n      <th>UNIDADE DE MEDIDA</th>\n      <th>PREÇO MÉDIO REVENDA</th>\n      <th>DESVIO PADRÃO REVENDA</th>\n      <th>PREÇO MÍNIMO REVENDA</th>\n      <th>PREÇO MÁXIMO REVENDA</th>\n      <th>MARGEM MÉDIA REVENDA</th>\n      <th>COEF DE VARIAÇÃO REVENDA</th>\n      <th>PREÇO MÉDIO DISTRIBUIÇÃO</th>\n      <th>DESVIO PADRÃO DISTRIBUIÇÃO</th>\n      <th>PREÇO MÍNIMO DISTRIBUIÇÃO</th>\n      <th>PREÇO MÁXIMO DISTRIBUIÇÃO</th>\n      <th>COEF DE VARIAÇÃO DISTRIBUIÇÃO</th>\n    </tr>\n  </thead>\n  <tbody>\n    <tr>\n      <th>0</th>\n      <td>2004-05-09</td>\n      <td>2004-05-15</td>\n      <td>CENTRO OESTE</td>\n      <td>DISTRITO FEDERAL</td>\n      <td>Combustível</td>\n      <td>127</td>\n      <td>R$/l</td>\n      <td>1.288</td>\n      <td>0.016</td>\n      <td>1.19</td>\n      <td>1.350</td>\n      <td>0.463</td>\n      <td>0.012</td>\n      <td>0.825</td>\n      <td>0.11</td>\n      <td>0.4201</td>\n      <td>0.9666</td>\n      <td>0.133</td>\n    </tr>\n    <tr>\n      <th>1</th>\n      <td>2004-05-09</td>\n      <td>2004-05-15</td>\n      <td>CENTRO OESTE</td>\n      <td>GOIAS</td>\n      <td>Combustível</td>\n      <td>387</td>\n      <td>R$/l</td>\n      <td>1.162</td>\n      <td>0.114</td>\n      <td>0.89</td>\n      <td>1.449</td>\n      <td>0.399</td>\n      <td>0.098</td>\n      <td>0.763</td>\n      <td>0.088</td>\n      <td>0.5013</td>\n      <td>1.05</td>\n      <td>0.115</td>\n    </tr>\n    <tr>\n      <th>2</th>\n      <td>2004-05-09</td>\n      <td>2004-05-15</td>\n      <td>CENTRO OESTE</td>\n      <td>MATO GROSSO</td>\n      <td>Combustível</td>\n      <td>192</td>\n      <td>R$/l</td>\n      <td>1.389</td>\n      <td>0.097</td>\n      <td>1.18</td>\n      <td>1.760</td>\n      <td>0.419</td>\n      <td>0.070</td>\n      <td>0.97</td>\n      <td>0.095</td>\n      <td>0.5614</td>\n      <td>1.161</td>\n      <td>0.098</td>\n    </tr>\n    <tr>\n      <th>3</th>\n      <td>2004-05-09</td>\n      <td>2004-05-15</td>\n      <td>CENTRO OESTE</td>\n      <td>MATO GROSSO DO SUL</td>\n      <td>Combustível</td>\n      <td>162</td>\n      <td>R$/l</td>\n      <td>1.262</td>\n      <td>0.070</td>\n      <td>1.09</td>\n      <td>1.509</td>\n      <td>0.432</td>\n      <td>0.055</td>\n      <td>0.83</td>\n      <td>0.119</td>\n      <td>0.5991</td>\n      <td>1.22242</td>\n      <td>0.143</td>\n    </tr>\n    <tr>\n      <th>4</th>\n      <td>2004-05-09</td>\n      <td>2004-05-15</td>\n      <td>NORDESTE</td>\n      <td>ALAGOAS</td>\n      <td>Combustível</td>\n      <td>103</td>\n      <td>R$/l</td>\n      <td>1.181</td>\n      <td>0.078</td>\n      <td>1.05</td>\n      <td>1.400</td>\n      <td>0.24</td>\n      <td>0.066</td>\n      <td>0.941</td>\n      <td>0.077</td>\n      <td>0.7441</td>\n      <td>1.0317</td>\n      <td>0.082</td>\n    </tr>\n  </tbody>\n</table>\n</div>"
          },
          "metadata": {}
        }
      ],
      "execution_count": 72
    },
    {
      "id": "alpha-exposure",
      "cell_type": "code",
      "source": "data['PRODUTO']",
      "metadata": {
        "trusted": true
      },
      "outputs": [
        {
          "execution_count": 79,
          "output_type": "execute_result",
          "data": {
            "text/plain": "0         Combustível\n1         Combustível\n2         Combustível\n3         Combustível\n4         Combustível\n             ...     \n120818    Combustível\n120819    Combustível\n120820    Combustível\n120821    Combustível\n120822    Combustível\nName: PRODUTO, Length: 120823, dtype: object"
          },
          "metadata": {}
        }
      ],
      "execution_count": 79
    },
    {
      "id": "65b58d0a-249a-4914-a0bc-02fd6157a46a",
      "cell_type": "code",
      "source": "produto_copy_bkp",
      "metadata": {
        "trusted": true
      },
      "outputs": [
        {
          "execution_count": 80,
          "output_type": "execute_result",
          "data": {
            "text/plain": "0         ETANOL HIDRATADO\n1         ETANOL HIDRATADO\n2         ETANOL HIDRATADO\n3         ETANOL HIDRATADO\n4         ETANOL HIDRATADO\n                ...       \n120818     OLEO DIESEL S10\n120819     OLEO DIESEL S10\n120820     OLEO DIESEL S10\n120821     OLEO DIESEL S10\n120822     OLEO DIESEL S10\nName: PRODUTO, Length: 120823, dtype: object"
          },
          "metadata": {}
        }
      ],
      "execution_count": 80
    },
    {
      "id": "mental-logistics",
      "cell_type": "markdown",
      "source": "#### 1.3.4.2 Atribuindo listas ou series",
      "metadata": {}
    },
    {
      "id": "meaning-alliance",
      "cell_type": "code",
      "source": "nrows, ncols = data.shape\nnrows, ncols",
      "metadata": {
        "trusted": true
      },
      "outputs": [
        {
          "execution_count": 100,
          "output_type": "execute_result",
          "data": {
            "text/plain": "(120823, 18)"
          },
          "metadata": {}
        }
      ],
      "execution_count": 100
    },
    {
      "id": "cordless-nursing",
      "cell_type": "code",
      "source": "novos_produtos = [f'Produto {i}' for i in range(nrows)]\nlen(novos_produtos)",
      "metadata": {
        "trusted": true
      },
      "outputs": [
        {
          "execution_count": 103,
          "output_type": "execute_result",
          "data": {
            "text/plain": "120823"
          },
          "metadata": {}
        }
      ],
      "execution_count": 103
    },
    {
      "id": "trained-particular",
      "cell_type": "code",
      "source": "# A quantidade de elementos da lista 'novos_produtos' é igual ao número de linhas do dataframe\ndata['PRODUTO'] = novos_produtos",
      "metadata": {
        "trusted": true
      },
      "outputs": [],
      "execution_count": 104
    },
    {
      "id": "conservative-above",
      "cell_type": "code",
      "source": "data",
      "metadata": {
        "trusted": true
      },
      "outputs": [
        {
          "execution_count": 108,
          "output_type": "execute_result",
          "data": {
            "text/plain": "       DATA INICIAL  DATA FINAL        REGIÃO              ESTADO  \\\n0        2004-05-09  2004-05-15  CENTRO OESTE    DISTRITO FEDERAL   \n1        2004-05-09  2004-05-15  CENTRO OESTE               GOIAS   \n2        2004-05-09  2004-05-15  CENTRO OESTE         MATO GROSSO   \n3        2004-05-09  2004-05-15  CENTRO OESTE  MATO GROSSO DO SUL   \n4        2004-05-09  2004-05-15      NORDESTE             ALAGOAS   \n...             ...         ...           ...                 ...   \n120818   2021-04-25  2021-05-01         NORTE             RORAIMA   \n120819   2021-04-25  2021-05-01           SUL      SANTA CATARINA   \n120820   2021-04-25  2021-05-01       SUDESTE           SAO PAULO   \n120821   2021-04-25  2021-05-01      NORDESTE             SERGIPE   \n120822   2021-04-25  2021-05-01         NORTE           TOCANTINS   \n\n               PRODUTO  NÚMERO DE POSTOS PESQUISADOS UNIDADE DE MEDIDA  \\\n0            Produto 0                           127              R$/l   \n1            Produto 1                           387              R$/l   \n2            Produto 2                           192              R$/l   \n3            Produto 3                           162              R$/l   \n4            Produto 4                           103              R$/l   \n...                ...                           ...               ...   \n120818  Produto 120818                            12              R$/l   \n120819  Produto 120819                           100              R$/l   \n120820  Produto 120820                           886              R$/l   \n120821  Produto 120821                            33              R$/l   \n120822  Produto 120822                            18              R$/l   \n\n        PREÇO MÉDIO REVENDA  DESVIO PADRÃO REVENDA  PREÇO MÍNIMO REVENDA  \\\n0                     1.288                  0.016                 1.190   \n1                     1.162                  0.114                 0.890   \n2                     1.389                  0.097                 1.180   \n3                     1.262                  0.070                 1.090   \n4                     1.181                  0.078                 1.050   \n...                     ...                    ...                   ...   \n120818                4.582                  0.056                 4.510   \n120819                4.141                  0.187                 3.838   \n120820                4.246                  0.216                 3.769   \n120821                4.464                  0.205                 4.190   \n120822                4.352                  0.156                 4.199   \n\n        PREÇO MÁXIMO REVENDA MARGEM MÉDIA REVENDA  COEF DE VARIAÇÃO REVENDA  \\\n0                      1.350                0.463                     0.012   \n1                      1.449                0.399                     0.098   \n2                      1.760                0.419                     0.070   \n3                      1.509                0.432                     0.055   \n4                      1.400                 0.24                     0.066   \n...                      ...                  ...                       ...   \n120818                 4.690             -99999.0                     0.012   \n120819                 4.739             -99999.0                     0.045   \n120820                 5.199             -99999.0                     0.051   \n120821                 4.699             -99999.0                     0.046   \n120822                 4.699             -99999.0                     0.036   \n\n       PREÇO MÉDIO DISTRIBUIÇÃO DESVIO PADRÃO DISTRIBUIÇÃO  \\\n0                         0.825                       0.11   \n1                         0.763                      0.088   \n2                          0.97                      0.095   \n3                          0.83                      0.119   \n4                         0.941                      0.077   \n...                         ...                        ...   \n120818                 -99999.0                   -99999.0   \n120819                 -99999.0                   -99999.0   \n120820                 -99999.0                   -99999.0   \n120821                 -99999.0                   -99999.0   \n120822                 -99999.0                   -99999.0   \n\n       PREÇO MÍNIMO DISTRIBUIÇÃO PREÇO MÁXIMO DISTRIBUIÇÃO  \\\n0                         0.4201                    0.9666   \n1                         0.5013                      1.05   \n2                         0.5614                     1.161   \n3                         0.5991                   1.22242   \n4                         0.7441                    1.0317   \n...                          ...                       ...   \n120818                  -99999.0                  -99999.0   \n120819                  -99999.0                  -99999.0   \n120820                  -99999.0                  -99999.0   \n120821                  -99999.0                  -99999.0   \n120822                  -99999.0                  -99999.0   \n\n       COEF DE VARIAÇÃO DISTRIBUIÇÃO  \n0                              0.133  \n1                              0.115  \n2                              0.098  \n3                              0.143  \n4                              0.082  \n...                              ...  \n120818                      -99999.0  \n120819                      -99999.0  \n120820                      -99999.0  \n120821                      -99999.0  \n120822                      -99999.0  \n\n[120823 rows x 18 columns]",
            "text/html": "<div>\n<style scoped>\n    .dataframe tbody tr th:only-of-type {\n        vertical-align: middle;\n    }\n\n    .dataframe tbody tr th {\n        vertical-align: top;\n    }\n\n    .dataframe thead th {\n        text-align: right;\n    }\n</style>\n<table border=\"1\" class=\"dataframe\">\n  <thead>\n    <tr style=\"text-align: right;\">\n      <th></th>\n      <th>DATA INICIAL</th>\n      <th>DATA FINAL</th>\n      <th>REGIÃO</th>\n      <th>ESTADO</th>\n      <th>PRODUTO</th>\n      <th>NÚMERO DE POSTOS PESQUISADOS</th>\n      <th>UNIDADE DE MEDIDA</th>\n      <th>PREÇO MÉDIO REVENDA</th>\n      <th>DESVIO PADRÃO REVENDA</th>\n      <th>PREÇO MÍNIMO REVENDA</th>\n      <th>PREÇO MÁXIMO REVENDA</th>\n      <th>MARGEM MÉDIA REVENDA</th>\n      <th>COEF DE VARIAÇÃO REVENDA</th>\n      <th>PREÇO MÉDIO DISTRIBUIÇÃO</th>\n      <th>DESVIO PADRÃO DISTRIBUIÇÃO</th>\n      <th>PREÇO MÍNIMO DISTRIBUIÇÃO</th>\n      <th>PREÇO MÁXIMO DISTRIBUIÇÃO</th>\n      <th>COEF DE VARIAÇÃO DISTRIBUIÇÃO</th>\n    </tr>\n  </thead>\n  <tbody>\n    <tr>\n      <th>0</th>\n      <td>2004-05-09</td>\n      <td>2004-05-15</td>\n      <td>CENTRO OESTE</td>\n      <td>DISTRITO FEDERAL</td>\n      <td>Produto 0</td>\n      <td>127</td>\n      <td>R$/l</td>\n      <td>1.288</td>\n      <td>0.016</td>\n      <td>1.190</td>\n      <td>1.350</td>\n      <td>0.463</td>\n      <td>0.012</td>\n      <td>0.825</td>\n      <td>0.11</td>\n      <td>0.4201</td>\n      <td>0.9666</td>\n      <td>0.133</td>\n    </tr>\n    <tr>\n      <th>1</th>\n      <td>2004-05-09</td>\n      <td>2004-05-15</td>\n      <td>CENTRO OESTE</td>\n      <td>GOIAS</td>\n      <td>Produto 1</td>\n      <td>387</td>\n      <td>R$/l</td>\n      <td>1.162</td>\n      <td>0.114</td>\n      <td>0.890</td>\n      <td>1.449</td>\n      <td>0.399</td>\n      <td>0.098</td>\n      <td>0.763</td>\n      <td>0.088</td>\n      <td>0.5013</td>\n      <td>1.05</td>\n      <td>0.115</td>\n    </tr>\n    <tr>\n      <th>2</th>\n      <td>2004-05-09</td>\n      <td>2004-05-15</td>\n      <td>CENTRO OESTE</td>\n      <td>MATO GROSSO</td>\n      <td>Produto 2</td>\n      <td>192</td>\n      <td>R$/l</td>\n      <td>1.389</td>\n      <td>0.097</td>\n      <td>1.180</td>\n      <td>1.760</td>\n      <td>0.419</td>\n      <td>0.070</td>\n      <td>0.97</td>\n      <td>0.095</td>\n      <td>0.5614</td>\n      <td>1.161</td>\n      <td>0.098</td>\n    </tr>\n    <tr>\n      <th>3</th>\n      <td>2004-05-09</td>\n      <td>2004-05-15</td>\n      <td>CENTRO OESTE</td>\n      <td>MATO GROSSO DO SUL</td>\n      <td>Produto 3</td>\n      <td>162</td>\n      <td>R$/l</td>\n      <td>1.262</td>\n      <td>0.070</td>\n      <td>1.090</td>\n      <td>1.509</td>\n      <td>0.432</td>\n      <td>0.055</td>\n      <td>0.83</td>\n      <td>0.119</td>\n      <td>0.5991</td>\n      <td>1.22242</td>\n      <td>0.143</td>\n    </tr>\n    <tr>\n      <th>4</th>\n      <td>2004-05-09</td>\n      <td>2004-05-15</td>\n      <td>NORDESTE</td>\n      <td>ALAGOAS</td>\n      <td>Produto 4</td>\n      <td>103</td>\n      <td>R$/l</td>\n      <td>1.181</td>\n      <td>0.078</td>\n      <td>1.050</td>\n      <td>1.400</td>\n      <td>0.24</td>\n      <td>0.066</td>\n      <td>0.941</td>\n      <td>0.077</td>\n      <td>0.7441</td>\n      <td>1.0317</td>\n      <td>0.082</td>\n    </tr>\n    <tr>\n      <th>...</th>\n      <td>...</td>\n      <td>...</td>\n      <td>...</td>\n      <td>...</td>\n      <td>...</td>\n      <td>...</td>\n      <td>...</td>\n      <td>...</td>\n      <td>...</td>\n      <td>...</td>\n      <td>...</td>\n      <td>...</td>\n      <td>...</td>\n      <td>...</td>\n      <td>...</td>\n      <td>...</td>\n      <td>...</td>\n      <td>...</td>\n    </tr>\n    <tr>\n      <th>120818</th>\n      <td>2021-04-25</td>\n      <td>2021-05-01</td>\n      <td>NORTE</td>\n      <td>RORAIMA</td>\n      <td>Produto 120818</td>\n      <td>12</td>\n      <td>R$/l</td>\n      <td>4.582</td>\n      <td>0.056</td>\n      <td>4.510</td>\n      <td>4.690</td>\n      <td>-99999.0</td>\n      <td>0.012</td>\n      <td>-99999.0</td>\n      <td>-99999.0</td>\n      <td>-99999.0</td>\n      <td>-99999.0</td>\n      <td>-99999.0</td>\n    </tr>\n    <tr>\n      <th>120819</th>\n      <td>2021-04-25</td>\n      <td>2021-05-01</td>\n      <td>SUL</td>\n      <td>SANTA CATARINA</td>\n      <td>Produto 120819</td>\n      <td>100</td>\n      <td>R$/l</td>\n      <td>4.141</td>\n      <td>0.187</td>\n      <td>3.838</td>\n      <td>4.739</td>\n      <td>-99999.0</td>\n      <td>0.045</td>\n      <td>-99999.0</td>\n      <td>-99999.0</td>\n      <td>-99999.0</td>\n      <td>-99999.0</td>\n      <td>-99999.0</td>\n    </tr>\n    <tr>\n      <th>120820</th>\n      <td>2021-04-25</td>\n      <td>2021-05-01</td>\n      <td>SUDESTE</td>\n      <td>SAO PAULO</td>\n      <td>Produto 120820</td>\n      <td>886</td>\n      <td>R$/l</td>\n      <td>4.246</td>\n      <td>0.216</td>\n      <td>3.769</td>\n      <td>5.199</td>\n      <td>-99999.0</td>\n      <td>0.051</td>\n      <td>-99999.0</td>\n      <td>-99999.0</td>\n      <td>-99999.0</td>\n      <td>-99999.0</td>\n      <td>-99999.0</td>\n    </tr>\n    <tr>\n      <th>120821</th>\n      <td>2021-04-25</td>\n      <td>2021-05-01</td>\n      <td>NORDESTE</td>\n      <td>SERGIPE</td>\n      <td>Produto 120821</td>\n      <td>33</td>\n      <td>R$/l</td>\n      <td>4.464</td>\n      <td>0.205</td>\n      <td>4.190</td>\n      <td>4.699</td>\n      <td>-99999.0</td>\n      <td>0.046</td>\n      <td>-99999.0</td>\n      <td>-99999.0</td>\n      <td>-99999.0</td>\n      <td>-99999.0</td>\n      <td>-99999.0</td>\n    </tr>\n    <tr>\n      <th>120822</th>\n      <td>2021-04-25</td>\n      <td>2021-05-01</td>\n      <td>NORTE</td>\n      <td>TOCANTINS</td>\n      <td>Produto 120822</td>\n      <td>18</td>\n      <td>R$/l</td>\n      <td>4.352</td>\n      <td>0.156</td>\n      <td>4.199</td>\n      <td>4.699</td>\n      <td>-99999.0</td>\n      <td>0.036</td>\n      <td>-99999.0</td>\n      <td>-99999.0</td>\n      <td>-99999.0</td>\n      <td>-99999.0</td>\n      <td>-99999.0</td>\n    </tr>\n  </tbody>\n</table>\n<p>120823 rows × 18 columns</p>\n</div>"
          },
          "metadata": {}
        }
      ],
      "execution_count": 108
    },
    {
      "id": "transparent-service",
      "cell_type": "code",
      "source": "produto_view = data['PRODUTO']\nprint(produto_view)\nprint('\\n')\nprint(produto_copy_bkp)",
      "metadata": {
        "trusted": true
      },
      "outputs": [
        {
          "name": "stdout",
          "output_type": "stream",
          "text": "0              Produto 0\n1              Produto 1\n2              Produto 2\n3              Produto 3\n4              Produto 4\n               ...      \n120818    Produto 120818\n120819    Produto 120819\n120820    Produto 120820\n120821    Produto 120821\n120822    Produto 120822\nName: PRODUTO, Length: 120823, dtype: object\n\n\n0         ETANOL HIDRATADO\n1         ETANOL HIDRATADO\n2         ETANOL HIDRATADO\n3         ETANOL HIDRATADO\n4         ETANOL HIDRATADO\n                ...       \n120818     OLEO DIESEL S10\n120819     OLEO DIESEL S10\n120820     OLEO DIESEL S10\n120821     OLEO DIESEL S10\n120822     OLEO DIESEL S10\nName: PRODUTO, Length: 120823, dtype: object\n"
        }
      ],
      "execution_count": 112
    },
    {
      "id": "musical-corpus",
      "cell_type": "code",
      "source": "#Voltando para os produtos originais\ndata['PRODUTO'] = produto_copy_bkp # produto_copy_bkp é uma Series\ndata",
      "metadata": {
        "trusted": true
      },
      "outputs": [
        {
          "execution_count": 113,
          "output_type": "execute_result",
          "data": {
            "text/plain": "       DATA INICIAL  DATA FINAL        REGIÃO              ESTADO  \\\n0        2004-05-09  2004-05-15  CENTRO OESTE    DISTRITO FEDERAL   \n1        2004-05-09  2004-05-15  CENTRO OESTE               GOIAS   \n2        2004-05-09  2004-05-15  CENTRO OESTE         MATO GROSSO   \n3        2004-05-09  2004-05-15  CENTRO OESTE  MATO GROSSO DO SUL   \n4        2004-05-09  2004-05-15      NORDESTE             ALAGOAS   \n...             ...         ...           ...                 ...   \n120818   2021-04-25  2021-05-01         NORTE             RORAIMA   \n120819   2021-04-25  2021-05-01           SUL      SANTA CATARINA   \n120820   2021-04-25  2021-05-01       SUDESTE           SAO PAULO   \n120821   2021-04-25  2021-05-01      NORDESTE             SERGIPE   \n120822   2021-04-25  2021-05-01         NORTE           TOCANTINS   \n\n                 PRODUTO  NÚMERO DE POSTOS PESQUISADOS UNIDADE DE MEDIDA  \\\n0       ETANOL HIDRATADO                           127              R$/l   \n1       ETANOL HIDRATADO                           387              R$/l   \n2       ETANOL HIDRATADO                           192              R$/l   \n3       ETANOL HIDRATADO                           162              R$/l   \n4       ETANOL HIDRATADO                           103              R$/l   \n...                  ...                           ...               ...   \n120818   OLEO DIESEL S10                            12              R$/l   \n120819   OLEO DIESEL S10                           100              R$/l   \n120820   OLEO DIESEL S10                           886              R$/l   \n120821   OLEO DIESEL S10                            33              R$/l   \n120822   OLEO DIESEL S10                            18              R$/l   \n\n        PREÇO MÉDIO REVENDA  DESVIO PADRÃO REVENDA  PREÇO MÍNIMO REVENDA  \\\n0                     1.288                  0.016                 1.190   \n1                     1.162                  0.114                 0.890   \n2                     1.389                  0.097                 1.180   \n3                     1.262                  0.070                 1.090   \n4                     1.181                  0.078                 1.050   \n...                     ...                    ...                   ...   \n120818                4.582                  0.056                 4.510   \n120819                4.141                  0.187                 3.838   \n120820                4.246                  0.216                 3.769   \n120821                4.464                  0.205                 4.190   \n120822                4.352                  0.156                 4.199   \n\n        PREÇO MÁXIMO REVENDA MARGEM MÉDIA REVENDA  COEF DE VARIAÇÃO REVENDA  \\\n0                      1.350                0.463                     0.012   \n1                      1.449                0.399                     0.098   \n2                      1.760                0.419                     0.070   \n3                      1.509                0.432                     0.055   \n4                      1.400                 0.24                     0.066   \n...                      ...                  ...                       ...   \n120818                 4.690             -99999.0                     0.012   \n120819                 4.739             -99999.0                     0.045   \n120820                 5.199             -99999.0                     0.051   \n120821                 4.699             -99999.0                     0.046   \n120822                 4.699             -99999.0                     0.036   \n\n       PREÇO MÉDIO DISTRIBUIÇÃO DESVIO PADRÃO DISTRIBUIÇÃO  \\\n0                         0.825                       0.11   \n1                         0.763                      0.088   \n2                          0.97                      0.095   \n3                          0.83                      0.119   \n4                         0.941                      0.077   \n...                         ...                        ...   \n120818                 -99999.0                   -99999.0   \n120819                 -99999.0                   -99999.0   \n120820                 -99999.0                   -99999.0   \n120821                 -99999.0                   -99999.0   \n120822                 -99999.0                   -99999.0   \n\n       PREÇO MÍNIMO DISTRIBUIÇÃO PREÇO MÁXIMO DISTRIBUIÇÃO  \\\n0                         0.4201                    0.9666   \n1                         0.5013                      1.05   \n2                         0.5614                     1.161   \n3                         0.5991                   1.22242   \n4                         0.7441                    1.0317   \n...                          ...                       ...   \n120818                  -99999.0                  -99999.0   \n120819                  -99999.0                  -99999.0   \n120820                  -99999.0                  -99999.0   \n120821                  -99999.0                  -99999.0   \n120822                  -99999.0                  -99999.0   \n\n       COEF DE VARIAÇÃO DISTRIBUIÇÃO  \n0                              0.133  \n1                              0.115  \n2                              0.098  \n3                              0.143  \n4                              0.082  \n...                              ...  \n120818                      -99999.0  \n120819                      -99999.0  \n120820                      -99999.0  \n120821                      -99999.0  \n120822                      -99999.0  \n\n[120823 rows x 18 columns]",
            "text/html": "<div>\n<style scoped>\n    .dataframe tbody tr th:only-of-type {\n        vertical-align: middle;\n    }\n\n    .dataframe tbody tr th {\n        vertical-align: top;\n    }\n\n    .dataframe thead th {\n        text-align: right;\n    }\n</style>\n<table border=\"1\" class=\"dataframe\">\n  <thead>\n    <tr style=\"text-align: right;\">\n      <th></th>\n      <th>DATA INICIAL</th>\n      <th>DATA FINAL</th>\n      <th>REGIÃO</th>\n      <th>ESTADO</th>\n      <th>PRODUTO</th>\n      <th>NÚMERO DE POSTOS PESQUISADOS</th>\n      <th>UNIDADE DE MEDIDA</th>\n      <th>PREÇO MÉDIO REVENDA</th>\n      <th>DESVIO PADRÃO REVENDA</th>\n      <th>PREÇO MÍNIMO REVENDA</th>\n      <th>PREÇO MÁXIMO REVENDA</th>\n      <th>MARGEM MÉDIA REVENDA</th>\n      <th>COEF DE VARIAÇÃO REVENDA</th>\n      <th>PREÇO MÉDIO DISTRIBUIÇÃO</th>\n      <th>DESVIO PADRÃO DISTRIBUIÇÃO</th>\n      <th>PREÇO MÍNIMO DISTRIBUIÇÃO</th>\n      <th>PREÇO MÁXIMO DISTRIBUIÇÃO</th>\n      <th>COEF DE VARIAÇÃO DISTRIBUIÇÃO</th>\n    </tr>\n  </thead>\n  <tbody>\n    <tr>\n      <th>0</th>\n      <td>2004-05-09</td>\n      <td>2004-05-15</td>\n      <td>CENTRO OESTE</td>\n      <td>DISTRITO FEDERAL</td>\n      <td>ETANOL HIDRATADO</td>\n      <td>127</td>\n      <td>R$/l</td>\n      <td>1.288</td>\n      <td>0.016</td>\n      <td>1.190</td>\n      <td>1.350</td>\n      <td>0.463</td>\n      <td>0.012</td>\n      <td>0.825</td>\n      <td>0.11</td>\n      <td>0.4201</td>\n      <td>0.9666</td>\n      <td>0.133</td>\n    </tr>\n    <tr>\n      <th>1</th>\n      <td>2004-05-09</td>\n      <td>2004-05-15</td>\n      <td>CENTRO OESTE</td>\n      <td>GOIAS</td>\n      <td>ETANOL HIDRATADO</td>\n      <td>387</td>\n      <td>R$/l</td>\n      <td>1.162</td>\n      <td>0.114</td>\n      <td>0.890</td>\n      <td>1.449</td>\n      <td>0.399</td>\n      <td>0.098</td>\n      <td>0.763</td>\n      <td>0.088</td>\n      <td>0.5013</td>\n      <td>1.05</td>\n      <td>0.115</td>\n    </tr>\n    <tr>\n      <th>2</th>\n      <td>2004-05-09</td>\n      <td>2004-05-15</td>\n      <td>CENTRO OESTE</td>\n      <td>MATO GROSSO</td>\n      <td>ETANOL HIDRATADO</td>\n      <td>192</td>\n      <td>R$/l</td>\n      <td>1.389</td>\n      <td>0.097</td>\n      <td>1.180</td>\n      <td>1.760</td>\n      <td>0.419</td>\n      <td>0.070</td>\n      <td>0.97</td>\n      <td>0.095</td>\n      <td>0.5614</td>\n      <td>1.161</td>\n      <td>0.098</td>\n    </tr>\n    <tr>\n      <th>3</th>\n      <td>2004-05-09</td>\n      <td>2004-05-15</td>\n      <td>CENTRO OESTE</td>\n      <td>MATO GROSSO DO SUL</td>\n      <td>ETANOL HIDRATADO</td>\n      <td>162</td>\n      <td>R$/l</td>\n      <td>1.262</td>\n      <td>0.070</td>\n      <td>1.090</td>\n      <td>1.509</td>\n      <td>0.432</td>\n      <td>0.055</td>\n      <td>0.83</td>\n      <td>0.119</td>\n      <td>0.5991</td>\n      <td>1.22242</td>\n      <td>0.143</td>\n    </tr>\n    <tr>\n      <th>4</th>\n      <td>2004-05-09</td>\n      <td>2004-05-15</td>\n      <td>NORDESTE</td>\n      <td>ALAGOAS</td>\n      <td>ETANOL HIDRATADO</td>\n      <td>103</td>\n      <td>R$/l</td>\n      <td>1.181</td>\n      <td>0.078</td>\n      <td>1.050</td>\n      <td>1.400</td>\n      <td>0.24</td>\n      <td>0.066</td>\n      <td>0.941</td>\n      <td>0.077</td>\n      <td>0.7441</td>\n      <td>1.0317</td>\n      <td>0.082</td>\n    </tr>\n    <tr>\n      <th>...</th>\n      <td>...</td>\n      <td>...</td>\n      <td>...</td>\n      <td>...</td>\n      <td>...</td>\n      <td>...</td>\n      <td>...</td>\n      <td>...</td>\n      <td>...</td>\n      <td>...</td>\n      <td>...</td>\n      <td>...</td>\n      <td>...</td>\n      <td>...</td>\n      <td>...</td>\n      <td>...</td>\n      <td>...</td>\n      <td>...</td>\n    </tr>\n    <tr>\n      <th>120818</th>\n      <td>2021-04-25</td>\n      <td>2021-05-01</td>\n      <td>NORTE</td>\n      <td>RORAIMA</td>\n      <td>OLEO DIESEL S10</td>\n      <td>12</td>\n      <td>R$/l</td>\n      <td>4.582</td>\n      <td>0.056</td>\n      <td>4.510</td>\n      <td>4.690</td>\n      <td>-99999.0</td>\n      <td>0.012</td>\n      <td>-99999.0</td>\n      <td>-99999.0</td>\n      <td>-99999.0</td>\n      <td>-99999.0</td>\n      <td>-99999.0</td>\n    </tr>\n    <tr>\n      <th>120819</th>\n      <td>2021-04-25</td>\n      <td>2021-05-01</td>\n      <td>SUL</td>\n      <td>SANTA CATARINA</td>\n      <td>OLEO DIESEL S10</td>\n      <td>100</td>\n      <td>R$/l</td>\n      <td>4.141</td>\n      <td>0.187</td>\n      <td>3.838</td>\n      <td>4.739</td>\n      <td>-99999.0</td>\n      <td>0.045</td>\n      <td>-99999.0</td>\n      <td>-99999.0</td>\n      <td>-99999.0</td>\n      <td>-99999.0</td>\n      <td>-99999.0</td>\n    </tr>\n    <tr>\n      <th>120820</th>\n      <td>2021-04-25</td>\n      <td>2021-05-01</td>\n      <td>SUDESTE</td>\n      <td>SAO PAULO</td>\n      <td>OLEO DIESEL S10</td>\n      <td>886</td>\n      <td>R$/l</td>\n      <td>4.246</td>\n      <td>0.216</td>\n      <td>3.769</td>\n      <td>5.199</td>\n      <td>-99999.0</td>\n      <td>0.051</td>\n      <td>-99999.0</td>\n      <td>-99999.0</td>\n      <td>-99999.0</td>\n      <td>-99999.0</td>\n      <td>-99999.0</td>\n    </tr>\n    <tr>\n      <th>120821</th>\n      <td>2021-04-25</td>\n      <td>2021-05-01</td>\n      <td>NORDESTE</td>\n      <td>SERGIPE</td>\n      <td>OLEO DIESEL S10</td>\n      <td>33</td>\n      <td>R$/l</td>\n      <td>4.464</td>\n      <td>0.205</td>\n      <td>4.190</td>\n      <td>4.699</td>\n      <td>-99999.0</td>\n      <td>0.046</td>\n      <td>-99999.0</td>\n      <td>-99999.0</td>\n      <td>-99999.0</td>\n      <td>-99999.0</td>\n      <td>-99999.0</td>\n    </tr>\n    <tr>\n      <th>120822</th>\n      <td>2021-04-25</td>\n      <td>2021-05-01</td>\n      <td>NORTE</td>\n      <td>TOCANTINS</td>\n      <td>OLEO DIESEL S10</td>\n      <td>18</td>\n      <td>R$/l</td>\n      <td>4.352</td>\n      <td>0.156</td>\n      <td>4.199</td>\n      <td>4.699</td>\n      <td>-99999.0</td>\n      <td>0.036</td>\n      <td>-99999.0</td>\n      <td>-99999.0</td>\n      <td>-99999.0</td>\n      <td>-99999.0</td>\n      <td>-99999.0</td>\n    </tr>\n  </tbody>\n</table>\n<p>120823 rows × 18 columns</p>\n</div>"
          },
          "metadata": {}
        }
      ],
      "execution_count": 113
    },
    {
      "id": "positive-neutral",
      "cell_type": "markdown",
      "source": "#### 1.3.4.3 Criando novas colunas\nPara **criar uma nova coluna** em um data frame, basta atribuirmos uma _lista/Series de valores_ a uma **nova 'chave'** do data frame. <br/>\n\n**PS:** A _quantidade de valores_ da lista precisa ser **igual** ao _número de linhas/registros_ do data frame.",
      "metadata": {}
    },
    {
      "id": "dense-background",
      "cell_type": "code",
      "source": "# Criando umma coluna a partir de um valor constante/DEFAULT\n# todas as linhas terão o mesmo valor para esta nova coluna\ndata['coluna sem nocao'] = 'DEFAULT'\ndata",
      "metadata": {
        "trusted": true
      },
      "outputs": [
        {
          "execution_count": 114,
          "output_type": "execute_result",
          "data": {
            "text/plain": "       DATA INICIAL  DATA FINAL        REGIÃO              ESTADO  \\\n0        2004-05-09  2004-05-15  CENTRO OESTE    DISTRITO FEDERAL   \n1        2004-05-09  2004-05-15  CENTRO OESTE               GOIAS   \n2        2004-05-09  2004-05-15  CENTRO OESTE         MATO GROSSO   \n3        2004-05-09  2004-05-15  CENTRO OESTE  MATO GROSSO DO SUL   \n4        2004-05-09  2004-05-15      NORDESTE             ALAGOAS   \n...             ...         ...           ...                 ...   \n120818   2021-04-25  2021-05-01         NORTE             RORAIMA   \n120819   2021-04-25  2021-05-01           SUL      SANTA CATARINA   \n120820   2021-04-25  2021-05-01       SUDESTE           SAO PAULO   \n120821   2021-04-25  2021-05-01      NORDESTE             SERGIPE   \n120822   2021-04-25  2021-05-01         NORTE           TOCANTINS   \n\n                 PRODUTO  NÚMERO DE POSTOS PESQUISADOS UNIDADE DE MEDIDA  \\\n0       ETANOL HIDRATADO                           127              R$/l   \n1       ETANOL HIDRATADO                           387              R$/l   \n2       ETANOL HIDRATADO                           192              R$/l   \n3       ETANOL HIDRATADO                           162              R$/l   \n4       ETANOL HIDRATADO                           103              R$/l   \n...                  ...                           ...               ...   \n120818   OLEO DIESEL S10                            12              R$/l   \n120819   OLEO DIESEL S10                           100              R$/l   \n120820   OLEO DIESEL S10                           886              R$/l   \n120821   OLEO DIESEL S10                            33              R$/l   \n120822   OLEO DIESEL S10                            18              R$/l   \n\n        PREÇO MÉDIO REVENDA  DESVIO PADRÃO REVENDA  PREÇO MÍNIMO REVENDA  \\\n0                     1.288                  0.016                 1.190   \n1                     1.162                  0.114                 0.890   \n2                     1.389                  0.097                 1.180   \n3                     1.262                  0.070                 1.090   \n4                     1.181                  0.078                 1.050   \n...                     ...                    ...                   ...   \n120818                4.582                  0.056                 4.510   \n120819                4.141                  0.187                 3.838   \n120820                4.246                  0.216                 3.769   \n120821                4.464                  0.205                 4.190   \n120822                4.352                  0.156                 4.199   \n\n        PREÇO MÁXIMO REVENDA MARGEM MÉDIA REVENDA  COEF DE VARIAÇÃO REVENDA  \\\n0                      1.350                0.463                     0.012   \n1                      1.449                0.399                     0.098   \n2                      1.760                0.419                     0.070   \n3                      1.509                0.432                     0.055   \n4                      1.400                 0.24                     0.066   \n...                      ...                  ...                       ...   \n120818                 4.690             -99999.0                     0.012   \n120819                 4.739             -99999.0                     0.045   \n120820                 5.199             -99999.0                     0.051   \n120821                 4.699             -99999.0                     0.046   \n120822                 4.699             -99999.0                     0.036   \n\n       PREÇO MÉDIO DISTRIBUIÇÃO DESVIO PADRÃO DISTRIBUIÇÃO  \\\n0                         0.825                       0.11   \n1                         0.763                      0.088   \n2                          0.97                      0.095   \n3                          0.83                      0.119   \n4                         0.941                      0.077   \n...                         ...                        ...   \n120818                 -99999.0                   -99999.0   \n120819                 -99999.0                   -99999.0   \n120820                 -99999.0                   -99999.0   \n120821                 -99999.0                   -99999.0   \n120822                 -99999.0                   -99999.0   \n\n       PREÇO MÍNIMO DISTRIBUIÇÃO PREÇO MÁXIMO DISTRIBUIÇÃO  \\\n0                         0.4201                    0.9666   \n1                         0.5013                      1.05   \n2                         0.5614                     1.161   \n3                         0.5991                   1.22242   \n4                         0.7441                    1.0317   \n...                          ...                       ...   \n120818                  -99999.0                  -99999.0   \n120819                  -99999.0                  -99999.0   \n120820                  -99999.0                  -99999.0   \n120821                  -99999.0                  -99999.0   \n120822                  -99999.0                  -99999.0   \n\n       COEF DE VARIAÇÃO DISTRIBUIÇÃO coluna sem nocao  \n0                              0.133          DEFAULT  \n1                              0.115          DEFAULT  \n2                              0.098          DEFAULT  \n3                              0.143          DEFAULT  \n4                              0.082          DEFAULT  \n...                              ...              ...  \n120818                      -99999.0          DEFAULT  \n120819                      -99999.0          DEFAULT  \n120820                      -99999.0          DEFAULT  \n120821                      -99999.0          DEFAULT  \n120822                      -99999.0          DEFAULT  \n\n[120823 rows x 19 columns]",
            "text/html": "<div>\n<style scoped>\n    .dataframe tbody tr th:only-of-type {\n        vertical-align: middle;\n    }\n\n    .dataframe tbody tr th {\n        vertical-align: top;\n    }\n\n    .dataframe thead th {\n        text-align: right;\n    }\n</style>\n<table border=\"1\" class=\"dataframe\">\n  <thead>\n    <tr style=\"text-align: right;\">\n      <th></th>\n      <th>DATA INICIAL</th>\n      <th>DATA FINAL</th>\n      <th>REGIÃO</th>\n      <th>ESTADO</th>\n      <th>PRODUTO</th>\n      <th>NÚMERO DE POSTOS PESQUISADOS</th>\n      <th>UNIDADE DE MEDIDA</th>\n      <th>PREÇO MÉDIO REVENDA</th>\n      <th>DESVIO PADRÃO REVENDA</th>\n      <th>PREÇO MÍNIMO REVENDA</th>\n      <th>PREÇO MÁXIMO REVENDA</th>\n      <th>MARGEM MÉDIA REVENDA</th>\n      <th>COEF DE VARIAÇÃO REVENDA</th>\n      <th>PREÇO MÉDIO DISTRIBUIÇÃO</th>\n      <th>DESVIO PADRÃO DISTRIBUIÇÃO</th>\n      <th>PREÇO MÍNIMO DISTRIBUIÇÃO</th>\n      <th>PREÇO MÁXIMO DISTRIBUIÇÃO</th>\n      <th>COEF DE VARIAÇÃO DISTRIBUIÇÃO</th>\n      <th>coluna sem nocao</th>\n    </tr>\n  </thead>\n  <tbody>\n    <tr>\n      <th>0</th>\n      <td>2004-05-09</td>\n      <td>2004-05-15</td>\n      <td>CENTRO OESTE</td>\n      <td>DISTRITO FEDERAL</td>\n      <td>ETANOL HIDRATADO</td>\n      <td>127</td>\n      <td>R$/l</td>\n      <td>1.288</td>\n      <td>0.016</td>\n      <td>1.190</td>\n      <td>1.350</td>\n      <td>0.463</td>\n      <td>0.012</td>\n      <td>0.825</td>\n      <td>0.11</td>\n      <td>0.4201</td>\n      <td>0.9666</td>\n      <td>0.133</td>\n      <td>DEFAULT</td>\n    </tr>\n    <tr>\n      <th>1</th>\n      <td>2004-05-09</td>\n      <td>2004-05-15</td>\n      <td>CENTRO OESTE</td>\n      <td>GOIAS</td>\n      <td>ETANOL HIDRATADO</td>\n      <td>387</td>\n      <td>R$/l</td>\n      <td>1.162</td>\n      <td>0.114</td>\n      <td>0.890</td>\n      <td>1.449</td>\n      <td>0.399</td>\n      <td>0.098</td>\n      <td>0.763</td>\n      <td>0.088</td>\n      <td>0.5013</td>\n      <td>1.05</td>\n      <td>0.115</td>\n      <td>DEFAULT</td>\n    </tr>\n    <tr>\n      <th>2</th>\n      <td>2004-05-09</td>\n      <td>2004-05-15</td>\n      <td>CENTRO OESTE</td>\n      <td>MATO GROSSO</td>\n      <td>ETANOL HIDRATADO</td>\n      <td>192</td>\n      <td>R$/l</td>\n      <td>1.389</td>\n      <td>0.097</td>\n      <td>1.180</td>\n      <td>1.760</td>\n      <td>0.419</td>\n      <td>0.070</td>\n      <td>0.97</td>\n      <td>0.095</td>\n      <td>0.5614</td>\n      <td>1.161</td>\n      <td>0.098</td>\n      <td>DEFAULT</td>\n    </tr>\n    <tr>\n      <th>3</th>\n      <td>2004-05-09</td>\n      <td>2004-05-15</td>\n      <td>CENTRO OESTE</td>\n      <td>MATO GROSSO DO SUL</td>\n      <td>ETANOL HIDRATADO</td>\n      <td>162</td>\n      <td>R$/l</td>\n      <td>1.262</td>\n      <td>0.070</td>\n      <td>1.090</td>\n      <td>1.509</td>\n      <td>0.432</td>\n      <td>0.055</td>\n      <td>0.83</td>\n      <td>0.119</td>\n      <td>0.5991</td>\n      <td>1.22242</td>\n      <td>0.143</td>\n      <td>DEFAULT</td>\n    </tr>\n    <tr>\n      <th>4</th>\n      <td>2004-05-09</td>\n      <td>2004-05-15</td>\n      <td>NORDESTE</td>\n      <td>ALAGOAS</td>\n      <td>ETANOL HIDRATADO</td>\n      <td>103</td>\n      <td>R$/l</td>\n      <td>1.181</td>\n      <td>0.078</td>\n      <td>1.050</td>\n      <td>1.400</td>\n      <td>0.24</td>\n      <td>0.066</td>\n      <td>0.941</td>\n      <td>0.077</td>\n      <td>0.7441</td>\n      <td>1.0317</td>\n      <td>0.082</td>\n      <td>DEFAULT</td>\n    </tr>\n    <tr>\n      <th>...</th>\n      <td>...</td>\n      <td>...</td>\n      <td>...</td>\n      <td>...</td>\n      <td>...</td>\n      <td>...</td>\n      <td>...</td>\n      <td>...</td>\n      <td>...</td>\n      <td>...</td>\n      <td>...</td>\n      <td>...</td>\n      <td>...</td>\n      <td>...</td>\n      <td>...</td>\n      <td>...</td>\n      <td>...</td>\n      <td>...</td>\n      <td>...</td>\n    </tr>\n    <tr>\n      <th>120818</th>\n      <td>2021-04-25</td>\n      <td>2021-05-01</td>\n      <td>NORTE</td>\n      <td>RORAIMA</td>\n      <td>OLEO DIESEL S10</td>\n      <td>12</td>\n      <td>R$/l</td>\n      <td>4.582</td>\n      <td>0.056</td>\n      <td>4.510</td>\n      <td>4.690</td>\n      <td>-99999.0</td>\n      <td>0.012</td>\n      <td>-99999.0</td>\n      <td>-99999.0</td>\n      <td>-99999.0</td>\n      <td>-99999.0</td>\n      <td>-99999.0</td>\n      <td>DEFAULT</td>\n    </tr>\n    <tr>\n      <th>120819</th>\n      <td>2021-04-25</td>\n      <td>2021-05-01</td>\n      <td>SUL</td>\n      <td>SANTA CATARINA</td>\n      <td>OLEO DIESEL S10</td>\n      <td>100</td>\n      <td>R$/l</td>\n      <td>4.141</td>\n      <td>0.187</td>\n      <td>3.838</td>\n      <td>4.739</td>\n      <td>-99999.0</td>\n      <td>0.045</td>\n      <td>-99999.0</td>\n      <td>-99999.0</td>\n      <td>-99999.0</td>\n      <td>-99999.0</td>\n      <td>-99999.0</td>\n      <td>DEFAULT</td>\n    </tr>\n    <tr>\n      <th>120820</th>\n      <td>2021-04-25</td>\n      <td>2021-05-01</td>\n      <td>SUDESTE</td>\n      <td>SAO PAULO</td>\n      <td>OLEO DIESEL S10</td>\n      <td>886</td>\n      <td>R$/l</td>\n      <td>4.246</td>\n      <td>0.216</td>\n      <td>3.769</td>\n      <td>5.199</td>\n      <td>-99999.0</td>\n      <td>0.051</td>\n      <td>-99999.0</td>\n      <td>-99999.0</td>\n      <td>-99999.0</td>\n      <td>-99999.0</td>\n      <td>-99999.0</td>\n      <td>DEFAULT</td>\n    </tr>\n    <tr>\n      <th>120821</th>\n      <td>2021-04-25</td>\n      <td>2021-05-01</td>\n      <td>NORDESTE</td>\n      <td>SERGIPE</td>\n      <td>OLEO DIESEL S10</td>\n      <td>33</td>\n      <td>R$/l</td>\n      <td>4.464</td>\n      <td>0.205</td>\n      <td>4.190</td>\n      <td>4.699</td>\n      <td>-99999.0</td>\n      <td>0.046</td>\n      <td>-99999.0</td>\n      <td>-99999.0</td>\n      <td>-99999.0</td>\n      <td>-99999.0</td>\n      <td>-99999.0</td>\n      <td>DEFAULT</td>\n    </tr>\n    <tr>\n      <th>120822</th>\n      <td>2021-04-25</td>\n      <td>2021-05-01</td>\n      <td>NORTE</td>\n      <td>TOCANTINS</td>\n      <td>OLEO DIESEL S10</td>\n      <td>18</td>\n      <td>R$/l</td>\n      <td>4.352</td>\n      <td>0.156</td>\n      <td>4.199</td>\n      <td>4.699</td>\n      <td>-99999.0</td>\n      <td>0.036</td>\n      <td>-99999.0</td>\n      <td>-99999.0</td>\n      <td>-99999.0</td>\n      <td>-99999.0</td>\n      <td>-99999.0</td>\n      <td>DEFAULT</td>\n    </tr>\n  </tbody>\n</table>\n<p>120823 rows × 19 columns</p>\n</div>"
          },
          "metadata": {}
        }
      ],
      "execution_count": 114
    },
    {
      "id": "neither-disposal",
      "cell_type": "code",
      "source": "data['Coluna a partir de lista'] = range(data.shape[0])",
      "metadata": {
        "trusted": true
      },
      "outputs": [],
      "execution_count": 115
    },
    {
      "id": "electrical-extreme",
      "cell_type": "code",
      "source": "data",
      "metadata": {
        "trusted": true
      },
      "outputs": [
        {
          "execution_count": 116,
          "output_type": "execute_result",
          "data": {
            "text/plain": "       DATA INICIAL  DATA FINAL        REGIÃO              ESTADO  \\\n0        2004-05-09  2004-05-15  CENTRO OESTE    DISTRITO FEDERAL   \n1        2004-05-09  2004-05-15  CENTRO OESTE               GOIAS   \n2        2004-05-09  2004-05-15  CENTRO OESTE         MATO GROSSO   \n3        2004-05-09  2004-05-15  CENTRO OESTE  MATO GROSSO DO SUL   \n4        2004-05-09  2004-05-15      NORDESTE             ALAGOAS   \n...             ...         ...           ...                 ...   \n120818   2021-04-25  2021-05-01         NORTE             RORAIMA   \n120819   2021-04-25  2021-05-01           SUL      SANTA CATARINA   \n120820   2021-04-25  2021-05-01       SUDESTE           SAO PAULO   \n120821   2021-04-25  2021-05-01      NORDESTE             SERGIPE   \n120822   2021-04-25  2021-05-01         NORTE           TOCANTINS   \n\n                 PRODUTO  NÚMERO DE POSTOS PESQUISADOS UNIDADE DE MEDIDA  \\\n0       ETANOL HIDRATADO                           127              R$/l   \n1       ETANOL HIDRATADO                           387              R$/l   \n2       ETANOL HIDRATADO                           192              R$/l   \n3       ETANOL HIDRATADO                           162              R$/l   \n4       ETANOL HIDRATADO                           103              R$/l   \n...                  ...                           ...               ...   \n120818   OLEO DIESEL S10                            12              R$/l   \n120819   OLEO DIESEL S10                           100              R$/l   \n120820   OLEO DIESEL S10                           886              R$/l   \n120821   OLEO DIESEL S10                            33              R$/l   \n120822   OLEO DIESEL S10                            18              R$/l   \n\n        PREÇO MÉDIO REVENDA  DESVIO PADRÃO REVENDA  PREÇO MÍNIMO REVENDA  \\\n0                     1.288                  0.016                 1.190   \n1                     1.162                  0.114                 0.890   \n2                     1.389                  0.097                 1.180   \n3                     1.262                  0.070                 1.090   \n4                     1.181                  0.078                 1.050   \n...                     ...                    ...                   ...   \n120818                4.582                  0.056                 4.510   \n120819                4.141                  0.187                 3.838   \n120820                4.246                  0.216                 3.769   \n120821                4.464                  0.205                 4.190   \n120822                4.352                  0.156                 4.199   \n\n        PREÇO MÁXIMO REVENDA MARGEM MÉDIA REVENDA  COEF DE VARIAÇÃO REVENDA  \\\n0                      1.350                0.463                     0.012   \n1                      1.449                0.399                     0.098   \n2                      1.760                0.419                     0.070   \n3                      1.509                0.432                     0.055   \n4                      1.400                 0.24                     0.066   \n...                      ...                  ...                       ...   \n120818                 4.690             -99999.0                     0.012   \n120819                 4.739             -99999.0                     0.045   \n120820                 5.199             -99999.0                     0.051   \n120821                 4.699             -99999.0                     0.046   \n120822                 4.699             -99999.0                     0.036   \n\n       PREÇO MÉDIO DISTRIBUIÇÃO DESVIO PADRÃO DISTRIBUIÇÃO  \\\n0                         0.825                       0.11   \n1                         0.763                      0.088   \n2                          0.97                      0.095   \n3                          0.83                      0.119   \n4                         0.941                      0.077   \n...                         ...                        ...   \n120818                 -99999.0                   -99999.0   \n120819                 -99999.0                   -99999.0   \n120820                 -99999.0                   -99999.0   \n120821                 -99999.0                   -99999.0   \n120822                 -99999.0                   -99999.0   \n\n       PREÇO MÍNIMO DISTRIBUIÇÃO PREÇO MÁXIMO DISTRIBUIÇÃO  \\\n0                         0.4201                    0.9666   \n1                         0.5013                      1.05   \n2                         0.5614                     1.161   \n3                         0.5991                   1.22242   \n4                         0.7441                    1.0317   \n...                          ...                       ...   \n120818                  -99999.0                  -99999.0   \n120819                  -99999.0                  -99999.0   \n120820                  -99999.0                  -99999.0   \n120821                  -99999.0                  -99999.0   \n120822                  -99999.0                  -99999.0   \n\n       COEF DE VARIAÇÃO DISTRIBUIÇÃO coluna sem nocao  \\\n0                              0.133          DEFAULT   \n1                              0.115          DEFAULT   \n2                              0.098          DEFAULT   \n3                              0.143          DEFAULT   \n4                              0.082          DEFAULT   \n...                              ...              ...   \n120818                      -99999.0          DEFAULT   \n120819                      -99999.0          DEFAULT   \n120820                      -99999.0          DEFAULT   \n120821                      -99999.0          DEFAULT   \n120822                      -99999.0          DEFAULT   \n\n        Coluna a partir de lista  \n0                              0  \n1                              1  \n2                              2  \n3                              3  \n4                              4  \n...                          ...  \n120818                    120818  \n120819                    120819  \n120820                    120820  \n120821                    120821  \n120822                    120822  \n\n[120823 rows x 20 columns]",
            "text/html": "<div>\n<style scoped>\n    .dataframe tbody tr th:only-of-type {\n        vertical-align: middle;\n    }\n\n    .dataframe tbody tr th {\n        vertical-align: top;\n    }\n\n    .dataframe thead th {\n        text-align: right;\n    }\n</style>\n<table border=\"1\" class=\"dataframe\">\n  <thead>\n    <tr style=\"text-align: right;\">\n      <th></th>\n      <th>DATA INICIAL</th>\n      <th>DATA FINAL</th>\n      <th>REGIÃO</th>\n      <th>ESTADO</th>\n      <th>PRODUTO</th>\n      <th>NÚMERO DE POSTOS PESQUISADOS</th>\n      <th>UNIDADE DE MEDIDA</th>\n      <th>PREÇO MÉDIO REVENDA</th>\n      <th>DESVIO PADRÃO REVENDA</th>\n      <th>PREÇO MÍNIMO REVENDA</th>\n      <th>PREÇO MÁXIMO REVENDA</th>\n      <th>MARGEM MÉDIA REVENDA</th>\n      <th>COEF DE VARIAÇÃO REVENDA</th>\n      <th>PREÇO MÉDIO DISTRIBUIÇÃO</th>\n      <th>DESVIO PADRÃO DISTRIBUIÇÃO</th>\n      <th>PREÇO MÍNIMO DISTRIBUIÇÃO</th>\n      <th>PREÇO MÁXIMO DISTRIBUIÇÃO</th>\n      <th>COEF DE VARIAÇÃO DISTRIBUIÇÃO</th>\n      <th>coluna sem nocao</th>\n      <th>Coluna a partir de lista</th>\n    </tr>\n  </thead>\n  <tbody>\n    <tr>\n      <th>0</th>\n      <td>2004-05-09</td>\n      <td>2004-05-15</td>\n      <td>CENTRO OESTE</td>\n      <td>DISTRITO FEDERAL</td>\n      <td>ETANOL HIDRATADO</td>\n      <td>127</td>\n      <td>R$/l</td>\n      <td>1.288</td>\n      <td>0.016</td>\n      <td>1.190</td>\n      <td>1.350</td>\n      <td>0.463</td>\n      <td>0.012</td>\n      <td>0.825</td>\n      <td>0.11</td>\n      <td>0.4201</td>\n      <td>0.9666</td>\n      <td>0.133</td>\n      <td>DEFAULT</td>\n      <td>0</td>\n    </tr>\n    <tr>\n      <th>1</th>\n      <td>2004-05-09</td>\n      <td>2004-05-15</td>\n      <td>CENTRO OESTE</td>\n      <td>GOIAS</td>\n      <td>ETANOL HIDRATADO</td>\n      <td>387</td>\n      <td>R$/l</td>\n      <td>1.162</td>\n      <td>0.114</td>\n      <td>0.890</td>\n      <td>1.449</td>\n      <td>0.399</td>\n      <td>0.098</td>\n      <td>0.763</td>\n      <td>0.088</td>\n      <td>0.5013</td>\n      <td>1.05</td>\n      <td>0.115</td>\n      <td>DEFAULT</td>\n      <td>1</td>\n    </tr>\n    <tr>\n      <th>2</th>\n      <td>2004-05-09</td>\n      <td>2004-05-15</td>\n      <td>CENTRO OESTE</td>\n      <td>MATO GROSSO</td>\n      <td>ETANOL HIDRATADO</td>\n      <td>192</td>\n      <td>R$/l</td>\n      <td>1.389</td>\n      <td>0.097</td>\n      <td>1.180</td>\n      <td>1.760</td>\n      <td>0.419</td>\n      <td>0.070</td>\n      <td>0.97</td>\n      <td>0.095</td>\n      <td>0.5614</td>\n      <td>1.161</td>\n      <td>0.098</td>\n      <td>DEFAULT</td>\n      <td>2</td>\n    </tr>\n    <tr>\n      <th>3</th>\n      <td>2004-05-09</td>\n      <td>2004-05-15</td>\n      <td>CENTRO OESTE</td>\n      <td>MATO GROSSO DO SUL</td>\n      <td>ETANOL HIDRATADO</td>\n      <td>162</td>\n      <td>R$/l</td>\n      <td>1.262</td>\n      <td>0.070</td>\n      <td>1.090</td>\n      <td>1.509</td>\n      <td>0.432</td>\n      <td>0.055</td>\n      <td>0.83</td>\n      <td>0.119</td>\n      <td>0.5991</td>\n      <td>1.22242</td>\n      <td>0.143</td>\n      <td>DEFAULT</td>\n      <td>3</td>\n    </tr>\n    <tr>\n      <th>4</th>\n      <td>2004-05-09</td>\n      <td>2004-05-15</td>\n      <td>NORDESTE</td>\n      <td>ALAGOAS</td>\n      <td>ETANOL HIDRATADO</td>\n      <td>103</td>\n      <td>R$/l</td>\n      <td>1.181</td>\n      <td>0.078</td>\n      <td>1.050</td>\n      <td>1.400</td>\n      <td>0.24</td>\n      <td>0.066</td>\n      <td>0.941</td>\n      <td>0.077</td>\n      <td>0.7441</td>\n      <td>1.0317</td>\n      <td>0.082</td>\n      <td>DEFAULT</td>\n      <td>4</td>\n    </tr>\n    <tr>\n      <th>...</th>\n      <td>...</td>\n      <td>...</td>\n      <td>...</td>\n      <td>...</td>\n      <td>...</td>\n      <td>...</td>\n      <td>...</td>\n      <td>...</td>\n      <td>...</td>\n      <td>...</td>\n      <td>...</td>\n      <td>...</td>\n      <td>...</td>\n      <td>...</td>\n      <td>...</td>\n      <td>...</td>\n      <td>...</td>\n      <td>...</td>\n      <td>...</td>\n      <td>...</td>\n    </tr>\n    <tr>\n      <th>120818</th>\n      <td>2021-04-25</td>\n      <td>2021-05-01</td>\n      <td>NORTE</td>\n      <td>RORAIMA</td>\n      <td>OLEO DIESEL S10</td>\n      <td>12</td>\n      <td>R$/l</td>\n      <td>4.582</td>\n      <td>0.056</td>\n      <td>4.510</td>\n      <td>4.690</td>\n      <td>-99999.0</td>\n      <td>0.012</td>\n      <td>-99999.0</td>\n      <td>-99999.0</td>\n      <td>-99999.0</td>\n      <td>-99999.0</td>\n      <td>-99999.0</td>\n      <td>DEFAULT</td>\n      <td>120818</td>\n    </tr>\n    <tr>\n      <th>120819</th>\n      <td>2021-04-25</td>\n      <td>2021-05-01</td>\n      <td>SUL</td>\n      <td>SANTA CATARINA</td>\n      <td>OLEO DIESEL S10</td>\n      <td>100</td>\n      <td>R$/l</td>\n      <td>4.141</td>\n      <td>0.187</td>\n      <td>3.838</td>\n      <td>4.739</td>\n      <td>-99999.0</td>\n      <td>0.045</td>\n      <td>-99999.0</td>\n      <td>-99999.0</td>\n      <td>-99999.0</td>\n      <td>-99999.0</td>\n      <td>-99999.0</td>\n      <td>DEFAULT</td>\n      <td>120819</td>\n    </tr>\n    <tr>\n      <th>120820</th>\n      <td>2021-04-25</td>\n      <td>2021-05-01</td>\n      <td>SUDESTE</td>\n      <td>SAO PAULO</td>\n      <td>OLEO DIESEL S10</td>\n      <td>886</td>\n      <td>R$/l</td>\n      <td>4.246</td>\n      <td>0.216</td>\n      <td>3.769</td>\n      <td>5.199</td>\n      <td>-99999.0</td>\n      <td>0.051</td>\n      <td>-99999.0</td>\n      <td>-99999.0</td>\n      <td>-99999.0</td>\n      <td>-99999.0</td>\n      <td>-99999.0</td>\n      <td>DEFAULT</td>\n      <td>120820</td>\n    </tr>\n    <tr>\n      <th>120821</th>\n      <td>2021-04-25</td>\n      <td>2021-05-01</td>\n      <td>NORDESTE</td>\n      <td>SERGIPE</td>\n      <td>OLEO DIESEL S10</td>\n      <td>33</td>\n      <td>R$/l</td>\n      <td>4.464</td>\n      <td>0.205</td>\n      <td>4.190</td>\n      <td>4.699</td>\n      <td>-99999.0</td>\n      <td>0.046</td>\n      <td>-99999.0</td>\n      <td>-99999.0</td>\n      <td>-99999.0</td>\n      <td>-99999.0</td>\n      <td>-99999.0</td>\n      <td>DEFAULT</td>\n      <td>120821</td>\n    </tr>\n    <tr>\n      <th>120822</th>\n      <td>2021-04-25</td>\n      <td>2021-05-01</td>\n      <td>NORTE</td>\n      <td>TOCANTINS</td>\n      <td>OLEO DIESEL S10</td>\n      <td>18</td>\n      <td>R$/l</td>\n      <td>4.352</td>\n      <td>0.156</td>\n      <td>4.199</td>\n      <td>4.699</td>\n      <td>-99999.0</td>\n      <td>0.036</td>\n      <td>-99999.0</td>\n      <td>-99999.0</td>\n      <td>-99999.0</td>\n      <td>-99999.0</td>\n      <td>-99999.0</td>\n      <td>DEFAULT</td>\n      <td>120822</td>\n    </tr>\n  </tbody>\n</table>\n<p>120823 rows × 20 columns</p>\n</div>"
          },
          "metadata": {}
        }
      ],
      "execution_count": 116
    },
    {
      "id": "protected-advertiser",
      "cell_type": "markdown",
      "source": "<br/>\n\nOutro exemplo:",
      "metadata": {}
    },
    {
      "id": "restricted-potential",
      "cell_type": "code",
      "source": "data.head()",
      "metadata": {
        "trusted": true
      },
      "outputs": [
        {
          "execution_count": 117,
          "output_type": "execute_result",
          "data": {
            "text/plain": "  DATA INICIAL  DATA FINAL        REGIÃO              ESTADO  \\\n0   2004-05-09  2004-05-15  CENTRO OESTE    DISTRITO FEDERAL   \n1   2004-05-09  2004-05-15  CENTRO OESTE               GOIAS   \n2   2004-05-09  2004-05-15  CENTRO OESTE         MATO GROSSO   \n3   2004-05-09  2004-05-15  CENTRO OESTE  MATO GROSSO DO SUL   \n4   2004-05-09  2004-05-15      NORDESTE             ALAGOAS   \n\n            PRODUTO  NÚMERO DE POSTOS PESQUISADOS UNIDADE DE MEDIDA  \\\n0  ETANOL HIDRATADO                           127              R$/l   \n1  ETANOL HIDRATADO                           387              R$/l   \n2  ETANOL HIDRATADO                           192              R$/l   \n3  ETANOL HIDRATADO                           162              R$/l   \n4  ETANOL HIDRATADO                           103              R$/l   \n\n   PREÇO MÉDIO REVENDA  DESVIO PADRÃO REVENDA  PREÇO MÍNIMO REVENDA  \\\n0                1.288                  0.016                  1.19   \n1                1.162                  0.114                  0.89   \n2                1.389                  0.097                  1.18   \n3                1.262                  0.070                  1.09   \n4                1.181                  0.078                  1.05   \n\n   PREÇO MÁXIMO REVENDA MARGEM MÉDIA REVENDA  COEF DE VARIAÇÃO REVENDA  \\\n0                 1.350                0.463                     0.012   \n1                 1.449                0.399                     0.098   \n2                 1.760                0.419                     0.070   \n3                 1.509                0.432                     0.055   \n4                 1.400                 0.24                     0.066   \n\n  PREÇO MÉDIO DISTRIBUIÇÃO DESVIO PADRÃO DISTRIBUIÇÃO  \\\n0                    0.825                       0.11   \n1                    0.763                      0.088   \n2                     0.97                      0.095   \n3                     0.83                      0.119   \n4                    0.941                      0.077   \n\n  PREÇO MÍNIMO DISTRIBUIÇÃO PREÇO MÁXIMO DISTRIBUIÇÃO  \\\n0                    0.4201                    0.9666   \n1                    0.5013                      1.05   \n2                    0.5614                     1.161   \n3                    0.5991                   1.22242   \n4                    0.7441                    1.0317   \n\n  COEF DE VARIAÇÃO DISTRIBUIÇÃO coluna sem nocao  Coluna a partir de lista  \n0                         0.133          DEFAULT                         0  \n1                         0.115          DEFAULT                         1  \n2                         0.098          DEFAULT                         2  \n3                         0.143          DEFAULT                         3  \n4                         0.082          DEFAULT                         4  ",
            "text/html": "<div>\n<style scoped>\n    .dataframe tbody tr th:only-of-type {\n        vertical-align: middle;\n    }\n\n    .dataframe tbody tr th {\n        vertical-align: top;\n    }\n\n    .dataframe thead th {\n        text-align: right;\n    }\n</style>\n<table border=\"1\" class=\"dataframe\">\n  <thead>\n    <tr style=\"text-align: right;\">\n      <th></th>\n      <th>DATA INICIAL</th>\n      <th>DATA FINAL</th>\n      <th>REGIÃO</th>\n      <th>ESTADO</th>\n      <th>PRODUTO</th>\n      <th>NÚMERO DE POSTOS PESQUISADOS</th>\n      <th>UNIDADE DE MEDIDA</th>\n      <th>PREÇO MÉDIO REVENDA</th>\n      <th>DESVIO PADRÃO REVENDA</th>\n      <th>PREÇO MÍNIMO REVENDA</th>\n      <th>PREÇO MÁXIMO REVENDA</th>\n      <th>MARGEM MÉDIA REVENDA</th>\n      <th>COEF DE VARIAÇÃO REVENDA</th>\n      <th>PREÇO MÉDIO DISTRIBUIÇÃO</th>\n      <th>DESVIO PADRÃO DISTRIBUIÇÃO</th>\n      <th>PREÇO MÍNIMO DISTRIBUIÇÃO</th>\n      <th>PREÇO MÁXIMO DISTRIBUIÇÃO</th>\n      <th>COEF DE VARIAÇÃO DISTRIBUIÇÃO</th>\n      <th>coluna sem nocao</th>\n      <th>Coluna a partir de lista</th>\n    </tr>\n  </thead>\n  <tbody>\n    <tr>\n      <th>0</th>\n      <td>2004-05-09</td>\n      <td>2004-05-15</td>\n      <td>CENTRO OESTE</td>\n      <td>DISTRITO FEDERAL</td>\n      <td>ETANOL HIDRATADO</td>\n      <td>127</td>\n      <td>R$/l</td>\n      <td>1.288</td>\n      <td>0.016</td>\n      <td>1.19</td>\n      <td>1.350</td>\n      <td>0.463</td>\n      <td>0.012</td>\n      <td>0.825</td>\n      <td>0.11</td>\n      <td>0.4201</td>\n      <td>0.9666</td>\n      <td>0.133</td>\n      <td>DEFAULT</td>\n      <td>0</td>\n    </tr>\n    <tr>\n      <th>1</th>\n      <td>2004-05-09</td>\n      <td>2004-05-15</td>\n      <td>CENTRO OESTE</td>\n      <td>GOIAS</td>\n      <td>ETANOL HIDRATADO</td>\n      <td>387</td>\n      <td>R$/l</td>\n      <td>1.162</td>\n      <td>0.114</td>\n      <td>0.89</td>\n      <td>1.449</td>\n      <td>0.399</td>\n      <td>0.098</td>\n      <td>0.763</td>\n      <td>0.088</td>\n      <td>0.5013</td>\n      <td>1.05</td>\n      <td>0.115</td>\n      <td>DEFAULT</td>\n      <td>1</td>\n    </tr>\n    <tr>\n      <th>2</th>\n      <td>2004-05-09</td>\n      <td>2004-05-15</td>\n      <td>CENTRO OESTE</td>\n      <td>MATO GROSSO</td>\n      <td>ETANOL HIDRATADO</td>\n      <td>192</td>\n      <td>R$/l</td>\n      <td>1.389</td>\n      <td>0.097</td>\n      <td>1.18</td>\n      <td>1.760</td>\n      <td>0.419</td>\n      <td>0.070</td>\n      <td>0.97</td>\n      <td>0.095</td>\n      <td>0.5614</td>\n      <td>1.161</td>\n      <td>0.098</td>\n      <td>DEFAULT</td>\n      <td>2</td>\n    </tr>\n    <tr>\n      <th>3</th>\n      <td>2004-05-09</td>\n      <td>2004-05-15</td>\n      <td>CENTRO OESTE</td>\n      <td>MATO GROSSO DO SUL</td>\n      <td>ETANOL HIDRATADO</td>\n      <td>162</td>\n      <td>R$/l</td>\n      <td>1.262</td>\n      <td>0.070</td>\n      <td>1.09</td>\n      <td>1.509</td>\n      <td>0.432</td>\n      <td>0.055</td>\n      <td>0.83</td>\n      <td>0.119</td>\n      <td>0.5991</td>\n      <td>1.22242</td>\n      <td>0.143</td>\n      <td>DEFAULT</td>\n      <td>3</td>\n    </tr>\n    <tr>\n      <th>4</th>\n      <td>2004-05-09</td>\n      <td>2004-05-15</td>\n      <td>NORDESTE</td>\n      <td>ALAGOAS</td>\n      <td>ETANOL HIDRATADO</td>\n      <td>103</td>\n      <td>R$/l</td>\n      <td>1.181</td>\n      <td>0.078</td>\n      <td>1.05</td>\n      <td>1.400</td>\n      <td>0.24</td>\n      <td>0.066</td>\n      <td>0.941</td>\n      <td>0.077</td>\n      <td>0.7441</td>\n      <td>1.0317</td>\n      <td>0.082</td>\n      <td>DEFAULT</td>\n      <td>4</td>\n    </tr>\n  </tbody>\n</table>\n</div>"
          },
          "metadata": {}
        }
      ],
      "execution_count": 117
    },
    {
      "id": "single-batman",
      "cell_type": "code",
      "source": "data['PREÇO MÉDIO REVENDA (dólares)'] = data['PREÇO MÉDIO REVENDA'] * 6.0\ndata",
      "metadata": {
        "trusted": true
      },
      "outputs": [
        {
          "execution_count": 118,
          "output_type": "execute_result",
          "data": {
            "text/plain": "       DATA INICIAL  DATA FINAL        REGIÃO              ESTADO  \\\n0        2004-05-09  2004-05-15  CENTRO OESTE    DISTRITO FEDERAL   \n1        2004-05-09  2004-05-15  CENTRO OESTE               GOIAS   \n2        2004-05-09  2004-05-15  CENTRO OESTE         MATO GROSSO   \n3        2004-05-09  2004-05-15  CENTRO OESTE  MATO GROSSO DO SUL   \n4        2004-05-09  2004-05-15      NORDESTE             ALAGOAS   \n...             ...         ...           ...                 ...   \n120818   2021-04-25  2021-05-01         NORTE             RORAIMA   \n120819   2021-04-25  2021-05-01           SUL      SANTA CATARINA   \n120820   2021-04-25  2021-05-01       SUDESTE           SAO PAULO   \n120821   2021-04-25  2021-05-01      NORDESTE             SERGIPE   \n120822   2021-04-25  2021-05-01         NORTE           TOCANTINS   \n\n                 PRODUTO  NÚMERO DE POSTOS PESQUISADOS UNIDADE DE MEDIDA  \\\n0       ETANOL HIDRATADO                           127              R$/l   \n1       ETANOL HIDRATADO                           387              R$/l   \n2       ETANOL HIDRATADO                           192              R$/l   \n3       ETANOL HIDRATADO                           162              R$/l   \n4       ETANOL HIDRATADO                           103              R$/l   \n...                  ...                           ...               ...   \n120818   OLEO DIESEL S10                            12              R$/l   \n120819   OLEO DIESEL S10                           100              R$/l   \n120820   OLEO DIESEL S10                           886              R$/l   \n120821   OLEO DIESEL S10                            33              R$/l   \n120822   OLEO DIESEL S10                            18              R$/l   \n\n        PREÇO MÉDIO REVENDA  DESVIO PADRÃO REVENDA  PREÇO MÍNIMO REVENDA  ...  \\\n0                     1.288                  0.016                 1.190  ...   \n1                     1.162                  0.114                 0.890  ...   \n2                     1.389                  0.097                 1.180  ...   \n3                     1.262                  0.070                 1.090  ...   \n4                     1.181                  0.078                 1.050  ...   \n...                     ...                    ...                   ...  ...   \n120818                4.582                  0.056                 4.510  ...   \n120819                4.141                  0.187                 3.838  ...   \n120820                4.246                  0.216                 3.769  ...   \n120821                4.464                  0.205                 4.190  ...   \n120822                4.352                  0.156                 4.199  ...   \n\n        MARGEM MÉDIA REVENDA COEF DE VARIAÇÃO REVENDA  \\\n0                      0.463                    0.012   \n1                      0.399                    0.098   \n2                      0.419                    0.070   \n3                      0.432                    0.055   \n4                       0.24                    0.066   \n...                      ...                      ...   \n120818              -99999.0                    0.012   \n120819              -99999.0                    0.045   \n120820              -99999.0                    0.051   \n120821              -99999.0                    0.046   \n120822              -99999.0                    0.036   \n\n        PREÇO MÉDIO DISTRIBUIÇÃO DESVIO PADRÃO DISTRIBUIÇÃO  \\\n0                          0.825                       0.11   \n1                          0.763                      0.088   \n2                           0.97                      0.095   \n3                           0.83                      0.119   \n4                          0.941                      0.077   \n...                          ...                        ...   \n120818                  -99999.0                   -99999.0   \n120819                  -99999.0                   -99999.0   \n120820                  -99999.0                   -99999.0   \n120821                  -99999.0                   -99999.0   \n120822                  -99999.0                   -99999.0   \n\n       PREÇO MÍNIMO DISTRIBUIÇÃO PREÇO MÁXIMO DISTRIBUIÇÃO  \\\n0                         0.4201                    0.9666   \n1                         0.5013                      1.05   \n2                         0.5614                     1.161   \n3                         0.5991                   1.22242   \n4                         0.7441                    1.0317   \n...                          ...                       ...   \n120818                  -99999.0                  -99999.0   \n120819                  -99999.0                  -99999.0   \n120820                  -99999.0                  -99999.0   \n120821                  -99999.0                  -99999.0   \n120822                  -99999.0                  -99999.0   \n\n       COEF DE VARIAÇÃO DISTRIBUIÇÃO coluna sem nocao  \\\n0                              0.133          DEFAULT   \n1                              0.115          DEFAULT   \n2                              0.098          DEFAULT   \n3                              0.143          DEFAULT   \n4                              0.082          DEFAULT   \n...                              ...              ...   \n120818                      -99999.0          DEFAULT   \n120819                      -99999.0          DEFAULT   \n120820                      -99999.0          DEFAULT   \n120821                      -99999.0          DEFAULT   \n120822                      -99999.0          DEFAULT   \n\n       Coluna a partir de lista  PREÇO MÉDIO REVENDA (dólares)  \n0                             0                          7.728  \n1                             1                          6.972  \n2                             2                          8.334  \n3                             3                          7.572  \n4                             4                          7.086  \n...                         ...                            ...  \n120818                   120818                         27.492  \n120819                   120819                         24.846  \n120820                   120820                         25.476  \n120821                   120821                         26.784  \n120822                   120822                         26.112  \n\n[120823 rows x 21 columns]",
            "text/html": "<div>\n<style scoped>\n    .dataframe tbody tr th:only-of-type {\n        vertical-align: middle;\n    }\n\n    .dataframe tbody tr th {\n        vertical-align: top;\n    }\n\n    .dataframe thead th {\n        text-align: right;\n    }\n</style>\n<table border=\"1\" class=\"dataframe\">\n  <thead>\n    <tr style=\"text-align: right;\">\n      <th></th>\n      <th>DATA INICIAL</th>\n      <th>DATA FINAL</th>\n      <th>REGIÃO</th>\n      <th>ESTADO</th>\n      <th>PRODUTO</th>\n      <th>NÚMERO DE POSTOS PESQUISADOS</th>\n      <th>UNIDADE DE MEDIDA</th>\n      <th>PREÇO MÉDIO REVENDA</th>\n      <th>DESVIO PADRÃO REVENDA</th>\n      <th>PREÇO MÍNIMO REVENDA</th>\n      <th>...</th>\n      <th>MARGEM MÉDIA REVENDA</th>\n      <th>COEF DE VARIAÇÃO REVENDA</th>\n      <th>PREÇO MÉDIO DISTRIBUIÇÃO</th>\n      <th>DESVIO PADRÃO DISTRIBUIÇÃO</th>\n      <th>PREÇO MÍNIMO DISTRIBUIÇÃO</th>\n      <th>PREÇO MÁXIMO DISTRIBUIÇÃO</th>\n      <th>COEF DE VARIAÇÃO DISTRIBUIÇÃO</th>\n      <th>coluna sem nocao</th>\n      <th>Coluna a partir de lista</th>\n      <th>PREÇO MÉDIO REVENDA (dólares)</th>\n    </tr>\n  </thead>\n  <tbody>\n    <tr>\n      <th>0</th>\n      <td>2004-05-09</td>\n      <td>2004-05-15</td>\n      <td>CENTRO OESTE</td>\n      <td>DISTRITO FEDERAL</td>\n      <td>ETANOL HIDRATADO</td>\n      <td>127</td>\n      <td>R$/l</td>\n      <td>1.288</td>\n      <td>0.016</td>\n      <td>1.190</td>\n      <td>...</td>\n      <td>0.463</td>\n      <td>0.012</td>\n      <td>0.825</td>\n      <td>0.11</td>\n      <td>0.4201</td>\n      <td>0.9666</td>\n      <td>0.133</td>\n      <td>DEFAULT</td>\n      <td>0</td>\n      <td>7.728</td>\n    </tr>\n    <tr>\n      <th>1</th>\n      <td>2004-05-09</td>\n      <td>2004-05-15</td>\n      <td>CENTRO OESTE</td>\n      <td>GOIAS</td>\n      <td>ETANOL HIDRATADO</td>\n      <td>387</td>\n      <td>R$/l</td>\n      <td>1.162</td>\n      <td>0.114</td>\n      <td>0.890</td>\n      <td>...</td>\n      <td>0.399</td>\n      <td>0.098</td>\n      <td>0.763</td>\n      <td>0.088</td>\n      <td>0.5013</td>\n      <td>1.05</td>\n      <td>0.115</td>\n      <td>DEFAULT</td>\n      <td>1</td>\n      <td>6.972</td>\n    </tr>\n    <tr>\n      <th>2</th>\n      <td>2004-05-09</td>\n      <td>2004-05-15</td>\n      <td>CENTRO OESTE</td>\n      <td>MATO GROSSO</td>\n      <td>ETANOL HIDRATADO</td>\n      <td>192</td>\n      <td>R$/l</td>\n      <td>1.389</td>\n      <td>0.097</td>\n      <td>1.180</td>\n      <td>...</td>\n      <td>0.419</td>\n      <td>0.070</td>\n      <td>0.97</td>\n      <td>0.095</td>\n      <td>0.5614</td>\n      <td>1.161</td>\n      <td>0.098</td>\n      <td>DEFAULT</td>\n      <td>2</td>\n      <td>8.334</td>\n    </tr>\n    <tr>\n      <th>3</th>\n      <td>2004-05-09</td>\n      <td>2004-05-15</td>\n      <td>CENTRO OESTE</td>\n      <td>MATO GROSSO DO SUL</td>\n      <td>ETANOL HIDRATADO</td>\n      <td>162</td>\n      <td>R$/l</td>\n      <td>1.262</td>\n      <td>0.070</td>\n      <td>1.090</td>\n      <td>...</td>\n      <td>0.432</td>\n      <td>0.055</td>\n      <td>0.83</td>\n      <td>0.119</td>\n      <td>0.5991</td>\n      <td>1.22242</td>\n      <td>0.143</td>\n      <td>DEFAULT</td>\n      <td>3</td>\n      <td>7.572</td>\n    </tr>\n    <tr>\n      <th>4</th>\n      <td>2004-05-09</td>\n      <td>2004-05-15</td>\n      <td>NORDESTE</td>\n      <td>ALAGOAS</td>\n      <td>ETANOL HIDRATADO</td>\n      <td>103</td>\n      <td>R$/l</td>\n      <td>1.181</td>\n      <td>0.078</td>\n      <td>1.050</td>\n      <td>...</td>\n      <td>0.24</td>\n      <td>0.066</td>\n      <td>0.941</td>\n      <td>0.077</td>\n      <td>0.7441</td>\n      <td>1.0317</td>\n      <td>0.082</td>\n      <td>DEFAULT</td>\n      <td>4</td>\n      <td>7.086</td>\n    </tr>\n    <tr>\n      <th>...</th>\n      <td>...</td>\n      <td>...</td>\n      <td>...</td>\n      <td>...</td>\n      <td>...</td>\n      <td>...</td>\n      <td>...</td>\n      <td>...</td>\n      <td>...</td>\n      <td>...</td>\n      <td>...</td>\n      <td>...</td>\n      <td>...</td>\n      <td>...</td>\n      <td>...</td>\n      <td>...</td>\n      <td>...</td>\n      <td>...</td>\n      <td>...</td>\n      <td>...</td>\n      <td>...</td>\n    </tr>\n    <tr>\n      <th>120818</th>\n      <td>2021-04-25</td>\n      <td>2021-05-01</td>\n      <td>NORTE</td>\n      <td>RORAIMA</td>\n      <td>OLEO DIESEL S10</td>\n      <td>12</td>\n      <td>R$/l</td>\n      <td>4.582</td>\n      <td>0.056</td>\n      <td>4.510</td>\n      <td>...</td>\n      <td>-99999.0</td>\n      <td>0.012</td>\n      <td>-99999.0</td>\n      <td>-99999.0</td>\n      <td>-99999.0</td>\n      <td>-99999.0</td>\n      <td>-99999.0</td>\n      <td>DEFAULT</td>\n      <td>120818</td>\n      <td>27.492</td>\n    </tr>\n    <tr>\n      <th>120819</th>\n      <td>2021-04-25</td>\n      <td>2021-05-01</td>\n      <td>SUL</td>\n      <td>SANTA CATARINA</td>\n      <td>OLEO DIESEL S10</td>\n      <td>100</td>\n      <td>R$/l</td>\n      <td>4.141</td>\n      <td>0.187</td>\n      <td>3.838</td>\n      <td>...</td>\n      <td>-99999.0</td>\n      <td>0.045</td>\n      <td>-99999.0</td>\n      <td>-99999.0</td>\n      <td>-99999.0</td>\n      <td>-99999.0</td>\n      <td>-99999.0</td>\n      <td>DEFAULT</td>\n      <td>120819</td>\n      <td>24.846</td>\n    </tr>\n    <tr>\n      <th>120820</th>\n      <td>2021-04-25</td>\n      <td>2021-05-01</td>\n      <td>SUDESTE</td>\n      <td>SAO PAULO</td>\n      <td>OLEO DIESEL S10</td>\n      <td>886</td>\n      <td>R$/l</td>\n      <td>4.246</td>\n      <td>0.216</td>\n      <td>3.769</td>\n      <td>...</td>\n      <td>-99999.0</td>\n      <td>0.051</td>\n      <td>-99999.0</td>\n      <td>-99999.0</td>\n      <td>-99999.0</td>\n      <td>-99999.0</td>\n      <td>-99999.0</td>\n      <td>DEFAULT</td>\n      <td>120820</td>\n      <td>25.476</td>\n    </tr>\n    <tr>\n      <th>120821</th>\n      <td>2021-04-25</td>\n      <td>2021-05-01</td>\n      <td>NORDESTE</td>\n      <td>SERGIPE</td>\n      <td>OLEO DIESEL S10</td>\n      <td>33</td>\n      <td>R$/l</td>\n      <td>4.464</td>\n      <td>0.205</td>\n      <td>4.190</td>\n      <td>...</td>\n      <td>-99999.0</td>\n      <td>0.046</td>\n      <td>-99999.0</td>\n      <td>-99999.0</td>\n      <td>-99999.0</td>\n      <td>-99999.0</td>\n      <td>-99999.0</td>\n      <td>DEFAULT</td>\n      <td>120821</td>\n      <td>26.784</td>\n    </tr>\n    <tr>\n      <th>120822</th>\n      <td>2021-04-25</td>\n      <td>2021-05-01</td>\n      <td>NORTE</td>\n      <td>TOCANTINS</td>\n      <td>OLEO DIESEL S10</td>\n      <td>18</td>\n      <td>R$/l</td>\n      <td>4.352</td>\n      <td>0.156</td>\n      <td>4.199</td>\n      <td>...</td>\n      <td>-99999.0</td>\n      <td>0.036</td>\n      <td>-99999.0</td>\n      <td>-99999.0</td>\n      <td>-99999.0</td>\n      <td>-99999.0</td>\n      <td>-99999.0</td>\n      <td>DEFAULT</td>\n      <td>120822</td>\n      <td>26.112</td>\n    </tr>\n  </tbody>\n</table>\n<p>120823 rows × 21 columns</p>\n</div>"
          },
          "metadata": {}
        }
      ],
      "execution_count": 118
    },
    {
      "id": "together-collar",
      "cell_type": "markdown",
      "source": "**PS:** Obviamente, a lógica correta em converter o preço dos combustíveis em reais para dólares não é considerar uma taxa de câmbio fixa, uma vez que cada preço em real foi aferido em um momento diferente.",
      "metadata": {}
    },
    {
      "id": "artificial-ecuador",
      "cell_type": "markdown",
      "source": "### 1.3.4 Índices",
      "metadata": {}
    },
    {
      "id": "foreign-husband",
      "cell_type": "markdown",
      "source": "Todo Data Frame possui **índices**, que não são considerado colunas da tabela. Tais índices são comumente **númericos**, de 0 a num_linhas-1, mas também podem ser **textuais (rótulos/labels)**.",
      "metadata": {}
    },
    {
      "id": "alternative-columbus",
      "cell_type": "code",
      "source": "data",
      "metadata": {
        "trusted": true
      },
      "outputs": [
        {
          "execution_count": 119,
          "output_type": "execute_result",
          "data": {
            "text/plain": "       DATA INICIAL  DATA FINAL        REGIÃO              ESTADO  \\\n0        2004-05-09  2004-05-15  CENTRO OESTE    DISTRITO FEDERAL   \n1        2004-05-09  2004-05-15  CENTRO OESTE               GOIAS   \n2        2004-05-09  2004-05-15  CENTRO OESTE         MATO GROSSO   \n3        2004-05-09  2004-05-15  CENTRO OESTE  MATO GROSSO DO SUL   \n4        2004-05-09  2004-05-15      NORDESTE             ALAGOAS   \n...             ...         ...           ...                 ...   \n120818   2021-04-25  2021-05-01         NORTE             RORAIMA   \n120819   2021-04-25  2021-05-01           SUL      SANTA CATARINA   \n120820   2021-04-25  2021-05-01       SUDESTE           SAO PAULO   \n120821   2021-04-25  2021-05-01      NORDESTE             SERGIPE   \n120822   2021-04-25  2021-05-01         NORTE           TOCANTINS   \n\n                 PRODUTO  NÚMERO DE POSTOS PESQUISADOS UNIDADE DE MEDIDA  \\\n0       ETANOL HIDRATADO                           127              R$/l   \n1       ETANOL HIDRATADO                           387              R$/l   \n2       ETANOL HIDRATADO                           192              R$/l   \n3       ETANOL HIDRATADO                           162              R$/l   \n4       ETANOL HIDRATADO                           103              R$/l   \n...                  ...                           ...               ...   \n120818   OLEO DIESEL S10                            12              R$/l   \n120819   OLEO DIESEL S10                           100              R$/l   \n120820   OLEO DIESEL S10                           886              R$/l   \n120821   OLEO DIESEL S10                            33              R$/l   \n120822   OLEO DIESEL S10                            18              R$/l   \n\n        PREÇO MÉDIO REVENDA  DESVIO PADRÃO REVENDA  PREÇO MÍNIMO REVENDA  ...  \\\n0                     1.288                  0.016                 1.190  ...   \n1                     1.162                  0.114                 0.890  ...   \n2                     1.389                  0.097                 1.180  ...   \n3                     1.262                  0.070                 1.090  ...   \n4                     1.181                  0.078                 1.050  ...   \n...                     ...                    ...                   ...  ...   \n120818                4.582                  0.056                 4.510  ...   \n120819                4.141                  0.187                 3.838  ...   \n120820                4.246                  0.216                 3.769  ...   \n120821                4.464                  0.205                 4.190  ...   \n120822                4.352                  0.156                 4.199  ...   \n\n        MARGEM MÉDIA REVENDA COEF DE VARIAÇÃO REVENDA  \\\n0                      0.463                    0.012   \n1                      0.399                    0.098   \n2                      0.419                    0.070   \n3                      0.432                    0.055   \n4                       0.24                    0.066   \n...                      ...                      ...   \n120818              -99999.0                    0.012   \n120819              -99999.0                    0.045   \n120820              -99999.0                    0.051   \n120821              -99999.0                    0.046   \n120822              -99999.0                    0.036   \n\n        PREÇO MÉDIO DISTRIBUIÇÃO DESVIO PADRÃO DISTRIBUIÇÃO  \\\n0                          0.825                       0.11   \n1                          0.763                      0.088   \n2                           0.97                      0.095   \n3                           0.83                      0.119   \n4                          0.941                      0.077   \n...                          ...                        ...   \n120818                  -99999.0                   -99999.0   \n120819                  -99999.0                   -99999.0   \n120820                  -99999.0                   -99999.0   \n120821                  -99999.0                   -99999.0   \n120822                  -99999.0                   -99999.0   \n\n       PREÇO MÍNIMO DISTRIBUIÇÃO PREÇO MÁXIMO DISTRIBUIÇÃO  \\\n0                         0.4201                    0.9666   \n1                         0.5013                      1.05   \n2                         0.5614                     1.161   \n3                         0.5991                   1.22242   \n4                         0.7441                    1.0317   \n...                          ...                       ...   \n120818                  -99999.0                  -99999.0   \n120819                  -99999.0                  -99999.0   \n120820                  -99999.0                  -99999.0   \n120821                  -99999.0                  -99999.0   \n120822                  -99999.0                  -99999.0   \n\n       COEF DE VARIAÇÃO DISTRIBUIÇÃO coluna sem nocao  \\\n0                              0.133          DEFAULT   \n1                              0.115          DEFAULT   \n2                              0.098          DEFAULT   \n3                              0.143          DEFAULT   \n4                              0.082          DEFAULT   \n...                              ...              ...   \n120818                      -99999.0          DEFAULT   \n120819                      -99999.0          DEFAULT   \n120820                      -99999.0          DEFAULT   \n120821                      -99999.0          DEFAULT   \n120822                      -99999.0          DEFAULT   \n\n       Coluna a partir de lista  PREÇO MÉDIO REVENDA (dólares)  \n0                             0                          7.728  \n1                             1                          6.972  \n2                             2                          8.334  \n3                             3                          7.572  \n4                             4                          7.086  \n...                         ...                            ...  \n120818                   120818                         27.492  \n120819                   120819                         24.846  \n120820                   120820                         25.476  \n120821                   120821                         26.784  \n120822                   120822                         26.112  \n\n[120823 rows x 21 columns]",
            "text/html": "<div>\n<style scoped>\n    .dataframe tbody tr th:only-of-type {\n        vertical-align: middle;\n    }\n\n    .dataframe tbody tr th {\n        vertical-align: top;\n    }\n\n    .dataframe thead th {\n        text-align: right;\n    }\n</style>\n<table border=\"1\" class=\"dataframe\">\n  <thead>\n    <tr style=\"text-align: right;\">\n      <th></th>\n      <th>DATA INICIAL</th>\n      <th>DATA FINAL</th>\n      <th>REGIÃO</th>\n      <th>ESTADO</th>\n      <th>PRODUTO</th>\n      <th>NÚMERO DE POSTOS PESQUISADOS</th>\n      <th>UNIDADE DE MEDIDA</th>\n      <th>PREÇO MÉDIO REVENDA</th>\n      <th>DESVIO PADRÃO REVENDA</th>\n      <th>PREÇO MÍNIMO REVENDA</th>\n      <th>...</th>\n      <th>MARGEM MÉDIA REVENDA</th>\n      <th>COEF DE VARIAÇÃO REVENDA</th>\n      <th>PREÇO MÉDIO DISTRIBUIÇÃO</th>\n      <th>DESVIO PADRÃO DISTRIBUIÇÃO</th>\n      <th>PREÇO MÍNIMO DISTRIBUIÇÃO</th>\n      <th>PREÇO MÁXIMO DISTRIBUIÇÃO</th>\n      <th>COEF DE VARIAÇÃO DISTRIBUIÇÃO</th>\n      <th>coluna sem nocao</th>\n      <th>Coluna a partir de lista</th>\n      <th>PREÇO MÉDIO REVENDA (dólares)</th>\n    </tr>\n  </thead>\n  <tbody>\n    <tr>\n      <th>0</th>\n      <td>2004-05-09</td>\n      <td>2004-05-15</td>\n      <td>CENTRO OESTE</td>\n      <td>DISTRITO FEDERAL</td>\n      <td>ETANOL HIDRATADO</td>\n      <td>127</td>\n      <td>R$/l</td>\n      <td>1.288</td>\n      <td>0.016</td>\n      <td>1.190</td>\n      <td>...</td>\n      <td>0.463</td>\n      <td>0.012</td>\n      <td>0.825</td>\n      <td>0.11</td>\n      <td>0.4201</td>\n      <td>0.9666</td>\n      <td>0.133</td>\n      <td>DEFAULT</td>\n      <td>0</td>\n      <td>7.728</td>\n    </tr>\n    <tr>\n      <th>1</th>\n      <td>2004-05-09</td>\n      <td>2004-05-15</td>\n      <td>CENTRO OESTE</td>\n      <td>GOIAS</td>\n      <td>ETANOL HIDRATADO</td>\n      <td>387</td>\n      <td>R$/l</td>\n      <td>1.162</td>\n      <td>0.114</td>\n      <td>0.890</td>\n      <td>...</td>\n      <td>0.399</td>\n      <td>0.098</td>\n      <td>0.763</td>\n      <td>0.088</td>\n      <td>0.5013</td>\n      <td>1.05</td>\n      <td>0.115</td>\n      <td>DEFAULT</td>\n      <td>1</td>\n      <td>6.972</td>\n    </tr>\n    <tr>\n      <th>2</th>\n      <td>2004-05-09</td>\n      <td>2004-05-15</td>\n      <td>CENTRO OESTE</td>\n      <td>MATO GROSSO</td>\n      <td>ETANOL HIDRATADO</td>\n      <td>192</td>\n      <td>R$/l</td>\n      <td>1.389</td>\n      <td>0.097</td>\n      <td>1.180</td>\n      <td>...</td>\n      <td>0.419</td>\n      <td>0.070</td>\n      <td>0.97</td>\n      <td>0.095</td>\n      <td>0.5614</td>\n      <td>1.161</td>\n      <td>0.098</td>\n      <td>DEFAULT</td>\n      <td>2</td>\n      <td>8.334</td>\n    </tr>\n    <tr>\n      <th>3</th>\n      <td>2004-05-09</td>\n      <td>2004-05-15</td>\n      <td>CENTRO OESTE</td>\n      <td>MATO GROSSO DO SUL</td>\n      <td>ETANOL HIDRATADO</td>\n      <td>162</td>\n      <td>R$/l</td>\n      <td>1.262</td>\n      <td>0.070</td>\n      <td>1.090</td>\n      <td>...</td>\n      <td>0.432</td>\n      <td>0.055</td>\n      <td>0.83</td>\n      <td>0.119</td>\n      <td>0.5991</td>\n      <td>1.22242</td>\n      <td>0.143</td>\n      <td>DEFAULT</td>\n      <td>3</td>\n      <td>7.572</td>\n    </tr>\n    <tr>\n      <th>4</th>\n      <td>2004-05-09</td>\n      <td>2004-05-15</td>\n      <td>NORDESTE</td>\n      <td>ALAGOAS</td>\n      <td>ETANOL HIDRATADO</td>\n      <td>103</td>\n      <td>R$/l</td>\n      <td>1.181</td>\n      <td>0.078</td>\n      <td>1.050</td>\n      <td>...</td>\n      <td>0.24</td>\n      <td>0.066</td>\n      <td>0.941</td>\n      <td>0.077</td>\n      <td>0.7441</td>\n      <td>1.0317</td>\n      <td>0.082</td>\n      <td>DEFAULT</td>\n      <td>4</td>\n      <td>7.086</td>\n    </tr>\n    <tr>\n      <th>...</th>\n      <td>...</td>\n      <td>...</td>\n      <td>...</td>\n      <td>...</td>\n      <td>...</td>\n      <td>...</td>\n      <td>...</td>\n      <td>...</td>\n      <td>...</td>\n      <td>...</td>\n      <td>...</td>\n      <td>...</td>\n      <td>...</td>\n      <td>...</td>\n      <td>...</td>\n      <td>...</td>\n      <td>...</td>\n      <td>...</td>\n      <td>...</td>\n      <td>...</td>\n      <td>...</td>\n    </tr>\n    <tr>\n      <th>120818</th>\n      <td>2021-04-25</td>\n      <td>2021-05-01</td>\n      <td>NORTE</td>\n      <td>RORAIMA</td>\n      <td>OLEO DIESEL S10</td>\n      <td>12</td>\n      <td>R$/l</td>\n      <td>4.582</td>\n      <td>0.056</td>\n      <td>4.510</td>\n      <td>...</td>\n      <td>-99999.0</td>\n      <td>0.012</td>\n      <td>-99999.0</td>\n      <td>-99999.0</td>\n      <td>-99999.0</td>\n      <td>-99999.0</td>\n      <td>-99999.0</td>\n      <td>DEFAULT</td>\n      <td>120818</td>\n      <td>27.492</td>\n    </tr>\n    <tr>\n      <th>120819</th>\n      <td>2021-04-25</td>\n      <td>2021-05-01</td>\n      <td>SUL</td>\n      <td>SANTA CATARINA</td>\n      <td>OLEO DIESEL S10</td>\n      <td>100</td>\n      <td>R$/l</td>\n      <td>4.141</td>\n      <td>0.187</td>\n      <td>3.838</td>\n      <td>...</td>\n      <td>-99999.0</td>\n      <td>0.045</td>\n      <td>-99999.0</td>\n      <td>-99999.0</td>\n      <td>-99999.0</td>\n      <td>-99999.0</td>\n      <td>-99999.0</td>\n      <td>DEFAULT</td>\n      <td>120819</td>\n      <td>24.846</td>\n    </tr>\n    <tr>\n      <th>120820</th>\n      <td>2021-04-25</td>\n      <td>2021-05-01</td>\n      <td>SUDESTE</td>\n      <td>SAO PAULO</td>\n      <td>OLEO DIESEL S10</td>\n      <td>886</td>\n      <td>R$/l</td>\n      <td>4.246</td>\n      <td>0.216</td>\n      <td>3.769</td>\n      <td>...</td>\n      <td>-99999.0</td>\n      <td>0.051</td>\n      <td>-99999.0</td>\n      <td>-99999.0</td>\n      <td>-99999.0</td>\n      <td>-99999.0</td>\n      <td>-99999.0</td>\n      <td>DEFAULT</td>\n      <td>120820</td>\n      <td>25.476</td>\n    </tr>\n    <tr>\n      <th>120821</th>\n      <td>2021-04-25</td>\n      <td>2021-05-01</td>\n      <td>NORDESTE</td>\n      <td>SERGIPE</td>\n      <td>OLEO DIESEL S10</td>\n      <td>33</td>\n      <td>R$/l</td>\n      <td>4.464</td>\n      <td>0.205</td>\n      <td>4.190</td>\n      <td>...</td>\n      <td>-99999.0</td>\n      <td>0.046</td>\n      <td>-99999.0</td>\n      <td>-99999.0</td>\n      <td>-99999.0</td>\n      <td>-99999.0</td>\n      <td>-99999.0</td>\n      <td>DEFAULT</td>\n      <td>120821</td>\n      <td>26.784</td>\n    </tr>\n    <tr>\n      <th>120822</th>\n      <td>2021-04-25</td>\n      <td>2021-05-01</td>\n      <td>NORTE</td>\n      <td>TOCANTINS</td>\n      <td>OLEO DIESEL S10</td>\n      <td>18</td>\n      <td>R$/l</td>\n      <td>4.352</td>\n      <td>0.156</td>\n      <td>4.199</td>\n      <td>...</td>\n      <td>-99999.0</td>\n      <td>0.036</td>\n      <td>-99999.0</td>\n      <td>-99999.0</td>\n      <td>-99999.0</td>\n      <td>-99999.0</td>\n      <td>-99999.0</td>\n      <td>DEFAULT</td>\n      <td>120822</td>\n      <td>26.112</td>\n    </tr>\n  </tbody>\n</table>\n<p>120823 rows × 21 columns</p>\n</div>"
          },
          "metadata": {}
        }
      ],
      "execution_count": 119
    },
    {
      "id": "statistical-uganda",
      "cell_type": "code",
      "source": "data.index",
      "metadata": {
        "trusted": true
      },
      "outputs": [
        {
          "execution_count": 120,
          "output_type": "execute_result",
          "data": {
            "text/plain": "RangeIndex(start=0, stop=120823, step=1)"
          },
          "metadata": {}
        }
      ],
      "execution_count": 120
    },
    {
      "id": "absolute-fourth",
      "cell_type": "markdown",
      "source": "Use `list(data.index)` ou `data.index.to_list()` para converter um RangeIndex para uma python list.",
      "metadata": {}
    },
    {
      "id": "nonprofit-latino",
      "cell_type": "markdown",
      "source": "#### **Exemplo de Data Frame com Índices Textuais (labels)**",
      "metadata": {}
    },
    {
      "id": "precious-judges",
      "cell_type": "code",
      "source": "pesquisa_de_satisfacao = pd.DataFrame({\n    'bom': [50, 21, 100],\n    'ruim': [131, 2, 30],\n    'pessimo': [30, 20, 1]\n}, index=['XboxOne', 'Playstation4', 'Switch'])",
      "metadata": {
        "trusted": true
      },
      "outputs": [],
      "execution_count": 121
    },
    {
      "id": "enhanced-prompt",
      "cell_type": "code",
      "source": "pesquisa_de_satisfacao.head()",
      "metadata": {
        "trusted": true
      },
      "outputs": [
        {
          "execution_count": 124,
          "output_type": "execute_result",
          "data": {
            "text/plain": "              bom  ruim  pessimo\nXboxOne        50   131       30\nPlaystation4   21     2       20\nSwitch        100    30        1",
            "text/html": "<div>\n<style scoped>\n    .dataframe tbody tr th:only-of-type {\n        vertical-align: middle;\n    }\n\n    .dataframe tbody tr th {\n        vertical-align: top;\n    }\n\n    .dataframe thead th {\n        text-align: right;\n    }\n</style>\n<table border=\"1\" class=\"dataframe\">\n  <thead>\n    <tr style=\"text-align: right;\">\n      <th></th>\n      <th>bom</th>\n      <th>ruim</th>\n      <th>pessimo</th>\n    </tr>\n  </thead>\n  <tbody>\n    <tr>\n      <th>XboxOne</th>\n      <td>50</td>\n      <td>131</td>\n      <td>30</td>\n    </tr>\n    <tr>\n      <th>Playstation4</th>\n      <td>21</td>\n      <td>2</td>\n      <td>20</td>\n    </tr>\n    <tr>\n      <th>Switch</th>\n      <td>100</td>\n      <td>30</td>\n      <td>1</td>\n    </tr>\n  </tbody>\n</table>\n</div>"
          },
          "metadata": {}
        }
      ],
      "execution_count": 124
    },
    {
      "id": "sixth-supplement",
      "cell_type": "markdown",
      "source": "### 1.4 Selecionando uma ou mais amostras (Indexação)",
      "metadata": {}
    },
    {
      "id": "buried-headquarters",
      "cell_type": "markdown",
      "source": "#### **==>  Index-based selection (seleção baseada em Índices)**\nMostrando linhas específicas de um DataFrame:\n\n`iloc`: seleciona elementos do Dataframe, baseado em seu **índice (número)** --> row-first, column-second",
      "metadata": {}
    },
    {
      "id": "inclusive-magnet",
      "cell_type": "markdown",
      "source": "**Selecionando uma amostra/linha:**",
      "metadata": {}
    },
    {
      "id": "bored-roberts",
      "cell_type": "code",
      "source": "# selecionando a linha 1 ===> observação de índice [1] do dataframe\ndata.iloc[1]",
      "metadata": {
        "trusted": true
      },
      "outputs": [
        {
          "execution_count": 126,
          "output_type": "execute_result",
          "data": {
            "text/plain": "DATA INICIAL                           2004-05-09\nDATA FINAL                             2004-05-15\nREGIÃO                               CENTRO OESTE\nESTADO                                      GOIAS\nPRODUTO                          ETANOL HIDRATADO\nNÚMERO DE POSTOS PESQUISADOS                  387\nUNIDADE DE MEDIDA                            R$/l\nPREÇO MÉDIO REVENDA                         1.162\nDESVIO PADRÃO REVENDA                       0.114\nPREÇO MÍNIMO REVENDA                         0.89\nPREÇO MÁXIMO REVENDA                        1.449\nMARGEM MÉDIA REVENDA                        0.399\nCOEF DE VARIAÇÃO REVENDA                    0.098\nPREÇO MÉDIO DISTRIBUIÇÃO                    0.763\nDESVIO PADRÃO DISTRIBUIÇÃO                  0.088\nPREÇO MÍNIMO DISTRIBUIÇÃO                  0.5013\nPREÇO MÁXIMO DISTRIBUIÇÃO                    1.05\nCOEF DE VARIAÇÃO DISTRIBUIÇÃO               0.115\ncoluna sem nocao                          DEFAULT\nColuna a partir de lista                        1\nPREÇO MÉDIO REVENDA (dólares)               6.972\nName: 1, dtype: object"
          },
          "metadata": {}
        }
      ],
      "execution_count": 126
    },
    {
      "id": "regional-spank",
      "cell_type": "markdown",
      "source": "**Selecionando múltiplias amostras/linhas:**",
      "metadata": {}
    },
    {
      "id": "framed-julian",
      "cell_type": "code",
      "source": "# selecionando as linhas de índice de 0 a 5 (incluso)\ndata.iloc[:6]",
      "metadata": {
        "trusted": true
      },
      "outputs": [
        {
          "execution_count": 127,
          "output_type": "execute_result",
          "data": {
            "text/plain": "  DATA INICIAL  DATA FINAL        REGIÃO              ESTADO  \\\n0   2004-05-09  2004-05-15  CENTRO OESTE    DISTRITO FEDERAL   \n1   2004-05-09  2004-05-15  CENTRO OESTE               GOIAS   \n2   2004-05-09  2004-05-15  CENTRO OESTE         MATO GROSSO   \n3   2004-05-09  2004-05-15  CENTRO OESTE  MATO GROSSO DO SUL   \n4   2004-05-09  2004-05-15      NORDESTE             ALAGOAS   \n5   2004-05-09  2004-05-15      NORDESTE               BAHIA   \n\n            PRODUTO  NÚMERO DE POSTOS PESQUISADOS UNIDADE DE MEDIDA  \\\n0  ETANOL HIDRATADO                           127              R$/l   \n1  ETANOL HIDRATADO                           387              R$/l   \n2  ETANOL HIDRATADO                           192              R$/l   \n3  ETANOL HIDRATADO                           162              R$/l   \n4  ETANOL HIDRATADO                           103              R$/l   \n5  ETANOL HIDRATADO                           408              R$/l   \n\n   PREÇO MÉDIO REVENDA  DESVIO PADRÃO REVENDA  PREÇO MÍNIMO REVENDA  ...  \\\n0                1.288                  0.016                 1.190  ...   \n1                1.162                  0.114                 0.890  ...   \n2                1.389                  0.097                 1.180  ...   \n3                1.262                  0.070                 1.090  ...   \n4                1.181                  0.078                 1.050  ...   \n5                1.383                  0.132                 0.999  ...   \n\n   MARGEM MÉDIA REVENDA COEF DE VARIAÇÃO REVENDA  PREÇO MÉDIO DISTRIBUIÇÃO  \\\n0                 0.463                    0.012                     0.825   \n1                 0.399                    0.098                     0.763   \n2                 0.419                    0.070                      0.97   \n3                 0.432                    0.055                      0.83   \n4                  0.24                    0.066                     0.941   \n5                 0.426                    0.095                     0.957   \n\n  DESVIO PADRÃO DISTRIBUIÇÃO PREÇO MÍNIMO DISTRIBUIÇÃO  \\\n0                       0.11                    0.4201   \n1                      0.088                    0.5013   \n2                      0.095                    0.5614   \n3                      0.119                    0.5991   \n4                      0.077                    0.7441   \n5                      0.128                    0.5686   \n\n  PREÇO MÁXIMO DISTRIBUIÇÃO COEF DE VARIAÇÃO DISTRIBUIÇÃO coluna sem nocao  \\\n0                    0.9666                         0.133          DEFAULT   \n1                      1.05                         0.115          DEFAULT   \n2                     1.161                         0.098          DEFAULT   \n3                   1.22242                         0.143          DEFAULT   \n4                    1.0317                         0.082          DEFAULT   \n5                      1.35                         0.134          DEFAULT   \n\n  Coluna a partir de lista  PREÇO MÉDIO REVENDA (dólares)  \n0                        0                          7.728  \n1                        1                          6.972  \n2                        2                          8.334  \n3                        3                          7.572  \n4                        4                          7.086  \n5                        5                          8.298  \n\n[6 rows x 21 columns]",
            "text/html": "<div>\n<style scoped>\n    .dataframe tbody tr th:only-of-type {\n        vertical-align: middle;\n    }\n\n    .dataframe tbody tr th {\n        vertical-align: top;\n    }\n\n    .dataframe thead th {\n        text-align: right;\n    }\n</style>\n<table border=\"1\" class=\"dataframe\">\n  <thead>\n    <tr style=\"text-align: right;\">\n      <th></th>\n      <th>DATA INICIAL</th>\n      <th>DATA FINAL</th>\n      <th>REGIÃO</th>\n      <th>ESTADO</th>\n      <th>PRODUTO</th>\n      <th>NÚMERO DE POSTOS PESQUISADOS</th>\n      <th>UNIDADE DE MEDIDA</th>\n      <th>PREÇO MÉDIO REVENDA</th>\n      <th>DESVIO PADRÃO REVENDA</th>\n      <th>PREÇO MÍNIMO REVENDA</th>\n      <th>...</th>\n      <th>MARGEM MÉDIA REVENDA</th>\n      <th>COEF DE VARIAÇÃO REVENDA</th>\n      <th>PREÇO MÉDIO DISTRIBUIÇÃO</th>\n      <th>DESVIO PADRÃO DISTRIBUIÇÃO</th>\n      <th>PREÇO MÍNIMO DISTRIBUIÇÃO</th>\n      <th>PREÇO MÁXIMO DISTRIBUIÇÃO</th>\n      <th>COEF DE VARIAÇÃO DISTRIBUIÇÃO</th>\n      <th>coluna sem nocao</th>\n      <th>Coluna a partir de lista</th>\n      <th>PREÇO MÉDIO REVENDA (dólares)</th>\n    </tr>\n  </thead>\n  <tbody>\n    <tr>\n      <th>0</th>\n      <td>2004-05-09</td>\n      <td>2004-05-15</td>\n      <td>CENTRO OESTE</td>\n      <td>DISTRITO FEDERAL</td>\n      <td>ETANOL HIDRATADO</td>\n      <td>127</td>\n      <td>R$/l</td>\n      <td>1.288</td>\n      <td>0.016</td>\n      <td>1.190</td>\n      <td>...</td>\n      <td>0.463</td>\n      <td>0.012</td>\n      <td>0.825</td>\n      <td>0.11</td>\n      <td>0.4201</td>\n      <td>0.9666</td>\n      <td>0.133</td>\n      <td>DEFAULT</td>\n      <td>0</td>\n      <td>7.728</td>\n    </tr>\n    <tr>\n      <th>1</th>\n      <td>2004-05-09</td>\n      <td>2004-05-15</td>\n      <td>CENTRO OESTE</td>\n      <td>GOIAS</td>\n      <td>ETANOL HIDRATADO</td>\n      <td>387</td>\n      <td>R$/l</td>\n      <td>1.162</td>\n      <td>0.114</td>\n      <td>0.890</td>\n      <td>...</td>\n      <td>0.399</td>\n      <td>0.098</td>\n      <td>0.763</td>\n      <td>0.088</td>\n      <td>0.5013</td>\n      <td>1.05</td>\n      <td>0.115</td>\n      <td>DEFAULT</td>\n      <td>1</td>\n      <td>6.972</td>\n    </tr>\n    <tr>\n      <th>2</th>\n      <td>2004-05-09</td>\n      <td>2004-05-15</td>\n      <td>CENTRO OESTE</td>\n      <td>MATO GROSSO</td>\n      <td>ETANOL HIDRATADO</td>\n      <td>192</td>\n      <td>R$/l</td>\n      <td>1.389</td>\n      <td>0.097</td>\n      <td>1.180</td>\n      <td>...</td>\n      <td>0.419</td>\n      <td>0.070</td>\n      <td>0.97</td>\n      <td>0.095</td>\n      <td>0.5614</td>\n      <td>1.161</td>\n      <td>0.098</td>\n      <td>DEFAULT</td>\n      <td>2</td>\n      <td>8.334</td>\n    </tr>\n    <tr>\n      <th>3</th>\n      <td>2004-05-09</td>\n      <td>2004-05-15</td>\n      <td>CENTRO OESTE</td>\n      <td>MATO GROSSO DO SUL</td>\n      <td>ETANOL HIDRATADO</td>\n      <td>162</td>\n      <td>R$/l</td>\n      <td>1.262</td>\n      <td>0.070</td>\n      <td>1.090</td>\n      <td>...</td>\n      <td>0.432</td>\n      <td>0.055</td>\n      <td>0.83</td>\n      <td>0.119</td>\n      <td>0.5991</td>\n      <td>1.22242</td>\n      <td>0.143</td>\n      <td>DEFAULT</td>\n      <td>3</td>\n      <td>7.572</td>\n    </tr>\n    <tr>\n      <th>4</th>\n      <td>2004-05-09</td>\n      <td>2004-05-15</td>\n      <td>NORDESTE</td>\n      <td>ALAGOAS</td>\n      <td>ETANOL HIDRATADO</td>\n      <td>103</td>\n      <td>R$/l</td>\n      <td>1.181</td>\n      <td>0.078</td>\n      <td>1.050</td>\n      <td>...</td>\n      <td>0.24</td>\n      <td>0.066</td>\n      <td>0.941</td>\n      <td>0.077</td>\n      <td>0.7441</td>\n      <td>1.0317</td>\n      <td>0.082</td>\n      <td>DEFAULT</td>\n      <td>4</td>\n      <td>7.086</td>\n    </tr>\n    <tr>\n      <th>5</th>\n      <td>2004-05-09</td>\n      <td>2004-05-15</td>\n      <td>NORDESTE</td>\n      <td>BAHIA</td>\n      <td>ETANOL HIDRATADO</td>\n      <td>408</td>\n      <td>R$/l</td>\n      <td>1.383</td>\n      <td>0.132</td>\n      <td>0.999</td>\n      <td>...</td>\n      <td>0.426</td>\n      <td>0.095</td>\n      <td>0.957</td>\n      <td>0.128</td>\n      <td>0.5686</td>\n      <td>1.35</td>\n      <td>0.134</td>\n      <td>DEFAULT</td>\n      <td>5</td>\n      <td>8.298</td>\n    </tr>\n  </tbody>\n</table>\n<p>6 rows × 21 columns</p>\n</div>"
          },
          "metadata": {}
        }
      ],
      "execution_count": 127
    },
    {
      "id": "fallen-palace",
      "cell_type": "code",
      "source": "# selecionando as linhas de índice de 10 a 15 (incluso)",
      "metadata": {},
      "outputs": [],
      "execution_count": null
    },
    {
      "id": "varying-patrol",
      "cell_type": "code",
      "source": "data.iloc[10:16]",
      "metadata": {
        "trusted": true
      },
      "outputs": [
        {
          "execution_count": 129,
          "output_type": "execute_result",
          "data": {
            "text/plain": "   DATA INICIAL  DATA FINAL    REGIÃO               ESTADO           PRODUTO  \\\n10   2004-05-09  2004-05-15  NORDESTE                PIAUI  ETANOL HIDRATADO   \n11   2004-05-09  2004-05-15  NORDESTE  RIO GRANDE DO NORTE  ETANOL HIDRATADO   \n12   2004-05-09  2004-05-15  NORDESTE              SERGIPE  ETANOL HIDRATADO   \n13   2004-05-09  2004-05-15     NORTE                 ACRE  ETANOL HIDRATADO   \n14   2004-05-09  2004-05-15     NORTE                AMAPA  ETANOL HIDRATADO   \n15   2004-05-09  2004-05-15     NORTE             AMAZONAS  ETANOL HIDRATADO   \n\n    NÚMERO DE POSTOS PESQUISADOS UNIDADE DE MEDIDA  PREÇO MÉDIO REVENDA  \\\n10                            89              R$/l                1.573   \n11                           131              R$/l                1.276   \n12                            57              R$/l                1.301   \n13                            33              R$/l                1.805   \n14                            15              R$/l                1.785   \n15                            53              R$/l                1.578   \n\n    DESVIO PADRÃO REVENDA  PREÇO MÍNIMO REVENDA  ...  MARGEM MÉDIA REVENDA  \\\n10                  0.134                  1.40  ...                 0.494   \n11                  0.116                  1.09  ...                 0.332   \n12                  0.109                  1.15  ...                 0.321   \n13                  0.134                  1.50  ...                 0.689   \n14                  0.035                  1.74  ...                 0.412   \n15                  0.123                  1.28  ...                 0.441   \n\n   COEF DE VARIAÇÃO REVENDA  PREÇO MÉDIO DISTRIBUIÇÃO  \\\n10                    0.085                     1.079   \n11                    0.091                     0.944   \n12                    0.084                      0.98   \n13                    0.074                     1.116   \n14                    0.020                     1.373   \n15                    0.078                     1.137   \n\n   DESVIO PADRÃO DISTRIBUIÇÃO PREÇO MÍNIMO DISTRIBUIÇÃO  \\\n10                      0.078                    0.8857   \n11                      0.078                    0.7119   \n12                      0.052                    0.8267   \n13                      0.171                     0.767   \n14                      0.167                    0.8339   \n15                      0.068                    0.9515   \n\n   PREÇO MÁXIMO DISTRIBUIÇÃO COEF DE VARIAÇÃO DISTRIBUIÇÃO coluna sem nocao  \\\n10                    1.2499                         0.072          DEFAULT   \n11                    1.1386                         0.083          DEFAULT   \n12                    1.1059                         0.053          DEFAULT   \n13                    1.2992                         0.153          DEFAULT   \n14                    1.4912                         0.122          DEFAULT   \n15                    1.2109                          0.06          DEFAULT   \n\n   Coluna a partir de lista  PREÇO MÉDIO REVENDA (dólares)  \n10                       10                          9.438  \n11                       11                          7.656  \n12                       12                          7.806  \n13                       13                         10.830  \n14                       14                         10.710  \n15                       15                          9.468  \n\n[6 rows x 21 columns]",
            "text/html": "<div>\n<style scoped>\n    .dataframe tbody tr th:only-of-type {\n        vertical-align: middle;\n    }\n\n    .dataframe tbody tr th {\n        vertical-align: top;\n    }\n\n    .dataframe thead th {\n        text-align: right;\n    }\n</style>\n<table border=\"1\" class=\"dataframe\">\n  <thead>\n    <tr style=\"text-align: right;\">\n      <th></th>\n      <th>DATA INICIAL</th>\n      <th>DATA FINAL</th>\n      <th>REGIÃO</th>\n      <th>ESTADO</th>\n      <th>PRODUTO</th>\n      <th>NÚMERO DE POSTOS PESQUISADOS</th>\n      <th>UNIDADE DE MEDIDA</th>\n      <th>PREÇO MÉDIO REVENDA</th>\n      <th>DESVIO PADRÃO REVENDA</th>\n      <th>PREÇO MÍNIMO REVENDA</th>\n      <th>...</th>\n      <th>MARGEM MÉDIA REVENDA</th>\n      <th>COEF DE VARIAÇÃO REVENDA</th>\n      <th>PREÇO MÉDIO DISTRIBUIÇÃO</th>\n      <th>DESVIO PADRÃO DISTRIBUIÇÃO</th>\n      <th>PREÇO MÍNIMO DISTRIBUIÇÃO</th>\n      <th>PREÇO MÁXIMO DISTRIBUIÇÃO</th>\n      <th>COEF DE VARIAÇÃO DISTRIBUIÇÃO</th>\n      <th>coluna sem nocao</th>\n      <th>Coluna a partir de lista</th>\n      <th>PREÇO MÉDIO REVENDA (dólares)</th>\n    </tr>\n  </thead>\n  <tbody>\n    <tr>\n      <th>10</th>\n      <td>2004-05-09</td>\n      <td>2004-05-15</td>\n      <td>NORDESTE</td>\n      <td>PIAUI</td>\n      <td>ETANOL HIDRATADO</td>\n      <td>89</td>\n      <td>R$/l</td>\n      <td>1.573</td>\n      <td>0.134</td>\n      <td>1.40</td>\n      <td>...</td>\n      <td>0.494</td>\n      <td>0.085</td>\n      <td>1.079</td>\n      <td>0.078</td>\n      <td>0.8857</td>\n      <td>1.2499</td>\n      <td>0.072</td>\n      <td>DEFAULT</td>\n      <td>10</td>\n      <td>9.438</td>\n    </tr>\n    <tr>\n      <th>11</th>\n      <td>2004-05-09</td>\n      <td>2004-05-15</td>\n      <td>NORDESTE</td>\n      <td>RIO GRANDE DO NORTE</td>\n      <td>ETANOL HIDRATADO</td>\n      <td>131</td>\n      <td>R$/l</td>\n      <td>1.276</td>\n      <td>0.116</td>\n      <td>1.09</td>\n      <td>...</td>\n      <td>0.332</td>\n      <td>0.091</td>\n      <td>0.944</td>\n      <td>0.078</td>\n      <td>0.7119</td>\n      <td>1.1386</td>\n      <td>0.083</td>\n      <td>DEFAULT</td>\n      <td>11</td>\n      <td>7.656</td>\n    </tr>\n    <tr>\n      <th>12</th>\n      <td>2004-05-09</td>\n      <td>2004-05-15</td>\n      <td>NORDESTE</td>\n      <td>SERGIPE</td>\n      <td>ETANOL HIDRATADO</td>\n      <td>57</td>\n      <td>R$/l</td>\n      <td>1.301</td>\n      <td>0.109</td>\n      <td>1.15</td>\n      <td>...</td>\n      <td>0.321</td>\n      <td>0.084</td>\n      <td>0.98</td>\n      <td>0.052</td>\n      <td>0.8267</td>\n      <td>1.1059</td>\n      <td>0.053</td>\n      <td>DEFAULT</td>\n      <td>12</td>\n      <td>7.806</td>\n    </tr>\n    <tr>\n      <th>13</th>\n      <td>2004-05-09</td>\n      <td>2004-05-15</td>\n      <td>NORTE</td>\n      <td>ACRE</td>\n      <td>ETANOL HIDRATADO</td>\n      <td>33</td>\n      <td>R$/l</td>\n      <td>1.805</td>\n      <td>0.134</td>\n      <td>1.50</td>\n      <td>...</td>\n      <td>0.689</td>\n      <td>0.074</td>\n      <td>1.116</td>\n      <td>0.171</td>\n      <td>0.767</td>\n      <td>1.2992</td>\n      <td>0.153</td>\n      <td>DEFAULT</td>\n      <td>13</td>\n      <td>10.830</td>\n    </tr>\n    <tr>\n      <th>14</th>\n      <td>2004-05-09</td>\n      <td>2004-05-15</td>\n      <td>NORTE</td>\n      <td>AMAPA</td>\n      <td>ETANOL HIDRATADO</td>\n      <td>15</td>\n      <td>R$/l</td>\n      <td>1.785</td>\n      <td>0.035</td>\n      <td>1.74</td>\n      <td>...</td>\n      <td>0.412</td>\n      <td>0.020</td>\n      <td>1.373</td>\n      <td>0.167</td>\n      <td>0.8339</td>\n      <td>1.4912</td>\n      <td>0.122</td>\n      <td>DEFAULT</td>\n      <td>14</td>\n      <td>10.710</td>\n    </tr>\n    <tr>\n      <th>15</th>\n      <td>2004-05-09</td>\n      <td>2004-05-15</td>\n      <td>NORTE</td>\n      <td>AMAZONAS</td>\n      <td>ETANOL HIDRATADO</td>\n      <td>53</td>\n      <td>R$/l</td>\n      <td>1.578</td>\n      <td>0.123</td>\n      <td>1.28</td>\n      <td>...</td>\n      <td>0.441</td>\n      <td>0.078</td>\n      <td>1.137</td>\n      <td>0.068</td>\n      <td>0.9515</td>\n      <td>1.2109</td>\n      <td>0.06</td>\n      <td>DEFAULT</td>\n      <td>15</td>\n      <td>9.468</td>\n    </tr>\n  </tbody>\n</table>\n<p>6 rows × 21 columns</p>\n</div>"
          },
          "metadata": {}
        }
      ],
      "execution_count": 129
    },
    {
      "id": "numerical-robinson",
      "cell_type": "code",
      "source": "# selecionando as linhas/observações de índices 1, 5, 10, 15\ndata.iloc[[1, 5, 10, 15]]",
      "metadata": {
        "trusted": true
      },
      "outputs": [
        {
          "execution_count": 131,
          "output_type": "execute_result",
          "data": {
            "text/plain": "   DATA INICIAL  DATA FINAL        REGIÃO    ESTADO           PRODUTO  \\\n1    2004-05-09  2004-05-15  CENTRO OESTE     GOIAS  ETANOL HIDRATADO   \n5    2004-05-09  2004-05-15      NORDESTE     BAHIA  ETANOL HIDRATADO   \n10   2004-05-09  2004-05-15      NORDESTE     PIAUI  ETANOL HIDRATADO   \n15   2004-05-09  2004-05-15         NORTE  AMAZONAS  ETANOL HIDRATADO   \n\n    NÚMERO DE POSTOS PESQUISADOS UNIDADE DE MEDIDA  PREÇO MÉDIO REVENDA  \\\n1                            387              R$/l                1.162   \n5                            408              R$/l                1.383   \n10                            89              R$/l                1.573   \n15                            53              R$/l                1.578   \n\n    DESVIO PADRÃO REVENDA  PREÇO MÍNIMO REVENDA  ...  MARGEM MÉDIA REVENDA  \\\n1                   0.114                 0.890  ...                 0.399   \n5                   0.132                 0.999  ...                 0.426   \n10                  0.134                 1.400  ...                 0.494   \n15                  0.123                 1.280  ...                 0.441   \n\n   COEF DE VARIAÇÃO REVENDA  PREÇO MÉDIO DISTRIBUIÇÃO  \\\n1                     0.098                     0.763   \n5                     0.095                     0.957   \n10                    0.085                     1.079   \n15                    0.078                     1.137   \n\n   DESVIO PADRÃO DISTRIBUIÇÃO PREÇO MÍNIMO DISTRIBUIÇÃO  \\\n1                       0.088                    0.5013   \n5                       0.128                    0.5686   \n10                      0.078                    0.8857   \n15                      0.068                    0.9515   \n\n   PREÇO MÁXIMO DISTRIBUIÇÃO COEF DE VARIAÇÃO DISTRIBUIÇÃO coluna sem nocao  \\\n1                       1.05                         0.115          DEFAULT   \n5                       1.35                         0.134          DEFAULT   \n10                    1.2499                         0.072          DEFAULT   \n15                    1.2109                          0.06          DEFAULT   \n\n   Coluna a partir de lista  PREÇO MÉDIO REVENDA (dólares)  \n1                         1                          6.972  \n5                         5                          8.298  \n10                       10                          9.438  \n15                       15                          9.468  \n\n[4 rows x 21 columns]",
            "text/html": "<div>\n<style scoped>\n    .dataframe tbody tr th:only-of-type {\n        vertical-align: middle;\n    }\n\n    .dataframe tbody tr th {\n        vertical-align: top;\n    }\n\n    .dataframe thead th {\n        text-align: right;\n    }\n</style>\n<table border=\"1\" class=\"dataframe\">\n  <thead>\n    <tr style=\"text-align: right;\">\n      <th></th>\n      <th>DATA INICIAL</th>\n      <th>DATA FINAL</th>\n      <th>REGIÃO</th>\n      <th>ESTADO</th>\n      <th>PRODUTO</th>\n      <th>NÚMERO DE POSTOS PESQUISADOS</th>\n      <th>UNIDADE DE MEDIDA</th>\n      <th>PREÇO MÉDIO REVENDA</th>\n      <th>DESVIO PADRÃO REVENDA</th>\n      <th>PREÇO MÍNIMO REVENDA</th>\n      <th>...</th>\n      <th>MARGEM MÉDIA REVENDA</th>\n      <th>COEF DE VARIAÇÃO REVENDA</th>\n      <th>PREÇO MÉDIO DISTRIBUIÇÃO</th>\n      <th>DESVIO PADRÃO DISTRIBUIÇÃO</th>\n      <th>PREÇO MÍNIMO DISTRIBUIÇÃO</th>\n      <th>PREÇO MÁXIMO DISTRIBUIÇÃO</th>\n      <th>COEF DE VARIAÇÃO DISTRIBUIÇÃO</th>\n      <th>coluna sem nocao</th>\n      <th>Coluna a partir de lista</th>\n      <th>PREÇO MÉDIO REVENDA (dólares)</th>\n    </tr>\n  </thead>\n  <tbody>\n    <tr>\n      <th>1</th>\n      <td>2004-05-09</td>\n      <td>2004-05-15</td>\n      <td>CENTRO OESTE</td>\n      <td>GOIAS</td>\n      <td>ETANOL HIDRATADO</td>\n      <td>387</td>\n      <td>R$/l</td>\n      <td>1.162</td>\n      <td>0.114</td>\n      <td>0.890</td>\n      <td>...</td>\n      <td>0.399</td>\n      <td>0.098</td>\n      <td>0.763</td>\n      <td>0.088</td>\n      <td>0.5013</td>\n      <td>1.05</td>\n      <td>0.115</td>\n      <td>DEFAULT</td>\n      <td>1</td>\n      <td>6.972</td>\n    </tr>\n    <tr>\n      <th>5</th>\n      <td>2004-05-09</td>\n      <td>2004-05-15</td>\n      <td>NORDESTE</td>\n      <td>BAHIA</td>\n      <td>ETANOL HIDRATADO</td>\n      <td>408</td>\n      <td>R$/l</td>\n      <td>1.383</td>\n      <td>0.132</td>\n      <td>0.999</td>\n      <td>...</td>\n      <td>0.426</td>\n      <td>0.095</td>\n      <td>0.957</td>\n      <td>0.128</td>\n      <td>0.5686</td>\n      <td>1.35</td>\n      <td>0.134</td>\n      <td>DEFAULT</td>\n      <td>5</td>\n      <td>8.298</td>\n    </tr>\n    <tr>\n      <th>10</th>\n      <td>2004-05-09</td>\n      <td>2004-05-15</td>\n      <td>NORDESTE</td>\n      <td>PIAUI</td>\n      <td>ETANOL HIDRATADO</td>\n      <td>89</td>\n      <td>R$/l</td>\n      <td>1.573</td>\n      <td>0.134</td>\n      <td>1.400</td>\n      <td>...</td>\n      <td>0.494</td>\n      <td>0.085</td>\n      <td>1.079</td>\n      <td>0.078</td>\n      <td>0.8857</td>\n      <td>1.2499</td>\n      <td>0.072</td>\n      <td>DEFAULT</td>\n      <td>10</td>\n      <td>9.438</td>\n    </tr>\n    <tr>\n      <th>15</th>\n      <td>2004-05-09</td>\n      <td>2004-05-15</td>\n      <td>NORTE</td>\n      <td>AMAZONAS</td>\n      <td>ETANOL HIDRATADO</td>\n      <td>53</td>\n      <td>R$/l</td>\n      <td>1.578</td>\n      <td>0.123</td>\n      <td>1.280</td>\n      <td>...</td>\n      <td>0.441</td>\n      <td>0.078</td>\n      <td>1.137</td>\n      <td>0.068</td>\n      <td>0.9515</td>\n      <td>1.2109</td>\n      <td>0.06</td>\n      <td>DEFAULT</td>\n      <td>15</td>\n      <td>9.468</td>\n    </tr>\n  </tbody>\n</table>\n<p>4 rows × 21 columns</p>\n</div>"
          },
          "metadata": {}
        }
      ],
      "execution_count": 131
    },
    {
      "id": "olive-plain",
      "cell_type": "code",
      "source": "# selecionando as linhas/observações de índices 5, 1, 15, 10\ndata.iloc[[5, 1, 15, 10]]",
      "metadata": {
        "trusted": true
      },
      "outputs": [
        {
          "execution_count": 135,
          "output_type": "execute_result",
          "data": {
            "text/plain": "   DATA INICIAL  DATA FINAL        REGIÃO    ESTADO           PRODUTO  \\\n5    2004-05-09  2004-05-15      NORDESTE     BAHIA  ETANOL HIDRATADO   \n1    2004-05-09  2004-05-15  CENTRO OESTE     GOIAS  ETANOL HIDRATADO   \n15   2004-05-09  2004-05-15         NORTE  AMAZONAS  ETANOL HIDRATADO   \n10   2004-05-09  2004-05-15      NORDESTE     PIAUI  ETANOL HIDRATADO   \n\n    NÚMERO DE POSTOS PESQUISADOS UNIDADE DE MEDIDA  PREÇO MÉDIO REVENDA  \\\n5                            408              R$/l                1.383   \n1                            387              R$/l                1.162   \n15                            53              R$/l                1.578   \n10                            89              R$/l                1.573   \n\n    DESVIO PADRÃO REVENDA  PREÇO MÍNIMO REVENDA  ...  MARGEM MÉDIA REVENDA  \\\n5                   0.132                 0.999  ...                 0.426   \n1                   0.114                 0.890  ...                 0.399   \n15                  0.123                 1.280  ...                 0.441   \n10                  0.134                 1.400  ...                 0.494   \n\n   COEF DE VARIAÇÃO REVENDA  PREÇO MÉDIO DISTRIBUIÇÃO  \\\n5                     0.095                     0.957   \n1                     0.098                     0.763   \n15                    0.078                     1.137   \n10                    0.085                     1.079   \n\n   DESVIO PADRÃO DISTRIBUIÇÃO PREÇO MÍNIMO DISTRIBUIÇÃO  \\\n5                       0.128                    0.5686   \n1                       0.088                    0.5013   \n15                      0.068                    0.9515   \n10                      0.078                    0.8857   \n\n   PREÇO MÁXIMO DISTRIBUIÇÃO COEF DE VARIAÇÃO DISTRIBUIÇÃO coluna sem nocao  \\\n5                       1.35                         0.134          DEFAULT   \n1                       1.05                         0.115          DEFAULT   \n15                    1.2109                          0.06          DEFAULT   \n10                    1.2499                         0.072          DEFAULT   \n\n   Coluna a partir de lista  PREÇO MÉDIO REVENDA (dólares)  \n5                         5                          8.298  \n1                         1                          6.972  \n15                       15                          9.468  \n10                       10                          9.438  \n\n[4 rows x 21 columns]",
            "text/html": "<div>\n<style scoped>\n    .dataframe tbody tr th:only-of-type {\n        vertical-align: middle;\n    }\n\n    .dataframe tbody tr th {\n        vertical-align: top;\n    }\n\n    .dataframe thead th {\n        text-align: right;\n    }\n</style>\n<table border=\"1\" class=\"dataframe\">\n  <thead>\n    <tr style=\"text-align: right;\">\n      <th></th>\n      <th>DATA INICIAL</th>\n      <th>DATA FINAL</th>\n      <th>REGIÃO</th>\n      <th>ESTADO</th>\n      <th>PRODUTO</th>\n      <th>NÚMERO DE POSTOS PESQUISADOS</th>\n      <th>UNIDADE DE MEDIDA</th>\n      <th>PREÇO MÉDIO REVENDA</th>\n      <th>DESVIO PADRÃO REVENDA</th>\n      <th>PREÇO MÍNIMO REVENDA</th>\n      <th>...</th>\n      <th>MARGEM MÉDIA REVENDA</th>\n      <th>COEF DE VARIAÇÃO REVENDA</th>\n      <th>PREÇO MÉDIO DISTRIBUIÇÃO</th>\n      <th>DESVIO PADRÃO DISTRIBUIÇÃO</th>\n      <th>PREÇO MÍNIMO DISTRIBUIÇÃO</th>\n      <th>PREÇO MÁXIMO DISTRIBUIÇÃO</th>\n      <th>COEF DE VARIAÇÃO DISTRIBUIÇÃO</th>\n      <th>coluna sem nocao</th>\n      <th>Coluna a partir de lista</th>\n      <th>PREÇO MÉDIO REVENDA (dólares)</th>\n    </tr>\n  </thead>\n  <tbody>\n    <tr>\n      <th>5</th>\n      <td>2004-05-09</td>\n      <td>2004-05-15</td>\n      <td>NORDESTE</td>\n      <td>BAHIA</td>\n      <td>ETANOL HIDRATADO</td>\n      <td>408</td>\n      <td>R$/l</td>\n      <td>1.383</td>\n      <td>0.132</td>\n      <td>0.999</td>\n      <td>...</td>\n      <td>0.426</td>\n      <td>0.095</td>\n      <td>0.957</td>\n      <td>0.128</td>\n      <td>0.5686</td>\n      <td>1.35</td>\n      <td>0.134</td>\n      <td>DEFAULT</td>\n      <td>5</td>\n      <td>8.298</td>\n    </tr>\n    <tr>\n      <th>1</th>\n      <td>2004-05-09</td>\n      <td>2004-05-15</td>\n      <td>CENTRO OESTE</td>\n      <td>GOIAS</td>\n      <td>ETANOL HIDRATADO</td>\n      <td>387</td>\n      <td>R$/l</td>\n      <td>1.162</td>\n      <td>0.114</td>\n      <td>0.890</td>\n      <td>...</td>\n      <td>0.399</td>\n      <td>0.098</td>\n      <td>0.763</td>\n      <td>0.088</td>\n      <td>0.5013</td>\n      <td>1.05</td>\n      <td>0.115</td>\n      <td>DEFAULT</td>\n      <td>1</td>\n      <td>6.972</td>\n    </tr>\n    <tr>\n      <th>15</th>\n      <td>2004-05-09</td>\n      <td>2004-05-15</td>\n      <td>NORTE</td>\n      <td>AMAZONAS</td>\n      <td>ETANOL HIDRATADO</td>\n      <td>53</td>\n      <td>R$/l</td>\n      <td>1.578</td>\n      <td>0.123</td>\n      <td>1.280</td>\n      <td>...</td>\n      <td>0.441</td>\n      <td>0.078</td>\n      <td>1.137</td>\n      <td>0.068</td>\n      <td>0.9515</td>\n      <td>1.2109</td>\n      <td>0.06</td>\n      <td>DEFAULT</td>\n      <td>15</td>\n      <td>9.468</td>\n    </tr>\n    <tr>\n      <th>10</th>\n      <td>2004-05-09</td>\n      <td>2004-05-15</td>\n      <td>NORDESTE</td>\n      <td>PIAUI</td>\n      <td>ETANOL HIDRATADO</td>\n      <td>89</td>\n      <td>R$/l</td>\n      <td>1.573</td>\n      <td>0.134</td>\n      <td>1.400</td>\n      <td>...</td>\n      <td>0.494</td>\n      <td>0.085</td>\n      <td>1.079</td>\n      <td>0.078</td>\n      <td>0.8857</td>\n      <td>1.2499</td>\n      <td>0.072</td>\n      <td>DEFAULT</td>\n      <td>10</td>\n      <td>9.438</td>\n    </tr>\n  </tbody>\n</table>\n<p>4 rows × 21 columns</p>\n</div>"
          },
          "metadata": {}
        }
      ],
      "execution_count": 135
    },
    {
      "id": "e8733f37-f5bd-449d-9d48-17cf248fd155",
      "cell_type": "code",
      "source": "# retornar o valor da linha de índice 1, coluna 4 ('ESTADO')\ndata.iloc[1, 3]",
      "metadata": {
        "trusted": true
      },
      "outputs": [
        {
          "execution_count": 140,
          "output_type": "execute_result",
          "data": {
            "text/plain": "'GOIAS'"
          },
          "metadata": {}
        }
      ],
      "execution_count": 140
    },
    {
      "id": "settled-sunglasses",
      "cell_type": "code",
      "source": "# e assim por diante!",
      "metadata": {
        "trusted": true
      },
      "outputs": [],
      "execution_count": 134
    },
    {
      "id": "extended-helping",
      "cell_type": "markdown",
      "source": "#### **==>  Label-based selection (seleção baseadas em Rótulos)**\n\n`loc`: seleciona elementos do Dataframe, baseado em seus **rótulos** --> row-first, column-second",
      "metadata": {}
    },
    {
      "id": "packed-unemployment",
      "cell_type": "code",
      "source": "pesquisa_de_satisfacao",
      "metadata": {
        "trusted": true
      },
      "outputs": [
        {
          "execution_count": 141,
          "output_type": "execute_result",
          "data": {
            "text/plain": "              bom  ruim  pessimo\nXboxOne        50   131       30\nPlaystation4   21     2       20\nSwitch        100    30        1",
            "text/html": "<div>\n<style scoped>\n    .dataframe tbody tr th:only-of-type {\n        vertical-align: middle;\n    }\n\n    .dataframe tbody tr th {\n        vertical-align: top;\n    }\n\n    .dataframe thead th {\n        text-align: right;\n    }\n</style>\n<table border=\"1\" class=\"dataframe\">\n  <thead>\n    <tr style=\"text-align: right;\">\n      <th></th>\n      <th>bom</th>\n      <th>ruim</th>\n      <th>pessimo</th>\n    </tr>\n  </thead>\n  <tbody>\n    <tr>\n      <th>XboxOne</th>\n      <td>50</td>\n      <td>131</td>\n      <td>30</td>\n    </tr>\n    <tr>\n      <th>Playstation4</th>\n      <td>21</td>\n      <td>2</td>\n      <td>20</td>\n    </tr>\n    <tr>\n      <th>Switch</th>\n      <td>100</td>\n      <td>30</td>\n      <td>1</td>\n    </tr>\n  </tbody>\n</table>\n</div>"
          },
          "metadata": {}
        }
      ],
      "execution_count": 141
    },
    {
      "id": "blank-defeat",
      "cell_type": "code",
      "source": "# retorna a linha de índice 0 (ímplicito) ===> usando o iloc\npesquisa_de_satisfacao.iloc[0]",
      "metadata": {
        "trusted": true
      },
      "outputs": [
        {
          "execution_count": 146,
          "output_type": "execute_result",
          "data": {
            "text/plain": "bom         50\nruim       131\npessimo     30\nName: XboxOne, dtype: int64"
          },
          "metadata": {}
        }
      ],
      "execution_count": 146
    },
    {
      "id": "personalized-southeast",
      "cell_type": "code",
      "source": "# retorna a linha de índice 0 (implícito) e coluna de índice 1 (implícito) ===> usando o iloc\npesquisa_de_satisfacao.iloc[0, 1]",
      "metadata": {
        "trusted": true
      },
      "outputs": [
        {
          "execution_count": 149,
          "output_type": "execute_result",
          "data": {
            "text/plain": "np.int64(131)"
          },
          "metadata": {}
        }
      ],
      "execution_count": 149
    },
    {
      "id": "dutch-proportion",
      "cell_type": "code",
      "source": "# Retorna a linha cujo o rótulo do indíce é 'XboxOne'\npesquisa_de_satisfacao.loc['XboxOne']",
      "metadata": {
        "trusted": true
      },
      "outputs": [
        {
          "execution_count": 152,
          "output_type": "execute_result",
          "data": {
            "text/plain": "bom         50\nruim       131\npessimo     30\nName: XboxOne, dtype: int64"
          },
          "metadata": {}
        }
      ],
      "execution_count": 152
    },
    {
      "id": "instrumental-automation",
      "cell_type": "code",
      "source": "pesquisa_de_satisfacao",
      "metadata": {
        "trusted": true
      },
      "outputs": [
        {
          "execution_count": 153,
          "output_type": "execute_result",
          "data": {
            "text/plain": "              bom  ruim  pessimo\nXboxOne        50   131       30\nPlaystation4   21     2       20\nSwitch        100    30        1",
            "text/html": "<div>\n<style scoped>\n    .dataframe tbody tr th:only-of-type {\n        vertical-align: middle;\n    }\n\n    .dataframe tbody tr th {\n        vertical-align: top;\n    }\n\n    .dataframe thead th {\n        text-align: right;\n    }\n</style>\n<table border=\"1\" class=\"dataframe\">\n  <thead>\n    <tr style=\"text-align: right;\">\n      <th></th>\n      <th>bom</th>\n      <th>ruim</th>\n      <th>pessimo</th>\n    </tr>\n  </thead>\n  <tbody>\n    <tr>\n      <th>XboxOne</th>\n      <td>50</td>\n      <td>131</td>\n      <td>30</td>\n    </tr>\n    <tr>\n      <th>Playstation4</th>\n      <td>21</td>\n      <td>2</td>\n      <td>20</td>\n    </tr>\n    <tr>\n      <th>Switch</th>\n      <td>100</td>\n      <td>30</td>\n      <td>1</td>\n    </tr>\n  </tbody>\n</table>\n</div>"
          },
          "metadata": {}
        }
      ],
      "execution_count": 153
    },
    {
      "id": "statewide-being",
      "cell_type": "code",
      "source": "# retorna o valor da linha 'Playstation4', coluna 'ruim'\npesquisa_de_satisfacao.loc['Playstation4','ruim']",
      "metadata": {
        "trusted": true
      },
      "outputs": [
        {
          "execution_count": 156,
          "output_type": "execute_result",
          "data": {
            "text/plain": "np.int64(2)"
          },
          "metadata": {}
        }
      ],
      "execution_count": 156
    },
    {
      "id": "sublime-berry",
      "cell_type": "code",
      "source": "# selecionando as linhas  de índices rotulados 'XboxOne', 'Switch'\npesquisa_de_satisfacao.loc[['XboxOne','Switch']]",
      "metadata": {
        "trusted": true
      },
      "outputs": [
        {
          "execution_count": 158,
          "output_type": "execute_result",
          "data": {
            "text/plain": "         bom  ruim  pessimo\nXboxOne   50   131       30\nSwitch   100    30        1",
            "text/html": "<div>\n<style scoped>\n    .dataframe tbody tr th:only-of-type {\n        vertical-align: middle;\n    }\n\n    .dataframe tbody tr th {\n        vertical-align: top;\n    }\n\n    .dataframe thead th {\n        text-align: right;\n    }\n</style>\n<table border=\"1\" class=\"dataframe\">\n  <thead>\n    <tr style=\"text-align: right;\">\n      <th></th>\n      <th>bom</th>\n      <th>ruim</th>\n      <th>pessimo</th>\n    </tr>\n  </thead>\n  <tbody>\n    <tr>\n      <th>XboxOne</th>\n      <td>50</td>\n      <td>131</td>\n      <td>30</td>\n    </tr>\n    <tr>\n      <th>Switch</th>\n      <td>100</td>\n      <td>30</td>\n      <td>1</td>\n    </tr>\n  </tbody>\n</table>\n</div>"
          },
          "metadata": {}
        }
      ],
      "execution_count": 158
    },
    {
      "id": "united-bulgarian",
      "cell_type": "code",
      "source": "# retorne todas as linhas e apenas as colunas com rótulos 'bom' e 'pessimo'\npesquisa_de_satisfacao[['bom','pessimo']]",
      "metadata": {
        "trusted": true
      },
      "outputs": [
        {
          "execution_count": 160,
          "output_type": "execute_result",
          "data": {
            "text/plain": "              bom  pessimo\nXboxOne        50       30\nPlaystation4   21       20\nSwitch        100        1",
            "text/html": "<div>\n<style scoped>\n    .dataframe tbody tr th:only-of-type {\n        vertical-align: middle;\n    }\n\n    .dataframe tbody tr th {\n        vertical-align: top;\n    }\n\n    .dataframe thead th {\n        text-align: right;\n    }\n</style>\n<table border=\"1\" class=\"dataframe\">\n  <thead>\n    <tr style=\"text-align: right;\">\n      <th></th>\n      <th>bom</th>\n      <th>pessimo</th>\n    </tr>\n  </thead>\n  <tbody>\n    <tr>\n      <th>XboxOne</th>\n      <td>50</td>\n      <td>30</td>\n    </tr>\n    <tr>\n      <th>Playstation4</th>\n      <td>21</td>\n      <td>20</td>\n    </tr>\n    <tr>\n      <th>Switch</th>\n      <td>100</td>\n      <td>1</td>\n    </tr>\n  </tbody>\n</table>\n</div>"
          },
          "metadata": {}
        }
      ],
      "execution_count": 160
    },
    {
      "id": "played-oxide",
      "cell_type": "code",
      "source": "# retorne todas as linhas e apenas as colunas com rótulos 'bom' e 'pessimo'\npesquisa_de_satisfacao.loc[:, ['bom','pessimo']]",
      "metadata": {
        "trusted": true
      },
      "outputs": [
        {
          "execution_count": 161,
          "output_type": "execute_result",
          "data": {
            "text/plain": "              bom  pessimo\nXboxOne        50       30\nPlaystation4   21       20\nSwitch        100        1",
            "text/html": "<div>\n<style scoped>\n    .dataframe tbody tr th:only-of-type {\n        vertical-align: middle;\n    }\n\n    .dataframe tbody tr th {\n        vertical-align: top;\n    }\n\n    .dataframe thead th {\n        text-align: right;\n    }\n</style>\n<table border=\"1\" class=\"dataframe\">\n  <thead>\n    <tr style=\"text-align: right;\">\n      <th></th>\n      <th>bom</th>\n      <th>pessimo</th>\n    </tr>\n  </thead>\n  <tbody>\n    <tr>\n      <th>XboxOne</th>\n      <td>50</td>\n      <td>30</td>\n    </tr>\n    <tr>\n      <th>Playstation4</th>\n      <td>21</td>\n      <td>20</td>\n    </tr>\n    <tr>\n      <th>Switch</th>\n      <td>100</td>\n      <td>1</td>\n    </tr>\n  </tbody>\n</table>\n</div>"
          },
          "metadata": {}
        }
      ],
      "execution_count": 161
    },
    {
      "id": "brilliant-welding",
      "cell_type": "markdown",
      "source": "### 1.5 Selecionando um ou mais atributos (colunas)",
      "metadata": {}
    },
    {
      "id": "brilliant-simpson",
      "cell_type": "code",
      "source": "data.head()",
      "metadata": {
        "trusted": true
      },
      "outputs": [
        {
          "execution_count": 162,
          "output_type": "execute_result",
          "data": {
            "text/plain": "  DATA INICIAL  DATA FINAL        REGIÃO              ESTADO  \\\n0   2004-05-09  2004-05-15  CENTRO OESTE    DISTRITO FEDERAL   \n1   2004-05-09  2004-05-15  CENTRO OESTE               GOIAS   \n2   2004-05-09  2004-05-15  CENTRO OESTE         MATO GROSSO   \n3   2004-05-09  2004-05-15  CENTRO OESTE  MATO GROSSO DO SUL   \n4   2004-05-09  2004-05-15      NORDESTE             ALAGOAS   \n\n            PRODUTO  NÚMERO DE POSTOS PESQUISADOS UNIDADE DE MEDIDA  \\\n0  ETANOL HIDRATADO                           127              R$/l   \n1  ETANOL HIDRATADO                           387              R$/l   \n2  ETANOL HIDRATADO                           192              R$/l   \n3  ETANOL HIDRATADO                           162              R$/l   \n4  ETANOL HIDRATADO                           103              R$/l   \n\n   PREÇO MÉDIO REVENDA  DESVIO PADRÃO REVENDA  PREÇO MÍNIMO REVENDA  ...  \\\n0                1.288                  0.016                  1.19  ...   \n1                1.162                  0.114                  0.89  ...   \n2                1.389                  0.097                  1.18  ...   \n3                1.262                  0.070                  1.09  ...   \n4                1.181                  0.078                  1.05  ...   \n\n   MARGEM MÉDIA REVENDA COEF DE VARIAÇÃO REVENDA  PREÇO MÉDIO DISTRIBUIÇÃO  \\\n0                 0.463                    0.012                     0.825   \n1                 0.399                    0.098                     0.763   \n2                 0.419                    0.070                      0.97   \n3                 0.432                    0.055                      0.83   \n4                  0.24                    0.066                     0.941   \n\n  DESVIO PADRÃO DISTRIBUIÇÃO PREÇO MÍNIMO DISTRIBUIÇÃO  \\\n0                       0.11                    0.4201   \n1                      0.088                    0.5013   \n2                      0.095                    0.5614   \n3                      0.119                    0.5991   \n4                      0.077                    0.7441   \n\n  PREÇO MÁXIMO DISTRIBUIÇÃO COEF DE VARIAÇÃO DISTRIBUIÇÃO coluna sem nocao  \\\n0                    0.9666                         0.133          DEFAULT   \n1                      1.05                         0.115          DEFAULT   \n2                     1.161                         0.098          DEFAULT   \n3                   1.22242                         0.143          DEFAULT   \n4                    1.0317                         0.082          DEFAULT   \n\n  Coluna a partir de lista  PREÇO MÉDIO REVENDA (dólares)  \n0                        0                          7.728  \n1                        1                          6.972  \n2                        2                          8.334  \n3                        3                          7.572  \n4                        4                          7.086  \n\n[5 rows x 21 columns]",
            "text/html": "<div>\n<style scoped>\n    .dataframe tbody tr th:only-of-type {\n        vertical-align: middle;\n    }\n\n    .dataframe tbody tr th {\n        vertical-align: top;\n    }\n\n    .dataframe thead th {\n        text-align: right;\n    }\n</style>\n<table border=\"1\" class=\"dataframe\">\n  <thead>\n    <tr style=\"text-align: right;\">\n      <th></th>\n      <th>DATA INICIAL</th>\n      <th>DATA FINAL</th>\n      <th>REGIÃO</th>\n      <th>ESTADO</th>\n      <th>PRODUTO</th>\n      <th>NÚMERO DE POSTOS PESQUISADOS</th>\n      <th>UNIDADE DE MEDIDA</th>\n      <th>PREÇO MÉDIO REVENDA</th>\n      <th>DESVIO PADRÃO REVENDA</th>\n      <th>PREÇO MÍNIMO REVENDA</th>\n      <th>...</th>\n      <th>MARGEM MÉDIA REVENDA</th>\n      <th>COEF DE VARIAÇÃO REVENDA</th>\n      <th>PREÇO MÉDIO DISTRIBUIÇÃO</th>\n      <th>DESVIO PADRÃO DISTRIBUIÇÃO</th>\n      <th>PREÇO MÍNIMO DISTRIBUIÇÃO</th>\n      <th>PREÇO MÁXIMO DISTRIBUIÇÃO</th>\n      <th>COEF DE VARIAÇÃO DISTRIBUIÇÃO</th>\n      <th>coluna sem nocao</th>\n      <th>Coluna a partir de lista</th>\n      <th>PREÇO MÉDIO REVENDA (dólares)</th>\n    </tr>\n  </thead>\n  <tbody>\n    <tr>\n      <th>0</th>\n      <td>2004-05-09</td>\n      <td>2004-05-15</td>\n      <td>CENTRO OESTE</td>\n      <td>DISTRITO FEDERAL</td>\n      <td>ETANOL HIDRATADO</td>\n      <td>127</td>\n      <td>R$/l</td>\n      <td>1.288</td>\n      <td>0.016</td>\n      <td>1.19</td>\n      <td>...</td>\n      <td>0.463</td>\n      <td>0.012</td>\n      <td>0.825</td>\n      <td>0.11</td>\n      <td>0.4201</td>\n      <td>0.9666</td>\n      <td>0.133</td>\n      <td>DEFAULT</td>\n      <td>0</td>\n      <td>7.728</td>\n    </tr>\n    <tr>\n      <th>1</th>\n      <td>2004-05-09</td>\n      <td>2004-05-15</td>\n      <td>CENTRO OESTE</td>\n      <td>GOIAS</td>\n      <td>ETANOL HIDRATADO</td>\n      <td>387</td>\n      <td>R$/l</td>\n      <td>1.162</td>\n      <td>0.114</td>\n      <td>0.89</td>\n      <td>...</td>\n      <td>0.399</td>\n      <td>0.098</td>\n      <td>0.763</td>\n      <td>0.088</td>\n      <td>0.5013</td>\n      <td>1.05</td>\n      <td>0.115</td>\n      <td>DEFAULT</td>\n      <td>1</td>\n      <td>6.972</td>\n    </tr>\n    <tr>\n      <th>2</th>\n      <td>2004-05-09</td>\n      <td>2004-05-15</td>\n      <td>CENTRO OESTE</td>\n      <td>MATO GROSSO</td>\n      <td>ETANOL HIDRATADO</td>\n      <td>192</td>\n      <td>R$/l</td>\n      <td>1.389</td>\n      <td>0.097</td>\n      <td>1.18</td>\n      <td>...</td>\n      <td>0.419</td>\n      <td>0.070</td>\n      <td>0.97</td>\n      <td>0.095</td>\n      <td>0.5614</td>\n      <td>1.161</td>\n      <td>0.098</td>\n      <td>DEFAULT</td>\n      <td>2</td>\n      <td>8.334</td>\n    </tr>\n    <tr>\n      <th>3</th>\n      <td>2004-05-09</td>\n      <td>2004-05-15</td>\n      <td>CENTRO OESTE</td>\n      <td>MATO GROSSO DO SUL</td>\n      <td>ETANOL HIDRATADO</td>\n      <td>162</td>\n      <td>R$/l</td>\n      <td>1.262</td>\n      <td>0.070</td>\n      <td>1.09</td>\n      <td>...</td>\n      <td>0.432</td>\n      <td>0.055</td>\n      <td>0.83</td>\n      <td>0.119</td>\n      <td>0.5991</td>\n      <td>1.22242</td>\n      <td>0.143</td>\n      <td>DEFAULT</td>\n      <td>3</td>\n      <td>7.572</td>\n    </tr>\n    <tr>\n      <th>4</th>\n      <td>2004-05-09</td>\n      <td>2004-05-15</td>\n      <td>NORDESTE</td>\n      <td>ALAGOAS</td>\n      <td>ETANOL HIDRATADO</td>\n      <td>103</td>\n      <td>R$/l</td>\n      <td>1.181</td>\n      <td>0.078</td>\n      <td>1.05</td>\n      <td>...</td>\n      <td>0.24</td>\n      <td>0.066</td>\n      <td>0.941</td>\n      <td>0.077</td>\n      <td>0.7441</td>\n      <td>1.0317</td>\n      <td>0.082</td>\n      <td>DEFAULT</td>\n      <td>4</td>\n      <td>7.086</td>\n    </tr>\n  </tbody>\n</table>\n<p>5 rows × 21 columns</p>\n</div>"
          },
          "metadata": {}
        }
      ],
      "execution_count": 162
    },
    {
      "id": "prostate-brass",
      "cell_type": "code",
      "source": "# retornando a coluna atributo 'ESTADO'\ndata['ESTADO']",
      "metadata": {
        "trusted": true
      },
      "outputs": [
        {
          "execution_count": 163,
          "output_type": "execute_result",
          "data": {
            "text/plain": "0           DISTRITO FEDERAL\n1                      GOIAS\n2                MATO GROSSO\n3         MATO GROSSO DO SUL\n4                    ALAGOAS\n                 ...        \n120818               RORAIMA\n120819        SANTA CATARINA\n120820             SAO PAULO\n120821               SERGIPE\n120822             TOCANTINS\nName: ESTADO, Length: 120823, dtype: object"
          },
          "metadata": {}
        }
      ],
      "execution_count": 163
    },
    {
      "id": "patent-desert",
      "cell_type": "code",
      "source": "data.ESTADO",
      "metadata": {
        "trusted": true
      },
      "outputs": [
        {
          "execution_count": 167,
          "output_type": "execute_result",
          "data": {
            "text/plain": "0           DISTRITO FEDERAL\n1                      GOIAS\n2                MATO GROSSO\n3         MATO GROSSO DO SUL\n4                    ALAGOAS\n                 ...        \n120818               RORAIMA\n120819        SANTA CATARINA\n120820             SAO PAULO\n120821               SERGIPE\n120822             TOCANTINS\nName: ESTADO, Length: 120823, dtype: object"
          },
          "metadata": {}
        }
      ],
      "execution_count": 167
    },
    {
      "id": "natural-motor",
      "cell_type": "code",
      "source": "data.loc[:, 'ESTADO']",
      "metadata": {
        "trusted": true
      },
      "outputs": [
        {
          "execution_count": 172,
          "output_type": "execute_result",
          "data": {
            "text/plain": "0           DISTRITO FEDERAL\n1                      GOIAS\n2                MATO GROSSO\n3         MATO GROSSO DO SUL\n4                    ALAGOAS\n                 ...        \n120818               RORAIMA\n120819        SANTA CATARINA\n120820             SAO PAULO\n120821               SERGIPE\n120822             TOCANTINS\nName: ESTADO, Length: 120823, dtype: object"
          },
          "metadata": {}
        }
      ],
      "execution_count": 172
    },
    {
      "id": "bb57016f-d3a3-4625-b737-bd11be1e9d5a",
      "cell_type": "code",
      "source": "# selecionando multiplas colunas: 'PRODUTO', 'ESTADO', 'REGIAO'\ndata[['PRODUTO', 'ESTADO', 'REGIÃO']]",
      "metadata": {
        "trusted": true
      },
      "outputs": [
        {
          "execution_count": 175,
          "output_type": "execute_result",
          "data": {
            "text/plain": "                 PRODUTO              ESTADO        REGIÃO\n0       ETANOL HIDRATADO    DISTRITO FEDERAL  CENTRO OESTE\n1       ETANOL HIDRATADO               GOIAS  CENTRO OESTE\n2       ETANOL HIDRATADO         MATO GROSSO  CENTRO OESTE\n3       ETANOL HIDRATADO  MATO GROSSO DO SUL  CENTRO OESTE\n4       ETANOL HIDRATADO             ALAGOAS      NORDESTE\n...                  ...                 ...           ...\n120818   OLEO DIESEL S10             RORAIMA         NORTE\n120819   OLEO DIESEL S10      SANTA CATARINA           SUL\n120820   OLEO DIESEL S10           SAO PAULO       SUDESTE\n120821   OLEO DIESEL S10             SERGIPE      NORDESTE\n120822   OLEO DIESEL S10           TOCANTINS         NORTE\n\n[120823 rows x 3 columns]",
            "text/html": "<div>\n<style scoped>\n    .dataframe tbody tr th:only-of-type {\n        vertical-align: middle;\n    }\n\n    .dataframe tbody tr th {\n        vertical-align: top;\n    }\n\n    .dataframe thead th {\n        text-align: right;\n    }\n</style>\n<table border=\"1\" class=\"dataframe\">\n  <thead>\n    <tr style=\"text-align: right;\">\n      <th></th>\n      <th>PRODUTO</th>\n      <th>ESTADO</th>\n      <th>REGIÃO</th>\n    </tr>\n  </thead>\n  <tbody>\n    <tr>\n      <th>0</th>\n      <td>ETANOL HIDRATADO</td>\n      <td>DISTRITO FEDERAL</td>\n      <td>CENTRO OESTE</td>\n    </tr>\n    <tr>\n      <th>1</th>\n      <td>ETANOL HIDRATADO</td>\n      <td>GOIAS</td>\n      <td>CENTRO OESTE</td>\n    </tr>\n    <tr>\n      <th>2</th>\n      <td>ETANOL HIDRATADO</td>\n      <td>MATO GROSSO</td>\n      <td>CENTRO OESTE</td>\n    </tr>\n    <tr>\n      <th>3</th>\n      <td>ETANOL HIDRATADO</td>\n      <td>MATO GROSSO DO SUL</td>\n      <td>CENTRO OESTE</td>\n    </tr>\n    <tr>\n      <th>4</th>\n      <td>ETANOL HIDRATADO</td>\n      <td>ALAGOAS</td>\n      <td>NORDESTE</td>\n    </tr>\n    <tr>\n      <th>...</th>\n      <td>...</td>\n      <td>...</td>\n      <td>...</td>\n    </tr>\n    <tr>\n      <th>120818</th>\n      <td>OLEO DIESEL S10</td>\n      <td>RORAIMA</td>\n      <td>NORTE</td>\n    </tr>\n    <tr>\n      <th>120819</th>\n      <td>OLEO DIESEL S10</td>\n      <td>SANTA CATARINA</td>\n      <td>SUL</td>\n    </tr>\n    <tr>\n      <th>120820</th>\n      <td>OLEO DIESEL S10</td>\n      <td>SAO PAULO</td>\n      <td>SUDESTE</td>\n    </tr>\n    <tr>\n      <th>120821</th>\n      <td>OLEO DIESEL S10</td>\n      <td>SERGIPE</td>\n      <td>NORDESTE</td>\n    </tr>\n    <tr>\n      <th>120822</th>\n      <td>OLEO DIESEL S10</td>\n      <td>TOCANTINS</td>\n      <td>NORTE</td>\n    </tr>\n  </tbody>\n</table>\n<p>120823 rows × 3 columns</p>\n</div>"
          },
          "metadata": {}
        }
      ],
      "execution_count": 175
    },
    {
      "id": "italian-berkeley",
      "cell_type": "markdown",
      "source": "Como o rótulo da coluna 'DATA INICIAL' **possui espaço**, não é possível acessá-la como método: `data.DATA INICIAL`",
      "metadata": {}
    },
    {
      "id": "heard-objective",
      "cell_type": "markdown",
      "source": "### 1.6 Removendo um Atributo (Coluna) do Data Frame",
      "metadata": {}
    },
    {
      "id": "private-accused",
      "cell_type": "code",
      "source": "data.head()",
      "metadata": {
        "trusted": true
      },
      "outputs": [
        {
          "execution_count": 191,
          "output_type": "execute_result",
          "data": {
            "text/plain": "  DATA INICIAL  DATA FINAL        REGIÃO              ESTADO  \\\n0   2004-05-09  2004-05-15  CENTRO OESTE    DISTRITO FEDERAL   \n1   2004-05-09  2004-05-15  CENTRO OESTE               GOIAS   \n2   2004-05-09  2004-05-15  CENTRO OESTE         MATO GROSSO   \n3   2004-05-09  2004-05-15  CENTRO OESTE  MATO GROSSO DO SUL   \n4   2004-05-09  2004-05-15      NORDESTE             ALAGOAS   \n\n            PRODUTO  NÚMERO DE POSTOS PESQUISADOS UNIDADE DE MEDIDA  \\\n0  ETANOL HIDRATADO                           127              R$/l   \n1  ETANOL HIDRATADO                           387              R$/l   \n2  ETANOL HIDRATADO                           192              R$/l   \n3  ETANOL HIDRATADO                           162              R$/l   \n4  ETANOL HIDRATADO                           103              R$/l   \n\n   PREÇO MÉDIO REVENDA  DESVIO PADRÃO REVENDA  PREÇO MÍNIMO REVENDA  \\\n0                1.288                  0.016                  1.19   \n1                1.162                  0.114                  0.89   \n2                1.389                  0.097                  1.18   \n3                1.262                  0.070                  1.09   \n4                1.181                  0.078                  1.05   \n\n   PREÇO MÁXIMO REVENDA MARGEM MÉDIA REVENDA  COEF DE VARIAÇÃO REVENDA  \\\n0                 1.350                0.463                     0.012   \n1                 1.449                0.399                     0.098   \n2                 1.760                0.419                     0.070   \n3                 1.509                0.432                     0.055   \n4                 1.400                 0.24                     0.066   \n\n  PREÇO MÉDIO DISTRIBUIÇÃO DESVIO PADRÃO DISTRIBUIÇÃO  \\\n0                    0.825                       0.11   \n1                    0.763                      0.088   \n2                     0.97                      0.095   \n3                     0.83                      0.119   \n4                    0.941                      0.077   \n\n  PREÇO MÍNIMO DISTRIBUIÇÃO PREÇO MÁXIMO DISTRIBUIÇÃO  \\\n0                    0.4201                    0.9666   \n1                    0.5013                      1.05   \n2                    0.5614                     1.161   \n3                    0.5991                   1.22242   \n4                    0.7441                    1.0317   \n\n  COEF DE VARIAÇÃO DISTRIBUIÇÃO  \n0                         0.133  \n1                         0.115  \n2                         0.098  \n3                         0.143  \n4                         0.082  ",
            "text/html": "<div>\n<style scoped>\n    .dataframe tbody tr th:only-of-type {\n        vertical-align: middle;\n    }\n\n    .dataframe tbody tr th {\n        vertical-align: top;\n    }\n\n    .dataframe thead th {\n        text-align: right;\n    }\n</style>\n<table border=\"1\" class=\"dataframe\">\n  <thead>\n    <tr style=\"text-align: right;\">\n      <th></th>\n      <th>DATA INICIAL</th>\n      <th>DATA FINAL</th>\n      <th>REGIÃO</th>\n      <th>ESTADO</th>\n      <th>PRODUTO</th>\n      <th>NÚMERO DE POSTOS PESQUISADOS</th>\n      <th>UNIDADE DE MEDIDA</th>\n      <th>PREÇO MÉDIO REVENDA</th>\n      <th>DESVIO PADRÃO REVENDA</th>\n      <th>PREÇO MÍNIMO REVENDA</th>\n      <th>PREÇO MÁXIMO REVENDA</th>\n      <th>MARGEM MÉDIA REVENDA</th>\n      <th>COEF DE VARIAÇÃO REVENDA</th>\n      <th>PREÇO MÉDIO DISTRIBUIÇÃO</th>\n      <th>DESVIO PADRÃO DISTRIBUIÇÃO</th>\n      <th>PREÇO MÍNIMO DISTRIBUIÇÃO</th>\n      <th>PREÇO MÁXIMO DISTRIBUIÇÃO</th>\n      <th>COEF DE VARIAÇÃO DISTRIBUIÇÃO</th>\n    </tr>\n  </thead>\n  <tbody>\n    <tr>\n      <th>0</th>\n      <td>2004-05-09</td>\n      <td>2004-05-15</td>\n      <td>CENTRO OESTE</td>\n      <td>DISTRITO FEDERAL</td>\n      <td>ETANOL HIDRATADO</td>\n      <td>127</td>\n      <td>R$/l</td>\n      <td>1.288</td>\n      <td>0.016</td>\n      <td>1.19</td>\n      <td>1.350</td>\n      <td>0.463</td>\n      <td>0.012</td>\n      <td>0.825</td>\n      <td>0.11</td>\n      <td>0.4201</td>\n      <td>0.9666</td>\n      <td>0.133</td>\n    </tr>\n    <tr>\n      <th>1</th>\n      <td>2004-05-09</td>\n      <td>2004-05-15</td>\n      <td>CENTRO OESTE</td>\n      <td>GOIAS</td>\n      <td>ETANOL HIDRATADO</td>\n      <td>387</td>\n      <td>R$/l</td>\n      <td>1.162</td>\n      <td>0.114</td>\n      <td>0.89</td>\n      <td>1.449</td>\n      <td>0.399</td>\n      <td>0.098</td>\n      <td>0.763</td>\n      <td>0.088</td>\n      <td>0.5013</td>\n      <td>1.05</td>\n      <td>0.115</td>\n    </tr>\n    <tr>\n      <th>2</th>\n      <td>2004-05-09</td>\n      <td>2004-05-15</td>\n      <td>CENTRO OESTE</td>\n      <td>MATO GROSSO</td>\n      <td>ETANOL HIDRATADO</td>\n      <td>192</td>\n      <td>R$/l</td>\n      <td>1.389</td>\n      <td>0.097</td>\n      <td>1.18</td>\n      <td>1.760</td>\n      <td>0.419</td>\n      <td>0.070</td>\n      <td>0.97</td>\n      <td>0.095</td>\n      <td>0.5614</td>\n      <td>1.161</td>\n      <td>0.098</td>\n    </tr>\n    <tr>\n      <th>3</th>\n      <td>2004-05-09</td>\n      <td>2004-05-15</td>\n      <td>CENTRO OESTE</td>\n      <td>MATO GROSSO DO SUL</td>\n      <td>ETANOL HIDRATADO</td>\n      <td>162</td>\n      <td>R$/l</td>\n      <td>1.262</td>\n      <td>0.070</td>\n      <td>1.09</td>\n      <td>1.509</td>\n      <td>0.432</td>\n      <td>0.055</td>\n      <td>0.83</td>\n      <td>0.119</td>\n      <td>0.5991</td>\n      <td>1.22242</td>\n      <td>0.143</td>\n    </tr>\n    <tr>\n      <th>4</th>\n      <td>2004-05-09</td>\n      <td>2004-05-15</td>\n      <td>NORDESTE</td>\n      <td>ALAGOAS</td>\n      <td>ETANOL HIDRATADO</td>\n      <td>103</td>\n      <td>R$/l</td>\n      <td>1.181</td>\n      <td>0.078</td>\n      <td>1.05</td>\n      <td>1.400</td>\n      <td>0.24</td>\n      <td>0.066</td>\n      <td>0.941</td>\n      <td>0.077</td>\n      <td>0.7441</td>\n      <td>1.0317</td>\n      <td>0.082</td>\n    </tr>\n  </tbody>\n</table>\n</div>"
          },
          "metadata": {}
        }
      ],
      "execution_count": 191
    },
    {
      "id": "other-server",
      "cell_type": "code",
      "source": "# deleta/remove in place (ou seja, no próprio dataframe) a coluna de rótulo 'coluna sem nocao'\ndel data['coluna sem nocao']",
      "metadata": {
        "trusted": true
      },
      "outputs": [],
      "execution_count": null
    },
    {
      "id": "fixed-damage",
      "cell_type": "code",
      "source": "data",
      "metadata": {
        "trusted": true
      },
      "outputs": [
        {
          "execution_count": 182,
          "output_type": "execute_result",
          "data": {
            "text/plain": "       DATA INICIAL  DATA FINAL        REGIÃO              ESTADO  \\\n0        2004-05-09  2004-05-15  CENTRO OESTE    DISTRITO FEDERAL   \n1        2004-05-09  2004-05-15  CENTRO OESTE               GOIAS   \n2        2004-05-09  2004-05-15  CENTRO OESTE         MATO GROSSO   \n3        2004-05-09  2004-05-15  CENTRO OESTE  MATO GROSSO DO SUL   \n4        2004-05-09  2004-05-15      NORDESTE             ALAGOAS   \n...             ...         ...           ...                 ...   \n120818   2021-04-25  2021-05-01         NORTE             RORAIMA   \n120819   2021-04-25  2021-05-01           SUL      SANTA CATARINA   \n120820   2021-04-25  2021-05-01       SUDESTE           SAO PAULO   \n120821   2021-04-25  2021-05-01      NORDESTE             SERGIPE   \n120822   2021-04-25  2021-05-01         NORTE           TOCANTINS   \n\n                 PRODUTO  NÚMERO DE POSTOS PESQUISADOS UNIDADE DE MEDIDA  \\\n0       ETANOL HIDRATADO                           127              R$/l   \n1       ETANOL HIDRATADO                           387              R$/l   \n2       ETANOL HIDRATADO                           192              R$/l   \n3       ETANOL HIDRATADO                           162              R$/l   \n4       ETANOL HIDRATADO                           103              R$/l   \n...                  ...                           ...               ...   \n120818   OLEO DIESEL S10                            12              R$/l   \n120819   OLEO DIESEL S10                           100              R$/l   \n120820   OLEO DIESEL S10                           886              R$/l   \n120821   OLEO DIESEL S10                            33              R$/l   \n120822   OLEO DIESEL S10                            18              R$/l   \n\n        PREÇO MÉDIO REVENDA  DESVIO PADRÃO REVENDA  PREÇO MÍNIMO REVENDA  \\\n0                     1.288                  0.016                 1.190   \n1                     1.162                  0.114                 0.890   \n2                     1.389                  0.097                 1.180   \n3                     1.262                  0.070                 1.090   \n4                     1.181                  0.078                 1.050   \n...                     ...                    ...                   ...   \n120818                4.582                  0.056                 4.510   \n120819                4.141                  0.187                 3.838   \n120820                4.246                  0.216                 3.769   \n120821                4.464                  0.205                 4.190   \n120822                4.352                  0.156                 4.199   \n\n        PREÇO MÁXIMO REVENDA MARGEM MÉDIA REVENDA  COEF DE VARIAÇÃO REVENDA  \\\n0                      1.350                0.463                     0.012   \n1                      1.449                0.399                     0.098   \n2                      1.760                0.419                     0.070   \n3                      1.509                0.432                     0.055   \n4                      1.400                 0.24                     0.066   \n...                      ...                  ...                       ...   \n120818                 4.690             -99999.0                     0.012   \n120819                 4.739             -99999.0                     0.045   \n120820                 5.199             -99999.0                     0.051   \n120821                 4.699             -99999.0                     0.046   \n120822                 4.699             -99999.0                     0.036   \n\n       PREÇO MÉDIO DISTRIBUIÇÃO DESVIO PADRÃO DISTRIBUIÇÃO  \\\n0                         0.825                       0.11   \n1                         0.763                      0.088   \n2                          0.97                      0.095   \n3                          0.83                      0.119   \n4                         0.941                      0.077   \n...                         ...                        ...   \n120818                 -99999.0                   -99999.0   \n120819                 -99999.0                   -99999.0   \n120820                 -99999.0                   -99999.0   \n120821                 -99999.0                   -99999.0   \n120822                 -99999.0                   -99999.0   \n\n       PREÇO MÍNIMO DISTRIBUIÇÃO PREÇO MÁXIMO DISTRIBUIÇÃO  \\\n0                         0.4201                    0.9666   \n1                         0.5013                      1.05   \n2                         0.5614                     1.161   \n3                         0.5991                   1.22242   \n4                         0.7441                    1.0317   \n...                          ...                       ...   \n120818                  -99999.0                  -99999.0   \n120819                  -99999.0                  -99999.0   \n120820                  -99999.0                  -99999.0   \n120821                  -99999.0                  -99999.0   \n120822                  -99999.0                  -99999.0   \n\n       COEF DE VARIAÇÃO DISTRIBUIÇÃO  Coluna a partir de lista  \\\n0                              0.133                         0   \n1                              0.115                         1   \n2                              0.098                         2   \n3                              0.143                         3   \n4                              0.082                         4   \n...                              ...                       ...   \n120818                      -99999.0                    120818   \n120819                      -99999.0                    120819   \n120820                      -99999.0                    120820   \n120821                      -99999.0                    120821   \n120822                      -99999.0                    120822   \n\n        PREÇO MÉDIO REVENDA (dólares)  \n0                               7.728  \n1                               6.972  \n2                               8.334  \n3                               7.572  \n4                               7.086  \n...                               ...  \n120818                         27.492  \n120819                         24.846  \n120820                         25.476  \n120821                         26.784  \n120822                         26.112  \n\n[120823 rows x 20 columns]",
            "text/html": "<div>\n<style scoped>\n    .dataframe tbody tr th:only-of-type {\n        vertical-align: middle;\n    }\n\n    .dataframe tbody tr th {\n        vertical-align: top;\n    }\n\n    .dataframe thead th {\n        text-align: right;\n    }\n</style>\n<table border=\"1\" class=\"dataframe\">\n  <thead>\n    <tr style=\"text-align: right;\">\n      <th></th>\n      <th>DATA INICIAL</th>\n      <th>DATA FINAL</th>\n      <th>REGIÃO</th>\n      <th>ESTADO</th>\n      <th>PRODUTO</th>\n      <th>NÚMERO DE POSTOS PESQUISADOS</th>\n      <th>UNIDADE DE MEDIDA</th>\n      <th>PREÇO MÉDIO REVENDA</th>\n      <th>DESVIO PADRÃO REVENDA</th>\n      <th>PREÇO MÍNIMO REVENDA</th>\n      <th>PREÇO MÁXIMO REVENDA</th>\n      <th>MARGEM MÉDIA REVENDA</th>\n      <th>COEF DE VARIAÇÃO REVENDA</th>\n      <th>PREÇO MÉDIO DISTRIBUIÇÃO</th>\n      <th>DESVIO PADRÃO DISTRIBUIÇÃO</th>\n      <th>PREÇO MÍNIMO DISTRIBUIÇÃO</th>\n      <th>PREÇO MÁXIMO DISTRIBUIÇÃO</th>\n      <th>COEF DE VARIAÇÃO DISTRIBUIÇÃO</th>\n      <th>Coluna a partir de lista</th>\n      <th>PREÇO MÉDIO REVENDA (dólares)</th>\n    </tr>\n  </thead>\n  <tbody>\n    <tr>\n      <th>0</th>\n      <td>2004-05-09</td>\n      <td>2004-05-15</td>\n      <td>CENTRO OESTE</td>\n      <td>DISTRITO FEDERAL</td>\n      <td>ETANOL HIDRATADO</td>\n      <td>127</td>\n      <td>R$/l</td>\n      <td>1.288</td>\n      <td>0.016</td>\n      <td>1.190</td>\n      <td>1.350</td>\n      <td>0.463</td>\n      <td>0.012</td>\n      <td>0.825</td>\n      <td>0.11</td>\n      <td>0.4201</td>\n      <td>0.9666</td>\n      <td>0.133</td>\n      <td>0</td>\n      <td>7.728</td>\n    </tr>\n    <tr>\n      <th>1</th>\n      <td>2004-05-09</td>\n      <td>2004-05-15</td>\n      <td>CENTRO OESTE</td>\n      <td>GOIAS</td>\n      <td>ETANOL HIDRATADO</td>\n      <td>387</td>\n      <td>R$/l</td>\n      <td>1.162</td>\n      <td>0.114</td>\n      <td>0.890</td>\n      <td>1.449</td>\n      <td>0.399</td>\n      <td>0.098</td>\n      <td>0.763</td>\n      <td>0.088</td>\n      <td>0.5013</td>\n      <td>1.05</td>\n      <td>0.115</td>\n      <td>1</td>\n      <td>6.972</td>\n    </tr>\n    <tr>\n      <th>2</th>\n      <td>2004-05-09</td>\n      <td>2004-05-15</td>\n      <td>CENTRO OESTE</td>\n      <td>MATO GROSSO</td>\n      <td>ETANOL HIDRATADO</td>\n      <td>192</td>\n      <td>R$/l</td>\n      <td>1.389</td>\n      <td>0.097</td>\n      <td>1.180</td>\n      <td>1.760</td>\n      <td>0.419</td>\n      <td>0.070</td>\n      <td>0.97</td>\n      <td>0.095</td>\n      <td>0.5614</td>\n      <td>1.161</td>\n      <td>0.098</td>\n      <td>2</td>\n      <td>8.334</td>\n    </tr>\n    <tr>\n      <th>3</th>\n      <td>2004-05-09</td>\n      <td>2004-05-15</td>\n      <td>CENTRO OESTE</td>\n      <td>MATO GROSSO DO SUL</td>\n      <td>ETANOL HIDRATADO</td>\n      <td>162</td>\n      <td>R$/l</td>\n      <td>1.262</td>\n      <td>0.070</td>\n      <td>1.090</td>\n      <td>1.509</td>\n      <td>0.432</td>\n      <td>0.055</td>\n      <td>0.83</td>\n      <td>0.119</td>\n      <td>0.5991</td>\n      <td>1.22242</td>\n      <td>0.143</td>\n      <td>3</td>\n      <td>7.572</td>\n    </tr>\n    <tr>\n      <th>4</th>\n      <td>2004-05-09</td>\n      <td>2004-05-15</td>\n      <td>NORDESTE</td>\n      <td>ALAGOAS</td>\n      <td>ETANOL HIDRATADO</td>\n      <td>103</td>\n      <td>R$/l</td>\n      <td>1.181</td>\n      <td>0.078</td>\n      <td>1.050</td>\n      <td>1.400</td>\n      <td>0.24</td>\n      <td>0.066</td>\n      <td>0.941</td>\n      <td>0.077</td>\n      <td>0.7441</td>\n      <td>1.0317</td>\n      <td>0.082</td>\n      <td>4</td>\n      <td>7.086</td>\n    </tr>\n    <tr>\n      <th>...</th>\n      <td>...</td>\n      <td>...</td>\n      <td>...</td>\n      <td>...</td>\n      <td>...</td>\n      <td>...</td>\n      <td>...</td>\n      <td>...</td>\n      <td>...</td>\n      <td>...</td>\n      <td>...</td>\n      <td>...</td>\n      <td>...</td>\n      <td>...</td>\n      <td>...</td>\n      <td>...</td>\n      <td>...</td>\n      <td>...</td>\n      <td>...</td>\n      <td>...</td>\n    </tr>\n    <tr>\n      <th>120818</th>\n      <td>2021-04-25</td>\n      <td>2021-05-01</td>\n      <td>NORTE</td>\n      <td>RORAIMA</td>\n      <td>OLEO DIESEL S10</td>\n      <td>12</td>\n      <td>R$/l</td>\n      <td>4.582</td>\n      <td>0.056</td>\n      <td>4.510</td>\n      <td>4.690</td>\n      <td>-99999.0</td>\n      <td>0.012</td>\n      <td>-99999.0</td>\n      <td>-99999.0</td>\n      <td>-99999.0</td>\n      <td>-99999.0</td>\n      <td>-99999.0</td>\n      <td>120818</td>\n      <td>27.492</td>\n    </tr>\n    <tr>\n      <th>120819</th>\n      <td>2021-04-25</td>\n      <td>2021-05-01</td>\n      <td>SUL</td>\n      <td>SANTA CATARINA</td>\n      <td>OLEO DIESEL S10</td>\n      <td>100</td>\n      <td>R$/l</td>\n      <td>4.141</td>\n      <td>0.187</td>\n      <td>3.838</td>\n      <td>4.739</td>\n      <td>-99999.0</td>\n      <td>0.045</td>\n      <td>-99999.0</td>\n      <td>-99999.0</td>\n      <td>-99999.0</td>\n      <td>-99999.0</td>\n      <td>-99999.0</td>\n      <td>120819</td>\n      <td>24.846</td>\n    </tr>\n    <tr>\n      <th>120820</th>\n      <td>2021-04-25</td>\n      <td>2021-05-01</td>\n      <td>SUDESTE</td>\n      <td>SAO PAULO</td>\n      <td>OLEO DIESEL S10</td>\n      <td>886</td>\n      <td>R$/l</td>\n      <td>4.246</td>\n      <td>0.216</td>\n      <td>3.769</td>\n      <td>5.199</td>\n      <td>-99999.0</td>\n      <td>0.051</td>\n      <td>-99999.0</td>\n      <td>-99999.0</td>\n      <td>-99999.0</td>\n      <td>-99999.0</td>\n      <td>-99999.0</td>\n      <td>120820</td>\n      <td>25.476</td>\n    </tr>\n    <tr>\n      <th>120821</th>\n      <td>2021-04-25</td>\n      <td>2021-05-01</td>\n      <td>NORDESTE</td>\n      <td>SERGIPE</td>\n      <td>OLEO DIESEL S10</td>\n      <td>33</td>\n      <td>R$/l</td>\n      <td>4.464</td>\n      <td>0.205</td>\n      <td>4.190</td>\n      <td>4.699</td>\n      <td>-99999.0</td>\n      <td>0.046</td>\n      <td>-99999.0</td>\n      <td>-99999.0</td>\n      <td>-99999.0</td>\n      <td>-99999.0</td>\n      <td>-99999.0</td>\n      <td>120821</td>\n      <td>26.784</td>\n    </tr>\n    <tr>\n      <th>120822</th>\n      <td>2021-04-25</td>\n      <td>2021-05-01</td>\n      <td>NORTE</td>\n      <td>TOCANTINS</td>\n      <td>OLEO DIESEL S10</td>\n      <td>18</td>\n      <td>R$/l</td>\n      <td>4.352</td>\n      <td>0.156</td>\n      <td>4.199</td>\n      <td>4.699</td>\n      <td>-99999.0</td>\n      <td>0.036</td>\n      <td>-99999.0</td>\n      <td>-99999.0</td>\n      <td>-99999.0</td>\n      <td>-99999.0</td>\n      <td>-99999.0</td>\n      <td>120822</td>\n      <td>26.112</td>\n    </tr>\n  </tbody>\n</table>\n<p>120823 rows × 20 columns</p>\n</div>"
          },
          "metadata": {}
        }
      ],
      "execution_count": 182
    },
    {
      "id": "f428dc8b-b6b1-4326-8769-9b3c0d0dc6da",
      "cell_type": "code",
      "source": "del data ['Coluna a partir de lista']",
      "metadata": {
        "trusted": true
      },
      "outputs": [],
      "execution_count": null
    },
    {
      "id": "2d8b4d43-94ef-4622-92c0-b42d4cf9f346",
      "cell_type": "code",
      "source": "del data ['PREÇO MÉDIO REVENDA (dólares)']",
      "metadata": {
        "trusted": true
      },
      "outputs": [],
      "execution_count": 189
    },
    {
      "id": "d11b3734-cf3a-48b0-ba80-bfc3b7c14312",
      "cell_type": "code",
      "source": "data.head()",
      "metadata": {
        "trusted": true
      },
      "outputs": [
        {
          "execution_count": 196,
          "output_type": "execute_result",
          "data": {
            "text/plain": "  DATA INICIAL  DATA FINAL        REGIÃO              ESTADO  \\\n0   2004-05-09  2004-05-15  CENTRO OESTE    DISTRITO FEDERAL   \n1   2004-05-09  2004-05-15  CENTRO OESTE               GOIAS   \n2   2004-05-09  2004-05-15  CENTRO OESTE         MATO GROSSO   \n3   2004-05-09  2004-05-15  CENTRO OESTE  MATO GROSSO DO SUL   \n4   2004-05-09  2004-05-15      NORDESTE             ALAGOAS   \n\n            PRODUTO  NÚMERO DE POSTOS PESQUISADOS UNIDADE DE MEDIDA  \\\n0  ETANOL HIDRATADO                           127              R$/l   \n1  ETANOL HIDRATADO                           387              R$/l   \n2  ETANOL HIDRATADO                           192              R$/l   \n3  ETANOL HIDRATADO                           162              R$/l   \n4  ETANOL HIDRATADO                           103              R$/l   \n\n   PREÇO MÉDIO REVENDA  DESVIO PADRÃO REVENDA  PREÇO MÍNIMO REVENDA  \\\n0                1.288                  0.016                  1.19   \n1                1.162                  0.114                  0.89   \n2                1.389                  0.097                  1.18   \n3                1.262                  0.070                  1.09   \n4                1.181                  0.078                  1.05   \n\n   PREÇO MÁXIMO REVENDA MARGEM MÉDIA REVENDA  COEF DE VARIAÇÃO REVENDA  \\\n0                 1.350                0.463                     0.012   \n1                 1.449                0.399                     0.098   \n2                 1.760                0.419                     0.070   \n3                 1.509                0.432                     0.055   \n4                 1.400                 0.24                     0.066   \n\n  PREÇO MÉDIO DISTRIBUIÇÃO DESVIO PADRÃO DISTRIBUIÇÃO  \\\n0                    0.825                       0.11   \n1                    0.763                      0.088   \n2                     0.97                      0.095   \n3                     0.83                      0.119   \n4                    0.941                      0.077   \n\n  PREÇO MÍNIMO DISTRIBUIÇÃO PREÇO MÁXIMO DISTRIBUIÇÃO  \\\n0                    0.4201                    0.9666   \n1                    0.5013                      1.05   \n2                    0.5614                     1.161   \n3                    0.5991                   1.22242   \n4                    0.7441                    1.0317   \n\n  COEF DE VARIAÇÃO DISTRIBUIÇÃO  \n0                         0.133  \n1                         0.115  \n2                         0.098  \n3                         0.143  \n4                         0.082  ",
            "text/html": "<div>\n<style scoped>\n    .dataframe tbody tr th:only-of-type {\n        vertical-align: middle;\n    }\n\n    .dataframe tbody tr th {\n        vertical-align: top;\n    }\n\n    .dataframe thead th {\n        text-align: right;\n    }\n</style>\n<table border=\"1\" class=\"dataframe\">\n  <thead>\n    <tr style=\"text-align: right;\">\n      <th></th>\n      <th>DATA INICIAL</th>\n      <th>DATA FINAL</th>\n      <th>REGIÃO</th>\n      <th>ESTADO</th>\n      <th>PRODUTO</th>\n      <th>NÚMERO DE POSTOS PESQUISADOS</th>\n      <th>UNIDADE DE MEDIDA</th>\n      <th>PREÇO MÉDIO REVENDA</th>\n      <th>DESVIO PADRÃO REVENDA</th>\n      <th>PREÇO MÍNIMO REVENDA</th>\n      <th>PREÇO MÁXIMO REVENDA</th>\n      <th>MARGEM MÉDIA REVENDA</th>\n      <th>COEF DE VARIAÇÃO REVENDA</th>\n      <th>PREÇO MÉDIO DISTRIBUIÇÃO</th>\n      <th>DESVIO PADRÃO DISTRIBUIÇÃO</th>\n      <th>PREÇO MÍNIMO DISTRIBUIÇÃO</th>\n      <th>PREÇO MÁXIMO DISTRIBUIÇÃO</th>\n      <th>COEF DE VARIAÇÃO DISTRIBUIÇÃO</th>\n    </tr>\n  </thead>\n  <tbody>\n    <tr>\n      <th>0</th>\n      <td>2004-05-09</td>\n      <td>2004-05-15</td>\n      <td>CENTRO OESTE</td>\n      <td>DISTRITO FEDERAL</td>\n      <td>ETANOL HIDRATADO</td>\n      <td>127</td>\n      <td>R$/l</td>\n      <td>1.288</td>\n      <td>0.016</td>\n      <td>1.19</td>\n      <td>1.350</td>\n      <td>0.463</td>\n      <td>0.012</td>\n      <td>0.825</td>\n      <td>0.11</td>\n      <td>0.4201</td>\n      <td>0.9666</td>\n      <td>0.133</td>\n    </tr>\n    <tr>\n      <th>1</th>\n      <td>2004-05-09</td>\n      <td>2004-05-15</td>\n      <td>CENTRO OESTE</td>\n      <td>GOIAS</td>\n      <td>ETANOL HIDRATADO</td>\n      <td>387</td>\n      <td>R$/l</td>\n      <td>1.162</td>\n      <td>0.114</td>\n      <td>0.89</td>\n      <td>1.449</td>\n      <td>0.399</td>\n      <td>0.098</td>\n      <td>0.763</td>\n      <td>0.088</td>\n      <td>0.5013</td>\n      <td>1.05</td>\n      <td>0.115</td>\n    </tr>\n    <tr>\n      <th>2</th>\n      <td>2004-05-09</td>\n      <td>2004-05-15</td>\n      <td>CENTRO OESTE</td>\n      <td>MATO GROSSO</td>\n      <td>ETANOL HIDRATADO</td>\n      <td>192</td>\n      <td>R$/l</td>\n      <td>1.389</td>\n      <td>0.097</td>\n      <td>1.18</td>\n      <td>1.760</td>\n      <td>0.419</td>\n      <td>0.070</td>\n      <td>0.97</td>\n      <td>0.095</td>\n      <td>0.5614</td>\n      <td>1.161</td>\n      <td>0.098</td>\n    </tr>\n    <tr>\n      <th>3</th>\n      <td>2004-05-09</td>\n      <td>2004-05-15</td>\n      <td>CENTRO OESTE</td>\n      <td>MATO GROSSO DO SUL</td>\n      <td>ETANOL HIDRATADO</td>\n      <td>162</td>\n      <td>R$/l</td>\n      <td>1.262</td>\n      <td>0.070</td>\n      <td>1.09</td>\n      <td>1.509</td>\n      <td>0.432</td>\n      <td>0.055</td>\n      <td>0.83</td>\n      <td>0.119</td>\n      <td>0.5991</td>\n      <td>1.22242</td>\n      <td>0.143</td>\n    </tr>\n    <tr>\n      <th>4</th>\n      <td>2004-05-09</td>\n      <td>2004-05-15</td>\n      <td>NORDESTE</td>\n      <td>ALAGOAS</td>\n      <td>ETANOL HIDRATADO</td>\n      <td>103</td>\n      <td>R$/l</td>\n      <td>1.181</td>\n      <td>0.078</td>\n      <td>1.05</td>\n      <td>1.400</td>\n      <td>0.24</td>\n      <td>0.066</td>\n      <td>0.941</td>\n      <td>0.077</td>\n      <td>0.7441</td>\n      <td>1.0317</td>\n      <td>0.082</td>\n    </tr>\n  </tbody>\n</table>\n</div>"
          },
          "metadata": {}
        }
      ],
      "execution_count": 196
    },
    {
      "id": "forbidden-neighborhood",
      "cell_type": "markdown",
      "source": "### 1.7 Salvando um Data Frame",
      "metadata": {}
    },
    {
      "id": "sensitive-rocket",
      "cell_type": "markdown",
      "source": "Para salvarmos um Data Frame para um **arquivo CSV**, basta usarmos o método `.to_csv`. <br/>\nPor padrão, esse método **salva os índices da tabela como uma coluna no CSV**.<br/>\nComo no geral tais índices são números de 0 a n-1, não há necessidade para isso (veja que removemos anteriormente a coluna 'Unnamed: 0' que foi justamente esse caso).<br/>\nDesta forma, utilize o parâmetro: `index=False`.\n\nPor padrão, o método utilizará a ',' como separador das colunas. Caso queira alterá-lo, utilize o parâmetro `sep`.",
      "metadata": {}
    },
    {
      "id": "generic-equilibrium",
      "cell_type": "code",
      "source": "data.to_csv('./datasets/2004-2021_preprocessado.csv', index=False)",
      "metadata": {
        "trusted": true
      },
      "outputs": [],
      "execution_count": 199
    },
    {
      "id": "backed-arrow",
      "cell_type": "markdown",
      "source": "### 1.8 Seleção Condicional: Filtrando amostras",
      "metadata": {}
    },
    {
      "id": "aerial-default",
      "cell_type": "markdown",
      "source": "Durante nossas análise exploratórias, frequentemente filtraremos nossas amostras, a partir de certas **condições**, para fins de análise mais específica. <br/>\nExistem algumas maneiras de fazermos tal filtragem. Antes disso, vamos carregar nosso dataset pré-processado que salvamos no item anterior.",
      "metadata": {}
    },
    {
      "id": "subject-rubber",
      "cell_type": "code",
      "source": "data = pd.read_csv('./datasets/2004-2021_preprocessado.csv')",
      "metadata": {
        "trusted": true
      },
      "outputs": [],
      "execution_count": 8
    },
    {
      "id": "southeast-undergraduate",
      "cell_type": "code",
      "source": "data.head()",
      "metadata": {
        "trusted": true
      },
      "outputs": [
        {
          "execution_count": 9,
          "output_type": "execute_result",
          "data": {
            "text/plain": "  DATA INICIAL  DATA FINAL        REGIÃO              ESTADO  \\\n0   2004-05-09  2004-05-15  CENTRO OESTE    DISTRITO FEDERAL   \n1   2004-05-09  2004-05-15  CENTRO OESTE               GOIAS   \n2   2004-05-09  2004-05-15  CENTRO OESTE         MATO GROSSO   \n3   2004-05-09  2004-05-15  CENTRO OESTE  MATO GROSSO DO SUL   \n4   2004-05-09  2004-05-15      NORDESTE             ALAGOAS   \n\n            PRODUTO  NÚMERO DE POSTOS PESQUISADOS UNIDADE DE MEDIDA  \\\n0  ETANOL HIDRATADO                           127              R$/l   \n1  ETANOL HIDRATADO                           387              R$/l   \n2  ETANOL HIDRATADO                           192              R$/l   \n3  ETANOL HIDRATADO                           162              R$/l   \n4  ETANOL HIDRATADO                           103              R$/l   \n\n   PREÇO MÉDIO REVENDA  DESVIO PADRÃO REVENDA  PREÇO MÍNIMO REVENDA  \\\n0                1.288                  0.016                  1.19   \n1                1.162                  0.114                  0.89   \n2                1.389                  0.097                  1.18   \n3                1.262                  0.070                  1.09   \n4                1.181                  0.078                  1.05   \n\n   PREÇO MÁXIMO REVENDA MARGEM MÉDIA REVENDA  COEF DE VARIAÇÃO REVENDA  \\\n0                 1.350                0.463                     0.012   \n1                 1.449                0.399                     0.098   \n2                 1.760                0.419                     0.070   \n3                 1.509                0.432                     0.055   \n4                 1.400                 0.24                     0.066   \n\n  PREÇO MÉDIO DISTRIBUIÇÃO DESVIO PADRÃO DISTRIBUIÇÃO  \\\n0                    0.825                       0.11   \n1                    0.763                      0.088   \n2                     0.97                      0.095   \n3                     0.83                      0.119   \n4                    0.941                      0.077   \n\n  PREÇO MÍNIMO DISTRIBUIÇÃO PREÇO MÁXIMO DISTRIBUIÇÃO  \\\n0                    0.4201                    0.9666   \n1                    0.5013                      1.05   \n2                    0.5614                     1.161   \n3                    0.5991                   1.22242   \n4                    0.7441                    1.0317   \n\n  COEF DE VARIAÇÃO DISTRIBUIÇÃO  \n0                         0.133  \n1                         0.115  \n2                         0.098  \n3                         0.143  \n4                         0.082  ",
            "text/html": "<div>\n<style scoped>\n    .dataframe tbody tr th:only-of-type {\n        vertical-align: middle;\n    }\n\n    .dataframe tbody tr th {\n        vertical-align: top;\n    }\n\n    .dataframe thead th {\n        text-align: right;\n    }\n</style>\n<table border=\"1\" class=\"dataframe\">\n  <thead>\n    <tr style=\"text-align: right;\">\n      <th></th>\n      <th>DATA INICIAL</th>\n      <th>DATA FINAL</th>\n      <th>REGIÃO</th>\n      <th>ESTADO</th>\n      <th>PRODUTO</th>\n      <th>NÚMERO DE POSTOS PESQUISADOS</th>\n      <th>UNIDADE DE MEDIDA</th>\n      <th>PREÇO MÉDIO REVENDA</th>\n      <th>DESVIO PADRÃO REVENDA</th>\n      <th>PREÇO MÍNIMO REVENDA</th>\n      <th>PREÇO MÁXIMO REVENDA</th>\n      <th>MARGEM MÉDIA REVENDA</th>\n      <th>COEF DE VARIAÇÃO REVENDA</th>\n      <th>PREÇO MÉDIO DISTRIBUIÇÃO</th>\n      <th>DESVIO PADRÃO DISTRIBUIÇÃO</th>\n      <th>PREÇO MÍNIMO DISTRIBUIÇÃO</th>\n      <th>PREÇO MÁXIMO DISTRIBUIÇÃO</th>\n      <th>COEF DE VARIAÇÃO DISTRIBUIÇÃO</th>\n    </tr>\n  </thead>\n  <tbody>\n    <tr>\n      <th>0</th>\n      <td>2004-05-09</td>\n      <td>2004-05-15</td>\n      <td>CENTRO OESTE</td>\n      <td>DISTRITO FEDERAL</td>\n      <td>ETANOL HIDRATADO</td>\n      <td>127</td>\n      <td>R$/l</td>\n      <td>1.288</td>\n      <td>0.016</td>\n      <td>1.19</td>\n      <td>1.350</td>\n      <td>0.463</td>\n      <td>0.012</td>\n      <td>0.825</td>\n      <td>0.11</td>\n      <td>0.4201</td>\n      <td>0.9666</td>\n      <td>0.133</td>\n    </tr>\n    <tr>\n      <th>1</th>\n      <td>2004-05-09</td>\n      <td>2004-05-15</td>\n      <td>CENTRO OESTE</td>\n      <td>GOIAS</td>\n      <td>ETANOL HIDRATADO</td>\n      <td>387</td>\n      <td>R$/l</td>\n      <td>1.162</td>\n      <td>0.114</td>\n      <td>0.89</td>\n      <td>1.449</td>\n      <td>0.399</td>\n      <td>0.098</td>\n      <td>0.763</td>\n      <td>0.088</td>\n      <td>0.5013</td>\n      <td>1.05</td>\n      <td>0.115</td>\n    </tr>\n    <tr>\n      <th>2</th>\n      <td>2004-05-09</td>\n      <td>2004-05-15</td>\n      <td>CENTRO OESTE</td>\n      <td>MATO GROSSO</td>\n      <td>ETANOL HIDRATADO</td>\n      <td>192</td>\n      <td>R$/l</td>\n      <td>1.389</td>\n      <td>0.097</td>\n      <td>1.18</td>\n      <td>1.760</td>\n      <td>0.419</td>\n      <td>0.070</td>\n      <td>0.97</td>\n      <td>0.095</td>\n      <td>0.5614</td>\n      <td>1.161</td>\n      <td>0.098</td>\n    </tr>\n    <tr>\n      <th>3</th>\n      <td>2004-05-09</td>\n      <td>2004-05-15</td>\n      <td>CENTRO OESTE</td>\n      <td>MATO GROSSO DO SUL</td>\n      <td>ETANOL HIDRATADO</td>\n      <td>162</td>\n      <td>R$/l</td>\n      <td>1.262</td>\n      <td>0.070</td>\n      <td>1.09</td>\n      <td>1.509</td>\n      <td>0.432</td>\n      <td>0.055</td>\n      <td>0.83</td>\n      <td>0.119</td>\n      <td>0.5991</td>\n      <td>1.22242</td>\n      <td>0.143</td>\n    </tr>\n    <tr>\n      <th>4</th>\n      <td>2004-05-09</td>\n      <td>2004-05-15</td>\n      <td>NORDESTE</td>\n      <td>ALAGOAS</td>\n      <td>ETANOL HIDRATADO</td>\n      <td>103</td>\n      <td>R$/l</td>\n      <td>1.181</td>\n      <td>0.078</td>\n      <td>1.05</td>\n      <td>1.400</td>\n      <td>0.24</td>\n      <td>0.066</td>\n      <td>0.941</td>\n      <td>0.077</td>\n      <td>0.7441</td>\n      <td>1.0317</td>\n      <td>0.082</td>\n    </tr>\n  </tbody>\n</table>\n</div>"
          },
          "metadata": {}
        }
      ],
      "execution_count": 9
    },
    {
      "id": "plain-centre",
      "cell_type": "code",
      "source": "# Mostra os valores únicos presentes para o atributo/coluna 'ESTADO'.\ndata['ESTADO'].unique()",
      "metadata": {
        "trusted": true
      },
      "outputs": [
        {
          "execution_count": 14,
          "output_type": "execute_result",
          "data": {
            "text/plain": "array(['DISTRITO FEDERAL', 'GOIAS', 'MATO GROSSO', 'MATO GROSSO DO SUL',\n       'ALAGOAS', 'BAHIA', 'CEARA', 'MARANHAO', 'PARAIBA', 'PERNAMBUCO',\n       'PIAUI', 'RIO GRANDE DO NORTE', 'SERGIPE', 'ACRE', 'AMAPA',\n       'AMAZONAS', 'PARA', 'RONDONIA', 'RORAIMA', 'TOCANTINS',\n       'ESPIRITO SANTO', 'MINAS GERAIS', 'RIO DE JANEIRO', 'SAO PAULO',\n       'PARANA', 'RIO GRANDE DO SUL', 'SANTA CATARINA'], dtype=object)"
          },
          "metadata": {}
        }
      ],
      "execution_count": 14
    },
    {
      "id": "altered-lafayette",
      "cell_type": "markdown",
      "source": "#### **Selecionando apenas os preços dos Postos de São Paulo**",
      "metadata": {}
    },
    {
      "id": "express-birmingham",
      "cell_type": "markdown",
      "source": "##### **==> Alternativa 1: Seleção Condicional (Comparações diretas)**",
      "metadata": {}
    },
    {
      "id": "balanced-executive",
      "cell_type": "markdown",
      "source": "O código abaixo retorna uma ***Series ('array') de booleans***, com o número de linhas (amostras) do Data Frame, que informa os registros de preços dos postos do _estado de São Paulo_ (True).",
      "metadata": {}
    },
    {
      "id": "sufficient-providence",
      "cell_type": "code",
      "source": "# Faz uma comparação elemento a elemento da series, retornando uma Series de booleans\ndata['ESTADO'] == 'SAO PAULO'",
      "metadata": {
        "trusted": true
      },
      "outputs": [
        {
          "execution_count": 16,
          "output_type": "execute_result",
          "data": {
            "text/plain": "0         False\n1         False\n2         False\n3         False\n4         False\n          ...  \n120818    False\n120819    False\n120820     True\n120821    False\n120822    False\nName: ESTADO, Length: 120823, dtype: bool"
          },
          "metadata": {}
        }
      ],
      "execution_count": 16
    },
    {
      "id": "capable-congo",
      "cell_type": "code",
      "source": "selecao = data['ESTADO'] == 'SAO PAULO'",
      "metadata": {
        "trusted": true
      },
      "outputs": [],
      "execution_count": 17
    },
    {
      "id": "cognitive-temperature",
      "cell_type": "code",
      "source": "selecao",
      "metadata": {
        "trusted": true
      },
      "outputs": [
        {
          "execution_count": 18,
          "output_type": "execute_result",
          "data": {
            "text/plain": "0         False\n1         False\n2         False\n3         False\n4         False\n          ...  \n120818    False\n120819    False\n120820     True\n120821    False\n120822    False\nName: ESTADO, Length: 120823, dtype: bool"
          },
          "metadata": {}
        }
      ],
      "execution_count": 18
    },
    {
      "id": "neural-crazy",
      "cell_type": "code",
      "source": "type(selecao)",
      "metadata": {
        "trusted": true
      },
      "outputs": [
        {
          "execution_count": 19,
          "output_type": "execute_result",
          "data": {
            "text/plain": "pandas.core.series.Series"
          },
          "metadata": {}
        }
      ],
      "execution_count": 19
    },
    {
      "id": "ideal-stand",
      "cell_type": "code",
      "source": "selecao.shape",
      "metadata": {
        "trusted": true
      },
      "outputs": [
        {
          "execution_count": 20,
          "output_type": "execute_result",
          "data": {
            "text/plain": "(120823,)"
          },
          "metadata": {}
        }
      ],
      "execution_count": 20
    },
    {
      "id": "overhead-portal",
      "cell_type": "code",
      "source": "data.shape",
      "metadata": {
        "trusted": true
      },
      "outputs": [
        {
          "execution_count": 21,
          "output_type": "execute_result",
          "data": {
            "text/plain": "(120823, 18)"
          },
          "metadata": {}
        }
      ],
      "execution_count": 21
    },
    {
      "id": "functional-affair",
      "cell_type": "markdown",
      "source": "Para **filtrarmos** os registros de postos do estado de São Paulo:",
      "metadata": {}
    },
    {
      "id": "muslim-livestock",
      "cell_type": "code",
      "source": "data[selecao]",
      "metadata": {
        "trusted": true
      },
      "outputs": [
        {
          "execution_count": 22,
          "output_type": "execute_result",
          "data": {
            "text/plain": "       DATA INICIAL  DATA FINAL   REGIÃO     ESTADO           PRODUTO  \\\n23       2004-05-09  2004-05-15  SUDESTE  SAO PAULO  ETANOL HIDRATADO   \n50       2004-05-16  2004-05-22  SUDESTE  SAO PAULO  ETANOL HIDRATADO   \n77       2004-05-23  2004-05-29  SUDESTE  SAO PAULO  ETANOL HIDRATADO   \n104      2004-05-30  2004-06-05  SUDESTE  SAO PAULO  ETANOL HIDRATADO   \n131      2004-06-06  2004-06-12  SUDESTE  SAO PAULO  ETANOL HIDRATADO   \n...             ...         ...      ...        ...               ...   \n120723   2021-04-25  2021-05-01  SUDESTE  SAO PAULO    GASOLINA COMUM   \n120750   2021-04-25  2021-05-01  SUDESTE  SAO PAULO               GLP   \n120767   2021-04-25  2021-05-01  SUDESTE  SAO PAULO               GNV   \n120793   2021-04-25  2021-05-01  SUDESTE  SAO PAULO       OLEO DIESEL   \n120820   2021-04-25  2021-05-01  SUDESTE  SAO PAULO   OLEO DIESEL S10   \n\n        NÚMERO DE POSTOS PESQUISADOS UNIDADE DE MEDIDA  PREÇO MÉDIO REVENDA  \\\n23                              4047              R$/l                0.768   \n50                              4066              R$/l                0.766   \n77                              4077              R$/l                0.823   \n104                             4073              R$/l                0.887   \n131                             4082              R$/l                0.894   \n...                              ...               ...                  ...   \n120723                          1187              R$/l                5.265   \n120750                           663           R$/13Kg               85.340   \n120767                            51             R$/m3                3.150   \n120793                           411              R$/l                4.134   \n120820                           886              R$/l                4.246   \n\n        DESVIO PADRÃO REVENDA  PREÇO MÍNIMO REVENDA  PREÇO MÁXIMO REVENDA  \\\n23                      0.085                 0.590                 1.150   \n50                      0.083                 0.590                 1.150   \n77                      0.071                 0.620                 1.199   \n104                     0.075                 0.639                 1.359   \n131                     0.071                 0.669                 1.199   \n...                       ...                   ...                   ...   \n120723                  0.218                 4.279                 6.099   \n120750                  5.292                68.000                99.990   \n120767                  0.282                 2.499                 3.797   \n120793                  0.188                 3.699                 5.099   \n120820                  0.216                 3.769                 5.199   \n\n       MARGEM MÉDIA REVENDA  COEF DE VARIAÇÃO REVENDA  \\\n23                    0.198                     0.111   \n50                     0.19                     0.108   \n77                    0.209                     0.086   \n104                   0.216                     0.085   \n131                   0.205                     0.079   \n...                     ...                       ...   \n120723             -99999.0                     0.041   \n120750             -99999.0                     0.062   \n120767             -99999.0                     0.090   \n120793             -99999.0                     0.045   \n120820             -99999.0                     0.051   \n\n       PREÇO MÉDIO DISTRIBUIÇÃO DESVIO PADRÃO DISTRIBUIÇÃO  \\\n23                         0.57                      0.056   \n50                        0.576                       0.05   \n77                        0.614                      0.063   \n104                       0.671                      0.075   \n131                       0.689                      0.072   \n...                         ...                        ...   \n120723                 -99999.0                   -99999.0   \n120750                 -99999.0                   -99999.0   \n120767                 -99999.0                   -99999.0   \n120793                 -99999.0                   -99999.0   \n120820                 -99999.0                   -99999.0   \n\n       PREÇO MÍNIMO DISTRIBUIÇÃO PREÇO MÁXIMO DISTRIBUIÇÃO  \\\n23                        0.4271                    1.4123   \n50                       0.43204                    0.9724   \n77                       0.34951                     1.412   \n104                       0.3398                    1.0669   \n131                      0.47797                    1.0669   \n...                          ...                       ...   \n120723                  -99999.0                  -99999.0   \n120750                  -99999.0                  -99999.0   \n120767                  -99999.0                  -99999.0   \n120793                  -99999.0                  -99999.0   \n120820                  -99999.0                  -99999.0   \n\n       COEF DE VARIAÇÃO DISTRIBUIÇÃO  \n23                             0.098  \n50                             0.087  \n77                             0.103  \n104                            0.112  \n131                            0.104  \n...                              ...  \n120723                      -99999.0  \n120750                      -99999.0  \n120767                      -99999.0  \n120793                      -99999.0  \n120820                      -99999.0  \n\n[4819 rows x 18 columns]",
            "text/html": "<div>\n<style scoped>\n    .dataframe tbody tr th:only-of-type {\n        vertical-align: middle;\n    }\n\n    .dataframe tbody tr th {\n        vertical-align: top;\n    }\n\n    .dataframe thead th {\n        text-align: right;\n    }\n</style>\n<table border=\"1\" class=\"dataframe\">\n  <thead>\n    <tr style=\"text-align: right;\">\n      <th></th>\n      <th>DATA INICIAL</th>\n      <th>DATA FINAL</th>\n      <th>REGIÃO</th>\n      <th>ESTADO</th>\n      <th>PRODUTO</th>\n      <th>NÚMERO DE POSTOS PESQUISADOS</th>\n      <th>UNIDADE DE MEDIDA</th>\n      <th>PREÇO MÉDIO REVENDA</th>\n      <th>DESVIO PADRÃO REVENDA</th>\n      <th>PREÇO MÍNIMO REVENDA</th>\n      <th>PREÇO MÁXIMO REVENDA</th>\n      <th>MARGEM MÉDIA REVENDA</th>\n      <th>COEF DE VARIAÇÃO REVENDA</th>\n      <th>PREÇO MÉDIO DISTRIBUIÇÃO</th>\n      <th>DESVIO PADRÃO DISTRIBUIÇÃO</th>\n      <th>PREÇO MÍNIMO DISTRIBUIÇÃO</th>\n      <th>PREÇO MÁXIMO DISTRIBUIÇÃO</th>\n      <th>COEF DE VARIAÇÃO DISTRIBUIÇÃO</th>\n    </tr>\n  </thead>\n  <tbody>\n    <tr>\n      <th>23</th>\n      <td>2004-05-09</td>\n      <td>2004-05-15</td>\n      <td>SUDESTE</td>\n      <td>SAO PAULO</td>\n      <td>ETANOL HIDRATADO</td>\n      <td>4047</td>\n      <td>R$/l</td>\n      <td>0.768</td>\n      <td>0.085</td>\n      <td>0.590</td>\n      <td>1.150</td>\n      <td>0.198</td>\n      <td>0.111</td>\n      <td>0.57</td>\n      <td>0.056</td>\n      <td>0.4271</td>\n      <td>1.4123</td>\n      <td>0.098</td>\n    </tr>\n    <tr>\n      <th>50</th>\n      <td>2004-05-16</td>\n      <td>2004-05-22</td>\n      <td>SUDESTE</td>\n      <td>SAO PAULO</td>\n      <td>ETANOL HIDRATADO</td>\n      <td>4066</td>\n      <td>R$/l</td>\n      <td>0.766</td>\n      <td>0.083</td>\n      <td>0.590</td>\n      <td>1.150</td>\n      <td>0.19</td>\n      <td>0.108</td>\n      <td>0.576</td>\n      <td>0.05</td>\n      <td>0.43204</td>\n      <td>0.9724</td>\n      <td>0.087</td>\n    </tr>\n    <tr>\n      <th>77</th>\n      <td>2004-05-23</td>\n      <td>2004-05-29</td>\n      <td>SUDESTE</td>\n      <td>SAO PAULO</td>\n      <td>ETANOL HIDRATADO</td>\n      <td>4077</td>\n      <td>R$/l</td>\n      <td>0.823</td>\n      <td>0.071</td>\n      <td>0.620</td>\n      <td>1.199</td>\n      <td>0.209</td>\n      <td>0.086</td>\n      <td>0.614</td>\n      <td>0.063</td>\n      <td>0.34951</td>\n      <td>1.412</td>\n      <td>0.103</td>\n    </tr>\n    <tr>\n      <th>104</th>\n      <td>2004-05-30</td>\n      <td>2004-06-05</td>\n      <td>SUDESTE</td>\n      <td>SAO PAULO</td>\n      <td>ETANOL HIDRATADO</td>\n      <td>4073</td>\n      <td>R$/l</td>\n      <td>0.887</td>\n      <td>0.075</td>\n      <td>0.639</td>\n      <td>1.359</td>\n      <td>0.216</td>\n      <td>0.085</td>\n      <td>0.671</td>\n      <td>0.075</td>\n      <td>0.3398</td>\n      <td>1.0669</td>\n      <td>0.112</td>\n    </tr>\n    <tr>\n      <th>131</th>\n      <td>2004-06-06</td>\n      <td>2004-06-12</td>\n      <td>SUDESTE</td>\n      <td>SAO PAULO</td>\n      <td>ETANOL HIDRATADO</td>\n      <td>4082</td>\n      <td>R$/l</td>\n      <td>0.894</td>\n      <td>0.071</td>\n      <td>0.669</td>\n      <td>1.199</td>\n      <td>0.205</td>\n      <td>0.079</td>\n      <td>0.689</td>\n      <td>0.072</td>\n      <td>0.47797</td>\n      <td>1.0669</td>\n      <td>0.104</td>\n    </tr>\n    <tr>\n      <th>...</th>\n      <td>...</td>\n      <td>...</td>\n      <td>...</td>\n      <td>...</td>\n      <td>...</td>\n      <td>...</td>\n      <td>...</td>\n      <td>...</td>\n      <td>...</td>\n      <td>...</td>\n      <td>...</td>\n      <td>...</td>\n      <td>...</td>\n      <td>...</td>\n      <td>...</td>\n      <td>...</td>\n      <td>...</td>\n      <td>...</td>\n    </tr>\n    <tr>\n      <th>120723</th>\n      <td>2021-04-25</td>\n      <td>2021-05-01</td>\n      <td>SUDESTE</td>\n      <td>SAO PAULO</td>\n      <td>GASOLINA COMUM</td>\n      <td>1187</td>\n      <td>R$/l</td>\n      <td>5.265</td>\n      <td>0.218</td>\n      <td>4.279</td>\n      <td>6.099</td>\n      <td>-99999.0</td>\n      <td>0.041</td>\n      <td>-99999.0</td>\n      <td>-99999.0</td>\n      <td>-99999.0</td>\n      <td>-99999.0</td>\n      <td>-99999.0</td>\n    </tr>\n    <tr>\n      <th>120750</th>\n      <td>2021-04-25</td>\n      <td>2021-05-01</td>\n      <td>SUDESTE</td>\n      <td>SAO PAULO</td>\n      <td>GLP</td>\n      <td>663</td>\n      <td>R$/13Kg</td>\n      <td>85.340</td>\n      <td>5.292</td>\n      <td>68.000</td>\n      <td>99.990</td>\n      <td>-99999.0</td>\n      <td>0.062</td>\n      <td>-99999.0</td>\n      <td>-99999.0</td>\n      <td>-99999.0</td>\n      <td>-99999.0</td>\n      <td>-99999.0</td>\n    </tr>\n    <tr>\n      <th>120767</th>\n      <td>2021-04-25</td>\n      <td>2021-05-01</td>\n      <td>SUDESTE</td>\n      <td>SAO PAULO</td>\n      <td>GNV</td>\n      <td>51</td>\n      <td>R$/m3</td>\n      <td>3.150</td>\n      <td>0.282</td>\n      <td>2.499</td>\n      <td>3.797</td>\n      <td>-99999.0</td>\n      <td>0.090</td>\n      <td>-99999.0</td>\n      <td>-99999.0</td>\n      <td>-99999.0</td>\n      <td>-99999.0</td>\n      <td>-99999.0</td>\n    </tr>\n    <tr>\n      <th>120793</th>\n      <td>2021-04-25</td>\n      <td>2021-05-01</td>\n      <td>SUDESTE</td>\n      <td>SAO PAULO</td>\n      <td>OLEO DIESEL</td>\n      <td>411</td>\n      <td>R$/l</td>\n      <td>4.134</td>\n      <td>0.188</td>\n      <td>3.699</td>\n      <td>5.099</td>\n      <td>-99999.0</td>\n      <td>0.045</td>\n      <td>-99999.0</td>\n      <td>-99999.0</td>\n      <td>-99999.0</td>\n      <td>-99999.0</td>\n      <td>-99999.0</td>\n    </tr>\n    <tr>\n      <th>120820</th>\n      <td>2021-04-25</td>\n      <td>2021-05-01</td>\n      <td>SUDESTE</td>\n      <td>SAO PAULO</td>\n      <td>OLEO DIESEL S10</td>\n      <td>886</td>\n      <td>R$/l</td>\n      <td>4.246</td>\n      <td>0.216</td>\n      <td>3.769</td>\n      <td>5.199</td>\n      <td>-99999.0</td>\n      <td>0.051</td>\n      <td>-99999.0</td>\n      <td>-99999.0</td>\n      <td>-99999.0</td>\n      <td>-99999.0</td>\n      <td>-99999.0</td>\n    </tr>\n  </tbody>\n</table>\n<p>4819 rows × 18 columns</p>\n</div>"
          },
          "metadata": {}
        }
      ],
      "execution_count": 22
    },
    {
      "id": "acute-smile",
      "cell_type": "markdown",
      "source": "O resultado é um Data Frame com _apenas_ os registros desejados após a **filtragem**.<br/>\nPodemos ainda utilizar o método `loc` para o mesmo fim:",
      "metadata": {}
    },
    {
      "id": "several-heath",
      "cell_type": "code",
      "source": "data.loc",
      "metadata": {
        "trusted": true
      },
      "outputs": [
        {
          "execution_count": 23,
          "output_type": "execute_result",
          "data": {
            "text/plain": "<pandas.core.indexing._LocIndexer at 0x77204e0>"
          },
          "metadata": {}
        }
      ],
      "execution_count": 23
    },
    {
      "id": "egyptian-schedule",
      "cell_type": "markdown",
      "source": "##### **==> Alternativa 2: Utilizando o método `query`**",
      "metadata": {}
    },
    {
      "id": "conventional-bathroom",
      "cell_type": "markdown",
      "source": "`query` filtra linhas de um DataFrame baseado em uma **query (pergunta)**.",
      "metadata": {}
    },
    {
      "id": "contrary-richards",
      "cell_type": "code",
      "source": "data.query('ESTADO == \"SAO PAULO\"')",
      "metadata": {
        "trusted": true
      },
      "outputs": [
        {
          "execution_count": 27,
          "output_type": "execute_result",
          "data": {
            "text/plain": "       DATA INICIAL  DATA FINAL   REGIÃO     ESTADO           PRODUTO  \\\n23       2004-05-09  2004-05-15  SUDESTE  SAO PAULO  ETANOL HIDRATADO   \n50       2004-05-16  2004-05-22  SUDESTE  SAO PAULO  ETANOL HIDRATADO   \n77       2004-05-23  2004-05-29  SUDESTE  SAO PAULO  ETANOL HIDRATADO   \n104      2004-05-30  2004-06-05  SUDESTE  SAO PAULO  ETANOL HIDRATADO   \n131      2004-06-06  2004-06-12  SUDESTE  SAO PAULO  ETANOL HIDRATADO   \n...             ...         ...      ...        ...               ...   \n120723   2021-04-25  2021-05-01  SUDESTE  SAO PAULO    GASOLINA COMUM   \n120750   2021-04-25  2021-05-01  SUDESTE  SAO PAULO               GLP   \n120767   2021-04-25  2021-05-01  SUDESTE  SAO PAULO               GNV   \n120793   2021-04-25  2021-05-01  SUDESTE  SAO PAULO       OLEO DIESEL   \n120820   2021-04-25  2021-05-01  SUDESTE  SAO PAULO   OLEO DIESEL S10   \n\n        NÚMERO DE POSTOS PESQUISADOS UNIDADE DE MEDIDA  PREÇO MÉDIO REVENDA  \\\n23                              4047              R$/l                0.768   \n50                              4066              R$/l                0.766   \n77                              4077              R$/l                0.823   \n104                             4073              R$/l                0.887   \n131                             4082              R$/l                0.894   \n...                              ...               ...                  ...   \n120723                          1187              R$/l                5.265   \n120750                           663           R$/13Kg               85.340   \n120767                            51             R$/m3                3.150   \n120793                           411              R$/l                4.134   \n120820                           886              R$/l                4.246   \n\n        DESVIO PADRÃO REVENDA  PREÇO MÍNIMO REVENDA  PREÇO MÁXIMO REVENDA  \\\n23                      0.085                 0.590                 1.150   \n50                      0.083                 0.590                 1.150   \n77                      0.071                 0.620                 1.199   \n104                     0.075                 0.639                 1.359   \n131                     0.071                 0.669                 1.199   \n...                       ...                   ...                   ...   \n120723                  0.218                 4.279                 6.099   \n120750                  5.292                68.000                99.990   \n120767                  0.282                 2.499                 3.797   \n120793                  0.188                 3.699                 5.099   \n120820                  0.216                 3.769                 5.199   \n\n       MARGEM MÉDIA REVENDA  COEF DE VARIAÇÃO REVENDA  \\\n23                    0.198                     0.111   \n50                     0.19                     0.108   \n77                    0.209                     0.086   \n104                   0.216                     0.085   \n131                   0.205                     0.079   \n...                     ...                       ...   \n120723             -99999.0                     0.041   \n120750             -99999.0                     0.062   \n120767             -99999.0                     0.090   \n120793             -99999.0                     0.045   \n120820             -99999.0                     0.051   \n\n       PREÇO MÉDIO DISTRIBUIÇÃO DESVIO PADRÃO DISTRIBUIÇÃO  \\\n23                         0.57                      0.056   \n50                        0.576                       0.05   \n77                        0.614                      0.063   \n104                       0.671                      0.075   \n131                       0.689                      0.072   \n...                         ...                        ...   \n120723                 -99999.0                   -99999.0   \n120750                 -99999.0                   -99999.0   \n120767                 -99999.0                   -99999.0   \n120793                 -99999.0                   -99999.0   \n120820                 -99999.0                   -99999.0   \n\n       PREÇO MÍNIMO DISTRIBUIÇÃO PREÇO MÁXIMO DISTRIBUIÇÃO  \\\n23                        0.4271                    1.4123   \n50                       0.43204                    0.9724   \n77                       0.34951                     1.412   \n104                       0.3398                    1.0669   \n131                      0.47797                    1.0669   \n...                          ...                       ...   \n120723                  -99999.0                  -99999.0   \n120750                  -99999.0                  -99999.0   \n120767                  -99999.0                  -99999.0   \n120793                  -99999.0                  -99999.0   \n120820                  -99999.0                  -99999.0   \n\n       COEF DE VARIAÇÃO DISTRIBUIÇÃO  \n23                             0.098  \n50                             0.087  \n77                             0.103  \n104                            0.112  \n131                            0.104  \n...                              ...  \n120723                      -99999.0  \n120750                      -99999.0  \n120767                      -99999.0  \n120793                      -99999.0  \n120820                      -99999.0  \n\n[4819 rows x 18 columns]",
            "text/html": "<div>\n<style scoped>\n    .dataframe tbody tr th:only-of-type {\n        vertical-align: middle;\n    }\n\n    .dataframe tbody tr th {\n        vertical-align: top;\n    }\n\n    .dataframe thead th {\n        text-align: right;\n    }\n</style>\n<table border=\"1\" class=\"dataframe\">\n  <thead>\n    <tr style=\"text-align: right;\">\n      <th></th>\n      <th>DATA INICIAL</th>\n      <th>DATA FINAL</th>\n      <th>REGIÃO</th>\n      <th>ESTADO</th>\n      <th>PRODUTO</th>\n      <th>NÚMERO DE POSTOS PESQUISADOS</th>\n      <th>UNIDADE DE MEDIDA</th>\n      <th>PREÇO MÉDIO REVENDA</th>\n      <th>DESVIO PADRÃO REVENDA</th>\n      <th>PREÇO MÍNIMO REVENDA</th>\n      <th>PREÇO MÁXIMO REVENDA</th>\n      <th>MARGEM MÉDIA REVENDA</th>\n      <th>COEF DE VARIAÇÃO REVENDA</th>\n      <th>PREÇO MÉDIO DISTRIBUIÇÃO</th>\n      <th>DESVIO PADRÃO DISTRIBUIÇÃO</th>\n      <th>PREÇO MÍNIMO DISTRIBUIÇÃO</th>\n      <th>PREÇO MÁXIMO DISTRIBUIÇÃO</th>\n      <th>COEF DE VARIAÇÃO DISTRIBUIÇÃO</th>\n    </tr>\n  </thead>\n  <tbody>\n    <tr>\n      <th>23</th>\n      <td>2004-05-09</td>\n      <td>2004-05-15</td>\n      <td>SUDESTE</td>\n      <td>SAO PAULO</td>\n      <td>ETANOL HIDRATADO</td>\n      <td>4047</td>\n      <td>R$/l</td>\n      <td>0.768</td>\n      <td>0.085</td>\n      <td>0.590</td>\n      <td>1.150</td>\n      <td>0.198</td>\n      <td>0.111</td>\n      <td>0.57</td>\n      <td>0.056</td>\n      <td>0.4271</td>\n      <td>1.4123</td>\n      <td>0.098</td>\n    </tr>\n    <tr>\n      <th>50</th>\n      <td>2004-05-16</td>\n      <td>2004-05-22</td>\n      <td>SUDESTE</td>\n      <td>SAO PAULO</td>\n      <td>ETANOL HIDRATADO</td>\n      <td>4066</td>\n      <td>R$/l</td>\n      <td>0.766</td>\n      <td>0.083</td>\n      <td>0.590</td>\n      <td>1.150</td>\n      <td>0.19</td>\n      <td>0.108</td>\n      <td>0.576</td>\n      <td>0.05</td>\n      <td>0.43204</td>\n      <td>0.9724</td>\n      <td>0.087</td>\n    </tr>\n    <tr>\n      <th>77</th>\n      <td>2004-05-23</td>\n      <td>2004-05-29</td>\n      <td>SUDESTE</td>\n      <td>SAO PAULO</td>\n      <td>ETANOL HIDRATADO</td>\n      <td>4077</td>\n      <td>R$/l</td>\n      <td>0.823</td>\n      <td>0.071</td>\n      <td>0.620</td>\n      <td>1.199</td>\n      <td>0.209</td>\n      <td>0.086</td>\n      <td>0.614</td>\n      <td>0.063</td>\n      <td>0.34951</td>\n      <td>1.412</td>\n      <td>0.103</td>\n    </tr>\n    <tr>\n      <th>104</th>\n      <td>2004-05-30</td>\n      <td>2004-06-05</td>\n      <td>SUDESTE</td>\n      <td>SAO PAULO</td>\n      <td>ETANOL HIDRATADO</td>\n      <td>4073</td>\n      <td>R$/l</td>\n      <td>0.887</td>\n      <td>0.075</td>\n      <td>0.639</td>\n      <td>1.359</td>\n      <td>0.216</td>\n      <td>0.085</td>\n      <td>0.671</td>\n      <td>0.075</td>\n      <td>0.3398</td>\n      <td>1.0669</td>\n      <td>0.112</td>\n    </tr>\n    <tr>\n      <th>131</th>\n      <td>2004-06-06</td>\n      <td>2004-06-12</td>\n      <td>SUDESTE</td>\n      <td>SAO PAULO</td>\n      <td>ETANOL HIDRATADO</td>\n      <td>4082</td>\n      <td>R$/l</td>\n      <td>0.894</td>\n      <td>0.071</td>\n      <td>0.669</td>\n      <td>1.199</td>\n      <td>0.205</td>\n      <td>0.079</td>\n      <td>0.689</td>\n      <td>0.072</td>\n      <td>0.47797</td>\n      <td>1.0669</td>\n      <td>0.104</td>\n    </tr>\n    <tr>\n      <th>...</th>\n      <td>...</td>\n      <td>...</td>\n      <td>...</td>\n      <td>...</td>\n      <td>...</td>\n      <td>...</td>\n      <td>...</td>\n      <td>...</td>\n      <td>...</td>\n      <td>...</td>\n      <td>...</td>\n      <td>...</td>\n      <td>...</td>\n      <td>...</td>\n      <td>...</td>\n      <td>...</td>\n      <td>...</td>\n      <td>...</td>\n    </tr>\n    <tr>\n      <th>120723</th>\n      <td>2021-04-25</td>\n      <td>2021-05-01</td>\n      <td>SUDESTE</td>\n      <td>SAO PAULO</td>\n      <td>GASOLINA COMUM</td>\n      <td>1187</td>\n      <td>R$/l</td>\n      <td>5.265</td>\n      <td>0.218</td>\n      <td>4.279</td>\n      <td>6.099</td>\n      <td>-99999.0</td>\n      <td>0.041</td>\n      <td>-99999.0</td>\n      <td>-99999.0</td>\n      <td>-99999.0</td>\n      <td>-99999.0</td>\n      <td>-99999.0</td>\n    </tr>\n    <tr>\n      <th>120750</th>\n      <td>2021-04-25</td>\n      <td>2021-05-01</td>\n      <td>SUDESTE</td>\n      <td>SAO PAULO</td>\n      <td>GLP</td>\n      <td>663</td>\n      <td>R$/13Kg</td>\n      <td>85.340</td>\n      <td>5.292</td>\n      <td>68.000</td>\n      <td>99.990</td>\n      <td>-99999.0</td>\n      <td>0.062</td>\n      <td>-99999.0</td>\n      <td>-99999.0</td>\n      <td>-99999.0</td>\n      <td>-99999.0</td>\n      <td>-99999.0</td>\n    </tr>\n    <tr>\n      <th>120767</th>\n      <td>2021-04-25</td>\n      <td>2021-05-01</td>\n      <td>SUDESTE</td>\n      <td>SAO PAULO</td>\n      <td>GNV</td>\n      <td>51</td>\n      <td>R$/m3</td>\n      <td>3.150</td>\n      <td>0.282</td>\n      <td>2.499</td>\n      <td>3.797</td>\n      <td>-99999.0</td>\n      <td>0.090</td>\n      <td>-99999.0</td>\n      <td>-99999.0</td>\n      <td>-99999.0</td>\n      <td>-99999.0</td>\n      <td>-99999.0</td>\n    </tr>\n    <tr>\n      <th>120793</th>\n      <td>2021-04-25</td>\n      <td>2021-05-01</td>\n      <td>SUDESTE</td>\n      <td>SAO PAULO</td>\n      <td>OLEO DIESEL</td>\n      <td>411</td>\n      <td>R$/l</td>\n      <td>4.134</td>\n      <td>0.188</td>\n      <td>3.699</td>\n      <td>5.099</td>\n      <td>-99999.0</td>\n      <td>0.045</td>\n      <td>-99999.0</td>\n      <td>-99999.0</td>\n      <td>-99999.0</td>\n      <td>-99999.0</td>\n      <td>-99999.0</td>\n    </tr>\n    <tr>\n      <th>120820</th>\n      <td>2021-04-25</td>\n      <td>2021-05-01</td>\n      <td>SUDESTE</td>\n      <td>SAO PAULO</td>\n      <td>OLEO DIESEL S10</td>\n      <td>886</td>\n      <td>R$/l</td>\n      <td>4.246</td>\n      <td>0.216</td>\n      <td>3.769</td>\n      <td>5.199</td>\n      <td>-99999.0</td>\n      <td>0.051</td>\n      <td>-99999.0</td>\n      <td>-99999.0</td>\n      <td>-99999.0</td>\n      <td>-99999.0</td>\n      <td>-99999.0</td>\n    </tr>\n  </tbody>\n</table>\n<p>4819 rows × 18 columns</p>\n</div>"
          },
          "metadata": {}
        }
      ],
      "execution_count": 27
    },
    {
      "id": "extreme-jones",
      "cell_type": "markdown",
      "source": "<br/>\n\nUma boa prática é **salvar o Data Frame filtrado em uma nova variável**. Isso simplifica a complexidade do código para futuras análises feita para os postos de São Paulo.",
      "metadata": {}
    },
    {
      "id": "potential-treasure",
      "cell_type": "code",
      "source": "postos_sp = data.query('ESTADO == \"SAO PAULO\"')",
      "metadata": {
        "trusted": true
      },
      "outputs": [],
      "execution_count": 28
    },
    {
      "id": "union-diesel",
      "cell_type": "code",
      "source": "postos_sp",
      "metadata": {
        "trusted": true
      },
      "outputs": [
        {
          "execution_count": 29,
          "output_type": "execute_result",
          "data": {
            "text/plain": "       DATA INICIAL  DATA FINAL   REGIÃO     ESTADO           PRODUTO  \\\n23       2004-05-09  2004-05-15  SUDESTE  SAO PAULO  ETANOL HIDRATADO   \n50       2004-05-16  2004-05-22  SUDESTE  SAO PAULO  ETANOL HIDRATADO   \n77       2004-05-23  2004-05-29  SUDESTE  SAO PAULO  ETANOL HIDRATADO   \n104      2004-05-30  2004-06-05  SUDESTE  SAO PAULO  ETANOL HIDRATADO   \n131      2004-06-06  2004-06-12  SUDESTE  SAO PAULO  ETANOL HIDRATADO   \n...             ...         ...      ...        ...               ...   \n120723   2021-04-25  2021-05-01  SUDESTE  SAO PAULO    GASOLINA COMUM   \n120750   2021-04-25  2021-05-01  SUDESTE  SAO PAULO               GLP   \n120767   2021-04-25  2021-05-01  SUDESTE  SAO PAULO               GNV   \n120793   2021-04-25  2021-05-01  SUDESTE  SAO PAULO       OLEO DIESEL   \n120820   2021-04-25  2021-05-01  SUDESTE  SAO PAULO   OLEO DIESEL S10   \n\n        NÚMERO DE POSTOS PESQUISADOS UNIDADE DE MEDIDA  PREÇO MÉDIO REVENDA  \\\n23                              4047              R$/l                0.768   \n50                              4066              R$/l                0.766   \n77                              4077              R$/l                0.823   \n104                             4073              R$/l                0.887   \n131                             4082              R$/l                0.894   \n...                              ...               ...                  ...   \n120723                          1187              R$/l                5.265   \n120750                           663           R$/13Kg               85.340   \n120767                            51             R$/m3                3.150   \n120793                           411              R$/l                4.134   \n120820                           886              R$/l                4.246   \n\n        DESVIO PADRÃO REVENDA  PREÇO MÍNIMO REVENDA  PREÇO MÁXIMO REVENDA  \\\n23                      0.085                 0.590                 1.150   \n50                      0.083                 0.590                 1.150   \n77                      0.071                 0.620                 1.199   \n104                     0.075                 0.639                 1.359   \n131                     0.071                 0.669                 1.199   \n...                       ...                   ...                   ...   \n120723                  0.218                 4.279                 6.099   \n120750                  5.292                68.000                99.990   \n120767                  0.282                 2.499                 3.797   \n120793                  0.188                 3.699                 5.099   \n120820                  0.216                 3.769                 5.199   \n\n       MARGEM MÉDIA REVENDA  COEF DE VARIAÇÃO REVENDA  \\\n23                    0.198                     0.111   \n50                     0.19                     0.108   \n77                    0.209                     0.086   \n104                   0.216                     0.085   \n131                   0.205                     0.079   \n...                     ...                       ...   \n120723             -99999.0                     0.041   \n120750             -99999.0                     0.062   \n120767             -99999.0                     0.090   \n120793             -99999.0                     0.045   \n120820             -99999.0                     0.051   \n\n       PREÇO MÉDIO DISTRIBUIÇÃO DESVIO PADRÃO DISTRIBUIÇÃO  \\\n23                         0.57                      0.056   \n50                        0.576                       0.05   \n77                        0.614                      0.063   \n104                       0.671                      0.075   \n131                       0.689                      0.072   \n...                         ...                        ...   \n120723                 -99999.0                   -99999.0   \n120750                 -99999.0                   -99999.0   \n120767                 -99999.0                   -99999.0   \n120793                 -99999.0                   -99999.0   \n120820                 -99999.0                   -99999.0   \n\n       PREÇO MÍNIMO DISTRIBUIÇÃO PREÇO MÁXIMO DISTRIBUIÇÃO  \\\n23                        0.4271                    1.4123   \n50                       0.43204                    0.9724   \n77                       0.34951                     1.412   \n104                       0.3398                    1.0669   \n131                      0.47797                    1.0669   \n...                          ...                       ...   \n120723                  -99999.0                  -99999.0   \n120750                  -99999.0                  -99999.0   \n120767                  -99999.0                  -99999.0   \n120793                  -99999.0                  -99999.0   \n120820                  -99999.0                  -99999.0   \n\n       COEF DE VARIAÇÃO DISTRIBUIÇÃO  \n23                             0.098  \n50                             0.087  \n77                             0.103  \n104                            0.112  \n131                            0.104  \n...                              ...  \n120723                      -99999.0  \n120750                      -99999.0  \n120767                      -99999.0  \n120793                      -99999.0  \n120820                      -99999.0  \n\n[4819 rows x 18 columns]",
            "text/html": "<div>\n<style scoped>\n    .dataframe tbody tr th:only-of-type {\n        vertical-align: middle;\n    }\n\n    .dataframe tbody tr th {\n        vertical-align: top;\n    }\n\n    .dataframe thead th {\n        text-align: right;\n    }\n</style>\n<table border=\"1\" class=\"dataframe\">\n  <thead>\n    <tr style=\"text-align: right;\">\n      <th></th>\n      <th>DATA INICIAL</th>\n      <th>DATA FINAL</th>\n      <th>REGIÃO</th>\n      <th>ESTADO</th>\n      <th>PRODUTO</th>\n      <th>NÚMERO DE POSTOS PESQUISADOS</th>\n      <th>UNIDADE DE MEDIDA</th>\n      <th>PREÇO MÉDIO REVENDA</th>\n      <th>DESVIO PADRÃO REVENDA</th>\n      <th>PREÇO MÍNIMO REVENDA</th>\n      <th>PREÇO MÁXIMO REVENDA</th>\n      <th>MARGEM MÉDIA REVENDA</th>\n      <th>COEF DE VARIAÇÃO REVENDA</th>\n      <th>PREÇO MÉDIO DISTRIBUIÇÃO</th>\n      <th>DESVIO PADRÃO DISTRIBUIÇÃO</th>\n      <th>PREÇO MÍNIMO DISTRIBUIÇÃO</th>\n      <th>PREÇO MÁXIMO DISTRIBUIÇÃO</th>\n      <th>COEF DE VARIAÇÃO DISTRIBUIÇÃO</th>\n    </tr>\n  </thead>\n  <tbody>\n    <tr>\n      <th>23</th>\n      <td>2004-05-09</td>\n      <td>2004-05-15</td>\n      <td>SUDESTE</td>\n      <td>SAO PAULO</td>\n      <td>ETANOL HIDRATADO</td>\n      <td>4047</td>\n      <td>R$/l</td>\n      <td>0.768</td>\n      <td>0.085</td>\n      <td>0.590</td>\n      <td>1.150</td>\n      <td>0.198</td>\n      <td>0.111</td>\n      <td>0.57</td>\n      <td>0.056</td>\n      <td>0.4271</td>\n      <td>1.4123</td>\n      <td>0.098</td>\n    </tr>\n    <tr>\n      <th>50</th>\n      <td>2004-05-16</td>\n      <td>2004-05-22</td>\n      <td>SUDESTE</td>\n      <td>SAO PAULO</td>\n      <td>ETANOL HIDRATADO</td>\n      <td>4066</td>\n      <td>R$/l</td>\n      <td>0.766</td>\n      <td>0.083</td>\n      <td>0.590</td>\n      <td>1.150</td>\n      <td>0.19</td>\n      <td>0.108</td>\n      <td>0.576</td>\n      <td>0.05</td>\n      <td>0.43204</td>\n      <td>0.9724</td>\n      <td>0.087</td>\n    </tr>\n    <tr>\n      <th>77</th>\n      <td>2004-05-23</td>\n      <td>2004-05-29</td>\n      <td>SUDESTE</td>\n      <td>SAO PAULO</td>\n      <td>ETANOL HIDRATADO</td>\n      <td>4077</td>\n      <td>R$/l</td>\n      <td>0.823</td>\n      <td>0.071</td>\n      <td>0.620</td>\n      <td>1.199</td>\n      <td>0.209</td>\n      <td>0.086</td>\n      <td>0.614</td>\n      <td>0.063</td>\n      <td>0.34951</td>\n      <td>1.412</td>\n      <td>0.103</td>\n    </tr>\n    <tr>\n      <th>104</th>\n      <td>2004-05-30</td>\n      <td>2004-06-05</td>\n      <td>SUDESTE</td>\n      <td>SAO PAULO</td>\n      <td>ETANOL HIDRATADO</td>\n      <td>4073</td>\n      <td>R$/l</td>\n      <td>0.887</td>\n      <td>0.075</td>\n      <td>0.639</td>\n      <td>1.359</td>\n      <td>0.216</td>\n      <td>0.085</td>\n      <td>0.671</td>\n      <td>0.075</td>\n      <td>0.3398</td>\n      <td>1.0669</td>\n      <td>0.112</td>\n    </tr>\n    <tr>\n      <th>131</th>\n      <td>2004-06-06</td>\n      <td>2004-06-12</td>\n      <td>SUDESTE</td>\n      <td>SAO PAULO</td>\n      <td>ETANOL HIDRATADO</td>\n      <td>4082</td>\n      <td>R$/l</td>\n      <td>0.894</td>\n      <td>0.071</td>\n      <td>0.669</td>\n      <td>1.199</td>\n      <td>0.205</td>\n      <td>0.079</td>\n      <td>0.689</td>\n      <td>0.072</td>\n      <td>0.47797</td>\n      <td>1.0669</td>\n      <td>0.104</td>\n    </tr>\n    <tr>\n      <th>...</th>\n      <td>...</td>\n      <td>...</td>\n      <td>...</td>\n      <td>...</td>\n      <td>...</td>\n      <td>...</td>\n      <td>...</td>\n      <td>...</td>\n      <td>...</td>\n      <td>...</td>\n      <td>...</td>\n      <td>...</td>\n      <td>...</td>\n      <td>...</td>\n      <td>...</td>\n      <td>...</td>\n      <td>...</td>\n      <td>...</td>\n    </tr>\n    <tr>\n      <th>120723</th>\n      <td>2021-04-25</td>\n      <td>2021-05-01</td>\n      <td>SUDESTE</td>\n      <td>SAO PAULO</td>\n      <td>GASOLINA COMUM</td>\n      <td>1187</td>\n      <td>R$/l</td>\n      <td>5.265</td>\n      <td>0.218</td>\n      <td>4.279</td>\n      <td>6.099</td>\n      <td>-99999.0</td>\n      <td>0.041</td>\n      <td>-99999.0</td>\n      <td>-99999.0</td>\n      <td>-99999.0</td>\n      <td>-99999.0</td>\n      <td>-99999.0</td>\n    </tr>\n    <tr>\n      <th>120750</th>\n      <td>2021-04-25</td>\n      <td>2021-05-01</td>\n      <td>SUDESTE</td>\n      <td>SAO PAULO</td>\n      <td>GLP</td>\n      <td>663</td>\n      <td>R$/13Kg</td>\n      <td>85.340</td>\n      <td>5.292</td>\n      <td>68.000</td>\n      <td>99.990</td>\n      <td>-99999.0</td>\n      <td>0.062</td>\n      <td>-99999.0</td>\n      <td>-99999.0</td>\n      <td>-99999.0</td>\n      <td>-99999.0</td>\n      <td>-99999.0</td>\n    </tr>\n    <tr>\n      <th>120767</th>\n      <td>2021-04-25</td>\n      <td>2021-05-01</td>\n      <td>SUDESTE</td>\n      <td>SAO PAULO</td>\n      <td>GNV</td>\n      <td>51</td>\n      <td>R$/m3</td>\n      <td>3.150</td>\n      <td>0.282</td>\n      <td>2.499</td>\n      <td>3.797</td>\n      <td>-99999.0</td>\n      <td>0.090</td>\n      <td>-99999.0</td>\n      <td>-99999.0</td>\n      <td>-99999.0</td>\n      <td>-99999.0</td>\n      <td>-99999.0</td>\n    </tr>\n    <tr>\n      <th>120793</th>\n      <td>2021-04-25</td>\n      <td>2021-05-01</td>\n      <td>SUDESTE</td>\n      <td>SAO PAULO</td>\n      <td>OLEO DIESEL</td>\n      <td>411</td>\n      <td>R$/l</td>\n      <td>4.134</td>\n      <td>0.188</td>\n      <td>3.699</td>\n      <td>5.099</td>\n      <td>-99999.0</td>\n      <td>0.045</td>\n      <td>-99999.0</td>\n      <td>-99999.0</td>\n      <td>-99999.0</td>\n      <td>-99999.0</td>\n      <td>-99999.0</td>\n    </tr>\n    <tr>\n      <th>120820</th>\n      <td>2021-04-25</td>\n      <td>2021-05-01</td>\n      <td>SUDESTE</td>\n      <td>SAO PAULO</td>\n      <td>OLEO DIESEL S10</td>\n      <td>886</td>\n      <td>R$/l</td>\n      <td>4.246</td>\n      <td>0.216</td>\n      <td>3.769</td>\n      <td>5.199</td>\n      <td>-99999.0</td>\n      <td>0.051</td>\n      <td>-99999.0</td>\n      <td>-99999.0</td>\n      <td>-99999.0</td>\n      <td>-99999.0</td>\n      <td>-99999.0</td>\n    </tr>\n  </tbody>\n</table>\n<p>4819 rows × 18 columns</p>\n</div>"
          },
          "metadata": {}
        }
      ],
      "execution_count": 29
    },
    {
      "id": "british-vision",
      "cell_type": "code",
      "source": "type(postos_sp)",
      "metadata": {
        "trusted": true
      },
      "outputs": [
        {
          "execution_count": 30,
          "output_type": "execute_result",
          "data": {
            "text/plain": "pandas.core.frame.DataFrame"
          },
          "metadata": {}
        }
      ],
      "execution_count": 30
    },
    {
      "id": "heard-consent",
      "cell_type": "code",
      "source": "postos_sp.shape",
      "metadata": {
        "trusted": true
      },
      "outputs": [
        {
          "execution_count": 32,
          "output_type": "execute_result",
          "data": {
            "text/plain": "(4819, 18)"
          },
          "metadata": {}
        }
      ],
      "execution_count": 32
    },
    {
      "id": "40fe9a0f-f8f7-482f-adf3-69ebce5e119f",
      "cell_type": "code",
      "source": "postos_sp.head()",
      "metadata": {
        "trusted": true
      },
      "outputs": [
        {
          "execution_count": 33,
          "output_type": "execute_result",
          "data": {
            "text/plain": "    DATA INICIAL  DATA FINAL   REGIÃO     ESTADO           PRODUTO  \\\n23    2004-05-09  2004-05-15  SUDESTE  SAO PAULO  ETANOL HIDRATADO   \n50    2004-05-16  2004-05-22  SUDESTE  SAO PAULO  ETANOL HIDRATADO   \n77    2004-05-23  2004-05-29  SUDESTE  SAO PAULO  ETANOL HIDRATADO   \n104   2004-05-30  2004-06-05  SUDESTE  SAO PAULO  ETANOL HIDRATADO   \n131   2004-06-06  2004-06-12  SUDESTE  SAO PAULO  ETANOL HIDRATADO   \n\n     NÚMERO DE POSTOS PESQUISADOS UNIDADE DE MEDIDA  PREÇO MÉDIO REVENDA  \\\n23                           4047              R$/l                0.768   \n50                           4066              R$/l                0.766   \n77                           4077              R$/l                0.823   \n104                          4073              R$/l                0.887   \n131                          4082              R$/l                0.894   \n\n     DESVIO PADRÃO REVENDA  PREÇO MÍNIMO REVENDA  PREÇO MÁXIMO REVENDA  \\\n23                   0.085                 0.590                 1.150   \n50                   0.083                 0.590                 1.150   \n77                   0.071                 0.620                 1.199   \n104                  0.075                 0.639                 1.359   \n131                  0.071                 0.669                 1.199   \n\n    MARGEM MÉDIA REVENDA  COEF DE VARIAÇÃO REVENDA PREÇO MÉDIO DISTRIBUIÇÃO  \\\n23                 0.198                     0.111                     0.57   \n50                  0.19                     0.108                    0.576   \n77                 0.209                     0.086                    0.614   \n104                0.216                     0.085                    0.671   \n131                0.205                     0.079                    0.689   \n\n    DESVIO PADRÃO DISTRIBUIÇÃO PREÇO MÍNIMO DISTRIBUIÇÃO  \\\n23                       0.056                    0.4271   \n50                        0.05                   0.43204   \n77                       0.063                   0.34951   \n104                      0.075                    0.3398   \n131                      0.072                   0.47797   \n\n    PREÇO MÁXIMO DISTRIBUIÇÃO COEF DE VARIAÇÃO DISTRIBUIÇÃO  \n23                     1.4123                         0.098  \n50                     0.9724                         0.087  \n77                      1.412                         0.103  \n104                    1.0669                         0.112  \n131                    1.0669                         0.104  ",
            "text/html": "<div>\n<style scoped>\n    .dataframe tbody tr th:only-of-type {\n        vertical-align: middle;\n    }\n\n    .dataframe tbody tr th {\n        vertical-align: top;\n    }\n\n    .dataframe thead th {\n        text-align: right;\n    }\n</style>\n<table border=\"1\" class=\"dataframe\">\n  <thead>\n    <tr style=\"text-align: right;\">\n      <th></th>\n      <th>DATA INICIAL</th>\n      <th>DATA FINAL</th>\n      <th>REGIÃO</th>\n      <th>ESTADO</th>\n      <th>PRODUTO</th>\n      <th>NÚMERO DE POSTOS PESQUISADOS</th>\n      <th>UNIDADE DE MEDIDA</th>\n      <th>PREÇO MÉDIO REVENDA</th>\n      <th>DESVIO PADRÃO REVENDA</th>\n      <th>PREÇO MÍNIMO REVENDA</th>\n      <th>PREÇO MÁXIMO REVENDA</th>\n      <th>MARGEM MÉDIA REVENDA</th>\n      <th>COEF DE VARIAÇÃO REVENDA</th>\n      <th>PREÇO MÉDIO DISTRIBUIÇÃO</th>\n      <th>DESVIO PADRÃO DISTRIBUIÇÃO</th>\n      <th>PREÇO MÍNIMO DISTRIBUIÇÃO</th>\n      <th>PREÇO MÁXIMO DISTRIBUIÇÃO</th>\n      <th>COEF DE VARIAÇÃO DISTRIBUIÇÃO</th>\n    </tr>\n  </thead>\n  <tbody>\n    <tr>\n      <th>23</th>\n      <td>2004-05-09</td>\n      <td>2004-05-15</td>\n      <td>SUDESTE</td>\n      <td>SAO PAULO</td>\n      <td>ETANOL HIDRATADO</td>\n      <td>4047</td>\n      <td>R$/l</td>\n      <td>0.768</td>\n      <td>0.085</td>\n      <td>0.590</td>\n      <td>1.150</td>\n      <td>0.198</td>\n      <td>0.111</td>\n      <td>0.57</td>\n      <td>0.056</td>\n      <td>0.4271</td>\n      <td>1.4123</td>\n      <td>0.098</td>\n    </tr>\n    <tr>\n      <th>50</th>\n      <td>2004-05-16</td>\n      <td>2004-05-22</td>\n      <td>SUDESTE</td>\n      <td>SAO PAULO</td>\n      <td>ETANOL HIDRATADO</td>\n      <td>4066</td>\n      <td>R$/l</td>\n      <td>0.766</td>\n      <td>0.083</td>\n      <td>0.590</td>\n      <td>1.150</td>\n      <td>0.19</td>\n      <td>0.108</td>\n      <td>0.576</td>\n      <td>0.05</td>\n      <td>0.43204</td>\n      <td>0.9724</td>\n      <td>0.087</td>\n    </tr>\n    <tr>\n      <th>77</th>\n      <td>2004-05-23</td>\n      <td>2004-05-29</td>\n      <td>SUDESTE</td>\n      <td>SAO PAULO</td>\n      <td>ETANOL HIDRATADO</td>\n      <td>4077</td>\n      <td>R$/l</td>\n      <td>0.823</td>\n      <td>0.071</td>\n      <td>0.620</td>\n      <td>1.199</td>\n      <td>0.209</td>\n      <td>0.086</td>\n      <td>0.614</td>\n      <td>0.063</td>\n      <td>0.34951</td>\n      <td>1.412</td>\n      <td>0.103</td>\n    </tr>\n    <tr>\n      <th>104</th>\n      <td>2004-05-30</td>\n      <td>2004-06-05</td>\n      <td>SUDESTE</td>\n      <td>SAO PAULO</td>\n      <td>ETANOL HIDRATADO</td>\n      <td>4073</td>\n      <td>R$/l</td>\n      <td>0.887</td>\n      <td>0.075</td>\n      <td>0.639</td>\n      <td>1.359</td>\n      <td>0.216</td>\n      <td>0.085</td>\n      <td>0.671</td>\n      <td>0.075</td>\n      <td>0.3398</td>\n      <td>1.0669</td>\n      <td>0.112</td>\n    </tr>\n    <tr>\n      <th>131</th>\n      <td>2004-06-06</td>\n      <td>2004-06-12</td>\n      <td>SUDESTE</td>\n      <td>SAO PAULO</td>\n      <td>ETANOL HIDRATADO</td>\n      <td>4082</td>\n      <td>R$/l</td>\n      <td>0.894</td>\n      <td>0.071</td>\n      <td>0.669</td>\n      <td>1.199</td>\n      <td>0.205</td>\n      <td>0.079</td>\n      <td>0.689</td>\n      <td>0.072</td>\n      <td>0.47797</td>\n      <td>1.0669</td>\n      <td>0.104</td>\n    </tr>\n  </tbody>\n</table>\n</div>"
          },
          "metadata": {}
        }
      ],
      "execution_count": 33
    },
    {
      "id": "substantial-prevention",
      "cell_type": "markdown",
      "source": "#### **Selecionando registros de postos do Rio de Janeiro com Preços acima de 2 reais**",
      "metadata": {}
    },
    {
      "id": "occupied-attitude",
      "cell_type": "code",
      "source": "data.head()",
      "metadata": {
        "trusted": true
      },
      "outputs": [
        {
          "execution_count": 36,
          "output_type": "execute_result",
          "data": {
            "text/plain": "  DATA INICIAL  DATA FINAL        REGIÃO              ESTADO  \\\n0   2004-05-09  2004-05-15  CENTRO OESTE    DISTRITO FEDERAL   \n1   2004-05-09  2004-05-15  CENTRO OESTE               GOIAS   \n2   2004-05-09  2004-05-15  CENTRO OESTE         MATO GROSSO   \n3   2004-05-09  2004-05-15  CENTRO OESTE  MATO GROSSO DO SUL   \n4   2004-05-09  2004-05-15      NORDESTE             ALAGOAS   \n\n            PRODUTO  NÚMERO DE POSTOS PESQUISADOS UNIDADE DE MEDIDA  \\\n0  ETANOL HIDRATADO                           127              R$/l   \n1  ETANOL HIDRATADO                           387              R$/l   \n2  ETANOL HIDRATADO                           192              R$/l   \n3  ETANOL HIDRATADO                           162              R$/l   \n4  ETANOL HIDRATADO                           103              R$/l   \n\n   PREÇO MÉDIO REVENDA  DESVIO PADRÃO REVENDA  PREÇO MÍNIMO REVENDA  \\\n0                1.288                  0.016                  1.19   \n1                1.162                  0.114                  0.89   \n2                1.389                  0.097                  1.18   \n3                1.262                  0.070                  1.09   \n4                1.181                  0.078                  1.05   \n\n   PREÇO MÁXIMO REVENDA MARGEM MÉDIA REVENDA  COEF DE VARIAÇÃO REVENDA  \\\n0                 1.350                0.463                     0.012   \n1                 1.449                0.399                     0.098   \n2                 1.760                0.419                     0.070   \n3                 1.509                0.432                     0.055   \n4                 1.400                 0.24                     0.066   \n\n  PREÇO MÉDIO DISTRIBUIÇÃO DESVIO PADRÃO DISTRIBUIÇÃO  \\\n0                    0.825                       0.11   \n1                    0.763                      0.088   \n2                     0.97                      0.095   \n3                     0.83                      0.119   \n4                    0.941                      0.077   \n\n  PREÇO MÍNIMO DISTRIBUIÇÃO PREÇO MÁXIMO DISTRIBUIÇÃO  \\\n0                    0.4201                    0.9666   \n1                    0.5013                      1.05   \n2                    0.5614                     1.161   \n3                    0.5991                   1.22242   \n4                    0.7441                    1.0317   \n\n  COEF DE VARIAÇÃO DISTRIBUIÇÃO  \n0                         0.133  \n1                         0.115  \n2                         0.098  \n3                         0.143  \n4                         0.082  ",
            "text/html": "<div>\n<style scoped>\n    .dataframe tbody tr th:only-of-type {\n        vertical-align: middle;\n    }\n\n    .dataframe tbody tr th {\n        vertical-align: top;\n    }\n\n    .dataframe thead th {\n        text-align: right;\n    }\n</style>\n<table border=\"1\" class=\"dataframe\">\n  <thead>\n    <tr style=\"text-align: right;\">\n      <th></th>\n      <th>DATA INICIAL</th>\n      <th>DATA FINAL</th>\n      <th>REGIÃO</th>\n      <th>ESTADO</th>\n      <th>PRODUTO</th>\n      <th>NÚMERO DE POSTOS PESQUISADOS</th>\n      <th>UNIDADE DE MEDIDA</th>\n      <th>PREÇO MÉDIO REVENDA</th>\n      <th>DESVIO PADRÃO REVENDA</th>\n      <th>PREÇO MÍNIMO REVENDA</th>\n      <th>PREÇO MÁXIMO REVENDA</th>\n      <th>MARGEM MÉDIA REVENDA</th>\n      <th>COEF DE VARIAÇÃO REVENDA</th>\n      <th>PREÇO MÉDIO DISTRIBUIÇÃO</th>\n      <th>DESVIO PADRÃO DISTRIBUIÇÃO</th>\n      <th>PREÇO MÍNIMO DISTRIBUIÇÃO</th>\n      <th>PREÇO MÁXIMO DISTRIBUIÇÃO</th>\n      <th>COEF DE VARIAÇÃO DISTRIBUIÇÃO</th>\n    </tr>\n  </thead>\n  <tbody>\n    <tr>\n      <th>0</th>\n      <td>2004-05-09</td>\n      <td>2004-05-15</td>\n      <td>CENTRO OESTE</td>\n      <td>DISTRITO FEDERAL</td>\n      <td>ETANOL HIDRATADO</td>\n      <td>127</td>\n      <td>R$/l</td>\n      <td>1.288</td>\n      <td>0.016</td>\n      <td>1.19</td>\n      <td>1.350</td>\n      <td>0.463</td>\n      <td>0.012</td>\n      <td>0.825</td>\n      <td>0.11</td>\n      <td>0.4201</td>\n      <td>0.9666</td>\n      <td>0.133</td>\n    </tr>\n    <tr>\n      <th>1</th>\n      <td>2004-05-09</td>\n      <td>2004-05-15</td>\n      <td>CENTRO OESTE</td>\n      <td>GOIAS</td>\n      <td>ETANOL HIDRATADO</td>\n      <td>387</td>\n      <td>R$/l</td>\n      <td>1.162</td>\n      <td>0.114</td>\n      <td>0.89</td>\n      <td>1.449</td>\n      <td>0.399</td>\n      <td>0.098</td>\n      <td>0.763</td>\n      <td>0.088</td>\n      <td>0.5013</td>\n      <td>1.05</td>\n      <td>0.115</td>\n    </tr>\n    <tr>\n      <th>2</th>\n      <td>2004-05-09</td>\n      <td>2004-05-15</td>\n      <td>CENTRO OESTE</td>\n      <td>MATO GROSSO</td>\n      <td>ETANOL HIDRATADO</td>\n      <td>192</td>\n      <td>R$/l</td>\n      <td>1.389</td>\n      <td>0.097</td>\n      <td>1.18</td>\n      <td>1.760</td>\n      <td>0.419</td>\n      <td>0.070</td>\n      <td>0.97</td>\n      <td>0.095</td>\n      <td>0.5614</td>\n      <td>1.161</td>\n      <td>0.098</td>\n    </tr>\n    <tr>\n      <th>3</th>\n      <td>2004-05-09</td>\n      <td>2004-05-15</td>\n      <td>CENTRO OESTE</td>\n      <td>MATO GROSSO DO SUL</td>\n      <td>ETANOL HIDRATADO</td>\n      <td>162</td>\n      <td>R$/l</td>\n      <td>1.262</td>\n      <td>0.070</td>\n      <td>1.09</td>\n      <td>1.509</td>\n      <td>0.432</td>\n      <td>0.055</td>\n      <td>0.83</td>\n      <td>0.119</td>\n      <td>0.5991</td>\n      <td>1.22242</td>\n      <td>0.143</td>\n    </tr>\n    <tr>\n      <th>4</th>\n      <td>2004-05-09</td>\n      <td>2004-05-15</td>\n      <td>NORDESTE</td>\n      <td>ALAGOAS</td>\n      <td>ETANOL HIDRATADO</td>\n      <td>103</td>\n      <td>R$/l</td>\n      <td>1.181</td>\n      <td>0.078</td>\n      <td>1.05</td>\n      <td>1.400</td>\n      <td>0.24</td>\n      <td>0.066</td>\n      <td>0.941</td>\n      <td>0.077</td>\n      <td>0.7441</td>\n      <td>1.0317</td>\n      <td>0.082</td>\n    </tr>\n  </tbody>\n</table>\n</div>"
          },
          "metadata": {}
        }
      ],
      "execution_count": 36
    },
    {
      "id": "d2ad6570-049b-4503-85f2-b1d3ca5784d2",
      "cell_type": "code",
      "source": "data['ESTADO'] == 'RIO DE JANEIRO'",
      "metadata": {
        "trusted": true
      },
      "outputs": [
        {
          "execution_count": 39,
          "output_type": "execute_result",
          "data": {
            "text/plain": "0         False\n1         False\n2         False\n3         False\n4         False\n          ...  \n120818    False\n120819    False\n120820    False\n120821    False\n120822    False\nName: ESTADO, Length: 120823, dtype: bool"
          },
          "metadata": {}
        }
      ],
      "execution_count": 39
    },
    {
      "id": "a2040987-0e5d-4d43-b70e-6f7b0411265d",
      "cell_type": "code",
      "source": "data['PREÇO MÉDIO REVENDA'] > 2.0",
      "metadata": {
        "trusted": true
      },
      "outputs": [
        {
          "execution_count": 41,
          "output_type": "execute_result",
          "data": {
            "text/plain": "0         False\n1         False\n2         False\n3         False\n4         False\n          ...  \n120818     True\n120819     True\n120820     True\n120821     True\n120822     True\nName: PREÇO MÉDIO REVENDA, Length: 120823, dtype: bool"
          },
          "metadata": {}
        }
      ],
      "execution_count": 41
    },
    {
      "id": "803a84f2-f40c-46d2-baf6-f04735f41e3e",
      "cell_type": "code",
      "source": "selecao = (data['ESTADO'] == 'RIO DE JANEIRO') & (data['PREÇO MÉDIO REVENDA'] > 2.0)\nselecao",
      "metadata": {
        "trusted": true
      },
      "outputs": [
        {
          "execution_count": 44,
          "output_type": "execute_result",
          "data": {
            "text/plain": "0         False\n1         False\n2         False\n3         False\n4         False\n          ...  \n120818    False\n120819    False\n120820    False\n120821    False\n120822    False\nLength: 120823, dtype: bool"
          },
          "metadata": {}
        }
      ],
      "execution_count": 44
    },
    {
      "id": "executed-colors",
      "cell_type": "markdown",
      "source": "Note que o resultado da seleção continua sendo uma _Series de booleans_ com o _mesmo número de linhas/amostras do DataFrame_, de modo que cada linha possuirá um valor booleano indicando se o posto é do Rio de Janeiro e o preço aferido do combustível é maior que 2 reais (True) ou não.\n\nO símbolo **&** significa **AND** na comparação. Essa nomenclatura do python/pandas é diferente das nomenclaturas tradicionais (&&). <br/>\nSimilarmente:\n- **|** representa o **OR** (não é ||)\n- **~** representa o **NOT** (não é !)",
      "metadata": {}
    },
    {
      "id": "civic-applicant",
      "cell_type": "code",
      "source": "data[selecao]",
      "metadata": {
        "trusted": true
      },
      "outputs": [
        {
          "execution_count": 45,
          "output_type": "execute_result",
          "data": {
            "text/plain": "       DATA INICIAL  DATA FINAL   REGIÃO          ESTADO           PRODUTO  \\\n2501     2006-02-26  2006-03-04  SUDESTE  RIO DE JANEIRO  ETANOL HIDRATADO   \n2528     2006-03-05  2006-03-11  SUDESTE  RIO DE JANEIRO  ETANOL HIDRATADO   \n2555     2006-03-12  2006-03-18  SUDESTE  RIO DE JANEIRO  ETANOL HIDRATADO   \n2582     2006-03-19  2006-03-25  SUDESTE  RIO DE JANEIRO  ETANOL HIDRATADO   \n2609     2006-03-26  2006-04-01  SUDESTE  RIO DE JANEIRO  ETANOL HIDRATADO   \n...             ...         ...      ...             ...               ...   \n120717   2021-04-25  2021-05-01  SUDESTE  RIO DE JANEIRO    GASOLINA COMUM   \n120744   2021-04-25  2021-05-01  SUDESTE  RIO DE JANEIRO               GLP   \n120763   2021-04-25  2021-05-01  SUDESTE  RIO DE JANEIRO               GNV   \n120787   2021-04-25  2021-05-01  SUDESTE  RIO DE JANEIRO       OLEO DIESEL   \n120814   2021-04-25  2021-05-01  SUDESTE  RIO DE JANEIRO   OLEO DIESEL S10   \n\n        NÚMERO DE POSTOS PESQUISADOS UNIDADE DE MEDIDA  PREÇO MÉDIO REVENDA  \\\n2501                             881              R$/l                2.028   \n2528                             889              R$/l                2.125   \n2555                             902              R$/l                2.163   \n2582                             898              R$/l                2.166   \n2609                             890              R$/l                2.172   \n...                              ...               ...                  ...   \n120717                           198              R$/l                6.099   \n120744                           137           R$/13Kg               75.218   \n120763                            77             R$/m3                3.011   \n120787                            72              R$/l                4.290   \n120814                           155              R$/l                4.302   \n\n        DESVIO PADRÃO REVENDA  PREÇO MÍNIMO REVENDA  PREÇO MÁXIMO REVENDA  \\\n2501                    0.148                 1.589                 2.550   \n2528                    0.149                 1.779                 2.550   \n2555                    0.138                 1.799                 2.599   \n2582                    0.146                 1.760                 2.568   \n2609                    0.143                 1.789                 2.550   \n...                       ...                   ...                   ...   \n120717                  0.208                 5.480                 6.599   \n120744                  5.398                65.000                93.000   \n120763                  0.385                 2.759                 4.399   \n120787                  0.183                 3.849                 4.599   \n120814                  0.172                 3.930                 4.699   \n\n       MARGEM MÉDIA REVENDA  COEF DE VARIAÇÃO REVENDA  \\\n2501                  0.222                     0.073   \n2528                  0.286                     0.070   \n2555                  0.268                     0.064   \n2582                  0.231                     0.067   \n2609                  0.209                     0.066   \n...                     ...                       ...   \n120717             -99999.0                     0.034   \n120744             -99999.0                     0.072   \n120763             -99999.0                     0.128   \n120787             -99999.0                     0.043   \n120814             -99999.0                     0.040   \n\n       PREÇO MÉDIO DISTRIBUIÇÃO DESVIO PADRÃO DISTRIBUIÇÃO  \\\n2501                      1.806                       0.11   \n2528                      1.839                      0.117   \n2555                      1.895                      0.134   \n2582                      1.935                       0.14   \n2609                      1.963                      0.133   \n...                         ...                        ...   \n120717                 -99999.0                   -99999.0   \n120744                 -99999.0                   -99999.0   \n120763                 -99999.0                   -99999.0   \n120787                 -99999.0                   -99999.0   \n120814                 -99999.0                   -99999.0   \n\n       PREÇO MÍNIMO DISTRIBUIÇÃO PREÇO MÁXIMO DISTRIBUIÇÃO  \\\n2501                        1.31                    2.1358   \n2528                       1.438                    2.2801   \n2555                        1.43                    2.3454   \n2582                       1.438                    2.2925   \n2609                       1.438                    2.2513   \n...                          ...                       ...   \n120717                  -99999.0                  -99999.0   \n120744                  -99999.0                  -99999.0   \n120763                  -99999.0                  -99999.0   \n120787                  -99999.0                  -99999.0   \n120814                  -99999.0                  -99999.0   \n\n       COEF DE VARIAÇÃO DISTRIBUIÇÃO  \n2501                           0.061  \n2528                           0.064  \n2555                           0.071  \n2582                           0.072  \n2609                           0.068  \n...                              ...  \n120717                      -99999.0  \n120744                      -99999.0  \n120763                      -99999.0  \n120787                      -99999.0  \n120814                      -99999.0  \n\n[3610 rows x 18 columns]",
            "text/html": "<div>\n<style scoped>\n    .dataframe tbody tr th:only-of-type {\n        vertical-align: middle;\n    }\n\n    .dataframe tbody tr th {\n        vertical-align: top;\n    }\n\n    .dataframe thead th {\n        text-align: right;\n    }\n</style>\n<table border=\"1\" class=\"dataframe\">\n  <thead>\n    <tr style=\"text-align: right;\">\n      <th></th>\n      <th>DATA INICIAL</th>\n      <th>DATA FINAL</th>\n      <th>REGIÃO</th>\n      <th>ESTADO</th>\n      <th>PRODUTO</th>\n      <th>NÚMERO DE POSTOS PESQUISADOS</th>\n      <th>UNIDADE DE MEDIDA</th>\n      <th>PREÇO MÉDIO REVENDA</th>\n      <th>DESVIO PADRÃO REVENDA</th>\n      <th>PREÇO MÍNIMO REVENDA</th>\n      <th>PREÇO MÁXIMO REVENDA</th>\n      <th>MARGEM MÉDIA REVENDA</th>\n      <th>COEF DE VARIAÇÃO REVENDA</th>\n      <th>PREÇO MÉDIO DISTRIBUIÇÃO</th>\n      <th>DESVIO PADRÃO DISTRIBUIÇÃO</th>\n      <th>PREÇO MÍNIMO DISTRIBUIÇÃO</th>\n      <th>PREÇO MÁXIMO DISTRIBUIÇÃO</th>\n      <th>COEF DE VARIAÇÃO DISTRIBUIÇÃO</th>\n    </tr>\n  </thead>\n  <tbody>\n    <tr>\n      <th>2501</th>\n      <td>2006-02-26</td>\n      <td>2006-03-04</td>\n      <td>SUDESTE</td>\n      <td>RIO DE JANEIRO</td>\n      <td>ETANOL HIDRATADO</td>\n      <td>881</td>\n      <td>R$/l</td>\n      <td>2.028</td>\n      <td>0.148</td>\n      <td>1.589</td>\n      <td>2.550</td>\n      <td>0.222</td>\n      <td>0.073</td>\n      <td>1.806</td>\n      <td>0.11</td>\n      <td>1.31</td>\n      <td>2.1358</td>\n      <td>0.061</td>\n    </tr>\n    <tr>\n      <th>2528</th>\n      <td>2006-03-05</td>\n      <td>2006-03-11</td>\n      <td>SUDESTE</td>\n      <td>RIO DE JANEIRO</td>\n      <td>ETANOL HIDRATADO</td>\n      <td>889</td>\n      <td>R$/l</td>\n      <td>2.125</td>\n      <td>0.149</td>\n      <td>1.779</td>\n      <td>2.550</td>\n      <td>0.286</td>\n      <td>0.070</td>\n      <td>1.839</td>\n      <td>0.117</td>\n      <td>1.438</td>\n      <td>2.2801</td>\n      <td>0.064</td>\n    </tr>\n    <tr>\n      <th>2555</th>\n      <td>2006-03-12</td>\n      <td>2006-03-18</td>\n      <td>SUDESTE</td>\n      <td>RIO DE JANEIRO</td>\n      <td>ETANOL HIDRATADO</td>\n      <td>902</td>\n      <td>R$/l</td>\n      <td>2.163</td>\n      <td>0.138</td>\n      <td>1.799</td>\n      <td>2.599</td>\n      <td>0.268</td>\n      <td>0.064</td>\n      <td>1.895</td>\n      <td>0.134</td>\n      <td>1.43</td>\n      <td>2.3454</td>\n      <td>0.071</td>\n    </tr>\n    <tr>\n      <th>2582</th>\n      <td>2006-03-19</td>\n      <td>2006-03-25</td>\n      <td>SUDESTE</td>\n      <td>RIO DE JANEIRO</td>\n      <td>ETANOL HIDRATADO</td>\n      <td>898</td>\n      <td>R$/l</td>\n      <td>2.166</td>\n      <td>0.146</td>\n      <td>1.760</td>\n      <td>2.568</td>\n      <td>0.231</td>\n      <td>0.067</td>\n      <td>1.935</td>\n      <td>0.14</td>\n      <td>1.438</td>\n      <td>2.2925</td>\n      <td>0.072</td>\n    </tr>\n    <tr>\n      <th>2609</th>\n      <td>2006-03-26</td>\n      <td>2006-04-01</td>\n      <td>SUDESTE</td>\n      <td>RIO DE JANEIRO</td>\n      <td>ETANOL HIDRATADO</td>\n      <td>890</td>\n      <td>R$/l</td>\n      <td>2.172</td>\n      <td>0.143</td>\n      <td>1.789</td>\n      <td>2.550</td>\n      <td>0.209</td>\n      <td>0.066</td>\n      <td>1.963</td>\n      <td>0.133</td>\n      <td>1.438</td>\n      <td>2.2513</td>\n      <td>0.068</td>\n    </tr>\n    <tr>\n      <th>...</th>\n      <td>...</td>\n      <td>...</td>\n      <td>...</td>\n      <td>...</td>\n      <td>...</td>\n      <td>...</td>\n      <td>...</td>\n      <td>...</td>\n      <td>...</td>\n      <td>...</td>\n      <td>...</td>\n      <td>...</td>\n      <td>...</td>\n      <td>...</td>\n      <td>...</td>\n      <td>...</td>\n      <td>...</td>\n      <td>...</td>\n    </tr>\n    <tr>\n      <th>120717</th>\n      <td>2021-04-25</td>\n      <td>2021-05-01</td>\n      <td>SUDESTE</td>\n      <td>RIO DE JANEIRO</td>\n      <td>GASOLINA COMUM</td>\n      <td>198</td>\n      <td>R$/l</td>\n      <td>6.099</td>\n      <td>0.208</td>\n      <td>5.480</td>\n      <td>6.599</td>\n      <td>-99999.0</td>\n      <td>0.034</td>\n      <td>-99999.0</td>\n      <td>-99999.0</td>\n      <td>-99999.0</td>\n      <td>-99999.0</td>\n      <td>-99999.0</td>\n    </tr>\n    <tr>\n      <th>120744</th>\n      <td>2021-04-25</td>\n      <td>2021-05-01</td>\n      <td>SUDESTE</td>\n      <td>RIO DE JANEIRO</td>\n      <td>GLP</td>\n      <td>137</td>\n      <td>R$/13Kg</td>\n      <td>75.218</td>\n      <td>5.398</td>\n      <td>65.000</td>\n      <td>93.000</td>\n      <td>-99999.0</td>\n      <td>0.072</td>\n      <td>-99999.0</td>\n      <td>-99999.0</td>\n      <td>-99999.0</td>\n      <td>-99999.0</td>\n      <td>-99999.0</td>\n    </tr>\n    <tr>\n      <th>120763</th>\n      <td>2021-04-25</td>\n      <td>2021-05-01</td>\n      <td>SUDESTE</td>\n      <td>RIO DE JANEIRO</td>\n      <td>GNV</td>\n      <td>77</td>\n      <td>R$/m3</td>\n      <td>3.011</td>\n      <td>0.385</td>\n      <td>2.759</td>\n      <td>4.399</td>\n      <td>-99999.0</td>\n      <td>0.128</td>\n      <td>-99999.0</td>\n      <td>-99999.0</td>\n      <td>-99999.0</td>\n      <td>-99999.0</td>\n      <td>-99999.0</td>\n    </tr>\n    <tr>\n      <th>120787</th>\n      <td>2021-04-25</td>\n      <td>2021-05-01</td>\n      <td>SUDESTE</td>\n      <td>RIO DE JANEIRO</td>\n      <td>OLEO DIESEL</td>\n      <td>72</td>\n      <td>R$/l</td>\n      <td>4.290</td>\n      <td>0.183</td>\n      <td>3.849</td>\n      <td>4.599</td>\n      <td>-99999.0</td>\n      <td>0.043</td>\n      <td>-99999.0</td>\n      <td>-99999.0</td>\n      <td>-99999.0</td>\n      <td>-99999.0</td>\n      <td>-99999.0</td>\n    </tr>\n    <tr>\n      <th>120814</th>\n      <td>2021-04-25</td>\n      <td>2021-05-01</td>\n      <td>SUDESTE</td>\n      <td>RIO DE JANEIRO</td>\n      <td>OLEO DIESEL S10</td>\n      <td>155</td>\n      <td>R$/l</td>\n      <td>4.302</td>\n      <td>0.172</td>\n      <td>3.930</td>\n      <td>4.699</td>\n      <td>-99999.0</td>\n      <td>0.040</td>\n      <td>-99999.0</td>\n      <td>-99999.0</td>\n      <td>-99999.0</td>\n      <td>-99999.0</td>\n      <td>-99999.0</td>\n    </tr>\n  </tbody>\n</table>\n<p>3610 rows × 18 columns</p>\n</div>"
          },
          "metadata": {}
        }
      ],
      "execution_count": 45
    },
    {
      "id": "illegal-boards",
      "cell_type": "markdown",
      "source": "Alternativamente, poderíamos usar o método `query` para fazermos tal seleção. Porém, isso não é possível especificamente para esse caso, pois o rótulo da coluna 'PREÇO MÉDIO REVENDA' possui caracteres inválidos para o método (cedilha, acentos) ",
      "metadata": {}
    },
    {
      "id": "automotive-manitoba",
      "cell_type": "code",
      "source": "# Não funciona\n# data.query('ESTADO==\"RIO DE JANEIRO\" and PREÇO MÉDIO REVENDA > 2')",
      "metadata": {},
      "outputs": [],
      "execution_count": null
    },
    {
      "id": "mexican-romania",
      "cell_type": "markdown",
      "source": "**Aprofundando mais ainda**\n\nA primeira comparação `(data['ESTADO'] == 'RIO DE JANEIRO')` checa, linha a linha (amostra a amostra) do DataFrame, quais são aquelas cujo o estado é RIO DE JANEIRO. Nenhuma averiguação de preços é feita nesse momento. Como resultado, temos uma Series de booleans que responde **apenas** a essa \"pergunta\" feita.\n\nA segunda comparação `(data['PREÇO MÉDIO REVENDA'] > 2)` checa, linha a linha (amostra a amostra) do DataFrame, quais são os registro cujo preço do combustível é maior que 2 reais. Note que essa comparação checará os postos de **TODOS os estados**. Como resultado, temos uma Series de booleans que responde **apenas** a essa \"pergunta\" feita.\n\nPor fim, as duas \"perguntas\" são unidas pelo AND (&) que retorna a \"pergunta completa\" que fizemos.",
      "metadata": {}
    },
    {
      "id": "worst-catholic",
      "cell_type": "markdown",
      "source": "Alguns podem argumentar que tal abordagem é **ineficiente**, uma vez que, para cada condição (\"pergunta\"), estamos varrendo todas as linhas do DataFrame. <br/>\nO Pandas _tenta otimizar_ isso ao máximo por de trás dos panos. Mas, de fato, de tivermos um dataset **muito grande** (centenas de milhares de linhas), tal abordagem se tornará _lenta_.",
      "metadata": {}
    },
    {
      "id": "another-income",
      "cell_type": "markdown",
      "source": "Assim, poderíamos fazer filtragem com múltiplos condicionais em partes:",
      "metadata": {}
    },
    {
      "id": "strong-nicholas",
      "cell_type": "code",
      "source": "selecao_1 = data['ESTADO'] == 'RIO DE JANEIRO'\npostos_rj = data[selecao_1]\npostos_rj",
      "metadata": {
        "trusted": true
      },
      "outputs": [
        {
          "execution_count": 106,
          "output_type": "execute_result",
          "data": {
            "text/plain": "       DATA INICIAL  DATA FINAL   REGIÃO          ESTADO           PRODUTO  \\\n22       2004-05-09  2004-05-15  SUDESTE  RIO DE JANEIRO  ETANOL HIDRATADO   \n49       2004-05-16  2004-05-22  SUDESTE  RIO DE JANEIRO  ETANOL HIDRATADO   \n76       2004-05-23  2004-05-29  SUDESTE  RIO DE JANEIRO  ETANOL HIDRATADO   \n103      2004-05-30  2004-06-05  SUDESTE  RIO DE JANEIRO  ETANOL HIDRATADO   \n130      2004-06-06  2004-06-12  SUDESTE  RIO DE JANEIRO  ETANOL HIDRATADO   \n...             ...         ...      ...             ...               ...   \n120717   2021-04-25  2021-05-01  SUDESTE  RIO DE JANEIRO    GASOLINA COMUM   \n120744   2021-04-25  2021-05-01  SUDESTE  RIO DE JANEIRO               GLP   \n120763   2021-04-25  2021-05-01  SUDESTE  RIO DE JANEIRO               GNV   \n120787   2021-04-25  2021-05-01  SUDESTE  RIO DE JANEIRO       OLEO DIESEL   \n120814   2021-04-25  2021-05-01  SUDESTE  RIO DE JANEIRO   OLEO DIESEL S10   \n\n        NÚMERO DE POSTOS PESQUISADOS UNIDADE DE MEDIDA  PREÇO MÉDIO REVENDA  \\\n22                               952              R$/l                1.098   \n49                               948              R$/l                1.092   \n76                               973              R$/l                1.103   \n103                              955              R$/l                1.149   \n130                              966              R$/l                1.165   \n...                              ...               ...                  ...   \n120717                           198              R$/l                6.099   \n120744                           137           R$/13Kg               75.218   \n120763                            77             R$/m3                3.011   \n120787                            72              R$/l                4.290   \n120814                           155              R$/l                4.302   \n\n        DESVIO PADRÃO REVENDA  PREÇO MÍNIMO REVENDA  PREÇO MÁXIMO REVENDA  \\\n22                      0.154                 0.740                 1.890   \n49                      0.157                 0.740                 1.499   \n76                      0.140                 0.770                 1.589   \n103                     0.156                 0.799                 1.599   \n130                     0.154                 0.830                 1.599   \n...                       ...                   ...                   ...   \n120717                  0.208                 5.480                 6.599   \n120744                  5.398                65.000                93.000   \n120763                  0.385                 2.759                 4.399   \n120787                  0.183                 3.849                 4.599   \n120814                  0.172                 3.930                 4.699   \n\n       MARGEM MÉDIA REVENDA  COEF DE VARIAÇÃO REVENDA  \\\n22                    0.312                     0.140   \n49                    0.284                     0.144   \n76                    0.281                     0.127   \n103                     0.3                     0.136   \n130                   0.254                     0.132   \n...                     ...                       ...   \n120717             -99999.0                     0.034   \n120744             -99999.0                     0.072   \n120763             -99999.0                     0.128   \n120787             -99999.0                     0.043   \n120814             -99999.0                     0.040   \n\n       PREÇO MÉDIO DISTRIBUIÇÃO DESVIO PADRÃO DISTRIBUIÇÃO  \\\n22                        0.786                      0.173   \n49                        0.808                      0.175   \n76                        0.822                      0.166   \n103                       0.849                      0.188   \n130                       0.911                      0.198   \n...                         ...                        ...   \n120717                 -99999.0                   -99999.0   \n120744                 -99999.0                   -99999.0   \n120763                 -99999.0                   -99999.0   \n120787                 -99999.0                   -99999.0   \n120814                 -99999.0                   -99999.0   \n\n       PREÇO MÍNIMO DISTRIBUIÇÃO PREÇO MÁXIMO DISTRIBUIÇÃO  \\\n22                         0.326                     1.263   \n49                        0.3257                    1.2921   \n76                       0.38909                    1.1859   \n103                       0.3453                    1.3667   \n130                          0.4                    1.3667   \n...                          ...                       ...   \n120717                  -99999.0                  -99999.0   \n120744                  -99999.0                  -99999.0   \n120763                  -99999.0                  -99999.0   \n120787                  -99999.0                  -99999.0   \n120814                  -99999.0                  -99999.0   \n\n       COEF DE VARIAÇÃO DISTRIBUIÇÃO   Ano  \n22                              0.22  2019  \n49                             0.217  2021  \n76                             0.202  2018  \n103                            0.221  2020  \n130                            0.217  2017  \n...                              ...   ...  \n120717                      -99999.0  2019  \n120744                      -99999.0  2021  \n120763                      -99999.0  2020  \n120787                      -99999.0  2019  \n120814                      -99999.0  2021  \n\n[4819 rows x 19 columns]",
            "text/html": "<div>\n<style scoped>\n    .dataframe tbody tr th:only-of-type {\n        vertical-align: middle;\n    }\n\n    .dataframe tbody tr th {\n        vertical-align: top;\n    }\n\n    .dataframe thead th {\n        text-align: right;\n    }\n</style>\n<table border=\"1\" class=\"dataframe\">\n  <thead>\n    <tr style=\"text-align: right;\">\n      <th></th>\n      <th>DATA INICIAL</th>\n      <th>DATA FINAL</th>\n      <th>REGIÃO</th>\n      <th>ESTADO</th>\n      <th>PRODUTO</th>\n      <th>NÚMERO DE POSTOS PESQUISADOS</th>\n      <th>UNIDADE DE MEDIDA</th>\n      <th>PREÇO MÉDIO REVENDA</th>\n      <th>DESVIO PADRÃO REVENDA</th>\n      <th>PREÇO MÍNIMO REVENDA</th>\n      <th>PREÇO MÁXIMO REVENDA</th>\n      <th>MARGEM MÉDIA REVENDA</th>\n      <th>COEF DE VARIAÇÃO REVENDA</th>\n      <th>PREÇO MÉDIO DISTRIBUIÇÃO</th>\n      <th>DESVIO PADRÃO DISTRIBUIÇÃO</th>\n      <th>PREÇO MÍNIMO DISTRIBUIÇÃO</th>\n      <th>PREÇO MÁXIMO DISTRIBUIÇÃO</th>\n      <th>COEF DE VARIAÇÃO DISTRIBUIÇÃO</th>\n      <th>Ano</th>\n    </tr>\n  </thead>\n  <tbody>\n    <tr>\n      <th>22</th>\n      <td>2004-05-09</td>\n      <td>2004-05-15</td>\n      <td>SUDESTE</td>\n      <td>RIO DE JANEIRO</td>\n      <td>ETANOL HIDRATADO</td>\n      <td>952</td>\n      <td>R$/l</td>\n      <td>1.098</td>\n      <td>0.154</td>\n      <td>0.740</td>\n      <td>1.890</td>\n      <td>0.312</td>\n      <td>0.140</td>\n      <td>0.786</td>\n      <td>0.173</td>\n      <td>0.326</td>\n      <td>1.263</td>\n      <td>0.22</td>\n      <td>2019</td>\n    </tr>\n    <tr>\n      <th>49</th>\n      <td>2004-05-16</td>\n      <td>2004-05-22</td>\n      <td>SUDESTE</td>\n      <td>RIO DE JANEIRO</td>\n      <td>ETANOL HIDRATADO</td>\n      <td>948</td>\n      <td>R$/l</td>\n      <td>1.092</td>\n      <td>0.157</td>\n      <td>0.740</td>\n      <td>1.499</td>\n      <td>0.284</td>\n      <td>0.144</td>\n      <td>0.808</td>\n      <td>0.175</td>\n      <td>0.3257</td>\n      <td>1.2921</td>\n      <td>0.217</td>\n      <td>2021</td>\n    </tr>\n    <tr>\n      <th>76</th>\n      <td>2004-05-23</td>\n      <td>2004-05-29</td>\n      <td>SUDESTE</td>\n      <td>RIO DE JANEIRO</td>\n      <td>ETANOL HIDRATADO</td>\n      <td>973</td>\n      <td>R$/l</td>\n      <td>1.103</td>\n      <td>0.140</td>\n      <td>0.770</td>\n      <td>1.589</td>\n      <td>0.281</td>\n      <td>0.127</td>\n      <td>0.822</td>\n      <td>0.166</td>\n      <td>0.38909</td>\n      <td>1.1859</td>\n      <td>0.202</td>\n      <td>2018</td>\n    </tr>\n    <tr>\n      <th>103</th>\n      <td>2004-05-30</td>\n      <td>2004-06-05</td>\n      <td>SUDESTE</td>\n      <td>RIO DE JANEIRO</td>\n      <td>ETANOL HIDRATADO</td>\n      <td>955</td>\n      <td>R$/l</td>\n      <td>1.149</td>\n      <td>0.156</td>\n      <td>0.799</td>\n      <td>1.599</td>\n      <td>0.3</td>\n      <td>0.136</td>\n      <td>0.849</td>\n      <td>0.188</td>\n      <td>0.3453</td>\n      <td>1.3667</td>\n      <td>0.221</td>\n      <td>2020</td>\n    </tr>\n    <tr>\n      <th>130</th>\n      <td>2004-06-06</td>\n      <td>2004-06-12</td>\n      <td>SUDESTE</td>\n      <td>RIO DE JANEIRO</td>\n      <td>ETANOL HIDRATADO</td>\n      <td>966</td>\n      <td>R$/l</td>\n      <td>1.165</td>\n      <td>0.154</td>\n      <td>0.830</td>\n      <td>1.599</td>\n      <td>0.254</td>\n      <td>0.132</td>\n      <td>0.911</td>\n      <td>0.198</td>\n      <td>0.4</td>\n      <td>1.3667</td>\n      <td>0.217</td>\n      <td>2017</td>\n    </tr>\n    <tr>\n      <th>...</th>\n      <td>...</td>\n      <td>...</td>\n      <td>...</td>\n      <td>...</td>\n      <td>...</td>\n      <td>...</td>\n      <td>...</td>\n      <td>...</td>\n      <td>...</td>\n      <td>...</td>\n      <td>...</td>\n      <td>...</td>\n      <td>...</td>\n      <td>...</td>\n      <td>...</td>\n      <td>...</td>\n      <td>...</td>\n      <td>...</td>\n      <td>...</td>\n    </tr>\n    <tr>\n      <th>120717</th>\n      <td>2021-04-25</td>\n      <td>2021-05-01</td>\n      <td>SUDESTE</td>\n      <td>RIO DE JANEIRO</td>\n      <td>GASOLINA COMUM</td>\n      <td>198</td>\n      <td>R$/l</td>\n      <td>6.099</td>\n      <td>0.208</td>\n      <td>5.480</td>\n      <td>6.599</td>\n      <td>-99999.0</td>\n      <td>0.034</td>\n      <td>-99999.0</td>\n      <td>-99999.0</td>\n      <td>-99999.0</td>\n      <td>-99999.0</td>\n      <td>-99999.0</td>\n      <td>2019</td>\n    </tr>\n    <tr>\n      <th>120744</th>\n      <td>2021-04-25</td>\n      <td>2021-05-01</td>\n      <td>SUDESTE</td>\n      <td>RIO DE JANEIRO</td>\n      <td>GLP</td>\n      <td>137</td>\n      <td>R$/13Kg</td>\n      <td>75.218</td>\n      <td>5.398</td>\n      <td>65.000</td>\n      <td>93.000</td>\n      <td>-99999.0</td>\n      <td>0.072</td>\n      <td>-99999.0</td>\n      <td>-99999.0</td>\n      <td>-99999.0</td>\n      <td>-99999.0</td>\n      <td>-99999.0</td>\n      <td>2021</td>\n    </tr>\n    <tr>\n      <th>120763</th>\n      <td>2021-04-25</td>\n      <td>2021-05-01</td>\n      <td>SUDESTE</td>\n      <td>RIO DE JANEIRO</td>\n      <td>GNV</td>\n      <td>77</td>\n      <td>R$/m3</td>\n      <td>3.011</td>\n      <td>0.385</td>\n      <td>2.759</td>\n      <td>4.399</td>\n      <td>-99999.0</td>\n      <td>0.128</td>\n      <td>-99999.0</td>\n      <td>-99999.0</td>\n      <td>-99999.0</td>\n      <td>-99999.0</td>\n      <td>-99999.0</td>\n      <td>2020</td>\n    </tr>\n    <tr>\n      <th>120787</th>\n      <td>2021-04-25</td>\n      <td>2021-05-01</td>\n      <td>SUDESTE</td>\n      <td>RIO DE JANEIRO</td>\n      <td>OLEO DIESEL</td>\n      <td>72</td>\n      <td>R$/l</td>\n      <td>4.290</td>\n      <td>0.183</td>\n      <td>3.849</td>\n      <td>4.599</td>\n      <td>-99999.0</td>\n      <td>0.043</td>\n      <td>-99999.0</td>\n      <td>-99999.0</td>\n      <td>-99999.0</td>\n      <td>-99999.0</td>\n      <td>-99999.0</td>\n      <td>2019</td>\n    </tr>\n    <tr>\n      <th>120814</th>\n      <td>2021-04-25</td>\n      <td>2021-05-01</td>\n      <td>SUDESTE</td>\n      <td>RIO DE JANEIRO</td>\n      <td>OLEO DIESEL S10</td>\n      <td>155</td>\n      <td>R$/l</td>\n      <td>4.302</td>\n      <td>0.172</td>\n      <td>3.930</td>\n      <td>4.699</td>\n      <td>-99999.0</td>\n      <td>0.040</td>\n      <td>-99999.0</td>\n      <td>-99999.0</td>\n      <td>-99999.0</td>\n      <td>-99999.0</td>\n      <td>-99999.0</td>\n      <td>2021</td>\n    </tr>\n  </tbody>\n</table>\n<p>4819 rows × 19 columns</p>\n</div>"
          },
          "metadata": {}
        }
      ],
      "execution_count": 106
    },
    {
      "id": "detailed-lyric",
      "cell_type": "code",
      "source": "selecao_2 = postos_rj['PREÇO MÉDIO REVENDA'] > 2\nselecao_2",
      "metadata": {
        "trusted": true
      },
      "outputs": [
        {
          "execution_count": 108,
          "output_type": "execute_result",
          "data": {
            "text/plain": "22        False\n49        False\n76        False\n103       False\n130       False\n          ...  \n120717     True\n120744     True\n120763     True\n120787     True\n120814     True\nName: PREÇO MÉDIO REVENDA, Length: 4819, dtype: bool"
          },
          "metadata": {}
        }
      ],
      "execution_count": 108
    },
    {
      "id": "d7cda22c-7f6f-4ee8-af76-cc6e294aef8a",
      "cell_type": "code",
      "source": "postos_rj_preco_maior_que_2 = postos_rj[selecao_2]\npostos_rj_preco_maior_que_2",
      "metadata": {
        "trusted": true
      },
      "outputs": [
        {
          "execution_count": 109,
          "output_type": "execute_result",
          "data": {
            "text/plain": "       DATA INICIAL  DATA FINAL   REGIÃO          ESTADO           PRODUTO  \\\n2501     2006-02-26  2006-03-04  SUDESTE  RIO DE JANEIRO  ETANOL HIDRATADO   \n2528     2006-03-05  2006-03-11  SUDESTE  RIO DE JANEIRO  ETANOL HIDRATADO   \n2555     2006-03-12  2006-03-18  SUDESTE  RIO DE JANEIRO  ETANOL HIDRATADO   \n2582     2006-03-19  2006-03-25  SUDESTE  RIO DE JANEIRO  ETANOL HIDRATADO   \n2609     2006-03-26  2006-04-01  SUDESTE  RIO DE JANEIRO  ETANOL HIDRATADO   \n...             ...         ...      ...             ...               ...   \n120717   2021-04-25  2021-05-01  SUDESTE  RIO DE JANEIRO    GASOLINA COMUM   \n120744   2021-04-25  2021-05-01  SUDESTE  RIO DE JANEIRO               GLP   \n120763   2021-04-25  2021-05-01  SUDESTE  RIO DE JANEIRO               GNV   \n120787   2021-04-25  2021-05-01  SUDESTE  RIO DE JANEIRO       OLEO DIESEL   \n120814   2021-04-25  2021-05-01  SUDESTE  RIO DE JANEIRO   OLEO DIESEL S10   \n\n        NÚMERO DE POSTOS PESQUISADOS UNIDADE DE MEDIDA  PREÇO MÉDIO REVENDA  \\\n2501                             881              R$/l                2.028   \n2528                             889              R$/l                2.125   \n2555                             902              R$/l                2.163   \n2582                             898              R$/l                2.166   \n2609                             890              R$/l                2.172   \n...                              ...               ...                  ...   \n120717                           198              R$/l                6.099   \n120744                           137           R$/13Kg               75.218   \n120763                            77             R$/m3                3.011   \n120787                            72              R$/l                4.290   \n120814                           155              R$/l                4.302   \n\n        DESVIO PADRÃO REVENDA  PREÇO MÍNIMO REVENDA  PREÇO MÁXIMO REVENDA  \\\n2501                    0.148                 1.589                 2.550   \n2528                    0.149                 1.779                 2.550   \n2555                    0.138                 1.799                 2.599   \n2582                    0.146                 1.760                 2.568   \n2609                    0.143                 1.789                 2.550   \n...                       ...                   ...                   ...   \n120717                  0.208                 5.480                 6.599   \n120744                  5.398                65.000                93.000   \n120763                  0.385                 2.759                 4.399   \n120787                  0.183                 3.849                 4.599   \n120814                  0.172                 3.930                 4.699   \n\n       MARGEM MÉDIA REVENDA  COEF DE VARIAÇÃO REVENDA  \\\n2501                  0.222                     0.073   \n2528                  0.286                     0.070   \n2555                  0.268                     0.064   \n2582                  0.231                     0.067   \n2609                  0.209                     0.066   \n...                     ...                       ...   \n120717             -99999.0                     0.034   \n120744             -99999.0                     0.072   \n120763             -99999.0                     0.128   \n120787             -99999.0                     0.043   \n120814             -99999.0                     0.040   \n\n       PREÇO MÉDIO DISTRIBUIÇÃO DESVIO PADRÃO DISTRIBUIÇÃO  \\\n2501                      1.806                       0.11   \n2528                      1.839                      0.117   \n2555                      1.895                      0.134   \n2582                      1.935                       0.14   \n2609                      1.963                      0.133   \n...                         ...                        ...   \n120717                 -99999.0                   -99999.0   \n120744                 -99999.0                   -99999.0   \n120763                 -99999.0                   -99999.0   \n120787                 -99999.0                   -99999.0   \n120814                 -99999.0                   -99999.0   \n\n       PREÇO MÍNIMO DISTRIBUIÇÃO PREÇO MÁXIMO DISTRIBUIÇÃO  \\\n2501                        1.31                    2.1358   \n2528                       1.438                    2.2801   \n2555                        1.43                    2.3454   \n2582                       1.438                    2.2925   \n2609                       1.438                    2.2513   \n...                          ...                       ...   \n120717                  -99999.0                  -99999.0   \n120744                  -99999.0                  -99999.0   \n120763                  -99999.0                  -99999.0   \n120787                  -99999.0                  -99999.0   \n120814                  -99999.0                  -99999.0   \n\n       COEF DE VARIAÇÃO DISTRIBUIÇÃO   Ano  \n2501                           0.061  2018  \n2528                           0.064  2020  \n2555                           0.071  2017  \n2582                           0.072  2019  \n2609                           0.068  2021  \n...                              ...   ...  \n120717                      -99999.0  2019  \n120744                      -99999.0  2021  \n120763                      -99999.0  2020  \n120787                      -99999.0  2019  \n120814                      -99999.0  2021  \n\n[3610 rows x 19 columns]",
            "text/html": "<div>\n<style scoped>\n    .dataframe tbody tr th:only-of-type {\n        vertical-align: middle;\n    }\n\n    .dataframe tbody tr th {\n        vertical-align: top;\n    }\n\n    .dataframe thead th {\n        text-align: right;\n    }\n</style>\n<table border=\"1\" class=\"dataframe\">\n  <thead>\n    <tr style=\"text-align: right;\">\n      <th></th>\n      <th>DATA INICIAL</th>\n      <th>DATA FINAL</th>\n      <th>REGIÃO</th>\n      <th>ESTADO</th>\n      <th>PRODUTO</th>\n      <th>NÚMERO DE POSTOS PESQUISADOS</th>\n      <th>UNIDADE DE MEDIDA</th>\n      <th>PREÇO MÉDIO REVENDA</th>\n      <th>DESVIO PADRÃO REVENDA</th>\n      <th>PREÇO MÍNIMO REVENDA</th>\n      <th>PREÇO MÁXIMO REVENDA</th>\n      <th>MARGEM MÉDIA REVENDA</th>\n      <th>COEF DE VARIAÇÃO REVENDA</th>\n      <th>PREÇO MÉDIO DISTRIBUIÇÃO</th>\n      <th>DESVIO PADRÃO DISTRIBUIÇÃO</th>\n      <th>PREÇO MÍNIMO DISTRIBUIÇÃO</th>\n      <th>PREÇO MÁXIMO DISTRIBUIÇÃO</th>\n      <th>COEF DE VARIAÇÃO DISTRIBUIÇÃO</th>\n      <th>Ano</th>\n    </tr>\n  </thead>\n  <tbody>\n    <tr>\n      <th>2501</th>\n      <td>2006-02-26</td>\n      <td>2006-03-04</td>\n      <td>SUDESTE</td>\n      <td>RIO DE JANEIRO</td>\n      <td>ETANOL HIDRATADO</td>\n      <td>881</td>\n      <td>R$/l</td>\n      <td>2.028</td>\n      <td>0.148</td>\n      <td>1.589</td>\n      <td>2.550</td>\n      <td>0.222</td>\n      <td>0.073</td>\n      <td>1.806</td>\n      <td>0.11</td>\n      <td>1.31</td>\n      <td>2.1358</td>\n      <td>0.061</td>\n      <td>2018</td>\n    </tr>\n    <tr>\n      <th>2528</th>\n      <td>2006-03-05</td>\n      <td>2006-03-11</td>\n      <td>SUDESTE</td>\n      <td>RIO DE JANEIRO</td>\n      <td>ETANOL HIDRATADO</td>\n      <td>889</td>\n      <td>R$/l</td>\n      <td>2.125</td>\n      <td>0.149</td>\n      <td>1.779</td>\n      <td>2.550</td>\n      <td>0.286</td>\n      <td>0.070</td>\n      <td>1.839</td>\n      <td>0.117</td>\n      <td>1.438</td>\n      <td>2.2801</td>\n      <td>0.064</td>\n      <td>2020</td>\n    </tr>\n    <tr>\n      <th>2555</th>\n      <td>2006-03-12</td>\n      <td>2006-03-18</td>\n      <td>SUDESTE</td>\n      <td>RIO DE JANEIRO</td>\n      <td>ETANOL HIDRATADO</td>\n      <td>902</td>\n      <td>R$/l</td>\n      <td>2.163</td>\n      <td>0.138</td>\n      <td>1.799</td>\n      <td>2.599</td>\n      <td>0.268</td>\n      <td>0.064</td>\n      <td>1.895</td>\n      <td>0.134</td>\n      <td>1.43</td>\n      <td>2.3454</td>\n      <td>0.071</td>\n      <td>2017</td>\n    </tr>\n    <tr>\n      <th>2582</th>\n      <td>2006-03-19</td>\n      <td>2006-03-25</td>\n      <td>SUDESTE</td>\n      <td>RIO DE JANEIRO</td>\n      <td>ETANOL HIDRATADO</td>\n      <td>898</td>\n      <td>R$/l</td>\n      <td>2.166</td>\n      <td>0.146</td>\n      <td>1.760</td>\n      <td>2.568</td>\n      <td>0.231</td>\n      <td>0.067</td>\n      <td>1.935</td>\n      <td>0.14</td>\n      <td>1.438</td>\n      <td>2.2925</td>\n      <td>0.072</td>\n      <td>2019</td>\n    </tr>\n    <tr>\n      <th>2609</th>\n      <td>2006-03-26</td>\n      <td>2006-04-01</td>\n      <td>SUDESTE</td>\n      <td>RIO DE JANEIRO</td>\n      <td>ETANOL HIDRATADO</td>\n      <td>890</td>\n      <td>R$/l</td>\n      <td>2.172</td>\n      <td>0.143</td>\n      <td>1.789</td>\n      <td>2.550</td>\n      <td>0.209</td>\n      <td>0.066</td>\n      <td>1.963</td>\n      <td>0.133</td>\n      <td>1.438</td>\n      <td>2.2513</td>\n      <td>0.068</td>\n      <td>2021</td>\n    </tr>\n    <tr>\n      <th>...</th>\n      <td>...</td>\n      <td>...</td>\n      <td>...</td>\n      <td>...</td>\n      <td>...</td>\n      <td>...</td>\n      <td>...</td>\n      <td>...</td>\n      <td>...</td>\n      <td>...</td>\n      <td>...</td>\n      <td>...</td>\n      <td>...</td>\n      <td>...</td>\n      <td>...</td>\n      <td>...</td>\n      <td>...</td>\n      <td>...</td>\n      <td>...</td>\n    </tr>\n    <tr>\n      <th>120717</th>\n      <td>2021-04-25</td>\n      <td>2021-05-01</td>\n      <td>SUDESTE</td>\n      <td>RIO DE JANEIRO</td>\n      <td>GASOLINA COMUM</td>\n      <td>198</td>\n      <td>R$/l</td>\n      <td>6.099</td>\n      <td>0.208</td>\n      <td>5.480</td>\n      <td>6.599</td>\n      <td>-99999.0</td>\n      <td>0.034</td>\n      <td>-99999.0</td>\n      <td>-99999.0</td>\n      <td>-99999.0</td>\n      <td>-99999.0</td>\n      <td>-99999.0</td>\n      <td>2019</td>\n    </tr>\n    <tr>\n      <th>120744</th>\n      <td>2021-04-25</td>\n      <td>2021-05-01</td>\n      <td>SUDESTE</td>\n      <td>RIO DE JANEIRO</td>\n      <td>GLP</td>\n      <td>137</td>\n      <td>R$/13Kg</td>\n      <td>75.218</td>\n      <td>5.398</td>\n      <td>65.000</td>\n      <td>93.000</td>\n      <td>-99999.0</td>\n      <td>0.072</td>\n      <td>-99999.0</td>\n      <td>-99999.0</td>\n      <td>-99999.0</td>\n      <td>-99999.0</td>\n      <td>-99999.0</td>\n      <td>2021</td>\n    </tr>\n    <tr>\n      <th>120763</th>\n      <td>2021-04-25</td>\n      <td>2021-05-01</td>\n      <td>SUDESTE</td>\n      <td>RIO DE JANEIRO</td>\n      <td>GNV</td>\n      <td>77</td>\n      <td>R$/m3</td>\n      <td>3.011</td>\n      <td>0.385</td>\n      <td>2.759</td>\n      <td>4.399</td>\n      <td>-99999.0</td>\n      <td>0.128</td>\n      <td>-99999.0</td>\n      <td>-99999.0</td>\n      <td>-99999.0</td>\n      <td>-99999.0</td>\n      <td>-99999.0</td>\n      <td>2020</td>\n    </tr>\n    <tr>\n      <th>120787</th>\n      <td>2021-04-25</td>\n      <td>2021-05-01</td>\n      <td>SUDESTE</td>\n      <td>RIO DE JANEIRO</td>\n      <td>OLEO DIESEL</td>\n      <td>72</td>\n      <td>R$/l</td>\n      <td>4.290</td>\n      <td>0.183</td>\n      <td>3.849</td>\n      <td>4.599</td>\n      <td>-99999.0</td>\n      <td>0.043</td>\n      <td>-99999.0</td>\n      <td>-99999.0</td>\n      <td>-99999.0</td>\n      <td>-99999.0</td>\n      <td>-99999.0</td>\n      <td>2019</td>\n    </tr>\n    <tr>\n      <th>120814</th>\n      <td>2021-04-25</td>\n      <td>2021-05-01</td>\n      <td>SUDESTE</td>\n      <td>RIO DE JANEIRO</td>\n      <td>OLEO DIESEL S10</td>\n      <td>155</td>\n      <td>R$/l</td>\n      <td>4.302</td>\n      <td>0.172</td>\n      <td>3.930</td>\n      <td>4.699</td>\n      <td>-99999.0</td>\n      <td>0.040</td>\n      <td>-99999.0</td>\n      <td>-99999.0</td>\n      <td>-99999.0</td>\n      <td>-99999.0</td>\n      <td>-99999.0</td>\n      <td>2021</td>\n    </tr>\n  </tbody>\n</table>\n<p>3610 rows × 19 columns</p>\n</div>"
          },
          "metadata": {}
        }
      ],
      "execution_count": 109
    },
    {
      "id": "sapphire-gravity",
      "cell_type": "markdown",
      "source": "#### **Selecionando registros de postos de São Paulo ou do Rio de Janeiro com Gasolina Comum acima de 2 reais**",
      "metadata": {}
    },
    {
      "id": "genetic-rwanda",
      "cell_type": "markdown",
      "source": "Podemos fazer a solução do \"jeito mais lento\", percorrendo o DataFrame inteiro _múltiplas vezes_:",
      "metadata": {}
    },
    {
      "id": "congressional-recorder",
      "cell_type": "code",
      "source": "data.head()",
      "metadata": {
        "trusted": true
      },
      "outputs": [
        {
          "execution_count": 110,
          "output_type": "execute_result",
          "data": {
            "text/plain": "  DATA INICIAL  DATA FINAL        REGIÃO              ESTADO  \\\n0   2004-05-09  2004-05-15  CENTRO OESTE    DISTRITO FEDERAL   \n1   2004-05-09  2004-05-15  CENTRO OESTE               GOIAS   \n2   2004-05-09  2004-05-15  CENTRO OESTE         MATO GROSSO   \n3   2004-05-09  2004-05-15  CENTRO OESTE  MATO GROSSO DO SUL   \n4   2004-05-09  2004-05-15      NORDESTE             ALAGOAS   \n\n            PRODUTO  NÚMERO DE POSTOS PESQUISADOS UNIDADE DE MEDIDA  \\\n0  ETANOL HIDRATADO                           127              R$/l   \n1  ETANOL HIDRATADO                           387              R$/l   \n2  ETANOL HIDRATADO                           192              R$/l   \n3  ETANOL HIDRATADO                           162              R$/l   \n4  ETANOL HIDRATADO                           103              R$/l   \n\n   PREÇO MÉDIO REVENDA  DESVIO PADRÃO REVENDA  PREÇO MÍNIMO REVENDA  \\\n0                1.288                  0.016                  1.19   \n1                1.162                  0.114                  0.89   \n2                1.389                  0.097                  1.18   \n3                1.262                  0.070                  1.09   \n4                1.181                  0.078                  1.05   \n\n   PREÇO MÁXIMO REVENDA MARGEM MÉDIA REVENDA  COEF DE VARIAÇÃO REVENDA  \\\n0                 1.350                0.463                     0.012   \n1                 1.449                0.399                     0.098   \n2                 1.760                0.419                     0.070   \n3                 1.509                0.432                     0.055   \n4                 1.400                 0.24                     0.066   \n\n  PREÇO MÉDIO DISTRIBUIÇÃO DESVIO PADRÃO DISTRIBUIÇÃO  \\\n0                    0.825                       0.11   \n1                    0.763                      0.088   \n2                     0.97                      0.095   \n3                     0.83                      0.119   \n4                    0.941                      0.077   \n\n  PREÇO MÍNIMO DISTRIBUIÇÃO PREÇO MÁXIMO DISTRIBUIÇÃO  \\\n0                    0.4201                    0.9666   \n1                    0.5013                      1.05   \n2                    0.5614                     1.161   \n3                    0.5991                   1.22242   \n4                    0.7441                    1.0317   \n\n  COEF DE VARIAÇÃO DISTRIBUIÇÃO   Ano  \n0                         0.133  2017  \n1                         0.115  2018  \n2                         0.098  2019  \n3                         0.143  2020  \n4                         0.082  2021  ",
            "text/html": "<div>\n<style scoped>\n    .dataframe tbody tr th:only-of-type {\n        vertical-align: middle;\n    }\n\n    .dataframe tbody tr th {\n        vertical-align: top;\n    }\n\n    .dataframe thead th {\n        text-align: right;\n    }\n</style>\n<table border=\"1\" class=\"dataframe\">\n  <thead>\n    <tr style=\"text-align: right;\">\n      <th></th>\n      <th>DATA INICIAL</th>\n      <th>DATA FINAL</th>\n      <th>REGIÃO</th>\n      <th>ESTADO</th>\n      <th>PRODUTO</th>\n      <th>NÚMERO DE POSTOS PESQUISADOS</th>\n      <th>UNIDADE DE MEDIDA</th>\n      <th>PREÇO MÉDIO REVENDA</th>\n      <th>DESVIO PADRÃO REVENDA</th>\n      <th>PREÇO MÍNIMO REVENDA</th>\n      <th>PREÇO MÁXIMO REVENDA</th>\n      <th>MARGEM MÉDIA REVENDA</th>\n      <th>COEF DE VARIAÇÃO REVENDA</th>\n      <th>PREÇO MÉDIO DISTRIBUIÇÃO</th>\n      <th>DESVIO PADRÃO DISTRIBUIÇÃO</th>\n      <th>PREÇO MÍNIMO DISTRIBUIÇÃO</th>\n      <th>PREÇO MÁXIMO DISTRIBUIÇÃO</th>\n      <th>COEF DE VARIAÇÃO DISTRIBUIÇÃO</th>\n      <th>Ano</th>\n    </tr>\n  </thead>\n  <tbody>\n    <tr>\n      <th>0</th>\n      <td>2004-05-09</td>\n      <td>2004-05-15</td>\n      <td>CENTRO OESTE</td>\n      <td>DISTRITO FEDERAL</td>\n      <td>ETANOL HIDRATADO</td>\n      <td>127</td>\n      <td>R$/l</td>\n      <td>1.288</td>\n      <td>0.016</td>\n      <td>1.19</td>\n      <td>1.350</td>\n      <td>0.463</td>\n      <td>0.012</td>\n      <td>0.825</td>\n      <td>0.11</td>\n      <td>0.4201</td>\n      <td>0.9666</td>\n      <td>0.133</td>\n      <td>2017</td>\n    </tr>\n    <tr>\n      <th>1</th>\n      <td>2004-05-09</td>\n      <td>2004-05-15</td>\n      <td>CENTRO OESTE</td>\n      <td>GOIAS</td>\n      <td>ETANOL HIDRATADO</td>\n      <td>387</td>\n      <td>R$/l</td>\n      <td>1.162</td>\n      <td>0.114</td>\n      <td>0.89</td>\n      <td>1.449</td>\n      <td>0.399</td>\n      <td>0.098</td>\n      <td>0.763</td>\n      <td>0.088</td>\n      <td>0.5013</td>\n      <td>1.05</td>\n      <td>0.115</td>\n      <td>2018</td>\n    </tr>\n    <tr>\n      <th>2</th>\n      <td>2004-05-09</td>\n      <td>2004-05-15</td>\n      <td>CENTRO OESTE</td>\n      <td>MATO GROSSO</td>\n      <td>ETANOL HIDRATADO</td>\n      <td>192</td>\n      <td>R$/l</td>\n      <td>1.389</td>\n      <td>0.097</td>\n      <td>1.18</td>\n      <td>1.760</td>\n      <td>0.419</td>\n      <td>0.070</td>\n      <td>0.97</td>\n      <td>0.095</td>\n      <td>0.5614</td>\n      <td>1.161</td>\n      <td>0.098</td>\n      <td>2019</td>\n    </tr>\n    <tr>\n      <th>3</th>\n      <td>2004-05-09</td>\n      <td>2004-05-15</td>\n      <td>CENTRO OESTE</td>\n      <td>MATO GROSSO DO SUL</td>\n      <td>ETANOL HIDRATADO</td>\n      <td>162</td>\n      <td>R$/l</td>\n      <td>1.262</td>\n      <td>0.070</td>\n      <td>1.09</td>\n      <td>1.509</td>\n      <td>0.432</td>\n      <td>0.055</td>\n      <td>0.83</td>\n      <td>0.119</td>\n      <td>0.5991</td>\n      <td>1.22242</td>\n      <td>0.143</td>\n      <td>2020</td>\n    </tr>\n    <tr>\n      <th>4</th>\n      <td>2004-05-09</td>\n      <td>2004-05-15</td>\n      <td>NORDESTE</td>\n      <td>ALAGOAS</td>\n      <td>ETANOL HIDRATADO</td>\n      <td>103</td>\n      <td>R$/l</td>\n      <td>1.181</td>\n      <td>0.078</td>\n      <td>1.05</td>\n      <td>1.400</td>\n      <td>0.24</td>\n      <td>0.066</td>\n      <td>0.941</td>\n      <td>0.077</td>\n      <td>0.7441</td>\n      <td>1.0317</td>\n      <td>0.082</td>\n      <td>2021</td>\n    </tr>\n  </tbody>\n</table>\n</div>"
          },
          "metadata": {}
        }
      ],
      "execution_count": 110
    },
    {
      "id": "fifth-catalog",
      "cell_type": "code",
      "source": "selecao_1 = (data['ESTADO'] == 'SAO PAULO') | (data['ESTADO'] == 'RIO DE JANEIRO')\nselecao_2 = (data['PRODUTO'] == 'GASOLINA COMUM')\nselecao_3 = (data['PREÇO MÉDIO REVENDA'] > 2)\n\nselecao_final = selecao_1 & selecao_2 & selecao_3\nselecao_final",
      "metadata": {
        "trusted": true
      },
      "outputs": [
        {
          "execution_count": 111,
          "output_type": "execute_result",
          "data": {
            "text/plain": "0         False\n1         False\n2         False\n3         False\n4         False\n          ...  \n120818    False\n120819    False\n120820    False\n120821    False\n120822    False\nLength: 120823, dtype: bool"
          },
          "metadata": {}
        }
      ],
      "execution_count": 111
    },
    {
      "id": "built-asthma",
      "cell_type": "code",
      "source": "data_filtrado = data[selecao_final]\ndata_filtrado",
      "metadata": {
        "trusted": true
      },
      "outputs": [
        {
          "execution_count": 113,
          "output_type": "execute_result",
          "data": {
            "text/plain": "       DATA INICIAL  DATA FINAL   REGIÃO          ESTADO         PRODUTO  \\\n12086    2004-05-09  2004-05-15  SUDESTE  RIO DE JANEIRO  GASOLINA COMUM   \n12113    2004-05-16  2004-05-22  SUDESTE  RIO DE JANEIRO  GASOLINA COMUM   \n12140    2004-05-23  2004-05-29  SUDESTE  RIO DE JANEIRO  GASOLINA COMUM   \n12167    2004-05-30  2004-06-05  SUDESTE  RIO DE JANEIRO  GASOLINA COMUM   \n12194    2004-06-06  2004-06-12  SUDESTE  RIO DE JANEIRO  GASOLINA COMUM   \n...             ...         ...      ...             ...             ...   \n120366   2021-04-11  2021-04-17  SUDESTE       SAO PAULO  GASOLINA COMUM   \n120538   2021-04-18  2021-04-24  SUDESTE  RIO DE JANEIRO  GASOLINA COMUM   \n120544   2021-04-18  2021-04-24  SUDESTE       SAO PAULO  GASOLINA COMUM   \n120717   2021-04-25  2021-05-01  SUDESTE  RIO DE JANEIRO  GASOLINA COMUM   \n120723   2021-04-25  2021-05-01  SUDESTE       SAO PAULO  GASOLINA COMUM   \n\n        NÚMERO DE POSTOS PESQUISADOS UNIDADE DE MEDIDA  PREÇO MÉDIO REVENDA  \\\n12086                           1071              R$/l                2.045   \n12113                           1055              R$/l                2.040   \n12140                           1091              R$/l                2.042   \n12167                           1055              R$/l                2.053   \n12194                           1091              R$/l                2.063   \n...                              ...               ...                  ...   \n120366                          1058              R$/l                5.206   \n120538                           240              R$/l                6.071   \n120544                          1075              R$/l                5.205   \n120717                           198              R$/l                6.099   \n120723                          1187              R$/l                5.265   \n\n        DESVIO PADRÃO REVENDA  PREÇO MÍNIMO REVENDA  PREÇO MÁXIMO REVENDA  \\\n12086                   0.109                 1.700                 2.599   \n12113                   0.113                 1.700                 2.599   \n12140                   0.108                 1.700                 2.599   \n12167                   0.111                 1.730                 2.599   \n12194                   0.107                 1.760                 2.599   \n...                       ...                   ...                   ...   \n120366                  0.234                 3.899                 5.999   \n120538                  0.217                 5.399                 6.599   \n120544                  0.216                 4.199                 5.999   \n120717                  0.208                 5.480                 6.599   \n120723                  0.218                 4.279                 6.099   \n\n       MARGEM MÉDIA REVENDA  COEF DE VARIAÇÃO REVENDA  \\\n12086                 0.254                     0.053   \n12113                 0.252                     0.055   \n12140                 0.252                     0.053   \n12167                 0.251                     0.054   \n12194                 0.247                     0.052   \n...                     ...                       ...   \n120366             -99999.0                     0.045   \n120538             -99999.0                     0.036   \n120544             -99999.0                     0.041   \n120717             -99999.0                     0.034   \n120723             -99999.0                     0.041   \n\n       PREÇO MÉDIO DISTRIBUIÇÃO DESVIO PADRÃO DISTRIBUIÇÃO  \\\n12086                     1.791                      0.047   \n12113                     1.788                      0.049   \n12140                      1.79                      0.046   \n12167                     1.802                      0.055   \n12194                     1.816                      0.054   \n...                         ...                        ...   \n120366                 -99999.0                   -99999.0   \n120538                 -99999.0                   -99999.0   \n120544                 -99999.0                   -99999.0   \n120717                 -99999.0                   -99999.0   \n120723                 -99999.0                   -99999.0   \n\n       PREÇO MÍNIMO DISTRIBUIÇÃO PREÇO MÁXIMO DISTRIBUIÇÃO  \\\n12086                     1.6363                    1.9594   \n12113                     1.5943                   1.99651   \n12140                    1.63596                    2.2137   \n12167                       1.64                   2.21425   \n12194                       1.64                   2.32425   \n...                          ...                       ...   \n120366                  -99999.0                  -99999.0   \n120538                  -99999.0                  -99999.0   \n120544                  -99999.0                  -99999.0   \n120717                  -99999.0                  -99999.0   \n120723                  -99999.0                  -99999.0   \n\n       COEF DE VARIAÇÃO DISTRIBUIÇÃO   Ano  \n12086                          0.026  2018  \n12113                          0.027  2020  \n12140                          0.026  2017  \n12167                          0.031  2019  \n12194                           0.03  2021  \n...                              ...   ...  \n120366                      -99999.0  2018  \n120538                      -99999.0  2020  \n120544                      -99999.0  2021  \n120717                      -99999.0  2019  \n120723                      -99999.0  2020  \n\n[1740 rows x 19 columns]",
            "text/html": "<div>\n<style scoped>\n    .dataframe tbody tr th:only-of-type {\n        vertical-align: middle;\n    }\n\n    .dataframe tbody tr th {\n        vertical-align: top;\n    }\n\n    .dataframe thead th {\n        text-align: right;\n    }\n</style>\n<table border=\"1\" class=\"dataframe\">\n  <thead>\n    <tr style=\"text-align: right;\">\n      <th></th>\n      <th>DATA INICIAL</th>\n      <th>DATA FINAL</th>\n      <th>REGIÃO</th>\n      <th>ESTADO</th>\n      <th>PRODUTO</th>\n      <th>NÚMERO DE POSTOS PESQUISADOS</th>\n      <th>UNIDADE DE MEDIDA</th>\n      <th>PREÇO MÉDIO REVENDA</th>\n      <th>DESVIO PADRÃO REVENDA</th>\n      <th>PREÇO MÍNIMO REVENDA</th>\n      <th>PREÇO MÁXIMO REVENDA</th>\n      <th>MARGEM MÉDIA REVENDA</th>\n      <th>COEF DE VARIAÇÃO REVENDA</th>\n      <th>PREÇO MÉDIO DISTRIBUIÇÃO</th>\n      <th>DESVIO PADRÃO DISTRIBUIÇÃO</th>\n      <th>PREÇO MÍNIMO DISTRIBUIÇÃO</th>\n      <th>PREÇO MÁXIMO DISTRIBUIÇÃO</th>\n      <th>COEF DE VARIAÇÃO DISTRIBUIÇÃO</th>\n      <th>Ano</th>\n    </tr>\n  </thead>\n  <tbody>\n    <tr>\n      <th>12086</th>\n      <td>2004-05-09</td>\n      <td>2004-05-15</td>\n      <td>SUDESTE</td>\n      <td>RIO DE JANEIRO</td>\n      <td>GASOLINA COMUM</td>\n      <td>1071</td>\n      <td>R$/l</td>\n      <td>2.045</td>\n      <td>0.109</td>\n      <td>1.700</td>\n      <td>2.599</td>\n      <td>0.254</td>\n      <td>0.053</td>\n      <td>1.791</td>\n      <td>0.047</td>\n      <td>1.6363</td>\n      <td>1.9594</td>\n      <td>0.026</td>\n      <td>2018</td>\n    </tr>\n    <tr>\n      <th>12113</th>\n      <td>2004-05-16</td>\n      <td>2004-05-22</td>\n      <td>SUDESTE</td>\n      <td>RIO DE JANEIRO</td>\n      <td>GASOLINA COMUM</td>\n      <td>1055</td>\n      <td>R$/l</td>\n      <td>2.040</td>\n      <td>0.113</td>\n      <td>1.700</td>\n      <td>2.599</td>\n      <td>0.252</td>\n      <td>0.055</td>\n      <td>1.788</td>\n      <td>0.049</td>\n      <td>1.5943</td>\n      <td>1.99651</td>\n      <td>0.027</td>\n      <td>2020</td>\n    </tr>\n    <tr>\n      <th>12140</th>\n      <td>2004-05-23</td>\n      <td>2004-05-29</td>\n      <td>SUDESTE</td>\n      <td>RIO DE JANEIRO</td>\n      <td>GASOLINA COMUM</td>\n      <td>1091</td>\n      <td>R$/l</td>\n      <td>2.042</td>\n      <td>0.108</td>\n      <td>1.700</td>\n      <td>2.599</td>\n      <td>0.252</td>\n      <td>0.053</td>\n      <td>1.79</td>\n      <td>0.046</td>\n      <td>1.63596</td>\n      <td>2.2137</td>\n      <td>0.026</td>\n      <td>2017</td>\n    </tr>\n    <tr>\n      <th>12167</th>\n      <td>2004-05-30</td>\n      <td>2004-06-05</td>\n      <td>SUDESTE</td>\n      <td>RIO DE JANEIRO</td>\n      <td>GASOLINA COMUM</td>\n      <td>1055</td>\n      <td>R$/l</td>\n      <td>2.053</td>\n      <td>0.111</td>\n      <td>1.730</td>\n      <td>2.599</td>\n      <td>0.251</td>\n      <td>0.054</td>\n      <td>1.802</td>\n      <td>0.055</td>\n      <td>1.64</td>\n      <td>2.21425</td>\n      <td>0.031</td>\n      <td>2019</td>\n    </tr>\n    <tr>\n      <th>12194</th>\n      <td>2004-06-06</td>\n      <td>2004-06-12</td>\n      <td>SUDESTE</td>\n      <td>RIO DE JANEIRO</td>\n      <td>GASOLINA COMUM</td>\n      <td>1091</td>\n      <td>R$/l</td>\n      <td>2.063</td>\n      <td>0.107</td>\n      <td>1.760</td>\n      <td>2.599</td>\n      <td>0.247</td>\n      <td>0.052</td>\n      <td>1.816</td>\n      <td>0.054</td>\n      <td>1.64</td>\n      <td>2.32425</td>\n      <td>0.03</td>\n      <td>2021</td>\n    </tr>\n    <tr>\n      <th>...</th>\n      <td>...</td>\n      <td>...</td>\n      <td>...</td>\n      <td>...</td>\n      <td>...</td>\n      <td>...</td>\n      <td>...</td>\n      <td>...</td>\n      <td>...</td>\n      <td>...</td>\n      <td>...</td>\n      <td>...</td>\n      <td>...</td>\n      <td>...</td>\n      <td>...</td>\n      <td>...</td>\n      <td>...</td>\n      <td>...</td>\n      <td>...</td>\n    </tr>\n    <tr>\n      <th>120366</th>\n      <td>2021-04-11</td>\n      <td>2021-04-17</td>\n      <td>SUDESTE</td>\n      <td>SAO PAULO</td>\n      <td>GASOLINA COMUM</td>\n      <td>1058</td>\n      <td>R$/l</td>\n      <td>5.206</td>\n      <td>0.234</td>\n      <td>3.899</td>\n      <td>5.999</td>\n      <td>-99999.0</td>\n      <td>0.045</td>\n      <td>-99999.0</td>\n      <td>-99999.0</td>\n      <td>-99999.0</td>\n      <td>-99999.0</td>\n      <td>-99999.0</td>\n      <td>2018</td>\n    </tr>\n    <tr>\n      <th>120538</th>\n      <td>2021-04-18</td>\n      <td>2021-04-24</td>\n      <td>SUDESTE</td>\n      <td>RIO DE JANEIRO</td>\n      <td>GASOLINA COMUM</td>\n      <td>240</td>\n      <td>R$/l</td>\n      <td>6.071</td>\n      <td>0.217</td>\n      <td>5.399</td>\n      <td>6.599</td>\n      <td>-99999.0</td>\n      <td>0.036</td>\n      <td>-99999.0</td>\n      <td>-99999.0</td>\n      <td>-99999.0</td>\n      <td>-99999.0</td>\n      <td>-99999.0</td>\n      <td>2020</td>\n    </tr>\n    <tr>\n      <th>120544</th>\n      <td>2021-04-18</td>\n      <td>2021-04-24</td>\n      <td>SUDESTE</td>\n      <td>SAO PAULO</td>\n      <td>GASOLINA COMUM</td>\n      <td>1075</td>\n      <td>R$/l</td>\n      <td>5.205</td>\n      <td>0.216</td>\n      <td>4.199</td>\n      <td>5.999</td>\n      <td>-99999.0</td>\n      <td>0.041</td>\n      <td>-99999.0</td>\n      <td>-99999.0</td>\n      <td>-99999.0</td>\n      <td>-99999.0</td>\n      <td>-99999.0</td>\n      <td>2021</td>\n    </tr>\n    <tr>\n      <th>120717</th>\n      <td>2021-04-25</td>\n      <td>2021-05-01</td>\n      <td>SUDESTE</td>\n      <td>RIO DE JANEIRO</td>\n      <td>GASOLINA COMUM</td>\n      <td>198</td>\n      <td>R$/l</td>\n      <td>6.099</td>\n      <td>0.208</td>\n      <td>5.480</td>\n      <td>6.599</td>\n      <td>-99999.0</td>\n      <td>0.034</td>\n      <td>-99999.0</td>\n      <td>-99999.0</td>\n      <td>-99999.0</td>\n      <td>-99999.0</td>\n      <td>-99999.0</td>\n      <td>2019</td>\n    </tr>\n    <tr>\n      <th>120723</th>\n      <td>2021-04-25</td>\n      <td>2021-05-01</td>\n      <td>SUDESTE</td>\n      <td>SAO PAULO</td>\n      <td>GASOLINA COMUM</td>\n      <td>1187</td>\n      <td>R$/l</td>\n      <td>5.265</td>\n      <td>0.218</td>\n      <td>4.279</td>\n      <td>6.099</td>\n      <td>-99999.0</td>\n      <td>0.041</td>\n      <td>-99999.0</td>\n      <td>-99999.0</td>\n      <td>-99999.0</td>\n      <td>-99999.0</td>\n      <td>-99999.0</td>\n      <td>2020</td>\n    </tr>\n  </tbody>\n</table>\n<p>1740 rows × 19 columns</p>\n</div>"
          },
          "metadata": {}
        }
      ],
      "execution_count": 113
    },
    {
      "id": "9355da84-2c4f-4e86-a478-c80957ea5440",
      "cell_type": "code",
      "source": "print(data_filtrado['ESTADO'].unique())\nprint(data_filtrado['PRODUTO'].unique())\n['RIO DE JANEIRO' 'SAO PAULO']\n['GASOLINA COMUM']",
      "metadata": {
        "trusted": true
      },
      "outputs": [
        {
          "name": "stdout",
          "output_type": "stream",
          "text": "['RIO DE JANEIRO' 'SAO PAULO']\n['GASOLINA COMUM']\n"
        },
        {
          "execution_count": 114,
          "output_type": "execute_result",
          "data": {
            "text/plain": "['GASOLINA COMUM']"
          },
          "metadata": {}
        }
      ],
      "execution_count": 114
    },
    {
      "id": "productive-field",
      "cell_type": "markdown",
      "source": "<br/>\n\nAlternativamente:",
      "metadata": {}
    },
    {
      "id": "australian-brother",
      "cell_type": "code",
      "source": "selecao_1 = (data['ESTADO'] == 'SAO PAULO') | (data['ESTADO'] == 'RIO DE JANEIRO')\npostos_sp_rj = data[selecao_1]\n\n# apenas registros de postos dos estados de SP e RJ\npostos_sp_rj",
      "metadata": {
        "trusted": true
      },
      "outputs": [
        {
          "execution_count": 115,
          "output_type": "execute_result",
          "data": {
            "text/plain": "       DATA INICIAL  DATA FINAL   REGIÃO          ESTADO           PRODUTO  \\\n22       2004-05-09  2004-05-15  SUDESTE  RIO DE JANEIRO  ETANOL HIDRATADO   \n23       2004-05-09  2004-05-15  SUDESTE       SAO PAULO  ETANOL HIDRATADO   \n49       2004-05-16  2004-05-22  SUDESTE  RIO DE JANEIRO  ETANOL HIDRATADO   \n50       2004-05-16  2004-05-22  SUDESTE       SAO PAULO  ETANOL HIDRATADO   \n76       2004-05-23  2004-05-29  SUDESTE  RIO DE JANEIRO  ETANOL HIDRATADO   \n...             ...         ...      ...             ...               ...   \n120767   2021-04-25  2021-05-01  SUDESTE       SAO PAULO               GNV   \n120787   2021-04-25  2021-05-01  SUDESTE  RIO DE JANEIRO       OLEO DIESEL   \n120793   2021-04-25  2021-05-01  SUDESTE       SAO PAULO       OLEO DIESEL   \n120814   2021-04-25  2021-05-01  SUDESTE  RIO DE JANEIRO   OLEO DIESEL S10   \n120820   2021-04-25  2021-05-01  SUDESTE       SAO PAULO   OLEO DIESEL S10   \n\n        NÚMERO DE POSTOS PESQUISADOS UNIDADE DE MEDIDA  PREÇO MÉDIO REVENDA  \\\n22                               952              R$/l                1.098   \n23                              4047              R$/l                0.768   \n49                               948              R$/l                1.092   \n50                              4066              R$/l                0.766   \n76                               973              R$/l                1.103   \n...                              ...               ...                  ...   \n120767                            51             R$/m3                3.150   \n120787                            72              R$/l                4.290   \n120793                           411              R$/l                4.134   \n120814                           155              R$/l                4.302   \n120820                           886              R$/l                4.246   \n\n        DESVIO PADRÃO REVENDA  PREÇO MÍNIMO REVENDA  PREÇO MÁXIMO REVENDA  \\\n22                      0.154                 0.740                 1.890   \n23                      0.085                 0.590                 1.150   \n49                      0.157                 0.740                 1.499   \n50                      0.083                 0.590                 1.150   \n76                      0.140                 0.770                 1.589   \n...                       ...                   ...                   ...   \n120767                  0.282                 2.499                 3.797   \n120787                  0.183                 3.849                 4.599   \n120793                  0.188                 3.699                 5.099   \n120814                  0.172                 3.930                 4.699   \n120820                  0.216                 3.769                 5.199   \n\n       MARGEM MÉDIA REVENDA  COEF DE VARIAÇÃO REVENDA  \\\n22                    0.312                     0.140   \n23                    0.198                     0.111   \n49                    0.284                     0.144   \n50                     0.19                     0.108   \n76                    0.281                     0.127   \n...                     ...                       ...   \n120767             -99999.0                     0.090   \n120787             -99999.0                     0.043   \n120793             -99999.0                     0.045   \n120814             -99999.0                     0.040   \n120820             -99999.0                     0.051   \n\n       PREÇO MÉDIO DISTRIBUIÇÃO DESVIO PADRÃO DISTRIBUIÇÃO  \\\n22                        0.786                      0.173   \n23                         0.57                      0.056   \n49                        0.808                      0.175   \n50                        0.576                       0.05   \n76                        0.822                      0.166   \n...                         ...                        ...   \n120767                 -99999.0                   -99999.0   \n120787                 -99999.0                   -99999.0   \n120793                 -99999.0                   -99999.0   \n120814                 -99999.0                   -99999.0   \n120820                 -99999.0                   -99999.0   \n\n       PREÇO MÍNIMO DISTRIBUIÇÃO PREÇO MÁXIMO DISTRIBUIÇÃO  \\\n22                         0.326                     1.263   \n23                        0.4271                    1.4123   \n49                        0.3257                    1.2921   \n50                       0.43204                    0.9724   \n76                       0.38909                    1.1859   \n...                          ...                       ...   \n120767                  -99999.0                  -99999.0   \n120787                  -99999.0                  -99999.0   \n120793                  -99999.0                  -99999.0   \n120814                  -99999.0                  -99999.0   \n120820                  -99999.0                  -99999.0   \n\n       COEF DE VARIAÇÃO DISTRIBUIÇÃO   Ano  \n22                              0.22  2019  \n23                             0.098  2020  \n49                             0.217  2021  \n50                             0.087  2017  \n76                             0.202  2018  \n...                              ...   ...  \n120767                      -99999.0  2019  \n120787                      -99999.0  2019  \n120793                      -99999.0  2020  \n120814                      -99999.0  2021  \n120820                      -99999.0  2017  \n\n[9638 rows x 19 columns]",
            "text/html": "<div>\n<style scoped>\n    .dataframe tbody tr th:only-of-type {\n        vertical-align: middle;\n    }\n\n    .dataframe tbody tr th {\n        vertical-align: top;\n    }\n\n    .dataframe thead th {\n        text-align: right;\n    }\n</style>\n<table border=\"1\" class=\"dataframe\">\n  <thead>\n    <tr style=\"text-align: right;\">\n      <th></th>\n      <th>DATA INICIAL</th>\n      <th>DATA FINAL</th>\n      <th>REGIÃO</th>\n      <th>ESTADO</th>\n      <th>PRODUTO</th>\n      <th>NÚMERO DE POSTOS PESQUISADOS</th>\n      <th>UNIDADE DE MEDIDA</th>\n      <th>PREÇO MÉDIO REVENDA</th>\n      <th>DESVIO PADRÃO REVENDA</th>\n      <th>PREÇO MÍNIMO REVENDA</th>\n      <th>PREÇO MÁXIMO REVENDA</th>\n      <th>MARGEM MÉDIA REVENDA</th>\n      <th>COEF DE VARIAÇÃO REVENDA</th>\n      <th>PREÇO MÉDIO DISTRIBUIÇÃO</th>\n      <th>DESVIO PADRÃO DISTRIBUIÇÃO</th>\n      <th>PREÇO MÍNIMO DISTRIBUIÇÃO</th>\n      <th>PREÇO MÁXIMO DISTRIBUIÇÃO</th>\n      <th>COEF DE VARIAÇÃO DISTRIBUIÇÃO</th>\n      <th>Ano</th>\n    </tr>\n  </thead>\n  <tbody>\n    <tr>\n      <th>22</th>\n      <td>2004-05-09</td>\n      <td>2004-05-15</td>\n      <td>SUDESTE</td>\n      <td>RIO DE JANEIRO</td>\n      <td>ETANOL HIDRATADO</td>\n      <td>952</td>\n      <td>R$/l</td>\n      <td>1.098</td>\n      <td>0.154</td>\n      <td>0.740</td>\n      <td>1.890</td>\n      <td>0.312</td>\n      <td>0.140</td>\n      <td>0.786</td>\n      <td>0.173</td>\n      <td>0.326</td>\n      <td>1.263</td>\n      <td>0.22</td>\n      <td>2019</td>\n    </tr>\n    <tr>\n      <th>23</th>\n      <td>2004-05-09</td>\n      <td>2004-05-15</td>\n      <td>SUDESTE</td>\n      <td>SAO PAULO</td>\n      <td>ETANOL HIDRATADO</td>\n      <td>4047</td>\n      <td>R$/l</td>\n      <td>0.768</td>\n      <td>0.085</td>\n      <td>0.590</td>\n      <td>1.150</td>\n      <td>0.198</td>\n      <td>0.111</td>\n      <td>0.57</td>\n      <td>0.056</td>\n      <td>0.4271</td>\n      <td>1.4123</td>\n      <td>0.098</td>\n      <td>2020</td>\n    </tr>\n    <tr>\n      <th>49</th>\n      <td>2004-05-16</td>\n      <td>2004-05-22</td>\n      <td>SUDESTE</td>\n      <td>RIO DE JANEIRO</td>\n      <td>ETANOL HIDRATADO</td>\n      <td>948</td>\n      <td>R$/l</td>\n      <td>1.092</td>\n      <td>0.157</td>\n      <td>0.740</td>\n      <td>1.499</td>\n      <td>0.284</td>\n      <td>0.144</td>\n      <td>0.808</td>\n      <td>0.175</td>\n      <td>0.3257</td>\n      <td>1.2921</td>\n      <td>0.217</td>\n      <td>2021</td>\n    </tr>\n    <tr>\n      <th>50</th>\n      <td>2004-05-16</td>\n      <td>2004-05-22</td>\n      <td>SUDESTE</td>\n      <td>SAO PAULO</td>\n      <td>ETANOL HIDRATADO</td>\n      <td>4066</td>\n      <td>R$/l</td>\n      <td>0.766</td>\n      <td>0.083</td>\n      <td>0.590</td>\n      <td>1.150</td>\n      <td>0.19</td>\n      <td>0.108</td>\n      <td>0.576</td>\n      <td>0.05</td>\n      <td>0.43204</td>\n      <td>0.9724</td>\n      <td>0.087</td>\n      <td>2017</td>\n    </tr>\n    <tr>\n      <th>76</th>\n      <td>2004-05-23</td>\n      <td>2004-05-29</td>\n      <td>SUDESTE</td>\n      <td>RIO DE JANEIRO</td>\n      <td>ETANOL HIDRATADO</td>\n      <td>973</td>\n      <td>R$/l</td>\n      <td>1.103</td>\n      <td>0.140</td>\n      <td>0.770</td>\n      <td>1.589</td>\n      <td>0.281</td>\n      <td>0.127</td>\n      <td>0.822</td>\n      <td>0.166</td>\n      <td>0.38909</td>\n      <td>1.1859</td>\n      <td>0.202</td>\n      <td>2018</td>\n    </tr>\n    <tr>\n      <th>...</th>\n      <td>...</td>\n      <td>...</td>\n      <td>...</td>\n      <td>...</td>\n      <td>...</td>\n      <td>...</td>\n      <td>...</td>\n      <td>...</td>\n      <td>...</td>\n      <td>...</td>\n      <td>...</td>\n      <td>...</td>\n      <td>...</td>\n      <td>...</td>\n      <td>...</td>\n      <td>...</td>\n      <td>...</td>\n      <td>...</td>\n      <td>...</td>\n    </tr>\n    <tr>\n      <th>120767</th>\n      <td>2021-04-25</td>\n      <td>2021-05-01</td>\n      <td>SUDESTE</td>\n      <td>SAO PAULO</td>\n      <td>GNV</td>\n      <td>51</td>\n      <td>R$/m3</td>\n      <td>3.150</td>\n      <td>0.282</td>\n      <td>2.499</td>\n      <td>3.797</td>\n      <td>-99999.0</td>\n      <td>0.090</td>\n      <td>-99999.0</td>\n      <td>-99999.0</td>\n      <td>-99999.0</td>\n      <td>-99999.0</td>\n      <td>-99999.0</td>\n      <td>2019</td>\n    </tr>\n    <tr>\n      <th>120787</th>\n      <td>2021-04-25</td>\n      <td>2021-05-01</td>\n      <td>SUDESTE</td>\n      <td>RIO DE JANEIRO</td>\n      <td>OLEO DIESEL</td>\n      <td>72</td>\n      <td>R$/l</td>\n      <td>4.290</td>\n      <td>0.183</td>\n      <td>3.849</td>\n      <td>4.599</td>\n      <td>-99999.0</td>\n      <td>0.043</td>\n      <td>-99999.0</td>\n      <td>-99999.0</td>\n      <td>-99999.0</td>\n      <td>-99999.0</td>\n      <td>-99999.0</td>\n      <td>2019</td>\n    </tr>\n    <tr>\n      <th>120793</th>\n      <td>2021-04-25</td>\n      <td>2021-05-01</td>\n      <td>SUDESTE</td>\n      <td>SAO PAULO</td>\n      <td>OLEO DIESEL</td>\n      <td>411</td>\n      <td>R$/l</td>\n      <td>4.134</td>\n      <td>0.188</td>\n      <td>3.699</td>\n      <td>5.099</td>\n      <td>-99999.0</td>\n      <td>0.045</td>\n      <td>-99999.0</td>\n      <td>-99999.0</td>\n      <td>-99999.0</td>\n      <td>-99999.0</td>\n      <td>-99999.0</td>\n      <td>2020</td>\n    </tr>\n    <tr>\n      <th>120814</th>\n      <td>2021-04-25</td>\n      <td>2021-05-01</td>\n      <td>SUDESTE</td>\n      <td>RIO DE JANEIRO</td>\n      <td>OLEO DIESEL S10</td>\n      <td>155</td>\n      <td>R$/l</td>\n      <td>4.302</td>\n      <td>0.172</td>\n      <td>3.930</td>\n      <td>4.699</td>\n      <td>-99999.0</td>\n      <td>0.040</td>\n      <td>-99999.0</td>\n      <td>-99999.0</td>\n      <td>-99999.0</td>\n      <td>-99999.0</td>\n      <td>-99999.0</td>\n      <td>2021</td>\n    </tr>\n    <tr>\n      <th>120820</th>\n      <td>2021-04-25</td>\n      <td>2021-05-01</td>\n      <td>SUDESTE</td>\n      <td>SAO PAULO</td>\n      <td>OLEO DIESEL S10</td>\n      <td>886</td>\n      <td>R$/l</td>\n      <td>4.246</td>\n      <td>0.216</td>\n      <td>3.769</td>\n      <td>5.199</td>\n      <td>-99999.0</td>\n      <td>0.051</td>\n      <td>-99999.0</td>\n      <td>-99999.0</td>\n      <td>-99999.0</td>\n      <td>-99999.0</td>\n      <td>-99999.0</td>\n      <td>2017</td>\n    </tr>\n  </tbody>\n</table>\n<p>9638 rows × 19 columns</p>\n</div>"
          },
          "metadata": {}
        }
      ],
      "execution_count": 115
    },
    {
      "id": "toxic-mercy",
      "cell_type": "code",
      "source": "selecao_2 = (postos_sp_rj['PRODUTO'] == 'GASOLINA COMUM')\npostos_sp_rj_gasolina = postos_sp_rj[selecao_2]\n\n# apenas registros de postos dos estados de SP e RJ cujo produto é GASOLINA COMUM\npostos_sp_rj_gasolina",
      "metadata": {
        "trusted": true
      },
      "outputs": [
        {
          "execution_count": 116,
          "output_type": "execute_result",
          "data": {
            "text/plain": "       DATA INICIAL  DATA FINAL   REGIÃO          ESTADO         PRODUTO  \\\n12086    2004-05-09  2004-05-15  SUDESTE  RIO DE JANEIRO  GASOLINA COMUM   \n12087    2004-05-09  2004-05-15  SUDESTE       SAO PAULO  GASOLINA COMUM   \n12113    2004-05-16  2004-05-22  SUDESTE  RIO DE JANEIRO  GASOLINA COMUM   \n12114    2004-05-16  2004-05-22  SUDESTE       SAO PAULO  GASOLINA COMUM   \n12140    2004-05-23  2004-05-29  SUDESTE  RIO DE JANEIRO  GASOLINA COMUM   \n...             ...         ...      ...             ...             ...   \n120366   2021-04-11  2021-04-17  SUDESTE       SAO PAULO  GASOLINA COMUM   \n120538   2021-04-18  2021-04-24  SUDESTE  RIO DE JANEIRO  GASOLINA COMUM   \n120544   2021-04-18  2021-04-24  SUDESTE       SAO PAULO  GASOLINA COMUM   \n120717   2021-04-25  2021-05-01  SUDESTE  RIO DE JANEIRO  GASOLINA COMUM   \n120723   2021-04-25  2021-05-01  SUDESTE       SAO PAULO  GASOLINA COMUM   \n\n        NÚMERO DE POSTOS PESQUISADOS UNIDADE DE MEDIDA  PREÇO MÉDIO REVENDA  \\\n12086                           1071              R$/l                2.045   \n12087                           4107              R$/l                1.891   \n12113                           1055              R$/l                2.040   \n12114                           4133              R$/l                1.888   \n12140                           1091              R$/l                2.042   \n...                              ...               ...                  ...   \n120366                          1058              R$/l                5.206   \n120538                           240              R$/l                6.071   \n120544                          1075              R$/l                5.205   \n120717                           198              R$/l                6.099   \n120723                          1187              R$/l                5.265   \n\n        DESVIO PADRÃO REVENDA  PREÇO MÍNIMO REVENDA  PREÇO MÁXIMO REVENDA  \\\n12086                   0.109                 1.700                 2.599   \n12087                   0.101                 1.570                 2.399   \n12113                   0.113                 1.700                 2.599   \n12114                   0.101                 1.540                 2.220   \n12140                   0.108                 1.700                 2.599   \n...                       ...                   ...                   ...   \n120366                  0.234                 3.899                 5.999   \n120538                  0.217                 5.399                 6.599   \n120544                  0.216                 4.199                 5.999   \n120717                  0.208                 5.480                 6.599   \n120723                  0.218                 4.279                 6.099   \n\n       MARGEM MÉDIA REVENDA  COEF DE VARIAÇÃO REVENDA  \\\n12086                 0.254                     0.053   \n12087                 0.235                     0.053   \n12113                 0.252                     0.055   \n12114                 0.233                     0.053   \n12140                 0.252                     0.053   \n...                     ...                       ...   \n120366             -99999.0                     0.045   \n120538             -99999.0                     0.036   \n120544             -99999.0                     0.041   \n120717             -99999.0                     0.034   \n120723             -99999.0                     0.041   \n\n       PREÇO MÉDIO DISTRIBUIÇÃO DESVIO PADRÃO DISTRIBUIÇÃO  \\\n12086                     1.791                      0.047   \n12087                     1.656                      0.064   \n12113                     1.788                      0.049   \n12114                     1.655                      0.063   \n12140                      1.79                      0.046   \n...                         ...                        ...   \n120366                 -99999.0                   -99999.0   \n120538                 -99999.0                   -99999.0   \n120544                 -99999.0                   -99999.0   \n120717                 -99999.0                   -99999.0   \n120723                 -99999.0                   -99999.0   \n\n       PREÇO MÍNIMO DISTRIBUIÇÃO PREÇO MÁXIMO DISTRIBUIÇÃO  \\\n12086                     1.6363                    1.9594   \n12087                       1.38                     1.944   \n12113                     1.5943                   1.99651   \n12114                       1.38                    1.9319   \n12140                    1.63596                    2.2137   \n...                          ...                       ...   \n120366                  -99999.0                  -99999.0   \n120538                  -99999.0                  -99999.0   \n120544                  -99999.0                  -99999.0   \n120717                  -99999.0                  -99999.0   \n120723                  -99999.0                  -99999.0   \n\n       COEF DE VARIAÇÃO DISTRIBUIÇÃO   Ano  \n12086                          0.026  2018  \n12087                          0.039  2019  \n12113                          0.027  2020  \n12114                          0.038  2021  \n12140                          0.026  2017  \n...                              ...   ...  \n120366                      -99999.0  2018  \n120538                      -99999.0  2020  \n120544                      -99999.0  2021  \n120717                      -99999.0  2019  \n120723                      -99999.0  2020  \n\n[1746 rows x 19 columns]",
            "text/html": "<div>\n<style scoped>\n    .dataframe tbody tr th:only-of-type {\n        vertical-align: middle;\n    }\n\n    .dataframe tbody tr th {\n        vertical-align: top;\n    }\n\n    .dataframe thead th {\n        text-align: right;\n    }\n</style>\n<table border=\"1\" class=\"dataframe\">\n  <thead>\n    <tr style=\"text-align: right;\">\n      <th></th>\n      <th>DATA INICIAL</th>\n      <th>DATA FINAL</th>\n      <th>REGIÃO</th>\n      <th>ESTADO</th>\n      <th>PRODUTO</th>\n      <th>NÚMERO DE POSTOS PESQUISADOS</th>\n      <th>UNIDADE DE MEDIDA</th>\n      <th>PREÇO MÉDIO REVENDA</th>\n      <th>DESVIO PADRÃO REVENDA</th>\n      <th>PREÇO MÍNIMO REVENDA</th>\n      <th>PREÇO MÁXIMO REVENDA</th>\n      <th>MARGEM MÉDIA REVENDA</th>\n      <th>COEF DE VARIAÇÃO REVENDA</th>\n      <th>PREÇO MÉDIO DISTRIBUIÇÃO</th>\n      <th>DESVIO PADRÃO DISTRIBUIÇÃO</th>\n      <th>PREÇO MÍNIMO DISTRIBUIÇÃO</th>\n      <th>PREÇO MÁXIMO DISTRIBUIÇÃO</th>\n      <th>COEF DE VARIAÇÃO DISTRIBUIÇÃO</th>\n      <th>Ano</th>\n    </tr>\n  </thead>\n  <tbody>\n    <tr>\n      <th>12086</th>\n      <td>2004-05-09</td>\n      <td>2004-05-15</td>\n      <td>SUDESTE</td>\n      <td>RIO DE JANEIRO</td>\n      <td>GASOLINA COMUM</td>\n      <td>1071</td>\n      <td>R$/l</td>\n      <td>2.045</td>\n      <td>0.109</td>\n      <td>1.700</td>\n      <td>2.599</td>\n      <td>0.254</td>\n      <td>0.053</td>\n      <td>1.791</td>\n      <td>0.047</td>\n      <td>1.6363</td>\n      <td>1.9594</td>\n      <td>0.026</td>\n      <td>2018</td>\n    </tr>\n    <tr>\n      <th>12087</th>\n      <td>2004-05-09</td>\n      <td>2004-05-15</td>\n      <td>SUDESTE</td>\n      <td>SAO PAULO</td>\n      <td>GASOLINA COMUM</td>\n      <td>4107</td>\n      <td>R$/l</td>\n      <td>1.891</td>\n      <td>0.101</td>\n      <td>1.570</td>\n      <td>2.399</td>\n      <td>0.235</td>\n      <td>0.053</td>\n      <td>1.656</td>\n      <td>0.064</td>\n      <td>1.38</td>\n      <td>1.944</td>\n      <td>0.039</td>\n      <td>2019</td>\n    </tr>\n    <tr>\n      <th>12113</th>\n      <td>2004-05-16</td>\n      <td>2004-05-22</td>\n      <td>SUDESTE</td>\n      <td>RIO DE JANEIRO</td>\n      <td>GASOLINA COMUM</td>\n      <td>1055</td>\n      <td>R$/l</td>\n      <td>2.040</td>\n      <td>0.113</td>\n      <td>1.700</td>\n      <td>2.599</td>\n      <td>0.252</td>\n      <td>0.055</td>\n      <td>1.788</td>\n      <td>0.049</td>\n      <td>1.5943</td>\n      <td>1.99651</td>\n      <td>0.027</td>\n      <td>2020</td>\n    </tr>\n    <tr>\n      <th>12114</th>\n      <td>2004-05-16</td>\n      <td>2004-05-22</td>\n      <td>SUDESTE</td>\n      <td>SAO PAULO</td>\n      <td>GASOLINA COMUM</td>\n      <td>4133</td>\n      <td>R$/l</td>\n      <td>1.888</td>\n      <td>0.101</td>\n      <td>1.540</td>\n      <td>2.220</td>\n      <td>0.233</td>\n      <td>0.053</td>\n      <td>1.655</td>\n      <td>0.063</td>\n      <td>1.38</td>\n      <td>1.9319</td>\n      <td>0.038</td>\n      <td>2021</td>\n    </tr>\n    <tr>\n      <th>12140</th>\n      <td>2004-05-23</td>\n      <td>2004-05-29</td>\n      <td>SUDESTE</td>\n      <td>RIO DE JANEIRO</td>\n      <td>GASOLINA COMUM</td>\n      <td>1091</td>\n      <td>R$/l</td>\n      <td>2.042</td>\n      <td>0.108</td>\n      <td>1.700</td>\n      <td>2.599</td>\n      <td>0.252</td>\n      <td>0.053</td>\n      <td>1.79</td>\n      <td>0.046</td>\n      <td>1.63596</td>\n      <td>2.2137</td>\n      <td>0.026</td>\n      <td>2017</td>\n    </tr>\n    <tr>\n      <th>...</th>\n      <td>...</td>\n      <td>...</td>\n      <td>...</td>\n      <td>...</td>\n      <td>...</td>\n      <td>...</td>\n      <td>...</td>\n      <td>...</td>\n      <td>...</td>\n      <td>...</td>\n      <td>...</td>\n      <td>...</td>\n      <td>...</td>\n      <td>...</td>\n      <td>...</td>\n      <td>...</td>\n      <td>...</td>\n      <td>...</td>\n      <td>...</td>\n    </tr>\n    <tr>\n      <th>120366</th>\n      <td>2021-04-11</td>\n      <td>2021-04-17</td>\n      <td>SUDESTE</td>\n      <td>SAO PAULO</td>\n      <td>GASOLINA COMUM</td>\n      <td>1058</td>\n      <td>R$/l</td>\n      <td>5.206</td>\n      <td>0.234</td>\n      <td>3.899</td>\n      <td>5.999</td>\n      <td>-99999.0</td>\n      <td>0.045</td>\n      <td>-99999.0</td>\n      <td>-99999.0</td>\n      <td>-99999.0</td>\n      <td>-99999.0</td>\n      <td>-99999.0</td>\n      <td>2018</td>\n    </tr>\n    <tr>\n      <th>120538</th>\n      <td>2021-04-18</td>\n      <td>2021-04-24</td>\n      <td>SUDESTE</td>\n      <td>RIO DE JANEIRO</td>\n      <td>GASOLINA COMUM</td>\n      <td>240</td>\n      <td>R$/l</td>\n      <td>6.071</td>\n      <td>0.217</td>\n      <td>5.399</td>\n      <td>6.599</td>\n      <td>-99999.0</td>\n      <td>0.036</td>\n      <td>-99999.0</td>\n      <td>-99999.0</td>\n      <td>-99999.0</td>\n      <td>-99999.0</td>\n      <td>-99999.0</td>\n      <td>2020</td>\n    </tr>\n    <tr>\n      <th>120544</th>\n      <td>2021-04-18</td>\n      <td>2021-04-24</td>\n      <td>SUDESTE</td>\n      <td>SAO PAULO</td>\n      <td>GASOLINA COMUM</td>\n      <td>1075</td>\n      <td>R$/l</td>\n      <td>5.205</td>\n      <td>0.216</td>\n      <td>4.199</td>\n      <td>5.999</td>\n      <td>-99999.0</td>\n      <td>0.041</td>\n      <td>-99999.0</td>\n      <td>-99999.0</td>\n      <td>-99999.0</td>\n      <td>-99999.0</td>\n      <td>-99999.0</td>\n      <td>2021</td>\n    </tr>\n    <tr>\n      <th>120717</th>\n      <td>2021-04-25</td>\n      <td>2021-05-01</td>\n      <td>SUDESTE</td>\n      <td>RIO DE JANEIRO</td>\n      <td>GASOLINA COMUM</td>\n      <td>198</td>\n      <td>R$/l</td>\n      <td>6.099</td>\n      <td>0.208</td>\n      <td>5.480</td>\n      <td>6.599</td>\n      <td>-99999.0</td>\n      <td>0.034</td>\n      <td>-99999.0</td>\n      <td>-99999.0</td>\n      <td>-99999.0</td>\n      <td>-99999.0</td>\n      <td>-99999.0</td>\n      <td>2019</td>\n    </tr>\n    <tr>\n      <th>120723</th>\n      <td>2021-04-25</td>\n      <td>2021-05-01</td>\n      <td>SUDESTE</td>\n      <td>SAO PAULO</td>\n      <td>GASOLINA COMUM</td>\n      <td>1187</td>\n      <td>R$/l</td>\n      <td>5.265</td>\n      <td>0.218</td>\n      <td>4.279</td>\n      <td>6.099</td>\n      <td>-99999.0</td>\n      <td>0.041</td>\n      <td>-99999.0</td>\n      <td>-99999.0</td>\n      <td>-99999.0</td>\n      <td>-99999.0</td>\n      <td>-99999.0</td>\n      <td>2020</td>\n    </tr>\n  </tbody>\n</table>\n<p>1746 rows × 19 columns</p>\n</div>"
          },
          "metadata": {}
        }
      ],
      "execution_count": 116
    },
    {
      "id": "secondary-premises",
      "cell_type": "code",
      "source": "selecao_3 = (postos_sp_rj_gasolina['PREÇO MÉDIO REVENDA'] > 2)\n\npostos_sp_rj_gasolina_preco_maior_que_2 = postos_sp_rj_gasolina[selecao_3]\npostos_sp_rj_gasolina_preco_maior_que_2",
      "metadata": {
        "trusted": true
      },
      "outputs": [
        {
          "execution_count": 117,
          "output_type": "execute_result",
          "data": {
            "text/plain": "       DATA INICIAL  DATA FINAL   REGIÃO          ESTADO         PRODUTO  \\\n12086    2004-05-09  2004-05-15  SUDESTE  RIO DE JANEIRO  GASOLINA COMUM   \n12113    2004-05-16  2004-05-22  SUDESTE  RIO DE JANEIRO  GASOLINA COMUM   \n12140    2004-05-23  2004-05-29  SUDESTE  RIO DE JANEIRO  GASOLINA COMUM   \n12167    2004-05-30  2004-06-05  SUDESTE  RIO DE JANEIRO  GASOLINA COMUM   \n12194    2004-06-06  2004-06-12  SUDESTE  RIO DE JANEIRO  GASOLINA COMUM   \n...             ...         ...      ...             ...             ...   \n120366   2021-04-11  2021-04-17  SUDESTE       SAO PAULO  GASOLINA COMUM   \n120538   2021-04-18  2021-04-24  SUDESTE  RIO DE JANEIRO  GASOLINA COMUM   \n120544   2021-04-18  2021-04-24  SUDESTE       SAO PAULO  GASOLINA COMUM   \n120717   2021-04-25  2021-05-01  SUDESTE  RIO DE JANEIRO  GASOLINA COMUM   \n120723   2021-04-25  2021-05-01  SUDESTE       SAO PAULO  GASOLINA COMUM   \n\n        NÚMERO DE POSTOS PESQUISADOS UNIDADE DE MEDIDA  PREÇO MÉDIO REVENDA  \\\n12086                           1071              R$/l                2.045   \n12113                           1055              R$/l                2.040   \n12140                           1091              R$/l                2.042   \n12167                           1055              R$/l                2.053   \n12194                           1091              R$/l                2.063   \n...                              ...               ...                  ...   \n120366                          1058              R$/l                5.206   \n120538                           240              R$/l                6.071   \n120544                          1075              R$/l                5.205   \n120717                           198              R$/l                6.099   \n120723                          1187              R$/l                5.265   \n\n        DESVIO PADRÃO REVENDA  PREÇO MÍNIMO REVENDA  PREÇO MÁXIMO REVENDA  \\\n12086                   0.109                 1.700                 2.599   \n12113                   0.113                 1.700                 2.599   \n12140                   0.108                 1.700                 2.599   \n12167                   0.111                 1.730                 2.599   \n12194                   0.107                 1.760                 2.599   \n...                       ...                   ...                   ...   \n120366                  0.234                 3.899                 5.999   \n120538                  0.217                 5.399                 6.599   \n120544                  0.216                 4.199                 5.999   \n120717                  0.208                 5.480                 6.599   \n120723                  0.218                 4.279                 6.099   \n\n       MARGEM MÉDIA REVENDA  COEF DE VARIAÇÃO REVENDA  \\\n12086                 0.254                     0.053   \n12113                 0.252                     0.055   \n12140                 0.252                     0.053   \n12167                 0.251                     0.054   \n12194                 0.247                     0.052   \n...                     ...                       ...   \n120366             -99999.0                     0.045   \n120538             -99999.0                     0.036   \n120544             -99999.0                     0.041   \n120717             -99999.0                     0.034   \n120723             -99999.0                     0.041   \n\n       PREÇO MÉDIO DISTRIBUIÇÃO DESVIO PADRÃO DISTRIBUIÇÃO  \\\n12086                     1.791                      0.047   \n12113                     1.788                      0.049   \n12140                      1.79                      0.046   \n12167                     1.802                      0.055   \n12194                     1.816                      0.054   \n...                         ...                        ...   \n120366                 -99999.0                   -99999.0   \n120538                 -99999.0                   -99999.0   \n120544                 -99999.0                   -99999.0   \n120717                 -99999.0                   -99999.0   \n120723                 -99999.0                   -99999.0   \n\n       PREÇO MÍNIMO DISTRIBUIÇÃO PREÇO MÁXIMO DISTRIBUIÇÃO  \\\n12086                     1.6363                    1.9594   \n12113                     1.5943                   1.99651   \n12140                    1.63596                    2.2137   \n12167                       1.64                   2.21425   \n12194                       1.64                   2.32425   \n...                          ...                       ...   \n120366                  -99999.0                  -99999.0   \n120538                  -99999.0                  -99999.0   \n120544                  -99999.0                  -99999.0   \n120717                  -99999.0                  -99999.0   \n120723                  -99999.0                  -99999.0   \n\n       COEF DE VARIAÇÃO DISTRIBUIÇÃO   Ano  \n12086                          0.026  2018  \n12113                          0.027  2020  \n12140                          0.026  2017  \n12167                          0.031  2019  \n12194                           0.03  2021  \n...                              ...   ...  \n120366                      -99999.0  2018  \n120538                      -99999.0  2020  \n120544                      -99999.0  2021  \n120717                      -99999.0  2019  \n120723                      -99999.0  2020  \n\n[1740 rows x 19 columns]",
            "text/html": "<div>\n<style scoped>\n    .dataframe tbody tr th:only-of-type {\n        vertical-align: middle;\n    }\n\n    .dataframe tbody tr th {\n        vertical-align: top;\n    }\n\n    .dataframe thead th {\n        text-align: right;\n    }\n</style>\n<table border=\"1\" class=\"dataframe\">\n  <thead>\n    <tr style=\"text-align: right;\">\n      <th></th>\n      <th>DATA INICIAL</th>\n      <th>DATA FINAL</th>\n      <th>REGIÃO</th>\n      <th>ESTADO</th>\n      <th>PRODUTO</th>\n      <th>NÚMERO DE POSTOS PESQUISADOS</th>\n      <th>UNIDADE DE MEDIDA</th>\n      <th>PREÇO MÉDIO REVENDA</th>\n      <th>DESVIO PADRÃO REVENDA</th>\n      <th>PREÇO MÍNIMO REVENDA</th>\n      <th>PREÇO MÁXIMO REVENDA</th>\n      <th>MARGEM MÉDIA REVENDA</th>\n      <th>COEF DE VARIAÇÃO REVENDA</th>\n      <th>PREÇO MÉDIO DISTRIBUIÇÃO</th>\n      <th>DESVIO PADRÃO DISTRIBUIÇÃO</th>\n      <th>PREÇO MÍNIMO DISTRIBUIÇÃO</th>\n      <th>PREÇO MÁXIMO DISTRIBUIÇÃO</th>\n      <th>COEF DE VARIAÇÃO DISTRIBUIÇÃO</th>\n      <th>Ano</th>\n    </tr>\n  </thead>\n  <tbody>\n    <tr>\n      <th>12086</th>\n      <td>2004-05-09</td>\n      <td>2004-05-15</td>\n      <td>SUDESTE</td>\n      <td>RIO DE JANEIRO</td>\n      <td>GASOLINA COMUM</td>\n      <td>1071</td>\n      <td>R$/l</td>\n      <td>2.045</td>\n      <td>0.109</td>\n      <td>1.700</td>\n      <td>2.599</td>\n      <td>0.254</td>\n      <td>0.053</td>\n      <td>1.791</td>\n      <td>0.047</td>\n      <td>1.6363</td>\n      <td>1.9594</td>\n      <td>0.026</td>\n      <td>2018</td>\n    </tr>\n    <tr>\n      <th>12113</th>\n      <td>2004-05-16</td>\n      <td>2004-05-22</td>\n      <td>SUDESTE</td>\n      <td>RIO DE JANEIRO</td>\n      <td>GASOLINA COMUM</td>\n      <td>1055</td>\n      <td>R$/l</td>\n      <td>2.040</td>\n      <td>0.113</td>\n      <td>1.700</td>\n      <td>2.599</td>\n      <td>0.252</td>\n      <td>0.055</td>\n      <td>1.788</td>\n      <td>0.049</td>\n      <td>1.5943</td>\n      <td>1.99651</td>\n      <td>0.027</td>\n      <td>2020</td>\n    </tr>\n    <tr>\n      <th>12140</th>\n      <td>2004-05-23</td>\n      <td>2004-05-29</td>\n      <td>SUDESTE</td>\n      <td>RIO DE JANEIRO</td>\n      <td>GASOLINA COMUM</td>\n      <td>1091</td>\n      <td>R$/l</td>\n      <td>2.042</td>\n      <td>0.108</td>\n      <td>1.700</td>\n      <td>2.599</td>\n      <td>0.252</td>\n      <td>0.053</td>\n      <td>1.79</td>\n      <td>0.046</td>\n      <td>1.63596</td>\n      <td>2.2137</td>\n      <td>0.026</td>\n      <td>2017</td>\n    </tr>\n    <tr>\n      <th>12167</th>\n      <td>2004-05-30</td>\n      <td>2004-06-05</td>\n      <td>SUDESTE</td>\n      <td>RIO DE JANEIRO</td>\n      <td>GASOLINA COMUM</td>\n      <td>1055</td>\n      <td>R$/l</td>\n      <td>2.053</td>\n      <td>0.111</td>\n      <td>1.730</td>\n      <td>2.599</td>\n      <td>0.251</td>\n      <td>0.054</td>\n      <td>1.802</td>\n      <td>0.055</td>\n      <td>1.64</td>\n      <td>2.21425</td>\n      <td>0.031</td>\n      <td>2019</td>\n    </tr>\n    <tr>\n      <th>12194</th>\n      <td>2004-06-06</td>\n      <td>2004-06-12</td>\n      <td>SUDESTE</td>\n      <td>RIO DE JANEIRO</td>\n      <td>GASOLINA COMUM</td>\n      <td>1091</td>\n      <td>R$/l</td>\n      <td>2.063</td>\n      <td>0.107</td>\n      <td>1.760</td>\n      <td>2.599</td>\n      <td>0.247</td>\n      <td>0.052</td>\n      <td>1.816</td>\n      <td>0.054</td>\n      <td>1.64</td>\n      <td>2.32425</td>\n      <td>0.03</td>\n      <td>2021</td>\n    </tr>\n    <tr>\n      <th>...</th>\n      <td>...</td>\n      <td>...</td>\n      <td>...</td>\n      <td>...</td>\n      <td>...</td>\n      <td>...</td>\n      <td>...</td>\n      <td>...</td>\n      <td>...</td>\n      <td>...</td>\n      <td>...</td>\n      <td>...</td>\n      <td>...</td>\n      <td>...</td>\n      <td>...</td>\n      <td>...</td>\n      <td>...</td>\n      <td>...</td>\n      <td>...</td>\n    </tr>\n    <tr>\n      <th>120366</th>\n      <td>2021-04-11</td>\n      <td>2021-04-17</td>\n      <td>SUDESTE</td>\n      <td>SAO PAULO</td>\n      <td>GASOLINA COMUM</td>\n      <td>1058</td>\n      <td>R$/l</td>\n      <td>5.206</td>\n      <td>0.234</td>\n      <td>3.899</td>\n      <td>5.999</td>\n      <td>-99999.0</td>\n      <td>0.045</td>\n      <td>-99999.0</td>\n      <td>-99999.0</td>\n      <td>-99999.0</td>\n      <td>-99999.0</td>\n      <td>-99999.0</td>\n      <td>2018</td>\n    </tr>\n    <tr>\n      <th>120538</th>\n      <td>2021-04-18</td>\n      <td>2021-04-24</td>\n      <td>SUDESTE</td>\n      <td>RIO DE JANEIRO</td>\n      <td>GASOLINA COMUM</td>\n      <td>240</td>\n      <td>R$/l</td>\n      <td>6.071</td>\n      <td>0.217</td>\n      <td>5.399</td>\n      <td>6.599</td>\n      <td>-99999.0</td>\n      <td>0.036</td>\n      <td>-99999.0</td>\n      <td>-99999.0</td>\n      <td>-99999.0</td>\n      <td>-99999.0</td>\n      <td>-99999.0</td>\n      <td>2020</td>\n    </tr>\n    <tr>\n      <th>120544</th>\n      <td>2021-04-18</td>\n      <td>2021-04-24</td>\n      <td>SUDESTE</td>\n      <td>SAO PAULO</td>\n      <td>GASOLINA COMUM</td>\n      <td>1075</td>\n      <td>R$/l</td>\n      <td>5.205</td>\n      <td>0.216</td>\n      <td>4.199</td>\n      <td>5.999</td>\n      <td>-99999.0</td>\n      <td>0.041</td>\n      <td>-99999.0</td>\n      <td>-99999.0</td>\n      <td>-99999.0</td>\n      <td>-99999.0</td>\n      <td>-99999.0</td>\n      <td>2021</td>\n    </tr>\n    <tr>\n      <th>120717</th>\n      <td>2021-04-25</td>\n      <td>2021-05-01</td>\n      <td>SUDESTE</td>\n      <td>RIO DE JANEIRO</td>\n      <td>GASOLINA COMUM</td>\n      <td>198</td>\n      <td>R$/l</td>\n      <td>6.099</td>\n      <td>0.208</td>\n      <td>5.480</td>\n      <td>6.599</td>\n      <td>-99999.0</td>\n      <td>0.034</td>\n      <td>-99999.0</td>\n      <td>-99999.0</td>\n      <td>-99999.0</td>\n      <td>-99999.0</td>\n      <td>-99999.0</td>\n      <td>2019</td>\n    </tr>\n    <tr>\n      <th>120723</th>\n      <td>2021-04-25</td>\n      <td>2021-05-01</td>\n      <td>SUDESTE</td>\n      <td>SAO PAULO</td>\n      <td>GASOLINA COMUM</td>\n      <td>1187</td>\n      <td>R$/l</td>\n      <td>5.265</td>\n      <td>0.218</td>\n      <td>4.279</td>\n      <td>6.099</td>\n      <td>-99999.0</td>\n      <td>0.041</td>\n      <td>-99999.0</td>\n      <td>-99999.0</td>\n      <td>-99999.0</td>\n      <td>-99999.0</td>\n      <td>-99999.0</td>\n      <td>2020</td>\n    </tr>\n  </tbody>\n</table>\n<p>1740 rows × 19 columns</p>\n</div>"
          },
          "metadata": {}
        }
      ],
      "execution_count": 117
    },
    {
      "id": "visible-setup",
      "cell_type": "markdown",
      "source": "#### **Selecionando registros dos anos de 2017, 2019 e 2021**",
      "metadata": {}
    },
    {
      "id": "critical-mississippi",
      "cell_type": "code",
      "source": "data.head()",
      "metadata": {
        "trusted": true
      },
      "outputs": [
        {
          "execution_count": 119,
          "output_type": "execute_result",
          "data": {
            "text/plain": "  DATA INICIAL  DATA FINAL        REGIÃO              ESTADO  \\\n0   2004-05-09  2004-05-15  CENTRO OESTE    DISTRITO FEDERAL   \n1   2004-05-09  2004-05-15  CENTRO OESTE               GOIAS   \n2   2004-05-09  2004-05-15  CENTRO OESTE         MATO GROSSO   \n3   2004-05-09  2004-05-15  CENTRO OESTE  MATO GROSSO DO SUL   \n4   2004-05-09  2004-05-15      NORDESTE             ALAGOAS   \n\n            PRODUTO  NÚMERO DE POSTOS PESQUISADOS UNIDADE DE MEDIDA  \\\n0  ETANOL HIDRATADO                           127              R$/l   \n1  ETANOL HIDRATADO                           387              R$/l   \n2  ETANOL HIDRATADO                           192              R$/l   \n3  ETANOL HIDRATADO                           162              R$/l   \n4  ETANOL HIDRATADO                           103              R$/l   \n\n   PREÇO MÉDIO REVENDA  DESVIO PADRÃO REVENDA  PREÇO MÍNIMO REVENDA  \\\n0                1.288                  0.016                  1.19   \n1                1.162                  0.114                  0.89   \n2                1.389                  0.097                  1.18   \n3                1.262                  0.070                  1.09   \n4                1.181                  0.078                  1.05   \n\n   PREÇO MÁXIMO REVENDA MARGEM MÉDIA REVENDA  COEF DE VARIAÇÃO REVENDA  \\\n0                 1.350                0.463                     0.012   \n1                 1.449                0.399                     0.098   \n2                 1.760                0.419                     0.070   \n3                 1.509                0.432                     0.055   \n4                 1.400                 0.24                     0.066   \n\n  PREÇO MÉDIO DISTRIBUIÇÃO DESVIO PADRÃO DISTRIBUIÇÃO  \\\n0                    0.825                       0.11   \n1                    0.763                      0.088   \n2                     0.97                      0.095   \n3                     0.83                      0.119   \n4                    0.941                      0.077   \n\n  PREÇO MÍNIMO DISTRIBUIÇÃO PREÇO MÁXIMO DISTRIBUIÇÃO  \\\n0                    0.4201                    0.9666   \n1                    0.5013                      1.05   \n2                    0.5614                     1.161   \n3                    0.5991                   1.22242   \n4                    0.7441                    1.0317   \n\n  COEF DE VARIAÇÃO DISTRIBUIÇÃO   Ano  \n0                         0.133  2017  \n1                         0.115  2018  \n2                         0.098  2019  \n3                         0.143  2020  \n4                         0.082  2021  ",
            "text/html": "<div>\n<style scoped>\n    .dataframe tbody tr th:only-of-type {\n        vertical-align: middle;\n    }\n\n    .dataframe tbody tr th {\n        vertical-align: top;\n    }\n\n    .dataframe thead th {\n        text-align: right;\n    }\n</style>\n<table border=\"1\" class=\"dataframe\">\n  <thead>\n    <tr style=\"text-align: right;\">\n      <th></th>\n      <th>DATA INICIAL</th>\n      <th>DATA FINAL</th>\n      <th>REGIÃO</th>\n      <th>ESTADO</th>\n      <th>PRODUTO</th>\n      <th>NÚMERO DE POSTOS PESQUISADOS</th>\n      <th>UNIDADE DE MEDIDA</th>\n      <th>PREÇO MÉDIO REVENDA</th>\n      <th>DESVIO PADRÃO REVENDA</th>\n      <th>PREÇO MÍNIMO REVENDA</th>\n      <th>PREÇO MÁXIMO REVENDA</th>\n      <th>MARGEM MÉDIA REVENDA</th>\n      <th>COEF DE VARIAÇÃO REVENDA</th>\n      <th>PREÇO MÉDIO DISTRIBUIÇÃO</th>\n      <th>DESVIO PADRÃO DISTRIBUIÇÃO</th>\n      <th>PREÇO MÍNIMO DISTRIBUIÇÃO</th>\n      <th>PREÇO MÁXIMO DISTRIBUIÇÃO</th>\n      <th>COEF DE VARIAÇÃO DISTRIBUIÇÃO</th>\n      <th>Ano</th>\n    </tr>\n  </thead>\n  <tbody>\n    <tr>\n      <th>0</th>\n      <td>2004-05-09</td>\n      <td>2004-05-15</td>\n      <td>CENTRO OESTE</td>\n      <td>DISTRITO FEDERAL</td>\n      <td>ETANOL HIDRATADO</td>\n      <td>127</td>\n      <td>R$/l</td>\n      <td>1.288</td>\n      <td>0.016</td>\n      <td>1.19</td>\n      <td>1.350</td>\n      <td>0.463</td>\n      <td>0.012</td>\n      <td>0.825</td>\n      <td>0.11</td>\n      <td>0.4201</td>\n      <td>0.9666</td>\n      <td>0.133</td>\n      <td>2017</td>\n    </tr>\n    <tr>\n      <th>1</th>\n      <td>2004-05-09</td>\n      <td>2004-05-15</td>\n      <td>CENTRO OESTE</td>\n      <td>GOIAS</td>\n      <td>ETANOL HIDRATADO</td>\n      <td>387</td>\n      <td>R$/l</td>\n      <td>1.162</td>\n      <td>0.114</td>\n      <td>0.89</td>\n      <td>1.449</td>\n      <td>0.399</td>\n      <td>0.098</td>\n      <td>0.763</td>\n      <td>0.088</td>\n      <td>0.5013</td>\n      <td>1.05</td>\n      <td>0.115</td>\n      <td>2018</td>\n    </tr>\n    <tr>\n      <th>2</th>\n      <td>2004-05-09</td>\n      <td>2004-05-15</td>\n      <td>CENTRO OESTE</td>\n      <td>MATO GROSSO</td>\n      <td>ETANOL HIDRATADO</td>\n      <td>192</td>\n      <td>R$/l</td>\n      <td>1.389</td>\n      <td>0.097</td>\n      <td>1.18</td>\n      <td>1.760</td>\n      <td>0.419</td>\n      <td>0.070</td>\n      <td>0.97</td>\n      <td>0.095</td>\n      <td>0.5614</td>\n      <td>1.161</td>\n      <td>0.098</td>\n      <td>2019</td>\n    </tr>\n    <tr>\n      <th>3</th>\n      <td>2004-05-09</td>\n      <td>2004-05-15</td>\n      <td>CENTRO OESTE</td>\n      <td>MATO GROSSO DO SUL</td>\n      <td>ETANOL HIDRATADO</td>\n      <td>162</td>\n      <td>R$/l</td>\n      <td>1.262</td>\n      <td>0.070</td>\n      <td>1.09</td>\n      <td>1.509</td>\n      <td>0.432</td>\n      <td>0.055</td>\n      <td>0.83</td>\n      <td>0.119</td>\n      <td>0.5991</td>\n      <td>1.22242</td>\n      <td>0.143</td>\n      <td>2020</td>\n    </tr>\n    <tr>\n      <th>4</th>\n      <td>2004-05-09</td>\n      <td>2004-05-15</td>\n      <td>NORDESTE</td>\n      <td>ALAGOAS</td>\n      <td>ETANOL HIDRATADO</td>\n      <td>103</td>\n      <td>R$/l</td>\n      <td>1.181</td>\n      <td>0.078</td>\n      <td>1.05</td>\n      <td>1.400</td>\n      <td>0.24</td>\n      <td>0.066</td>\n      <td>0.941</td>\n      <td>0.077</td>\n      <td>0.7441</td>\n      <td>1.0317</td>\n      <td>0.082</td>\n      <td>2021</td>\n    </tr>\n  </tbody>\n</table>\n</div>"
          },
          "metadata": {}
        }
      ],
      "execution_count": 119
    },
    {
      "id": "operational-border",
      "cell_type": "markdown",
      "source": "**ALTERNATIVA 1**",
      "metadata": {}
    },
    {
      "id": "oriental-sitting",
      "cell_type": "code",
      "source": "selecao = (data['Ano'] == 2017) | (data['Ano'] == 2019) | (data['Ano'] == 2021)\ndata[selecao]",
      "metadata": {
        "trusted": true
      },
      "outputs": [
        {
          "execution_count": 122,
          "output_type": "execute_result",
          "data": {
            "text/plain": "       DATA INICIAL  DATA FINAL        REGIÃO               ESTADO  \\\n0        2004-05-09  2004-05-15  CENTRO OESTE     DISTRITO FEDERAL   \n2        2004-05-09  2004-05-15  CENTRO OESTE          MATO GROSSO   \n4        2004-05-09  2004-05-15      NORDESTE              ALAGOAS   \n5        2004-05-09  2004-05-15      NORDESTE                BAHIA   \n7        2004-05-09  2004-05-15      NORDESTE             MARANHAO   \n...             ...         ...           ...                  ...   \n120815   2021-04-25  2021-05-01      NORDESTE  RIO GRANDE DO NORTE   \n120817   2021-04-25  2021-05-01         NORTE             RONDONIA   \n120819   2021-04-25  2021-05-01           SUL       SANTA CATARINA   \n120820   2021-04-25  2021-05-01       SUDESTE            SAO PAULO   \n120822   2021-04-25  2021-05-01         NORTE            TOCANTINS   \n\n                 PRODUTO  NÚMERO DE POSTOS PESQUISADOS UNIDADE DE MEDIDA  \\\n0       ETANOL HIDRATADO                           127              R$/l   \n2       ETANOL HIDRATADO                           192              R$/l   \n4       ETANOL HIDRATADO                           103              R$/l   \n5       ETANOL HIDRATADO                           408              R$/l   \n7       ETANOL HIDRATADO                           105              R$/l   \n...                  ...                           ...               ...   \n120815   OLEO DIESEL S10                            24              R$/l   \n120817   OLEO DIESEL S10                            30              R$/l   \n120819   OLEO DIESEL S10                           100              R$/l   \n120820   OLEO DIESEL S10                           886              R$/l   \n120822   OLEO DIESEL S10                            18              R$/l   \n\n        PREÇO MÉDIO REVENDA  DESVIO PADRÃO REVENDA  PREÇO MÍNIMO REVENDA  \\\n0                     1.288                  0.016                 1.190   \n2                     1.389                  0.097                 1.180   \n4                     1.181                  0.078                 1.050   \n5                     1.383                  0.132                 0.999   \n7                     1.631                  0.158                 1.350   \n...                     ...                    ...                   ...   \n120815                4.699                  0.101                 4.490   \n120817                4.503                  0.157                 4.250   \n120819                4.141                  0.187                 3.838   \n120820                4.246                  0.216                 3.769   \n120822                4.352                  0.156                 4.199   \n\n        PREÇO MÁXIMO REVENDA MARGEM MÉDIA REVENDA  COEF DE VARIAÇÃO REVENDA  \\\n0                      1.350                0.463                     0.012   \n2                      1.760                0.419                     0.070   \n4                      1.400                 0.24                     0.066   \n5                      2.050                0.426                     0.095   \n7                      2.000                0.515                     0.097   \n...                      ...                  ...                       ...   \n120815                 4.890             -99999.0                     0.021   \n120817                 4.799             -99999.0                     0.035   \n120819                 4.739             -99999.0                     0.045   \n120820                 5.199             -99999.0                     0.051   \n120822                 4.699             -99999.0                     0.036   \n\n       PREÇO MÉDIO DISTRIBUIÇÃO DESVIO PADRÃO DISTRIBUIÇÃO  \\\n0                         0.825                       0.11   \n2                          0.97                      0.095   \n4                         0.941                      0.077   \n5                         0.957                      0.128   \n7                         1.116                      0.091   \n...                         ...                        ...   \n120815                 -99999.0                   -99999.0   \n120817                 -99999.0                   -99999.0   \n120819                 -99999.0                   -99999.0   \n120820                 -99999.0                   -99999.0   \n120822                 -99999.0                   -99999.0   \n\n       PREÇO MÍNIMO DISTRIBUIÇÃO PREÇO MÁXIMO DISTRIBUIÇÃO  \\\n0                         0.4201                    0.9666   \n2                         0.5614                     1.161   \n4                         0.7441                    1.0317   \n5                         0.5686                      1.35   \n7                         0.9923                   1.36183   \n...                          ...                       ...   \n120815                  -99999.0                  -99999.0   \n120817                  -99999.0                  -99999.0   \n120819                  -99999.0                  -99999.0   \n120820                  -99999.0                  -99999.0   \n120822                  -99999.0                  -99999.0   \n\n       COEF DE VARIAÇÃO DISTRIBUIÇÃO   Ano  \n0                              0.133  2017  \n2                              0.098  2019  \n4                              0.082  2021  \n5                              0.134  2017  \n7                              0.082  2019  \n...                              ...   ...  \n120815                      -99999.0  2017  \n120817                      -99999.0  2019  \n120819                      -99999.0  2021  \n120820                      -99999.0  2017  \n120822                      -99999.0  2019  \n\n[72494 rows x 19 columns]",
            "text/html": "<div>\n<style scoped>\n    .dataframe tbody tr th:only-of-type {\n        vertical-align: middle;\n    }\n\n    .dataframe tbody tr th {\n        vertical-align: top;\n    }\n\n    .dataframe thead th {\n        text-align: right;\n    }\n</style>\n<table border=\"1\" class=\"dataframe\">\n  <thead>\n    <tr style=\"text-align: right;\">\n      <th></th>\n      <th>DATA INICIAL</th>\n      <th>DATA FINAL</th>\n      <th>REGIÃO</th>\n      <th>ESTADO</th>\n      <th>PRODUTO</th>\n      <th>NÚMERO DE POSTOS PESQUISADOS</th>\n      <th>UNIDADE DE MEDIDA</th>\n      <th>PREÇO MÉDIO REVENDA</th>\n      <th>DESVIO PADRÃO REVENDA</th>\n      <th>PREÇO MÍNIMO REVENDA</th>\n      <th>PREÇO MÁXIMO REVENDA</th>\n      <th>MARGEM MÉDIA REVENDA</th>\n      <th>COEF DE VARIAÇÃO REVENDA</th>\n      <th>PREÇO MÉDIO DISTRIBUIÇÃO</th>\n      <th>DESVIO PADRÃO DISTRIBUIÇÃO</th>\n      <th>PREÇO MÍNIMO DISTRIBUIÇÃO</th>\n      <th>PREÇO MÁXIMO DISTRIBUIÇÃO</th>\n      <th>COEF DE VARIAÇÃO DISTRIBUIÇÃO</th>\n      <th>Ano</th>\n    </tr>\n  </thead>\n  <tbody>\n    <tr>\n      <th>0</th>\n      <td>2004-05-09</td>\n      <td>2004-05-15</td>\n      <td>CENTRO OESTE</td>\n      <td>DISTRITO FEDERAL</td>\n      <td>ETANOL HIDRATADO</td>\n      <td>127</td>\n      <td>R$/l</td>\n      <td>1.288</td>\n      <td>0.016</td>\n      <td>1.190</td>\n      <td>1.350</td>\n      <td>0.463</td>\n      <td>0.012</td>\n      <td>0.825</td>\n      <td>0.11</td>\n      <td>0.4201</td>\n      <td>0.9666</td>\n      <td>0.133</td>\n      <td>2017</td>\n    </tr>\n    <tr>\n      <th>2</th>\n      <td>2004-05-09</td>\n      <td>2004-05-15</td>\n      <td>CENTRO OESTE</td>\n      <td>MATO GROSSO</td>\n      <td>ETANOL HIDRATADO</td>\n      <td>192</td>\n      <td>R$/l</td>\n      <td>1.389</td>\n      <td>0.097</td>\n      <td>1.180</td>\n      <td>1.760</td>\n      <td>0.419</td>\n      <td>0.070</td>\n      <td>0.97</td>\n      <td>0.095</td>\n      <td>0.5614</td>\n      <td>1.161</td>\n      <td>0.098</td>\n      <td>2019</td>\n    </tr>\n    <tr>\n      <th>4</th>\n      <td>2004-05-09</td>\n      <td>2004-05-15</td>\n      <td>NORDESTE</td>\n      <td>ALAGOAS</td>\n      <td>ETANOL HIDRATADO</td>\n      <td>103</td>\n      <td>R$/l</td>\n      <td>1.181</td>\n      <td>0.078</td>\n      <td>1.050</td>\n      <td>1.400</td>\n      <td>0.24</td>\n      <td>0.066</td>\n      <td>0.941</td>\n      <td>0.077</td>\n      <td>0.7441</td>\n      <td>1.0317</td>\n      <td>0.082</td>\n      <td>2021</td>\n    </tr>\n    <tr>\n      <th>5</th>\n      <td>2004-05-09</td>\n      <td>2004-05-15</td>\n      <td>NORDESTE</td>\n      <td>BAHIA</td>\n      <td>ETANOL HIDRATADO</td>\n      <td>408</td>\n      <td>R$/l</td>\n      <td>1.383</td>\n      <td>0.132</td>\n      <td>0.999</td>\n      <td>2.050</td>\n      <td>0.426</td>\n      <td>0.095</td>\n      <td>0.957</td>\n      <td>0.128</td>\n      <td>0.5686</td>\n      <td>1.35</td>\n      <td>0.134</td>\n      <td>2017</td>\n    </tr>\n    <tr>\n      <th>7</th>\n      <td>2004-05-09</td>\n      <td>2004-05-15</td>\n      <td>NORDESTE</td>\n      <td>MARANHAO</td>\n      <td>ETANOL HIDRATADO</td>\n      <td>105</td>\n      <td>R$/l</td>\n      <td>1.631</td>\n      <td>0.158</td>\n      <td>1.350</td>\n      <td>2.000</td>\n      <td>0.515</td>\n      <td>0.097</td>\n      <td>1.116</td>\n      <td>0.091</td>\n      <td>0.9923</td>\n      <td>1.36183</td>\n      <td>0.082</td>\n      <td>2019</td>\n    </tr>\n    <tr>\n      <th>...</th>\n      <td>...</td>\n      <td>...</td>\n      <td>...</td>\n      <td>...</td>\n      <td>...</td>\n      <td>...</td>\n      <td>...</td>\n      <td>...</td>\n      <td>...</td>\n      <td>...</td>\n      <td>...</td>\n      <td>...</td>\n      <td>...</td>\n      <td>...</td>\n      <td>...</td>\n      <td>...</td>\n      <td>...</td>\n      <td>...</td>\n      <td>...</td>\n    </tr>\n    <tr>\n      <th>120815</th>\n      <td>2021-04-25</td>\n      <td>2021-05-01</td>\n      <td>NORDESTE</td>\n      <td>RIO GRANDE DO NORTE</td>\n      <td>OLEO DIESEL S10</td>\n      <td>24</td>\n      <td>R$/l</td>\n      <td>4.699</td>\n      <td>0.101</td>\n      <td>4.490</td>\n      <td>4.890</td>\n      <td>-99999.0</td>\n      <td>0.021</td>\n      <td>-99999.0</td>\n      <td>-99999.0</td>\n      <td>-99999.0</td>\n      <td>-99999.0</td>\n      <td>-99999.0</td>\n      <td>2017</td>\n    </tr>\n    <tr>\n      <th>120817</th>\n      <td>2021-04-25</td>\n      <td>2021-05-01</td>\n      <td>NORTE</td>\n      <td>RONDONIA</td>\n      <td>OLEO DIESEL S10</td>\n      <td>30</td>\n      <td>R$/l</td>\n      <td>4.503</td>\n      <td>0.157</td>\n      <td>4.250</td>\n      <td>4.799</td>\n      <td>-99999.0</td>\n      <td>0.035</td>\n      <td>-99999.0</td>\n      <td>-99999.0</td>\n      <td>-99999.0</td>\n      <td>-99999.0</td>\n      <td>-99999.0</td>\n      <td>2019</td>\n    </tr>\n    <tr>\n      <th>120819</th>\n      <td>2021-04-25</td>\n      <td>2021-05-01</td>\n      <td>SUL</td>\n      <td>SANTA CATARINA</td>\n      <td>OLEO DIESEL S10</td>\n      <td>100</td>\n      <td>R$/l</td>\n      <td>4.141</td>\n      <td>0.187</td>\n      <td>3.838</td>\n      <td>4.739</td>\n      <td>-99999.0</td>\n      <td>0.045</td>\n      <td>-99999.0</td>\n      <td>-99999.0</td>\n      <td>-99999.0</td>\n      <td>-99999.0</td>\n      <td>-99999.0</td>\n      <td>2021</td>\n    </tr>\n    <tr>\n      <th>120820</th>\n      <td>2021-04-25</td>\n      <td>2021-05-01</td>\n      <td>SUDESTE</td>\n      <td>SAO PAULO</td>\n      <td>OLEO DIESEL S10</td>\n      <td>886</td>\n      <td>R$/l</td>\n      <td>4.246</td>\n      <td>0.216</td>\n      <td>3.769</td>\n      <td>5.199</td>\n      <td>-99999.0</td>\n      <td>0.051</td>\n      <td>-99999.0</td>\n      <td>-99999.0</td>\n      <td>-99999.0</td>\n      <td>-99999.0</td>\n      <td>-99999.0</td>\n      <td>2017</td>\n    </tr>\n    <tr>\n      <th>120822</th>\n      <td>2021-04-25</td>\n      <td>2021-05-01</td>\n      <td>NORTE</td>\n      <td>TOCANTINS</td>\n      <td>OLEO DIESEL S10</td>\n      <td>18</td>\n      <td>R$/l</td>\n      <td>4.352</td>\n      <td>0.156</td>\n      <td>4.199</td>\n      <td>4.699</td>\n      <td>-99999.0</td>\n      <td>0.036</td>\n      <td>-99999.0</td>\n      <td>-99999.0</td>\n      <td>-99999.0</td>\n      <td>-99999.0</td>\n      <td>-99999.0</td>\n      <td>2019</td>\n    </tr>\n  </tbody>\n</table>\n<p>72494 rows × 19 columns</p>\n</div>"
          },
          "metadata": {}
        }
      ],
      "execution_count": 122
    },
    {
      "id": "nonprofit-martin",
      "cell_type": "markdown",
      "source": "**ALTERNATIVA 2**",
      "metadata": {}
    },
    {
      "id": "increased-agent",
      "cell_type": "code",
      "source": "lista_de_anos = [2017, 2019, 2021]\nselecao = data['Ano'].isin(lista_de_anos)  # retorna uma Series de booleanos\ndata[selecao]",
      "metadata": {
        "trusted": true
      },
      "outputs": [
        {
          "execution_count": 125,
          "output_type": "execute_result",
          "data": {
            "text/plain": "       DATA INICIAL  DATA FINAL        REGIÃO               ESTADO  \\\n0        2004-05-09  2004-05-15  CENTRO OESTE     DISTRITO FEDERAL   \n2        2004-05-09  2004-05-15  CENTRO OESTE          MATO GROSSO   \n4        2004-05-09  2004-05-15      NORDESTE              ALAGOAS   \n5        2004-05-09  2004-05-15      NORDESTE                BAHIA   \n7        2004-05-09  2004-05-15      NORDESTE             MARANHAO   \n...             ...         ...           ...                  ...   \n120815   2021-04-25  2021-05-01      NORDESTE  RIO GRANDE DO NORTE   \n120817   2021-04-25  2021-05-01         NORTE             RONDONIA   \n120819   2021-04-25  2021-05-01           SUL       SANTA CATARINA   \n120820   2021-04-25  2021-05-01       SUDESTE            SAO PAULO   \n120822   2021-04-25  2021-05-01         NORTE            TOCANTINS   \n\n                 PRODUTO  NÚMERO DE POSTOS PESQUISADOS UNIDADE DE MEDIDA  \\\n0       ETANOL HIDRATADO                           127              R$/l   \n2       ETANOL HIDRATADO                           192              R$/l   \n4       ETANOL HIDRATADO                           103              R$/l   \n5       ETANOL HIDRATADO                           408              R$/l   \n7       ETANOL HIDRATADO                           105              R$/l   \n...                  ...                           ...               ...   \n120815   OLEO DIESEL S10                            24              R$/l   \n120817   OLEO DIESEL S10                            30              R$/l   \n120819   OLEO DIESEL S10                           100              R$/l   \n120820   OLEO DIESEL S10                           886              R$/l   \n120822   OLEO DIESEL S10                            18              R$/l   \n\n        PREÇO MÉDIO REVENDA  DESVIO PADRÃO REVENDA  PREÇO MÍNIMO REVENDA  \\\n0                     1.288                  0.016                 1.190   \n2                     1.389                  0.097                 1.180   \n4                     1.181                  0.078                 1.050   \n5                     1.383                  0.132                 0.999   \n7                     1.631                  0.158                 1.350   \n...                     ...                    ...                   ...   \n120815                4.699                  0.101                 4.490   \n120817                4.503                  0.157                 4.250   \n120819                4.141                  0.187                 3.838   \n120820                4.246                  0.216                 3.769   \n120822                4.352                  0.156                 4.199   \n\n        PREÇO MÁXIMO REVENDA MARGEM MÉDIA REVENDA  COEF DE VARIAÇÃO REVENDA  \\\n0                      1.350                0.463                     0.012   \n2                      1.760                0.419                     0.070   \n4                      1.400                 0.24                     0.066   \n5                      2.050                0.426                     0.095   \n7                      2.000                0.515                     0.097   \n...                      ...                  ...                       ...   \n120815                 4.890             -99999.0                     0.021   \n120817                 4.799             -99999.0                     0.035   \n120819                 4.739             -99999.0                     0.045   \n120820                 5.199             -99999.0                     0.051   \n120822                 4.699             -99999.0                     0.036   \n\n       PREÇO MÉDIO DISTRIBUIÇÃO DESVIO PADRÃO DISTRIBUIÇÃO  \\\n0                         0.825                       0.11   \n2                          0.97                      0.095   \n4                         0.941                      0.077   \n5                         0.957                      0.128   \n7                         1.116                      0.091   \n...                         ...                        ...   \n120815                 -99999.0                   -99999.0   \n120817                 -99999.0                   -99999.0   \n120819                 -99999.0                   -99999.0   \n120820                 -99999.0                   -99999.0   \n120822                 -99999.0                   -99999.0   \n\n       PREÇO MÍNIMO DISTRIBUIÇÃO PREÇO MÁXIMO DISTRIBUIÇÃO  \\\n0                         0.4201                    0.9666   \n2                         0.5614                     1.161   \n4                         0.7441                    1.0317   \n5                         0.5686                      1.35   \n7                         0.9923                   1.36183   \n...                          ...                       ...   \n120815                  -99999.0                  -99999.0   \n120817                  -99999.0                  -99999.0   \n120819                  -99999.0                  -99999.0   \n120820                  -99999.0                  -99999.0   \n120822                  -99999.0                  -99999.0   \n\n       COEF DE VARIAÇÃO DISTRIBUIÇÃO   Ano  \n0                              0.133  2017  \n2                              0.098  2019  \n4                              0.082  2021  \n5                              0.134  2017  \n7                              0.082  2019  \n...                              ...   ...  \n120815                      -99999.0  2017  \n120817                      -99999.0  2019  \n120819                      -99999.0  2021  \n120820                      -99999.0  2017  \n120822                      -99999.0  2019  \n\n[72494 rows x 19 columns]",
            "text/html": "<div>\n<style scoped>\n    .dataframe tbody tr th:only-of-type {\n        vertical-align: middle;\n    }\n\n    .dataframe tbody tr th {\n        vertical-align: top;\n    }\n\n    .dataframe thead th {\n        text-align: right;\n    }\n</style>\n<table border=\"1\" class=\"dataframe\">\n  <thead>\n    <tr style=\"text-align: right;\">\n      <th></th>\n      <th>DATA INICIAL</th>\n      <th>DATA FINAL</th>\n      <th>REGIÃO</th>\n      <th>ESTADO</th>\n      <th>PRODUTO</th>\n      <th>NÚMERO DE POSTOS PESQUISADOS</th>\n      <th>UNIDADE DE MEDIDA</th>\n      <th>PREÇO MÉDIO REVENDA</th>\n      <th>DESVIO PADRÃO REVENDA</th>\n      <th>PREÇO MÍNIMO REVENDA</th>\n      <th>PREÇO MÁXIMO REVENDA</th>\n      <th>MARGEM MÉDIA REVENDA</th>\n      <th>COEF DE VARIAÇÃO REVENDA</th>\n      <th>PREÇO MÉDIO DISTRIBUIÇÃO</th>\n      <th>DESVIO PADRÃO DISTRIBUIÇÃO</th>\n      <th>PREÇO MÍNIMO DISTRIBUIÇÃO</th>\n      <th>PREÇO MÁXIMO DISTRIBUIÇÃO</th>\n      <th>COEF DE VARIAÇÃO DISTRIBUIÇÃO</th>\n      <th>Ano</th>\n    </tr>\n  </thead>\n  <tbody>\n    <tr>\n      <th>0</th>\n      <td>2004-05-09</td>\n      <td>2004-05-15</td>\n      <td>CENTRO OESTE</td>\n      <td>DISTRITO FEDERAL</td>\n      <td>ETANOL HIDRATADO</td>\n      <td>127</td>\n      <td>R$/l</td>\n      <td>1.288</td>\n      <td>0.016</td>\n      <td>1.190</td>\n      <td>1.350</td>\n      <td>0.463</td>\n      <td>0.012</td>\n      <td>0.825</td>\n      <td>0.11</td>\n      <td>0.4201</td>\n      <td>0.9666</td>\n      <td>0.133</td>\n      <td>2017</td>\n    </tr>\n    <tr>\n      <th>2</th>\n      <td>2004-05-09</td>\n      <td>2004-05-15</td>\n      <td>CENTRO OESTE</td>\n      <td>MATO GROSSO</td>\n      <td>ETANOL HIDRATADO</td>\n      <td>192</td>\n      <td>R$/l</td>\n      <td>1.389</td>\n      <td>0.097</td>\n      <td>1.180</td>\n      <td>1.760</td>\n      <td>0.419</td>\n      <td>0.070</td>\n      <td>0.97</td>\n      <td>0.095</td>\n      <td>0.5614</td>\n      <td>1.161</td>\n      <td>0.098</td>\n      <td>2019</td>\n    </tr>\n    <tr>\n      <th>4</th>\n      <td>2004-05-09</td>\n      <td>2004-05-15</td>\n      <td>NORDESTE</td>\n      <td>ALAGOAS</td>\n      <td>ETANOL HIDRATADO</td>\n      <td>103</td>\n      <td>R$/l</td>\n      <td>1.181</td>\n      <td>0.078</td>\n      <td>1.050</td>\n      <td>1.400</td>\n      <td>0.24</td>\n      <td>0.066</td>\n      <td>0.941</td>\n      <td>0.077</td>\n      <td>0.7441</td>\n      <td>1.0317</td>\n      <td>0.082</td>\n      <td>2021</td>\n    </tr>\n    <tr>\n      <th>5</th>\n      <td>2004-05-09</td>\n      <td>2004-05-15</td>\n      <td>NORDESTE</td>\n      <td>BAHIA</td>\n      <td>ETANOL HIDRATADO</td>\n      <td>408</td>\n      <td>R$/l</td>\n      <td>1.383</td>\n      <td>0.132</td>\n      <td>0.999</td>\n      <td>2.050</td>\n      <td>0.426</td>\n      <td>0.095</td>\n      <td>0.957</td>\n      <td>0.128</td>\n      <td>0.5686</td>\n      <td>1.35</td>\n      <td>0.134</td>\n      <td>2017</td>\n    </tr>\n    <tr>\n      <th>7</th>\n      <td>2004-05-09</td>\n      <td>2004-05-15</td>\n      <td>NORDESTE</td>\n      <td>MARANHAO</td>\n      <td>ETANOL HIDRATADO</td>\n      <td>105</td>\n      <td>R$/l</td>\n      <td>1.631</td>\n      <td>0.158</td>\n      <td>1.350</td>\n      <td>2.000</td>\n      <td>0.515</td>\n      <td>0.097</td>\n      <td>1.116</td>\n      <td>0.091</td>\n      <td>0.9923</td>\n      <td>1.36183</td>\n      <td>0.082</td>\n      <td>2019</td>\n    </tr>\n    <tr>\n      <th>...</th>\n      <td>...</td>\n      <td>...</td>\n      <td>...</td>\n      <td>...</td>\n      <td>...</td>\n      <td>...</td>\n      <td>...</td>\n      <td>...</td>\n      <td>...</td>\n      <td>...</td>\n      <td>...</td>\n      <td>...</td>\n      <td>...</td>\n      <td>...</td>\n      <td>...</td>\n      <td>...</td>\n      <td>...</td>\n      <td>...</td>\n      <td>...</td>\n    </tr>\n    <tr>\n      <th>120815</th>\n      <td>2021-04-25</td>\n      <td>2021-05-01</td>\n      <td>NORDESTE</td>\n      <td>RIO GRANDE DO NORTE</td>\n      <td>OLEO DIESEL S10</td>\n      <td>24</td>\n      <td>R$/l</td>\n      <td>4.699</td>\n      <td>0.101</td>\n      <td>4.490</td>\n      <td>4.890</td>\n      <td>-99999.0</td>\n      <td>0.021</td>\n      <td>-99999.0</td>\n      <td>-99999.0</td>\n      <td>-99999.0</td>\n      <td>-99999.0</td>\n      <td>-99999.0</td>\n      <td>2017</td>\n    </tr>\n    <tr>\n      <th>120817</th>\n      <td>2021-04-25</td>\n      <td>2021-05-01</td>\n      <td>NORTE</td>\n      <td>RONDONIA</td>\n      <td>OLEO DIESEL S10</td>\n      <td>30</td>\n      <td>R$/l</td>\n      <td>4.503</td>\n      <td>0.157</td>\n      <td>4.250</td>\n      <td>4.799</td>\n      <td>-99999.0</td>\n      <td>0.035</td>\n      <td>-99999.0</td>\n      <td>-99999.0</td>\n      <td>-99999.0</td>\n      <td>-99999.0</td>\n      <td>-99999.0</td>\n      <td>2019</td>\n    </tr>\n    <tr>\n      <th>120819</th>\n      <td>2021-04-25</td>\n      <td>2021-05-01</td>\n      <td>SUL</td>\n      <td>SANTA CATARINA</td>\n      <td>OLEO DIESEL S10</td>\n      <td>100</td>\n      <td>R$/l</td>\n      <td>4.141</td>\n      <td>0.187</td>\n      <td>3.838</td>\n      <td>4.739</td>\n      <td>-99999.0</td>\n      <td>0.045</td>\n      <td>-99999.0</td>\n      <td>-99999.0</td>\n      <td>-99999.0</td>\n      <td>-99999.0</td>\n      <td>-99999.0</td>\n      <td>2021</td>\n    </tr>\n    <tr>\n      <th>120820</th>\n      <td>2021-04-25</td>\n      <td>2021-05-01</td>\n      <td>SUDESTE</td>\n      <td>SAO PAULO</td>\n      <td>OLEO DIESEL S10</td>\n      <td>886</td>\n      <td>R$/l</td>\n      <td>4.246</td>\n      <td>0.216</td>\n      <td>3.769</td>\n      <td>5.199</td>\n      <td>-99999.0</td>\n      <td>0.051</td>\n      <td>-99999.0</td>\n      <td>-99999.0</td>\n      <td>-99999.0</td>\n      <td>-99999.0</td>\n      <td>-99999.0</td>\n      <td>2017</td>\n    </tr>\n    <tr>\n      <th>120822</th>\n      <td>2021-04-25</td>\n      <td>2021-05-01</td>\n      <td>NORTE</td>\n      <td>TOCANTINS</td>\n      <td>OLEO DIESEL S10</td>\n      <td>18</td>\n      <td>R$/l</td>\n      <td>4.352</td>\n      <td>0.156</td>\n      <td>4.199</td>\n      <td>4.699</td>\n      <td>-99999.0</td>\n      <td>0.036</td>\n      <td>-99999.0</td>\n      <td>-99999.0</td>\n      <td>-99999.0</td>\n      <td>-99999.0</td>\n      <td>-99999.0</td>\n      <td>2019</td>\n    </tr>\n  </tbody>\n</table>\n<p>72494 rows × 19 columns</p>\n</div>"
          },
          "metadata": {}
        }
      ],
      "execution_count": 125
    },
    {
      "id": "72310d37-369c-4a09-9b63-7ac1531e5b57",
      "cell_type": "code",
      "source": "# ALTERNATIVA 3\nlista_de_anos\n[2017, 2019, 2021]\ndata.query('Ano in @lista_de_anos')",
      "metadata": {
        "trusted": true
      },
      "outputs": [
        {
          "execution_count": 129,
          "output_type": "execute_result",
          "data": {
            "text/plain": "       DATA INICIAL  DATA FINAL        REGIÃO               ESTADO  \\\n0        2004-05-09  2004-05-15  CENTRO OESTE     DISTRITO FEDERAL   \n2        2004-05-09  2004-05-15  CENTRO OESTE          MATO GROSSO   \n4        2004-05-09  2004-05-15      NORDESTE              ALAGOAS   \n5        2004-05-09  2004-05-15      NORDESTE                BAHIA   \n7        2004-05-09  2004-05-15      NORDESTE             MARANHAO   \n...             ...         ...           ...                  ...   \n120815   2021-04-25  2021-05-01      NORDESTE  RIO GRANDE DO NORTE   \n120817   2021-04-25  2021-05-01         NORTE             RONDONIA   \n120819   2021-04-25  2021-05-01           SUL       SANTA CATARINA   \n120820   2021-04-25  2021-05-01       SUDESTE            SAO PAULO   \n120822   2021-04-25  2021-05-01         NORTE            TOCANTINS   \n\n                 PRODUTO  NÚMERO DE POSTOS PESQUISADOS UNIDADE DE MEDIDA  \\\n0       ETANOL HIDRATADO                           127              R$/l   \n2       ETANOL HIDRATADO                           192              R$/l   \n4       ETANOL HIDRATADO                           103              R$/l   \n5       ETANOL HIDRATADO                           408              R$/l   \n7       ETANOL HIDRATADO                           105              R$/l   \n...                  ...                           ...               ...   \n120815   OLEO DIESEL S10                            24              R$/l   \n120817   OLEO DIESEL S10                            30              R$/l   \n120819   OLEO DIESEL S10                           100              R$/l   \n120820   OLEO DIESEL S10                           886              R$/l   \n120822   OLEO DIESEL S10                            18              R$/l   \n\n        PREÇO MÉDIO REVENDA  DESVIO PADRÃO REVENDA  PREÇO MÍNIMO REVENDA  \\\n0                     1.288                  0.016                 1.190   \n2                     1.389                  0.097                 1.180   \n4                     1.181                  0.078                 1.050   \n5                     1.383                  0.132                 0.999   \n7                     1.631                  0.158                 1.350   \n...                     ...                    ...                   ...   \n120815                4.699                  0.101                 4.490   \n120817                4.503                  0.157                 4.250   \n120819                4.141                  0.187                 3.838   \n120820                4.246                  0.216                 3.769   \n120822                4.352                  0.156                 4.199   \n\n        PREÇO MÁXIMO REVENDA MARGEM MÉDIA REVENDA  COEF DE VARIAÇÃO REVENDA  \\\n0                      1.350                0.463                     0.012   \n2                      1.760                0.419                     0.070   \n4                      1.400                 0.24                     0.066   \n5                      2.050                0.426                     0.095   \n7                      2.000                0.515                     0.097   \n...                      ...                  ...                       ...   \n120815                 4.890             -99999.0                     0.021   \n120817                 4.799             -99999.0                     0.035   \n120819                 4.739             -99999.0                     0.045   \n120820                 5.199             -99999.0                     0.051   \n120822                 4.699             -99999.0                     0.036   \n\n       PREÇO MÉDIO DISTRIBUIÇÃO DESVIO PADRÃO DISTRIBUIÇÃO  \\\n0                         0.825                       0.11   \n2                          0.97                      0.095   \n4                         0.941                      0.077   \n5                         0.957                      0.128   \n7                         1.116                      0.091   \n...                         ...                        ...   \n120815                 -99999.0                   -99999.0   \n120817                 -99999.0                   -99999.0   \n120819                 -99999.0                   -99999.0   \n120820                 -99999.0                   -99999.0   \n120822                 -99999.0                   -99999.0   \n\n       PREÇO MÍNIMO DISTRIBUIÇÃO PREÇO MÁXIMO DISTRIBUIÇÃO  \\\n0                         0.4201                    0.9666   \n2                         0.5614                     1.161   \n4                         0.7441                    1.0317   \n5                         0.5686                      1.35   \n7                         0.9923                   1.36183   \n...                          ...                       ...   \n120815                  -99999.0                  -99999.0   \n120817                  -99999.0                  -99999.0   \n120819                  -99999.0                  -99999.0   \n120820                  -99999.0                  -99999.0   \n120822                  -99999.0                  -99999.0   \n\n       COEF DE VARIAÇÃO DISTRIBUIÇÃO   Ano  \n0                              0.133  2017  \n2                              0.098  2019  \n4                              0.082  2021  \n5                              0.134  2017  \n7                              0.082  2019  \n...                              ...   ...  \n120815                      -99999.0  2017  \n120817                      -99999.0  2019  \n120819                      -99999.0  2021  \n120820                      -99999.0  2017  \n120822                      -99999.0  2019  \n\n[72494 rows x 19 columns]",
            "text/html": "<div>\n<style scoped>\n    .dataframe tbody tr th:only-of-type {\n        vertical-align: middle;\n    }\n\n    .dataframe tbody tr th {\n        vertical-align: top;\n    }\n\n    .dataframe thead th {\n        text-align: right;\n    }\n</style>\n<table border=\"1\" class=\"dataframe\">\n  <thead>\n    <tr style=\"text-align: right;\">\n      <th></th>\n      <th>DATA INICIAL</th>\n      <th>DATA FINAL</th>\n      <th>REGIÃO</th>\n      <th>ESTADO</th>\n      <th>PRODUTO</th>\n      <th>NÚMERO DE POSTOS PESQUISADOS</th>\n      <th>UNIDADE DE MEDIDA</th>\n      <th>PREÇO MÉDIO REVENDA</th>\n      <th>DESVIO PADRÃO REVENDA</th>\n      <th>PREÇO MÍNIMO REVENDA</th>\n      <th>PREÇO MÁXIMO REVENDA</th>\n      <th>MARGEM MÉDIA REVENDA</th>\n      <th>COEF DE VARIAÇÃO REVENDA</th>\n      <th>PREÇO MÉDIO DISTRIBUIÇÃO</th>\n      <th>DESVIO PADRÃO DISTRIBUIÇÃO</th>\n      <th>PREÇO MÍNIMO DISTRIBUIÇÃO</th>\n      <th>PREÇO MÁXIMO DISTRIBUIÇÃO</th>\n      <th>COEF DE VARIAÇÃO DISTRIBUIÇÃO</th>\n      <th>Ano</th>\n    </tr>\n  </thead>\n  <tbody>\n    <tr>\n      <th>0</th>\n      <td>2004-05-09</td>\n      <td>2004-05-15</td>\n      <td>CENTRO OESTE</td>\n      <td>DISTRITO FEDERAL</td>\n      <td>ETANOL HIDRATADO</td>\n      <td>127</td>\n      <td>R$/l</td>\n      <td>1.288</td>\n      <td>0.016</td>\n      <td>1.190</td>\n      <td>1.350</td>\n      <td>0.463</td>\n      <td>0.012</td>\n      <td>0.825</td>\n      <td>0.11</td>\n      <td>0.4201</td>\n      <td>0.9666</td>\n      <td>0.133</td>\n      <td>2017</td>\n    </tr>\n    <tr>\n      <th>2</th>\n      <td>2004-05-09</td>\n      <td>2004-05-15</td>\n      <td>CENTRO OESTE</td>\n      <td>MATO GROSSO</td>\n      <td>ETANOL HIDRATADO</td>\n      <td>192</td>\n      <td>R$/l</td>\n      <td>1.389</td>\n      <td>0.097</td>\n      <td>1.180</td>\n      <td>1.760</td>\n      <td>0.419</td>\n      <td>0.070</td>\n      <td>0.97</td>\n      <td>0.095</td>\n      <td>0.5614</td>\n      <td>1.161</td>\n      <td>0.098</td>\n      <td>2019</td>\n    </tr>\n    <tr>\n      <th>4</th>\n      <td>2004-05-09</td>\n      <td>2004-05-15</td>\n      <td>NORDESTE</td>\n      <td>ALAGOAS</td>\n      <td>ETANOL HIDRATADO</td>\n      <td>103</td>\n      <td>R$/l</td>\n      <td>1.181</td>\n      <td>0.078</td>\n      <td>1.050</td>\n      <td>1.400</td>\n      <td>0.24</td>\n      <td>0.066</td>\n      <td>0.941</td>\n      <td>0.077</td>\n      <td>0.7441</td>\n      <td>1.0317</td>\n      <td>0.082</td>\n      <td>2021</td>\n    </tr>\n    <tr>\n      <th>5</th>\n      <td>2004-05-09</td>\n      <td>2004-05-15</td>\n      <td>NORDESTE</td>\n      <td>BAHIA</td>\n      <td>ETANOL HIDRATADO</td>\n      <td>408</td>\n      <td>R$/l</td>\n      <td>1.383</td>\n      <td>0.132</td>\n      <td>0.999</td>\n      <td>2.050</td>\n      <td>0.426</td>\n      <td>0.095</td>\n      <td>0.957</td>\n      <td>0.128</td>\n      <td>0.5686</td>\n      <td>1.35</td>\n      <td>0.134</td>\n      <td>2017</td>\n    </tr>\n    <tr>\n      <th>7</th>\n      <td>2004-05-09</td>\n      <td>2004-05-15</td>\n      <td>NORDESTE</td>\n      <td>MARANHAO</td>\n      <td>ETANOL HIDRATADO</td>\n      <td>105</td>\n      <td>R$/l</td>\n      <td>1.631</td>\n      <td>0.158</td>\n      <td>1.350</td>\n      <td>2.000</td>\n      <td>0.515</td>\n      <td>0.097</td>\n      <td>1.116</td>\n      <td>0.091</td>\n      <td>0.9923</td>\n      <td>1.36183</td>\n      <td>0.082</td>\n      <td>2019</td>\n    </tr>\n    <tr>\n      <th>...</th>\n      <td>...</td>\n      <td>...</td>\n      <td>...</td>\n      <td>...</td>\n      <td>...</td>\n      <td>...</td>\n      <td>...</td>\n      <td>...</td>\n      <td>...</td>\n      <td>...</td>\n      <td>...</td>\n      <td>...</td>\n      <td>...</td>\n      <td>...</td>\n      <td>...</td>\n      <td>...</td>\n      <td>...</td>\n      <td>...</td>\n      <td>...</td>\n    </tr>\n    <tr>\n      <th>120815</th>\n      <td>2021-04-25</td>\n      <td>2021-05-01</td>\n      <td>NORDESTE</td>\n      <td>RIO GRANDE DO NORTE</td>\n      <td>OLEO DIESEL S10</td>\n      <td>24</td>\n      <td>R$/l</td>\n      <td>4.699</td>\n      <td>0.101</td>\n      <td>4.490</td>\n      <td>4.890</td>\n      <td>-99999.0</td>\n      <td>0.021</td>\n      <td>-99999.0</td>\n      <td>-99999.0</td>\n      <td>-99999.0</td>\n      <td>-99999.0</td>\n      <td>-99999.0</td>\n      <td>2017</td>\n    </tr>\n    <tr>\n      <th>120817</th>\n      <td>2021-04-25</td>\n      <td>2021-05-01</td>\n      <td>NORTE</td>\n      <td>RONDONIA</td>\n      <td>OLEO DIESEL S10</td>\n      <td>30</td>\n      <td>R$/l</td>\n      <td>4.503</td>\n      <td>0.157</td>\n      <td>4.250</td>\n      <td>4.799</td>\n      <td>-99999.0</td>\n      <td>0.035</td>\n      <td>-99999.0</td>\n      <td>-99999.0</td>\n      <td>-99999.0</td>\n      <td>-99999.0</td>\n      <td>-99999.0</td>\n      <td>2019</td>\n    </tr>\n    <tr>\n      <th>120819</th>\n      <td>2021-04-25</td>\n      <td>2021-05-01</td>\n      <td>SUL</td>\n      <td>SANTA CATARINA</td>\n      <td>OLEO DIESEL S10</td>\n      <td>100</td>\n      <td>R$/l</td>\n      <td>4.141</td>\n      <td>0.187</td>\n      <td>3.838</td>\n      <td>4.739</td>\n      <td>-99999.0</td>\n      <td>0.045</td>\n      <td>-99999.0</td>\n      <td>-99999.0</td>\n      <td>-99999.0</td>\n      <td>-99999.0</td>\n      <td>-99999.0</td>\n      <td>2021</td>\n    </tr>\n    <tr>\n      <th>120820</th>\n      <td>2021-04-25</td>\n      <td>2021-05-01</td>\n      <td>SUDESTE</td>\n      <td>SAO PAULO</td>\n      <td>OLEO DIESEL S10</td>\n      <td>886</td>\n      <td>R$/l</td>\n      <td>4.246</td>\n      <td>0.216</td>\n      <td>3.769</td>\n      <td>5.199</td>\n      <td>-99999.0</td>\n      <td>0.051</td>\n      <td>-99999.0</td>\n      <td>-99999.0</td>\n      <td>-99999.0</td>\n      <td>-99999.0</td>\n      <td>-99999.0</td>\n      <td>2017</td>\n    </tr>\n    <tr>\n      <th>120822</th>\n      <td>2021-04-25</td>\n      <td>2021-05-01</td>\n      <td>NORTE</td>\n      <td>TOCANTINS</td>\n      <td>OLEO DIESEL S10</td>\n      <td>18</td>\n      <td>R$/l</td>\n      <td>4.352</td>\n      <td>0.156</td>\n      <td>4.199</td>\n      <td>4.699</td>\n      <td>-99999.0</td>\n      <td>0.036</td>\n      <td>-99999.0</td>\n      <td>-99999.0</td>\n      <td>-99999.0</td>\n      <td>-99999.0</td>\n      <td>-99999.0</td>\n      <td>2019</td>\n    </tr>\n  </tbody>\n</table>\n<p>72494 rows × 19 columns</p>\n</div>"
          },
          "metadata": {}
        }
      ],
      "execution_count": 129
    },
    {
      "id": "outside-central",
      "cell_type": "markdown",
      "source": "### **Iterando com DataFrames**",
      "metadata": {}
    },
    {
      "id": "psychological-hands",
      "cell_type": "markdown",
      "source": "#### For-each `DataFrame.iterrows()` (LENTO ==> apenas indicado para iterar pequenos conjunto de dados)",
      "metadata": {}
    },
    {
      "id": "blank-gnome",
      "cell_type": "code",
      "source": "data.head(10)",
      "metadata": {
        "trusted": true
      },
      "outputs": [
        {
          "execution_count": 131,
          "output_type": "execute_result",
          "data": {
            "text/plain": "  DATA INICIAL  DATA FINAL        REGIÃO              ESTADO  \\\n0   2004-05-09  2004-05-15  CENTRO OESTE    DISTRITO FEDERAL   \n1   2004-05-09  2004-05-15  CENTRO OESTE               GOIAS   \n2   2004-05-09  2004-05-15  CENTRO OESTE         MATO GROSSO   \n3   2004-05-09  2004-05-15  CENTRO OESTE  MATO GROSSO DO SUL   \n4   2004-05-09  2004-05-15      NORDESTE             ALAGOAS   \n5   2004-05-09  2004-05-15      NORDESTE               BAHIA   \n6   2004-05-09  2004-05-15      NORDESTE               CEARA   \n7   2004-05-09  2004-05-15      NORDESTE            MARANHAO   \n8   2004-05-09  2004-05-15      NORDESTE             PARAIBA   \n9   2004-05-09  2004-05-15      NORDESTE          PERNAMBUCO   \n\n            PRODUTO  NÚMERO DE POSTOS PESQUISADOS UNIDADE DE MEDIDA  \\\n0  ETANOL HIDRATADO                           127              R$/l   \n1  ETANOL HIDRATADO                           387              R$/l   \n2  ETANOL HIDRATADO                           192              R$/l   \n3  ETANOL HIDRATADO                           162              R$/l   \n4  ETANOL HIDRATADO                           103              R$/l   \n5  ETANOL HIDRATADO                           408              R$/l   \n6  ETANOL HIDRATADO                           278              R$/l   \n7  ETANOL HIDRATADO                           105              R$/l   \n8  ETANOL HIDRATADO                           125              R$/l   \n9  ETANOL HIDRATADO                           423              R$/l   \n\n   PREÇO MÉDIO REVENDA  DESVIO PADRÃO REVENDA  PREÇO MÍNIMO REVENDA  \\\n0                1.288                  0.016                 1.190   \n1                1.162                  0.114                 0.890   \n2                1.389                  0.097                 1.180   \n3                1.262                  0.070                 1.090   \n4                1.181                  0.078                 1.050   \n5                1.383                  0.132                 0.999   \n6                1.453                  0.218                 1.030   \n7                1.631                  0.158                 1.350   \n8                1.284                  0.130                 1.100   \n9                1.224                  0.141                 0.989   \n\n   PREÇO MÁXIMO REVENDA MARGEM MÉDIA REVENDA  COEF DE VARIAÇÃO REVENDA  \\\n0                 1.350                0.463                     0.012   \n1                 1.449                0.399                     0.098   \n2                 1.760                0.419                     0.070   \n3                 1.509                0.432                     0.055   \n4                 1.400                 0.24                     0.066   \n5                 2.050                0.426                     0.095   \n6                 1.950                0.353                     0.150   \n7                 2.000                0.515                     0.097   \n8                 1.699                0.353                     0.101   \n9                 1.700                0.277                     0.115   \n\n  PREÇO MÉDIO DISTRIBUIÇÃO DESVIO PADRÃO DISTRIBUIÇÃO  \\\n0                    0.825                       0.11   \n1                    0.763                      0.088   \n2                     0.97                      0.095   \n3                     0.83                      0.119   \n4                    0.941                      0.077   \n5                    0.957                      0.128   \n6                      1.1                      0.068   \n7                    1.116                      0.091   \n8                    0.931                      0.072   \n9                    0.947                      0.091   \n\n  PREÇO MÍNIMO DISTRIBUIÇÃO PREÇO MÁXIMO DISTRIBUIÇÃO  \\\n0                    0.4201                    0.9666   \n1                    0.5013                      1.05   \n2                    0.5614                     1.161   \n3                    0.5991                   1.22242   \n4                    0.7441                    1.0317   \n5                    0.5686                      1.35   \n6                    0.7332                     1.294   \n7                    0.9923                   1.36183   \n8                    0.7577                    1.2972   \n9                    0.5643                    1.3541   \n\n  COEF DE VARIAÇÃO DISTRIBUIÇÃO   Ano  \n0                         0.133  2017  \n1                         0.115  2018  \n2                         0.098  2019  \n3                         0.143  2020  \n4                         0.082  2021  \n5                         0.134  2017  \n6                         0.062  2018  \n7                         0.082  2019  \n8                         0.077  2020  \n9                         0.096  2021  ",
            "text/html": "<div>\n<style scoped>\n    .dataframe tbody tr th:only-of-type {\n        vertical-align: middle;\n    }\n\n    .dataframe tbody tr th {\n        vertical-align: top;\n    }\n\n    .dataframe thead th {\n        text-align: right;\n    }\n</style>\n<table border=\"1\" class=\"dataframe\">\n  <thead>\n    <tr style=\"text-align: right;\">\n      <th></th>\n      <th>DATA INICIAL</th>\n      <th>DATA FINAL</th>\n      <th>REGIÃO</th>\n      <th>ESTADO</th>\n      <th>PRODUTO</th>\n      <th>NÚMERO DE POSTOS PESQUISADOS</th>\n      <th>UNIDADE DE MEDIDA</th>\n      <th>PREÇO MÉDIO REVENDA</th>\n      <th>DESVIO PADRÃO REVENDA</th>\n      <th>PREÇO MÍNIMO REVENDA</th>\n      <th>PREÇO MÁXIMO REVENDA</th>\n      <th>MARGEM MÉDIA REVENDA</th>\n      <th>COEF DE VARIAÇÃO REVENDA</th>\n      <th>PREÇO MÉDIO DISTRIBUIÇÃO</th>\n      <th>DESVIO PADRÃO DISTRIBUIÇÃO</th>\n      <th>PREÇO MÍNIMO DISTRIBUIÇÃO</th>\n      <th>PREÇO MÁXIMO DISTRIBUIÇÃO</th>\n      <th>COEF DE VARIAÇÃO DISTRIBUIÇÃO</th>\n      <th>Ano</th>\n    </tr>\n  </thead>\n  <tbody>\n    <tr>\n      <th>0</th>\n      <td>2004-05-09</td>\n      <td>2004-05-15</td>\n      <td>CENTRO OESTE</td>\n      <td>DISTRITO FEDERAL</td>\n      <td>ETANOL HIDRATADO</td>\n      <td>127</td>\n      <td>R$/l</td>\n      <td>1.288</td>\n      <td>0.016</td>\n      <td>1.190</td>\n      <td>1.350</td>\n      <td>0.463</td>\n      <td>0.012</td>\n      <td>0.825</td>\n      <td>0.11</td>\n      <td>0.4201</td>\n      <td>0.9666</td>\n      <td>0.133</td>\n      <td>2017</td>\n    </tr>\n    <tr>\n      <th>1</th>\n      <td>2004-05-09</td>\n      <td>2004-05-15</td>\n      <td>CENTRO OESTE</td>\n      <td>GOIAS</td>\n      <td>ETANOL HIDRATADO</td>\n      <td>387</td>\n      <td>R$/l</td>\n      <td>1.162</td>\n      <td>0.114</td>\n      <td>0.890</td>\n      <td>1.449</td>\n      <td>0.399</td>\n      <td>0.098</td>\n      <td>0.763</td>\n      <td>0.088</td>\n      <td>0.5013</td>\n      <td>1.05</td>\n      <td>0.115</td>\n      <td>2018</td>\n    </tr>\n    <tr>\n      <th>2</th>\n      <td>2004-05-09</td>\n      <td>2004-05-15</td>\n      <td>CENTRO OESTE</td>\n      <td>MATO GROSSO</td>\n      <td>ETANOL HIDRATADO</td>\n      <td>192</td>\n      <td>R$/l</td>\n      <td>1.389</td>\n      <td>0.097</td>\n      <td>1.180</td>\n      <td>1.760</td>\n      <td>0.419</td>\n      <td>0.070</td>\n      <td>0.97</td>\n      <td>0.095</td>\n      <td>0.5614</td>\n      <td>1.161</td>\n      <td>0.098</td>\n      <td>2019</td>\n    </tr>\n    <tr>\n      <th>3</th>\n      <td>2004-05-09</td>\n      <td>2004-05-15</td>\n      <td>CENTRO OESTE</td>\n      <td>MATO GROSSO DO SUL</td>\n      <td>ETANOL HIDRATADO</td>\n      <td>162</td>\n      <td>R$/l</td>\n      <td>1.262</td>\n      <td>0.070</td>\n      <td>1.090</td>\n      <td>1.509</td>\n      <td>0.432</td>\n      <td>0.055</td>\n      <td>0.83</td>\n      <td>0.119</td>\n      <td>0.5991</td>\n      <td>1.22242</td>\n      <td>0.143</td>\n      <td>2020</td>\n    </tr>\n    <tr>\n      <th>4</th>\n      <td>2004-05-09</td>\n      <td>2004-05-15</td>\n      <td>NORDESTE</td>\n      <td>ALAGOAS</td>\n      <td>ETANOL HIDRATADO</td>\n      <td>103</td>\n      <td>R$/l</td>\n      <td>1.181</td>\n      <td>0.078</td>\n      <td>1.050</td>\n      <td>1.400</td>\n      <td>0.24</td>\n      <td>0.066</td>\n      <td>0.941</td>\n      <td>0.077</td>\n      <td>0.7441</td>\n      <td>1.0317</td>\n      <td>0.082</td>\n      <td>2021</td>\n    </tr>\n    <tr>\n      <th>5</th>\n      <td>2004-05-09</td>\n      <td>2004-05-15</td>\n      <td>NORDESTE</td>\n      <td>BAHIA</td>\n      <td>ETANOL HIDRATADO</td>\n      <td>408</td>\n      <td>R$/l</td>\n      <td>1.383</td>\n      <td>0.132</td>\n      <td>0.999</td>\n      <td>2.050</td>\n      <td>0.426</td>\n      <td>0.095</td>\n      <td>0.957</td>\n      <td>0.128</td>\n      <td>0.5686</td>\n      <td>1.35</td>\n      <td>0.134</td>\n      <td>2017</td>\n    </tr>\n    <tr>\n      <th>6</th>\n      <td>2004-05-09</td>\n      <td>2004-05-15</td>\n      <td>NORDESTE</td>\n      <td>CEARA</td>\n      <td>ETANOL HIDRATADO</td>\n      <td>278</td>\n      <td>R$/l</td>\n      <td>1.453</td>\n      <td>0.218</td>\n      <td>1.030</td>\n      <td>1.950</td>\n      <td>0.353</td>\n      <td>0.150</td>\n      <td>1.1</td>\n      <td>0.068</td>\n      <td>0.7332</td>\n      <td>1.294</td>\n      <td>0.062</td>\n      <td>2018</td>\n    </tr>\n    <tr>\n      <th>7</th>\n      <td>2004-05-09</td>\n      <td>2004-05-15</td>\n      <td>NORDESTE</td>\n      <td>MARANHAO</td>\n      <td>ETANOL HIDRATADO</td>\n      <td>105</td>\n      <td>R$/l</td>\n      <td>1.631</td>\n      <td>0.158</td>\n      <td>1.350</td>\n      <td>2.000</td>\n      <td>0.515</td>\n      <td>0.097</td>\n      <td>1.116</td>\n      <td>0.091</td>\n      <td>0.9923</td>\n      <td>1.36183</td>\n      <td>0.082</td>\n      <td>2019</td>\n    </tr>\n    <tr>\n      <th>8</th>\n      <td>2004-05-09</td>\n      <td>2004-05-15</td>\n      <td>NORDESTE</td>\n      <td>PARAIBA</td>\n      <td>ETANOL HIDRATADO</td>\n      <td>125</td>\n      <td>R$/l</td>\n      <td>1.284</td>\n      <td>0.130</td>\n      <td>1.100</td>\n      <td>1.699</td>\n      <td>0.353</td>\n      <td>0.101</td>\n      <td>0.931</td>\n      <td>0.072</td>\n      <td>0.7577</td>\n      <td>1.2972</td>\n      <td>0.077</td>\n      <td>2020</td>\n    </tr>\n    <tr>\n      <th>9</th>\n      <td>2004-05-09</td>\n      <td>2004-05-15</td>\n      <td>NORDESTE</td>\n      <td>PERNAMBUCO</td>\n      <td>ETANOL HIDRATADO</td>\n      <td>423</td>\n      <td>R$/l</td>\n      <td>1.224</td>\n      <td>0.141</td>\n      <td>0.989</td>\n      <td>1.700</td>\n      <td>0.277</td>\n      <td>0.115</td>\n      <td>0.947</td>\n      <td>0.091</td>\n      <td>0.5643</td>\n      <td>1.3541</td>\n      <td>0.096</td>\n      <td>2021</td>\n    </tr>\n  </tbody>\n</table>\n</div>"
          },
          "metadata": {}
        }
      ],
      "execution_count": 131
    },
    {
      "id": "3bfe370b-100c-46f5-a967-9dd0b543f37e",
      "cell_type": "code",
      "source": "for index, row in data.head(10).iterrows():\n    print(f'indice {index} ==> {row[\"ESTADO\"]}')",
      "metadata": {
        "trusted": true
      },
      "outputs": [
        {
          "name": "stdout",
          "output_type": "stream",
          "text": "indice 0 ==> DISTRITO FEDERAL\nindice 1 ==> GOIAS\nindice 2 ==> MATO GROSSO\nindice 3 ==> MATO GROSSO DO SUL\nindice 4 ==> ALAGOAS\nindice 5 ==> BAHIA\nindice 6 ==> CEARA\nindice 7 ==> MARANHAO\nindice 8 ==> PARAIBA\nindice 9 ==> PERNAMBUCO\n"
        }
      ],
      "execution_count": 132
    },
    {
      "id": "treated-summer",
      "cell_type": "markdown",
      "source": "<h2>2. Preparação dos dados</h2>\n<hr/>",
      "metadata": {}
    },
    {
      "id": "aware-shooting",
      "cell_type": "code",
      "source": "data",
      "metadata": {
        "trusted": true
      },
      "outputs": [
        {
          "execution_count": 134,
          "output_type": "execute_result",
          "data": {
            "text/plain": "       DATA INICIAL  DATA FINAL        REGIÃO              ESTADO  \\\n0        2004-05-09  2004-05-15  CENTRO OESTE    DISTRITO FEDERAL   \n1        2004-05-09  2004-05-15  CENTRO OESTE               GOIAS   \n2        2004-05-09  2004-05-15  CENTRO OESTE         MATO GROSSO   \n3        2004-05-09  2004-05-15  CENTRO OESTE  MATO GROSSO DO SUL   \n4        2004-05-09  2004-05-15      NORDESTE             ALAGOAS   \n...             ...         ...           ...                 ...   \n120818   2021-04-25  2021-05-01         NORTE             RORAIMA   \n120819   2021-04-25  2021-05-01           SUL      SANTA CATARINA   \n120820   2021-04-25  2021-05-01       SUDESTE           SAO PAULO   \n120821   2021-04-25  2021-05-01      NORDESTE             SERGIPE   \n120822   2021-04-25  2021-05-01         NORTE           TOCANTINS   \n\n                 PRODUTO  NÚMERO DE POSTOS PESQUISADOS UNIDADE DE MEDIDA  \\\n0       ETANOL HIDRATADO                           127              R$/l   \n1       ETANOL HIDRATADO                           387              R$/l   \n2       ETANOL HIDRATADO                           192              R$/l   \n3       ETANOL HIDRATADO                           162              R$/l   \n4       ETANOL HIDRATADO                           103              R$/l   \n...                  ...                           ...               ...   \n120818   OLEO DIESEL S10                            12              R$/l   \n120819   OLEO DIESEL S10                           100              R$/l   \n120820   OLEO DIESEL S10                           886              R$/l   \n120821   OLEO DIESEL S10                            33              R$/l   \n120822   OLEO DIESEL S10                            18              R$/l   \n\n        PREÇO MÉDIO REVENDA  DESVIO PADRÃO REVENDA  PREÇO MÍNIMO REVENDA  \\\n0                     1.288                  0.016                 1.190   \n1                     1.162                  0.114                 0.890   \n2                     1.389                  0.097                 1.180   \n3                     1.262                  0.070                 1.090   \n4                     1.181                  0.078                 1.050   \n...                     ...                    ...                   ...   \n120818                4.582                  0.056                 4.510   \n120819                4.141                  0.187                 3.838   \n120820                4.246                  0.216                 3.769   \n120821                4.464                  0.205                 4.190   \n120822                4.352                  0.156                 4.199   \n\n        PREÇO MÁXIMO REVENDA MARGEM MÉDIA REVENDA  COEF DE VARIAÇÃO REVENDA  \\\n0                      1.350                0.463                     0.012   \n1                      1.449                0.399                     0.098   \n2                      1.760                0.419                     0.070   \n3                      1.509                0.432                     0.055   \n4                      1.400                 0.24                     0.066   \n...                      ...                  ...                       ...   \n120818                 4.690             -99999.0                     0.012   \n120819                 4.739             -99999.0                     0.045   \n120820                 5.199             -99999.0                     0.051   \n120821                 4.699             -99999.0                     0.046   \n120822                 4.699             -99999.0                     0.036   \n\n       PREÇO MÉDIO DISTRIBUIÇÃO DESVIO PADRÃO DISTRIBUIÇÃO  \\\n0                         0.825                       0.11   \n1                         0.763                      0.088   \n2                          0.97                      0.095   \n3                          0.83                      0.119   \n4                         0.941                      0.077   \n...                         ...                        ...   \n120818                 -99999.0                   -99999.0   \n120819                 -99999.0                   -99999.0   \n120820                 -99999.0                   -99999.0   \n120821                 -99999.0                   -99999.0   \n120822                 -99999.0                   -99999.0   \n\n       PREÇO MÍNIMO DISTRIBUIÇÃO PREÇO MÁXIMO DISTRIBUIÇÃO  \\\n0                         0.4201                    0.9666   \n1                         0.5013                      1.05   \n2                         0.5614                     1.161   \n3                         0.5991                   1.22242   \n4                         0.7441                    1.0317   \n...                          ...                       ...   \n120818                  -99999.0                  -99999.0   \n120819                  -99999.0                  -99999.0   \n120820                  -99999.0                  -99999.0   \n120821                  -99999.0                  -99999.0   \n120822                  -99999.0                  -99999.0   \n\n       COEF DE VARIAÇÃO DISTRIBUIÇÃO   Ano  \n0                              0.133  2017  \n1                              0.115  2018  \n2                              0.098  2019  \n3                              0.143  2020  \n4                              0.082  2021  \n...                              ...   ...  \n120818                      -99999.0  2020  \n120819                      -99999.0  2021  \n120820                      -99999.0  2017  \n120821                      -99999.0  2018  \n120822                      -99999.0  2019  \n\n[120823 rows x 19 columns]",
            "text/html": "<div>\n<style scoped>\n    .dataframe tbody tr th:only-of-type {\n        vertical-align: middle;\n    }\n\n    .dataframe tbody tr th {\n        vertical-align: top;\n    }\n\n    .dataframe thead th {\n        text-align: right;\n    }\n</style>\n<table border=\"1\" class=\"dataframe\">\n  <thead>\n    <tr style=\"text-align: right;\">\n      <th></th>\n      <th>DATA INICIAL</th>\n      <th>DATA FINAL</th>\n      <th>REGIÃO</th>\n      <th>ESTADO</th>\n      <th>PRODUTO</th>\n      <th>NÚMERO DE POSTOS PESQUISADOS</th>\n      <th>UNIDADE DE MEDIDA</th>\n      <th>PREÇO MÉDIO REVENDA</th>\n      <th>DESVIO PADRÃO REVENDA</th>\n      <th>PREÇO MÍNIMO REVENDA</th>\n      <th>PREÇO MÁXIMO REVENDA</th>\n      <th>MARGEM MÉDIA REVENDA</th>\n      <th>COEF DE VARIAÇÃO REVENDA</th>\n      <th>PREÇO MÉDIO DISTRIBUIÇÃO</th>\n      <th>DESVIO PADRÃO DISTRIBUIÇÃO</th>\n      <th>PREÇO MÍNIMO DISTRIBUIÇÃO</th>\n      <th>PREÇO MÁXIMO DISTRIBUIÇÃO</th>\n      <th>COEF DE VARIAÇÃO DISTRIBUIÇÃO</th>\n      <th>Ano</th>\n    </tr>\n  </thead>\n  <tbody>\n    <tr>\n      <th>0</th>\n      <td>2004-05-09</td>\n      <td>2004-05-15</td>\n      <td>CENTRO OESTE</td>\n      <td>DISTRITO FEDERAL</td>\n      <td>ETANOL HIDRATADO</td>\n      <td>127</td>\n      <td>R$/l</td>\n      <td>1.288</td>\n      <td>0.016</td>\n      <td>1.190</td>\n      <td>1.350</td>\n      <td>0.463</td>\n      <td>0.012</td>\n      <td>0.825</td>\n      <td>0.11</td>\n      <td>0.4201</td>\n      <td>0.9666</td>\n      <td>0.133</td>\n      <td>2017</td>\n    </tr>\n    <tr>\n      <th>1</th>\n      <td>2004-05-09</td>\n      <td>2004-05-15</td>\n      <td>CENTRO OESTE</td>\n      <td>GOIAS</td>\n      <td>ETANOL HIDRATADO</td>\n      <td>387</td>\n      <td>R$/l</td>\n      <td>1.162</td>\n      <td>0.114</td>\n      <td>0.890</td>\n      <td>1.449</td>\n      <td>0.399</td>\n      <td>0.098</td>\n      <td>0.763</td>\n      <td>0.088</td>\n      <td>0.5013</td>\n      <td>1.05</td>\n      <td>0.115</td>\n      <td>2018</td>\n    </tr>\n    <tr>\n      <th>2</th>\n      <td>2004-05-09</td>\n      <td>2004-05-15</td>\n      <td>CENTRO OESTE</td>\n      <td>MATO GROSSO</td>\n      <td>ETANOL HIDRATADO</td>\n      <td>192</td>\n      <td>R$/l</td>\n      <td>1.389</td>\n      <td>0.097</td>\n      <td>1.180</td>\n      <td>1.760</td>\n      <td>0.419</td>\n      <td>0.070</td>\n      <td>0.97</td>\n      <td>0.095</td>\n      <td>0.5614</td>\n      <td>1.161</td>\n      <td>0.098</td>\n      <td>2019</td>\n    </tr>\n    <tr>\n      <th>3</th>\n      <td>2004-05-09</td>\n      <td>2004-05-15</td>\n      <td>CENTRO OESTE</td>\n      <td>MATO GROSSO DO SUL</td>\n      <td>ETANOL HIDRATADO</td>\n      <td>162</td>\n      <td>R$/l</td>\n      <td>1.262</td>\n      <td>0.070</td>\n      <td>1.090</td>\n      <td>1.509</td>\n      <td>0.432</td>\n      <td>0.055</td>\n      <td>0.83</td>\n      <td>0.119</td>\n      <td>0.5991</td>\n      <td>1.22242</td>\n      <td>0.143</td>\n      <td>2020</td>\n    </tr>\n    <tr>\n      <th>4</th>\n      <td>2004-05-09</td>\n      <td>2004-05-15</td>\n      <td>NORDESTE</td>\n      <td>ALAGOAS</td>\n      <td>ETANOL HIDRATADO</td>\n      <td>103</td>\n      <td>R$/l</td>\n      <td>1.181</td>\n      <td>0.078</td>\n      <td>1.050</td>\n      <td>1.400</td>\n      <td>0.24</td>\n      <td>0.066</td>\n      <td>0.941</td>\n      <td>0.077</td>\n      <td>0.7441</td>\n      <td>1.0317</td>\n      <td>0.082</td>\n      <td>2021</td>\n    </tr>\n    <tr>\n      <th>...</th>\n      <td>...</td>\n      <td>...</td>\n      <td>...</td>\n      <td>...</td>\n      <td>...</td>\n      <td>...</td>\n      <td>...</td>\n      <td>...</td>\n      <td>...</td>\n      <td>...</td>\n      <td>...</td>\n      <td>...</td>\n      <td>...</td>\n      <td>...</td>\n      <td>...</td>\n      <td>...</td>\n      <td>...</td>\n      <td>...</td>\n      <td>...</td>\n    </tr>\n    <tr>\n      <th>120818</th>\n      <td>2021-04-25</td>\n      <td>2021-05-01</td>\n      <td>NORTE</td>\n      <td>RORAIMA</td>\n      <td>OLEO DIESEL S10</td>\n      <td>12</td>\n      <td>R$/l</td>\n      <td>4.582</td>\n      <td>0.056</td>\n      <td>4.510</td>\n      <td>4.690</td>\n      <td>-99999.0</td>\n      <td>0.012</td>\n      <td>-99999.0</td>\n      <td>-99999.0</td>\n      <td>-99999.0</td>\n      <td>-99999.0</td>\n      <td>-99999.0</td>\n      <td>2020</td>\n    </tr>\n    <tr>\n      <th>120819</th>\n      <td>2021-04-25</td>\n      <td>2021-05-01</td>\n      <td>SUL</td>\n      <td>SANTA CATARINA</td>\n      <td>OLEO DIESEL S10</td>\n      <td>100</td>\n      <td>R$/l</td>\n      <td>4.141</td>\n      <td>0.187</td>\n      <td>3.838</td>\n      <td>4.739</td>\n      <td>-99999.0</td>\n      <td>0.045</td>\n      <td>-99999.0</td>\n      <td>-99999.0</td>\n      <td>-99999.0</td>\n      <td>-99999.0</td>\n      <td>-99999.0</td>\n      <td>2021</td>\n    </tr>\n    <tr>\n      <th>120820</th>\n      <td>2021-04-25</td>\n      <td>2021-05-01</td>\n      <td>SUDESTE</td>\n      <td>SAO PAULO</td>\n      <td>OLEO DIESEL S10</td>\n      <td>886</td>\n      <td>R$/l</td>\n      <td>4.246</td>\n      <td>0.216</td>\n      <td>3.769</td>\n      <td>5.199</td>\n      <td>-99999.0</td>\n      <td>0.051</td>\n      <td>-99999.0</td>\n      <td>-99999.0</td>\n      <td>-99999.0</td>\n      <td>-99999.0</td>\n      <td>-99999.0</td>\n      <td>2017</td>\n    </tr>\n    <tr>\n      <th>120821</th>\n      <td>2021-04-25</td>\n      <td>2021-05-01</td>\n      <td>NORDESTE</td>\n      <td>SERGIPE</td>\n      <td>OLEO DIESEL S10</td>\n      <td>33</td>\n      <td>R$/l</td>\n      <td>4.464</td>\n      <td>0.205</td>\n      <td>4.190</td>\n      <td>4.699</td>\n      <td>-99999.0</td>\n      <td>0.046</td>\n      <td>-99999.0</td>\n      <td>-99999.0</td>\n      <td>-99999.0</td>\n      <td>-99999.0</td>\n      <td>-99999.0</td>\n      <td>2018</td>\n    </tr>\n    <tr>\n      <th>120822</th>\n      <td>2021-04-25</td>\n      <td>2021-05-01</td>\n      <td>NORTE</td>\n      <td>TOCANTINS</td>\n      <td>OLEO DIESEL S10</td>\n      <td>18</td>\n      <td>R$/l</td>\n      <td>4.352</td>\n      <td>0.156</td>\n      <td>4.199</td>\n      <td>4.699</td>\n      <td>-99999.0</td>\n      <td>0.036</td>\n      <td>-99999.0</td>\n      <td>-99999.0</td>\n      <td>-99999.0</td>\n      <td>-99999.0</td>\n      <td>-99999.0</td>\n      <td>2019</td>\n    </tr>\n  </tbody>\n</table>\n<p>120823 rows × 19 columns</p>\n</div>"
          },
          "metadata": {}
        }
      ],
      "execution_count": 134
    },
    {
      "id": "enclosed-nicholas",
      "cell_type": "markdown",
      "source": "### 2.1 Removendo amostras com valores vazios (null / nan) no dataset",
      "metadata": {}
    },
    {
      "id": "3adabf42-203e-447b-adc4-2f4d9b78c231",
      "cell_type": "code",
      "source": "data.info()",
      "metadata": {
        "trusted": true
      },
      "outputs": [
        {
          "name": "stdout",
          "output_type": "stream",
          "text": "<class 'pandas.core.frame.DataFrame'>\nRangeIndex: 120823 entries, 0 to 120822\nData columns (total 19 columns):\n #   Column                         Non-Null Count   Dtype  \n---  ------                         --------------   -----  \n 0   DATA INICIAL                   120823 non-null  object \n 1   DATA FINAL                     120823 non-null  object \n 2   REGIÃO                         120823 non-null  object \n 3   ESTADO                         120823 non-null  object \n 4   PRODUTO                        120823 non-null  object \n 5   NÚMERO DE POSTOS PESQUISADOS   120823 non-null  int64  \n 6   UNIDADE DE MEDIDA              120823 non-null  object \n 7   PREÇO MÉDIO REVENDA            120823 non-null  float64\n 8   DESVIO PADRÃO REVENDA          120823 non-null  float64\n 9   PREÇO MÍNIMO REVENDA           120823 non-null  float64\n 10  PREÇO MÁXIMO REVENDA           120823 non-null  float64\n 11  MARGEM MÉDIA REVENDA           120823 non-null  object \n 12  COEF DE VARIAÇÃO REVENDA       120823 non-null  float64\n 13  PREÇO MÉDIO DISTRIBUIÇÃO       120823 non-null  object \n 14  DESVIO PADRÃO DISTRIBUIÇÃO     120823 non-null  object \n 15  PREÇO MÍNIMO DISTRIBUIÇÃO      120823 non-null  object \n 16  PREÇO MÁXIMO DISTRIBUIÇÃO      120823 non-null  object \n 17  COEF DE VARIAÇÃO DISTRIBUIÇÃO  120823 non-null  object \n 18  Ano                            120823 non-null  int64  \ndtypes: float64(5), int64(2), object(12)\nmemory usage: 12.0+ MB\n"
        }
      ],
      "execution_count": 135
    },
    {
      "id": "determined-friendly",
      "cell_type": "markdown",
      "source": "De um total de 120823 observações, **não há valores null** / nan para nenhum atributo. Mas, veremos que não é bem assim neste caso específico.<br/><br/>",
      "metadata": {}
    },
    {
      "id": "graduate-charger",
      "cell_type": "markdown",
      "source": "### 2.2 Conversão de tipos de atributos",
      "metadata": {}
    },
    {
      "id": "sharp-explanation",
      "cell_type": "markdown",
      "source": "O pandas automaticamente reconhece os tipos de dados de cada coluna. <br/>\nPorém, existem alguns atributos que estão com seus tipos errados: P. ex., \"PREÇO MÉDIO DISTRIBUIÇÃO\" deveria ser ```float64``` e não ```object```.<br/>\nNestes casos, muito provavelmente algumas amostras têm um string ao invés de um número para tais atributos. <br/>\n\nOs atributos *\"DATA INICIAL\"* e *\"DATA FINAL\"* deveriam ser do tipo `datetime`.\n\nEm outros casos, alguns **atributos categóricos** são ```objects```, mas poderiam ter o tipo ```category```, que é um tipo especial do pandas. <br/>\nEste tipo é necessário para se utilizar algumas funções específicas do pandas. <br/>\n**Não** converteremos para este tipo por ora.",
      "metadata": {}
    },
    {
      "id": "downtown-wiring",
      "cell_type": "code",
      "source": "data_pre = data.copy()",
      "metadata": {
        "trusted": true
      },
      "outputs": [],
      "execution_count": 136
    },
    {
      "id": "blank-monday",
      "cell_type": "markdown",
      "source": "#### **Datas**\nComo os atributos de data do datset já estão em um formato de data aceitável (YYYY-MM-DD), não precisamos forçar nenhuma conversão nesse sentido.",
      "metadata": {}
    },
    {
      "id": "fancy-copper",
      "cell_type": "code",
      "source": "data_pre['DATA INICIAL'] = pd.to_datetime(data_pre['DATA INICIAL'])\ndata_pre['DATA FINAL'] = pd.to_datetime(data_pre['DATA FINAL'])",
      "metadata": {
        "trusted": true
      },
      "outputs": [],
      "execution_count": 137
    },
    {
      "id": "massive-draft",
      "cell_type": "code",
      "source": "data_pre.info()",
      "metadata": {
        "trusted": true
      },
      "outputs": [
        {
          "name": "stdout",
          "output_type": "stream",
          "text": "<class 'pandas.core.frame.DataFrame'>\nRangeIndex: 120823 entries, 0 to 120822\nData columns (total 19 columns):\n #   Column                         Non-Null Count   Dtype         \n---  ------                         --------------   -----         \n 0   DATA INICIAL                   120823 non-null  datetime64[ns]\n 1   DATA FINAL                     120823 non-null  datetime64[ns]\n 2   REGIÃO                         120823 non-null  object        \n 3   ESTADO                         120823 non-null  object        \n 4   PRODUTO                        120823 non-null  object        \n 5   NÚMERO DE POSTOS PESQUISADOS   120823 non-null  int64         \n 6   UNIDADE DE MEDIDA              120823 non-null  object        \n 7   PREÇO MÉDIO REVENDA            120823 non-null  float64       \n 8   DESVIO PADRÃO REVENDA          120823 non-null  float64       \n 9   PREÇO MÍNIMO REVENDA           120823 non-null  float64       \n 10  PREÇO MÁXIMO REVENDA           120823 non-null  float64       \n 11  MARGEM MÉDIA REVENDA           120823 non-null  object        \n 12  COEF DE VARIAÇÃO REVENDA       120823 non-null  float64       \n 13  PREÇO MÉDIO DISTRIBUIÇÃO       120823 non-null  object        \n 14  DESVIO PADRÃO DISTRIBUIÇÃO     120823 non-null  object        \n 15  PREÇO MÍNIMO DISTRIBUIÇÃO      120823 non-null  object        \n 16  PREÇO MÁXIMO DISTRIBUIÇÃO      120823 non-null  object        \n 17  COEF DE VARIAÇÃO DISTRIBUIÇÃO  120823 non-null  object        \n 18  Ano                            120823 non-null  int64         \ndtypes: datetime64[ns](2), float64(5), int64(2), object(10)\nmemory usage: 12.9+ MB\n"
        }
      ],
      "execution_count": 138
    },
    {
      "id": "interim-elimination",
      "cell_type": "markdown",
      "source": "#### **Dados Numéricos**",
      "metadata": {}
    },
    {
      "id": "about-membrane",
      "cell_type": "code",
      "source": "# convertendo atributos/colunas para 'numeric'\nfor atributo in ['MARGEM MÉDIA REVENDA', 'PREÇO MÉDIO DISTRIBUIÇÃO', 'DESVIO PADRÃO DISTRIBUIÇÃO', 'PREÇO MÍNIMO DISTRIBUIÇÃO', 'PREÇO MÁXIMO DISTRIBUIÇÃO', 'COEF DE VARIAÇÃO DISTRIBUIÇÃO']:\n    # converte a coluna (de valores string) para um tipo numérico\n    # Em caso de erro na conversão (p. ex., uma string que não representa um número), um valor vazio (null / nan) será\n    # atribuído no lugar\n    data_pre[atributo] = pd.to_numeric(data_pre[atributo], errors='coerce')",
      "metadata": {
        "trusted": true
      },
      "outputs": [],
      "execution_count": 139
    },
    {
      "id": "expired-thumbnail",
      "cell_type": "code",
      "source": "data_pre.info()",
      "metadata": {
        "trusted": true
      },
      "outputs": [
        {
          "name": "stdout",
          "output_type": "stream",
          "text": "<class 'pandas.core.frame.DataFrame'>\nRangeIndex: 120823 entries, 0 to 120822\nData columns (total 19 columns):\n #   Column                         Non-Null Count   Dtype         \n---  ------                         --------------   -----         \n 0   DATA INICIAL                   120823 non-null  datetime64[ns]\n 1   DATA FINAL                     120823 non-null  datetime64[ns]\n 2   REGIÃO                         120823 non-null  object        \n 3   ESTADO                         120823 non-null  object        \n 4   PRODUTO                        120823 non-null  object        \n 5   NÚMERO DE POSTOS PESQUISADOS   120823 non-null  int64         \n 6   UNIDADE DE MEDIDA              120823 non-null  object        \n 7   PREÇO MÉDIO REVENDA            120823 non-null  float64       \n 8   DESVIO PADRÃO REVENDA          120823 non-null  float64       \n 9   PREÇO MÍNIMO REVENDA           120823 non-null  float64       \n 10  PREÇO MÁXIMO REVENDA           120823 non-null  float64       \n 11  MARGEM MÉDIA REVENDA           117392 non-null  float64       \n 12  COEF DE VARIAÇÃO REVENDA       120823 non-null  float64       \n 13  PREÇO MÉDIO DISTRIBUIÇÃO       117423 non-null  float64       \n 14  DESVIO PADRÃO DISTRIBUIÇÃO     117423 non-null  float64       \n 15  PREÇO MÍNIMO DISTRIBUIÇÃO      117423 non-null  float64       \n 16  PREÇO MÁXIMO DISTRIBUIÇÃO      117423 non-null  float64       \n 17  COEF DE VARIAÇÃO DISTRIBUIÇÃO  117423 non-null  float64       \n 18  Ano                            120823 non-null  int64         \ndtypes: datetime64[ns](2), float64(11), int64(2), object(4)\nmemory usage: 15.7+ MB\n"
        }
      ],
      "execution_count": 140
    },
    {
      "id": "operating-library",
      "cell_type": "markdown",
      "source": "<br/>\n\nNote que temos vários valores ***null*** agora **após a *conversão de tipos***. Vamos checá-los com mais cuidado nos dados originais e preprocessados.",
      "metadata": {}
    },
    {
      "id": "excess-smith",
      "cell_type": "markdown",
      "source": "### 2.3 Limpeza de dados",
      "metadata": {}
    },
    {
      "id": "turkish-borough",
      "cell_type": "code",
      "source": "mask = data_pre['PREÇO MÉDIO DISTRIBUIÇÃO'].isnull()",
      "metadata": {
        "trusted": true
      },
      "outputs": [],
      "execution_count": 141
    },
    {
      "id": "rapid-ceremony",
      "cell_type": "code",
      "source": "data_pre[mask]",
      "metadata": {
        "trusted": true
      },
      "outputs": [
        {
          "execution_count": 142,
          "output_type": "execute_result",
          "data": {
            "text/plain": "       DATA INICIAL DATA FINAL   REGIÃO          ESTADO           PRODUTO  \\\n1903     2005-09-25 2005-10-01    NORTE            PARA  ETANOL HIDRATADO   \n1958     2005-10-09 2005-10-15    NORTE         RORAIMA  ETANOL HIDRATADO   \n2012     2005-10-23 2005-10-29    NORTE         RORAIMA  ETANOL HIDRATADO   \n2497     2006-02-26 2006-03-04    NORTE         RORAIMA  ETANOL HIDRATADO   \n3199     2006-08-27 2006-09-02    NORTE         RORAIMA  ETANOL HIDRATADO   \n...             ...        ...      ...             ...               ...   \n106664   2019-06-16 2019-06-22  SUDESTE    MINAS GERAIS               GNV   \n106666   2019-06-16 2019-06-22      SUL          PARANA               GNV   \n106811   2019-06-23 2019-06-29  SUDESTE  ESPIRITO SANTO               GNV   \n106813   2019-06-23 2019-06-29  SUDESTE    MINAS GERAIS               GNV   \n106815   2019-06-23 2019-06-29      SUL          PARANA               GNV   \n\n        NÚMERO DE POSTOS PESQUISADOS UNIDADE DE MEDIDA  PREÇO MÉDIO REVENDA  \\\n1903                               2              R$/l                1.694   \n1958                               3              R$/l                2.000   \n2012                               3              R$/l                2.277   \n2497                              11              R$/l                2.182   \n3199                              22              R$/l                2.285   \n...                              ...               ...                  ...   \n106664                             5             R$/m3                3.445   \n106666                             7             R$/m3                3.132   \n106811                             4             R$/m3                3.299   \n106813                             6             R$/m3                3.548   \n106815                             1             R$/m3                3.290   \n\n        DESVIO PADRÃO REVENDA  PREÇO MÍNIMO REVENDA  PREÇO MÁXIMO REVENDA  \\\n1903                    0.283                 1.690                 2.090   \n1958                    0.000                 2.000                 2.000   \n2012                    0.023                 2.250                 2.290   \n2497                    0.040                 2.100                 2.200   \n3199                    0.068                 1.980                 2.300   \n...                       ...                   ...                   ...   \n106664                  0.147                 3.347                 3.699   \n106666                  0.295                 3.049                 3.890   \n106811                  0.005                 3.290                 3.299   \n106813                  0.100                 3.495                 3.699   \n106815                  0.000                 3.290                 3.290   \n\n        MARGEM MÉDIA REVENDA  COEF DE VARIAÇÃO REVENDA  \\\n1903                     NaN                     0.167   \n1958                     NaN                     0.000   \n2012                     NaN                     0.010   \n2497                     NaN                     0.018   \n3199                     NaN                     0.030   \n...                      ...                       ...   \n106664                   NaN                     0.043   \n106666                   NaN                     0.094   \n106811                   NaN                     0.002   \n106813                   NaN                     0.028   \n106815                   NaN                     0.000   \n\n        PREÇO MÉDIO DISTRIBUIÇÃO  DESVIO PADRÃO DISTRIBUIÇÃO  \\\n1903                         NaN                         NaN   \n1958                         NaN                         NaN   \n2012                         NaN                         NaN   \n2497                         NaN                         NaN   \n3199                         NaN                         NaN   \n...                          ...                         ...   \n106664                       NaN                         NaN   \n106666                       NaN                         NaN   \n106811                       NaN                         NaN   \n106813                       NaN                         NaN   \n106815                       NaN                         NaN   \n\n        PREÇO MÍNIMO DISTRIBUIÇÃO  PREÇO MÁXIMO DISTRIBUIÇÃO  \\\n1903                          NaN                        NaN   \n1958                          NaN                        NaN   \n2012                          NaN                        NaN   \n2497                          NaN                        NaN   \n3199                          NaN                        NaN   \n...                           ...                        ...   \n106664                        NaN                        NaN   \n106666                        NaN                        NaN   \n106811                        NaN                        NaN   \n106813                        NaN                        NaN   \n106815                        NaN                        NaN   \n\n        COEF DE VARIAÇÃO DISTRIBUIÇÃO   Ano  \n1903                              NaN  2020  \n1958                              NaN  2020  \n2012                              NaN  2019  \n2497                              NaN  2019  \n3199                              NaN  2021  \n...                               ...   ...  \n106664                            NaN  2021  \n106666                            NaN  2018  \n106811                            NaN  2018  \n106813                            NaN  2020  \n106815                            NaN  2017  \n\n[3400 rows x 19 columns]",
            "text/html": "<div>\n<style scoped>\n    .dataframe tbody tr th:only-of-type {\n        vertical-align: middle;\n    }\n\n    .dataframe tbody tr th {\n        vertical-align: top;\n    }\n\n    .dataframe thead th {\n        text-align: right;\n    }\n</style>\n<table border=\"1\" class=\"dataframe\">\n  <thead>\n    <tr style=\"text-align: right;\">\n      <th></th>\n      <th>DATA INICIAL</th>\n      <th>DATA FINAL</th>\n      <th>REGIÃO</th>\n      <th>ESTADO</th>\n      <th>PRODUTO</th>\n      <th>NÚMERO DE POSTOS PESQUISADOS</th>\n      <th>UNIDADE DE MEDIDA</th>\n      <th>PREÇO MÉDIO REVENDA</th>\n      <th>DESVIO PADRÃO REVENDA</th>\n      <th>PREÇO MÍNIMO REVENDA</th>\n      <th>PREÇO MÁXIMO REVENDA</th>\n      <th>MARGEM MÉDIA REVENDA</th>\n      <th>COEF DE VARIAÇÃO REVENDA</th>\n      <th>PREÇO MÉDIO DISTRIBUIÇÃO</th>\n      <th>DESVIO PADRÃO DISTRIBUIÇÃO</th>\n      <th>PREÇO MÍNIMO DISTRIBUIÇÃO</th>\n      <th>PREÇO MÁXIMO DISTRIBUIÇÃO</th>\n      <th>COEF DE VARIAÇÃO DISTRIBUIÇÃO</th>\n      <th>Ano</th>\n    </tr>\n  </thead>\n  <tbody>\n    <tr>\n      <th>1903</th>\n      <td>2005-09-25</td>\n      <td>2005-10-01</td>\n      <td>NORTE</td>\n      <td>PARA</td>\n      <td>ETANOL HIDRATADO</td>\n      <td>2</td>\n      <td>R$/l</td>\n      <td>1.694</td>\n      <td>0.283</td>\n      <td>1.690</td>\n      <td>2.090</td>\n      <td>NaN</td>\n      <td>0.167</td>\n      <td>NaN</td>\n      <td>NaN</td>\n      <td>NaN</td>\n      <td>NaN</td>\n      <td>NaN</td>\n      <td>2020</td>\n    </tr>\n    <tr>\n      <th>1958</th>\n      <td>2005-10-09</td>\n      <td>2005-10-15</td>\n      <td>NORTE</td>\n      <td>RORAIMA</td>\n      <td>ETANOL HIDRATADO</td>\n      <td>3</td>\n      <td>R$/l</td>\n      <td>2.000</td>\n      <td>0.000</td>\n      <td>2.000</td>\n      <td>2.000</td>\n      <td>NaN</td>\n      <td>0.000</td>\n      <td>NaN</td>\n      <td>NaN</td>\n      <td>NaN</td>\n      <td>NaN</td>\n      <td>NaN</td>\n      <td>2020</td>\n    </tr>\n    <tr>\n      <th>2012</th>\n      <td>2005-10-23</td>\n      <td>2005-10-29</td>\n      <td>NORTE</td>\n      <td>RORAIMA</td>\n      <td>ETANOL HIDRATADO</td>\n      <td>3</td>\n      <td>R$/l</td>\n      <td>2.277</td>\n      <td>0.023</td>\n      <td>2.250</td>\n      <td>2.290</td>\n      <td>NaN</td>\n      <td>0.010</td>\n      <td>NaN</td>\n      <td>NaN</td>\n      <td>NaN</td>\n      <td>NaN</td>\n      <td>NaN</td>\n      <td>2019</td>\n    </tr>\n    <tr>\n      <th>2497</th>\n      <td>2006-02-26</td>\n      <td>2006-03-04</td>\n      <td>NORTE</td>\n      <td>RORAIMA</td>\n      <td>ETANOL HIDRATADO</td>\n      <td>11</td>\n      <td>R$/l</td>\n      <td>2.182</td>\n      <td>0.040</td>\n      <td>2.100</td>\n      <td>2.200</td>\n      <td>NaN</td>\n      <td>0.018</td>\n      <td>NaN</td>\n      <td>NaN</td>\n      <td>NaN</td>\n      <td>NaN</td>\n      <td>NaN</td>\n      <td>2019</td>\n    </tr>\n    <tr>\n      <th>3199</th>\n      <td>2006-08-27</td>\n      <td>2006-09-02</td>\n      <td>NORTE</td>\n      <td>RORAIMA</td>\n      <td>ETANOL HIDRATADO</td>\n      <td>22</td>\n      <td>R$/l</td>\n      <td>2.285</td>\n      <td>0.068</td>\n      <td>1.980</td>\n      <td>2.300</td>\n      <td>NaN</td>\n      <td>0.030</td>\n      <td>NaN</td>\n      <td>NaN</td>\n      <td>NaN</td>\n      <td>NaN</td>\n      <td>NaN</td>\n      <td>2021</td>\n    </tr>\n    <tr>\n      <th>...</th>\n      <td>...</td>\n      <td>...</td>\n      <td>...</td>\n      <td>...</td>\n      <td>...</td>\n      <td>...</td>\n      <td>...</td>\n      <td>...</td>\n      <td>...</td>\n      <td>...</td>\n      <td>...</td>\n      <td>...</td>\n      <td>...</td>\n      <td>...</td>\n      <td>...</td>\n      <td>...</td>\n      <td>...</td>\n      <td>...</td>\n      <td>...</td>\n    </tr>\n    <tr>\n      <th>106664</th>\n      <td>2019-06-16</td>\n      <td>2019-06-22</td>\n      <td>SUDESTE</td>\n      <td>MINAS GERAIS</td>\n      <td>GNV</td>\n      <td>5</td>\n      <td>R$/m3</td>\n      <td>3.445</td>\n      <td>0.147</td>\n      <td>3.347</td>\n      <td>3.699</td>\n      <td>NaN</td>\n      <td>0.043</td>\n      <td>NaN</td>\n      <td>NaN</td>\n      <td>NaN</td>\n      <td>NaN</td>\n      <td>NaN</td>\n      <td>2021</td>\n    </tr>\n    <tr>\n      <th>106666</th>\n      <td>2019-06-16</td>\n      <td>2019-06-22</td>\n      <td>SUL</td>\n      <td>PARANA</td>\n      <td>GNV</td>\n      <td>7</td>\n      <td>R$/m3</td>\n      <td>3.132</td>\n      <td>0.295</td>\n      <td>3.049</td>\n      <td>3.890</td>\n      <td>NaN</td>\n      <td>0.094</td>\n      <td>NaN</td>\n      <td>NaN</td>\n      <td>NaN</td>\n      <td>NaN</td>\n      <td>NaN</td>\n      <td>2018</td>\n    </tr>\n    <tr>\n      <th>106811</th>\n      <td>2019-06-23</td>\n      <td>2019-06-29</td>\n      <td>SUDESTE</td>\n      <td>ESPIRITO SANTO</td>\n      <td>GNV</td>\n      <td>4</td>\n      <td>R$/m3</td>\n      <td>3.299</td>\n      <td>0.005</td>\n      <td>3.290</td>\n      <td>3.299</td>\n      <td>NaN</td>\n      <td>0.002</td>\n      <td>NaN</td>\n      <td>NaN</td>\n      <td>NaN</td>\n      <td>NaN</td>\n      <td>NaN</td>\n      <td>2018</td>\n    </tr>\n    <tr>\n      <th>106813</th>\n      <td>2019-06-23</td>\n      <td>2019-06-29</td>\n      <td>SUDESTE</td>\n      <td>MINAS GERAIS</td>\n      <td>GNV</td>\n      <td>6</td>\n      <td>R$/m3</td>\n      <td>3.548</td>\n      <td>0.100</td>\n      <td>3.495</td>\n      <td>3.699</td>\n      <td>NaN</td>\n      <td>0.028</td>\n      <td>NaN</td>\n      <td>NaN</td>\n      <td>NaN</td>\n      <td>NaN</td>\n      <td>NaN</td>\n      <td>2020</td>\n    </tr>\n    <tr>\n      <th>106815</th>\n      <td>2019-06-23</td>\n      <td>2019-06-29</td>\n      <td>SUL</td>\n      <td>PARANA</td>\n      <td>GNV</td>\n      <td>1</td>\n      <td>R$/m3</td>\n      <td>3.290</td>\n      <td>0.000</td>\n      <td>3.290</td>\n      <td>3.290</td>\n      <td>NaN</td>\n      <td>0.000</td>\n      <td>NaN</td>\n      <td>NaN</td>\n      <td>NaN</td>\n      <td>NaN</td>\n      <td>NaN</td>\n      <td>2017</td>\n    </tr>\n  </tbody>\n</table>\n<p>3400 rows × 19 columns</p>\n</div>"
          },
          "metadata": {}
        }
      ],
      "execution_count": 142
    },
    {
      "id": "residential-wallet",
      "cell_type": "code",
      "source": "# Nos dados originais, quais eram os valores do PREÇO MÉDIO DISTRIBUIÇÃO dos registros que agora possuem valores NaN \ndata[mask]",
      "metadata": {
        "trusted": true
      },
      "outputs": [
        {
          "execution_count": 143,
          "output_type": "execute_result",
          "data": {
            "text/plain": "       DATA INICIAL  DATA FINAL   REGIÃO          ESTADO           PRODUTO  \\\n1903     2005-09-25  2005-10-01    NORTE            PARA  ETANOL HIDRATADO   \n1958     2005-10-09  2005-10-15    NORTE         RORAIMA  ETANOL HIDRATADO   \n2012     2005-10-23  2005-10-29    NORTE         RORAIMA  ETANOL HIDRATADO   \n2497     2006-02-26  2006-03-04    NORTE         RORAIMA  ETANOL HIDRATADO   \n3199     2006-08-27  2006-09-02    NORTE         RORAIMA  ETANOL HIDRATADO   \n...             ...         ...      ...             ...               ...   \n106664   2019-06-16  2019-06-22  SUDESTE    MINAS GERAIS               GNV   \n106666   2019-06-16  2019-06-22      SUL          PARANA               GNV   \n106811   2019-06-23  2019-06-29  SUDESTE  ESPIRITO SANTO               GNV   \n106813   2019-06-23  2019-06-29  SUDESTE    MINAS GERAIS               GNV   \n106815   2019-06-23  2019-06-29      SUL          PARANA               GNV   \n\n        NÚMERO DE POSTOS PESQUISADOS UNIDADE DE MEDIDA  PREÇO MÉDIO REVENDA  \\\n1903                               2              R$/l                1.694   \n1958                               3              R$/l                2.000   \n2012                               3              R$/l                2.277   \n2497                              11              R$/l                2.182   \n3199                              22              R$/l                2.285   \n...                              ...               ...                  ...   \n106664                             5             R$/m3                3.445   \n106666                             7             R$/m3                3.132   \n106811                             4             R$/m3                3.299   \n106813                             6             R$/m3                3.548   \n106815                             1             R$/m3                3.290   \n\n        DESVIO PADRÃO REVENDA  PREÇO MÍNIMO REVENDA  PREÇO MÁXIMO REVENDA  \\\n1903                    0.283                 1.690                 2.090   \n1958                    0.000                 2.000                 2.000   \n2012                    0.023                 2.250                 2.290   \n2497                    0.040                 2.100                 2.200   \n3199                    0.068                 1.980                 2.300   \n...                       ...                   ...                   ...   \n106664                  0.147                 3.347                 3.699   \n106666                  0.295                 3.049                 3.890   \n106811                  0.005                 3.290                 3.299   \n106813                  0.100                 3.495                 3.699   \n106815                  0.000                 3.290                 3.290   \n\n       MARGEM MÉDIA REVENDA  COEF DE VARIAÇÃO REVENDA  \\\n1903                      -                     0.167   \n1958                      -                     0.000   \n2012                      -                     0.010   \n2497                      -                     0.018   \n3199                      -                     0.030   \n...                     ...                       ...   \n106664                    -                     0.043   \n106666                    -                     0.094   \n106811                    -                     0.002   \n106813                    -                     0.028   \n106815                    -                     0.000   \n\n       PREÇO MÉDIO DISTRIBUIÇÃO DESVIO PADRÃO DISTRIBUIÇÃO  \\\n1903                          -                          -   \n1958                          -                          -   \n2012                          -                          -   \n2497                          -                          -   \n3199                          -                          -   \n...                         ...                        ...   \n106664                        -                          -   \n106666                        -                          -   \n106811                        -                          -   \n106813                        -                          -   \n106815                        -                          -   \n\n       PREÇO MÍNIMO DISTRIBUIÇÃO PREÇO MÁXIMO DISTRIBUIÇÃO  \\\n1903                           -                         -   \n1958                           -                         -   \n2012                           -                         -   \n2497                           -                         -   \n3199                           -                         -   \n...                          ...                       ...   \n106664                         -                         -   \n106666                         -                         -   \n106811                         -                         -   \n106813                         -                         -   \n106815                         -                         -   \n\n       COEF DE VARIAÇÃO DISTRIBUIÇÃO   Ano  \n1903                               -  2020  \n1958                               -  2020  \n2012                               -  2019  \n2497                               -  2019  \n3199                               -  2021  \n...                              ...   ...  \n106664                             -  2021  \n106666                             -  2018  \n106811                             -  2018  \n106813                             -  2020  \n106815                             -  2017  \n\n[3400 rows x 19 columns]",
            "text/html": "<div>\n<style scoped>\n    .dataframe tbody tr th:only-of-type {\n        vertical-align: middle;\n    }\n\n    .dataframe tbody tr th {\n        vertical-align: top;\n    }\n\n    .dataframe thead th {\n        text-align: right;\n    }\n</style>\n<table border=\"1\" class=\"dataframe\">\n  <thead>\n    <tr style=\"text-align: right;\">\n      <th></th>\n      <th>DATA INICIAL</th>\n      <th>DATA FINAL</th>\n      <th>REGIÃO</th>\n      <th>ESTADO</th>\n      <th>PRODUTO</th>\n      <th>NÚMERO DE POSTOS PESQUISADOS</th>\n      <th>UNIDADE DE MEDIDA</th>\n      <th>PREÇO MÉDIO REVENDA</th>\n      <th>DESVIO PADRÃO REVENDA</th>\n      <th>PREÇO MÍNIMO REVENDA</th>\n      <th>PREÇO MÁXIMO REVENDA</th>\n      <th>MARGEM MÉDIA REVENDA</th>\n      <th>COEF DE VARIAÇÃO REVENDA</th>\n      <th>PREÇO MÉDIO DISTRIBUIÇÃO</th>\n      <th>DESVIO PADRÃO DISTRIBUIÇÃO</th>\n      <th>PREÇO MÍNIMO DISTRIBUIÇÃO</th>\n      <th>PREÇO MÁXIMO DISTRIBUIÇÃO</th>\n      <th>COEF DE VARIAÇÃO DISTRIBUIÇÃO</th>\n      <th>Ano</th>\n    </tr>\n  </thead>\n  <tbody>\n    <tr>\n      <th>1903</th>\n      <td>2005-09-25</td>\n      <td>2005-10-01</td>\n      <td>NORTE</td>\n      <td>PARA</td>\n      <td>ETANOL HIDRATADO</td>\n      <td>2</td>\n      <td>R$/l</td>\n      <td>1.694</td>\n      <td>0.283</td>\n      <td>1.690</td>\n      <td>2.090</td>\n      <td>-</td>\n      <td>0.167</td>\n      <td>-</td>\n      <td>-</td>\n      <td>-</td>\n      <td>-</td>\n      <td>-</td>\n      <td>2020</td>\n    </tr>\n    <tr>\n      <th>1958</th>\n      <td>2005-10-09</td>\n      <td>2005-10-15</td>\n      <td>NORTE</td>\n      <td>RORAIMA</td>\n      <td>ETANOL HIDRATADO</td>\n      <td>3</td>\n      <td>R$/l</td>\n      <td>2.000</td>\n      <td>0.000</td>\n      <td>2.000</td>\n      <td>2.000</td>\n      <td>-</td>\n      <td>0.000</td>\n      <td>-</td>\n      <td>-</td>\n      <td>-</td>\n      <td>-</td>\n      <td>-</td>\n      <td>2020</td>\n    </tr>\n    <tr>\n      <th>2012</th>\n      <td>2005-10-23</td>\n      <td>2005-10-29</td>\n      <td>NORTE</td>\n      <td>RORAIMA</td>\n      <td>ETANOL HIDRATADO</td>\n      <td>3</td>\n      <td>R$/l</td>\n      <td>2.277</td>\n      <td>0.023</td>\n      <td>2.250</td>\n      <td>2.290</td>\n      <td>-</td>\n      <td>0.010</td>\n      <td>-</td>\n      <td>-</td>\n      <td>-</td>\n      <td>-</td>\n      <td>-</td>\n      <td>2019</td>\n    </tr>\n    <tr>\n      <th>2497</th>\n      <td>2006-02-26</td>\n      <td>2006-03-04</td>\n      <td>NORTE</td>\n      <td>RORAIMA</td>\n      <td>ETANOL HIDRATADO</td>\n      <td>11</td>\n      <td>R$/l</td>\n      <td>2.182</td>\n      <td>0.040</td>\n      <td>2.100</td>\n      <td>2.200</td>\n      <td>-</td>\n      <td>0.018</td>\n      <td>-</td>\n      <td>-</td>\n      <td>-</td>\n      <td>-</td>\n      <td>-</td>\n      <td>2019</td>\n    </tr>\n    <tr>\n      <th>3199</th>\n      <td>2006-08-27</td>\n      <td>2006-09-02</td>\n      <td>NORTE</td>\n      <td>RORAIMA</td>\n      <td>ETANOL HIDRATADO</td>\n      <td>22</td>\n      <td>R$/l</td>\n      <td>2.285</td>\n      <td>0.068</td>\n      <td>1.980</td>\n      <td>2.300</td>\n      <td>-</td>\n      <td>0.030</td>\n      <td>-</td>\n      <td>-</td>\n      <td>-</td>\n      <td>-</td>\n      <td>-</td>\n      <td>2021</td>\n    </tr>\n    <tr>\n      <th>...</th>\n      <td>...</td>\n      <td>...</td>\n      <td>...</td>\n      <td>...</td>\n      <td>...</td>\n      <td>...</td>\n      <td>...</td>\n      <td>...</td>\n      <td>...</td>\n      <td>...</td>\n      <td>...</td>\n      <td>...</td>\n      <td>...</td>\n      <td>...</td>\n      <td>...</td>\n      <td>...</td>\n      <td>...</td>\n      <td>...</td>\n      <td>...</td>\n    </tr>\n    <tr>\n      <th>106664</th>\n      <td>2019-06-16</td>\n      <td>2019-06-22</td>\n      <td>SUDESTE</td>\n      <td>MINAS GERAIS</td>\n      <td>GNV</td>\n      <td>5</td>\n      <td>R$/m3</td>\n      <td>3.445</td>\n      <td>0.147</td>\n      <td>3.347</td>\n      <td>3.699</td>\n      <td>-</td>\n      <td>0.043</td>\n      <td>-</td>\n      <td>-</td>\n      <td>-</td>\n      <td>-</td>\n      <td>-</td>\n      <td>2021</td>\n    </tr>\n    <tr>\n      <th>106666</th>\n      <td>2019-06-16</td>\n      <td>2019-06-22</td>\n      <td>SUL</td>\n      <td>PARANA</td>\n      <td>GNV</td>\n      <td>7</td>\n      <td>R$/m3</td>\n      <td>3.132</td>\n      <td>0.295</td>\n      <td>3.049</td>\n      <td>3.890</td>\n      <td>-</td>\n      <td>0.094</td>\n      <td>-</td>\n      <td>-</td>\n      <td>-</td>\n      <td>-</td>\n      <td>-</td>\n      <td>2018</td>\n    </tr>\n    <tr>\n      <th>106811</th>\n      <td>2019-06-23</td>\n      <td>2019-06-29</td>\n      <td>SUDESTE</td>\n      <td>ESPIRITO SANTO</td>\n      <td>GNV</td>\n      <td>4</td>\n      <td>R$/m3</td>\n      <td>3.299</td>\n      <td>0.005</td>\n      <td>3.290</td>\n      <td>3.299</td>\n      <td>-</td>\n      <td>0.002</td>\n      <td>-</td>\n      <td>-</td>\n      <td>-</td>\n      <td>-</td>\n      <td>-</td>\n      <td>2018</td>\n    </tr>\n    <tr>\n      <th>106813</th>\n      <td>2019-06-23</td>\n      <td>2019-06-29</td>\n      <td>SUDESTE</td>\n      <td>MINAS GERAIS</td>\n      <td>GNV</td>\n      <td>6</td>\n      <td>R$/m3</td>\n      <td>3.548</td>\n      <td>0.100</td>\n      <td>3.495</td>\n      <td>3.699</td>\n      <td>-</td>\n      <td>0.028</td>\n      <td>-</td>\n      <td>-</td>\n      <td>-</td>\n      <td>-</td>\n      <td>-</td>\n      <td>2020</td>\n    </tr>\n    <tr>\n      <th>106815</th>\n      <td>2019-06-23</td>\n      <td>2019-06-29</td>\n      <td>SUL</td>\n      <td>PARANA</td>\n      <td>GNV</td>\n      <td>1</td>\n      <td>R$/m3</td>\n      <td>3.290</td>\n      <td>0.000</td>\n      <td>3.290</td>\n      <td>3.290</td>\n      <td>-</td>\n      <td>0.000</td>\n      <td>-</td>\n      <td>-</td>\n      <td>-</td>\n      <td>-</td>\n      <td>-</td>\n      <td>2017</td>\n    </tr>\n  </tbody>\n</table>\n<p>3400 rows × 19 columns</p>\n</div>"
          },
          "metadata": {}
        }
      ],
      "execution_count": 143
    },
    {
      "id": "general-found",
      "cell_type": "markdown",
      "source": "Várias amostras possuem a _string '-'_ em algumas colunas ao invés de um número de fato. Ou seja, não há aferições destes atributos para estas amostras. <br/>\n\n<br/>\n\nPoderíamos **preencher os valores NaN com um valor padrão**. Para isso, basta usar o método `.fillna`.",
      "metadata": {}
    },
    {
      "id": "standing-significance",
      "cell_type": "code",
      "source": "# Retorna uma cópia do data fram `data_pre` com todos os valores NaN de todas as colunas agora preenchidos com 0.\n# Para alterar o próprio data frame, use o argumento `inplace=True`.\ndata_pre_fill = data_pre.fillna(0)\ndata_pre_fill",
      "metadata": {
        "trusted": true
      },
      "outputs": [
        {
          "execution_count": 144,
          "output_type": "execute_result",
          "data": {
            "text/plain": "       DATA INICIAL DATA FINAL        REGIÃO              ESTADO  \\\n0        2004-05-09 2004-05-15  CENTRO OESTE    DISTRITO FEDERAL   \n1        2004-05-09 2004-05-15  CENTRO OESTE               GOIAS   \n2        2004-05-09 2004-05-15  CENTRO OESTE         MATO GROSSO   \n3        2004-05-09 2004-05-15  CENTRO OESTE  MATO GROSSO DO SUL   \n4        2004-05-09 2004-05-15      NORDESTE             ALAGOAS   \n...             ...        ...           ...                 ...   \n120818   2021-04-25 2021-05-01         NORTE             RORAIMA   \n120819   2021-04-25 2021-05-01           SUL      SANTA CATARINA   \n120820   2021-04-25 2021-05-01       SUDESTE           SAO PAULO   \n120821   2021-04-25 2021-05-01      NORDESTE             SERGIPE   \n120822   2021-04-25 2021-05-01         NORTE           TOCANTINS   \n\n                 PRODUTO  NÚMERO DE POSTOS PESQUISADOS UNIDADE DE MEDIDA  \\\n0       ETANOL HIDRATADO                           127              R$/l   \n1       ETANOL HIDRATADO                           387              R$/l   \n2       ETANOL HIDRATADO                           192              R$/l   \n3       ETANOL HIDRATADO                           162              R$/l   \n4       ETANOL HIDRATADO                           103              R$/l   \n...                  ...                           ...               ...   \n120818   OLEO DIESEL S10                            12              R$/l   \n120819   OLEO DIESEL S10                           100              R$/l   \n120820   OLEO DIESEL S10                           886              R$/l   \n120821   OLEO DIESEL S10                            33              R$/l   \n120822   OLEO DIESEL S10                            18              R$/l   \n\n        PREÇO MÉDIO REVENDA  DESVIO PADRÃO REVENDA  PREÇO MÍNIMO REVENDA  \\\n0                     1.288                  0.016                 1.190   \n1                     1.162                  0.114                 0.890   \n2                     1.389                  0.097                 1.180   \n3                     1.262                  0.070                 1.090   \n4                     1.181                  0.078                 1.050   \n...                     ...                    ...                   ...   \n120818                4.582                  0.056                 4.510   \n120819                4.141                  0.187                 3.838   \n120820                4.246                  0.216                 3.769   \n120821                4.464                  0.205                 4.190   \n120822                4.352                  0.156                 4.199   \n\n        PREÇO MÁXIMO REVENDA  MARGEM MÉDIA REVENDA  COEF DE VARIAÇÃO REVENDA  \\\n0                      1.350                 0.463                     0.012   \n1                      1.449                 0.399                     0.098   \n2                      1.760                 0.419                     0.070   \n3                      1.509                 0.432                     0.055   \n4                      1.400                 0.240                     0.066   \n...                      ...                   ...                       ...   \n120818                 4.690            -99999.000                     0.012   \n120819                 4.739            -99999.000                     0.045   \n120820                 5.199            -99999.000                     0.051   \n120821                 4.699            -99999.000                     0.046   \n120822                 4.699            -99999.000                     0.036   \n\n        PREÇO MÉDIO DISTRIBUIÇÃO  DESVIO PADRÃO DISTRIBUIÇÃO  \\\n0                          0.825                       0.110   \n1                          0.763                       0.088   \n2                          0.970                       0.095   \n3                          0.830                       0.119   \n4                          0.941                       0.077   \n...                          ...                         ...   \n120818                -99999.000                  -99999.000   \n120819                -99999.000                  -99999.000   \n120820                -99999.000                  -99999.000   \n120821                -99999.000                  -99999.000   \n120822                -99999.000                  -99999.000   \n\n        PREÇO MÍNIMO DISTRIBUIÇÃO  PREÇO MÁXIMO DISTRIBUIÇÃO  \\\n0                          0.4201                    0.96660   \n1                          0.5013                    1.05000   \n2                          0.5614                    1.16100   \n3                          0.5991                    1.22242   \n4                          0.7441                    1.03170   \n...                           ...                        ...   \n120818                -99999.0000               -99999.00000   \n120819                -99999.0000               -99999.00000   \n120820                -99999.0000               -99999.00000   \n120821                -99999.0000               -99999.00000   \n120822                -99999.0000               -99999.00000   \n\n        COEF DE VARIAÇÃO DISTRIBUIÇÃO   Ano  \n0                               0.133  2017  \n1                               0.115  2018  \n2                               0.098  2019  \n3                               0.143  2020  \n4                               0.082  2021  \n...                               ...   ...  \n120818                     -99999.000  2020  \n120819                     -99999.000  2021  \n120820                     -99999.000  2017  \n120821                     -99999.000  2018  \n120822                     -99999.000  2019  \n\n[120823 rows x 19 columns]",
            "text/html": "<div>\n<style scoped>\n    .dataframe tbody tr th:only-of-type {\n        vertical-align: middle;\n    }\n\n    .dataframe tbody tr th {\n        vertical-align: top;\n    }\n\n    .dataframe thead th {\n        text-align: right;\n    }\n</style>\n<table border=\"1\" class=\"dataframe\">\n  <thead>\n    <tr style=\"text-align: right;\">\n      <th></th>\n      <th>DATA INICIAL</th>\n      <th>DATA FINAL</th>\n      <th>REGIÃO</th>\n      <th>ESTADO</th>\n      <th>PRODUTO</th>\n      <th>NÚMERO DE POSTOS PESQUISADOS</th>\n      <th>UNIDADE DE MEDIDA</th>\n      <th>PREÇO MÉDIO REVENDA</th>\n      <th>DESVIO PADRÃO REVENDA</th>\n      <th>PREÇO MÍNIMO REVENDA</th>\n      <th>PREÇO MÁXIMO REVENDA</th>\n      <th>MARGEM MÉDIA REVENDA</th>\n      <th>COEF DE VARIAÇÃO REVENDA</th>\n      <th>PREÇO MÉDIO DISTRIBUIÇÃO</th>\n      <th>DESVIO PADRÃO DISTRIBUIÇÃO</th>\n      <th>PREÇO MÍNIMO DISTRIBUIÇÃO</th>\n      <th>PREÇO MÁXIMO DISTRIBUIÇÃO</th>\n      <th>COEF DE VARIAÇÃO DISTRIBUIÇÃO</th>\n      <th>Ano</th>\n    </tr>\n  </thead>\n  <tbody>\n    <tr>\n      <th>0</th>\n      <td>2004-05-09</td>\n      <td>2004-05-15</td>\n      <td>CENTRO OESTE</td>\n      <td>DISTRITO FEDERAL</td>\n      <td>ETANOL HIDRATADO</td>\n      <td>127</td>\n      <td>R$/l</td>\n      <td>1.288</td>\n      <td>0.016</td>\n      <td>1.190</td>\n      <td>1.350</td>\n      <td>0.463</td>\n      <td>0.012</td>\n      <td>0.825</td>\n      <td>0.110</td>\n      <td>0.4201</td>\n      <td>0.96660</td>\n      <td>0.133</td>\n      <td>2017</td>\n    </tr>\n    <tr>\n      <th>1</th>\n      <td>2004-05-09</td>\n      <td>2004-05-15</td>\n      <td>CENTRO OESTE</td>\n      <td>GOIAS</td>\n      <td>ETANOL HIDRATADO</td>\n      <td>387</td>\n      <td>R$/l</td>\n      <td>1.162</td>\n      <td>0.114</td>\n      <td>0.890</td>\n      <td>1.449</td>\n      <td>0.399</td>\n      <td>0.098</td>\n      <td>0.763</td>\n      <td>0.088</td>\n      <td>0.5013</td>\n      <td>1.05000</td>\n      <td>0.115</td>\n      <td>2018</td>\n    </tr>\n    <tr>\n      <th>2</th>\n      <td>2004-05-09</td>\n      <td>2004-05-15</td>\n      <td>CENTRO OESTE</td>\n      <td>MATO GROSSO</td>\n      <td>ETANOL HIDRATADO</td>\n      <td>192</td>\n      <td>R$/l</td>\n      <td>1.389</td>\n      <td>0.097</td>\n      <td>1.180</td>\n      <td>1.760</td>\n      <td>0.419</td>\n      <td>0.070</td>\n      <td>0.970</td>\n      <td>0.095</td>\n      <td>0.5614</td>\n      <td>1.16100</td>\n      <td>0.098</td>\n      <td>2019</td>\n    </tr>\n    <tr>\n      <th>3</th>\n      <td>2004-05-09</td>\n      <td>2004-05-15</td>\n      <td>CENTRO OESTE</td>\n      <td>MATO GROSSO DO SUL</td>\n      <td>ETANOL HIDRATADO</td>\n      <td>162</td>\n      <td>R$/l</td>\n      <td>1.262</td>\n      <td>0.070</td>\n      <td>1.090</td>\n      <td>1.509</td>\n      <td>0.432</td>\n      <td>0.055</td>\n      <td>0.830</td>\n      <td>0.119</td>\n      <td>0.5991</td>\n      <td>1.22242</td>\n      <td>0.143</td>\n      <td>2020</td>\n    </tr>\n    <tr>\n      <th>4</th>\n      <td>2004-05-09</td>\n      <td>2004-05-15</td>\n      <td>NORDESTE</td>\n      <td>ALAGOAS</td>\n      <td>ETANOL HIDRATADO</td>\n      <td>103</td>\n      <td>R$/l</td>\n      <td>1.181</td>\n      <td>0.078</td>\n      <td>1.050</td>\n      <td>1.400</td>\n      <td>0.240</td>\n      <td>0.066</td>\n      <td>0.941</td>\n      <td>0.077</td>\n      <td>0.7441</td>\n      <td>1.03170</td>\n      <td>0.082</td>\n      <td>2021</td>\n    </tr>\n    <tr>\n      <th>...</th>\n      <td>...</td>\n      <td>...</td>\n      <td>...</td>\n      <td>...</td>\n      <td>...</td>\n      <td>...</td>\n      <td>...</td>\n      <td>...</td>\n      <td>...</td>\n      <td>...</td>\n      <td>...</td>\n      <td>...</td>\n      <td>...</td>\n      <td>...</td>\n      <td>...</td>\n      <td>...</td>\n      <td>...</td>\n      <td>...</td>\n      <td>...</td>\n    </tr>\n    <tr>\n      <th>120818</th>\n      <td>2021-04-25</td>\n      <td>2021-05-01</td>\n      <td>NORTE</td>\n      <td>RORAIMA</td>\n      <td>OLEO DIESEL S10</td>\n      <td>12</td>\n      <td>R$/l</td>\n      <td>4.582</td>\n      <td>0.056</td>\n      <td>4.510</td>\n      <td>4.690</td>\n      <td>-99999.000</td>\n      <td>0.012</td>\n      <td>-99999.000</td>\n      <td>-99999.000</td>\n      <td>-99999.0000</td>\n      <td>-99999.00000</td>\n      <td>-99999.000</td>\n      <td>2020</td>\n    </tr>\n    <tr>\n      <th>120819</th>\n      <td>2021-04-25</td>\n      <td>2021-05-01</td>\n      <td>SUL</td>\n      <td>SANTA CATARINA</td>\n      <td>OLEO DIESEL S10</td>\n      <td>100</td>\n      <td>R$/l</td>\n      <td>4.141</td>\n      <td>0.187</td>\n      <td>3.838</td>\n      <td>4.739</td>\n      <td>-99999.000</td>\n      <td>0.045</td>\n      <td>-99999.000</td>\n      <td>-99999.000</td>\n      <td>-99999.0000</td>\n      <td>-99999.00000</td>\n      <td>-99999.000</td>\n      <td>2021</td>\n    </tr>\n    <tr>\n      <th>120820</th>\n      <td>2021-04-25</td>\n      <td>2021-05-01</td>\n      <td>SUDESTE</td>\n      <td>SAO PAULO</td>\n      <td>OLEO DIESEL S10</td>\n      <td>886</td>\n      <td>R$/l</td>\n      <td>4.246</td>\n      <td>0.216</td>\n      <td>3.769</td>\n      <td>5.199</td>\n      <td>-99999.000</td>\n      <td>0.051</td>\n      <td>-99999.000</td>\n      <td>-99999.000</td>\n      <td>-99999.0000</td>\n      <td>-99999.00000</td>\n      <td>-99999.000</td>\n      <td>2017</td>\n    </tr>\n    <tr>\n      <th>120821</th>\n      <td>2021-04-25</td>\n      <td>2021-05-01</td>\n      <td>NORDESTE</td>\n      <td>SERGIPE</td>\n      <td>OLEO DIESEL S10</td>\n      <td>33</td>\n      <td>R$/l</td>\n      <td>4.464</td>\n      <td>0.205</td>\n      <td>4.190</td>\n      <td>4.699</td>\n      <td>-99999.000</td>\n      <td>0.046</td>\n      <td>-99999.000</td>\n      <td>-99999.000</td>\n      <td>-99999.0000</td>\n      <td>-99999.00000</td>\n      <td>-99999.000</td>\n      <td>2018</td>\n    </tr>\n    <tr>\n      <th>120822</th>\n      <td>2021-04-25</td>\n      <td>2021-05-01</td>\n      <td>NORTE</td>\n      <td>TOCANTINS</td>\n      <td>OLEO DIESEL S10</td>\n      <td>18</td>\n      <td>R$/l</td>\n      <td>4.352</td>\n      <td>0.156</td>\n      <td>4.199</td>\n      <td>4.699</td>\n      <td>-99999.000</td>\n      <td>0.036</td>\n      <td>-99999.000</td>\n      <td>-99999.000</td>\n      <td>-99999.0000</td>\n      <td>-99999.00000</td>\n      <td>-99999.000</td>\n      <td>2019</td>\n    </tr>\n  </tbody>\n</table>\n<p>120823 rows × 19 columns</p>\n</div>"
          },
          "metadata": {}
        }
      ],
      "execution_count": 144
    },
    {
      "id": "fourth-smoke",
      "cell_type": "code",
      "source": "data_pre_fill[mask]  # valores que antes eram NaN, agora são 0",
      "metadata": {
        "trusted": true
      },
      "outputs": [
        {
          "execution_count": 145,
          "output_type": "execute_result",
          "data": {
            "text/plain": "       DATA INICIAL DATA FINAL   REGIÃO          ESTADO           PRODUTO  \\\n1903     2005-09-25 2005-10-01    NORTE            PARA  ETANOL HIDRATADO   \n1958     2005-10-09 2005-10-15    NORTE         RORAIMA  ETANOL HIDRATADO   \n2012     2005-10-23 2005-10-29    NORTE         RORAIMA  ETANOL HIDRATADO   \n2497     2006-02-26 2006-03-04    NORTE         RORAIMA  ETANOL HIDRATADO   \n3199     2006-08-27 2006-09-02    NORTE         RORAIMA  ETANOL HIDRATADO   \n...             ...        ...      ...             ...               ...   \n106664   2019-06-16 2019-06-22  SUDESTE    MINAS GERAIS               GNV   \n106666   2019-06-16 2019-06-22      SUL          PARANA               GNV   \n106811   2019-06-23 2019-06-29  SUDESTE  ESPIRITO SANTO               GNV   \n106813   2019-06-23 2019-06-29  SUDESTE    MINAS GERAIS               GNV   \n106815   2019-06-23 2019-06-29      SUL          PARANA               GNV   \n\n        NÚMERO DE POSTOS PESQUISADOS UNIDADE DE MEDIDA  PREÇO MÉDIO REVENDA  \\\n1903                               2              R$/l                1.694   \n1958                               3              R$/l                2.000   \n2012                               3              R$/l                2.277   \n2497                              11              R$/l                2.182   \n3199                              22              R$/l                2.285   \n...                              ...               ...                  ...   \n106664                             5             R$/m3                3.445   \n106666                             7             R$/m3                3.132   \n106811                             4             R$/m3                3.299   \n106813                             6             R$/m3                3.548   \n106815                             1             R$/m3                3.290   \n\n        DESVIO PADRÃO REVENDA  PREÇO MÍNIMO REVENDA  PREÇO MÁXIMO REVENDA  \\\n1903                    0.283                 1.690                 2.090   \n1958                    0.000                 2.000                 2.000   \n2012                    0.023                 2.250                 2.290   \n2497                    0.040                 2.100                 2.200   \n3199                    0.068                 1.980                 2.300   \n...                       ...                   ...                   ...   \n106664                  0.147                 3.347                 3.699   \n106666                  0.295                 3.049                 3.890   \n106811                  0.005                 3.290                 3.299   \n106813                  0.100                 3.495                 3.699   \n106815                  0.000                 3.290                 3.290   \n\n        MARGEM MÉDIA REVENDA  COEF DE VARIAÇÃO REVENDA  \\\n1903                     0.0                     0.167   \n1958                     0.0                     0.000   \n2012                     0.0                     0.010   \n2497                     0.0                     0.018   \n3199                     0.0                     0.030   \n...                      ...                       ...   \n106664                   0.0                     0.043   \n106666                   0.0                     0.094   \n106811                   0.0                     0.002   \n106813                   0.0                     0.028   \n106815                   0.0                     0.000   \n\n        PREÇO MÉDIO DISTRIBUIÇÃO  DESVIO PADRÃO DISTRIBUIÇÃO  \\\n1903                         0.0                         0.0   \n1958                         0.0                         0.0   \n2012                         0.0                         0.0   \n2497                         0.0                         0.0   \n3199                         0.0                         0.0   \n...                          ...                         ...   \n106664                       0.0                         0.0   \n106666                       0.0                         0.0   \n106811                       0.0                         0.0   \n106813                       0.0                         0.0   \n106815                       0.0                         0.0   \n\n        PREÇO MÍNIMO DISTRIBUIÇÃO  PREÇO MÁXIMO DISTRIBUIÇÃO  \\\n1903                          0.0                        0.0   \n1958                          0.0                        0.0   \n2012                          0.0                        0.0   \n2497                          0.0                        0.0   \n3199                          0.0                        0.0   \n...                           ...                        ...   \n106664                        0.0                        0.0   \n106666                        0.0                        0.0   \n106811                        0.0                        0.0   \n106813                        0.0                        0.0   \n106815                        0.0                        0.0   \n\n        COEF DE VARIAÇÃO DISTRIBUIÇÃO   Ano  \n1903                              0.0  2020  \n1958                              0.0  2020  \n2012                              0.0  2019  \n2497                              0.0  2019  \n3199                              0.0  2021  \n...                               ...   ...  \n106664                            0.0  2021  \n106666                            0.0  2018  \n106811                            0.0  2018  \n106813                            0.0  2020  \n106815                            0.0  2017  \n\n[3400 rows x 19 columns]",
            "text/html": "<div>\n<style scoped>\n    .dataframe tbody tr th:only-of-type {\n        vertical-align: middle;\n    }\n\n    .dataframe tbody tr th {\n        vertical-align: top;\n    }\n\n    .dataframe thead th {\n        text-align: right;\n    }\n</style>\n<table border=\"1\" class=\"dataframe\">\n  <thead>\n    <tr style=\"text-align: right;\">\n      <th></th>\n      <th>DATA INICIAL</th>\n      <th>DATA FINAL</th>\n      <th>REGIÃO</th>\n      <th>ESTADO</th>\n      <th>PRODUTO</th>\n      <th>NÚMERO DE POSTOS PESQUISADOS</th>\n      <th>UNIDADE DE MEDIDA</th>\n      <th>PREÇO MÉDIO REVENDA</th>\n      <th>DESVIO PADRÃO REVENDA</th>\n      <th>PREÇO MÍNIMO REVENDA</th>\n      <th>PREÇO MÁXIMO REVENDA</th>\n      <th>MARGEM MÉDIA REVENDA</th>\n      <th>COEF DE VARIAÇÃO REVENDA</th>\n      <th>PREÇO MÉDIO DISTRIBUIÇÃO</th>\n      <th>DESVIO PADRÃO DISTRIBUIÇÃO</th>\n      <th>PREÇO MÍNIMO DISTRIBUIÇÃO</th>\n      <th>PREÇO MÁXIMO DISTRIBUIÇÃO</th>\n      <th>COEF DE VARIAÇÃO DISTRIBUIÇÃO</th>\n      <th>Ano</th>\n    </tr>\n  </thead>\n  <tbody>\n    <tr>\n      <th>1903</th>\n      <td>2005-09-25</td>\n      <td>2005-10-01</td>\n      <td>NORTE</td>\n      <td>PARA</td>\n      <td>ETANOL HIDRATADO</td>\n      <td>2</td>\n      <td>R$/l</td>\n      <td>1.694</td>\n      <td>0.283</td>\n      <td>1.690</td>\n      <td>2.090</td>\n      <td>0.0</td>\n      <td>0.167</td>\n      <td>0.0</td>\n      <td>0.0</td>\n      <td>0.0</td>\n      <td>0.0</td>\n      <td>0.0</td>\n      <td>2020</td>\n    </tr>\n    <tr>\n      <th>1958</th>\n      <td>2005-10-09</td>\n      <td>2005-10-15</td>\n      <td>NORTE</td>\n      <td>RORAIMA</td>\n      <td>ETANOL HIDRATADO</td>\n      <td>3</td>\n      <td>R$/l</td>\n      <td>2.000</td>\n      <td>0.000</td>\n      <td>2.000</td>\n      <td>2.000</td>\n      <td>0.0</td>\n      <td>0.000</td>\n      <td>0.0</td>\n      <td>0.0</td>\n      <td>0.0</td>\n      <td>0.0</td>\n      <td>0.0</td>\n      <td>2020</td>\n    </tr>\n    <tr>\n      <th>2012</th>\n      <td>2005-10-23</td>\n      <td>2005-10-29</td>\n      <td>NORTE</td>\n      <td>RORAIMA</td>\n      <td>ETANOL HIDRATADO</td>\n      <td>3</td>\n      <td>R$/l</td>\n      <td>2.277</td>\n      <td>0.023</td>\n      <td>2.250</td>\n      <td>2.290</td>\n      <td>0.0</td>\n      <td>0.010</td>\n      <td>0.0</td>\n      <td>0.0</td>\n      <td>0.0</td>\n      <td>0.0</td>\n      <td>0.0</td>\n      <td>2019</td>\n    </tr>\n    <tr>\n      <th>2497</th>\n      <td>2006-02-26</td>\n      <td>2006-03-04</td>\n      <td>NORTE</td>\n      <td>RORAIMA</td>\n      <td>ETANOL HIDRATADO</td>\n      <td>11</td>\n      <td>R$/l</td>\n      <td>2.182</td>\n      <td>0.040</td>\n      <td>2.100</td>\n      <td>2.200</td>\n      <td>0.0</td>\n      <td>0.018</td>\n      <td>0.0</td>\n      <td>0.0</td>\n      <td>0.0</td>\n      <td>0.0</td>\n      <td>0.0</td>\n      <td>2019</td>\n    </tr>\n    <tr>\n      <th>3199</th>\n      <td>2006-08-27</td>\n      <td>2006-09-02</td>\n      <td>NORTE</td>\n      <td>RORAIMA</td>\n      <td>ETANOL HIDRATADO</td>\n      <td>22</td>\n      <td>R$/l</td>\n      <td>2.285</td>\n      <td>0.068</td>\n      <td>1.980</td>\n      <td>2.300</td>\n      <td>0.0</td>\n      <td>0.030</td>\n      <td>0.0</td>\n      <td>0.0</td>\n      <td>0.0</td>\n      <td>0.0</td>\n      <td>0.0</td>\n      <td>2021</td>\n    </tr>\n    <tr>\n      <th>...</th>\n      <td>...</td>\n      <td>...</td>\n      <td>...</td>\n      <td>...</td>\n      <td>...</td>\n      <td>...</td>\n      <td>...</td>\n      <td>...</td>\n      <td>...</td>\n      <td>...</td>\n      <td>...</td>\n      <td>...</td>\n      <td>...</td>\n      <td>...</td>\n      <td>...</td>\n      <td>...</td>\n      <td>...</td>\n      <td>...</td>\n      <td>...</td>\n    </tr>\n    <tr>\n      <th>106664</th>\n      <td>2019-06-16</td>\n      <td>2019-06-22</td>\n      <td>SUDESTE</td>\n      <td>MINAS GERAIS</td>\n      <td>GNV</td>\n      <td>5</td>\n      <td>R$/m3</td>\n      <td>3.445</td>\n      <td>0.147</td>\n      <td>3.347</td>\n      <td>3.699</td>\n      <td>0.0</td>\n      <td>0.043</td>\n      <td>0.0</td>\n      <td>0.0</td>\n      <td>0.0</td>\n      <td>0.0</td>\n      <td>0.0</td>\n      <td>2021</td>\n    </tr>\n    <tr>\n      <th>106666</th>\n      <td>2019-06-16</td>\n      <td>2019-06-22</td>\n      <td>SUL</td>\n      <td>PARANA</td>\n      <td>GNV</td>\n      <td>7</td>\n      <td>R$/m3</td>\n      <td>3.132</td>\n      <td>0.295</td>\n      <td>3.049</td>\n      <td>3.890</td>\n      <td>0.0</td>\n      <td>0.094</td>\n      <td>0.0</td>\n      <td>0.0</td>\n      <td>0.0</td>\n      <td>0.0</td>\n      <td>0.0</td>\n      <td>2018</td>\n    </tr>\n    <tr>\n      <th>106811</th>\n      <td>2019-06-23</td>\n      <td>2019-06-29</td>\n      <td>SUDESTE</td>\n      <td>ESPIRITO SANTO</td>\n      <td>GNV</td>\n      <td>4</td>\n      <td>R$/m3</td>\n      <td>3.299</td>\n      <td>0.005</td>\n      <td>3.290</td>\n      <td>3.299</td>\n      <td>0.0</td>\n      <td>0.002</td>\n      <td>0.0</td>\n      <td>0.0</td>\n      <td>0.0</td>\n      <td>0.0</td>\n      <td>0.0</td>\n      <td>2018</td>\n    </tr>\n    <tr>\n      <th>106813</th>\n      <td>2019-06-23</td>\n      <td>2019-06-29</td>\n      <td>SUDESTE</td>\n      <td>MINAS GERAIS</td>\n      <td>GNV</td>\n      <td>6</td>\n      <td>R$/m3</td>\n      <td>3.548</td>\n      <td>0.100</td>\n      <td>3.495</td>\n      <td>3.699</td>\n      <td>0.0</td>\n      <td>0.028</td>\n      <td>0.0</td>\n      <td>0.0</td>\n      <td>0.0</td>\n      <td>0.0</td>\n      <td>0.0</td>\n      <td>2020</td>\n    </tr>\n    <tr>\n      <th>106815</th>\n      <td>2019-06-23</td>\n      <td>2019-06-29</td>\n      <td>SUL</td>\n      <td>PARANA</td>\n      <td>GNV</td>\n      <td>1</td>\n      <td>R$/m3</td>\n      <td>3.290</td>\n      <td>0.000</td>\n      <td>3.290</td>\n      <td>3.290</td>\n      <td>0.0</td>\n      <td>0.000</td>\n      <td>0.0</td>\n      <td>0.0</td>\n      <td>0.0</td>\n      <td>0.0</td>\n      <td>0.0</td>\n      <td>2017</td>\n    </tr>\n  </tbody>\n</table>\n<p>3400 rows × 19 columns</p>\n</div>"
          },
          "metadata": {}
        }
      ],
      "execution_count": 145
    },
    {
      "id": "specific-wings",
      "cell_type": "code",
      "source": "# retorna uma cópia do data frame `data_pre` com todos os valores NaN das colunas:\n# 'PREÇO MÉDIO DISTRIBUIÇÃO', 'DESVIO PADRÃO DISTRIBUIÇÃO', 'PREÇO MÍNIMO DISTRIBUIÇÃO' e 'PREÇO MÁXIMO DISTRIBUIÇÃO', respectivamente, com os valores: 10, 20, 30, 'vazio'.\ndata_pre_fill = data_pre.fillna(value={\n    'PREÇO MÉDIO DISTRIBUIÇÃO': 10,\n    'DESVIO PADRÃO DISTRIBUIÇÃO': 20,\n    'PREÇO MÍNIMO DISTRIBUIÇÃO': 30,\n    'PREÇO MÁXIMO DISTRIBUIÇÃO': 'vazio'\n})",
      "metadata": {
        "trusted": true
      },
      "outputs": [],
      "execution_count": 146
    },
    {
      "id": "hispanic-message",
      "cell_type": "code",
      "source": "data_pre_fill[mask]",
      "metadata": {
        "trusted": true
      },
      "outputs": [
        {
          "execution_count": 147,
          "output_type": "execute_result",
          "data": {
            "text/plain": "       DATA INICIAL DATA FINAL   REGIÃO          ESTADO           PRODUTO  \\\n1903     2005-09-25 2005-10-01    NORTE            PARA  ETANOL HIDRATADO   \n1958     2005-10-09 2005-10-15    NORTE         RORAIMA  ETANOL HIDRATADO   \n2012     2005-10-23 2005-10-29    NORTE         RORAIMA  ETANOL HIDRATADO   \n2497     2006-02-26 2006-03-04    NORTE         RORAIMA  ETANOL HIDRATADO   \n3199     2006-08-27 2006-09-02    NORTE         RORAIMA  ETANOL HIDRATADO   \n...             ...        ...      ...             ...               ...   \n106664   2019-06-16 2019-06-22  SUDESTE    MINAS GERAIS               GNV   \n106666   2019-06-16 2019-06-22      SUL          PARANA               GNV   \n106811   2019-06-23 2019-06-29  SUDESTE  ESPIRITO SANTO               GNV   \n106813   2019-06-23 2019-06-29  SUDESTE    MINAS GERAIS               GNV   \n106815   2019-06-23 2019-06-29      SUL          PARANA               GNV   \n\n        NÚMERO DE POSTOS PESQUISADOS UNIDADE DE MEDIDA  PREÇO MÉDIO REVENDA  \\\n1903                               2              R$/l                1.694   \n1958                               3              R$/l                2.000   \n2012                               3              R$/l                2.277   \n2497                              11              R$/l                2.182   \n3199                              22              R$/l                2.285   \n...                              ...               ...                  ...   \n106664                             5             R$/m3                3.445   \n106666                             7             R$/m3                3.132   \n106811                             4             R$/m3                3.299   \n106813                             6             R$/m3                3.548   \n106815                             1             R$/m3                3.290   \n\n        DESVIO PADRÃO REVENDA  PREÇO MÍNIMO REVENDA  PREÇO MÁXIMO REVENDA  \\\n1903                    0.283                 1.690                 2.090   \n1958                    0.000                 2.000                 2.000   \n2012                    0.023                 2.250                 2.290   \n2497                    0.040                 2.100                 2.200   \n3199                    0.068                 1.980                 2.300   \n...                       ...                   ...                   ...   \n106664                  0.147                 3.347                 3.699   \n106666                  0.295                 3.049                 3.890   \n106811                  0.005                 3.290                 3.299   \n106813                  0.100                 3.495                 3.699   \n106815                  0.000                 3.290                 3.290   \n\n        MARGEM MÉDIA REVENDA  COEF DE VARIAÇÃO REVENDA  \\\n1903                     NaN                     0.167   \n1958                     NaN                     0.000   \n2012                     NaN                     0.010   \n2497                     NaN                     0.018   \n3199                     NaN                     0.030   \n...                      ...                       ...   \n106664                   NaN                     0.043   \n106666                   NaN                     0.094   \n106811                   NaN                     0.002   \n106813                   NaN                     0.028   \n106815                   NaN                     0.000   \n\n        PREÇO MÉDIO DISTRIBUIÇÃO  DESVIO PADRÃO DISTRIBUIÇÃO  \\\n1903                        10.0                        20.0   \n1958                        10.0                        20.0   \n2012                        10.0                        20.0   \n2497                        10.0                        20.0   \n3199                        10.0                        20.0   \n...                          ...                         ...   \n106664                      10.0                        20.0   \n106666                      10.0                        20.0   \n106811                      10.0                        20.0   \n106813                      10.0                        20.0   \n106815                      10.0                        20.0   \n\n        PREÇO MÍNIMO DISTRIBUIÇÃO PREÇO MÁXIMO DISTRIBUIÇÃO  \\\n1903                         30.0                     vazio   \n1958                         30.0                     vazio   \n2012                         30.0                     vazio   \n2497                         30.0                     vazio   \n3199                         30.0                     vazio   \n...                           ...                       ...   \n106664                       30.0                     vazio   \n106666                       30.0                     vazio   \n106811                       30.0                     vazio   \n106813                       30.0                     vazio   \n106815                       30.0                     vazio   \n\n        COEF DE VARIAÇÃO DISTRIBUIÇÃO   Ano  \n1903                              NaN  2020  \n1958                              NaN  2020  \n2012                              NaN  2019  \n2497                              NaN  2019  \n3199                              NaN  2021  \n...                               ...   ...  \n106664                            NaN  2021  \n106666                            NaN  2018  \n106811                            NaN  2018  \n106813                            NaN  2020  \n106815                            NaN  2017  \n\n[3400 rows x 19 columns]",
            "text/html": "<div>\n<style scoped>\n    .dataframe tbody tr th:only-of-type {\n        vertical-align: middle;\n    }\n\n    .dataframe tbody tr th {\n        vertical-align: top;\n    }\n\n    .dataframe thead th {\n        text-align: right;\n    }\n</style>\n<table border=\"1\" class=\"dataframe\">\n  <thead>\n    <tr style=\"text-align: right;\">\n      <th></th>\n      <th>DATA INICIAL</th>\n      <th>DATA FINAL</th>\n      <th>REGIÃO</th>\n      <th>ESTADO</th>\n      <th>PRODUTO</th>\n      <th>NÚMERO DE POSTOS PESQUISADOS</th>\n      <th>UNIDADE DE MEDIDA</th>\n      <th>PREÇO MÉDIO REVENDA</th>\n      <th>DESVIO PADRÃO REVENDA</th>\n      <th>PREÇO MÍNIMO REVENDA</th>\n      <th>PREÇO MÁXIMO REVENDA</th>\n      <th>MARGEM MÉDIA REVENDA</th>\n      <th>COEF DE VARIAÇÃO REVENDA</th>\n      <th>PREÇO MÉDIO DISTRIBUIÇÃO</th>\n      <th>DESVIO PADRÃO DISTRIBUIÇÃO</th>\n      <th>PREÇO MÍNIMO DISTRIBUIÇÃO</th>\n      <th>PREÇO MÁXIMO DISTRIBUIÇÃO</th>\n      <th>COEF DE VARIAÇÃO DISTRIBUIÇÃO</th>\n      <th>Ano</th>\n    </tr>\n  </thead>\n  <tbody>\n    <tr>\n      <th>1903</th>\n      <td>2005-09-25</td>\n      <td>2005-10-01</td>\n      <td>NORTE</td>\n      <td>PARA</td>\n      <td>ETANOL HIDRATADO</td>\n      <td>2</td>\n      <td>R$/l</td>\n      <td>1.694</td>\n      <td>0.283</td>\n      <td>1.690</td>\n      <td>2.090</td>\n      <td>NaN</td>\n      <td>0.167</td>\n      <td>10.0</td>\n      <td>20.0</td>\n      <td>30.0</td>\n      <td>vazio</td>\n      <td>NaN</td>\n      <td>2020</td>\n    </tr>\n    <tr>\n      <th>1958</th>\n      <td>2005-10-09</td>\n      <td>2005-10-15</td>\n      <td>NORTE</td>\n      <td>RORAIMA</td>\n      <td>ETANOL HIDRATADO</td>\n      <td>3</td>\n      <td>R$/l</td>\n      <td>2.000</td>\n      <td>0.000</td>\n      <td>2.000</td>\n      <td>2.000</td>\n      <td>NaN</td>\n      <td>0.000</td>\n      <td>10.0</td>\n      <td>20.0</td>\n      <td>30.0</td>\n      <td>vazio</td>\n      <td>NaN</td>\n      <td>2020</td>\n    </tr>\n    <tr>\n      <th>2012</th>\n      <td>2005-10-23</td>\n      <td>2005-10-29</td>\n      <td>NORTE</td>\n      <td>RORAIMA</td>\n      <td>ETANOL HIDRATADO</td>\n      <td>3</td>\n      <td>R$/l</td>\n      <td>2.277</td>\n      <td>0.023</td>\n      <td>2.250</td>\n      <td>2.290</td>\n      <td>NaN</td>\n      <td>0.010</td>\n      <td>10.0</td>\n      <td>20.0</td>\n      <td>30.0</td>\n      <td>vazio</td>\n      <td>NaN</td>\n      <td>2019</td>\n    </tr>\n    <tr>\n      <th>2497</th>\n      <td>2006-02-26</td>\n      <td>2006-03-04</td>\n      <td>NORTE</td>\n      <td>RORAIMA</td>\n      <td>ETANOL HIDRATADO</td>\n      <td>11</td>\n      <td>R$/l</td>\n      <td>2.182</td>\n      <td>0.040</td>\n      <td>2.100</td>\n      <td>2.200</td>\n      <td>NaN</td>\n      <td>0.018</td>\n      <td>10.0</td>\n      <td>20.0</td>\n      <td>30.0</td>\n      <td>vazio</td>\n      <td>NaN</td>\n      <td>2019</td>\n    </tr>\n    <tr>\n      <th>3199</th>\n      <td>2006-08-27</td>\n      <td>2006-09-02</td>\n      <td>NORTE</td>\n      <td>RORAIMA</td>\n      <td>ETANOL HIDRATADO</td>\n      <td>22</td>\n      <td>R$/l</td>\n      <td>2.285</td>\n      <td>0.068</td>\n      <td>1.980</td>\n      <td>2.300</td>\n      <td>NaN</td>\n      <td>0.030</td>\n      <td>10.0</td>\n      <td>20.0</td>\n      <td>30.0</td>\n      <td>vazio</td>\n      <td>NaN</td>\n      <td>2021</td>\n    </tr>\n    <tr>\n      <th>...</th>\n      <td>...</td>\n      <td>...</td>\n      <td>...</td>\n      <td>...</td>\n      <td>...</td>\n      <td>...</td>\n      <td>...</td>\n      <td>...</td>\n      <td>...</td>\n      <td>...</td>\n      <td>...</td>\n      <td>...</td>\n      <td>...</td>\n      <td>...</td>\n      <td>...</td>\n      <td>...</td>\n      <td>...</td>\n      <td>...</td>\n      <td>...</td>\n    </tr>\n    <tr>\n      <th>106664</th>\n      <td>2019-06-16</td>\n      <td>2019-06-22</td>\n      <td>SUDESTE</td>\n      <td>MINAS GERAIS</td>\n      <td>GNV</td>\n      <td>5</td>\n      <td>R$/m3</td>\n      <td>3.445</td>\n      <td>0.147</td>\n      <td>3.347</td>\n      <td>3.699</td>\n      <td>NaN</td>\n      <td>0.043</td>\n      <td>10.0</td>\n      <td>20.0</td>\n      <td>30.0</td>\n      <td>vazio</td>\n      <td>NaN</td>\n      <td>2021</td>\n    </tr>\n    <tr>\n      <th>106666</th>\n      <td>2019-06-16</td>\n      <td>2019-06-22</td>\n      <td>SUL</td>\n      <td>PARANA</td>\n      <td>GNV</td>\n      <td>7</td>\n      <td>R$/m3</td>\n      <td>3.132</td>\n      <td>0.295</td>\n      <td>3.049</td>\n      <td>3.890</td>\n      <td>NaN</td>\n      <td>0.094</td>\n      <td>10.0</td>\n      <td>20.0</td>\n      <td>30.0</td>\n      <td>vazio</td>\n      <td>NaN</td>\n      <td>2018</td>\n    </tr>\n    <tr>\n      <th>106811</th>\n      <td>2019-06-23</td>\n      <td>2019-06-29</td>\n      <td>SUDESTE</td>\n      <td>ESPIRITO SANTO</td>\n      <td>GNV</td>\n      <td>4</td>\n      <td>R$/m3</td>\n      <td>3.299</td>\n      <td>0.005</td>\n      <td>3.290</td>\n      <td>3.299</td>\n      <td>NaN</td>\n      <td>0.002</td>\n      <td>10.0</td>\n      <td>20.0</td>\n      <td>30.0</td>\n      <td>vazio</td>\n      <td>NaN</td>\n      <td>2018</td>\n    </tr>\n    <tr>\n      <th>106813</th>\n      <td>2019-06-23</td>\n      <td>2019-06-29</td>\n      <td>SUDESTE</td>\n      <td>MINAS GERAIS</td>\n      <td>GNV</td>\n      <td>6</td>\n      <td>R$/m3</td>\n      <td>3.548</td>\n      <td>0.100</td>\n      <td>3.495</td>\n      <td>3.699</td>\n      <td>NaN</td>\n      <td>0.028</td>\n      <td>10.0</td>\n      <td>20.0</td>\n      <td>30.0</td>\n      <td>vazio</td>\n      <td>NaN</td>\n      <td>2020</td>\n    </tr>\n    <tr>\n      <th>106815</th>\n      <td>2019-06-23</td>\n      <td>2019-06-29</td>\n      <td>SUL</td>\n      <td>PARANA</td>\n      <td>GNV</td>\n      <td>1</td>\n      <td>R$/m3</td>\n      <td>3.290</td>\n      <td>0.000</td>\n      <td>3.290</td>\n      <td>3.290</td>\n      <td>NaN</td>\n      <td>0.000</td>\n      <td>10.0</td>\n      <td>20.0</td>\n      <td>30.0</td>\n      <td>vazio</td>\n      <td>NaN</td>\n      <td>2017</td>\n    </tr>\n  </tbody>\n</table>\n<p>3400 rows × 19 columns</p>\n</div>"
          },
          "metadata": {}
        }
      ],
      "execution_count": 147
    },
    {
      "id": "altered-compatibility",
      "cell_type": "markdown",
      "source": "<br/>\n\nPor mais que a função `fillna` seja interessante e útil em muitos casos, no problema em questão estamos interessados em analisar precisamente, p. ex., o **'PREÇO MÉDIO DISTRIBUIÇÃO'**.<br/>\nA fim de não termos valores _sintéticos_ gerados pelo `fillna`, que possam atrapalhar nossa análise, iremos **remover (drop) todas as amostras que possuem qualquer valor NaN** para quaisquer atributos/colunas. <br/>\n\nPara isso, basta utilizarmos o método `dropna`.",
      "metadata": {}
    },
    {
      "id": "inclusive-shopper",
      "cell_type": "code",
      "source": "# remove, no próprio dataframe, todas as linhas/registros com valores NaN (vazios) em quaisquer colunas/atributos.\ndata_pre.dropna(inplace=True)",
      "metadata": {
        "trusted": true
      },
      "outputs": [],
      "execution_count": 151
    },
    {
      "id": "superb-french",
      "cell_type": "code",
      "source": "data_pre.info()",
      "metadata": {
        "trusted": true
      },
      "outputs": [
        {
          "name": "stdout",
          "output_type": "stream",
          "text": "<class 'pandas.core.frame.DataFrame'>\nIndex: 117392 entries, 0 to 120822\nData columns (total 19 columns):\n #   Column                         Non-Null Count   Dtype         \n---  ------                         --------------   -----         \n 0   DATA INICIAL                   117392 non-null  datetime64[ns]\n 1   DATA FINAL                     117392 non-null  datetime64[ns]\n 2   REGIÃO                         117392 non-null  object        \n 3   ESTADO                         117392 non-null  object        \n 4   PRODUTO                        117392 non-null  object        \n 5   NÚMERO DE POSTOS PESQUISADOS   117392 non-null  int64         \n 6   UNIDADE DE MEDIDA              117392 non-null  object        \n 7   PREÇO MÉDIO REVENDA            117392 non-null  float64       \n 8   DESVIO PADRÃO REVENDA          117392 non-null  float64       \n 9   PREÇO MÍNIMO REVENDA           117392 non-null  float64       \n 10  PREÇO MÁXIMO REVENDA           117392 non-null  float64       \n 11  MARGEM MÉDIA REVENDA           117392 non-null  float64       \n 12  COEF DE VARIAÇÃO REVENDA       117392 non-null  float64       \n 13  PREÇO MÉDIO DISTRIBUIÇÃO       117392 non-null  float64       \n 14  DESVIO PADRÃO DISTRIBUIÇÃO     117392 non-null  float64       \n 15  PREÇO MÍNIMO DISTRIBUIÇÃO      117392 non-null  float64       \n 16  PREÇO MÁXIMO DISTRIBUIÇÃO      117392 non-null  float64       \n 17  COEF DE VARIAÇÃO DISTRIBUIÇÃO  117392 non-null  float64       \n 18  Ano                            117392 non-null  int64         \ndtypes: datetime64[ns](2), float64(11), int64(2), object(4)\nmemory usage: 16.1+ MB\n"
        }
      ],
      "execution_count": 152
    },
    {
      "id": "bearing-peter",
      "cell_type": "markdown",
      "source": "Nosso data frame agora, após essa _limpeza_, ficou mais enxuto, contentdo 103392 registros frente aos 106823 registros originais. <br/>\n\nEssas são apenas algumas das possíveis _técnicas de limpeza de dados_. Outras estratégias, p. ex., **confiam na detecção de outliers**, que não veremos neste curso.",
      "metadata": {}
    },
    {
      "id": "stock-cover",
      "cell_type": "markdown",
      "source": "<h2>3. Estatísticas Descritivas</h2>\n<hr/>",
      "metadata": {}
    },
    {
      "id": "removed-republic",
      "cell_type": "markdown",
      "source": "O Pandas fornecem algumas funções/métodos que computam certas estatísticas descritivas.",
      "metadata": {}
    },
    {
      "id": "contrary-heritage",
      "cell_type": "markdown",
      "source": "`describe`: exibe várias **estatísticas descritivas** para os _atributos_ de um dataframe ou para uma _Series_.",
      "metadata": {}
    },
    {
      "id": "nasty-smart",
      "cell_type": "code",
      "source": "data.describe()",
      "metadata": {
        "trusted": true
      },
      "outputs": [
        {
          "execution_count": 156,
          "output_type": "execute_result",
          "data": {
            "text/plain": "       NÚMERO DE POSTOS PESQUISADOS  PREÇO MÉDIO REVENDA  \\\ncount                 120823.000000        120823.000000   \nmean                     221.066461            11.473440   \nstd                      387.940239            19.161823   \nmin                        1.000000             0.766000   \n25%                       39.000000             2.157000   \n50%                       99.000000             2.899000   \n75%                      226.000000             4.026000   \nmax                     4167.000000           107.500000   \n\n       DESVIO PADRÃO REVENDA  PREÇO MÍNIMO REVENDA  PREÇO MÁXIMO REVENDA  \\\ncount          120823.000000         120823.000000         120823.000000   \nmean                0.684132              9.977821             13.233902   \nstd                 1.403317             16.433783             22.451445   \nmin                 0.000000              0.590000              0.999000   \n25%                 0.075000              1.989000              2.420000   \n50%                 0.121000              2.690000              3.200000   \n75%                 0.204000              3.790000              4.589000   \nmax                10.748000            100.000000            120.000000   \n\n       COEF DE VARIAÇÃO REVENDA            Ano  \ncount             120823.000000  120823.000000  \nmean                   0.045298    2018.999975  \nstd                    0.024763       1.414216  \nmin                    0.000000    2017.000000  \n25%                    0.029000    2018.000000  \n50%                    0.041000    2019.000000  \n75%                    0.058000    2020.000000  \nmax                    0.395000    2021.000000  ",
            "text/html": "<div>\n<style scoped>\n    .dataframe tbody tr th:only-of-type {\n        vertical-align: middle;\n    }\n\n    .dataframe tbody tr th {\n        vertical-align: top;\n    }\n\n    .dataframe thead th {\n        text-align: right;\n    }\n</style>\n<table border=\"1\" class=\"dataframe\">\n  <thead>\n    <tr style=\"text-align: right;\">\n      <th></th>\n      <th>NÚMERO DE POSTOS PESQUISADOS</th>\n      <th>PREÇO MÉDIO REVENDA</th>\n      <th>DESVIO PADRÃO REVENDA</th>\n      <th>PREÇO MÍNIMO REVENDA</th>\n      <th>PREÇO MÁXIMO REVENDA</th>\n      <th>COEF DE VARIAÇÃO REVENDA</th>\n      <th>Ano</th>\n    </tr>\n  </thead>\n  <tbody>\n    <tr>\n      <th>count</th>\n      <td>120823.000000</td>\n      <td>120823.000000</td>\n      <td>120823.000000</td>\n      <td>120823.000000</td>\n      <td>120823.000000</td>\n      <td>120823.000000</td>\n      <td>120823.000000</td>\n    </tr>\n    <tr>\n      <th>mean</th>\n      <td>221.066461</td>\n      <td>11.473440</td>\n      <td>0.684132</td>\n      <td>9.977821</td>\n      <td>13.233902</td>\n      <td>0.045298</td>\n      <td>2018.999975</td>\n    </tr>\n    <tr>\n      <th>std</th>\n      <td>387.940239</td>\n      <td>19.161823</td>\n      <td>1.403317</td>\n      <td>16.433783</td>\n      <td>22.451445</td>\n      <td>0.024763</td>\n      <td>1.414216</td>\n    </tr>\n    <tr>\n      <th>min</th>\n      <td>1.000000</td>\n      <td>0.766000</td>\n      <td>0.000000</td>\n      <td>0.590000</td>\n      <td>0.999000</td>\n      <td>0.000000</td>\n      <td>2017.000000</td>\n    </tr>\n    <tr>\n      <th>25%</th>\n      <td>39.000000</td>\n      <td>2.157000</td>\n      <td>0.075000</td>\n      <td>1.989000</td>\n      <td>2.420000</td>\n      <td>0.029000</td>\n      <td>2018.000000</td>\n    </tr>\n    <tr>\n      <th>50%</th>\n      <td>99.000000</td>\n      <td>2.899000</td>\n      <td>0.121000</td>\n      <td>2.690000</td>\n      <td>3.200000</td>\n      <td>0.041000</td>\n      <td>2019.000000</td>\n    </tr>\n    <tr>\n      <th>75%</th>\n      <td>226.000000</td>\n      <td>4.026000</td>\n      <td>0.204000</td>\n      <td>3.790000</td>\n      <td>4.589000</td>\n      <td>0.058000</td>\n      <td>2020.000000</td>\n    </tr>\n    <tr>\n      <th>max</th>\n      <td>4167.000000</td>\n      <td>107.500000</td>\n      <td>10.748000</td>\n      <td>100.000000</td>\n      <td>120.000000</td>\n      <td>0.395000</td>\n      <td>2021.000000</td>\n    </tr>\n  </tbody>\n</table>\n</div>"
          },
          "metadata": {}
        }
      ],
      "execution_count": 156
    },
    {
      "id": "second-approach",
      "cell_type": "code",
      "source": "data['PREÇO MÉDIO REVENDA'].describe().to_frame()",
      "metadata": {
        "trusted": true
      },
      "outputs": [
        {
          "execution_count": 159,
          "output_type": "execute_result",
          "data": {
            "text/plain": "       PREÇO MÉDIO REVENDA\ncount        120823.000000\nmean             11.473440\nstd              19.161823\nmin               0.766000\n25%               2.157000\n50%               2.899000\n75%               4.026000\nmax             107.500000",
            "text/html": "<div>\n<style scoped>\n    .dataframe tbody tr th:only-of-type {\n        vertical-align: middle;\n    }\n\n    .dataframe tbody tr th {\n        vertical-align: top;\n    }\n\n    .dataframe thead th {\n        text-align: right;\n    }\n</style>\n<table border=\"1\" class=\"dataframe\">\n  <thead>\n    <tr style=\"text-align: right;\">\n      <th></th>\n      <th>PREÇO MÉDIO REVENDA</th>\n    </tr>\n  </thead>\n  <tbody>\n    <tr>\n      <th>count</th>\n      <td>120823.000000</td>\n    </tr>\n    <tr>\n      <th>mean</th>\n      <td>11.473440</td>\n    </tr>\n    <tr>\n      <th>std</th>\n      <td>19.161823</td>\n    </tr>\n    <tr>\n      <th>min</th>\n      <td>0.766000</td>\n    </tr>\n    <tr>\n      <th>25%</th>\n      <td>2.157000</td>\n    </tr>\n    <tr>\n      <th>50%</th>\n      <td>2.899000</td>\n    </tr>\n    <tr>\n      <th>75%</th>\n      <td>4.026000</td>\n    </tr>\n    <tr>\n      <th>max</th>\n      <td>107.500000</td>\n    </tr>\n  </tbody>\n</table>\n</div>"
          },
          "metadata": {}
        }
      ],
      "execution_count": 159
    },
    {
      "id": "straight-hamburg",
      "cell_type": "markdown",
      "source": "<br/>\n\nComo o resultado do `describe` de um _dataframe_ é outro _dataframe_, podemos filtrar apenas algumas colunas.",
      "metadata": {}
    },
    {
      "id": "complete-calvin",
      "cell_type": "code",
      "source": "data.describe()['PREÇO MÉDIO REVENDA'].to_frame()",
      "metadata": {
        "trusted": true
      },
      "outputs": [
        {
          "execution_count": 161,
          "output_type": "execute_result",
          "data": {
            "text/plain": "       PREÇO MÉDIO REVENDA\ncount        120823.000000\nmean             11.473440\nstd              19.161823\nmin               0.766000\n25%               2.157000\n50%               2.899000\n75%               4.026000\nmax             107.500000",
            "text/html": "<div>\n<style scoped>\n    .dataframe tbody tr th:only-of-type {\n        vertical-align: middle;\n    }\n\n    .dataframe tbody tr th {\n        vertical-align: top;\n    }\n\n    .dataframe thead th {\n        text-align: right;\n    }\n</style>\n<table border=\"1\" class=\"dataframe\">\n  <thead>\n    <tr style=\"text-align: right;\">\n      <th></th>\n      <th>PREÇO MÉDIO REVENDA</th>\n    </tr>\n  </thead>\n  <tbody>\n    <tr>\n      <th>count</th>\n      <td>120823.000000</td>\n    </tr>\n    <tr>\n      <th>mean</th>\n      <td>11.473440</td>\n    </tr>\n    <tr>\n      <th>std</th>\n      <td>19.161823</td>\n    </tr>\n    <tr>\n      <th>min</th>\n      <td>0.766000</td>\n    </tr>\n    <tr>\n      <th>25%</th>\n      <td>2.157000</td>\n    </tr>\n    <tr>\n      <th>50%</th>\n      <td>2.899000</td>\n    </tr>\n    <tr>\n      <th>75%</th>\n      <td>4.026000</td>\n    </tr>\n    <tr>\n      <th>max</th>\n      <td>107.500000</td>\n    </tr>\n  </tbody>\n</table>\n</div>"
          },
          "metadata": {}
        }
      ],
      "execution_count": 161
    },
    {
      "id": "varying-integrity",
      "cell_type": "code",
      "source": "stats = data.describe()\nstats",
      "metadata": {
        "trusted": true
      },
      "outputs": [
        {
          "execution_count": 162,
          "output_type": "execute_result",
          "data": {
            "text/plain": "       NÚMERO DE POSTOS PESQUISADOS  PREÇO MÉDIO REVENDA  \\\ncount                 120823.000000        120823.000000   \nmean                     221.066461            11.473440   \nstd                      387.940239            19.161823   \nmin                        1.000000             0.766000   \n25%                       39.000000             2.157000   \n50%                       99.000000             2.899000   \n75%                      226.000000             4.026000   \nmax                     4167.000000           107.500000   \n\n       DESVIO PADRÃO REVENDA  PREÇO MÍNIMO REVENDA  PREÇO MÁXIMO REVENDA  \\\ncount          120823.000000         120823.000000         120823.000000   \nmean                0.684132              9.977821             13.233902   \nstd                 1.403317             16.433783             22.451445   \nmin                 0.000000              0.590000              0.999000   \n25%                 0.075000              1.989000              2.420000   \n50%                 0.121000              2.690000              3.200000   \n75%                 0.204000              3.790000              4.589000   \nmax                10.748000            100.000000            120.000000   \n\n       COEF DE VARIAÇÃO REVENDA            Ano  \ncount             120823.000000  120823.000000  \nmean                   0.045298    2018.999975  \nstd                    0.024763       1.414216  \nmin                    0.000000    2017.000000  \n25%                    0.029000    2018.000000  \n50%                    0.041000    2019.000000  \n75%                    0.058000    2020.000000  \nmax                    0.395000    2021.000000  ",
            "text/html": "<div>\n<style scoped>\n    .dataframe tbody tr th:only-of-type {\n        vertical-align: middle;\n    }\n\n    .dataframe tbody tr th {\n        vertical-align: top;\n    }\n\n    .dataframe thead th {\n        text-align: right;\n    }\n</style>\n<table border=\"1\" class=\"dataframe\">\n  <thead>\n    <tr style=\"text-align: right;\">\n      <th></th>\n      <th>NÚMERO DE POSTOS PESQUISADOS</th>\n      <th>PREÇO MÉDIO REVENDA</th>\n      <th>DESVIO PADRÃO REVENDA</th>\n      <th>PREÇO MÍNIMO REVENDA</th>\n      <th>PREÇO MÁXIMO REVENDA</th>\n      <th>COEF DE VARIAÇÃO REVENDA</th>\n      <th>Ano</th>\n    </tr>\n  </thead>\n  <tbody>\n    <tr>\n      <th>count</th>\n      <td>120823.000000</td>\n      <td>120823.000000</td>\n      <td>120823.000000</td>\n      <td>120823.000000</td>\n      <td>120823.000000</td>\n      <td>120823.000000</td>\n      <td>120823.000000</td>\n    </tr>\n    <tr>\n      <th>mean</th>\n      <td>221.066461</td>\n      <td>11.473440</td>\n      <td>0.684132</td>\n      <td>9.977821</td>\n      <td>13.233902</td>\n      <td>0.045298</td>\n      <td>2018.999975</td>\n    </tr>\n    <tr>\n      <th>std</th>\n      <td>387.940239</td>\n      <td>19.161823</td>\n      <td>1.403317</td>\n      <td>16.433783</td>\n      <td>22.451445</td>\n      <td>0.024763</td>\n      <td>1.414216</td>\n    </tr>\n    <tr>\n      <th>min</th>\n      <td>1.000000</td>\n      <td>0.766000</td>\n      <td>0.000000</td>\n      <td>0.590000</td>\n      <td>0.999000</td>\n      <td>0.000000</td>\n      <td>2017.000000</td>\n    </tr>\n    <tr>\n      <th>25%</th>\n      <td>39.000000</td>\n      <td>2.157000</td>\n      <td>0.075000</td>\n      <td>1.989000</td>\n      <td>2.420000</td>\n      <td>0.029000</td>\n      <td>2018.000000</td>\n    </tr>\n    <tr>\n      <th>50%</th>\n      <td>99.000000</td>\n      <td>2.899000</td>\n      <td>0.121000</td>\n      <td>2.690000</td>\n      <td>3.200000</td>\n      <td>0.041000</td>\n      <td>2019.000000</td>\n    </tr>\n    <tr>\n      <th>75%</th>\n      <td>226.000000</td>\n      <td>4.026000</td>\n      <td>0.204000</td>\n      <td>3.790000</td>\n      <td>4.589000</td>\n      <td>0.058000</td>\n      <td>2020.000000</td>\n    </tr>\n    <tr>\n      <th>max</th>\n      <td>4167.000000</td>\n      <td>107.500000</td>\n      <td>10.748000</td>\n      <td>100.000000</td>\n      <td>120.000000</td>\n      <td>0.395000</td>\n      <td>2021.000000</td>\n    </tr>\n  </tbody>\n</table>\n</div>"
          },
          "metadata": {}
        }
      ],
      "execution_count": 162
    },
    {
      "id": "sensitive-ocean",
      "cell_type": "code",
      "source": "stats[['PREÇO MÉDIO REVENDA', 'PREÇO MÁXIMO REVENDA']]",
      "metadata": {
        "trusted": true
      },
      "outputs": [
        {
          "execution_count": 165,
          "output_type": "execute_result",
          "data": {
            "text/plain": "       PREÇO MÉDIO REVENDA  PREÇO MÁXIMO REVENDA\ncount        120823.000000         120823.000000\nmean             11.473440             13.233902\nstd              19.161823             22.451445\nmin               0.766000              0.999000\n25%               2.157000              2.420000\n50%               2.899000              3.200000\n75%               4.026000              4.589000\nmax             107.500000            120.000000",
            "text/html": "<div>\n<style scoped>\n    .dataframe tbody tr th:only-of-type {\n        vertical-align: middle;\n    }\n\n    .dataframe tbody tr th {\n        vertical-align: top;\n    }\n\n    .dataframe thead th {\n        text-align: right;\n    }\n</style>\n<table border=\"1\" class=\"dataframe\">\n  <thead>\n    <tr style=\"text-align: right;\">\n      <th></th>\n      <th>PREÇO MÉDIO REVENDA</th>\n      <th>PREÇO MÁXIMO REVENDA</th>\n    </tr>\n  </thead>\n  <tbody>\n    <tr>\n      <th>count</th>\n      <td>120823.000000</td>\n      <td>120823.000000</td>\n    </tr>\n    <tr>\n      <th>mean</th>\n      <td>11.473440</td>\n      <td>13.233902</td>\n    </tr>\n    <tr>\n      <th>std</th>\n      <td>19.161823</td>\n      <td>22.451445</td>\n    </tr>\n    <tr>\n      <th>min</th>\n      <td>0.766000</td>\n      <td>0.999000</td>\n    </tr>\n    <tr>\n      <th>25%</th>\n      <td>2.157000</td>\n      <td>2.420000</td>\n    </tr>\n    <tr>\n      <th>50%</th>\n      <td>2.899000</td>\n      <td>3.200000</td>\n    </tr>\n    <tr>\n      <th>75%</th>\n      <td>4.026000</td>\n      <td>4.589000</td>\n    </tr>\n    <tr>\n      <th>max</th>\n      <td>107.500000</td>\n      <td>120.000000</td>\n    </tr>\n  </tbody>\n</table>\n</div>"
          },
          "metadata": {}
        }
      ],
      "execution_count": 165
    },
    {
      "id": "63158863-e39c-4027-983e-62d1c476a31a",
      "cell_type": "code",
      "source": "# ALTERNATIVA MAIS EFICIENTE\n# apenas computa as estatísticas descritivas para 3 atributos\ndata[['PREÇO MÉDIO REVENDA', 'PREÇO MÁXIMO REVENDA']].describe()",
      "metadata": {
        "trusted": true
      },
      "outputs": [
        {
          "execution_count": 167,
          "output_type": "execute_result",
          "data": {
            "text/plain": "       PREÇO MÉDIO REVENDA  PREÇO MÁXIMO REVENDA\ncount        120823.000000         120823.000000\nmean             11.473440             13.233902\nstd              19.161823             22.451445\nmin               0.766000              0.999000\n25%               2.157000              2.420000\n50%               2.899000              3.200000\n75%               4.026000              4.589000\nmax             107.500000            120.000000",
            "text/html": "<div>\n<style scoped>\n    .dataframe tbody tr th:only-of-type {\n        vertical-align: middle;\n    }\n\n    .dataframe tbody tr th {\n        vertical-align: top;\n    }\n\n    .dataframe thead th {\n        text-align: right;\n    }\n</style>\n<table border=\"1\" class=\"dataframe\">\n  <thead>\n    <tr style=\"text-align: right;\">\n      <th></th>\n      <th>PREÇO MÉDIO REVENDA</th>\n      <th>PREÇO MÁXIMO REVENDA</th>\n    </tr>\n  </thead>\n  <tbody>\n    <tr>\n      <th>count</th>\n      <td>120823.000000</td>\n      <td>120823.000000</td>\n    </tr>\n    <tr>\n      <th>mean</th>\n      <td>11.473440</td>\n      <td>13.233902</td>\n    </tr>\n    <tr>\n      <th>std</th>\n      <td>19.161823</td>\n      <td>22.451445</td>\n    </tr>\n    <tr>\n      <th>min</th>\n      <td>0.766000</td>\n      <td>0.999000</td>\n    </tr>\n    <tr>\n      <th>25%</th>\n      <td>2.157000</td>\n      <td>2.420000</td>\n    </tr>\n    <tr>\n      <th>50%</th>\n      <td>2.899000</td>\n      <td>3.200000</td>\n    </tr>\n    <tr>\n      <th>75%</th>\n      <td>4.026000</td>\n      <td>4.589000</td>\n    </tr>\n    <tr>\n      <th>max</th>\n      <td>107.500000</td>\n      <td>120.000000</td>\n    </tr>\n  </tbody>\n</table>\n</div>"
          },
          "metadata": {}
        }
      ],
      "execution_count": 167
    },
    {
      "id": "innocent-democrat",
      "cell_type": "markdown",
      "source": "**Acessando apenas algumas estatísticas**",
      "metadata": {}
    },
    {
      "id": "single-playlist",
      "cell_type": "code",
      "source": "stats",
      "metadata": {
        "trusted": true
      },
      "outputs": [
        {
          "execution_count": 168,
          "output_type": "execute_result",
          "data": {
            "text/plain": "       NÚMERO DE POSTOS PESQUISADOS  PREÇO MÉDIO REVENDA  \\\ncount                 120823.000000        120823.000000   \nmean                     221.066461            11.473440   \nstd                      387.940239            19.161823   \nmin                        1.000000             0.766000   \n25%                       39.000000             2.157000   \n50%                       99.000000             2.899000   \n75%                      226.000000             4.026000   \nmax                     4167.000000           107.500000   \n\n       DESVIO PADRÃO REVENDA  PREÇO MÍNIMO REVENDA  PREÇO MÁXIMO REVENDA  \\\ncount          120823.000000         120823.000000         120823.000000   \nmean                0.684132              9.977821             13.233902   \nstd                 1.403317             16.433783             22.451445   \nmin                 0.000000              0.590000              0.999000   \n25%                 0.075000              1.989000              2.420000   \n50%                 0.121000              2.690000              3.200000   \n75%                 0.204000              3.790000              4.589000   \nmax                10.748000            100.000000            120.000000   \n\n       COEF DE VARIAÇÃO REVENDA            Ano  \ncount             120823.000000  120823.000000  \nmean                   0.045298    2018.999975  \nstd                    0.024763       1.414216  \nmin                    0.000000    2017.000000  \n25%                    0.029000    2018.000000  \n50%                    0.041000    2019.000000  \n75%                    0.058000    2020.000000  \nmax                    0.395000    2021.000000  ",
            "text/html": "<div>\n<style scoped>\n    .dataframe tbody tr th:only-of-type {\n        vertical-align: middle;\n    }\n\n    .dataframe tbody tr th {\n        vertical-align: top;\n    }\n\n    .dataframe thead th {\n        text-align: right;\n    }\n</style>\n<table border=\"1\" class=\"dataframe\">\n  <thead>\n    <tr style=\"text-align: right;\">\n      <th></th>\n      <th>NÚMERO DE POSTOS PESQUISADOS</th>\n      <th>PREÇO MÉDIO REVENDA</th>\n      <th>DESVIO PADRÃO REVENDA</th>\n      <th>PREÇO MÍNIMO REVENDA</th>\n      <th>PREÇO MÁXIMO REVENDA</th>\n      <th>COEF DE VARIAÇÃO REVENDA</th>\n      <th>Ano</th>\n    </tr>\n  </thead>\n  <tbody>\n    <tr>\n      <th>count</th>\n      <td>120823.000000</td>\n      <td>120823.000000</td>\n      <td>120823.000000</td>\n      <td>120823.000000</td>\n      <td>120823.000000</td>\n      <td>120823.000000</td>\n      <td>120823.000000</td>\n    </tr>\n    <tr>\n      <th>mean</th>\n      <td>221.066461</td>\n      <td>11.473440</td>\n      <td>0.684132</td>\n      <td>9.977821</td>\n      <td>13.233902</td>\n      <td>0.045298</td>\n      <td>2018.999975</td>\n    </tr>\n    <tr>\n      <th>std</th>\n      <td>387.940239</td>\n      <td>19.161823</td>\n      <td>1.403317</td>\n      <td>16.433783</td>\n      <td>22.451445</td>\n      <td>0.024763</td>\n      <td>1.414216</td>\n    </tr>\n    <tr>\n      <th>min</th>\n      <td>1.000000</td>\n      <td>0.766000</td>\n      <td>0.000000</td>\n      <td>0.590000</td>\n      <td>0.999000</td>\n      <td>0.000000</td>\n      <td>2017.000000</td>\n    </tr>\n    <tr>\n      <th>25%</th>\n      <td>39.000000</td>\n      <td>2.157000</td>\n      <td>0.075000</td>\n      <td>1.989000</td>\n      <td>2.420000</td>\n      <td>0.029000</td>\n      <td>2018.000000</td>\n    </tr>\n    <tr>\n      <th>50%</th>\n      <td>99.000000</td>\n      <td>2.899000</td>\n      <td>0.121000</td>\n      <td>2.690000</td>\n      <td>3.200000</td>\n      <td>0.041000</td>\n      <td>2019.000000</td>\n    </tr>\n    <tr>\n      <th>75%</th>\n      <td>226.000000</td>\n      <td>4.026000</td>\n      <td>0.204000</td>\n      <td>3.790000</td>\n      <td>4.589000</td>\n      <td>0.058000</td>\n      <td>2020.000000</td>\n    </tr>\n    <tr>\n      <th>max</th>\n      <td>4167.000000</td>\n      <td>107.500000</td>\n      <td>10.748000</td>\n      <td>100.000000</td>\n      <td>120.000000</td>\n      <td>0.395000</td>\n      <td>2021.000000</td>\n    </tr>\n  </tbody>\n</table>\n</div>"
          },
          "metadata": {}
        }
      ],
      "execution_count": 168
    },
    {
      "id": "cardiovascular-technology",
      "cell_type": "code",
      "source": "stats.loc[['min', 'max', 'mean']]",
      "metadata": {
        "trusted": true
      },
      "outputs": [
        {
          "execution_count": 170,
          "output_type": "execute_result",
          "data": {
            "text/plain": "      NÚMERO DE POSTOS PESQUISADOS  PREÇO MÉDIO REVENDA  \\\nmin                       1.000000              0.76600   \nmax                    4167.000000            107.50000   \nmean                    221.066461             11.47344   \n\n      DESVIO PADRÃO REVENDA  PREÇO MÍNIMO REVENDA  PREÇO MÁXIMO REVENDA  \\\nmin                0.000000              0.590000              0.999000   \nmax               10.748000            100.000000            120.000000   \nmean               0.684132              9.977821             13.233902   \n\n      COEF DE VARIAÇÃO REVENDA          Ano  \nmin                   0.000000  2017.000000  \nmax                   0.395000  2021.000000  \nmean                  0.045298  2018.999975  ",
            "text/html": "<div>\n<style scoped>\n    .dataframe tbody tr th:only-of-type {\n        vertical-align: middle;\n    }\n\n    .dataframe tbody tr th {\n        vertical-align: top;\n    }\n\n    .dataframe thead th {\n        text-align: right;\n    }\n</style>\n<table border=\"1\" class=\"dataframe\">\n  <thead>\n    <tr style=\"text-align: right;\">\n      <th></th>\n      <th>NÚMERO DE POSTOS PESQUISADOS</th>\n      <th>PREÇO MÉDIO REVENDA</th>\n      <th>DESVIO PADRÃO REVENDA</th>\n      <th>PREÇO MÍNIMO REVENDA</th>\n      <th>PREÇO MÁXIMO REVENDA</th>\n      <th>COEF DE VARIAÇÃO REVENDA</th>\n      <th>Ano</th>\n    </tr>\n  </thead>\n  <tbody>\n    <tr>\n      <th>min</th>\n      <td>1.000000</td>\n      <td>0.76600</td>\n      <td>0.000000</td>\n      <td>0.590000</td>\n      <td>0.999000</td>\n      <td>0.000000</td>\n      <td>2017.000000</td>\n    </tr>\n    <tr>\n      <th>max</th>\n      <td>4167.000000</td>\n      <td>107.50000</td>\n      <td>10.748000</td>\n      <td>100.000000</td>\n      <td>120.000000</td>\n      <td>0.395000</td>\n      <td>2021.000000</td>\n    </tr>\n    <tr>\n      <th>mean</th>\n      <td>221.066461</td>\n      <td>11.47344</td>\n      <td>0.684132</td>\n      <td>9.977821</td>\n      <td>13.233902</td>\n      <td>0.045298</td>\n      <td>2018.999975</td>\n    </tr>\n  </tbody>\n</table>\n</div>"
          },
          "metadata": {}
        }
      ],
      "execution_count": 170
    },
    {
      "id": "45018bab-a710-4e54-a398-4c3914a701de",
      "cell_type": "code",
      "source": "stats.loc[['min', 'max', 'mean'], 'PREÇO MÉDIO REVENDA']",
      "metadata": {
        "trusted": true
      },
      "outputs": [
        {
          "execution_count": 171,
          "output_type": "execute_result",
          "data": {
            "text/plain": "min       0.76600\nmax     107.50000\nmean     11.47344\nName: PREÇO MÉDIO REVENDA, dtype: float64"
          },
          "metadata": {}
        }
      ],
      "execution_count": 171
    },
    {
      "id": "built-congo",
      "cell_type": "markdown",
      "source": "<br/>\n\n`mean`, `std`, `min`, etc: cada uma das estatísticas do `describe` podem ser computadas individualmente:",
      "metadata": {}
    },
    {
      "id": "forty-function",
      "cell_type": "code",
      "source": "data.head()",
      "metadata": {
        "trusted": true
      },
      "outputs": [
        {
          "execution_count": 172,
          "output_type": "execute_result",
          "data": {
            "text/plain": "  DATA INICIAL  DATA FINAL        REGIÃO              ESTADO  \\\n0   2004-05-09  2004-05-15  CENTRO OESTE    DISTRITO FEDERAL   \n1   2004-05-09  2004-05-15  CENTRO OESTE               GOIAS   \n2   2004-05-09  2004-05-15  CENTRO OESTE         MATO GROSSO   \n3   2004-05-09  2004-05-15  CENTRO OESTE  MATO GROSSO DO SUL   \n4   2004-05-09  2004-05-15      NORDESTE             ALAGOAS   \n\n            PRODUTO  NÚMERO DE POSTOS PESQUISADOS UNIDADE DE MEDIDA  \\\n0  ETANOL HIDRATADO                           127              R$/l   \n1  ETANOL HIDRATADO                           387              R$/l   \n2  ETANOL HIDRATADO                           192              R$/l   \n3  ETANOL HIDRATADO                           162              R$/l   \n4  ETANOL HIDRATADO                           103              R$/l   \n\n   PREÇO MÉDIO REVENDA  DESVIO PADRÃO REVENDA  PREÇO MÍNIMO REVENDA  \\\n0                1.288                  0.016                  1.19   \n1                1.162                  0.114                  0.89   \n2                1.389                  0.097                  1.18   \n3                1.262                  0.070                  1.09   \n4                1.181                  0.078                  1.05   \n\n   PREÇO MÁXIMO REVENDA MARGEM MÉDIA REVENDA  COEF DE VARIAÇÃO REVENDA  \\\n0                 1.350                0.463                     0.012   \n1                 1.449                0.399                     0.098   \n2                 1.760                0.419                     0.070   \n3                 1.509                0.432                     0.055   \n4                 1.400                 0.24                     0.066   \n\n  PREÇO MÉDIO DISTRIBUIÇÃO DESVIO PADRÃO DISTRIBUIÇÃO  \\\n0                    0.825                       0.11   \n1                    0.763                      0.088   \n2                     0.97                      0.095   \n3                     0.83                      0.119   \n4                    0.941                      0.077   \n\n  PREÇO MÍNIMO DISTRIBUIÇÃO PREÇO MÁXIMO DISTRIBUIÇÃO  \\\n0                    0.4201                    0.9666   \n1                    0.5013                      1.05   \n2                    0.5614                     1.161   \n3                    0.5991                   1.22242   \n4                    0.7441                    1.0317   \n\n  COEF DE VARIAÇÃO DISTRIBUIÇÃO   Ano  \n0                         0.133  2017  \n1                         0.115  2018  \n2                         0.098  2019  \n3                         0.143  2020  \n4                         0.082  2021  ",
            "text/html": "<div>\n<style scoped>\n    .dataframe tbody tr th:only-of-type {\n        vertical-align: middle;\n    }\n\n    .dataframe tbody tr th {\n        vertical-align: top;\n    }\n\n    .dataframe thead th {\n        text-align: right;\n    }\n</style>\n<table border=\"1\" class=\"dataframe\">\n  <thead>\n    <tr style=\"text-align: right;\">\n      <th></th>\n      <th>DATA INICIAL</th>\n      <th>DATA FINAL</th>\n      <th>REGIÃO</th>\n      <th>ESTADO</th>\n      <th>PRODUTO</th>\n      <th>NÚMERO DE POSTOS PESQUISADOS</th>\n      <th>UNIDADE DE MEDIDA</th>\n      <th>PREÇO MÉDIO REVENDA</th>\n      <th>DESVIO PADRÃO REVENDA</th>\n      <th>PREÇO MÍNIMO REVENDA</th>\n      <th>PREÇO MÁXIMO REVENDA</th>\n      <th>MARGEM MÉDIA REVENDA</th>\n      <th>COEF DE VARIAÇÃO REVENDA</th>\n      <th>PREÇO MÉDIO DISTRIBUIÇÃO</th>\n      <th>DESVIO PADRÃO DISTRIBUIÇÃO</th>\n      <th>PREÇO MÍNIMO DISTRIBUIÇÃO</th>\n      <th>PREÇO MÁXIMO DISTRIBUIÇÃO</th>\n      <th>COEF DE VARIAÇÃO DISTRIBUIÇÃO</th>\n      <th>Ano</th>\n    </tr>\n  </thead>\n  <tbody>\n    <tr>\n      <th>0</th>\n      <td>2004-05-09</td>\n      <td>2004-05-15</td>\n      <td>CENTRO OESTE</td>\n      <td>DISTRITO FEDERAL</td>\n      <td>ETANOL HIDRATADO</td>\n      <td>127</td>\n      <td>R$/l</td>\n      <td>1.288</td>\n      <td>0.016</td>\n      <td>1.19</td>\n      <td>1.350</td>\n      <td>0.463</td>\n      <td>0.012</td>\n      <td>0.825</td>\n      <td>0.11</td>\n      <td>0.4201</td>\n      <td>0.9666</td>\n      <td>0.133</td>\n      <td>2017</td>\n    </tr>\n    <tr>\n      <th>1</th>\n      <td>2004-05-09</td>\n      <td>2004-05-15</td>\n      <td>CENTRO OESTE</td>\n      <td>GOIAS</td>\n      <td>ETANOL HIDRATADO</td>\n      <td>387</td>\n      <td>R$/l</td>\n      <td>1.162</td>\n      <td>0.114</td>\n      <td>0.89</td>\n      <td>1.449</td>\n      <td>0.399</td>\n      <td>0.098</td>\n      <td>0.763</td>\n      <td>0.088</td>\n      <td>0.5013</td>\n      <td>1.05</td>\n      <td>0.115</td>\n      <td>2018</td>\n    </tr>\n    <tr>\n      <th>2</th>\n      <td>2004-05-09</td>\n      <td>2004-05-15</td>\n      <td>CENTRO OESTE</td>\n      <td>MATO GROSSO</td>\n      <td>ETANOL HIDRATADO</td>\n      <td>192</td>\n      <td>R$/l</td>\n      <td>1.389</td>\n      <td>0.097</td>\n      <td>1.18</td>\n      <td>1.760</td>\n      <td>0.419</td>\n      <td>0.070</td>\n      <td>0.97</td>\n      <td>0.095</td>\n      <td>0.5614</td>\n      <td>1.161</td>\n      <td>0.098</td>\n      <td>2019</td>\n    </tr>\n    <tr>\n      <th>3</th>\n      <td>2004-05-09</td>\n      <td>2004-05-15</td>\n      <td>CENTRO OESTE</td>\n      <td>MATO GROSSO DO SUL</td>\n      <td>ETANOL HIDRATADO</td>\n      <td>162</td>\n      <td>R$/l</td>\n      <td>1.262</td>\n      <td>0.070</td>\n      <td>1.09</td>\n      <td>1.509</td>\n      <td>0.432</td>\n      <td>0.055</td>\n      <td>0.83</td>\n      <td>0.119</td>\n      <td>0.5991</td>\n      <td>1.22242</td>\n      <td>0.143</td>\n      <td>2020</td>\n    </tr>\n    <tr>\n      <th>4</th>\n      <td>2004-05-09</td>\n      <td>2004-05-15</td>\n      <td>NORDESTE</td>\n      <td>ALAGOAS</td>\n      <td>ETANOL HIDRATADO</td>\n      <td>103</td>\n      <td>R$/l</td>\n      <td>1.181</td>\n      <td>0.078</td>\n      <td>1.05</td>\n      <td>1.400</td>\n      <td>0.24</td>\n      <td>0.066</td>\n      <td>0.941</td>\n      <td>0.077</td>\n      <td>0.7441</td>\n      <td>1.0317</td>\n      <td>0.082</td>\n      <td>2021</td>\n    </tr>\n  </tbody>\n</table>\n</div>"
          },
          "metadata": {}
        }
      ],
      "execution_count": 172
    },
    {
      "id": "employed-teach",
      "cell_type": "markdown",
      "source": "#### Qual é o menor preço mínimo de revenda?",
      "metadata": {}
    },
    {
      "id": "broken-genius",
      "cell_type": "code",
      "source": "data['PREÇO MÍNIMO REVENDA'].min()",
      "metadata": {
        "trusted": true
      },
      "outputs": [
        {
          "execution_count": 175,
          "output_type": "execute_result",
          "data": {
            "text/plain": "np.float64(0.59)"
          },
          "metadata": {}
        }
      ],
      "execution_count": 175
    },
    {
      "id": "normal-claim",
      "cell_type": "markdown",
      "source": "#### Qual é a média e desvio padrão dos preços mínimos de revenda?",
      "metadata": {}
    },
    {
      "id": "successful-release",
      "cell_type": "code",
      "source": "mean = data['PREÇO MÍNIMO REVENDA'].mean()\nstd = data['PREÇO MÍNIMO REVENDA'].std()\nprint (f'A média dos preços mínimos de revenda é {mean:.2f} +- {std:.2f}')",
      "metadata": {
        "trusted": true
      },
      "outputs": [
        {
          "name": "stdout",
          "output_type": "stream",
          "text": "A média dos preços mínimos de revenda é 9.98 +- 16.43\n"
        }
      ],
      "execution_count": 176
    },
    {
      "id": "qualified-family",
      "cell_type": "markdown",
      "source": "#### Quais são os estados considerados?",
      "metadata": {}
    },
    {
      "id": "exciting-assembly",
      "cell_type": "code",
      "source": "data['ESTADO']",
      "metadata": {
        "trusted": true
      },
      "outputs": [
        {
          "execution_count": 177,
          "output_type": "execute_result",
          "data": {
            "text/plain": "0           DISTRITO FEDERAL\n1                      GOIAS\n2                MATO GROSSO\n3         MATO GROSSO DO SUL\n4                    ALAGOAS\n                 ...        \n120818               RORAIMA\n120819        SANTA CATARINA\n120820             SAO PAULO\n120821               SERGIPE\n120822             TOCANTINS\nName: ESTADO, Length: 120823, dtype: object"
          },
          "metadata": {}
        }
      ],
      "execution_count": 177
    },
    {
      "id": "maritime-generic",
      "cell_type": "code",
      "source": "data['ESTADO'].unique()",
      "metadata": {
        "trusted": true
      },
      "outputs": [
        {
          "execution_count": 179,
          "output_type": "execute_result",
          "data": {
            "text/plain": "array(['DISTRITO FEDERAL', 'GOIAS', 'MATO GROSSO', 'MATO GROSSO DO SUL',\n       'ALAGOAS', 'BAHIA', 'CEARA', 'MARANHAO', 'PARAIBA', 'PERNAMBUCO',\n       'PIAUI', 'RIO GRANDE DO NORTE', 'SERGIPE', 'ACRE', 'AMAPA',\n       'AMAZONAS', 'PARA', 'RONDONIA', 'RORAIMA', 'TOCANTINS',\n       'ESPIRITO SANTO', 'MINAS GERAIS', 'RIO DE JANEIRO', 'SAO PAULO',\n       'PARANA', 'RIO GRANDE DO SUL', 'SANTA CATARINA'], dtype=object)"
          },
          "metadata": {}
        }
      ],
      "execution_count": 179
    },
    {
      "id": "0654140b-258e-4ede-b4c1-bbc0bbaa66ff",
      "cell_type": "code",
      "source": "sorted(data['ESTADO'].unique())",
      "metadata": {
        "trusted": true
      },
      "outputs": [
        {
          "execution_count": 181,
          "output_type": "execute_result",
          "data": {
            "text/plain": "['ACRE',\n 'ALAGOAS',\n 'AMAPA',\n 'AMAZONAS',\n 'BAHIA',\n 'CEARA',\n 'DISTRITO FEDERAL',\n 'ESPIRITO SANTO',\n 'GOIAS',\n 'MARANHAO',\n 'MATO GROSSO',\n 'MATO GROSSO DO SUL',\n 'MINAS GERAIS',\n 'PARA',\n 'PARAIBA',\n 'PARANA',\n 'PERNAMBUCO',\n 'PIAUI',\n 'RIO DE JANEIRO',\n 'RIO GRANDE DO NORTE',\n 'RIO GRANDE DO SUL',\n 'RONDONIA',\n 'RORAIMA',\n 'SANTA CATARINA',\n 'SAO PAULO',\n 'SERGIPE',\n 'TOCANTINS']"
          },
          "metadata": {}
        }
      ],
      "execution_count": 181
    },
    {
      "id": "occasional-mistake",
      "cell_type": "markdown",
      "source": "#### Quantos registros (aferições) cada estado possui?",
      "metadata": {}
    },
    {
      "id": "seven-atmosphere",
      "cell_type": "markdown",
      "source": "`.value_counts()`:  Conta a frequência dos valores de uma dada variável (de preferência, _categórica_).",
      "metadata": {}
    },
    {
      "id": "adaptive-thumb",
      "cell_type": "code",
      "source": "data['ESTADO'].value_counts()  # retorna em ordem decrescente, a quantidade de registros/linhas para cada estado",
      "metadata": {
        "trusted": true
      },
      "outputs": [
        {
          "execution_count": 182,
          "output_type": "execute_result",
          "data": {
            "text/plain": "ESTADO\nPARAIBA                4819\nRIO DE JANEIRO         4819\nSAO PAULO              4819\nRIO GRANDE DO SUL      4819\nBAHIA                  4819\nSANTA CATARINA         4818\nRIO GRANDE DO NORTE    4818\nMINAS GERAIS           4817\nESPIRITO SANTO         4815\nPERNAMBUCO             4813\nCEARA                  4813\nPARANA                 4807\nALAGOAS                4806\nSERGIPE                4795\nMATO GROSSO DO SUL     4793\nMATO GROSSO            4566\nAMAZONAS               4414\nGOIAS                  4134\nPIAUI                  4017\nMARANHAO               3971\nDISTRITO FEDERAL       3956\nPARA                   3955\nTOCANTINS              3953\nRONDONIA               3950\nACRE                   3948\nRORAIMA                3938\nAMAPA                  3831\nName: count, dtype: int64"
          },
          "metadata": {}
        }
      ],
      "execution_count": 182
    },
    {
      "id": "perfect-invasion",
      "cell_type": "code",
      "source": "data['ESTADO'].value_counts().to_frame()  # converte uma Series para um DataFrame",
      "metadata": {
        "trusted": true
      },
      "outputs": [
        {
          "execution_count": 183,
          "output_type": "execute_result",
          "data": {
            "text/plain": "                     count\nESTADO                    \nPARAIBA               4819\nRIO DE JANEIRO        4819\nSAO PAULO             4819\nRIO GRANDE DO SUL     4819\nBAHIA                 4819\nSANTA CATARINA        4818\nRIO GRANDE DO NORTE   4818\nMINAS GERAIS          4817\nESPIRITO SANTO        4815\nPERNAMBUCO            4813\nCEARA                 4813\nPARANA                4807\nALAGOAS               4806\nSERGIPE               4795\nMATO GROSSO DO SUL    4793\nMATO GROSSO           4566\nAMAZONAS              4414\nGOIAS                 4134\nPIAUI                 4017\nMARANHAO              3971\nDISTRITO FEDERAL      3956\nPARA                  3955\nTOCANTINS             3953\nRONDONIA              3950\nACRE                  3948\nRORAIMA               3938\nAMAPA                 3831",
            "text/html": "<div>\n<style scoped>\n    .dataframe tbody tr th:only-of-type {\n        vertical-align: middle;\n    }\n\n    .dataframe tbody tr th {\n        vertical-align: top;\n    }\n\n    .dataframe thead th {\n        text-align: right;\n    }\n</style>\n<table border=\"1\" class=\"dataframe\">\n  <thead>\n    <tr style=\"text-align: right;\">\n      <th></th>\n      <th>count</th>\n    </tr>\n    <tr>\n      <th>ESTADO</th>\n      <th></th>\n    </tr>\n  </thead>\n  <tbody>\n    <tr>\n      <th>PARAIBA</th>\n      <td>4819</td>\n    </tr>\n    <tr>\n      <th>RIO DE JANEIRO</th>\n      <td>4819</td>\n    </tr>\n    <tr>\n      <th>SAO PAULO</th>\n      <td>4819</td>\n    </tr>\n    <tr>\n      <th>RIO GRANDE DO SUL</th>\n      <td>4819</td>\n    </tr>\n    <tr>\n      <th>BAHIA</th>\n      <td>4819</td>\n    </tr>\n    <tr>\n      <th>SANTA CATARINA</th>\n      <td>4818</td>\n    </tr>\n    <tr>\n      <th>RIO GRANDE DO NORTE</th>\n      <td>4818</td>\n    </tr>\n    <tr>\n      <th>MINAS GERAIS</th>\n      <td>4817</td>\n    </tr>\n    <tr>\n      <th>ESPIRITO SANTO</th>\n      <td>4815</td>\n    </tr>\n    <tr>\n      <th>PERNAMBUCO</th>\n      <td>4813</td>\n    </tr>\n    <tr>\n      <th>CEARA</th>\n      <td>4813</td>\n    </tr>\n    <tr>\n      <th>PARANA</th>\n      <td>4807</td>\n    </tr>\n    <tr>\n      <th>ALAGOAS</th>\n      <td>4806</td>\n    </tr>\n    <tr>\n      <th>SERGIPE</th>\n      <td>4795</td>\n    </tr>\n    <tr>\n      <th>MATO GROSSO DO SUL</th>\n      <td>4793</td>\n    </tr>\n    <tr>\n      <th>MATO GROSSO</th>\n      <td>4566</td>\n    </tr>\n    <tr>\n      <th>AMAZONAS</th>\n      <td>4414</td>\n    </tr>\n    <tr>\n      <th>GOIAS</th>\n      <td>4134</td>\n    </tr>\n    <tr>\n      <th>PIAUI</th>\n      <td>4017</td>\n    </tr>\n    <tr>\n      <th>MARANHAO</th>\n      <td>3971</td>\n    </tr>\n    <tr>\n      <th>DISTRITO FEDERAL</th>\n      <td>3956</td>\n    </tr>\n    <tr>\n      <th>PARA</th>\n      <td>3955</td>\n    </tr>\n    <tr>\n      <th>TOCANTINS</th>\n      <td>3953</td>\n    </tr>\n    <tr>\n      <th>RONDONIA</th>\n      <td>3950</td>\n    </tr>\n    <tr>\n      <th>ACRE</th>\n      <td>3948</td>\n    </tr>\n    <tr>\n      <th>RORAIMA</th>\n      <td>3938</td>\n    </tr>\n    <tr>\n      <th>AMAPA</th>\n      <td>3831</td>\n    </tr>\n  </tbody>\n</table>\n</div>"
          },
          "metadata": {}
        }
      ],
      "execution_count": 183
    },
    {
      "id": "ongoing-packaging",
      "cell_type": "markdown",
      "source": "<h2>4. Executando funções para cada item de um DataFrame ou Series</h2>\n<hr/>",
      "metadata": {}
    },
    {
      "id": "necessary-start",
      "cell_type": "markdown",
      "source": "Uma alternativa ao `for-loop` que vimos anteriormente e que é _lento_, é usarmos _funções próprias do pandas_ que **aplicam/mapeiam uma dada função a todos os elementos de um DataFrame ou Series**, retornando novos elementos \"transformados\".\n",
      "metadata": {}
    },
    {
      "id": "dutch-yugoslavia",
      "cell_type": "markdown",
      "source": "<img src='./imagens/apply_map_applymap.png' width=300/>\n\n\nFonte: https://towardsdatascience.com/introduction-to-pandas-apply-applymap-and-map-5d3e044e93ff",
      "metadata": {}
    },
    {
      "id": "comparative-mexican",
      "cell_type": "code",
      "source": "df = pd.DataFrame({ 'A': [1, 2, 3, 4], \n                    'B': [10, 20, 30, 40],\n                    'C': [100, 200, 300, 400]}, \n                     index=['Linha 1', 'Linha 2', 'Linha 3', 'Linha 4'])",
      "metadata": {
        "trusted": true
      },
      "outputs": [],
      "execution_count": 184
    },
    {
      "id": "spiritual-boutique",
      "cell_type": "code",
      "source": "df",
      "metadata": {
        "trusted": true
      },
      "outputs": [
        {
          "execution_count": 185,
          "output_type": "execute_result",
          "data": {
            "text/plain": "         A   B    C\nLinha 1  1  10  100\nLinha 2  2  20  200\nLinha 3  3  30  300\nLinha 4  4  40  400",
            "text/html": "<div>\n<style scoped>\n    .dataframe tbody tr th:only-of-type {\n        vertical-align: middle;\n    }\n\n    .dataframe tbody tr th {\n        vertical-align: top;\n    }\n\n    .dataframe thead th {\n        text-align: right;\n    }\n</style>\n<table border=\"1\" class=\"dataframe\">\n  <thead>\n    <tr style=\"text-align: right;\">\n      <th></th>\n      <th>A</th>\n      <th>B</th>\n      <th>C</th>\n    </tr>\n  </thead>\n  <tbody>\n    <tr>\n      <th>Linha 1</th>\n      <td>1</td>\n      <td>10</td>\n      <td>100</td>\n    </tr>\n    <tr>\n      <th>Linha 2</th>\n      <td>2</td>\n      <td>20</td>\n      <td>200</td>\n    </tr>\n    <tr>\n      <th>Linha 3</th>\n      <td>3</td>\n      <td>30</td>\n      <td>300</td>\n    </tr>\n    <tr>\n      <th>Linha 4</th>\n      <td>4</td>\n      <td>40</td>\n      <td>400</td>\n    </tr>\n  </tbody>\n</table>\n</div>"
          },
          "metadata": {}
        }
      ],
      "execution_count": 185
    },
    {
      "id": "absent-salmon",
      "cell_type": "markdown",
      "source": "`apply()`: usado para aplicar uma função ao longo de um eixo de um DataFrame ou em valores de uma Series.",
      "metadata": {}
    },
    {
      "id": "authorized-documentation",
      "cell_type": "markdown",
      "source": "<img src='./imagens/pandas_axis.jpg' width=500/>\n\nFonte: https://www.allthesnippets.com/browse/pandas/df_axis.html",
      "metadata": {}
    },
    {
      "id": "chronic-behavior",
      "cell_type": "code",
      "source": "def nossa_soma(series):\n    return series.sum()  # retorna a soma de todos os valores de uma series",
      "metadata": {
        "trusted": true
      },
      "outputs": [],
      "execution_count": 186
    },
    {
      "id": "dangerous-adult",
      "cell_type": "code",
      "source": "# aplica a função soma para cada linha do dataframe\ndf['SOMA(A, B, C)'] = df.apply(nossa_soma, axis=1)\ndf",
      "metadata": {
        "trusted": true
      },
      "outputs": [
        {
          "execution_count": 187,
          "output_type": "execute_result",
          "data": {
            "text/plain": "         A   B    C  SOMA(A, B, C)\nLinha 1  1  10  100            111\nLinha 2  2  20  200            222\nLinha 3  3  30  300            333\nLinha 4  4  40  400            444",
            "text/html": "<div>\n<style scoped>\n    .dataframe tbody tr th:only-of-type {\n        vertical-align: middle;\n    }\n\n    .dataframe tbody tr th {\n        vertical-align: top;\n    }\n\n    .dataframe thead th {\n        text-align: right;\n    }\n</style>\n<table border=\"1\" class=\"dataframe\">\n  <thead>\n    <tr style=\"text-align: right;\">\n      <th></th>\n      <th>A</th>\n      <th>B</th>\n      <th>C</th>\n      <th>SOMA(A, B, C)</th>\n    </tr>\n  </thead>\n  <tbody>\n    <tr>\n      <th>Linha 1</th>\n      <td>1</td>\n      <td>10</td>\n      <td>100</td>\n      <td>111</td>\n    </tr>\n    <tr>\n      <th>Linha 2</th>\n      <td>2</td>\n      <td>20</td>\n      <td>200</td>\n      <td>222</td>\n    </tr>\n    <tr>\n      <th>Linha 3</th>\n      <td>3</td>\n      <td>30</td>\n      <td>300</td>\n      <td>333</td>\n    </tr>\n    <tr>\n      <th>Linha 4</th>\n      <td>4</td>\n      <td>40</td>\n      <td>400</td>\n      <td>444</td>\n    </tr>\n  </tbody>\n</table>\n</div>"
          },
          "metadata": {}
        }
      ],
      "execution_count": 187
    },
    {
      "id": "following-tuner",
      "cell_type": "markdown",
      "source": "<img src='./imagens/apply_axis_1.png' width=250/>",
      "metadata": {}
    },
    {
      "id": "economic-conviction",
      "cell_type": "code",
      "source": "# aplica a função soma para cada coluna do dataframe\ndf.loc['Linha 5'] = df.apply(nossa_soma, axis=0)\ndf",
      "metadata": {
        "trusted": true
      },
      "outputs": [
        {
          "execution_count": 189,
          "output_type": "execute_result",
          "data": {
            "text/plain": "          A    B     C  SOMA(A, B, C)\nLinha 1   1   10   100            111\nLinha 2   2   20   200            222\nLinha 3   3   30   300            333\nLinha 4   4   40   400            444\nLinha 5  20  200  2000           2220",
            "text/html": "<div>\n<style scoped>\n    .dataframe tbody tr th:only-of-type {\n        vertical-align: middle;\n    }\n\n    .dataframe tbody tr th {\n        vertical-align: top;\n    }\n\n    .dataframe thead th {\n        text-align: right;\n    }\n</style>\n<table border=\"1\" class=\"dataframe\">\n  <thead>\n    <tr style=\"text-align: right;\">\n      <th></th>\n      <th>A</th>\n      <th>B</th>\n      <th>C</th>\n      <th>SOMA(A, B, C)</th>\n    </tr>\n  </thead>\n  <tbody>\n    <tr>\n      <th>Linha 1</th>\n      <td>1</td>\n      <td>10</td>\n      <td>100</td>\n      <td>111</td>\n    </tr>\n    <tr>\n      <th>Linha 2</th>\n      <td>2</td>\n      <td>20</td>\n      <td>200</td>\n      <td>222</td>\n    </tr>\n    <tr>\n      <th>Linha 3</th>\n      <td>3</td>\n      <td>30</td>\n      <td>300</td>\n      <td>333</td>\n    </tr>\n    <tr>\n      <th>Linha 4</th>\n      <td>4</td>\n      <td>40</td>\n      <td>400</td>\n      <td>444</td>\n    </tr>\n    <tr>\n      <th>Linha 5</th>\n      <td>20</td>\n      <td>200</td>\n      <td>2000</td>\n      <td>2220</td>\n    </tr>\n  </tbody>\n</table>\n</div>"
          },
          "metadata": {}
        }
      ],
      "execution_count": 189
    },
    {
      "id": "psychological-acrobat",
      "cell_type": "markdown",
      "source": "<img src='./imagens/apply_axis_0.png' width=250/>",
      "metadata": {}
    },
    {
      "id": "pursuant-metallic",
      "cell_type": "markdown",
      "source": "##### Usando `lambda` functions",
      "metadata": {}
    },
    {
      "id": "composed-summit",
      "cell_type": "code",
      "source": "df['MEDIA(A, B, C)'] = df[['A', 'B', 'C']].apply(lambda series: series.mean(), axis=1)\ndf",
      "metadata": {
        "trusted": true
      },
      "outputs": [
        {
          "execution_count": 190,
          "output_type": "execute_result",
          "data": {
            "text/plain": "          A    B     C  SOMA(A, B, C)  MEDIA(A, B, C)\nLinha 1   1   10   100            111            37.0\nLinha 2   2   20   200            222            74.0\nLinha 3   3   30   300            333           111.0\nLinha 4   4   40   400            444           148.0\nLinha 5  20  200  2000           2220           740.0",
            "text/html": "<div>\n<style scoped>\n    .dataframe tbody tr th:only-of-type {\n        vertical-align: middle;\n    }\n\n    .dataframe tbody tr th {\n        vertical-align: top;\n    }\n\n    .dataframe thead th {\n        text-align: right;\n    }\n</style>\n<table border=\"1\" class=\"dataframe\">\n  <thead>\n    <tr style=\"text-align: right;\">\n      <th></th>\n      <th>A</th>\n      <th>B</th>\n      <th>C</th>\n      <th>SOMA(A, B, C)</th>\n      <th>MEDIA(A, B, C)</th>\n    </tr>\n  </thead>\n  <tbody>\n    <tr>\n      <th>Linha 1</th>\n      <td>1</td>\n      <td>10</td>\n      <td>100</td>\n      <td>111</td>\n      <td>37.0</td>\n    </tr>\n    <tr>\n      <th>Linha 2</th>\n      <td>2</td>\n      <td>20</td>\n      <td>200</td>\n      <td>222</td>\n      <td>74.0</td>\n    </tr>\n    <tr>\n      <th>Linha 3</th>\n      <td>3</td>\n      <td>30</td>\n      <td>300</td>\n      <td>333</td>\n      <td>111.0</td>\n    </tr>\n    <tr>\n      <th>Linha 4</th>\n      <td>4</td>\n      <td>40</td>\n      <td>400</td>\n      <td>444</td>\n      <td>148.0</td>\n    </tr>\n    <tr>\n      <th>Linha 5</th>\n      <td>20</td>\n      <td>200</td>\n      <td>2000</td>\n      <td>2220</td>\n      <td>740.0</td>\n    </tr>\n  </tbody>\n</table>\n</div>"
          },
          "metadata": {}
        }
      ],
      "execution_count": 190
    },
    {
      "id": "modified-timer",
      "cell_type": "code",
      "source": "# plica a lambda function abaixo para cada elemento da coluna\ndf['C * 2'] = df['C'].apply(lambda x: x * 2)\ndf",
      "metadata": {
        "trusted": true
      },
      "outputs": [
        {
          "execution_count": 191,
          "output_type": "execute_result",
          "data": {
            "text/plain": "          A    B     C  SOMA(A, B, C)  MEDIA(A, B, C)  C * 2\nLinha 1   1   10   100            111            37.0    200\nLinha 2   2   20   200            222            74.0    400\nLinha 3   3   30   300            333           111.0    600\nLinha 4   4   40   400            444           148.0    800\nLinha 5  20  200  2000           2220           740.0   4000",
            "text/html": "<div>\n<style scoped>\n    .dataframe tbody tr th:only-of-type {\n        vertical-align: middle;\n    }\n\n    .dataframe tbody tr th {\n        vertical-align: top;\n    }\n\n    .dataframe thead th {\n        text-align: right;\n    }\n</style>\n<table border=\"1\" class=\"dataframe\">\n  <thead>\n    <tr style=\"text-align: right;\">\n      <th></th>\n      <th>A</th>\n      <th>B</th>\n      <th>C</th>\n      <th>SOMA(A, B, C)</th>\n      <th>MEDIA(A, B, C)</th>\n      <th>C * 2</th>\n    </tr>\n  </thead>\n  <tbody>\n    <tr>\n      <th>Linha 1</th>\n      <td>1</td>\n      <td>10</td>\n      <td>100</td>\n      <td>111</td>\n      <td>37.0</td>\n      <td>200</td>\n    </tr>\n    <tr>\n      <th>Linha 2</th>\n      <td>2</td>\n      <td>20</td>\n      <td>200</td>\n      <td>222</td>\n      <td>74.0</td>\n      <td>400</td>\n    </tr>\n    <tr>\n      <th>Linha 3</th>\n      <td>3</td>\n      <td>30</td>\n      <td>300</td>\n      <td>333</td>\n      <td>111.0</td>\n      <td>600</td>\n    </tr>\n    <tr>\n      <th>Linha 4</th>\n      <td>4</td>\n      <td>40</td>\n      <td>400</td>\n      <td>444</td>\n      <td>148.0</td>\n      <td>800</td>\n    </tr>\n    <tr>\n      <th>Linha 5</th>\n      <td>20</td>\n      <td>200</td>\n      <td>2000</td>\n      <td>2220</td>\n      <td>740.0</td>\n      <td>4000</td>\n    </tr>\n  </tbody>\n</table>\n</div>"
          },
          "metadata": {}
        }
      ],
      "execution_count": 191
    },
    {
      "id": "expensive-thunder",
      "cell_type": "markdown",
      "source": "<img src='./imagens/apply_axis_1_mean.png' width=350/>",
      "metadata": {}
    },
    {
      "id": "included-realtor",
      "cell_type": "code",
      "source": "df['A * 2'] = df['A'] * 2\ndf",
      "metadata": {
        "trusted": true
      },
      "outputs": [
        {
          "execution_count": 192,
          "output_type": "execute_result",
          "data": {
            "text/plain": "          A    B     C  SOMA(A, B, C)  MEDIA(A, B, C)  C * 2  A * 2\nLinha 1   1   10   100            111            37.0    200      2\nLinha 2   2   20   200            222            74.0    400      4\nLinha 3   3   30   300            333           111.0    600      6\nLinha 4   4   40   400            444           148.0    800      8\nLinha 5  20  200  2000           2220           740.0   4000     40",
            "text/html": "<div>\n<style scoped>\n    .dataframe tbody tr th:only-of-type {\n        vertical-align: middle;\n    }\n\n    .dataframe tbody tr th {\n        vertical-align: top;\n    }\n\n    .dataframe thead th {\n        text-align: right;\n    }\n</style>\n<table border=\"1\" class=\"dataframe\">\n  <thead>\n    <tr style=\"text-align: right;\">\n      <th></th>\n      <th>A</th>\n      <th>B</th>\n      <th>C</th>\n      <th>SOMA(A, B, C)</th>\n      <th>MEDIA(A, B, C)</th>\n      <th>C * 2</th>\n      <th>A * 2</th>\n    </tr>\n  </thead>\n  <tbody>\n    <tr>\n      <th>Linha 1</th>\n      <td>1</td>\n      <td>10</td>\n      <td>100</td>\n      <td>111</td>\n      <td>37.0</td>\n      <td>200</td>\n      <td>2</td>\n    </tr>\n    <tr>\n      <th>Linha 2</th>\n      <td>2</td>\n      <td>20</td>\n      <td>200</td>\n      <td>222</td>\n      <td>74.0</td>\n      <td>400</td>\n      <td>4</td>\n    </tr>\n    <tr>\n      <th>Linha 3</th>\n      <td>3</td>\n      <td>30</td>\n      <td>300</td>\n      <td>333</td>\n      <td>111.0</td>\n      <td>600</td>\n      <td>6</td>\n    </tr>\n    <tr>\n      <th>Linha 4</th>\n      <td>4</td>\n      <td>40</td>\n      <td>400</td>\n      <td>444</td>\n      <td>148.0</td>\n      <td>800</td>\n      <td>8</td>\n    </tr>\n    <tr>\n      <th>Linha 5</th>\n      <td>20</td>\n      <td>200</td>\n      <td>2000</td>\n      <td>2220</td>\n      <td>740.0</td>\n      <td>4000</td>\n      <td>40</td>\n    </tr>\n  </tbody>\n</table>\n</div>"
          },
          "metadata": {}
        }
      ],
      "execution_count": 192
    },
    {
      "id": "respective-broadcasting",
      "cell_type": "markdown",
      "source": "<br/>\n\n`applymap()`: usado para aplicar uma função para **cada elemento** (_element-wise_) de um DataFrame.",
      "metadata": {}
    },
    {
      "id": "hourly-affairs",
      "cell_type": "code",
      "source": "df = pd.DataFrame({ 'A': [1, 2, 3, 4], \n                    'B': [10, 20, 30, 40],\n                    'C': [100, 200, 300, 400]}, \n                     index=['Linha 1', 'Linha 2', 'Linha 3', 'Linha 4'])\ndf",
      "metadata": {
        "trusted": true
      },
      "outputs": [
        {
          "execution_count": 193,
          "output_type": "execute_result",
          "data": {
            "text/plain": "         A   B    C\nLinha 1  1  10  100\nLinha 2  2  20  200\nLinha 3  3  30  300\nLinha 4  4  40  400",
            "text/html": "<div>\n<style scoped>\n    .dataframe tbody tr th:only-of-type {\n        vertical-align: middle;\n    }\n\n    .dataframe tbody tr th {\n        vertical-align: top;\n    }\n\n    .dataframe thead th {\n        text-align: right;\n    }\n</style>\n<table border=\"1\" class=\"dataframe\">\n  <thead>\n    <tr style=\"text-align: right;\">\n      <th></th>\n      <th>A</th>\n      <th>B</th>\n      <th>C</th>\n    </tr>\n  </thead>\n  <tbody>\n    <tr>\n      <th>Linha 1</th>\n      <td>1</td>\n      <td>10</td>\n      <td>100</td>\n    </tr>\n    <tr>\n      <th>Linha 2</th>\n      <td>2</td>\n      <td>20</td>\n      <td>200</td>\n    </tr>\n    <tr>\n      <th>Linha 3</th>\n      <td>3</td>\n      <td>30</td>\n      <td>300</td>\n    </tr>\n    <tr>\n      <th>Linha 4</th>\n      <td>4</td>\n      <td>40</td>\n      <td>400</td>\n    </tr>\n  </tbody>\n</table>\n</div>"
          },
          "metadata": {}
        }
      ],
      "execution_count": 193
    },
    {
      "id": "strong-subcommittee",
      "cell_type": "code",
      "source": "# retorna um novo dataframe com todos os elementos ao quadrado.\n# poderíamos usar uma função ao invés de uma lambda function\ndf.map(lambda x: x ** 2)",
      "metadata": {
        "trusted": true
      },
      "outputs": [
        {
          "execution_count": 197,
          "output_type": "execute_result",
          "data": {
            "text/plain": "          A     B       C\nLinha 1   1   100   10000\nLinha 2   4   400   40000\nLinha 3   9   900   90000\nLinha 4  16  1600  160000",
            "text/html": "<div>\n<style scoped>\n    .dataframe tbody tr th:only-of-type {\n        vertical-align: middle;\n    }\n\n    .dataframe tbody tr th {\n        vertical-align: top;\n    }\n\n    .dataframe thead th {\n        text-align: right;\n    }\n</style>\n<table border=\"1\" class=\"dataframe\">\n  <thead>\n    <tr style=\"text-align: right;\">\n      <th></th>\n      <th>A</th>\n      <th>B</th>\n      <th>C</th>\n    </tr>\n  </thead>\n  <tbody>\n    <tr>\n      <th>Linha 1</th>\n      <td>1</td>\n      <td>100</td>\n      <td>10000</td>\n    </tr>\n    <tr>\n      <th>Linha 2</th>\n      <td>4</td>\n      <td>400</td>\n      <td>40000</td>\n    </tr>\n    <tr>\n      <th>Linha 3</th>\n      <td>9</td>\n      <td>900</td>\n      <td>90000</td>\n    </tr>\n    <tr>\n      <th>Linha 4</th>\n      <td>16</td>\n      <td>1600</td>\n      <td>160000</td>\n    </tr>\n  </tbody>\n</table>\n</div>"
          },
          "metadata": {}
        }
      ],
      "execution_count": 197
    },
    {
      "id": "cb59b979-78cd-4e6c-a2ed-6f8fc7b36f41",
      "cell_type": "code",
      "source": "df",
      "metadata": {
        "trusted": true
      },
      "outputs": [
        {
          "execution_count": 198,
          "output_type": "execute_result",
          "data": {
            "text/plain": "         A   B    C\nLinha 1  1  10  100\nLinha 2  2  20  200\nLinha 3  3  30  300\nLinha 4  4  40  400",
            "text/html": "<div>\n<style scoped>\n    .dataframe tbody tr th:only-of-type {\n        vertical-align: middle;\n    }\n\n    .dataframe tbody tr th {\n        vertical-align: top;\n    }\n\n    .dataframe thead th {\n        text-align: right;\n    }\n</style>\n<table border=\"1\" class=\"dataframe\">\n  <thead>\n    <tr style=\"text-align: right;\">\n      <th></th>\n      <th>A</th>\n      <th>B</th>\n      <th>C</th>\n    </tr>\n  </thead>\n  <tbody>\n    <tr>\n      <th>Linha 1</th>\n      <td>1</td>\n      <td>10</td>\n      <td>100</td>\n    </tr>\n    <tr>\n      <th>Linha 2</th>\n      <td>2</td>\n      <td>20</td>\n      <td>200</td>\n    </tr>\n    <tr>\n      <th>Linha 3</th>\n      <td>3</td>\n      <td>30</td>\n      <td>300</td>\n    </tr>\n    <tr>\n      <th>Linha 4</th>\n      <td>4</td>\n      <td>40</td>\n      <td>400</td>\n    </tr>\n  </tbody>\n</table>\n</div>"
          },
          "metadata": {}
        }
      ],
      "execution_count": 198
    },
    {
      "id": "close-female",
      "cell_type": "markdown",
      "source": "<br/>\n\n`map()`: usado para aplicar uma função para **cada elemento** (_element-wise_) de uma _Series_.",
      "metadata": {}
    },
    {
      "id": "unknown-mining",
      "cell_type": "code",
      "source": "nomes = pd.Series(['João', 'Maria', 'Alice', 'Pedro'])\nnomes",
      "metadata": {
        "trusted": true
      },
      "outputs": [
        {
          "execution_count": 199,
          "output_type": "execute_result",
          "data": {
            "text/plain": "0     João\n1    Maria\n2    Alice\n3    Pedro\ndtype: object"
          },
          "metadata": {}
        }
      ],
      "execution_count": 199
    },
    {
      "id": "exceptional-financing",
      "cell_type": "code",
      "source": "# retorna uma nova Series com todos os nomes com letras maiuscúlas.\n# poderíamos usar uma função ao invés de uma lambda function\nnomes.map(lambda x: x.upper())",
      "metadata": {
        "trusted": true
      },
      "outputs": [
        {
          "execution_count": 200,
          "output_type": "execute_result",
          "data": {
            "text/plain": "0     JOÃO\n1    MARIA\n2    ALICE\n3    PEDRO\ndtype: object"
          },
          "metadata": {}
        }
      ],
      "execution_count": 200
    },
    {
      "id": "velvet-moment",
      "cell_type": "code",
      "source": "nomes",
      "metadata": {
        "trusted": true
      },
      "outputs": [
        {
          "execution_count": 201,
          "output_type": "execute_result",
          "data": {
            "text/plain": "0     João\n1    Maria\n2    Alice\n3    Pedro\ndtype: object"
          },
          "metadata": {}
        }
      ],
      "execution_count": 201
    },
    {
      "id": "detected-tanzania",
      "cell_type": "code",
      "source": "# O Pandas já fornece uma série de métodos para manipulação de strings.\n# Assim, poderíamos usar o código abaixo para obter o mesmo resultado.\nnomes.str.upper()",
      "metadata": {
        "trusted": true
      },
      "outputs": [
        {
          "execution_count": 202,
          "output_type": "execute_result",
          "data": {
            "text/plain": "0     JOÃO\n1    MARIA\n2    ALICE\n3    PEDRO\ndtype: object"
          },
          "metadata": {}
        }
      ],
      "execution_count": 202
    },
    {
      "id": "increasing-intersection",
      "cell_type": "markdown",
      "source": "<h2>5. Agrupamento</h2>\n<hr/>",
      "metadata": {}
    },
    {
      "id": "expensive-field",
      "cell_type": "code",
      "source": "data.head()",
      "metadata": {
        "trusted": true
      },
      "outputs": [
        {
          "execution_count": 204,
          "output_type": "execute_result",
          "data": {
            "text/plain": "  DATA INICIAL  DATA FINAL        REGIÃO              ESTADO  \\\n0   2004-05-09  2004-05-15  CENTRO OESTE    DISTRITO FEDERAL   \n1   2004-05-09  2004-05-15  CENTRO OESTE               GOIAS   \n2   2004-05-09  2004-05-15  CENTRO OESTE         MATO GROSSO   \n3   2004-05-09  2004-05-15  CENTRO OESTE  MATO GROSSO DO SUL   \n4   2004-05-09  2004-05-15      NORDESTE             ALAGOAS   \n\n            PRODUTO  NÚMERO DE POSTOS PESQUISADOS UNIDADE DE MEDIDA  \\\n0  ETANOL HIDRATADO                           127              R$/l   \n1  ETANOL HIDRATADO                           387              R$/l   \n2  ETANOL HIDRATADO                           192              R$/l   \n3  ETANOL HIDRATADO                           162              R$/l   \n4  ETANOL HIDRATADO                           103              R$/l   \n\n   PREÇO MÉDIO REVENDA  DESVIO PADRÃO REVENDA  PREÇO MÍNIMO REVENDA  \\\n0                1.288                  0.016                  1.19   \n1                1.162                  0.114                  0.89   \n2                1.389                  0.097                  1.18   \n3                1.262                  0.070                  1.09   \n4                1.181                  0.078                  1.05   \n\n   PREÇO MÁXIMO REVENDA MARGEM MÉDIA REVENDA  COEF DE VARIAÇÃO REVENDA  \\\n0                 1.350                0.463                     0.012   \n1                 1.449                0.399                     0.098   \n2                 1.760                0.419                     0.070   \n3                 1.509                0.432                     0.055   \n4                 1.400                 0.24                     0.066   \n\n  PREÇO MÉDIO DISTRIBUIÇÃO DESVIO PADRÃO DISTRIBUIÇÃO  \\\n0                    0.825                       0.11   \n1                    0.763                      0.088   \n2                     0.97                      0.095   \n3                     0.83                      0.119   \n4                    0.941                      0.077   \n\n  PREÇO MÍNIMO DISTRIBUIÇÃO PREÇO MÁXIMO DISTRIBUIÇÃO  \\\n0                    0.4201                    0.9666   \n1                    0.5013                      1.05   \n2                    0.5614                     1.161   \n3                    0.5991                   1.22242   \n4                    0.7441                    1.0317   \n\n  COEF DE VARIAÇÃO DISTRIBUIÇÃO   Ano  \n0                         0.133  2017  \n1                         0.115  2018  \n2                         0.098  2019  \n3                         0.143  2020  \n4                         0.082  2021  ",
            "text/html": "<div>\n<style scoped>\n    .dataframe tbody tr th:only-of-type {\n        vertical-align: middle;\n    }\n\n    .dataframe tbody tr th {\n        vertical-align: top;\n    }\n\n    .dataframe thead th {\n        text-align: right;\n    }\n</style>\n<table border=\"1\" class=\"dataframe\">\n  <thead>\n    <tr style=\"text-align: right;\">\n      <th></th>\n      <th>DATA INICIAL</th>\n      <th>DATA FINAL</th>\n      <th>REGIÃO</th>\n      <th>ESTADO</th>\n      <th>PRODUTO</th>\n      <th>NÚMERO DE POSTOS PESQUISADOS</th>\n      <th>UNIDADE DE MEDIDA</th>\n      <th>PREÇO MÉDIO REVENDA</th>\n      <th>DESVIO PADRÃO REVENDA</th>\n      <th>PREÇO MÍNIMO REVENDA</th>\n      <th>PREÇO MÁXIMO REVENDA</th>\n      <th>MARGEM MÉDIA REVENDA</th>\n      <th>COEF DE VARIAÇÃO REVENDA</th>\n      <th>PREÇO MÉDIO DISTRIBUIÇÃO</th>\n      <th>DESVIO PADRÃO DISTRIBUIÇÃO</th>\n      <th>PREÇO MÍNIMO DISTRIBUIÇÃO</th>\n      <th>PREÇO MÁXIMO DISTRIBUIÇÃO</th>\n      <th>COEF DE VARIAÇÃO DISTRIBUIÇÃO</th>\n      <th>Ano</th>\n    </tr>\n  </thead>\n  <tbody>\n    <tr>\n      <th>0</th>\n      <td>2004-05-09</td>\n      <td>2004-05-15</td>\n      <td>CENTRO OESTE</td>\n      <td>DISTRITO FEDERAL</td>\n      <td>ETANOL HIDRATADO</td>\n      <td>127</td>\n      <td>R$/l</td>\n      <td>1.288</td>\n      <td>0.016</td>\n      <td>1.19</td>\n      <td>1.350</td>\n      <td>0.463</td>\n      <td>0.012</td>\n      <td>0.825</td>\n      <td>0.11</td>\n      <td>0.4201</td>\n      <td>0.9666</td>\n      <td>0.133</td>\n      <td>2017</td>\n    </tr>\n    <tr>\n      <th>1</th>\n      <td>2004-05-09</td>\n      <td>2004-05-15</td>\n      <td>CENTRO OESTE</td>\n      <td>GOIAS</td>\n      <td>ETANOL HIDRATADO</td>\n      <td>387</td>\n      <td>R$/l</td>\n      <td>1.162</td>\n      <td>0.114</td>\n      <td>0.89</td>\n      <td>1.449</td>\n      <td>0.399</td>\n      <td>0.098</td>\n      <td>0.763</td>\n      <td>0.088</td>\n      <td>0.5013</td>\n      <td>1.05</td>\n      <td>0.115</td>\n      <td>2018</td>\n    </tr>\n    <tr>\n      <th>2</th>\n      <td>2004-05-09</td>\n      <td>2004-05-15</td>\n      <td>CENTRO OESTE</td>\n      <td>MATO GROSSO</td>\n      <td>ETANOL HIDRATADO</td>\n      <td>192</td>\n      <td>R$/l</td>\n      <td>1.389</td>\n      <td>0.097</td>\n      <td>1.18</td>\n      <td>1.760</td>\n      <td>0.419</td>\n      <td>0.070</td>\n      <td>0.97</td>\n      <td>0.095</td>\n      <td>0.5614</td>\n      <td>1.161</td>\n      <td>0.098</td>\n      <td>2019</td>\n    </tr>\n    <tr>\n      <th>3</th>\n      <td>2004-05-09</td>\n      <td>2004-05-15</td>\n      <td>CENTRO OESTE</td>\n      <td>MATO GROSSO DO SUL</td>\n      <td>ETANOL HIDRATADO</td>\n      <td>162</td>\n      <td>R$/l</td>\n      <td>1.262</td>\n      <td>0.070</td>\n      <td>1.09</td>\n      <td>1.509</td>\n      <td>0.432</td>\n      <td>0.055</td>\n      <td>0.83</td>\n      <td>0.119</td>\n      <td>0.5991</td>\n      <td>1.22242</td>\n      <td>0.143</td>\n      <td>2020</td>\n    </tr>\n    <tr>\n      <th>4</th>\n      <td>2004-05-09</td>\n      <td>2004-05-15</td>\n      <td>NORDESTE</td>\n      <td>ALAGOAS</td>\n      <td>ETANOL HIDRATADO</td>\n      <td>103</td>\n      <td>R$/l</td>\n      <td>1.181</td>\n      <td>0.078</td>\n      <td>1.05</td>\n      <td>1.400</td>\n      <td>0.24</td>\n      <td>0.066</td>\n      <td>0.941</td>\n      <td>0.077</td>\n      <td>0.7441</td>\n      <td>1.0317</td>\n      <td>0.082</td>\n      <td>2021</td>\n    </tr>\n  </tbody>\n</table>\n</div>"
          },
          "metadata": {}
        }
      ],
      "execution_count": 204
    },
    {
      "id": "played-windsor",
      "cell_type": "markdown",
      "source": "`groupby`: Usado para criar **grupo de elementos** (e.x., baseado nos valores de um atributo). <br/>\n**Funções** podem então ser aplicadas para os _elementos de cada grupo_, de modo que os **resultados de cada grupo são combinados**.",
      "metadata": {}
    },
    {
      "id": "standard-finish",
      "cell_type": "code",
      "source": "# agrupa as linhas da tablea de acordo com suas respectivas regiões\ngrupos = data.groupby('REGIÃO')\ngrupos",
      "metadata": {
        "trusted": true
      },
      "outputs": [
        {
          "execution_count": 205,
          "output_type": "execute_result",
          "data": {
            "text/plain": "<pandas.core.groupby.generic.DataFrameGroupBy object at 0xe5f7ba8>"
          },
          "metadata": {}
        }
      ],
      "execution_count": 205
    },
    {
      "id": "failing-blackjack",
      "cell_type": "code",
      "source": "# retorna os grupos obtidos pelo groupby\ngrupos.groups",
      "metadata": {
        "trusted": true
      },
      "outputs": [
        {
          "execution_count": 206,
          "output_type": "execute_result",
          "data": {
            "text/plain": "{'CENTRO OESTE': [0, 1, 2, 3, 27, 28, 29, 30, 54, 55, 56, 57, 81, 82, 83, 84, 108, 109, 110, 111, 135, 136, 137, 138, 162, 163, 164, 165, 189, 190, 191, 192, 216, 217, 218, 219, 243, 244, 245, 246, 270, 271, 272, 273, 297, 298, 299, 300, 324, 325, 326, 327, 351, 352, 353, 354, 378, 379, 380, 381, 405, 406, 407, 408, 432, 433, 434, 435, 459, 460, 461, 462, 486, 487, 488, 489, 513, 514, 515, 516, 540, 541, 542, 543, 567, 568, 569, 570, 594, 595, 596, 597, 621, 622, 623, 624, 648, 649, 650, 651, ...], 'NORDESTE': [4, 5, 6, 7, 8, 9, 10, 11, 12, 31, 32, 33, 34, 35, 36, 37, 38, 39, 58, 59, 60, 61, 62, 63, 64, 65, 66, 85, 86, 87, 88, 89, 90, 91, 92, 93, 112, 113, 114, 115, 116, 117, 118, 119, 120, 139, 140, 141, 142, 143, 144, 145, 146, 147, 166, 167, 168, 169, 170, 171, 172, 173, 174, 193, 194, 195, 196, 197, 198, 199, 200, 201, 220, 221, 222, 223, 224, 225, 226, 227, 228, 247, 248, 249, 250, 251, 252, 253, 254, 255, 274, 275, 276, 277, 278, 279, 280, 281, 282, 301, ...], 'NORTE': [13, 14, 15, 16, 17, 18, 19, 40, 41, 42, 43, 44, 45, 46, 67, 68, 69, 70, 71, 72, 73, 94, 95, 96, 97, 98, 99, 100, 121, 122, 123, 124, 125, 126, 127, 148, 149, 150, 151, 152, 153, 154, 175, 176, 177, 178, 179, 180, 181, 202, 203, 204, 205, 206, 207, 208, 229, 230, 231, 232, 233, 234, 235, 256, 257, 258, 259, 260, 261, 262, 283, 284, 285, 286, 287, 288, 289, 310, 311, 312, 313, 314, 315, 316, 337, 338, 339, 340, 341, 342, 343, 364, 365, 366, 367, 368, 369, 370, 391, 392, ...], 'SUDESTE': [20, 21, 22, 23, 47, 48, 49, 50, 74, 75, 76, 77, 101, 102, 103, 104, 128, 129, 130, 131, 155, 156, 157, 158, 182, 183, 184, 185, 209, 210, 211, 212, 236, 237, 238, 239, 263, 264, 265, 266, 290, 291, 292, 293, 317, 318, 319, 320, 344, 345, 346, 347, 371, 372, 373, 374, 398, 399, 400, 401, 425, 426, 427, 428, 452, 453, 454, 455, 479, 480, 481, 482, 506, 507, 508, 509, 533, 534, 535, 536, 560, 561, 562, 563, 587, 588, 589, 590, 614, 615, 616, 617, 641, 642, 643, 644, 668, 669, 670, 671, ...], 'SUL': [24, 25, 26, 51, 52, 53, 78, 79, 80, 105, 106, 107, 132, 133, 134, 159, 160, 161, 186, 187, 188, 213, 214, 215, 240, 241, 242, 267, 268, 269, 294, 295, 296, 321, 322, 323, 348, 349, 350, 375, 376, 377, 402, 403, 404, 429, 430, 431, 456, 457, 458, 483, 484, 485, 510, 511, 512, 537, 538, 539, 564, 565, 566, 591, 592, 593, 618, 619, 620, 645, 646, 647, 672, 673, 674, 699, 700, 701, 726, 727, 728, 753, 754, 755, 780, 781, 782, 807, 808, 809, 834, 835, 836, 861, 862, 863, 888, 889, 890, 915, ...]}"
          },
          "metadata": {}
        }
      ],
      "execution_count": 206
    },
    {
      "id": "filled-encoding",
      "cell_type": "code",
      "source": "# retorna os índices das linhas/observações de cada grupo\ngrupos.indices",
      "metadata": {
        "trusted": true
      },
      "outputs": [
        {
          "execution_count": 208,
          "output_type": "execute_result",
          "data": {
            "text/plain": "{'CENTRO OESTE': array([     0,      1,      2, ..., 120804, 120806, 120807]),\n 'NORDESTE': array([     4,      5,      6, ..., 120813, 120815, 120821]),\n 'NORTE': array([    13,     14,     15, ..., 120817, 120818, 120822]),\n 'SUDESTE': array([    20,     21,     22, ..., 120808, 120814, 120820]),\n 'SUL': array([    24,     25,     26, ..., 120811, 120816, 120819])}"
          },
          "metadata": {}
        }
      ],
      "execution_count": 208
    },
    {
      "id": "11fe90d3-dace-40d7-93e2-ddffeaca0984",
      "cell_type": "code",
      "source": "# retorna um dataframe apenas com as observações do grupo 'CENTRO OESTE'\ngrupos.get_group('CENTRO OESTE')",
      "metadata": {
        "trusted": true
      },
      "outputs": [
        {
          "execution_count": 209,
          "output_type": "execute_result",
          "data": {
            "text/plain": "       DATA INICIAL  DATA FINAL        REGIÃO              ESTADO  \\\n0        2004-05-09  2004-05-15  CENTRO OESTE    DISTRITO FEDERAL   \n1        2004-05-09  2004-05-15  CENTRO OESTE               GOIAS   \n2        2004-05-09  2004-05-15  CENTRO OESTE         MATO GROSSO   \n3        2004-05-09  2004-05-15  CENTRO OESTE  MATO GROSSO DO SUL   \n27       2004-05-16  2004-05-22  CENTRO OESTE    DISTRITO FEDERAL   \n...             ...         ...           ...                 ...   \n120780   2021-04-25  2021-05-01  CENTRO OESTE  MATO GROSSO DO SUL   \n120802   2021-04-25  2021-05-01  CENTRO OESTE    DISTRITO FEDERAL   \n120804   2021-04-25  2021-05-01  CENTRO OESTE               GOIAS   \n120806   2021-04-25  2021-05-01  CENTRO OESTE         MATO GROSSO   \n120807   2021-04-25  2021-05-01  CENTRO OESTE  MATO GROSSO DO SUL   \n\n                 PRODUTO  NÚMERO DE POSTOS PESQUISADOS UNIDADE DE MEDIDA  \\\n0       ETANOL HIDRATADO                           127              R$/l   \n1       ETANOL HIDRATADO                           387              R$/l   \n2       ETANOL HIDRATADO                           192              R$/l   \n3       ETANOL HIDRATADO                           162              R$/l   \n27      ETANOL HIDRATADO                           144              R$/l   \n...                  ...                           ...               ...   \n120780       OLEO DIESEL                            30              R$/l   \n120802   OLEO DIESEL S10                            35              R$/l   \n120804   OLEO DIESEL S10                            66              R$/l   \n120806   OLEO DIESEL S10                           101              R$/l   \n120807   OLEO DIESEL S10                            44              R$/l   \n\n        PREÇO MÉDIO REVENDA  DESVIO PADRÃO REVENDA  PREÇO MÍNIMO REVENDA  \\\n0                     1.288                  0.016                 1.190   \n1                     1.162                  0.114                 0.890   \n2                     1.389                  0.097                 1.180   \n3                     1.262                  0.070                 1.090   \n27                    1.271                  0.039                 1.060   \n...                     ...                    ...                   ...   \n120780                4.203                  0.174                 3.889   \n120802                4.318                  0.141                 4.058   \n120804                4.402                  0.150                 4.140   \n120806                4.594                  0.139                 4.299   \n120807                4.232                  0.151                 3.990   \n\n        PREÇO MÁXIMO REVENDA MARGEM MÉDIA REVENDA  COEF DE VARIAÇÃO REVENDA  \\\n0                      1.350                0.463                     0.012   \n1                      1.449                0.399                     0.098   \n2                      1.760                0.419                     0.070   \n3                      1.509                0.432                     0.055   \n27                     1.300                0.448                     0.031   \n...                      ...                  ...                       ...   \n120780                 4.649             -99999.0                     0.041   \n120802                 4.599             -99999.0                     0.033   \n120804                 4.799             -99999.0                     0.034   \n120806                 4.899             -99999.0                     0.030   \n120807                 4.699             -99999.0                     0.036   \n\n       PREÇO MÉDIO DISTRIBUIÇÃO DESVIO PADRÃO DISTRIBUIÇÃO  \\\n0                         0.825                       0.11   \n1                         0.763                      0.088   \n2                          0.97                      0.095   \n3                          0.83                      0.119   \n27                        0.823                      0.111   \n...                         ...                        ...   \n120780                 -99999.0                   -99999.0   \n120802                 -99999.0                   -99999.0   \n120804                 -99999.0                   -99999.0   \n120806                 -99999.0                   -99999.0   \n120807                 -99999.0                   -99999.0   \n\n       PREÇO MÍNIMO DISTRIBUIÇÃO PREÇO MÁXIMO DISTRIBUIÇÃO  \\\n0                         0.4201                    0.9666   \n1                         0.5013                      1.05   \n2                         0.5614                     1.161   \n3                         0.5991                   1.22242   \n27                        0.4094                    1.1931   \n...                          ...                       ...   \n120780                  -99999.0                  -99999.0   \n120802                  -99999.0                  -99999.0   \n120804                  -99999.0                  -99999.0   \n120806                  -99999.0                  -99999.0   \n120807                  -99999.0                  -99999.0   \n\n       COEF DE VARIAÇÃO DISTRIBUIÇÃO   Ano  \n0                              0.133  2017  \n1                              0.115  2018  \n2                              0.098  2019  \n3                              0.143  2020  \n27                             0.135  2019  \n...                              ...   ...  \n120780                      -99999.0  2017  \n120802                      -99999.0  2019  \n120804                      -99999.0  2021  \n120806                      -99999.0  2018  \n120807                      -99999.0  2019  \n\n[17449 rows x 19 columns]",
            "text/html": "<div>\n<style scoped>\n    .dataframe tbody tr th:only-of-type {\n        vertical-align: middle;\n    }\n\n    .dataframe tbody tr th {\n        vertical-align: top;\n    }\n\n    .dataframe thead th {\n        text-align: right;\n    }\n</style>\n<table border=\"1\" class=\"dataframe\">\n  <thead>\n    <tr style=\"text-align: right;\">\n      <th></th>\n      <th>DATA INICIAL</th>\n      <th>DATA FINAL</th>\n      <th>REGIÃO</th>\n      <th>ESTADO</th>\n      <th>PRODUTO</th>\n      <th>NÚMERO DE POSTOS PESQUISADOS</th>\n      <th>UNIDADE DE MEDIDA</th>\n      <th>PREÇO MÉDIO REVENDA</th>\n      <th>DESVIO PADRÃO REVENDA</th>\n      <th>PREÇO MÍNIMO REVENDA</th>\n      <th>PREÇO MÁXIMO REVENDA</th>\n      <th>MARGEM MÉDIA REVENDA</th>\n      <th>COEF DE VARIAÇÃO REVENDA</th>\n      <th>PREÇO MÉDIO DISTRIBUIÇÃO</th>\n      <th>DESVIO PADRÃO DISTRIBUIÇÃO</th>\n      <th>PREÇO MÍNIMO DISTRIBUIÇÃO</th>\n      <th>PREÇO MÁXIMO DISTRIBUIÇÃO</th>\n      <th>COEF DE VARIAÇÃO DISTRIBUIÇÃO</th>\n      <th>Ano</th>\n    </tr>\n  </thead>\n  <tbody>\n    <tr>\n      <th>0</th>\n      <td>2004-05-09</td>\n      <td>2004-05-15</td>\n      <td>CENTRO OESTE</td>\n      <td>DISTRITO FEDERAL</td>\n      <td>ETANOL HIDRATADO</td>\n      <td>127</td>\n      <td>R$/l</td>\n      <td>1.288</td>\n      <td>0.016</td>\n      <td>1.190</td>\n      <td>1.350</td>\n      <td>0.463</td>\n      <td>0.012</td>\n      <td>0.825</td>\n      <td>0.11</td>\n      <td>0.4201</td>\n      <td>0.9666</td>\n      <td>0.133</td>\n      <td>2017</td>\n    </tr>\n    <tr>\n      <th>1</th>\n      <td>2004-05-09</td>\n      <td>2004-05-15</td>\n      <td>CENTRO OESTE</td>\n      <td>GOIAS</td>\n      <td>ETANOL HIDRATADO</td>\n      <td>387</td>\n      <td>R$/l</td>\n      <td>1.162</td>\n      <td>0.114</td>\n      <td>0.890</td>\n      <td>1.449</td>\n      <td>0.399</td>\n      <td>0.098</td>\n      <td>0.763</td>\n      <td>0.088</td>\n      <td>0.5013</td>\n      <td>1.05</td>\n      <td>0.115</td>\n      <td>2018</td>\n    </tr>\n    <tr>\n      <th>2</th>\n      <td>2004-05-09</td>\n      <td>2004-05-15</td>\n      <td>CENTRO OESTE</td>\n      <td>MATO GROSSO</td>\n      <td>ETANOL HIDRATADO</td>\n      <td>192</td>\n      <td>R$/l</td>\n      <td>1.389</td>\n      <td>0.097</td>\n      <td>1.180</td>\n      <td>1.760</td>\n      <td>0.419</td>\n      <td>0.070</td>\n      <td>0.97</td>\n      <td>0.095</td>\n      <td>0.5614</td>\n      <td>1.161</td>\n      <td>0.098</td>\n      <td>2019</td>\n    </tr>\n    <tr>\n      <th>3</th>\n      <td>2004-05-09</td>\n      <td>2004-05-15</td>\n      <td>CENTRO OESTE</td>\n      <td>MATO GROSSO DO SUL</td>\n      <td>ETANOL HIDRATADO</td>\n      <td>162</td>\n      <td>R$/l</td>\n      <td>1.262</td>\n      <td>0.070</td>\n      <td>1.090</td>\n      <td>1.509</td>\n      <td>0.432</td>\n      <td>0.055</td>\n      <td>0.83</td>\n      <td>0.119</td>\n      <td>0.5991</td>\n      <td>1.22242</td>\n      <td>0.143</td>\n      <td>2020</td>\n    </tr>\n    <tr>\n      <th>27</th>\n      <td>2004-05-16</td>\n      <td>2004-05-22</td>\n      <td>CENTRO OESTE</td>\n      <td>DISTRITO FEDERAL</td>\n      <td>ETANOL HIDRATADO</td>\n      <td>144</td>\n      <td>R$/l</td>\n      <td>1.271</td>\n      <td>0.039</td>\n      <td>1.060</td>\n      <td>1.300</td>\n      <td>0.448</td>\n      <td>0.031</td>\n      <td>0.823</td>\n      <td>0.111</td>\n      <td>0.4094</td>\n      <td>1.1931</td>\n      <td>0.135</td>\n      <td>2019</td>\n    </tr>\n    <tr>\n      <th>...</th>\n      <td>...</td>\n      <td>...</td>\n      <td>...</td>\n      <td>...</td>\n      <td>...</td>\n      <td>...</td>\n      <td>...</td>\n      <td>...</td>\n      <td>...</td>\n      <td>...</td>\n      <td>...</td>\n      <td>...</td>\n      <td>...</td>\n      <td>...</td>\n      <td>...</td>\n      <td>...</td>\n      <td>...</td>\n      <td>...</td>\n      <td>...</td>\n    </tr>\n    <tr>\n      <th>120780</th>\n      <td>2021-04-25</td>\n      <td>2021-05-01</td>\n      <td>CENTRO OESTE</td>\n      <td>MATO GROSSO DO SUL</td>\n      <td>OLEO DIESEL</td>\n      <td>30</td>\n      <td>R$/l</td>\n      <td>4.203</td>\n      <td>0.174</td>\n      <td>3.889</td>\n      <td>4.649</td>\n      <td>-99999.0</td>\n      <td>0.041</td>\n      <td>-99999.0</td>\n      <td>-99999.0</td>\n      <td>-99999.0</td>\n      <td>-99999.0</td>\n      <td>-99999.0</td>\n      <td>2017</td>\n    </tr>\n    <tr>\n      <th>120802</th>\n      <td>2021-04-25</td>\n      <td>2021-05-01</td>\n      <td>CENTRO OESTE</td>\n      <td>DISTRITO FEDERAL</td>\n      <td>OLEO DIESEL S10</td>\n      <td>35</td>\n      <td>R$/l</td>\n      <td>4.318</td>\n      <td>0.141</td>\n      <td>4.058</td>\n      <td>4.599</td>\n      <td>-99999.0</td>\n      <td>0.033</td>\n      <td>-99999.0</td>\n      <td>-99999.0</td>\n      <td>-99999.0</td>\n      <td>-99999.0</td>\n      <td>-99999.0</td>\n      <td>2019</td>\n    </tr>\n    <tr>\n      <th>120804</th>\n      <td>2021-04-25</td>\n      <td>2021-05-01</td>\n      <td>CENTRO OESTE</td>\n      <td>GOIAS</td>\n      <td>OLEO DIESEL S10</td>\n      <td>66</td>\n      <td>R$/l</td>\n      <td>4.402</td>\n      <td>0.150</td>\n      <td>4.140</td>\n      <td>4.799</td>\n      <td>-99999.0</td>\n      <td>0.034</td>\n      <td>-99999.0</td>\n      <td>-99999.0</td>\n      <td>-99999.0</td>\n      <td>-99999.0</td>\n      <td>-99999.0</td>\n      <td>2021</td>\n    </tr>\n    <tr>\n      <th>120806</th>\n      <td>2021-04-25</td>\n      <td>2021-05-01</td>\n      <td>CENTRO OESTE</td>\n      <td>MATO GROSSO</td>\n      <td>OLEO DIESEL S10</td>\n      <td>101</td>\n      <td>R$/l</td>\n      <td>4.594</td>\n      <td>0.139</td>\n      <td>4.299</td>\n      <td>4.899</td>\n      <td>-99999.0</td>\n      <td>0.030</td>\n      <td>-99999.0</td>\n      <td>-99999.0</td>\n      <td>-99999.0</td>\n      <td>-99999.0</td>\n      <td>-99999.0</td>\n      <td>2018</td>\n    </tr>\n    <tr>\n      <th>120807</th>\n      <td>2021-04-25</td>\n      <td>2021-05-01</td>\n      <td>CENTRO OESTE</td>\n      <td>MATO GROSSO DO SUL</td>\n      <td>OLEO DIESEL S10</td>\n      <td>44</td>\n      <td>R$/l</td>\n      <td>4.232</td>\n      <td>0.151</td>\n      <td>3.990</td>\n      <td>4.699</td>\n      <td>-99999.0</td>\n      <td>0.036</td>\n      <td>-99999.0</td>\n      <td>-99999.0</td>\n      <td>-99999.0</td>\n      <td>-99999.0</td>\n      <td>-99999.0</td>\n      <td>2019</td>\n    </tr>\n  </tbody>\n</table>\n<p>17449 rows × 19 columns</p>\n</div>"
          },
          "metadata": {}
        }
      ],
      "execution_count": 209
    },
    {
      "id": "db885ecf-e7a3-4b98-a73b-e81d3fe01c16",
      "cell_type": "code",
      "source": "# descreva para nós algumas estatística descritivas para as observações de cada grupo\ngrupos.describe()",
      "metadata": {
        "trusted": true
      },
      "outputs": [
        {
          "execution_count": 210,
          "output_type": "execute_result",
          "data": {
            "text/plain": "             NÚMERO DE POSTOS PESQUISADOS                                      \\\n                                    count        mean         std  min    25%   \nREGIÃO                                                                          \nCENTRO OESTE                      17449.0  130.911055  104.672315  1.0   65.0   \nNORDESTE                          41671.0  117.176934  110.344763  1.0   37.0   \nNORTE                             27989.0   62.700239   51.823659  1.0   27.0   \nSUDESTE                           19270.0  673.675402  761.979612  1.0  135.0   \nSUL                               14444.0  332.741900  235.447722  1.0  121.0   \n\n                                   PREÇO MÉDIO REVENDA             ...  \\\n                50%    75%     max               count       mean  ...   \nREGIÃO                                                             ...   \nCENTRO OESTE  115.0  169.0   766.0             17449.0  12.440722  ...   \nNORDESTE       81.0  151.0   625.0             41671.0  10.663357  ...   \nNORTE          49.0   88.0   383.0             27989.0  13.411680  ...   \nSUDESTE       366.0  982.0  4167.0             19270.0  10.217240  ...   \nSUL           342.0  530.0  1416.0             14444.0  10.562091  ...   \n\n             COEF DE VARIAÇÃO REVENDA             Ano                         \\\n                                  75%    max    count         mean       std   \nREGIÃO                                                                         \nCENTRO OESTE                    0.054  0.262  17449.0  2018.997020  1.414616   \nNORDESTE                        0.052  0.228  41671.0  2018.996664  1.413268   \nNORTE                           0.061  0.395  27989.0  2019.002108  1.414730   \nSUDESTE                         0.069  0.201  19270.0  2019.004255  1.416517   \nSUL                             0.059  0.233  14444.0  2019.003254  1.412569   \n\n                                                      \n                 min     25%     50%     75%     max  \nREGIÃO                                                \nCENTRO OESTE  2017.0  2018.0  2019.0  2020.0  2021.0  \nNORDESTE      2017.0  2018.0  2019.0  2020.0  2021.0  \nNORTE         2017.0  2018.0  2019.0  2020.0  2021.0  \nSUDESTE       2017.0  2018.0  2019.0  2020.0  2021.0  \nSUL           2017.0  2018.0  2019.0  2020.0  2021.0  \n\n[5 rows x 56 columns]",
            "text/html": "<div>\n<style scoped>\n    .dataframe tbody tr th:only-of-type {\n        vertical-align: middle;\n    }\n\n    .dataframe tbody tr th {\n        vertical-align: top;\n    }\n\n    .dataframe thead tr th {\n        text-align: left;\n    }\n\n    .dataframe thead tr:last-of-type th {\n        text-align: right;\n    }\n</style>\n<table border=\"1\" class=\"dataframe\">\n  <thead>\n    <tr>\n      <th></th>\n      <th colspan=\"8\" halign=\"left\">NÚMERO DE POSTOS PESQUISADOS</th>\n      <th colspan=\"2\" halign=\"left\">PREÇO MÉDIO REVENDA</th>\n      <th>...</th>\n      <th colspan=\"2\" halign=\"left\">COEF DE VARIAÇÃO REVENDA</th>\n      <th colspan=\"8\" halign=\"left\">Ano</th>\n    </tr>\n    <tr>\n      <th></th>\n      <th>count</th>\n      <th>mean</th>\n      <th>std</th>\n      <th>min</th>\n      <th>25%</th>\n      <th>50%</th>\n      <th>75%</th>\n      <th>max</th>\n      <th>count</th>\n      <th>mean</th>\n      <th>...</th>\n      <th>75%</th>\n      <th>max</th>\n      <th>count</th>\n      <th>mean</th>\n      <th>std</th>\n      <th>min</th>\n      <th>25%</th>\n      <th>50%</th>\n      <th>75%</th>\n      <th>max</th>\n    </tr>\n    <tr>\n      <th>REGIÃO</th>\n      <th></th>\n      <th></th>\n      <th></th>\n      <th></th>\n      <th></th>\n      <th></th>\n      <th></th>\n      <th></th>\n      <th></th>\n      <th></th>\n      <th></th>\n      <th></th>\n      <th></th>\n      <th></th>\n      <th></th>\n      <th></th>\n      <th></th>\n      <th></th>\n      <th></th>\n      <th></th>\n      <th></th>\n    </tr>\n  </thead>\n  <tbody>\n    <tr>\n      <th>CENTRO OESTE</th>\n      <td>17449.0</td>\n      <td>130.911055</td>\n      <td>104.672315</td>\n      <td>1.0</td>\n      <td>65.0</td>\n      <td>115.0</td>\n      <td>169.0</td>\n      <td>766.0</td>\n      <td>17449.0</td>\n      <td>12.440722</td>\n      <td>...</td>\n      <td>0.054</td>\n      <td>0.262</td>\n      <td>17449.0</td>\n      <td>2018.997020</td>\n      <td>1.414616</td>\n      <td>2017.0</td>\n      <td>2018.0</td>\n      <td>2019.0</td>\n      <td>2020.0</td>\n      <td>2021.0</td>\n    </tr>\n    <tr>\n      <th>NORDESTE</th>\n      <td>41671.0</td>\n      <td>117.176934</td>\n      <td>110.344763</td>\n      <td>1.0</td>\n      <td>37.0</td>\n      <td>81.0</td>\n      <td>151.0</td>\n      <td>625.0</td>\n      <td>41671.0</td>\n      <td>10.663357</td>\n      <td>...</td>\n      <td>0.052</td>\n      <td>0.228</td>\n      <td>41671.0</td>\n      <td>2018.996664</td>\n      <td>1.413268</td>\n      <td>2017.0</td>\n      <td>2018.0</td>\n      <td>2019.0</td>\n      <td>2020.0</td>\n      <td>2021.0</td>\n    </tr>\n    <tr>\n      <th>NORTE</th>\n      <td>27989.0</td>\n      <td>62.700239</td>\n      <td>51.823659</td>\n      <td>1.0</td>\n      <td>27.0</td>\n      <td>49.0</td>\n      <td>88.0</td>\n      <td>383.0</td>\n      <td>27989.0</td>\n      <td>13.411680</td>\n      <td>...</td>\n      <td>0.061</td>\n      <td>0.395</td>\n      <td>27989.0</td>\n      <td>2019.002108</td>\n      <td>1.414730</td>\n      <td>2017.0</td>\n      <td>2018.0</td>\n      <td>2019.0</td>\n      <td>2020.0</td>\n      <td>2021.0</td>\n    </tr>\n    <tr>\n      <th>SUDESTE</th>\n      <td>19270.0</td>\n      <td>673.675402</td>\n      <td>761.979612</td>\n      <td>1.0</td>\n      <td>135.0</td>\n      <td>366.0</td>\n      <td>982.0</td>\n      <td>4167.0</td>\n      <td>19270.0</td>\n      <td>10.217240</td>\n      <td>...</td>\n      <td>0.069</td>\n      <td>0.201</td>\n      <td>19270.0</td>\n      <td>2019.004255</td>\n      <td>1.416517</td>\n      <td>2017.0</td>\n      <td>2018.0</td>\n      <td>2019.0</td>\n      <td>2020.0</td>\n      <td>2021.0</td>\n    </tr>\n    <tr>\n      <th>SUL</th>\n      <td>14444.0</td>\n      <td>332.741900</td>\n      <td>235.447722</td>\n      <td>1.0</td>\n      <td>121.0</td>\n      <td>342.0</td>\n      <td>530.0</td>\n      <td>1416.0</td>\n      <td>14444.0</td>\n      <td>10.562091</td>\n      <td>...</td>\n      <td>0.059</td>\n      <td>0.233</td>\n      <td>14444.0</td>\n      <td>2019.003254</td>\n      <td>1.412569</td>\n      <td>2017.0</td>\n      <td>2018.0</td>\n      <td>2019.0</td>\n      <td>2020.0</td>\n      <td>2021.0</td>\n    </tr>\n  </tbody>\n</table>\n<p>5 rows × 56 columns</p>\n</div>"
          },
          "metadata": {}
        }
      ],
      "execution_count": 210
    },
    {
      "id": "ae198a89-d94a-4374-8031-6acdaad3c45a",
      "cell_type": "code",
      "source": "grupos.min()",
      "metadata": {
        "trusted": true
      },
      "outputs": [
        {
          "execution_count": 213,
          "output_type": "execute_result",
          "data": {
            "text/plain": "             DATA INICIAL  DATA FINAL            ESTADO           PRODUTO  \\\nREGIÃO                                                                      \nCENTRO OESTE   2004-05-09  2004-05-15  DISTRITO FEDERAL  ETANOL HIDRATADO   \nNORDESTE       2004-05-09  2004-05-15           ALAGOAS  ETANOL HIDRATADO   \nNORTE          2004-05-09  2004-05-15              ACRE  ETANOL HIDRATADO   \nSUDESTE        2004-05-09  2004-05-15    ESPIRITO SANTO  ETANOL HIDRATADO   \nSUL            2004-05-09  2004-05-15            PARANA  ETANOL HIDRATADO   \n\n              NÚMERO DE POSTOS PESQUISADOS UNIDADE DE MEDIDA  \\\nREGIÃO                                                         \nCENTRO OESTE                             1           R$/13Kg   \nNORDESTE                                 1           R$/13Kg   \nNORTE                                    1           R$/13Kg   \nSUDESTE                                  1           R$/13Kg   \nSUL                                      1           R$/13Kg   \n\n              PREÇO MÉDIO REVENDA  DESVIO PADRÃO REVENDA  \\\nREGIÃO                                                     \nCENTRO OESTE                1.097                    0.0   \nNORDESTE                    0.975                    0.0   \nNORTE                       1.219                    0.0   \nSUDESTE                     0.766                    0.0   \nSUL                         0.922                    0.0   \n\n              PREÇO MÍNIMO REVENDA  PREÇO MÁXIMO REVENDA MARGEM MÉDIA REVENDA  \\\nREGIÃO                                                                          \nCENTRO OESTE                  0.87                 1.099                    -   \nNORDESTE                      0.79                 0.999                    -   \nNORTE                         1.05                 1.219                    -   \nSUDESTE                       0.59                 1.099                    -   \nSUL                           0.73                 1.199                    -   \n\n              COEF DE VARIAÇÃO REVENDA PREÇO MÉDIO DISTRIBUIÇÃO  \\\nREGIÃO                                                            \nCENTRO OESTE                       0.0                        -   \nNORDESTE                           0.0                        -   \nNORTE                              0.0                        -   \nSUDESTE                            0.0                        -   \nSUL                                0.0                        -   \n\n             DESVIO PADRÃO DISTRIBUIÇÃO PREÇO MÍNIMO DISTRIBUIÇÃO  \\\nREGIÃO                                                              \nCENTRO OESTE                          -                         -   \nNORDESTE                              -                         -   \nNORTE                                 -                         -   \nSUDESTE                               -                         -   \nSUL                                   -                         -   \n\n             PREÇO MÁXIMO DISTRIBUIÇÃO COEF DE VARIAÇÃO DISTRIBUIÇÃO   Ano  \nREGIÃO                                                                      \nCENTRO OESTE                         -                             -  2017  \nNORDESTE                             -                             -  2017  \nNORTE                                -                             -  2017  \nSUDESTE                              -                             -  2017  \nSUL                                  -                             -  2017  ",
            "text/html": "<div>\n<style scoped>\n    .dataframe tbody tr th:only-of-type {\n        vertical-align: middle;\n    }\n\n    .dataframe tbody tr th {\n        vertical-align: top;\n    }\n\n    .dataframe thead th {\n        text-align: right;\n    }\n</style>\n<table border=\"1\" class=\"dataframe\">\n  <thead>\n    <tr style=\"text-align: right;\">\n      <th></th>\n      <th>DATA INICIAL</th>\n      <th>DATA FINAL</th>\n      <th>ESTADO</th>\n      <th>PRODUTO</th>\n      <th>NÚMERO DE POSTOS PESQUISADOS</th>\n      <th>UNIDADE DE MEDIDA</th>\n      <th>PREÇO MÉDIO REVENDA</th>\n      <th>DESVIO PADRÃO REVENDA</th>\n      <th>PREÇO MÍNIMO REVENDA</th>\n      <th>PREÇO MÁXIMO REVENDA</th>\n      <th>MARGEM MÉDIA REVENDA</th>\n      <th>COEF DE VARIAÇÃO REVENDA</th>\n      <th>PREÇO MÉDIO DISTRIBUIÇÃO</th>\n      <th>DESVIO PADRÃO DISTRIBUIÇÃO</th>\n      <th>PREÇO MÍNIMO DISTRIBUIÇÃO</th>\n      <th>PREÇO MÁXIMO DISTRIBUIÇÃO</th>\n      <th>COEF DE VARIAÇÃO DISTRIBUIÇÃO</th>\n      <th>Ano</th>\n    </tr>\n    <tr>\n      <th>REGIÃO</th>\n      <th></th>\n      <th></th>\n      <th></th>\n      <th></th>\n      <th></th>\n      <th></th>\n      <th></th>\n      <th></th>\n      <th></th>\n      <th></th>\n      <th></th>\n      <th></th>\n      <th></th>\n      <th></th>\n      <th></th>\n      <th></th>\n      <th></th>\n      <th></th>\n    </tr>\n  </thead>\n  <tbody>\n    <tr>\n      <th>CENTRO OESTE</th>\n      <td>2004-05-09</td>\n      <td>2004-05-15</td>\n      <td>DISTRITO FEDERAL</td>\n      <td>ETANOL HIDRATADO</td>\n      <td>1</td>\n      <td>R$/13Kg</td>\n      <td>1.097</td>\n      <td>0.0</td>\n      <td>0.87</td>\n      <td>1.099</td>\n      <td>-</td>\n      <td>0.0</td>\n      <td>-</td>\n      <td>-</td>\n      <td>-</td>\n      <td>-</td>\n      <td>-</td>\n      <td>2017</td>\n    </tr>\n    <tr>\n      <th>NORDESTE</th>\n      <td>2004-05-09</td>\n      <td>2004-05-15</td>\n      <td>ALAGOAS</td>\n      <td>ETANOL HIDRATADO</td>\n      <td>1</td>\n      <td>R$/13Kg</td>\n      <td>0.975</td>\n      <td>0.0</td>\n      <td>0.79</td>\n      <td>0.999</td>\n      <td>-</td>\n      <td>0.0</td>\n      <td>-</td>\n      <td>-</td>\n      <td>-</td>\n      <td>-</td>\n      <td>-</td>\n      <td>2017</td>\n    </tr>\n    <tr>\n      <th>NORTE</th>\n      <td>2004-05-09</td>\n      <td>2004-05-15</td>\n      <td>ACRE</td>\n      <td>ETANOL HIDRATADO</td>\n      <td>1</td>\n      <td>R$/13Kg</td>\n      <td>1.219</td>\n      <td>0.0</td>\n      <td>1.05</td>\n      <td>1.219</td>\n      <td>-</td>\n      <td>0.0</td>\n      <td>-</td>\n      <td>-</td>\n      <td>-</td>\n      <td>-</td>\n      <td>-</td>\n      <td>2017</td>\n    </tr>\n    <tr>\n      <th>SUDESTE</th>\n      <td>2004-05-09</td>\n      <td>2004-05-15</td>\n      <td>ESPIRITO SANTO</td>\n      <td>ETANOL HIDRATADO</td>\n      <td>1</td>\n      <td>R$/13Kg</td>\n      <td>0.766</td>\n      <td>0.0</td>\n      <td>0.59</td>\n      <td>1.099</td>\n      <td>-</td>\n      <td>0.0</td>\n      <td>-</td>\n      <td>-</td>\n      <td>-</td>\n      <td>-</td>\n      <td>-</td>\n      <td>2017</td>\n    </tr>\n    <tr>\n      <th>SUL</th>\n      <td>2004-05-09</td>\n      <td>2004-05-15</td>\n      <td>PARANA</td>\n      <td>ETANOL HIDRATADO</td>\n      <td>1</td>\n      <td>R$/13Kg</td>\n      <td>0.922</td>\n      <td>0.0</td>\n      <td>0.73</td>\n      <td>1.199</td>\n      <td>-</td>\n      <td>0.0</td>\n      <td>-</td>\n      <td>-</td>\n      <td>-</td>\n      <td>-</td>\n      <td>-</td>\n      <td>2017</td>\n    </tr>\n  </tbody>\n</table>\n</div>"
          },
          "metadata": {}
        }
      ],
      "execution_count": 213
    },
    {
      "id": "63a5416a-9648-4da2-8ee5-acf7b65e60e9",
      "cell_type": "code",
      "source": "data.groupby('REGIÃO').min()",
      "metadata": {
        "trusted": true
      },
      "outputs": [
        {
          "execution_count": 214,
          "output_type": "execute_result",
          "data": {
            "text/plain": "             DATA INICIAL  DATA FINAL            ESTADO           PRODUTO  \\\nREGIÃO                                                                      \nCENTRO OESTE   2004-05-09  2004-05-15  DISTRITO FEDERAL  ETANOL HIDRATADO   \nNORDESTE       2004-05-09  2004-05-15           ALAGOAS  ETANOL HIDRATADO   \nNORTE          2004-05-09  2004-05-15              ACRE  ETANOL HIDRATADO   \nSUDESTE        2004-05-09  2004-05-15    ESPIRITO SANTO  ETANOL HIDRATADO   \nSUL            2004-05-09  2004-05-15            PARANA  ETANOL HIDRATADO   \n\n              NÚMERO DE POSTOS PESQUISADOS UNIDADE DE MEDIDA  \\\nREGIÃO                                                         \nCENTRO OESTE                             1           R$/13Kg   \nNORDESTE                                 1           R$/13Kg   \nNORTE                                    1           R$/13Kg   \nSUDESTE                                  1           R$/13Kg   \nSUL                                      1           R$/13Kg   \n\n              PREÇO MÉDIO REVENDA  DESVIO PADRÃO REVENDA  \\\nREGIÃO                                                     \nCENTRO OESTE                1.097                    0.0   \nNORDESTE                    0.975                    0.0   \nNORTE                       1.219                    0.0   \nSUDESTE                     0.766                    0.0   \nSUL                         0.922                    0.0   \n\n              PREÇO MÍNIMO REVENDA  PREÇO MÁXIMO REVENDA MARGEM MÉDIA REVENDA  \\\nREGIÃO                                                                          \nCENTRO OESTE                  0.87                 1.099                    -   \nNORDESTE                      0.79                 0.999                    -   \nNORTE                         1.05                 1.219                    -   \nSUDESTE                       0.59                 1.099                    -   \nSUL                           0.73                 1.199                    -   \n\n              COEF DE VARIAÇÃO REVENDA PREÇO MÉDIO DISTRIBUIÇÃO  \\\nREGIÃO                                                            \nCENTRO OESTE                       0.0                        -   \nNORDESTE                           0.0                        -   \nNORTE                              0.0                        -   \nSUDESTE                            0.0                        -   \nSUL                                0.0                        -   \n\n             DESVIO PADRÃO DISTRIBUIÇÃO PREÇO MÍNIMO DISTRIBUIÇÃO  \\\nREGIÃO                                                              \nCENTRO OESTE                          -                         -   \nNORDESTE                              -                         -   \nNORTE                                 -                         -   \nSUDESTE                               -                         -   \nSUL                                   -                         -   \n\n             PREÇO MÁXIMO DISTRIBUIÇÃO COEF DE VARIAÇÃO DISTRIBUIÇÃO   Ano  \nREGIÃO                                                                      \nCENTRO OESTE                         -                             -  2017  \nNORDESTE                             -                             -  2017  \nNORTE                                -                             -  2017  \nSUDESTE                              -                             -  2017  \nSUL                                  -                             -  2017  ",
            "text/html": "<div>\n<style scoped>\n    .dataframe tbody tr th:only-of-type {\n        vertical-align: middle;\n    }\n\n    .dataframe tbody tr th {\n        vertical-align: top;\n    }\n\n    .dataframe thead th {\n        text-align: right;\n    }\n</style>\n<table border=\"1\" class=\"dataframe\">\n  <thead>\n    <tr style=\"text-align: right;\">\n      <th></th>\n      <th>DATA INICIAL</th>\n      <th>DATA FINAL</th>\n      <th>ESTADO</th>\n      <th>PRODUTO</th>\n      <th>NÚMERO DE POSTOS PESQUISADOS</th>\n      <th>UNIDADE DE MEDIDA</th>\n      <th>PREÇO MÉDIO REVENDA</th>\n      <th>DESVIO PADRÃO REVENDA</th>\n      <th>PREÇO MÍNIMO REVENDA</th>\n      <th>PREÇO MÁXIMO REVENDA</th>\n      <th>MARGEM MÉDIA REVENDA</th>\n      <th>COEF DE VARIAÇÃO REVENDA</th>\n      <th>PREÇO MÉDIO DISTRIBUIÇÃO</th>\n      <th>DESVIO PADRÃO DISTRIBUIÇÃO</th>\n      <th>PREÇO MÍNIMO DISTRIBUIÇÃO</th>\n      <th>PREÇO MÁXIMO DISTRIBUIÇÃO</th>\n      <th>COEF DE VARIAÇÃO DISTRIBUIÇÃO</th>\n      <th>Ano</th>\n    </tr>\n    <tr>\n      <th>REGIÃO</th>\n      <th></th>\n      <th></th>\n      <th></th>\n      <th></th>\n      <th></th>\n      <th></th>\n      <th></th>\n      <th></th>\n      <th></th>\n      <th></th>\n      <th></th>\n      <th></th>\n      <th></th>\n      <th></th>\n      <th></th>\n      <th></th>\n      <th></th>\n      <th></th>\n    </tr>\n  </thead>\n  <tbody>\n    <tr>\n      <th>CENTRO OESTE</th>\n      <td>2004-05-09</td>\n      <td>2004-05-15</td>\n      <td>DISTRITO FEDERAL</td>\n      <td>ETANOL HIDRATADO</td>\n      <td>1</td>\n      <td>R$/13Kg</td>\n      <td>1.097</td>\n      <td>0.0</td>\n      <td>0.87</td>\n      <td>1.099</td>\n      <td>-</td>\n      <td>0.0</td>\n      <td>-</td>\n      <td>-</td>\n      <td>-</td>\n      <td>-</td>\n      <td>-</td>\n      <td>2017</td>\n    </tr>\n    <tr>\n      <th>NORDESTE</th>\n      <td>2004-05-09</td>\n      <td>2004-05-15</td>\n      <td>ALAGOAS</td>\n      <td>ETANOL HIDRATADO</td>\n      <td>1</td>\n      <td>R$/13Kg</td>\n      <td>0.975</td>\n      <td>0.0</td>\n      <td>0.79</td>\n      <td>0.999</td>\n      <td>-</td>\n      <td>0.0</td>\n      <td>-</td>\n      <td>-</td>\n      <td>-</td>\n      <td>-</td>\n      <td>-</td>\n      <td>2017</td>\n    </tr>\n    <tr>\n      <th>NORTE</th>\n      <td>2004-05-09</td>\n      <td>2004-05-15</td>\n      <td>ACRE</td>\n      <td>ETANOL HIDRATADO</td>\n      <td>1</td>\n      <td>R$/13Kg</td>\n      <td>1.219</td>\n      <td>0.0</td>\n      <td>1.05</td>\n      <td>1.219</td>\n      <td>-</td>\n      <td>0.0</td>\n      <td>-</td>\n      <td>-</td>\n      <td>-</td>\n      <td>-</td>\n      <td>-</td>\n      <td>2017</td>\n    </tr>\n    <tr>\n      <th>SUDESTE</th>\n      <td>2004-05-09</td>\n      <td>2004-05-15</td>\n      <td>ESPIRITO SANTO</td>\n      <td>ETANOL HIDRATADO</td>\n      <td>1</td>\n      <td>R$/13Kg</td>\n      <td>0.766</td>\n      <td>0.0</td>\n      <td>0.59</td>\n      <td>1.099</td>\n      <td>-</td>\n      <td>0.0</td>\n      <td>-</td>\n      <td>-</td>\n      <td>-</td>\n      <td>-</td>\n      <td>-</td>\n      <td>2017</td>\n    </tr>\n    <tr>\n      <th>SUL</th>\n      <td>2004-05-09</td>\n      <td>2004-05-15</td>\n      <td>PARANA</td>\n      <td>ETANOL HIDRATADO</td>\n      <td>1</td>\n      <td>R$/13Kg</td>\n      <td>0.922</td>\n      <td>0.0</td>\n      <td>0.73</td>\n      <td>1.199</td>\n      <td>-</td>\n      <td>0.0</td>\n      <td>-</td>\n      <td>-</td>\n      <td>-</td>\n      <td>-</td>\n      <td>-</td>\n      <td>2017</td>\n    </tr>\n  </tbody>\n</table>\n</div>"
          },
          "metadata": {}
        }
      ],
      "execution_count": 214
    },
    {
      "id": "charged-money",
      "cell_type": "markdown",
      "source": "<br/>\n\nTambém podemos ter agrupamentos por mais de um atributo.",
      "metadata": {}
    },
    {
      "id": "legitimate-webster",
      "cell_type": "code",
      "source": "data.head()",
      "metadata": {
        "trusted": true
      },
      "outputs": [
        {
          "execution_count": 215,
          "output_type": "execute_result",
          "data": {
            "text/plain": "  DATA INICIAL  DATA FINAL        REGIÃO              ESTADO  \\\n0   2004-05-09  2004-05-15  CENTRO OESTE    DISTRITO FEDERAL   \n1   2004-05-09  2004-05-15  CENTRO OESTE               GOIAS   \n2   2004-05-09  2004-05-15  CENTRO OESTE         MATO GROSSO   \n3   2004-05-09  2004-05-15  CENTRO OESTE  MATO GROSSO DO SUL   \n4   2004-05-09  2004-05-15      NORDESTE             ALAGOAS   \n\n            PRODUTO  NÚMERO DE POSTOS PESQUISADOS UNIDADE DE MEDIDA  \\\n0  ETANOL HIDRATADO                           127              R$/l   \n1  ETANOL HIDRATADO                           387              R$/l   \n2  ETANOL HIDRATADO                           192              R$/l   \n3  ETANOL HIDRATADO                           162              R$/l   \n4  ETANOL HIDRATADO                           103              R$/l   \n\n   PREÇO MÉDIO REVENDA  DESVIO PADRÃO REVENDA  PREÇO MÍNIMO REVENDA  \\\n0                1.288                  0.016                  1.19   \n1                1.162                  0.114                  0.89   \n2                1.389                  0.097                  1.18   \n3                1.262                  0.070                  1.09   \n4                1.181                  0.078                  1.05   \n\n   PREÇO MÁXIMO REVENDA MARGEM MÉDIA REVENDA  COEF DE VARIAÇÃO REVENDA  \\\n0                 1.350                0.463                     0.012   \n1                 1.449                0.399                     0.098   \n2                 1.760                0.419                     0.070   \n3                 1.509                0.432                     0.055   \n4                 1.400                 0.24                     0.066   \n\n  PREÇO MÉDIO DISTRIBUIÇÃO DESVIO PADRÃO DISTRIBUIÇÃO  \\\n0                    0.825                       0.11   \n1                    0.763                      0.088   \n2                     0.97                      0.095   \n3                     0.83                      0.119   \n4                    0.941                      0.077   \n\n  PREÇO MÍNIMO DISTRIBUIÇÃO PREÇO MÁXIMO DISTRIBUIÇÃO  \\\n0                    0.4201                    0.9666   \n1                    0.5013                      1.05   \n2                    0.5614                     1.161   \n3                    0.5991                   1.22242   \n4                    0.7441                    1.0317   \n\n  COEF DE VARIAÇÃO DISTRIBUIÇÃO   Ano  \n0                         0.133  2017  \n1                         0.115  2018  \n2                         0.098  2019  \n3                         0.143  2020  \n4                         0.082  2021  ",
            "text/html": "<div>\n<style scoped>\n    .dataframe tbody tr th:only-of-type {\n        vertical-align: middle;\n    }\n\n    .dataframe tbody tr th {\n        vertical-align: top;\n    }\n\n    .dataframe thead th {\n        text-align: right;\n    }\n</style>\n<table border=\"1\" class=\"dataframe\">\n  <thead>\n    <tr style=\"text-align: right;\">\n      <th></th>\n      <th>DATA INICIAL</th>\n      <th>DATA FINAL</th>\n      <th>REGIÃO</th>\n      <th>ESTADO</th>\n      <th>PRODUTO</th>\n      <th>NÚMERO DE POSTOS PESQUISADOS</th>\n      <th>UNIDADE DE MEDIDA</th>\n      <th>PREÇO MÉDIO REVENDA</th>\n      <th>DESVIO PADRÃO REVENDA</th>\n      <th>PREÇO MÍNIMO REVENDA</th>\n      <th>PREÇO MÁXIMO REVENDA</th>\n      <th>MARGEM MÉDIA REVENDA</th>\n      <th>COEF DE VARIAÇÃO REVENDA</th>\n      <th>PREÇO MÉDIO DISTRIBUIÇÃO</th>\n      <th>DESVIO PADRÃO DISTRIBUIÇÃO</th>\n      <th>PREÇO MÍNIMO DISTRIBUIÇÃO</th>\n      <th>PREÇO MÁXIMO DISTRIBUIÇÃO</th>\n      <th>COEF DE VARIAÇÃO DISTRIBUIÇÃO</th>\n      <th>Ano</th>\n    </tr>\n  </thead>\n  <tbody>\n    <tr>\n      <th>0</th>\n      <td>2004-05-09</td>\n      <td>2004-05-15</td>\n      <td>CENTRO OESTE</td>\n      <td>DISTRITO FEDERAL</td>\n      <td>ETANOL HIDRATADO</td>\n      <td>127</td>\n      <td>R$/l</td>\n      <td>1.288</td>\n      <td>0.016</td>\n      <td>1.19</td>\n      <td>1.350</td>\n      <td>0.463</td>\n      <td>0.012</td>\n      <td>0.825</td>\n      <td>0.11</td>\n      <td>0.4201</td>\n      <td>0.9666</td>\n      <td>0.133</td>\n      <td>2017</td>\n    </tr>\n    <tr>\n      <th>1</th>\n      <td>2004-05-09</td>\n      <td>2004-05-15</td>\n      <td>CENTRO OESTE</td>\n      <td>GOIAS</td>\n      <td>ETANOL HIDRATADO</td>\n      <td>387</td>\n      <td>R$/l</td>\n      <td>1.162</td>\n      <td>0.114</td>\n      <td>0.89</td>\n      <td>1.449</td>\n      <td>0.399</td>\n      <td>0.098</td>\n      <td>0.763</td>\n      <td>0.088</td>\n      <td>0.5013</td>\n      <td>1.05</td>\n      <td>0.115</td>\n      <td>2018</td>\n    </tr>\n    <tr>\n      <th>2</th>\n      <td>2004-05-09</td>\n      <td>2004-05-15</td>\n      <td>CENTRO OESTE</td>\n      <td>MATO GROSSO</td>\n      <td>ETANOL HIDRATADO</td>\n      <td>192</td>\n      <td>R$/l</td>\n      <td>1.389</td>\n      <td>0.097</td>\n      <td>1.18</td>\n      <td>1.760</td>\n      <td>0.419</td>\n      <td>0.070</td>\n      <td>0.97</td>\n      <td>0.095</td>\n      <td>0.5614</td>\n      <td>1.161</td>\n      <td>0.098</td>\n      <td>2019</td>\n    </tr>\n    <tr>\n      <th>3</th>\n      <td>2004-05-09</td>\n      <td>2004-05-15</td>\n      <td>CENTRO OESTE</td>\n      <td>MATO GROSSO DO SUL</td>\n      <td>ETANOL HIDRATADO</td>\n      <td>162</td>\n      <td>R$/l</td>\n      <td>1.262</td>\n      <td>0.070</td>\n      <td>1.09</td>\n      <td>1.509</td>\n      <td>0.432</td>\n      <td>0.055</td>\n      <td>0.83</td>\n      <td>0.119</td>\n      <td>0.5991</td>\n      <td>1.22242</td>\n      <td>0.143</td>\n      <td>2020</td>\n    </tr>\n    <tr>\n      <th>4</th>\n      <td>2004-05-09</td>\n      <td>2004-05-15</td>\n      <td>NORDESTE</td>\n      <td>ALAGOAS</td>\n      <td>ETANOL HIDRATADO</td>\n      <td>103</td>\n      <td>R$/l</td>\n      <td>1.181</td>\n      <td>0.078</td>\n      <td>1.05</td>\n      <td>1.400</td>\n      <td>0.24</td>\n      <td>0.066</td>\n      <td>0.941</td>\n      <td>0.077</td>\n      <td>0.7441</td>\n      <td>1.0317</td>\n      <td>0.082</td>\n      <td>2021</td>\n    </tr>\n  </tbody>\n</table>\n</div>"
          },
          "metadata": {}
        }
      ],
      "execution_count": 215
    },
    {
      "id": "nuclear-quarter",
      "cell_type": "code",
      "source": "# Agrupa os registros do dataframe primeiramente por suas regiões.\n# Então, agrupa os registros de cada região (grupo) de acordo com seus produtos.\ngrupos = data.groupby(['REGIÃO', 'PRODUTO'])\ngrupos",
      "metadata": {
        "trusted": true
      },
      "outputs": [
        {
          "execution_count": 217,
          "output_type": "execute_result",
          "data": {
            "text/plain": "<pandas.core.groupby.generic.DataFrameGroupBy object at 0x114bbe60>"
          },
          "metadata": {}
        }
      ],
      "execution_count": 217
    },
    {
      "id": "future-tonight",
      "cell_type": "code",
      "source": "grupos.groups",
      "metadata": {
        "trusted": true
      },
      "outputs": [
        {
          "execution_count": 218,
          "output_type": "execute_result",
          "data": {
            "text/plain": "{('CENTRO OESTE', 'ETANOL HIDRATADO'): [0, 1, 2, 3, 27, 28, 29, 30, 54, 55, 56, 57, 81, 82, 83, 84, 108, 109, 110, 111, 135, 136, 137, 138, 162, 163, 164, 165, 189, 190, 191, 192, 216, 217, 218, 219, 243, 244, 245, 246, 270, 271, 272, 273, 297, 298, 299, 300, 324, 325, 326, 327, 351, 352, 353, 354, 378, 379, 380, 381, 405, 406, 407, 408, 432, 433, 434, 435, 459, 460, 461, 462, 486, 487, 488, 489, 513, 514, 515, 516, 540, 541, 542, 543, 567, 568, 569, 570, 594, 595, 596, 597, 621, 622, 623, 624, 648, 649, 650, 651, ...], ('CENTRO OESTE', 'GASOLINA ADITIVADA'): [115915, 115917, 115919, 115920, 116090, 116092, 116094, 116095, 116263, 116265, 116267, 116268, 116438, 116440, 116442, 116443, 116615, 116617, 116619, 116620, 116791, 116793, 116795, 116796, 116965, 116967, 116969, 116970, 117139, 117141, 117143, 117144, 117313, 117315, 117317, 117318, 117485, 117487, 117489, 117490, 117662, 117664, 117666, 117667, 117836, 117838, 117840, 117841, 118011, 118013, 118015, 118016, 118187, 118189, 118191, 118192, 118363, 118365, 118367, 118368, 118539, 118541, 118543, 118544, 118716, 118718, 118720, 118721, 118893, 118895, 118897, 118898, 119071, 119073, 119075, 119076, 119248, 119250, 119252, 119253, 119428, 119430, 119432, 119433, 119608, 119610, 119612, 119613, 119786, 119788, 119790, 119791, 119964, 119966, 119968, 119969, 120142, 120144, 120146, 120147, ...], ('CENTRO OESTE', 'GASOLINA COMUM'): [12064, 12065, 12066, 12067, 12091, 12092, 12093, 12094, 12118, 12119, 12120, 12121, 12145, 12146, 12147, 12148, 12172, 12173, 12174, 12175, 12199, 12200, 12201, 12202, 12226, 12227, 12228, 12229, 12253, 12254, 12255, 12256, 12280, 12281, 12282, 12283, 12307, 12308, 12309, 12310, 12334, 12335, 12336, 12337, 12361, 12362, 12363, 12364, 12388, 12389, 12390, 12391, 12415, 12416, 12417, 12418, 12442, 12443, 12444, 12445, 12469, 12470, 12471, 12472, 12496, 12497, 12498, 12499, 12523, 12524, 12525, 12526, 12550, 12551, 12552, 12553, 12577, 12578, 12579, 12580, 12604, 12605, 12606, 12607, 12631, 12632, 12633, 12634, 12658, 12659, 12660, 12661, 12685, 12686, 12687, 12688, 12712, 12713, 12714, 12715, ...], ('CENTRO OESTE', 'GLP'): [24132, 24133, 24134, 24135, 24159, 24160, 24161, 24162, 24186, 24187, 24188, 24189, 24213, 24214, 24215, 24216, 24240, 24241, 24242, 24243, 24267, 24268, 24269, 24270, 24294, 24295, 24296, 24297, 24321, 24322, 24323, 24324, 24348, 24349, 24350, 24351, 24375, 24376, 24377, 24378, 24402, 24403, 24404, 24405, 24429, 24430, 24431, 24432, 24456, 24457, 24458, 24459, 24483, 24484, 24485, 24486, 24510, 24511, 24512, 24513, 24537, 24538, 24539, 24540, 24564, 24565, 24566, 24567, 24591, 24592, 24593, 24594, 24618, 24619, 24620, 24621, 24645, 24646, 24647, 24648, 24672, 24673, 24674, 24675, 24699, 24700, 24701, 24702, 24726, 24727, 24728, 24729, 24753, 24754, 24755, 24756, 24780, 24781, 24782, 24783, ...], ('CENTRO OESTE', 'GNV'): [36196, 36211, 36226, 36241, 36256, 36271, 36286, 36301, 36316, 36331, 36346, 36361, 36377, 36393, 36409, 36425, 36441, 36457, 36473, 36489, 36505, 36521, 36537, 36553, 36569, 36585, 36601, 36617, 36633, 36649, 36665, 36681, 36697, 36713, 36729, 36745, 36761, 36777, 36793, 36809, 36825, 36841, 36857, 36873, 36889, 36905, 36921, 36937, 36953, 36969, 36985, 37001, 37017, 37033, 37049, 37065, 37081, 37097, 37113, 37129, 37145, 37161, 37177, 37193, 37209, 37225, 37242, 37257, 37258, 37274, 37290, 37307, 37322, 37338, 37353, 37368, 37383, 37399, 37415, 37430, 37446, 37462, 37478, 37494, 37510, 37526, 37542, 37558, 37574, 37590, 37606, 37621, 37637, 37653, 37669, 37686, 37702, 37718, 37734, 37750, ...], ('CENTRO OESTE', 'OLEO DIESEL'): [106925, 106927, 106929, 106930, 107075, 107077, 107079, 107080, 107226, 107228, 107230, 107231, 107376, 107378, 107380, 107381, 107526, 107528, 107530, 107531, 107675, 107677, 107679, 107680, 107824, 107826, 107828, 107829, 107973, 107975, 107977, 107978, 108123, 108125, 108127, 108128, 108272, 108274, 108276, 108277, 108422, 108424, 108426, 108427, 108572, 108574, 108576, 108577, 108723, 108725, 108727, 108728, 108874, 108876, 108878, 108879, 109025, 109027, 109029, 109030, 109175, 109177, 109179, 109180, 109326, 109328, 109330, 109331, 109477, 109479, 109481, 109482, 109626, 109628, 109630, 109631, 109776, 109778, 109780, 109781, 109925, 109927, 109929, 109930, 110076, 110078, 110080, 110081, 110226, 110228, 110230, 110231, 110378, 110380, 110382, 110383, 110532, 110534, 110536, 110537, ...], ('CENTRO OESTE', 'OLEO DIESEL S10'): [106952, 106954, 106956, 106957, 107102, 107104, 107106, 107107, 107253, 107255, 107257, 107258, 107403, 107405, 107407, 107408, 107553, 107555, 107557, 107558, 107702, 107704, 107706, 107707, 107851, 107853, 107855, 107856, 108000, 108002, 108004, 108005, 108150, 108152, 108154, 108155, 108299, 108301, 108303, 108304, 108449, 108451, 108453, 108454, 108599, 108601, 108603, 108604, 108750, 108752, 108754, 108755, 108901, 108903, 108905, 108906, 109052, 109054, 109056, 109057, 109202, 109204, 109206, 109207, 109353, 109355, 109357, 109358, 109504, 109506, 109508, 109509, 109653, 109655, 109657, 109658, 109803, 109805, 109807, 109808, 109952, 109954, 109956, 109957, 110103, 110105, 110107, 110108, 110253, 110255, 110257, 110258, 110405, 110407, 110409, 110410, 110559, 110561, 110563, 110564, ...], ('CENTRO OESTE', 'ÓLEO DIESEL'): [43547, 43548, 43549, 43550, 43574, 43575, 43576, 43577, 43601, 43602, 43603, 43604, 43628, 43629, 43630, 43631, 43655, 43656, 43657, 43658, 43682, 43683, 43684, 43685, 43709, 43710, 43711, 43712, 43736, 43737, 43738, 43739, 43763, 43764, 43765, 43766, 43790, 43791, 43792, 43793, 43817, 43818, 43819, 43820, 43844, 43845, 43846, 43847, 43871, 43872, 43873, 43874, 43898, 43899, 43900, 43901, 43925, 43926, 43927, 43928, 43952, 43953, 43954, 43955, 43979, 43980, 43981, 43982, 44006, 44007, 44008, 44009, 44033, 44034, 44035, 44036, 44060, 44061, 44062, 44063, 44087, 44088, 44089, 44090, 44114, 44115, 44116, 44117, 44141, 44142, 44143, 44144, 44168, 44169, 44170, 44171, 44195, 44196, 44197, 44198, ...], ('CENTRO OESTE', 'ÓLEO DIESEL S10'): [55672, 55674, 55819, 55821, 55822, 55967, 55969, 55971, 55972, 56119, 56121, 56123, 56124, 56272, 56274, 56276, 56277, 56425, 56427, 56429, 56430, 56577, 56579, 56581, 56582, 56729, 56731, 56733, 56734, 56882, 56884, 56886, 56887, 57035, 57037, 57039, 57040, 57187, 57189, 57191, 57192, 57339, 57341, 57343, 57344, 57490, 57492, 57494, 57495, 57642, 57644, 57646, 57647, 57795, 57797, 57799, 57800, 57947, 57949, 57951, 57952, 58099, 58101, 58103, 58104, 58251, 58253, 58255, 58256, 58402, 58404, 58406, 58407, 58554, 58556, 58558, 58559, 58706, 58708, 58710, 58711, 58858, 58860, 58862, 58863, 59011, 59013, 59015, 59016, 59163, 59165, 59167, 59168, 59315, 59317, 59319, 59320, 59468, 59470, 59472, ...], ('NORDESTE', 'ETANOL HIDRATADO'): [4, 5, 6, 7, 8, 9, 10, 11, 12, 31, 32, 33, 34, 35, 36, 37, 38, 39, 58, 59, 60, 61, 62, 63, 64, 65, 66, 85, 86, 87, 88, 89, 90, 91, 92, 93, 112, 113, 114, 115, 116, 117, 118, 119, 120, 139, 140, 141, 142, 143, 144, 145, 146, 147, 166, 167, 168, 169, 170, 171, 172, 173, 174, 193, 194, 195, 196, 197, 198, 199, 200, 201, 220, 221, 222, 223, 224, 225, 226, 227, 228, 247, 248, 249, 250, 251, 252, 253, 254, 255, 274, 275, 276, 277, 278, 279, 280, 281, 282, 301, ...], ('NORDESTE', 'GASOLINA ADITIVADA'): [115911, 115914, 115918, 115923, 115925, 115926, 115928, 115934, 116086, 116089, 116093, 116098, 116100, 116101, 116103, 116109, 116260, 116262, 116266, 116271, 116273, 116274, 116276, 116282, 116433, 116436, 116437, 116441, 116446, 116448, 116449, 116451, 116457, 116611, 116614, 116618, 116623, 116625, 116626, 116628, 116634, 116786, 116789, 116790, 116794, 116799, 116801, 116802, 116804, 116810, 116960, 116963, 116964, 116968, 116973, 116975, 116976, 116978, 116984, 117134, 117137, 117138, 117142, 117147, 117149, 117150, 117152, 117158, 117308, 117311, 117312, 117316, 117321, 117323, 117324, 117326, 117332, 117480, 117483, 117484, 117488, 117493, 117495, 117496, 117498, 117504, 117657, 117660, 117661, 117665, 117670, 117672, 117673, 117675, 117681, 117831, 117834, 117835, 117839, 117844, ...], ('NORDESTE', 'GASOLINA COMUM'): [12068, 12069, 12070, 12071, 12072, 12073, 12074, 12075, 12076, 12095, 12096, 12097, 12098, 12099, 12100, 12101, 12102, 12103, 12122, 12123, 12124, 12125, 12126, 12127, 12128, 12129, 12130, 12149, 12150, 12151, 12152, 12153, 12154, 12155, 12156, 12157, 12176, 12177, 12178, 12179, 12180, 12181, 12182, 12183, 12184, 12203, 12204, 12205, 12206, 12207, 12208, 12209, 12210, 12211, 12230, 12231, 12232, 12233, 12234, 12235, 12236, 12237, 12238, 12257, 12258, 12259, 12260, 12261, 12262, 12263, 12264, 12265, 12284, 12285, 12286, 12287, 12288, 12289, 12290, 12291, 12292, 12311, 12312, 12313, 12314, 12315, 12316, 12317, 12318, 12319, 12338, 12339, 12340, 12341, 12342, 12343, 12344, 12345, 12346, 12365, ...], ('NORDESTE', 'GLP'): [24136, 24137, 24138, 24139, 24140, 24141, 24142, 24143, 24144, 24163, 24164, 24165, 24166, 24167, 24168, 24169, 24170, 24171, 24190, 24191, 24192, 24193, 24194, 24195, 24196, 24197, 24198, 24217, 24218, 24219, 24220, 24221, 24222, 24223, 24224, 24225, 24244, 24245, 24246, 24247, 24248, 24249, 24250, 24251, 24252, 24271, 24272, 24273, 24274, 24275, 24276, 24277, 24278, 24279, 24298, 24299, 24300, 24301, 24302, 24303, 24304, 24305, 24306, 24325, 24326, 24327, 24328, 24329, 24330, 24331, 24332, 24333, 24352, 24353, 24354, 24355, 24356, 24357, 24358, 24359, 24360, 24379, 24380, 24381, 24382, 24383, 24384, 24385, 24386, 24387, 24406, 24407, 24408, 24409, 24410, 24411, 24412, 24413, 24414, 24433, ...], ('NORDESTE', 'GNV'): [36197, 36198, 36199, 36200, 36201, 36202, 36203, 36212, 36213, 36214, 36215, 36216, 36217, 36218, 36227, 36228, 36229, 36230, 36231, 36232, 36233, 36242, 36243, 36244, 36245, 36246, 36247, 36248, 36257, 36258, 36259, 36260, 36261, 36262, 36263, 36272, 36273, 36274, 36275, 36276, 36277, 36278, 36287, 36288, 36289, 36290, 36291, 36292, 36293, 36302, 36303, 36304, 36305, 36306, 36307, 36308, 36317, 36318, 36319, 36320, 36321, 36322, 36323, 36332, 36333, 36334, 36335, 36336, 36337, 36338, 36347, 36348, 36349, 36350, 36351, 36352, 36353, 36362, 36363, 36364, 36365, 36366, 36367, 36368, 36369, 36378, 36379, 36380, 36381, 36382, 36383, 36384, 36385, 36394, 36395, 36396, 36397, 36398, 36399, 36400, ...], ('NORDESTE', 'OLEO DIESEL'): [106920, 106923, 106924, 106928, 106933, 106935, 106936, 106938, 106944, 107070, 107073, 107074, 107078, 107083, 107085, 107086, 107088, 107094, 107221, 107224, 107225, 107229, 107234, 107236, 107237, 107239, 107245, 107371, 107374, 107375, 107379, 107384, 107386, 107387, 107389, 107395, 107521, 107524, 107525, 107529, 107534, 107536, 107537, 107539, 107545, 107670, 107673, 107674, 107678, 107683, 107685, 107686, 107688, 107694, 107819, 107822, 107823, 107827, 107832, 107834, 107835, 107837, 107843, 107968, 107971, 107972, 107976, 107981, 107983, 107984, 107986, 107992, 108118, 108121, 108122, 108126, 108131, 108133, 108134, 108136, 108142, 108267, 108270, 108271, 108275, 108280, 108282, 108283, 108285, 108291, 108417, 108420, 108421, 108425, 108430, 108432, 108433, 108435, 108441, 108567, ...], ('NORDESTE', 'OLEO DIESEL S10'): [106947, 106950, 106951, 106955, 106960, 106962, 106963, 106965, 106971, 107097, 107100, 107101, 107105, 107110, 107112, 107113, 107115, 107121, 107248, 107251, 107252, 107256, 107261, 107263, 107264, 107266, 107272, 107398, 107401, 107402, 107406, 107411, 107413, 107414, 107416, 107422, 107548, 107551, 107552, 107556, 107561, 107563, 107564, 107566, 107572, 107697, 107700, 107701, 107705, 107710, 107712, 107713, 107715, 107721, 107846, 107849, 107850, 107854, 107859, 107861, 107862, 107864, 107870, 107995, 107998, 107999, 108003, 108008, 108010, 108011, 108013, 108019, 108145, 108148, 108149, 108153, 108158, 108160, 108161, 108163, 108169, 108294, 108297, 108298, 108302, 108307, 108309, 108310, 108312, 108318, 108444, 108447, 108448, 108452, 108457, 108459, 108460, 108462, 108468, 108594, ...], ('NORDESTE', 'ÓLEO DIESEL'): [43551, 43552, 43553, 43554, 43555, 43556, 43557, 43558, 43559, 43578, 43579, 43580, 43581, 43582, 43583, 43584, 43585, 43586, 43605, 43606, 43607, 43608, 43609, 43610, 43611, 43612, 43613, 43632, 43633, 43634, 43635, 43636, 43637, 43638, 43639, 43640, 43659, 43660, 43661, 43662, 43663, 43664, 43665, 43666, 43667, 43686, 43687, 43688, 43689, 43690, 43691, 43692, 43693, 43694, 43713, 43714, 43715, 43716, 43717, 43718, 43719, 43720, 43721, 43740, 43741, 43742, 43743, 43744, 43745, 43746, 43747, 43748, 43767, 43768, 43769, 43770, 43771, 43772, 43773, 43774, 43775, 43794, 43795, 43796, 43797, 43798, 43799, 43800, 43801, 43802, 43821, 43822, 43823, 43824, 43825, 43826, 43827, 43828, 43829, 43848, ...], ('NORDESTE', 'ÓLEO DIESEL S10'): [55669, 55670, 55673, 55677, 55679, 55685, 55814, 55816, 55817, 55820, 55825, 55827, 55828, 55830, 55835, 55962, 55965, 55966, 55970, 55975, 55977, 55978, 55980, 55986, 56114, 56117, 56118, 56122, 56127, 56129, 56130, 56132, 56138, 56267, 56270, 56271, 56275, 56280, 56282, 56283, 56285, 56291, 56420, 56423, 56424, 56428, 56433, 56435, 56436, 56438, 56444, 56572, 56575, 56576, 56580, 56585, 56587, 56588, 56590, 56596, 56724, 56727, 56728, 56732, 56737, 56739, 56740, 56742, 56748, 56877, 56880, 56881, 56885, 56890, 56892, 56893, 56895, 56901, 57030, 57033, 57034, 57038, 57043, 57045, 57046, 57048, 57054, 57182, 57185, 57186, 57190, 57195, 57197, 57198, 57200, 57206, 57334, 57337, 57338, 57342, ...], ('NORTE', 'ETANOL HIDRATADO'): [13, 14, 15, 16, 17, 18, 19, 40, 41, 42, 43, 44, 45, 46, 67, 68, 69, 70, 71, 72, 73, 94, 95, 96, 97, 98, 99, 100, 121, 122, 123, 124, 125, 126, 127, 148, 149, 150, 151, 152, 153, 154, 175, 176, 177, 178, 179, 180, 181, 202, 203, 204, 205, 206, 207, 208, 229, 230, 231, 232, 233, 234, 235, 256, 257, 258, 259, 260, 261, 262, 283, 284, 285, 286, 287, 288, 289, 310, 311, 312, 313, 314, 315, 316, 337, 338, 339, 340, 341, 342, 343, 364, 365, 366, 367, 368, 369, 370, 391, 392, ...], ('NORTE', 'GASOLINA ADITIVADA'): [115910, 115912, 115913, 115922, 115930, 115931, 115935, 116085, 116087, 116088, 116097, 116105, 116106, 116110, 116259, 116261, 116270, 116278, 116279, 116283, 116432, 116434, 116435, 116445, 116453, 116454, 116458, 116610, 116612, 116613, 116622, 116630, 116631, 116635, 116785, 116787, 116788, 116798, 116806, 116807, 116811, 116959, 116961, 116962, 116972, 116980, 116981, 116985, 117133, 117135, 117136, 117146, 117154, 117155, 117159, 117307, 117309, 117310, 117320, 117328, 117329, 117333, 117479, 117481, 117482, 117492, 117500, 117501, 117505, 117656, 117658, 117659, 117669, 117677, 117678, 117682, 117830, 117832, 117833, 117843, 117851, 117852, 117856, 118005, 118007, 118008, 118018, 118026, 118027, 118031, 118181, 118183, 118184, 118194, 118202, 118203, 118207, 118357, 118359, 118360, ...], ('NORTE', 'GASOLINA COMUM'): [12077, 12078, 12079, 12080, 12081, 12082, 12083, 12104, 12105, 12106, 12107, 12108, 12109, 12110, 12131, 12132, 12133, 12134, 12135, 12136, 12137, 12158, 12159, 12160, 12161, 12162, 12163, 12164, 12185, 12186, 12187, 12188, 12189, 12190, 12191, 12212, 12213, 12214, 12215, 12216, 12217, 12218, 12239, 12240, 12241, 12242, 12243, 12244, 12245, 12266, 12267, 12268, 12269, 12270, 12271, 12272, 12293, 12294, 12295, 12296, 12297, 12298, 12299, 12320, 12321, 12322, 12323, 12324, 12325, 12326, 12347, 12348, 12349, 12350, 12351, 12352, 12353, 12374, 12375, 12376, 12377, 12378, 12379, 12380, 12401, 12402, 12403, 12404, 12405, 12406, 12407, 12428, 12429, 12430, 12431, 12432, 12433, 12434, 12455, 12456, ...], ('NORTE', 'GLP'): [24145, 24146, 24147, 24148, 24149, 24150, 24151, 24172, 24173, 24174, 24175, 24176, 24177, 24178, 24199, 24200, 24201, 24202, 24203, 24204, 24205, 24226, 24227, 24228, 24229, 24230, 24231, 24232, 24253, 24254, 24255, 24256, 24257, 24258, 24259, 24280, 24281, 24282, 24283, 24284, 24285, 24286, 24307, 24308, 24309, 24310, 24311, 24312, 24313, 24334, 24335, 24336, 24337, 24338, 24339, 24340, 24361, 24362, 24363, 24364, 24365, 24366, 24367, 24388, 24389, 24390, 24391, 24392, 24393, 24394, 24415, 24416, 24417, 24418, 24419, 24420, 24421, 24442, 24443, 24444, 24445, 24446, 24447, 24448, 24469, 24470, 24471, 24472, 24473, 24474, 24475, 24496, 24497, 24498, 24499, 24500, 24501, 24502, 24523, 24524, ...], ('NORTE', 'GNV'): [37234, 37266, 37299, 37391, 37407, 37438, 37454, 37470, 37486, 37502, 37518, 37534, 37550, 37566, 37582, 37598, 37629, 37645, 37661, 37678, 37694, 37710, 37726, 37742, 37758, 37774, 37790, 37806, 37822, 37838, 37854, 37870, 37887, 37904, 37921, 37938, 37955, 37972, 37989, 38006, 38023, 38040, 38057, 38074, 38091, 38123, 38140, 38156, 38173, 38190, 38207, 38224, 38241, 38258, 38275, 38292, 38309, 38326, 38342, 38359, 38376, 38392, 38409, 38426, 38443, 38460, 38477, 38510, 38559, 38592, 38609, 38626, 38643, 38660, 38693, 38710, 38727, 38760, 38793, 38826, 38859, 38892, 38972, 39021, 39069, 39134, 39183, 39200, 39234, 39251, 39284, 39301, 39334, 39351, 39384, 39401, 39435, 39452, 39486, 39502, ...], ('NORTE', 'OLEO DIESEL'): [106919, 106921, 106922, 106932, 106940, 106941, 106945, 107069, 107071, 107072, 107082, 107090, 107091, 107095, 107220, 107222, 107223, 107233, 107241, 107242, 107246, 107370, 107372, 107373, 107383, 107391, 107392, 107396, 107520, 107522, 107523, 107533, 107541, 107542, 107546, 107669, 107671, 107672, 107682, 107690, 107691, 107695, 107818, 107820, 107821, 107831, 107839, 107840, 107844, 107967, 107969, 107970, 107980, 107988, 107989, 107993, 108117, 108119, 108120, 108130, 108138, 108139, 108143, 108266, 108268, 108269, 108279, 108287, 108288, 108292, 108416, 108418, 108419, 108429, 108437, 108438, 108442, 108566, 108568, 108569, 108579, 108587, 108588, 108592, 108717, 108719, 108720, 108730, 108738, 108739, 108743, 108868, 108870, 108871, 108881, 108889, 108890, 108894, 109019, 109021, ...], ('NORTE', 'OLEO DIESEL S10'): [106946, 106948, 106949, 106959, 106967, 106968, 106972, 107096, 107098, 107099, 107109, 107117, 107118, 107122, 107247, 107249, 107250, 107260, 107268, 107269, 107273, 107397, 107399, 107400, 107410, 107418, 107419, 107423, 107547, 107549, 107550, 107560, 107568, 107569, 107573, 107696, 107698, 107699, 107709, 107717, 107718, 107722, 107845, 107847, 107848, 107858, 107866, 107867, 107871, 107994, 107996, 107997, 108007, 108015, 108016, 108020, 108144, 108146, 108147, 108157, 108165, 108166, 108170, 108293, 108295, 108296, 108306, 108314, 108315, 108319, 108443, 108445, 108446, 108456, 108464, 108465, 108469, 108593, 108595, 108596, 108606, 108614, 108615, 108619, 108744, 108746, 108747, 108757, 108765, 108766, 108770, 108895, 108897, 108898, 108908, 108916, 108917, 108921, 109046, 109048, ...], ('NORTE', 'ÓLEO DIESEL'): [43560, 43561, 43562, 43563, 43564, 43565, 43566, 43587, 43588, 43589, 43590, 43591, 43592, 43593, 43614, 43615, 43616, 43617, 43618, 43619, 43620, 43641, 43642, 43643, 43644, 43645, 43646, 43647, 43668, 43669, 43670, 43671, 43672, 43673, 43674, 43695, 43696, 43697, 43698, 43699, 43700, 43701, 43722, 43723, 43724, 43725, 43726, 43727, 43728, 43749, 43750, 43751, 43752, 43753, 43754, 43755, 43776, 43777, 43778, 43779, 43780, 43781, 43782, 43803, 43804, 43805, 43806, 43807, 43808, 43809, 43830, 43831, 43832, 43833, 43834, 43835, 43836, 43857, 43858, 43859, 43860, 43861, 43862, 43863, 43884, 43885, 43886, 43887, 43888, 43889, 43890, 43911, 43912, 43913, 43914, 43915, 43916, 43917, 43938, 43939, ...], ('NORTE', 'ÓLEO DIESEL S10'): [55676, 55682, 55686, 55813, 55815, 55824, 55832, 55836, 55963, 55964, 55974, 55982, 55983, 55987, 56113, 56115, 56116, 56126, 56134, 56135, 56139, 56266, 56268, 56269, 56279, 56287, 56288, 56292, 56419, 56421, 56422, 56432, 56440, 56441, 56445, 56571, 56573, 56574, 56584, 56592, 56593, 56597, 56723, 56725, 56726, 56736, 56744, 56745, 56749, 56876, 56878, 56879, 56889, 56897, 56898, 56902, 57029, 57031, 57032, 57042, 57050, 57051, 57055, 57181, 57183, 57184, 57194, 57202, 57203, 57207, 57333, 57335, 57336, 57346, 57354, 57355, 57359, 57484, 57486, 57487, 57497, 57505, 57506, 57510, 57636, 57638, 57639, 57649, 57657, 57658, 57662, 57789, 57791, 57792, 57802, 57810, 57811, 57815, 57941, 57943, ...], ('SUDESTE', 'ETANOL HIDRATADO'): [20, 21, 22, 23, 47, 48, 49, 50, 74, 75, 76, 77, 101, 102, 103, 104, 128, 129, 130, 131, 155, 156, 157, 158, 182, 183, 184, 185, 209, 210, 211, 212, 236, 237, 238, 239, 263, 264, 265, 266, 290, 291, 292, 293, 317, 318, 319, 320, 344, 345, 346, 347, 371, 372, 373, 374, 398, 399, 400, 401, 425, 426, 427, 428, 452, 453, 454, 455, 479, 480, 481, 482, 506, 507, 508, 509, 533, 534, 535, 536, 560, 561, 562, 563, 587, 588, 589, 590, 614, 615, 616, 617, 641, 642, 643, 644, 668, 669, 670, 671, ...], ('SUDESTE', 'GASOLINA ADITIVADA'): [115916, 115921, 115927, 115933, 116091, 116096, 116102, 116108, 116264, 116269, 116275, 116281, 116439, 116444, 116450, 116456, 116616, 116621, 116627, 116633, 116792, 116797, 116803, 116809, 116966, 116971, 116977, 116983, 117140, 117145, 117151, 117157, 117314, 117319, 117325, 117331, 117486, 117491, 117497, 117503, 117663, 117668, 117674, 117680, 117837, 117842, 117848, 117854, 118012, 118017, 118023, 118029, 118188, 118193, 118199, 118205, 118364, 118369, 118375, 118381, 118540, 118545, 118551, 118557, 118717, 118722, 118728, 118734, 118894, 118899, 118905, 118911, 119072, 119077, 119083, 119089, 119249, 119254, 119260, 119266, 119429, 119434, 119440, 119446, 119609, 119614, 119620, 119626, 119787, 119792, 119798, 119804, 119965, 119970, 119976, 119982, 120143, 120148, 120154, 120160, ...], ('SUDESTE', 'GASOLINA COMUM'): [12084, 12085, 12086, 12087, 12111, 12112, 12113, 12114, 12138, 12139, 12140, 12141, 12165, 12166, 12167, 12168, 12192, 12193, 12194, 12195, 12219, 12220, 12221, 12222, 12246, 12247, 12248, 12249, 12273, 12274, 12275, 12276, 12300, 12301, 12302, 12303, 12327, 12328, 12329, 12330, 12354, 12355, 12356, 12357, 12381, 12382, 12383, 12384, 12408, 12409, 12410, 12411, 12435, 12436, 12437, 12438, 12462, 12463, 12464, 12465, 12489, 12490, 12491, 12492, 12516, 12517, 12518, 12519, 12543, 12544, 12545, 12546, 12570, 12571, 12572, 12573, 12597, 12598, 12599, 12600, 12624, 12625, 12626, 12627, 12651, 12652, 12653, 12654, 12678, 12679, 12680, 12681, 12705, 12706, 12707, 12708, 12732, 12733, 12734, 12735, ...], ('SUDESTE', 'GLP'): [24152, 24153, 24154, 24155, 24179, 24180, 24181, 24182, 24206, 24207, 24208, 24209, 24233, 24234, 24235, 24236, 24260, 24261, 24262, 24263, 24287, 24288, 24289, 24290, 24314, 24315, 24316, 24317, 24341, 24342, 24343, 24344, 24368, 24369, 24370, 24371, 24395, 24396, 24397, 24398, 24422, 24423, 24424, 24425, 24449, 24450, 24451, 24452, 24476, 24477, 24478, 24479, 24503, 24504, 24505, 24506, 24530, 24531, 24532, 24533, 24557, 24558, 24559, 24560, 24584, 24585, 24586, 24587, 24611, 24612, 24613, 24614, 24638, 24639, 24640, 24641, 24665, 24666, 24667, 24668, 24692, 24693, 24694, 24695, 24719, 24720, 24721, 24722, 24746, 24747, 24748, 24749, 24773, 24774, 24775, 24776, 24800, 24801, 24802, 24803, ...], ('SUDESTE', 'GNV'): [36204, 36205, 36206, 36207, 36219, 36220, 36221, 36222, 36234, 36235, 36236, 36237, 36249, 36250, 36251, 36252, 36264, 36265, 36266, 36267, 36279, 36280, 36281, 36282, 36294, 36295, 36296, 36297, 36309, 36310, 36311, 36312, 36324, 36325, 36326, 36327, 36339, 36340, 36341, 36342, 36354, 36355, 36356, 36357, 36370, 36371, 36372, 36373, 36386, 36387, 36388, 36389, 36402, 36403, 36404, 36405, 36418, 36419, 36420, 36421, 36434, 36435, 36436, 36437, 36450, 36451, 36452, 36453, 36466, 36467, 36468, 36469, 36482, 36483, 36484, 36485, 36498, 36499, 36500, 36501, 36514, 36515, 36516, 36517, 36530, 36531, 36532, 36533, 36546, 36547, 36548, 36549, 36562, 36563, 36564, 36565, 36578, 36579, 36580, 36581, ...], ('SUDESTE', 'OLEO DIESEL'): [106926, 106931, 106937, 106943, 107076, 107081, 107087, 107093, 107227, 107232, 107238, 107244, 107377, 107382, 107388, 107394, 107527, 107532, 107538, 107544, 107676, 107681, 107687, 107693, 107825, 107830, 107836, 107842, 107974, 107979, 107985, 107991, 108124, 108129, 108135, 108141, 108273, 108278, 108284, 108290, 108423, 108428, 108434, 108440, 108573, 108578, 108584, 108590, 108724, 108729, 108735, 108741, 108875, 108880, 108886, 108892, 109026, 109031, 109037, 109043, 109176, 109181, 109187, 109193, 109327, 109332, 109338, 109344, 109478, 109483, 109489, 109495, 109627, 109632, 109638, 109644, 109777, 109782, 109788, 109794, 109926, 109931, 109937, 109943, 110077, 110082, 110088, 110094, 110227, 110232, 110238, 110244, 110379, 110384, 110390, 110396, 110533, 110538, 110544, 110550, ...], ('SUDESTE', 'OLEO DIESEL S10'): [106953, 106958, 106964, 106970, 107103, 107108, 107114, 107120, 107254, 107259, 107265, 107271, 107404, 107409, 107415, 107421, 107554, 107559, 107565, 107571, 107703, 107708, 107714, 107720, 107852, 107857, 107863, 107869, 108001, 108006, 108012, 108018, 108151, 108156, 108162, 108168, 108300, 108305, 108311, 108317, 108450, 108455, 108461, 108467, 108600, 108605, 108611, 108617, 108751, 108756, 108762, 108768, 108902, 108907, 108913, 108919, 109053, 109058, 109064, 109070, 109203, 109208, 109214, 109220, 109354, 109359, 109365, 109371, 109505, 109510, 109516, 109522, 109654, 109659, 109665, 109671, 109804, 109809, 109815, 109821, 109953, 109958, 109964, 109970, 110104, 110109, 110115, 110121, 110254, 110259, 110265, 110271, 110406, 110411, 110417, 110423, 110560, 110565, 110571, 110577, ...], ('SUDESTE', 'ÓLEO DIESEL'): [43567, 43568, 43569, 43570, 43594, 43595, 43596, 43597, 43621, 43622, 43623, 43624, 43648, 43649, 43650, 43651, 43675, 43676, 43677, 43678, 43702, 43703, 43704, 43705, 43729, 43730, 43731, 43732, 43756, 43757, 43758, 43759, 43783, 43784, 43785, 43786, 43810, 43811, 43812, 43813, 43837, 43838, 43839, 43840, 43864, 43865, 43866, 43867, 43891, 43892, 43893, 43894, 43918, 43919, 43920, 43921, 43945, 43946, 43947, 43948, 43972, 43973, 43974, 43975, 43999, 44000, 44001, 44002, 44026, 44027, 44028, 44029, 44053, 44054, 44055, 44056, 44080, 44081, 44082, 44083, 44107, 44108, 44109, 44110, 44134, 44135, 44136, 44137, 44161, 44162, 44163, 44164, 44188, 44189, 44190, 44191, 44215, 44216, 44217, 44218, ...], ('SUDESTE', 'ÓLEO DIESEL S10'): [55671, 55675, 55680, 55684, 55818, 55823, 55829, 55834, 55968, 55973, 55979, 55985, 56120, 56125, 56131, 56137, 56273, 56278, 56284, 56290, 56426, 56431, 56437, 56443, 56578, 56583, 56589, 56595, 56730, 56735, 56741, 56747, 56883, 56888, 56894, 56900, 57036, 57041, 57047, 57053, 57188, 57193, 57199, 57205, 57340, 57345, 57351, 57357, 57491, 57496, 57502, 57508, 57643, 57648, 57654, 57660, 57796, 57801, 57807, 57813, 57948, 57953, 57959, 57965, 58100, 58105, 58111, 58117, 58252, 58257, 58263, 58269, 58403, 58408, 58414, 58420, 58555, 58560, 58566, 58572, 58707, 58712, 58718, 58724, 58859, 58864, 58870, 58876, 59012, 59017, 59023, 59029, 59164, 59169, 59175, 59181, 59316, 59321, 59327, 59333, ...], ('SUL', 'ETANOL HIDRATADO'): [24, 25, 26, 51, 52, 53, 78, 79, 80, 105, 106, 107, 132, 133, 134, 159, 160, 161, 186, 187, 188, 213, 214, 215, 240, 241, 242, 267, 268, 269, 294, 295, 296, 321, 322, 323, 348, 349, 350, 375, 376, 377, 402, 403, 404, 429, 430, 431, 456, 457, 458, 483, 484, 485, 510, 511, 512, 537, 538, 539, 564, 565, 566, 591, 592, 593, 618, 619, 620, 645, 646, 647, 672, 673, 674, 699, 700, 701, 726, 727, 728, 753, 754, 755, 780, 781, 782, 807, 808, 809, 834, 835, 836, 861, 862, 863, 888, 889, 890, 915, ...], ('SUL', 'GASOLINA ADITIVADA'): [115924, 115929, 115932, 116099, 116104, 116107, 116272, 116277, 116280, 116447, 116452, 116455, 116624, 116629, 116632, 116800, 116805, 116808, 116974, 116979, 116982, 117148, 117153, 117156, 117322, 117327, 117330, 117494, 117499, 117502, 117671, 117676, 117679, 117845, 117850, 117853, 118020, 118025, 118028, 118196, 118201, 118204, 118372, 118377, 118380, 118548, 118553, 118556, 118725, 118730, 118733, 118902, 118907, 118910, 119080, 119085, 119088, 119257, 119262, 119265, 119437, 119442, 119445, 119617, 119622, 119625, 119795, 119800, 119803, 119973, 119978, 119981, 120151, 120156, 120159, 120330, 120335, 120338, 120508, 120513, 120516, 120687, 120692, 120695], ('SUL', 'GASOLINA COMUM'): [12088, 12089, 12090, 12115, 12116, 12117, 12142, 12143, 12144, 12169, 12170, 12171, 12196, 12197, 12198, 12223, 12224, 12225, 12250, 12251, 12252, 12277, 12278, 12279, 12304, 12305, 12306, 12331, 12332, 12333, 12358, 12359, 12360, 12385, 12386, 12387, 12412, 12413, 12414, 12439, 12440, 12441, 12466, 12467, 12468, 12493, 12494, 12495, 12520, 12521, 12522, 12547, 12548, 12549, 12574, 12575, 12576, 12601, 12602, 12603, 12628, 12629, 12630, 12655, 12656, 12657, 12682, 12683, 12684, 12709, 12710, 12711, 12736, 12737, 12738, 12763, 12764, 12765, 12790, 12791, 12792, 12817, 12818, 12819, 12844, 12845, 12846, 12871, 12872, 12873, 12898, 12899, 12900, 12925, 12926, 12927, 12952, 12953, 12954, 12979, ...], ('SUL', 'GLP'): [24156, 24157, 24158, 24183, 24184, 24185, 24210, 24211, 24212, 24237, 24238, 24239, 24264, 24265, 24266, 24291, 24292, 24293, 24318, 24319, 24320, 24345, 24346, 24347, 24372, 24373, 24374, 24399, 24400, 24401, 24426, 24427, 24428, 24453, 24454, 24455, 24480, 24481, 24482, 24507, 24508, 24509, 24534, 24535, 24536, 24561, 24562, 24563, 24588, 24589, 24590, 24615, 24616, 24617, 24642, 24643, 24644, 24669, 24670, 24671, 24696, 24697, 24698, 24723, 24724, 24725, 24750, 24751, 24752, 24777, 24778, 24779, 24804, 24805, 24806, 24831, 24832, 24833, 24858, 24859, 24860, 24885, 24886, 24887, 24912, 24913, 24914, 24939, 24940, 24941, 24966, 24967, 24968, 24993, 24994, 24995, 25020, 25021, 25022, 25047, ...], ('SUL', 'GNV'): [36208, 36209, 36210, 36223, 36224, 36225, 36238, 36239, 36240, 36253, 36254, 36255, 36268, 36269, 36270, 36283, 36284, 36285, 36298, 36299, 36300, 36313, 36314, 36315, 36328, 36329, 36330, 36343, 36344, 36345, 36358, 36359, 36360, 36374, 36375, 36376, 36390, 36391, 36392, 36406, 36407, 36408, 36422, 36423, 36424, 36438, 36439, 36440, 36454, 36455, 36456, 36470, 36471, 36472, 36486, 36487, 36488, 36502, 36503, 36504, 36518, 36519, 36520, 36534, 36535, 36536, 36550, 36551, 36552, 36566, 36567, 36568, 36582, 36583, 36584, 36598, 36599, 36600, 36614, 36615, 36616, 36630, 36631, 36632, 36646, 36647, 36648, 36662, 36663, 36664, 36678, 36679, 36680, 36694, 36695, 36696, 36710, 36711, 36712, 36726, ...], ('SUL', 'OLEO DIESEL'): [106934, 106939, 106942, 107084, 107089, 107092, 107235, 107240, 107243, 107385, 107390, 107393, 107535, 107540, 107543, 107684, 107689, 107692, 107833, 107838, 107841, 107982, 107987, 107990, 108132, 108137, 108140, 108281, 108286, 108289, 108431, 108436, 108439, 108581, 108586, 108589, 108732, 108737, 108740, 108883, 108888, 108891, 109034, 109039, 109042, 109184, 109189, 109192, 109335, 109340, 109343, 109486, 109491, 109494, 109635, 109640, 109643, 109785, 109790, 109793, 109934, 109939, 109942, 110085, 110090, 110093, 110235, 110240, 110243, 110387, 110392, 110395, 110541, 110546, 110549, 110692, 110697, 110700, 110843, 110848, 110851, 110995, 111000, 111003, 111147, 111152, 111155, 111300, 111305, 111308, 111453, 111458, 111461, 111605, 111610, 111613, 111757, 111762, 111765, 111908, ...], ('SUL', 'OLEO DIESEL S10'): [106961, 106966, 106969, 107111, 107116, 107119, 107262, 107267, 107270, 107412, 107417, 107420, 107562, 107567, 107570, 107711, 107716, 107719, 107860, 107865, 107868, 108009, 108014, 108017, 108159, 108164, 108167, 108308, 108313, 108316, 108458, 108463, 108466, 108608, 108613, 108616, 108759, 108764, 108767, 108910, 108915, 108918, 109061, 109066, 109069, 109211, 109216, 109219, 109362, 109367, 109370, 109513, 109518, 109521, 109662, 109667, 109670, 109812, 109817, 109820, 109961, 109966, 109969, 110112, 110117, 110120, 110262, 110267, 110270, 110414, 110419, 110422, 110568, 110573, 110576, 110719, 110724, 110727, 110870, 110875, 110878, 111022, 111027, 111030, 111174, 111179, 111182, 111327, 111332, 111335, 111480, 111485, 111488, 111632, 111637, 111640, 111784, 111789, 111792, 111935, ...], ('SUL', 'ÓLEO DIESEL'): [43571, 43572, 43573, 43598, 43599, 43600, 43625, 43626, 43627, 43652, 43653, 43654, 43679, 43680, 43681, 43706, 43707, 43708, 43733, 43734, 43735, 43760, 43761, 43762, 43787, 43788, 43789, 43814, 43815, 43816, 43841, 43842, 43843, 43868, 43869, 43870, 43895, 43896, 43897, 43922, 43923, 43924, 43949, 43950, 43951, 43976, 43977, 43978, 44003, 44004, 44005, 44030, 44031, 44032, 44057, 44058, 44059, 44084, 44085, 44086, 44111, 44112, 44113, 44138, 44139, 44140, 44165, 44166, 44167, 44192, 44193, 44194, 44219, 44220, 44221, 44246, 44247, 44248, 44273, 44274, 44275, 44300, 44301, 44302, 44327, 44328, 44329, 44354, 44355, 44356, 44381, 44382, 44383, 44408, 44409, 44410, 44435, 44436, 44437, 44462, ...], ('SUL', 'ÓLEO DIESEL S10'): [55678, 55681, 55683, 55826, 55831, 55833, 55976, 55981, 55984, 56128, 56133, 56136, 56281, 56286, 56289, 56434, 56439, 56442, 56586, 56591, 56594, 56738, 56743, 56746, 56891, 56896, 56899, 57044, 57049, 57052, 57196, 57201, 57204, 57348, 57353, 57356, 57499, 57504, 57507, 57651, 57656, 57659, 57804, 57809, 57812, 57956, 57961, 57964, 58108, 58113, 58116, 58260, 58265, 58268, 58411, 58416, 58419, 58563, 58568, 58571, 58715, 58720, 58723, 58867, 58872, 58875, 59020, 59025, 59028, 59172, 59177, 59180, 59324, 59329, 59332, 59477, 59482, 59485, 59629, 59634, 59637, 59782, 59787, 59790, 59934, 59939, 59942, 60087, 60092, 60095, 60240, 60245, 60248, 60392, 60397, 60400, 60545, 60550, 60553, 60698, ...]}"
          },
          "metadata": {}
        }
      ],
      "execution_count": 218
    },
    {
      "id": "guided-sleeping",
      "cell_type": "code",
      "source": "grupos['PREÇO MÉDIO REVENDA'].mean()",
      "metadata": {
        "trusted": true
      },
      "outputs": [
        {
          "execution_count": 220,
          "output_type": "execute_result",
          "data": {
            "text/plain": "REGIÃO        PRODUTO           \nCENTRO OESTE  ETANOL HIDRATADO       2.245860\n              GASOLINA ADITIVADA     5.094830\n              GASOLINA COMUM         3.222747\n              GLP                   51.329695\n              GNV                    2.099412\n              OLEO DIESEL            3.713054\n              OLEO DIESEL S10        3.813543\n              ÓLEO DIESEL            2.481534\n              ÓLEO DIESEL S10        3.241185\nNORDESTE      ETANOL HIDRATADO       2.451679\n              GASOLINA ADITIVADA     5.069589\n              GASOLINA COMUM         3.156756\n              GLP                   45.157884\n              GNV                    2.062833\n              OLEO DIESEL            3.678478\n              OLEO DIESEL S10        3.732889\n              ÓLEO DIESEL            2.347550\n              ÓLEO DIESEL S10        3.041957\nNORTE         ETANOL HIDRATADO       2.655331\n              GASOLINA ADITIVADA     5.020130\n              GASOLINA COMUM         3.284190\n              GLP                   50.830409\n              GNV                    2.181553\n              OLEO DIESEL            3.935767\n              OLEO DIESEL S10        3.972659\n              ÓLEO DIESEL            2.569905\n              ÓLEO DIESEL S10        3.310619\nSUDESTE       ETANOL HIDRATADO       2.293122\n              GASOLINA ADITIVADA     5.116277\n              GASOLINA COMUM         3.161360\n              GLP                   44.855560\n              GNV                    1.916527\n              OLEO DIESEL            3.578250\n              OLEO DIESEL S10        3.692063\n              ÓLEO DIESEL            2.339699\n              ÓLEO DIESEL S10        3.054425\nSUL           ETANOL HIDRATADO       2.412379\n              GASOLINA ADITIVADA     4.907976\n              GASOLINA COMUM         3.113193\n              GLP                   46.570010\n              GNV                    2.047350\n              OLEO DIESEL            3.473068\n              OLEO DIESEL S10        3.556614\n              ÓLEO DIESEL            2.332862\n              ÓLEO DIESEL S10        2.981745\nName: PREÇO MÉDIO REVENDA, dtype: float64"
          },
          "metadata": {}
        }
      ],
      "execution_count": 220
    },
    {
      "id": "assumed-detector",
      "cell_type": "code",
      "source": "grupos['PREÇO MÉDIO REVENDA'].describe()",
      "metadata": {
        "trusted": true
      },
      "outputs": [
        {
          "execution_count": 221,
          "output_type": "execute_result",
          "data": {
            "text/plain": "                                  count       mean        std     min  \\\nREGIÃO       PRODUTO                                                    \nCENTRO OESTE ETANOL HIDRATADO    3492.0   2.245860   0.642026   1.162   \n             GASOLINA ADITIVADA   112.0   5.094830   0.463468   4.510   \n             GASOLINA COMUM      3492.0   3.222747   0.742431   1.936   \n             GLP                 3489.0  51.329695  17.537010  28.791   \n             GNV                 1671.0   2.099412   0.543331   1.097   \n             OLEO DIESEL          352.0   3.713054   0.335093   2.976   \n             OLEO DIESEL S10      352.0   3.813543   0.327728   3.073   \n             ÓLEO DIESEL         3140.0   2.481534   0.627607   1.435   \n             ÓLEO DIESEL S10     1349.0   3.241185   0.433797   2.212   \nNORDESTE     ETANOL HIDRATADO    7856.0   2.451679   0.701178   1.181   \n             GASOLINA ADITIVADA   248.0   5.069589   0.454476   4.178   \n             GASOLINA COMUM      7857.0   3.156756   0.775072   1.949   \n             GLP                 7853.0  45.157884  14.249199  28.367   \n             GNV                 6180.0   2.062833   0.680719   0.975   \n             OLEO DIESEL          781.0   3.678478   0.338698   2.929   \n             OLEO DIESEL S10      792.0   3.732889   0.341614   2.996   \n             ÓLEO DIESEL         7065.0   2.347550   0.606381   1.313   \n             ÓLEO DIESEL S10     3039.0   3.041957   0.442555   2.130   \nNORTE        ETANOL HIDRATADO    5982.0   2.655331   0.739122   1.226   \n             GASOLINA ADITIVADA   193.0   5.020130   0.583055   3.849   \n             GASOLINA COMUM      6110.0   3.284190   0.750559   1.995   \n             GLP                 6110.0  50.830409  17.690652  28.086   \n             GNV                  523.0   2.181553   0.749557   1.219   \n             OLEO DIESEL          602.0   3.935767   0.481576   2.943   \n             OLEO DIESEL S10      616.0   3.972659   0.443805   3.000   \n             ÓLEO DIESEL         5494.0   2.569905   0.650350   1.450   \n             ÓLEO DIESEL S10     2359.0   3.310619   0.533966   2.172   \nSUDESTE      ETANOL HIDRATADO    3492.0   2.293122   0.751425   0.766   \n             GASOLINA ADITIVADA   112.0   5.116277   0.563269   4.276   \n             GASOLINA COMUM      3492.0   3.161360   0.833362   1.888   \n             GLP                 3490.0  44.855560  13.838936  28.026   \n             GNV                 3488.0   1.916527   0.633858   0.996   \n             OLEO DIESEL          352.0   3.578250   0.315255   2.809   \n             OLEO DIESEL S10      352.0   3.692063   0.298231   3.054   \n             ÓLEO DIESEL         3140.0   2.339699   0.588641   1.356   \n             ÓLEO DIESEL S10     1352.0   3.054425   0.419618   2.180   \nSUL          ETANOL HIDRATADO    2618.0   2.412379   0.815989   0.922   \n             GASOLINA ADITIVADA    84.0   4.907976   0.479624   4.272   \n             GASOLINA COMUM      2619.0   3.113193   0.738993   1.961   \n             GLP                 2619.0  46.570010  14.382897  29.440   \n             GNV                 2607.0   2.047350   0.639726   1.168   \n             OLEO DIESEL          264.0   3.473068   0.310182   2.730   \n             OLEO DIESEL S10      264.0   3.556614   0.302936   2.827   \n             ÓLEO DIESEL         2355.0   2.332862   0.528454   1.374   \n             ÓLEO DIESEL S10     1014.0   2.981745   0.366952   2.140   \n\n                                      25%      50%       75%      max  \nREGIÃO       PRODUTO                                                   \nCENTRO OESTE ETANOL HIDRATADO     1.74075   2.1020   2.71000    4.688  \n             GASOLINA ADITIVADA   4.68100   4.9285   5.58150    5.966  \n             GASOLINA COMUM       2.67700   2.9485   3.71700    5.863  \n             GLP                 37.44700  44.7290  63.77600  105.194  \n             GNV                  1.74550   2.0370   2.40000    4.090  \n             OLEO DIESEL          3.53950   3.7395   3.86025    4.486  \n             OLEO DIESEL S10      3.63625   3.8495   3.96450    4.594  \n             ÓLEO DIESEL          2.03300   2.2455   3.01900    4.162  \n             ÓLEO DIESEL S10      2.82000   3.2640   3.58400    4.200  \nNORDESTE     ETANOL HIDRATADO     1.85400   2.2800   3.10100    4.797  \n             GASOLINA ADITIVADA   4.72975   4.9400   5.45400    6.050  \n             GASOLINA COMUM       2.59900   2.7840   3.73600    5.890  \n             GLP                 33.93800  38.6120  54.36400   91.725  \n             GNV                  1.66800   1.8590   2.40525    4.779  \n             OLEO DIESEL          3.48800   3.6890   3.84600    4.678  \n             OLEO DIESEL S10      3.52450   3.7425   3.89700    4.799  \n             ÓLEO DIESEL          1.90000   2.0820   2.87300    4.114  \n             ÓLEO DIESEL S10      2.60000   3.0870   3.33800    4.069  \nNORTE        ETANOL HIDRATADO     2.07700   2.4250   3.37500    5.960  \n             GASOLINA ADITIVADA   4.63900   4.9940   5.44400    6.683  \n             GASOLINA COMUM       2.72300   2.9760   3.86000    6.688  \n             GLP                 36.90700  44.2400  63.14300  107.500  \n             GNV                  1.54000   1.9500   2.85000    4.599  \n             OLEO DIESEL          3.61025   3.8565   4.26775    5.849  \n             OLEO DIESEL S10      3.66350   3.9130   4.34450    5.861  \n             ÓLEO DIESEL          2.08800   2.3340   3.08000    4.774  \n             ÓLEO DIESEL S10      2.87800   3.3070   3.65300    4.878  \nSUDESTE      ETANOL HIDRATADO     1.73400   2.1685   2.76400    5.226  \n             GASOLINA ADITIVADA   4.68600   5.0320   5.54175    6.250  \n             GASOLINA COMUM       2.53000   2.8480   3.72425    6.131  \n             GLP                 34.05550  40.1595  54.93225   87.091  \n             GNV                  1.50175   1.7680   2.24650    3.749  \n             OLEO DIESEL          3.39750   3.5980   3.72375    4.345  \n             OLEO DIESEL S10      3.52725   3.7075   3.83400    4.384  \n             ÓLEO DIESEL          1.87600   2.0825   2.82500    3.994  \n             ÓLEO DIESEL S10      2.64700   3.0900   3.38600    4.080  \nSUL          ETANOL HIDRATADO     1.75100   2.3290   2.93275    5.521  \n             GASOLINA ADITIVADA   4.48625   4.7735   5.35950    5.941  \n             GASOLINA COMUM       2.55400   2.7770   3.67000    5.814  \n             GLP                 35.40100  41.0310  57.11000   91.189  \n             GNV                  1.55750   1.8990   2.45000    4.369  \n             OLEO DIESEL          3.28875   3.4930   3.61325    4.136  \n             OLEO DIESEL S10      3.37625   3.5770   3.70075    4.226  \n             ÓLEO DIESEL          1.95100   2.0900   2.78550    3.800  \n             ÓLEO DIESEL S10      2.66300   2.9910   3.25400    3.815  ",
            "text/html": "<div>\n<style scoped>\n    .dataframe tbody tr th:only-of-type {\n        vertical-align: middle;\n    }\n\n    .dataframe tbody tr th {\n        vertical-align: top;\n    }\n\n    .dataframe thead th {\n        text-align: right;\n    }\n</style>\n<table border=\"1\" class=\"dataframe\">\n  <thead>\n    <tr style=\"text-align: right;\">\n      <th></th>\n      <th></th>\n      <th>count</th>\n      <th>mean</th>\n      <th>std</th>\n      <th>min</th>\n      <th>25%</th>\n      <th>50%</th>\n      <th>75%</th>\n      <th>max</th>\n    </tr>\n    <tr>\n      <th>REGIÃO</th>\n      <th>PRODUTO</th>\n      <th></th>\n      <th></th>\n      <th></th>\n      <th></th>\n      <th></th>\n      <th></th>\n      <th></th>\n      <th></th>\n    </tr>\n  </thead>\n  <tbody>\n    <tr>\n      <th rowspan=\"9\" valign=\"top\">CENTRO OESTE</th>\n      <th>ETANOL HIDRATADO</th>\n      <td>3492.0</td>\n      <td>2.245860</td>\n      <td>0.642026</td>\n      <td>1.162</td>\n      <td>1.74075</td>\n      <td>2.1020</td>\n      <td>2.71000</td>\n      <td>4.688</td>\n    </tr>\n    <tr>\n      <th>GASOLINA ADITIVADA</th>\n      <td>112.0</td>\n      <td>5.094830</td>\n      <td>0.463468</td>\n      <td>4.510</td>\n      <td>4.68100</td>\n      <td>4.9285</td>\n      <td>5.58150</td>\n      <td>5.966</td>\n    </tr>\n    <tr>\n      <th>GASOLINA COMUM</th>\n      <td>3492.0</td>\n      <td>3.222747</td>\n      <td>0.742431</td>\n      <td>1.936</td>\n      <td>2.67700</td>\n      <td>2.9485</td>\n      <td>3.71700</td>\n      <td>5.863</td>\n    </tr>\n    <tr>\n      <th>GLP</th>\n      <td>3489.0</td>\n      <td>51.329695</td>\n      <td>17.537010</td>\n      <td>28.791</td>\n      <td>37.44700</td>\n      <td>44.7290</td>\n      <td>63.77600</td>\n      <td>105.194</td>\n    </tr>\n    <tr>\n      <th>GNV</th>\n      <td>1671.0</td>\n      <td>2.099412</td>\n      <td>0.543331</td>\n      <td>1.097</td>\n      <td>1.74550</td>\n      <td>2.0370</td>\n      <td>2.40000</td>\n      <td>4.090</td>\n    </tr>\n    <tr>\n      <th>OLEO DIESEL</th>\n      <td>352.0</td>\n      <td>3.713054</td>\n      <td>0.335093</td>\n      <td>2.976</td>\n      <td>3.53950</td>\n      <td>3.7395</td>\n      <td>3.86025</td>\n      <td>4.486</td>\n    </tr>\n    <tr>\n      <th>OLEO DIESEL S10</th>\n      <td>352.0</td>\n      <td>3.813543</td>\n      <td>0.327728</td>\n      <td>3.073</td>\n      <td>3.63625</td>\n      <td>3.8495</td>\n      <td>3.96450</td>\n      <td>4.594</td>\n    </tr>\n    <tr>\n      <th>ÓLEO DIESEL</th>\n      <td>3140.0</td>\n      <td>2.481534</td>\n      <td>0.627607</td>\n      <td>1.435</td>\n      <td>2.03300</td>\n      <td>2.2455</td>\n      <td>3.01900</td>\n      <td>4.162</td>\n    </tr>\n    <tr>\n      <th>ÓLEO DIESEL S10</th>\n      <td>1349.0</td>\n      <td>3.241185</td>\n      <td>0.433797</td>\n      <td>2.212</td>\n      <td>2.82000</td>\n      <td>3.2640</td>\n      <td>3.58400</td>\n      <td>4.200</td>\n    </tr>\n    <tr>\n      <th rowspan=\"9\" valign=\"top\">NORDESTE</th>\n      <th>ETANOL HIDRATADO</th>\n      <td>7856.0</td>\n      <td>2.451679</td>\n      <td>0.701178</td>\n      <td>1.181</td>\n      <td>1.85400</td>\n      <td>2.2800</td>\n      <td>3.10100</td>\n      <td>4.797</td>\n    </tr>\n    <tr>\n      <th>GASOLINA ADITIVADA</th>\n      <td>248.0</td>\n      <td>5.069589</td>\n      <td>0.454476</td>\n      <td>4.178</td>\n      <td>4.72975</td>\n      <td>4.9400</td>\n      <td>5.45400</td>\n      <td>6.050</td>\n    </tr>\n    <tr>\n      <th>GASOLINA COMUM</th>\n      <td>7857.0</td>\n      <td>3.156756</td>\n      <td>0.775072</td>\n      <td>1.949</td>\n      <td>2.59900</td>\n      <td>2.7840</td>\n      <td>3.73600</td>\n      <td>5.890</td>\n    </tr>\n    <tr>\n      <th>GLP</th>\n      <td>7853.0</td>\n      <td>45.157884</td>\n      <td>14.249199</td>\n      <td>28.367</td>\n      <td>33.93800</td>\n      <td>38.6120</td>\n      <td>54.36400</td>\n      <td>91.725</td>\n    </tr>\n    <tr>\n      <th>GNV</th>\n      <td>6180.0</td>\n      <td>2.062833</td>\n      <td>0.680719</td>\n      <td>0.975</td>\n      <td>1.66800</td>\n      <td>1.8590</td>\n      <td>2.40525</td>\n      <td>4.779</td>\n    </tr>\n    <tr>\n      <th>OLEO DIESEL</th>\n      <td>781.0</td>\n      <td>3.678478</td>\n      <td>0.338698</td>\n      <td>2.929</td>\n      <td>3.48800</td>\n      <td>3.6890</td>\n      <td>3.84600</td>\n      <td>4.678</td>\n    </tr>\n    <tr>\n      <th>OLEO DIESEL S10</th>\n      <td>792.0</td>\n      <td>3.732889</td>\n      <td>0.341614</td>\n      <td>2.996</td>\n      <td>3.52450</td>\n      <td>3.7425</td>\n      <td>3.89700</td>\n      <td>4.799</td>\n    </tr>\n    <tr>\n      <th>ÓLEO DIESEL</th>\n      <td>7065.0</td>\n      <td>2.347550</td>\n      <td>0.606381</td>\n      <td>1.313</td>\n      <td>1.90000</td>\n      <td>2.0820</td>\n      <td>2.87300</td>\n      <td>4.114</td>\n    </tr>\n    <tr>\n      <th>ÓLEO DIESEL S10</th>\n      <td>3039.0</td>\n      <td>3.041957</td>\n      <td>0.442555</td>\n      <td>2.130</td>\n      <td>2.60000</td>\n      <td>3.0870</td>\n      <td>3.33800</td>\n      <td>4.069</td>\n    </tr>\n    <tr>\n      <th rowspan=\"9\" valign=\"top\">NORTE</th>\n      <th>ETANOL HIDRATADO</th>\n      <td>5982.0</td>\n      <td>2.655331</td>\n      <td>0.739122</td>\n      <td>1.226</td>\n      <td>2.07700</td>\n      <td>2.4250</td>\n      <td>3.37500</td>\n      <td>5.960</td>\n    </tr>\n    <tr>\n      <th>GASOLINA ADITIVADA</th>\n      <td>193.0</td>\n      <td>5.020130</td>\n      <td>0.583055</td>\n      <td>3.849</td>\n      <td>4.63900</td>\n      <td>4.9940</td>\n      <td>5.44400</td>\n      <td>6.683</td>\n    </tr>\n    <tr>\n      <th>GASOLINA COMUM</th>\n      <td>6110.0</td>\n      <td>3.284190</td>\n      <td>0.750559</td>\n      <td>1.995</td>\n      <td>2.72300</td>\n      <td>2.9760</td>\n      <td>3.86000</td>\n      <td>6.688</td>\n    </tr>\n    <tr>\n      <th>GLP</th>\n      <td>6110.0</td>\n      <td>50.830409</td>\n      <td>17.690652</td>\n      <td>28.086</td>\n      <td>36.90700</td>\n      <td>44.2400</td>\n      <td>63.14300</td>\n      <td>107.500</td>\n    </tr>\n    <tr>\n      <th>GNV</th>\n      <td>523.0</td>\n      <td>2.181553</td>\n      <td>0.749557</td>\n      <td>1.219</td>\n      <td>1.54000</td>\n      <td>1.9500</td>\n      <td>2.85000</td>\n      <td>4.599</td>\n    </tr>\n    <tr>\n      <th>OLEO DIESEL</th>\n      <td>602.0</td>\n      <td>3.935767</td>\n      <td>0.481576</td>\n      <td>2.943</td>\n      <td>3.61025</td>\n      <td>3.8565</td>\n      <td>4.26775</td>\n      <td>5.849</td>\n    </tr>\n    <tr>\n      <th>OLEO DIESEL S10</th>\n      <td>616.0</td>\n      <td>3.972659</td>\n      <td>0.443805</td>\n      <td>3.000</td>\n      <td>3.66350</td>\n      <td>3.9130</td>\n      <td>4.34450</td>\n      <td>5.861</td>\n    </tr>\n    <tr>\n      <th>ÓLEO DIESEL</th>\n      <td>5494.0</td>\n      <td>2.569905</td>\n      <td>0.650350</td>\n      <td>1.450</td>\n      <td>2.08800</td>\n      <td>2.3340</td>\n      <td>3.08000</td>\n      <td>4.774</td>\n    </tr>\n    <tr>\n      <th>ÓLEO DIESEL S10</th>\n      <td>2359.0</td>\n      <td>3.310619</td>\n      <td>0.533966</td>\n      <td>2.172</td>\n      <td>2.87800</td>\n      <td>3.3070</td>\n      <td>3.65300</td>\n      <td>4.878</td>\n    </tr>\n    <tr>\n      <th rowspan=\"9\" valign=\"top\">SUDESTE</th>\n      <th>ETANOL HIDRATADO</th>\n      <td>3492.0</td>\n      <td>2.293122</td>\n      <td>0.751425</td>\n      <td>0.766</td>\n      <td>1.73400</td>\n      <td>2.1685</td>\n      <td>2.76400</td>\n      <td>5.226</td>\n    </tr>\n    <tr>\n      <th>GASOLINA ADITIVADA</th>\n      <td>112.0</td>\n      <td>5.116277</td>\n      <td>0.563269</td>\n      <td>4.276</td>\n      <td>4.68600</td>\n      <td>5.0320</td>\n      <td>5.54175</td>\n      <td>6.250</td>\n    </tr>\n    <tr>\n      <th>GASOLINA COMUM</th>\n      <td>3492.0</td>\n      <td>3.161360</td>\n      <td>0.833362</td>\n      <td>1.888</td>\n      <td>2.53000</td>\n      <td>2.8480</td>\n      <td>3.72425</td>\n      <td>6.131</td>\n    </tr>\n    <tr>\n      <th>GLP</th>\n      <td>3490.0</td>\n      <td>44.855560</td>\n      <td>13.838936</td>\n      <td>28.026</td>\n      <td>34.05550</td>\n      <td>40.1595</td>\n      <td>54.93225</td>\n      <td>87.091</td>\n    </tr>\n    <tr>\n      <th>GNV</th>\n      <td>3488.0</td>\n      <td>1.916527</td>\n      <td>0.633858</td>\n      <td>0.996</td>\n      <td>1.50175</td>\n      <td>1.7680</td>\n      <td>2.24650</td>\n      <td>3.749</td>\n    </tr>\n    <tr>\n      <th>OLEO DIESEL</th>\n      <td>352.0</td>\n      <td>3.578250</td>\n      <td>0.315255</td>\n      <td>2.809</td>\n      <td>3.39750</td>\n      <td>3.5980</td>\n      <td>3.72375</td>\n      <td>4.345</td>\n    </tr>\n    <tr>\n      <th>OLEO DIESEL S10</th>\n      <td>352.0</td>\n      <td>3.692063</td>\n      <td>0.298231</td>\n      <td>3.054</td>\n      <td>3.52725</td>\n      <td>3.7075</td>\n      <td>3.83400</td>\n      <td>4.384</td>\n    </tr>\n    <tr>\n      <th>ÓLEO DIESEL</th>\n      <td>3140.0</td>\n      <td>2.339699</td>\n      <td>0.588641</td>\n      <td>1.356</td>\n      <td>1.87600</td>\n      <td>2.0825</td>\n      <td>2.82500</td>\n      <td>3.994</td>\n    </tr>\n    <tr>\n      <th>ÓLEO DIESEL S10</th>\n      <td>1352.0</td>\n      <td>3.054425</td>\n      <td>0.419618</td>\n      <td>2.180</td>\n      <td>2.64700</td>\n      <td>3.0900</td>\n      <td>3.38600</td>\n      <td>4.080</td>\n    </tr>\n    <tr>\n      <th rowspan=\"9\" valign=\"top\">SUL</th>\n      <th>ETANOL HIDRATADO</th>\n      <td>2618.0</td>\n      <td>2.412379</td>\n      <td>0.815989</td>\n      <td>0.922</td>\n      <td>1.75100</td>\n      <td>2.3290</td>\n      <td>2.93275</td>\n      <td>5.521</td>\n    </tr>\n    <tr>\n      <th>GASOLINA ADITIVADA</th>\n      <td>84.0</td>\n      <td>4.907976</td>\n      <td>0.479624</td>\n      <td>4.272</td>\n      <td>4.48625</td>\n      <td>4.7735</td>\n      <td>5.35950</td>\n      <td>5.941</td>\n    </tr>\n    <tr>\n      <th>GASOLINA COMUM</th>\n      <td>2619.0</td>\n      <td>3.113193</td>\n      <td>0.738993</td>\n      <td>1.961</td>\n      <td>2.55400</td>\n      <td>2.7770</td>\n      <td>3.67000</td>\n      <td>5.814</td>\n    </tr>\n    <tr>\n      <th>GLP</th>\n      <td>2619.0</td>\n      <td>46.570010</td>\n      <td>14.382897</td>\n      <td>29.440</td>\n      <td>35.40100</td>\n      <td>41.0310</td>\n      <td>57.11000</td>\n      <td>91.189</td>\n    </tr>\n    <tr>\n      <th>GNV</th>\n      <td>2607.0</td>\n      <td>2.047350</td>\n      <td>0.639726</td>\n      <td>1.168</td>\n      <td>1.55750</td>\n      <td>1.8990</td>\n      <td>2.45000</td>\n      <td>4.369</td>\n    </tr>\n    <tr>\n      <th>OLEO DIESEL</th>\n      <td>264.0</td>\n      <td>3.473068</td>\n      <td>0.310182</td>\n      <td>2.730</td>\n      <td>3.28875</td>\n      <td>3.4930</td>\n      <td>3.61325</td>\n      <td>4.136</td>\n    </tr>\n    <tr>\n      <th>OLEO DIESEL S10</th>\n      <td>264.0</td>\n      <td>3.556614</td>\n      <td>0.302936</td>\n      <td>2.827</td>\n      <td>3.37625</td>\n      <td>3.5770</td>\n      <td>3.70075</td>\n      <td>4.226</td>\n    </tr>\n    <tr>\n      <th>ÓLEO DIESEL</th>\n      <td>2355.0</td>\n      <td>2.332862</td>\n      <td>0.528454</td>\n      <td>1.374</td>\n      <td>1.95100</td>\n      <td>2.0900</td>\n      <td>2.78550</td>\n      <td>3.800</td>\n    </tr>\n    <tr>\n      <th>ÓLEO DIESEL S10</th>\n      <td>1014.0</td>\n      <td>2.981745</td>\n      <td>0.366952</td>\n      <td>2.140</td>\n      <td>2.66300</td>\n      <td>2.9910</td>\n      <td>3.25400</td>\n      <td>3.815</td>\n    </tr>\n  </tbody>\n</table>\n</div>"
          },
          "metadata": {}
        }
      ],
      "execution_count": 221
    },
    {
      "id": "sonic-running",
      "cell_type": "markdown",
      "source": "<br/>\n\n`.agg`: **agrega (roda)** uma série de funções para os elementos de um dataframe ou de grupos de um dataframe.",
      "metadata": {}
    },
    {
      "id": "challenging-stanford",
      "cell_type": "code",
      "source": "df = pd.DataFrame([[1, 2, 3],\n                   [4, 5, 6],\n                   [7, 8, 9],\n                   [None, None, None]],\n                  columns=['A', 'B', 'C'])\ndf",
      "metadata": {
        "trusted": true
      },
      "outputs": [
        {
          "execution_count": 223,
          "output_type": "execute_result",
          "data": {
            "text/plain": "     A    B    C\n0  1.0  2.0  3.0\n1  4.0  5.0  6.0\n2  7.0  8.0  9.0\n3  NaN  NaN  NaN",
            "text/html": "<div>\n<style scoped>\n    .dataframe tbody tr th:only-of-type {\n        vertical-align: middle;\n    }\n\n    .dataframe tbody tr th {\n        vertical-align: top;\n    }\n\n    .dataframe thead th {\n        text-align: right;\n    }\n</style>\n<table border=\"1\" class=\"dataframe\">\n  <thead>\n    <tr style=\"text-align: right;\">\n      <th></th>\n      <th>A</th>\n      <th>B</th>\n      <th>C</th>\n    </tr>\n  </thead>\n  <tbody>\n    <tr>\n      <th>0</th>\n      <td>1.0</td>\n      <td>2.0</td>\n      <td>3.0</td>\n    </tr>\n    <tr>\n      <th>1</th>\n      <td>4.0</td>\n      <td>5.0</td>\n      <td>6.0</td>\n    </tr>\n    <tr>\n      <th>2</th>\n      <td>7.0</td>\n      <td>8.0</td>\n      <td>9.0</td>\n    </tr>\n    <tr>\n      <th>3</th>\n      <td>NaN</td>\n      <td>NaN</td>\n      <td>NaN</td>\n    </tr>\n  </tbody>\n</table>\n</div>"
          },
          "metadata": {}
        }
      ],
      "execution_count": 223
    },
    {
      "id": "wrong-handy",
      "cell_type": "code",
      "source": "grupos = data.groupby('REGIÃO')\ngrupos",
      "metadata": {
        "trusted": true
      },
      "outputs": [
        {
          "execution_count": 227,
          "output_type": "execute_result",
          "data": {
            "text/plain": "<pandas.core.groupby.generic.DataFrameGroupBy object at 0xaf11548>"
          },
          "metadata": {}
        }
      ],
      "execution_count": 227
    },
    {
      "id": "grave-massage",
      "cell_type": "markdown",
      "source": "<h2>6. Ordenação</h2>\n<hr/>",
      "metadata": {}
    },
    {
      "id": "increasing-delicious",
      "cell_type": "code",
      "source": "notas = pd.DataFrame({\n    'nome': ['João', 'Maria', 'José', 'Alice'],\n    'idade': [20, 21, 19, 20],\n    'nota_final': [5.0, 10.0, 6.0, 10.0]\n})\nnotas",
      "metadata": {
        "trusted": true
      },
      "outputs": [
        {
          "execution_count": 229,
          "output_type": "execute_result",
          "data": {
            "text/plain": "    nome  idade  nota_final\n0   João     20         5.0\n1  Maria     21        10.0\n2   José     19         6.0\n3  Alice     20        10.0",
            "text/html": "<div>\n<style scoped>\n    .dataframe tbody tr th:only-of-type {\n        vertical-align: middle;\n    }\n\n    .dataframe tbody tr th {\n        vertical-align: top;\n    }\n\n    .dataframe thead th {\n        text-align: right;\n    }\n</style>\n<table border=\"1\" class=\"dataframe\">\n  <thead>\n    <tr style=\"text-align: right;\">\n      <th></th>\n      <th>nome</th>\n      <th>idade</th>\n      <th>nota_final</th>\n    </tr>\n  </thead>\n  <tbody>\n    <tr>\n      <th>0</th>\n      <td>João</td>\n      <td>20</td>\n      <td>5.0</td>\n    </tr>\n    <tr>\n      <th>1</th>\n      <td>Maria</td>\n      <td>21</td>\n      <td>10.0</td>\n    </tr>\n    <tr>\n      <th>2</th>\n      <td>José</td>\n      <td>19</td>\n      <td>6.0</td>\n    </tr>\n    <tr>\n      <th>3</th>\n      <td>Alice</td>\n      <td>20</td>\n      <td>10.0</td>\n    </tr>\n  </tbody>\n</table>\n</div>"
          },
          "metadata": {}
        }
      ],
      "execution_count": 229
    },
    {
      "id": "harmful-director",
      "cell_type": "markdown",
      "source": "`.sort_values()`: ordena valores ao longo de um eixo.",
      "metadata": {}
    },
    {
      "id": "whole-allowance",
      "cell_type": "code",
      "source": "notas.sort_values(by='nota_final')",
      "metadata": {
        "trusted": true
      },
      "outputs": [
        {
          "execution_count": 230,
          "output_type": "execute_result",
          "data": {
            "text/plain": "    nome  idade  nota_final\n0   João     20         5.0\n2   José     19         6.0\n1  Maria     21        10.0\n3  Alice     20        10.0",
            "text/html": "<div>\n<style scoped>\n    .dataframe tbody tr th:only-of-type {\n        vertical-align: middle;\n    }\n\n    .dataframe tbody tr th {\n        vertical-align: top;\n    }\n\n    .dataframe thead th {\n        text-align: right;\n    }\n</style>\n<table border=\"1\" class=\"dataframe\">\n  <thead>\n    <tr style=\"text-align: right;\">\n      <th></th>\n      <th>nome</th>\n      <th>idade</th>\n      <th>nota_final</th>\n    </tr>\n  </thead>\n  <tbody>\n    <tr>\n      <th>0</th>\n      <td>João</td>\n      <td>20</td>\n      <td>5.0</td>\n    </tr>\n    <tr>\n      <th>2</th>\n      <td>José</td>\n      <td>19</td>\n      <td>6.0</td>\n    </tr>\n    <tr>\n      <th>1</th>\n      <td>Maria</td>\n      <td>21</td>\n      <td>10.0</td>\n    </tr>\n    <tr>\n      <th>3</th>\n      <td>Alice</td>\n      <td>20</td>\n      <td>10.0</td>\n    </tr>\n  </tbody>\n</table>\n</div>"
          },
          "metadata": {}
        }
      ],
      "execution_count": 230
    },
    {
      "id": "american-blues",
      "cell_type": "markdown",
      "source": "Por padrão, o método retorna uma cópia dos dados ordenados em **ordem crescente (ascendente)**. Podemos alterar isso pelo argumento `ascending`.",
      "metadata": {}
    },
    {
      "id": "comparative-burke",
      "cell_type": "code",
      "source": "notas.sort_values(by='nota_final', ascending=False)",
      "metadata": {
        "trusted": true
      },
      "outputs": [
        {
          "execution_count": 231,
          "output_type": "execute_result",
          "data": {
            "text/plain": "    nome  idade  nota_final\n1  Maria     21        10.0\n3  Alice     20        10.0\n2   José     19         6.0\n0   João     20         5.0",
            "text/html": "<div>\n<style scoped>\n    .dataframe tbody tr th:only-of-type {\n        vertical-align: middle;\n    }\n\n    .dataframe tbody tr th {\n        vertical-align: top;\n    }\n\n    .dataframe thead th {\n        text-align: right;\n    }\n</style>\n<table border=\"1\" class=\"dataframe\">\n  <thead>\n    <tr style=\"text-align: right;\">\n      <th></th>\n      <th>nome</th>\n      <th>idade</th>\n      <th>nota_final</th>\n    </tr>\n  </thead>\n  <tbody>\n    <tr>\n      <th>1</th>\n      <td>Maria</td>\n      <td>21</td>\n      <td>10.0</td>\n    </tr>\n    <tr>\n      <th>3</th>\n      <td>Alice</td>\n      <td>20</td>\n      <td>10.0</td>\n    </tr>\n    <tr>\n      <th>2</th>\n      <td>José</td>\n      <td>19</td>\n      <td>6.0</td>\n    </tr>\n    <tr>\n      <th>0</th>\n      <td>João</td>\n      <td>20</td>\n      <td>5.0</td>\n    </tr>\n  </tbody>\n</table>\n</div>"
          },
          "metadata": {}
        }
      ],
      "execution_count": 231
    },
    {
      "id": "previous-polls",
      "cell_type": "markdown",
      "source": "<br/>\n\nPodemos ordenar a partir de **mais de uma coluna**:",
      "metadata": {}
    },
    {
      "id": "derived-saying",
      "cell_type": "code",
      "source": "notas.sort_values(by=['nota_final', 'nome'], ascending=[False, True])",
      "metadata": {
        "trusted": true
      },
      "outputs": [
        {
          "execution_count": 232,
          "output_type": "execute_result",
          "data": {
            "text/plain": "    nome  idade  nota_final\n3  Alice     20        10.0\n1  Maria     21        10.0\n2   José     19         6.0\n0   João     20         5.0",
            "text/html": "<div>\n<style scoped>\n    .dataframe tbody tr th:only-of-type {\n        vertical-align: middle;\n    }\n\n    .dataframe tbody tr th {\n        vertical-align: top;\n    }\n\n    .dataframe thead th {\n        text-align: right;\n    }\n</style>\n<table border=\"1\" class=\"dataframe\">\n  <thead>\n    <tr style=\"text-align: right;\">\n      <th></th>\n      <th>nome</th>\n      <th>idade</th>\n      <th>nota_final</th>\n    </tr>\n  </thead>\n  <tbody>\n    <tr>\n      <th>3</th>\n      <td>Alice</td>\n      <td>20</td>\n      <td>10.0</td>\n    </tr>\n    <tr>\n      <th>1</th>\n      <td>Maria</td>\n      <td>21</td>\n      <td>10.0</td>\n    </tr>\n    <tr>\n      <th>2</th>\n      <td>José</td>\n      <td>19</td>\n      <td>6.0</td>\n    </tr>\n    <tr>\n      <th>0</th>\n      <td>João</td>\n      <td>20</td>\n      <td>5.0</td>\n    </tr>\n  </tbody>\n</table>\n</div>"
          },
          "metadata": {}
        }
      ],
      "execution_count": 232
    },
    {
      "id": "experienced-husband",
      "cell_type": "markdown",
      "source": "Ordena os registros, primeiramente, pela coluna 'nota_final' em **ordem descrente**. <br/>\nEntão, reordena os registros _\"empatados\"_, ou seja, com a **mesma nota final**, em _ordem alfabética_ (ordem crescente).",
      "metadata": {}
    },
    {
      "id": "original-december",
      "cell_type": "markdown",
      "source": "<br/>\n\nNote que o dataframe original **não foi alterado** após a ordenação.",
      "metadata": {}
    },
    {
      "id": "numeric-vietnam",
      "cell_type": "code",
      "source": "notas",
      "metadata": {
        "trusted": true
      },
      "outputs": [
        {
          "execution_count": 233,
          "output_type": "execute_result",
          "data": {
            "text/plain": "    nome  idade  nota_final\n0   João     20         5.0\n1  Maria     21        10.0\n2   José     19         6.0\n3  Alice     20        10.0",
            "text/html": "<div>\n<style scoped>\n    .dataframe tbody tr th:only-of-type {\n        vertical-align: middle;\n    }\n\n    .dataframe tbody tr th {\n        vertical-align: top;\n    }\n\n    .dataframe thead th {\n        text-align: right;\n    }\n</style>\n<table border=\"1\" class=\"dataframe\">\n  <thead>\n    <tr style=\"text-align: right;\">\n      <th></th>\n      <th>nome</th>\n      <th>idade</th>\n      <th>nota_final</th>\n    </tr>\n  </thead>\n  <tbody>\n    <tr>\n      <th>0</th>\n      <td>João</td>\n      <td>20</td>\n      <td>5.0</td>\n    </tr>\n    <tr>\n      <th>1</th>\n      <td>Maria</td>\n      <td>21</td>\n      <td>10.0</td>\n    </tr>\n    <tr>\n      <th>2</th>\n      <td>José</td>\n      <td>19</td>\n      <td>6.0</td>\n    </tr>\n    <tr>\n      <th>3</th>\n      <td>Alice</td>\n      <td>20</td>\n      <td>10.0</td>\n    </tr>\n  </tbody>\n</table>\n</div>"
          },
          "metadata": {}
        }
      ],
      "execution_count": 233
    },
    {
      "id": "focal-compact",
      "cell_type": "markdown",
      "source": "Para alterá-lo, use o argumento `inplace=True`:",
      "metadata": {}
    },
    {
      "id": "advanced-aberdeen",
      "cell_type": "code",
      "source": "notas.sort_values(by=['nota_final', 'nome'], ascending=[False, True], inplace=True)",
      "metadata": {
        "trusted": true
      },
      "outputs": [],
      "execution_count": 234
    },
    {
      "id": "announced-genetics",
      "cell_type": "code",
      "source": "notas",
      "metadata": {
        "trusted": true
      },
      "outputs": [
        {
          "execution_count": 235,
          "output_type": "execute_result",
          "data": {
            "text/plain": "    nome  idade  nota_final\n3  Alice     20        10.0\n1  Maria     21        10.0\n2   José     19         6.0\n0   João     20         5.0",
            "text/html": "<div>\n<style scoped>\n    .dataframe tbody tr th:only-of-type {\n        vertical-align: middle;\n    }\n\n    .dataframe tbody tr th {\n        vertical-align: top;\n    }\n\n    .dataframe thead th {\n        text-align: right;\n    }\n</style>\n<table border=\"1\" class=\"dataframe\">\n  <thead>\n    <tr style=\"text-align: right;\">\n      <th></th>\n      <th>nome</th>\n      <th>idade</th>\n      <th>nota_final</th>\n    </tr>\n  </thead>\n  <tbody>\n    <tr>\n      <th>3</th>\n      <td>Alice</td>\n      <td>20</td>\n      <td>10.0</td>\n    </tr>\n    <tr>\n      <th>1</th>\n      <td>Maria</td>\n      <td>21</td>\n      <td>10.0</td>\n    </tr>\n    <tr>\n      <th>2</th>\n      <td>José</td>\n      <td>19</td>\n      <td>6.0</td>\n    </tr>\n    <tr>\n      <th>0</th>\n      <td>João</td>\n      <td>20</td>\n      <td>5.0</td>\n    </tr>\n  </tbody>\n</table>\n</div>"
          },
          "metadata": {}
        }
      ],
      "execution_count": 235
    },
    {
      "id": "functional-clark",
      "cell_type": "markdown",
      "source": "<h2>7. Exercícios</h2>\n<hr/>",
      "metadata": {}
    },
    {
      "id": "democratic-commonwealth",
      "cell_type": "markdown",
      "source": "Vamos aplicar os conceitos que vimos em alguns exercícios. <br/>\nPara isso, utilizaremos o dataset de _preços de combustíveis no Brasil_.\n\nComo há apenas medições de janeiro a junho para o ano de 2019, resolvemos **remover os dados** deste ano da análise.",
      "metadata": {}
    },
    {
      "id": "cardiovascular-daily",
      "cell_type": "code",
      "source": "data",
      "metadata": {
        "trusted": true
      },
      "outputs": [
        {
          "execution_count": 236,
          "output_type": "execute_result",
          "data": {
            "text/plain": "       DATA INICIAL  DATA FINAL        REGIÃO              ESTADO  \\\n0        2004-05-09  2004-05-15  CENTRO OESTE    DISTRITO FEDERAL   \n1        2004-05-09  2004-05-15  CENTRO OESTE               GOIAS   \n2        2004-05-09  2004-05-15  CENTRO OESTE         MATO GROSSO   \n3        2004-05-09  2004-05-15  CENTRO OESTE  MATO GROSSO DO SUL   \n4        2004-05-09  2004-05-15      NORDESTE             ALAGOAS   \n...             ...         ...           ...                 ...   \n120818   2021-04-25  2021-05-01         NORTE             RORAIMA   \n120819   2021-04-25  2021-05-01           SUL      SANTA CATARINA   \n120820   2021-04-25  2021-05-01       SUDESTE           SAO PAULO   \n120821   2021-04-25  2021-05-01      NORDESTE             SERGIPE   \n120822   2021-04-25  2021-05-01         NORTE           TOCANTINS   \n\n                 PRODUTO  NÚMERO DE POSTOS PESQUISADOS UNIDADE DE MEDIDA  \\\n0       ETANOL HIDRATADO                           127              R$/l   \n1       ETANOL HIDRATADO                           387              R$/l   \n2       ETANOL HIDRATADO                           192              R$/l   \n3       ETANOL HIDRATADO                           162              R$/l   \n4       ETANOL HIDRATADO                           103              R$/l   \n...                  ...                           ...               ...   \n120818   OLEO DIESEL S10                            12              R$/l   \n120819   OLEO DIESEL S10                           100              R$/l   \n120820   OLEO DIESEL S10                           886              R$/l   \n120821   OLEO DIESEL S10                            33              R$/l   \n120822   OLEO DIESEL S10                            18              R$/l   \n\n        PREÇO MÉDIO REVENDA  DESVIO PADRÃO REVENDA  PREÇO MÍNIMO REVENDA  \\\n0                     1.288                  0.016                 1.190   \n1                     1.162                  0.114                 0.890   \n2                     1.389                  0.097                 1.180   \n3                     1.262                  0.070                 1.090   \n4                     1.181                  0.078                 1.050   \n...                     ...                    ...                   ...   \n120818                4.582                  0.056                 4.510   \n120819                4.141                  0.187                 3.838   \n120820                4.246                  0.216                 3.769   \n120821                4.464                  0.205                 4.190   \n120822                4.352                  0.156                 4.199   \n\n        PREÇO MÁXIMO REVENDA MARGEM MÉDIA REVENDA  COEF DE VARIAÇÃO REVENDA  \\\n0                      1.350                0.463                     0.012   \n1                      1.449                0.399                     0.098   \n2                      1.760                0.419                     0.070   \n3                      1.509                0.432                     0.055   \n4                      1.400                 0.24                     0.066   \n...                      ...                  ...                       ...   \n120818                 4.690             -99999.0                     0.012   \n120819                 4.739             -99999.0                     0.045   \n120820                 5.199             -99999.0                     0.051   \n120821                 4.699             -99999.0                     0.046   \n120822                 4.699             -99999.0                     0.036   \n\n       PREÇO MÉDIO DISTRIBUIÇÃO DESVIO PADRÃO DISTRIBUIÇÃO  \\\n0                         0.825                       0.11   \n1                         0.763                      0.088   \n2                          0.97                      0.095   \n3                          0.83                      0.119   \n4                         0.941                      0.077   \n...                         ...                        ...   \n120818                 -99999.0                   -99999.0   \n120819                 -99999.0                   -99999.0   \n120820                 -99999.0                   -99999.0   \n120821                 -99999.0                   -99999.0   \n120822                 -99999.0                   -99999.0   \n\n       PREÇO MÍNIMO DISTRIBUIÇÃO PREÇO MÁXIMO DISTRIBUIÇÃO  \\\n0                         0.4201                    0.9666   \n1                         0.5013                      1.05   \n2                         0.5614                     1.161   \n3                         0.5991                   1.22242   \n4                         0.7441                    1.0317   \n...                          ...                       ...   \n120818                  -99999.0                  -99999.0   \n120819                  -99999.0                  -99999.0   \n120820                  -99999.0                  -99999.0   \n120821                  -99999.0                  -99999.0   \n120822                  -99999.0                  -99999.0   \n\n       COEF DE VARIAÇÃO DISTRIBUIÇÃO   Ano  \n0                              0.133  2017  \n1                              0.115  2018  \n2                              0.098  2019  \n3                              0.143  2020  \n4                              0.082  2021  \n...                              ...   ...  \n120818                      -99999.0  2020  \n120819                      -99999.0  2021  \n120820                      -99999.0  2017  \n120821                      -99999.0  2018  \n120822                      -99999.0  2019  \n\n[120823 rows x 19 columns]",
            "text/html": "<div>\n<style scoped>\n    .dataframe tbody tr th:only-of-type {\n        vertical-align: middle;\n    }\n\n    .dataframe tbody tr th {\n        vertical-align: top;\n    }\n\n    .dataframe thead th {\n        text-align: right;\n    }\n</style>\n<table border=\"1\" class=\"dataframe\">\n  <thead>\n    <tr style=\"text-align: right;\">\n      <th></th>\n      <th>DATA INICIAL</th>\n      <th>DATA FINAL</th>\n      <th>REGIÃO</th>\n      <th>ESTADO</th>\n      <th>PRODUTO</th>\n      <th>NÚMERO DE POSTOS PESQUISADOS</th>\n      <th>UNIDADE DE MEDIDA</th>\n      <th>PREÇO MÉDIO REVENDA</th>\n      <th>DESVIO PADRÃO REVENDA</th>\n      <th>PREÇO MÍNIMO REVENDA</th>\n      <th>PREÇO MÁXIMO REVENDA</th>\n      <th>MARGEM MÉDIA REVENDA</th>\n      <th>COEF DE VARIAÇÃO REVENDA</th>\n      <th>PREÇO MÉDIO DISTRIBUIÇÃO</th>\n      <th>DESVIO PADRÃO DISTRIBUIÇÃO</th>\n      <th>PREÇO MÍNIMO DISTRIBUIÇÃO</th>\n      <th>PREÇO MÁXIMO DISTRIBUIÇÃO</th>\n      <th>COEF DE VARIAÇÃO DISTRIBUIÇÃO</th>\n      <th>Ano</th>\n    </tr>\n  </thead>\n  <tbody>\n    <tr>\n      <th>0</th>\n      <td>2004-05-09</td>\n      <td>2004-05-15</td>\n      <td>CENTRO OESTE</td>\n      <td>DISTRITO FEDERAL</td>\n      <td>ETANOL HIDRATADO</td>\n      <td>127</td>\n      <td>R$/l</td>\n      <td>1.288</td>\n      <td>0.016</td>\n      <td>1.190</td>\n      <td>1.350</td>\n      <td>0.463</td>\n      <td>0.012</td>\n      <td>0.825</td>\n      <td>0.11</td>\n      <td>0.4201</td>\n      <td>0.9666</td>\n      <td>0.133</td>\n      <td>2017</td>\n    </tr>\n    <tr>\n      <th>1</th>\n      <td>2004-05-09</td>\n      <td>2004-05-15</td>\n      <td>CENTRO OESTE</td>\n      <td>GOIAS</td>\n      <td>ETANOL HIDRATADO</td>\n      <td>387</td>\n      <td>R$/l</td>\n      <td>1.162</td>\n      <td>0.114</td>\n      <td>0.890</td>\n      <td>1.449</td>\n      <td>0.399</td>\n      <td>0.098</td>\n      <td>0.763</td>\n      <td>0.088</td>\n      <td>0.5013</td>\n      <td>1.05</td>\n      <td>0.115</td>\n      <td>2018</td>\n    </tr>\n    <tr>\n      <th>2</th>\n      <td>2004-05-09</td>\n      <td>2004-05-15</td>\n      <td>CENTRO OESTE</td>\n      <td>MATO GROSSO</td>\n      <td>ETANOL HIDRATADO</td>\n      <td>192</td>\n      <td>R$/l</td>\n      <td>1.389</td>\n      <td>0.097</td>\n      <td>1.180</td>\n      <td>1.760</td>\n      <td>0.419</td>\n      <td>0.070</td>\n      <td>0.97</td>\n      <td>0.095</td>\n      <td>0.5614</td>\n      <td>1.161</td>\n      <td>0.098</td>\n      <td>2019</td>\n    </tr>\n    <tr>\n      <th>3</th>\n      <td>2004-05-09</td>\n      <td>2004-05-15</td>\n      <td>CENTRO OESTE</td>\n      <td>MATO GROSSO DO SUL</td>\n      <td>ETANOL HIDRATADO</td>\n      <td>162</td>\n      <td>R$/l</td>\n      <td>1.262</td>\n      <td>0.070</td>\n      <td>1.090</td>\n      <td>1.509</td>\n      <td>0.432</td>\n      <td>0.055</td>\n      <td>0.83</td>\n      <td>0.119</td>\n      <td>0.5991</td>\n      <td>1.22242</td>\n      <td>0.143</td>\n      <td>2020</td>\n    </tr>\n    <tr>\n      <th>4</th>\n      <td>2004-05-09</td>\n      <td>2004-05-15</td>\n      <td>NORDESTE</td>\n      <td>ALAGOAS</td>\n      <td>ETANOL HIDRATADO</td>\n      <td>103</td>\n      <td>R$/l</td>\n      <td>1.181</td>\n      <td>0.078</td>\n      <td>1.050</td>\n      <td>1.400</td>\n      <td>0.24</td>\n      <td>0.066</td>\n      <td>0.941</td>\n      <td>0.077</td>\n      <td>0.7441</td>\n      <td>1.0317</td>\n      <td>0.082</td>\n      <td>2021</td>\n    </tr>\n    <tr>\n      <th>...</th>\n      <td>...</td>\n      <td>...</td>\n      <td>...</td>\n      <td>...</td>\n      <td>...</td>\n      <td>...</td>\n      <td>...</td>\n      <td>...</td>\n      <td>...</td>\n      <td>...</td>\n      <td>...</td>\n      <td>...</td>\n      <td>...</td>\n      <td>...</td>\n      <td>...</td>\n      <td>...</td>\n      <td>...</td>\n      <td>...</td>\n      <td>...</td>\n    </tr>\n    <tr>\n      <th>120818</th>\n      <td>2021-04-25</td>\n      <td>2021-05-01</td>\n      <td>NORTE</td>\n      <td>RORAIMA</td>\n      <td>OLEO DIESEL S10</td>\n      <td>12</td>\n      <td>R$/l</td>\n      <td>4.582</td>\n      <td>0.056</td>\n      <td>4.510</td>\n      <td>4.690</td>\n      <td>-99999.0</td>\n      <td>0.012</td>\n      <td>-99999.0</td>\n      <td>-99999.0</td>\n      <td>-99999.0</td>\n      <td>-99999.0</td>\n      <td>-99999.0</td>\n      <td>2020</td>\n    </tr>\n    <tr>\n      <th>120819</th>\n      <td>2021-04-25</td>\n      <td>2021-05-01</td>\n      <td>SUL</td>\n      <td>SANTA CATARINA</td>\n      <td>OLEO DIESEL S10</td>\n      <td>100</td>\n      <td>R$/l</td>\n      <td>4.141</td>\n      <td>0.187</td>\n      <td>3.838</td>\n      <td>4.739</td>\n      <td>-99999.0</td>\n      <td>0.045</td>\n      <td>-99999.0</td>\n      <td>-99999.0</td>\n      <td>-99999.0</td>\n      <td>-99999.0</td>\n      <td>-99999.0</td>\n      <td>2021</td>\n    </tr>\n    <tr>\n      <th>120820</th>\n      <td>2021-04-25</td>\n      <td>2021-05-01</td>\n      <td>SUDESTE</td>\n      <td>SAO PAULO</td>\n      <td>OLEO DIESEL S10</td>\n      <td>886</td>\n      <td>R$/l</td>\n      <td>4.246</td>\n      <td>0.216</td>\n      <td>3.769</td>\n      <td>5.199</td>\n      <td>-99999.0</td>\n      <td>0.051</td>\n      <td>-99999.0</td>\n      <td>-99999.0</td>\n      <td>-99999.0</td>\n      <td>-99999.0</td>\n      <td>-99999.0</td>\n      <td>2017</td>\n    </tr>\n    <tr>\n      <th>120821</th>\n      <td>2021-04-25</td>\n      <td>2021-05-01</td>\n      <td>NORDESTE</td>\n      <td>SERGIPE</td>\n      <td>OLEO DIESEL S10</td>\n      <td>33</td>\n      <td>R$/l</td>\n      <td>4.464</td>\n      <td>0.205</td>\n      <td>4.190</td>\n      <td>4.699</td>\n      <td>-99999.0</td>\n      <td>0.046</td>\n      <td>-99999.0</td>\n      <td>-99999.0</td>\n      <td>-99999.0</td>\n      <td>-99999.0</td>\n      <td>-99999.0</td>\n      <td>2018</td>\n    </tr>\n    <tr>\n      <th>120822</th>\n      <td>2021-04-25</td>\n      <td>2021-05-01</td>\n      <td>NORTE</td>\n      <td>TOCANTINS</td>\n      <td>OLEO DIESEL S10</td>\n      <td>18</td>\n      <td>R$/l</td>\n      <td>4.352</td>\n      <td>0.156</td>\n      <td>4.199</td>\n      <td>4.699</td>\n      <td>-99999.0</td>\n      <td>0.036</td>\n      <td>-99999.0</td>\n      <td>-99999.0</td>\n      <td>-99999.0</td>\n      <td>-99999.0</td>\n      <td>-99999.0</td>\n      <td>2019</td>\n    </tr>\n  </tbody>\n</table>\n<p>120823 rows × 19 columns</p>\n</div>"
          },
          "metadata": {}
        }
      ],
      "execution_count": 236
    },
    {
      "id": "15174d6b-e98e-4ade-9624-fc9fb143e696",
      "cell_type": "code",
      "source": "data.query('Ano != 2019')",
      "metadata": {
        "trusted": true
      },
      "outputs": [
        {
          "execution_count": 238,
          "output_type": "execute_result",
          "data": {
            "text/plain": "       DATA INICIAL  DATA FINAL        REGIÃO              ESTADO  \\\n0        2004-05-09  2004-05-15  CENTRO OESTE    DISTRITO FEDERAL   \n1        2004-05-09  2004-05-15  CENTRO OESTE               GOIAS   \n3        2004-05-09  2004-05-15  CENTRO OESTE  MATO GROSSO DO SUL   \n4        2004-05-09  2004-05-15      NORDESTE             ALAGOAS   \n5        2004-05-09  2004-05-15      NORDESTE               BAHIA   \n...             ...         ...           ...                 ...   \n120816   2021-04-25  2021-05-01           SUL   RIO GRANDE DO SUL   \n120818   2021-04-25  2021-05-01         NORTE             RORAIMA   \n120819   2021-04-25  2021-05-01           SUL      SANTA CATARINA   \n120820   2021-04-25  2021-05-01       SUDESTE           SAO PAULO   \n120821   2021-04-25  2021-05-01      NORDESTE             SERGIPE   \n\n                 PRODUTO  NÚMERO DE POSTOS PESQUISADOS UNIDADE DE MEDIDA  \\\n0       ETANOL HIDRATADO                           127              R$/l   \n1       ETANOL HIDRATADO                           387              R$/l   \n3       ETANOL HIDRATADO                           162              R$/l   \n4       ETANOL HIDRATADO                           103              R$/l   \n5       ETANOL HIDRATADO                           408              R$/l   \n...                  ...                           ...               ...   \n120816   OLEO DIESEL S10                           148              R$/l   \n120818   OLEO DIESEL S10                            12              R$/l   \n120819   OLEO DIESEL S10                           100              R$/l   \n120820   OLEO DIESEL S10                           886              R$/l   \n120821   OLEO DIESEL S10                            33              R$/l   \n\n        PREÇO MÉDIO REVENDA  DESVIO PADRÃO REVENDA  PREÇO MÍNIMO REVENDA  \\\n0                     1.288                  0.016                 1.190   \n1                     1.162                  0.114                 0.890   \n3                     1.262                  0.070                 1.090   \n4                     1.181                  0.078                 1.050   \n5                     1.383                  0.132                 0.999   \n...                     ...                    ...                   ...   \n120816                4.140                  0.236                 3.849   \n120818                4.582                  0.056                 4.510   \n120819                4.141                  0.187                 3.838   \n120820                4.246                  0.216                 3.769   \n120821                4.464                  0.205                 4.190   \n\n        PREÇO MÁXIMO REVENDA MARGEM MÉDIA REVENDA  COEF DE VARIAÇÃO REVENDA  \\\n0                      1.350                0.463                     0.012   \n1                      1.449                0.399                     0.098   \n3                      1.509                0.432                     0.055   \n4                      1.400                 0.24                     0.066   \n5                      2.050                0.426                     0.095   \n...                      ...                  ...                       ...   \n120816                 4.949             -99999.0                     0.057   \n120818                 4.690             -99999.0                     0.012   \n120819                 4.739             -99999.0                     0.045   \n120820                 5.199             -99999.0                     0.051   \n120821                 4.699             -99999.0                     0.046   \n\n       PREÇO MÉDIO DISTRIBUIÇÃO DESVIO PADRÃO DISTRIBUIÇÃO  \\\n0                         0.825                       0.11   \n1                         0.763                      0.088   \n3                          0.83                      0.119   \n4                         0.941                      0.077   \n5                         0.957                      0.128   \n...                         ...                        ...   \n120816                 -99999.0                   -99999.0   \n120818                 -99999.0                   -99999.0   \n120819                 -99999.0                   -99999.0   \n120820                 -99999.0                   -99999.0   \n120821                 -99999.0                   -99999.0   \n\n       PREÇO MÍNIMO DISTRIBUIÇÃO PREÇO MÁXIMO DISTRIBUIÇÃO  \\\n0                         0.4201                    0.9666   \n1                         0.5013                      1.05   \n3                         0.5991                   1.22242   \n4                         0.7441                    1.0317   \n5                         0.5686                      1.35   \n...                          ...                       ...   \n120816                  -99999.0                  -99999.0   \n120818                  -99999.0                  -99999.0   \n120819                  -99999.0                  -99999.0   \n120820                  -99999.0                  -99999.0   \n120821                  -99999.0                  -99999.0   \n\n       COEF DE VARIAÇÃO DISTRIBUIÇÃO   Ano  \n0                              0.133  2017  \n1                              0.115  2018  \n3                              0.143  2020  \n4                              0.082  2021  \n5                              0.134  2017  \n...                              ...   ...  \n120816                      -99999.0  2018  \n120818                      -99999.0  2020  \n120819                      -99999.0  2021  \n120820                      -99999.0  2017  \n120821                      -99999.0  2018  \n\n[96658 rows x 19 columns]",
            "text/html": "<div>\n<style scoped>\n    .dataframe tbody tr th:only-of-type {\n        vertical-align: middle;\n    }\n\n    .dataframe tbody tr th {\n        vertical-align: top;\n    }\n\n    .dataframe thead th {\n        text-align: right;\n    }\n</style>\n<table border=\"1\" class=\"dataframe\">\n  <thead>\n    <tr style=\"text-align: right;\">\n      <th></th>\n      <th>DATA INICIAL</th>\n      <th>DATA FINAL</th>\n      <th>REGIÃO</th>\n      <th>ESTADO</th>\n      <th>PRODUTO</th>\n      <th>NÚMERO DE POSTOS PESQUISADOS</th>\n      <th>UNIDADE DE MEDIDA</th>\n      <th>PREÇO MÉDIO REVENDA</th>\n      <th>DESVIO PADRÃO REVENDA</th>\n      <th>PREÇO MÍNIMO REVENDA</th>\n      <th>PREÇO MÁXIMO REVENDA</th>\n      <th>MARGEM MÉDIA REVENDA</th>\n      <th>COEF DE VARIAÇÃO REVENDA</th>\n      <th>PREÇO MÉDIO DISTRIBUIÇÃO</th>\n      <th>DESVIO PADRÃO DISTRIBUIÇÃO</th>\n      <th>PREÇO MÍNIMO DISTRIBUIÇÃO</th>\n      <th>PREÇO MÁXIMO DISTRIBUIÇÃO</th>\n      <th>COEF DE VARIAÇÃO DISTRIBUIÇÃO</th>\n      <th>Ano</th>\n    </tr>\n  </thead>\n  <tbody>\n    <tr>\n      <th>0</th>\n      <td>2004-05-09</td>\n      <td>2004-05-15</td>\n      <td>CENTRO OESTE</td>\n      <td>DISTRITO FEDERAL</td>\n      <td>ETANOL HIDRATADO</td>\n      <td>127</td>\n      <td>R$/l</td>\n      <td>1.288</td>\n      <td>0.016</td>\n      <td>1.190</td>\n      <td>1.350</td>\n      <td>0.463</td>\n      <td>0.012</td>\n      <td>0.825</td>\n      <td>0.11</td>\n      <td>0.4201</td>\n      <td>0.9666</td>\n      <td>0.133</td>\n      <td>2017</td>\n    </tr>\n    <tr>\n      <th>1</th>\n      <td>2004-05-09</td>\n      <td>2004-05-15</td>\n      <td>CENTRO OESTE</td>\n      <td>GOIAS</td>\n      <td>ETANOL HIDRATADO</td>\n      <td>387</td>\n      <td>R$/l</td>\n      <td>1.162</td>\n      <td>0.114</td>\n      <td>0.890</td>\n      <td>1.449</td>\n      <td>0.399</td>\n      <td>0.098</td>\n      <td>0.763</td>\n      <td>0.088</td>\n      <td>0.5013</td>\n      <td>1.05</td>\n      <td>0.115</td>\n      <td>2018</td>\n    </tr>\n    <tr>\n      <th>3</th>\n      <td>2004-05-09</td>\n      <td>2004-05-15</td>\n      <td>CENTRO OESTE</td>\n      <td>MATO GROSSO DO SUL</td>\n      <td>ETANOL HIDRATADO</td>\n      <td>162</td>\n      <td>R$/l</td>\n      <td>1.262</td>\n      <td>0.070</td>\n      <td>1.090</td>\n      <td>1.509</td>\n      <td>0.432</td>\n      <td>0.055</td>\n      <td>0.83</td>\n      <td>0.119</td>\n      <td>0.5991</td>\n      <td>1.22242</td>\n      <td>0.143</td>\n      <td>2020</td>\n    </tr>\n    <tr>\n      <th>4</th>\n      <td>2004-05-09</td>\n      <td>2004-05-15</td>\n      <td>NORDESTE</td>\n      <td>ALAGOAS</td>\n      <td>ETANOL HIDRATADO</td>\n      <td>103</td>\n      <td>R$/l</td>\n      <td>1.181</td>\n      <td>0.078</td>\n      <td>1.050</td>\n      <td>1.400</td>\n      <td>0.24</td>\n      <td>0.066</td>\n      <td>0.941</td>\n      <td>0.077</td>\n      <td>0.7441</td>\n      <td>1.0317</td>\n      <td>0.082</td>\n      <td>2021</td>\n    </tr>\n    <tr>\n      <th>5</th>\n      <td>2004-05-09</td>\n      <td>2004-05-15</td>\n      <td>NORDESTE</td>\n      <td>BAHIA</td>\n      <td>ETANOL HIDRATADO</td>\n      <td>408</td>\n      <td>R$/l</td>\n      <td>1.383</td>\n      <td>0.132</td>\n      <td>0.999</td>\n      <td>2.050</td>\n      <td>0.426</td>\n      <td>0.095</td>\n      <td>0.957</td>\n      <td>0.128</td>\n      <td>0.5686</td>\n      <td>1.35</td>\n      <td>0.134</td>\n      <td>2017</td>\n    </tr>\n    <tr>\n      <th>...</th>\n      <td>...</td>\n      <td>...</td>\n      <td>...</td>\n      <td>...</td>\n      <td>...</td>\n      <td>...</td>\n      <td>...</td>\n      <td>...</td>\n      <td>...</td>\n      <td>...</td>\n      <td>...</td>\n      <td>...</td>\n      <td>...</td>\n      <td>...</td>\n      <td>...</td>\n      <td>...</td>\n      <td>...</td>\n      <td>...</td>\n      <td>...</td>\n    </tr>\n    <tr>\n      <th>120816</th>\n      <td>2021-04-25</td>\n      <td>2021-05-01</td>\n      <td>SUL</td>\n      <td>RIO GRANDE DO SUL</td>\n      <td>OLEO DIESEL S10</td>\n      <td>148</td>\n      <td>R$/l</td>\n      <td>4.140</td>\n      <td>0.236</td>\n      <td>3.849</td>\n      <td>4.949</td>\n      <td>-99999.0</td>\n      <td>0.057</td>\n      <td>-99999.0</td>\n      <td>-99999.0</td>\n      <td>-99999.0</td>\n      <td>-99999.0</td>\n      <td>-99999.0</td>\n      <td>2018</td>\n    </tr>\n    <tr>\n      <th>120818</th>\n      <td>2021-04-25</td>\n      <td>2021-05-01</td>\n      <td>NORTE</td>\n      <td>RORAIMA</td>\n      <td>OLEO DIESEL S10</td>\n      <td>12</td>\n      <td>R$/l</td>\n      <td>4.582</td>\n      <td>0.056</td>\n      <td>4.510</td>\n      <td>4.690</td>\n      <td>-99999.0</td>\n      <td>0.012</td>\n      <td>-99999.0</td>\n      <td>-99999.0</td>\n      <td>-99999.0</td>\n      <td>-99999.0</td>\n      <td>-99999.0</td>\n      <td>2020</td>\n    </tr>\n    <tr>\n      <th>120819</th>\n      <td>2021-04-25</td>\n      <td>2021-05-01</td>\n      <td>SUL</td>\n      <td>SANTA CATARINA</td>\n      <td>OLEO DIESEL S10</td>\n      <td>100</td>\n      <td>R$/l</td>\n      <td>4.141</td>\n      <td>0.187</td>\n      <td>3.838</td>\n      <td>4.739</td>\n      <td>-99999.0</td>\n      <td>0.045</td>\n      <td>-99999.0</td>\n      <td>-99999.0</td>\n      <td>-99999.0</td>\n      <td>-99999.0</td>\n      <td>-99999.0</td>\n      <td>2021</td>\n    </tr>\n    <tr>\n      <th>120820</th>\n      <td>2021-04-25</td>\n      <td>2021-05-01</td>\n      <td>SUDESTE</td>\n      <td>SAO PAULO</td>\n      <td>OLEO DIESEL S10</td>\n      <td>886</td>\n      <td>R$/l</td>\n      <td>4.246</td>\n      <td>0.216</td>\n      <td>3.769</td>\n      <td>5.199</td>\n      <td>-99999.0</td>\n      <td>0.051</td>\n      <td>-99999.0</td>\n      <td>-99999.0</td>\n      <td>-99999.0</td>\n      <td>-99999.0</td>\n      <td>-99999.0</td>\n      <td>2017</td>\n    </tr>\n    <tr>\n      <th>120821</th>\n      <td>2021-04-25</td>\n      <td>2021-05-01</td>\n      <td>NORDESTE</td>\n      <td>SERGIPE</td>\n      <td>OLEO DIESEL S10</td>\n      <td>33</td>\n      <td>R$/l</td>\n      <td>4.464</td>\n      <td>0.205</td>\n      <td>4.190</td>\n      <td>4.699</td>\n      <td>-99999.0</td>\n      <td>0.046</td>\n      <td>-99999.0</td>\n      <td>-99999.0</td>\n      <td>-99999.0</td>\n      <td>-99999.0</td>\n      <td>-99999.0</td>\n      <td>2018</td>\n    </tr>\n  </tbody>\n</table>\n<p>96658 rows × 19 columns</p>\n</div>"
          },
          "metadata": {}
        }
      ],
      "execution_count": 238
    },
    {
      "id": "mexican-guinea",
      "cell_type": "markdown",
      "source": "Note que temos um novo dataframe com 96658 linhas",
      "metadata": {}
    },
    {
      "id": "combined-release",
      "cell_type": "code",
      "source": "df = data.query('Ano != 2019')\ndf",
      "metadata": {
        "trusted": true
      },
      "outputs": [
        {
          "execution_count": 240,
          "output_type": "execute_result",
          "data": {
            "text/plain": "       DATA INICIAL  DATA FINAL        REGIÃO              ESTADO  \\\n0        2004-05-09  2004-05-15  CENTRO OESTE    DISTRITO FEDERAL   \n1        2004-05-09  2004-05-15  CENTRO OESTE               GOIAS   \n3        2004-05-09  2004-05-15  CENTRO OESTE  MATO GROSSO DO SUL   \n4        2004-05-09  2004-05-15      NORDESTE             ALAGOAS   \n5        2004-05-09  2004-05-15      NORDESTE               BAHIA   \n...             ...         ...           ...                 ...   \n120816   2021-04-25  2021-05-01           SUL   RIO GRANDE DO SUL   \n120818   2021-04-25  2021-05-01         NORTE             RORAIMA   \n120819   2021-04-25  2021-05-01           SUL      SANTA CATARINA   \n120820   2021-04-25  2021-05-01       SUDESTE           SAO PAULO   \n120821   2021-04-25  2021-05-01      NORDESTE             SERGIPE   \n\n                 PRODUTO  NÚMERO DE POSTOS PESQUISADOS UNIDADE DE MEDIDA  \\\n0       ETANOL HIDRATADO                           127              R$/l   \n1       ETANOL HIDRATADO                           387              R$/l   \n3       ETANOL HIDRATADO                           162              R$/l   \n4       ETANOL HIDRATADO                           103              R$/l   \n5       ETANOL HIDRATADO                           408              R$/l   \n...                  ...                           ...               ...   \n120816   OLEO DIESEL S10                           148              R$/l   \n120818   OLEO DIESEL S10                            12              R$/l   \n120819   OLEO DIESEL S10                           100              R$/l   \n120820   OLEO DIESEL S10                           886              R$/l   \n120821   OLEO DIESEL S10                            33              R$/l   \n\n        PREÇO MÉDIO REVENDA  DESVIO PADRÃO REVENDA  PREÇO MÍNIMO REVENDA  \\\n0                     1.288                  0.016                 1.190   \n1                     1.162                  0.114                 0.890   \n3                     1.262                  0.070                 1.090   \n4                     1.181                  0.078                 1.050   \n5                     1.383                  0.132                 0.999   \n...                     ...                    ...                   ...   \n120816                4.140                  0.236                 3.849   \n120818                4.582                  0.056                 4.510   \n120819                4.141                  0.187                 3.838   \n120820                4.246                  0.216                 3.769   \n120821                4.464                  0.205                 4.190   \n\n        PREÇO MÁXIMO REVENDA MARGEM MÉDIA REVENDA  COEF DE VARIAÇÃO REVENDA  \\\n0                      1.350                0.463                     0.012   \n1                      1.449                0.399                     0.098   \n3                      1.509                0.432                     0.055   \n4                      1.400                 0.24                     0.066   \n5                      2.050                0.426                     0.095   \n...                      ...                  ...                       ...   \n120816                 4.949             -99999.0                     0.057   \n120818                 4.690             -99999.0                     0.012   \n120819                 4.739             -99999.0                     0.045   \n120820                 5.199             -99999.0                     0.051   \n120821                 4.699             -99999.0                     0.046   \n\n       PREÇO MÉDIO DISTRIBUIÇÃO DESVIO PADRÃO DISTRIBUIÇÃO  \\\n0                         0.825                       0.11   \n1                         0.763                      0.088   \n3                          0.83                      0.119   \n4                         0.941                      0.077   \n5                         0.957                      0.128   \n...                         ...                        ...   \n120816                 -99999.0                   -99999.0   \n120818                 -99999.0                   -99999.0   \n120819                 -99999.0                   -99999.0   \n120820                 -99999.0                   -99999.0   \n120821                 -99999.0                   -99999.0   \n\n       PREÇO MÍNIMO DISTRIBUIÇÃO PREÇO MÁXIMO DISTRIBUIÇÃO  \\\n0                         0.4201                    0.9666   \n1                         0.5013                      1.05   \n3                         0.5991                   1.22242   \n4                         0.7441                    1.0317   \n5                         0.5686                      1.35   \n...                          ...                       ...   \n120816                  -99999.0                  -99999.0   \n120818                  -99999.0                  -99999.0   \n120819                  -99999.0                  -99999.0   \n120820                  -99999.0                  -99999.0   \n120821                  -99999.0                  -99999.0   \n\n       COEF DE VARIAÇÃO DISTRIBUIÇÃO   Ano  \n0                              0.133  2017  \n1                              0.115  2018  \n3                              0.143  2020  \n4                              0.082  2021  \n5                              0.134  2017  \n...                              ...   ...  \n120816                      -99999.0  2018  \n120818                      -99999.0  2020  \n120819                      -99999.0  2021  \n120820                      -99999.0  2017  \n120821                      -99999.0  2018  \n\n[96658 rows x 19 columns]",
            "text/html": "<div>\n<style scoped>\n    .dataframe tbody tr th:only-of-type {\n        vertical-align: middle;\n    }\n\n    .dataframe tbody tr th {\n        vertical-align: top;\n    }\n\n    .dataframe thead th {\n        text-align: right;\n    }\n</style>\n<table border=\"1\" class=\"dataframe\">\n  <thead>\n    <tr style=\"text-align: right;\">\n      <th></th>\n      <th>DATA INICIAL</th>\n      <th>DATA FINAL</th>\n      <th>REGIÃO</th>\n      <th>ESTADO</th>\n      <th>PRODUTO</th>\n      <th>NÚMERO DE POSTOS PESQUISADOS</th>\n      <th>UNIDADE DE MEDIDA</th>\n      <th>PREÇO MÉDIO REVENDA</th>\n      <th>DESVIO PADRÃO REVENDA</th>\n      <th>PREÇO MÍNIMO REVENDA</th>\n      <th>PREÇO MÁXIMO REVENDA</th>\n      <th>MARGEM MÉDIA REVENDA</th>\n      <th>COEF DE VARIAÇÃO REVENDA</th>\n      <th>PREÇO MÉDIO DISTRIBUIÇÃO</th>\n      <th>DESVIO PADRÃO DISTRIBUIÇÃO</th>\n      <th>PREÇO MÍNIMO DISTRIBUIÇÃO</th>\n      <th>PREÇO MÁXIMO DISTRIBUIÇÃO</th>\n      <th>COEF DE VARIAÇÃO DISTRIBUIÇÃO</th>\n      <th>Ano</th>\n    </tr>\n  </thead>\n  <tbody>\n    <tr>\n      <th>0</th>\n      <td>2004-05-09</td>\n      <td>2004-05-15</td>\n      <td>CENTRO OESTE</td>\n      <td>DISTRITO FEDERAL</td>\n      <td>ETANOL HIDRATADO</td>\n      <td>127</td>\n      <td>R$/l</td>\n      <td>1.288</td>\n      <td>0.016</td>\n      <td>1.190</td>\n      <td>1.350</td>\n      <td>0.463</td>\n      <td>0.012</td>\n      <td>0.825</td>\n      <td>0.11</td>\n      <td>0.4201</td>\n      <td>0.9666</td>\n      <td>0.133</td>\n      <td>2017</td>\n    </tr>\n    <tr>\n      <th>1</th>\n      <td>2004-05-09</td>\n      <td>2004-05-15</td>\n      <td>CENTRO OESTE</td>\n      <td>GOIAS</td>\n      <td>ETANOL HIDRATADO</td>\n      <td>387</td>\n      <td>R$/l</td>\n      <td>1.162</td>\n      <td>0.114</td>\n      <td>0.890</td>\n      <td>1.449</td>\n      <td>0.399</td>\n      <td>0.098</td>\n      <td>0.763</td>\n      <td>0.088</td>\n      <td>0.5013</td>\n      <td>1.05</td>\n      <td>0.115</td>\n      <td>2018</td>\n    </tr>\n    <tr>\n      <th>3</th>\n      <td>2004-05-09</td>\n      <td>2004-05-15</td>\n      <td>CENTRO OESTE</td>\n      <td>MATO GROSSO DO SUL</td>\n      <td>ETANOL HIDRATADO</td>\n      <td>162</td>\n      <td>R$/l</td>\n      <td>1.262</td>\n      <td>0.070</td>\n      <td>1.090</td>\n      <td>1.509</td>\n      <td>0.432</td>\n      <td>0.055</td>\n      <td>0.83</td>\n      <td>0.119</td>\n      <td>0.5991</td>\n      <td>1.22242</td>\n      <td>0.143</td>\n      <td>2020</td>\n    </tr>\n    <tr>\n      <th>4</th>\n      <td>2004-05-09</td>\n      <td>2004-05-15</td>\n      <td>NORDESTE</td>\n      <td>ALAGOAS</td>\n      <td>ETANOL HIDRATADO</td>\n      <td>103</td>\n      <td>R$/l</td>\n      <td>1.181</td>\n      <td>0.078</td>\n      <td>1.050</td>\n      <td>1.400</td>\n      <td>0.24</td>\n      <td>0.066</td>\n      <td>0.941</td>\n      <td>0.077</td>\n      <td>0.7441</td>\n      <td>1.0317</td>\n      <td>0.082</td>\n      <td>2021</td>\n    </tr>\n    <tr>\n      <th>5</th>\n      <td>2004-05-09</td>\n      <td>2004-05-15</td>\n      <td>NORDESTE</td>\n      <td>BAHIA</td>\n      <td>ETANOL HIDRATADO</td>\n      <td>408</td>\n      <td>R$/l</td>\n      <td>1.383</td>\n      <td>0.132</td>\n      <td>0.999</td>\n      <td>2.050</td>\n      <td>0.426</td>\n      <td>0.095</td>\n      <td>0.957</td>\n      <td>0.128</td>\n      <td>0.5686</td>\n      <td>1.35</td>\n      <td>0.134</td>\n      <td>2017</td>\n    </tr>\n    <tr>\n      <th>...</th>\n      <td>...</td>\n      <td>...</td>\n      <td>...</td>\n      <td>...</td>\n      <td>...</td>\n      <td>...</td>\n      <td>...</td>\n      <td>...</td>\n      <td>...</td>\n      <td>...</td>\n      <td>...</td>\n      <td>...</td>\n      <td>...</td>\n      <td>...</td>\n      <td>...</td>\n      <td>...</td>\n      <td>...</td>\n      <td>...</td>\n      <td>...</td>\n    </tr>\n    <tr>\n      <th>120816</th>\n      <td>2021-04-25</td>\n      <td>2021-05-01</td>\n      <td>SUL</td>\n      <td>RIO GRANDE DO SUL</td>\n      <td>OLEO DIESEL S10</td>\n      <td>148</td>\n      <td>R$/l</td>\n      <td>4.140</td>\n      <td>0.236</td>\n      <td>3.849</td>\n      <td>4.949</td>\n      <td>-99999.0</td>\n      <td>0.057</td>\n      <td>-99999.0</td>\n      <td>-99999.0</td>\n      <td>-99999.0</td>\n      <td>-99999.0</td>\n      <td>-99999.0</td>\n      <td>2018</td>\n    </tr>\n    <tr>\n      <th>120818</th>\n      <td>2021-04-25</td>\n      <td>2021-05-01</td>\n      <td>NORTE</td>\n      <td>RORAIMA</td>\n      <td>OLEO DIESEL S10</td>\n      <td>12</td>\n      <td>R$/l</td>\n      <td>4.582</td>\n      <td>0.056</td>\n      <td>4.510</td>\n      <td>4.690</td>\n      <td>-99999.0</td>\n      <td>0.012</td>\n      <td>-99999.0</td>\n      <td>-99999.0</td>\n      <td>-99999.0</td>\n      <td>-99999.0</td>\n      <td>-99999.0</td>\n      <td>2020</td>\n    </tr>\n    <tr>\n      <th>120819</th>\n      <td>2021-04-25</td>\n      <td>2021-05-01</td>\n      <td>SUL</td>\n      <td>SANTA CATARINA</td>\n      <td>OLEO DIESEL S10</td>\n      <td>100</td>\n      <td>R$/l</td>\n      <td>4.141</td>\n      <td>0.187</td>\n      <td>3.838</td>\n      <td>4.739</td>\n      <td>-99999.0</td>\n      <td>0.045</td>\n      <td>-99999.0</td>\n      <td>-99999.0</td>\n      <td>-99999.0</td>\n      <td>-99999.0</td>\n      <td>-99999.0</td>\n      <td>2021</td>\n    </tr>\n    <tr>\n      <th>120820</th>\n      <td>2021-04-25</td>\n      <td>2021-05-01</td>\n      <td>SUDESTE</td>\n      <td>SAO PAULO</td>\n      <td>OLEO DIESEL S10</td>\n      <td>886</td>\n      <td>R$/l</td>\n      <td>4.246</td>\n      <td>0.216</td>\n      <td>3.769</td>\n      <td>5.199</td>\n      <td>-99999.0</td>\n      <td>0.051</td>\n      <td>-99999.0</td>\n      <td>-99999.0</td>\n      <td>-99999.0</td>\n      <td>-99999.0</td>\n      <td>-99999.0</td>\n      <td>2017</td>\n    </tr>\n    <tr>\n      <th>120821</th>\n      <td>2021-04-25</td>\n      <td>2021-05-01</td>\n      <td>NORDESTE</td>\n      <td>SERGIPE</td>\n      <td>OLEO DIESEL S10</td>\n      <td>33</td>\n      <td>R$/l</td>\n      <td>4.464</td>\n      <td>0.205</td>\n      <td>4.190</td>\n      <td>4.699</td>\n      <td>-99999.0</td>\n      <td>0.046</td>\n      <td>-99999.0</td>\n      <td>-99999.0</td>\n      <td>-99999.0</td>\n      <td>-99999.0</td>\n      <td>-99999.0</td>\n      <td>2018</td>\n    </tr>\n  </tbody>\n</table>\n<p>96658 rows × 19 columns</p>\n</div>"
          },
          "metadata": {}
        }
      ],
      "execution_count": 240
    },
    {
      "id": "worth-running",
      "cell_type": "markdown",
      "source": "### 7.1 Qual a quantidade de registros de cada produto em cada região?",
      "metadata": {}
    },
    {
      "id": "corrected-major",
      "cell_type": "code",
      "source": "grupos = data.groupby('PRODUTO')\ngrupos",
      "metadata": {
        "trusted": true
      },
      "outputs": [
        {
          "execution_count": 54,
          "output_type": "execute_result",
          "data": {
            "text/plain": "<pandas.core.groupby.generic.DataFrameGroupBy object at 0x84bc7b8>"
          },
          "metadata": {}
        }
      ],
      "execution_count": 54
    },
    {
      "id": "returning-premium",
      "cell_type": "code",
      "source": "grupos['REGIÃO'].value_counts().to_frame()",
      "metadata": {
        "trusted": true
      },
      "outputs": [
        {
          "execution_count": 56,
          "output_type": "execute_result",
          "data": {
            "text/plain": "                                 count\nPRODUTO            REGIÃO             \nETANOL HIDRATADO   NORDESTE       7856\n                   NORTE          5982\n                   CENTRO OESTE   3492\n                   SUDESTE        3492\n                   SUL            2618\nGASOLINA ADITIVADA NORDESTE        248\n                   NORTE           193\n                   CENTRO OESTE    112\n                   SUDESTE         112\n                   SUL              84\nGASOLINA COMUM     NORDESTE       7857\n                   NORTE          6110\n                   CENTRO OESTE   3492\n                   SUDESTE        3492\n                   SUL            2619\nGLP                NORDESTE       7853\n                   NORTE          6110\n                   SUDESTE        3490\n                   CENTRO OESTE   3489\n                   SUL            2619\nGNV                NORDESTE       6180\n                   SUDESTE        3488\n                   SUL            2607\n                   CENTRO OESTE   1671\n                   NORTE           523\nOLEO DIESEL        NORDESTE        781\n                   NORTE           602\n                   CENTRO OESTE    352\n                   SUDESTE         352\n                   SUL             264\nOLEO DIESEL S10    NORDESTE        792\n                   NORTE           616\n                   CENTRO OESTE    352\n                   SUDESTE         352\n                   SUL             264\nÓLEO DIESEL        NORDESTE       7065\n                   NORTE          5494\n                   CENTRO OESTE   3140\n                   SUDESTE        3140\n                   SUL            2355\nÓLEO DIESEL S10    NORDESTE       3039\n                   NORTE          2359\n                   SUDESTE        1352\n                   CENTRO OESTE   1349\n                   SUL            1014",
            "text/html": "<div>\n<style scoped>\n    .dataframe tbody tr th:only-of-type {\n        vertical-align: middle;\n    }\n\n    .dataframe tbody tr th {\n        vertical-align: top;\n    }\n\n    .dataframe thead th {\n        text-align: right;\n    }\n</style>\n<table border=\"1\" class=\"dataframe\">\n  <thead>\n    <tr style=\"text-align: right;\">\n      <th></th>\n      <th></th>\n      <th>count</th>\n    </tr>\n    <tr>\n      <th>PRODUTO</th>\n      <th>REGIÃO</th>\n      <th></th>\n    </tr>\n  </thead>\n  <tbody>\n    <tr>\n      <th rowspan=\"5\" valign=\"top\">ETANOL HIDRATADO</th>\n      <th>NORDESTE</th>\n      <td>7856</td>\n    </tr>\n    <tr>\n      <th>NORTE</th>\n      <td>5982</td>\n    </tr>\n    <tr>\n      <th>CENTRO OESTE</th>\n      <td>3492</td>\n    </tr>\n    <tr>\n      <th>SUDESTE</th>\n      <td>3492</td>\n    </tr>\n    <tr>\n      <th>SUL</th>\n      <td>2618</td>\n    </tr>\n    <tr>\n      <th rowspan=\"5\" valign=\"top\">GASOLINA ADITIVADA</th>\n      <th>NORDESTE</th>\n      <td>248</td>\n    </tr>\n    <tr>\n      <th>NORTE</th>\n      <td>193</td>\n    </tr>\n    <tr>\n      <th>CENTRO OESTE</th>\n      <td>112</td>\n    </tr>\n    <tr>\n      <th>SUDESTE</th>\n      <td>112</td>\n    </tr>\n    <tr>\n      <th>SUL</th>\n      <td>84</td>\n    </tr>\n    <tr>\n      <th rowspan=\"5\" valign=\"top\">GASOLINA COMUM</th>\n      <th>NORDESTE</th>\n      <td>7857</td>\n    </tr>\n    <tr>\n      <th>NORTE</th>\n      <td>6110</td>\n    </tr>\n    <tr>\n      <th>CENTRO OESTE</th>\n      <td>3492</td>\n    </tr>\n    <tr>\n      <th>SUDESTE</th>\n      <td>3492</td>\n    </tr>\n    <tr>\n      <th>SUL</th>\n      <td>2619</td>\n    </tr>\n    <tr>\n      <th rowspan=\"5\" valign=\"top\">GLP</th>\n      <th>NORDESTE</th>\n      <td>7853</td>\n    </tr>\n    <tr>\n      <th>NORTE</th>\n      <td>6110</td>\n    </tr>\n    <tr>\n      <th>SUDESTE</th>\n      <td>3490</td>\n    </tr>\n    <tr>\n      <th>CENTRO OESTE</th>\n      <td>3489</td>\n    </tr>\n    <tr>\n      <th>SUL</th>\n      <td>2619</td>\n    </tr>\n    <tr>\n      <th rowspan=\"5\" valign=\"top\">GNV</th>\n      <th>NORDESTE</th>\n      <td>6180</td>\n    </tr>\n    <tr>\n      <th>SUDESTE</th>\n      <td>3488</td>\n    </tr>\n    <tr>\n      <th>SUL</th>\n      <td>2607</td>\n    </tr>\n    <tr>\n      <th>CENTRO OESTE</th>\n      <td>1671</td>\n    </tr>\n    <tr>\n      <th>NORTE</th>\n      <td>523</td>\n    </tr>\n    <tr>\n      <th rowspan=\"5\" valign=\"top\">OLEO DIESEL</th>\n      <th>NORDESTE</th>\n      <td>781</td>\n    </tr>\n    <tr>\n      <th>NORTE</th>\n      <td>602</td>\n    </tr>\n    <tr>\n      <th>CENTRO OESTE</th>\n      <td>352</td>\n    </tr>\n    <tr>\n      <th>SUDESTE</th>\n      <td>352</td>\n    </tr>\n    <tr>\n      <th>SUL</th>\n      <td>264</td>\n    </tr>\n    <tr>\n      <th rowspan=\"5\" valign=\"top\">OLEO DIESEL S10</th>\n      <th>NORDESTE</th>\n      <td>792</td>\n    </tr>\n    <tr>\n      <th>NORTE</th>\n      <td>616</td>\n    </tr>\n    <tr>\n      <th>CENTRO OESTE</th>\n      <td>352</td>\n    </tr>\n    <tr>\n      <th>SUDESTE</th>\n      <td>352</td>\n    </tr>\n    <tr>\n      <th>SUL</th>\n      <td>264</td>\n    </tr>\n    <tr>\n      <th rowspan=\"5\" valign=\"top\">ÓLEO DIESEL</th>\n      <th>NORDESTE</th>\n      <td>7065</td>\n    </tr>\n    <tr>\n      <th>NORTE</th>\n      <td>5494</td>\n    </tr>\n    <tr>\n      <th>CENTRO OESTE</th>\n      <td>3140</td>\n    </tr>\n    <tr>\n      <th>SUDESTE</th>\n      <td>3140</td>\n    </tr>\n    <tr>\n      <th>SUL</th>\n      <td>2355</td>\n    </tr>\n    <tr>\n      <th rowspan=\"5\" valign=\"top\">ÓLEO DIESEL S10</th>\n      <th>NORDESTE</th>\n      <td>3039</td>\n    </tr>\n    <tr>\n      <th>NORTE</th>\n      <td>2359</td>\n    </tr>\n    <tr>\n      <th>SUDESTE</th>\n      <td>1352</td>\n    </tr>\n    <tr>\n      <th>CENTRO OESTE</th>\n      <td>1349</td>\n    </tr>\n    <tr>\n      <th>SUL</th>\n      <td>1014</td>\n    </tr>\n  </tbody>\n</table>\n</div>"
          },
          "metadata": {}
        }
      ],
      "execution_count": 56
    },
    {
      "id": "improving-corporation",
      "cell_type": "markdown",
      "source": "### 7.2 Como os preços da Gasolina Comum em São Paulo variaram em 2018?",
      "metadata": {}
    },
    {
      "id": "92ea5b2a-3bd1-4900-9a73-c7679eb45851",
      "cell_type": "code",
      "source": "anos = [2017,2018,2019,2020,2021]\ndata['Ano'] = pd.Series(anos *(len(data) // len(anos) + 1)).iloc[:len(data)]\ndata",
      "metadata": {
        "trusted": true
      },
      "outputs": [
        {
          "execution_count": 66,
          "output_type": "execute_result",
          "data": {
            "text/plain": "       DATA INICIAL  DATA FINAL        REGIÃO              ESTADO  \\\n0        2004-05-09  2004-05-15  CENTRO OESTE    DISTRITO FEDERAL   \n1        2004-05-09  2004-05-15  CENTRO OESTE               GOIAS   \n2        2004-05-09  2004-05-15  CENTRO OESTE         MATO GROSSO   \n3        2004-05-09  2004-05-15  CENTRO OESTE  MATO GROSSO DO SUL   \n4        2004-05-09  2004-05-15      NORDESTE             ALAGOAS   \n...             ...         ...           ...                 ...   \n120818   2021-04-25  2021-05-01         NORTE             RORAIMA   \n120819   2021-04-25  2021-05-01           SUL      SANTA CATARINA   \n120820   2021-04-25  2021-05-01       SUDESTE           SAO PAULO   \n120821   2021-04-25  2021-05-01      NORDESTE             SERGIPE   \n120822   2021-04-25  2021-05-01         NORTE           TOCANTINS   \n\n                 PRODUTO  NÚMERO DE POSTOS PESQUISADOS UNIDADE DE MEDIDA  \\\n0       ETANOL HIDRATADO                           127              R$/l   \n1       ETANOL HIDRATADO                           387              R$/l   \n2       ETANOL HIDRATADO                           192              R$/l   \n3       ETANOL HIDRATADO                           162              R$/l   \n4       ETANOL HIDRATADO                           103              R$/l   \n...                  ...                           ...               ...   \n120818   OLEO DIESEL S10                            12              R$/l   \n120819   OLEO DIESEL S10                           100              R$/l   \n120820   OLEO DIESEL S10                           886              R$/l   \n120821   OLEO DIESEL S10                            33              R$/l   \n120822   OLEO DIESEL S10                            18              R$/l   \n\n        PREÇO MÉDIO REVENDA  DESVIO PADRÃO REVENDA  PREÇO MÍNIMO REVENDA  \\\n0                     1.288                  0.016                 1.190   \n1                     1.162                  0.114                 0.890   \n2                     1.389                  0.097                 1.180   \n3                     1.262                  0.070                 1.090   \n4                     1.181                  0.078                 1.050   \n...                     ...                    ...                   ...   \n120818                4.582                  0.056                 4.510   \n120819                4.141                  0.187                 3.838   \n120820                4.246                  0.216                 3.769   \n120821                4.464                  0.205                 4.190   \n120822                4.352                  0.156                 4.199   \n\n        PREÇO MÁXIMO REVENDA MARGEM MÉDIA REVENDA  COEF DE VARIAÇÃO REVENDA  \\\n0                      1.350                0.463                     0.012   \n1                      1.449                0.399                     0.098   \n2                      1.760                0.419                     0.070   \n3                      1.509                0.432                     0.055   \n4                      1.400                 0.24                     0.066   \n...                      ...                  ...                       ...   \n120818                 4.690             -99999.0                     0.012   \n120819                 4.739             -99999.0                     0.045   \n120820                 5.199             -99999.0                     0.051   \n120821                 4.699             -99999.0                     0.046   \n120822                 4.699             -99999.0                     0.036   \n\n       PREÇO MÉDIO DISTRIBUIÇÃO DESVIO PADRÃO DISTRIBUIÇÃO  \\\n0                         0.825                       0.11   \n1                         0.763                      0.088   \n2                          0.97                      0.095   \n3                          0.83                      0.119   \n4                         0.941                      0.077   \n...                         ...                        ...   \n120818                 -99999.0                   -99999.0   \n120819                 -99999.0                   -99999.0   \n120820                 -99999.0                   -99999.0   \n120821                 -99999.0                   -99999.0   \n120822                 -99999.0                   -99999.0   \n\n       PREÇO MÍNIMO DISTRIBUIÇÃO PREÇO MÁXIMO DISTRIBUIÇÃO  \\\n0                         0.4201                    0.9666   \n1                         0.5013                      1.05   \n2                         0.5614                     1.161   \n3                         0.5991                   1.22242   \n4                         0.7441                    1.0317   \n...                          ...                       ...   \n120818                  -99999.0                  -99999.0   \n120819                  -99999.0                  -99999.0   \n120820                  -99999.0                  -99999.0   \n120821                  -99999.0                  -99999.0   \n120822                  -99999.0                  -99999.0   \n\n       COEF DE VARIAÇÃO DISTRIBUIÇÃO   Ano  \n0                              0.133  2017  \n1                              0.115  2018  \n2                              0.098  2019  \n3                              0.143  2020  \n4                              0.082  2021  \n...                              ...   ...  \n120818                      -99999.0  2020  \n120819                      -99999.0  2021  \n120820                      -99999.0  2017  \n120821                      -99999.0  2018  \n120822                      -99999.0  2019  \n\n[120823 rows x 19 columns]",
            "text/html": "<div>\n<style scoped>\n    .dataframe tbody tr th:only-of-type {\n        vertical-align: middle;\n    }\n\n    .dataframe tbody tr th {\n        vertical-align: top;\n    }\n\n    .dataframe thead th {\n        text-align: right;\n    }\n</style>\n<table border=\"1\" class=\"dataframe\">\n  <thead>\n    <tr style=\"text-align: right;\">\n      <th></th>\n      <th>DATA INICIAL</th>\n      <th>DATA FINAL</th>\n      <th>REGIÃO</th>\n      <th>ESTADO</th>\n      <th>PRODUTO</th>\n      <th>NÚMERO DE POSTOS PESQUISADOS</th>\n      <th>UNIDADE DE MEDIDA</th>\n      <th>PREÇO MÉDIO REVENDA</th>\n      <th>DESVIO PADRÃO REVENDA</th>\n      <th>PREÇO MÍNIMO REVENDA</th>\n      <th>PREÇO MÁXIMO REVENDA</th>\n      <th>MARGEM MÉDIA REVENDA</th>\n      <th>COEF DE VARIAÇÃO REVENDA</th>\n      <th>PREÇO MÉDIO DISTRIBUIÇÃO</th>\n      <th>DESVIO PADRÃO DISTRIBUIÇÃO</th>\n      <th>PREÇO MÍNIMO DISTRIBUIÇÃO</th>\n      <th>PREÇO MÁXIMO DISTRIBUIÇÃO</th>\n      <th>COEF DE VARIAÇÃO DISTRIBUIÇÃO</th>\n      <th>Ano</th>\n    </tr>\n  </thead>\n  <tbody>\n    <tr>\n      <th>0</th>\n      <td>2004-05-09</td>\n      <td>2004-05-15</td>\n      <td>CENTRO OESTE</td>\n      <td>DISTRITO FEDERAL</td>\n      <td>ETANOL HIDRATADO</td>\n      <td>127</td>\n      <td>R$/l</td>\n      <td>1.288</td>\n      <td>0.016</td>\n      <td>1.190</td>\n      <td>1.350</td>\n      <td>0.463</td>\n      <td>0.012</td>\n      <td>0.825</td>\n      <td>0.11</td>\n      <td>0.4201</td>\n      <td>0.9666</td>\n      <td>0.133</td>\n      <td>2017</td>\n    </tr>\n    <tr>\n      <th>1</th>\n      <td>2004-05-09</td>\n      <td>2004-05-15</td>\n      <td>CENTRO OESTE</td>\n      <td>GOIAS</td>\n      <td>ETANOL HIDRATADO</td>\n      <td>387</td>\n      <td>R$/l</td>\n      <td>1.162</td>\n      <td>0.114</td>\n      <td>0.890</td>\n      <td>1.449</td>\n      <td>0.399</td>\n      <td>0.098</td>\n      <td>0.763</td>\n      <td>0.088</td>\n      <td>0.5013</td>\n      <td>1.05</td>\n      <td>0.115</td>\n      <td>2018</td>\n    </tr>\n    <tr>\n      <th>2</th>\n      <td>2004-05-09</td>\n      <td>2004-05-15</td>\n      <td>CENTRO OESTE</td>\n      <td>MATO GROSSO</td>\n      <td>ETANOL HIDRATADO</td>\n      <td>192</td>\n      <td>R$/l</td>\n      <td>1.389</td>\n      <td>0.097</td>\n      <td>1.180</td>\n      <td>1.760</td>\n      <td>0.419</td>\n      <td>0.070</td>\n      <td>0.97</td>\n      <td>0.095</td>\n      <td>0.5614</td>\n      <td>1.161</td>\n      <td>0.098</td>\n      <td>2019</td>\n    </tr>\n    <tr>\n      <th>3</th>\n      <td>2004-05-09</td>\n      <td>2004-05-15</td>\n      <td>CENTRO OESTE</td>\n      <td>MATO GROSSO DO SUL</td>\n      <td>ETANOL HIDRATADO</td>\n      <td>162</td>\n      <td>R$/l</td>\n      <td>1.262</td>\n      <td>0.070</td>\n      <td>1.090</td>\n      <td>1.509</td>\n      <td>0.432</td>\n      <td>0.055</td>\n      <td>0.83</td>\n      <td>0.119</td>\n      <td>0.5991</td>\n      <td>1.22242</td>\n      <td>0.143</td>\n      <td>2020</td>\n    </tr>\n    <tr>\n      <th>4</th>\n      <td>2004-05-09</td>\n      <td>2004-05-15</td>\n      <td>NORDESTE</td>\n      <td>ALAGOAS</td>\n      <td>ETANOL HIDRATADO</td>\n      <td>103</td>\n      <td>R$/l</td>\n      <td>1.181</td>\n      <td>0.078</td>\n      <td>1.050</td>\n      <td>1.400</td>\n      <td>0.24</td>\n      <td>0.066</td>\n      <td>0.941</td>\n      <td>0.077</td>\n      <td>0.7441</td>\n      <td>1.0317</td>\n      <td>0.082</td>\n      <td>2021</td>\n    </tr>\n    <tr>\n      <th>...</th>\n      <td>...</td>\n      <td>...</td>\n      <td>...</td>\n      <td>...</td>\n      <td>...</td>\n      <td>...</td>\n      <td>...</td>\n      <td>...</td>\n      <td>...</td>\n      <td>...</td>\n      <td>...</td>\n      <td>...</td>\n      <td>...</td>\n      <td>...</td>\n      <td>...</td>\n      <td>...</td>\n      <td>...</td>\n      <td>...</td>\n      <td>...</td>\n    </tr>\n    <tr>\n      <th>120818</th>\n      <td>2021-04-25</td>\n      <td>2021-05-01</td>\n      <td>NORTE</td>\n      <td>RORAIMA</td>\n      <td>OLEO DIESEL S10</td>\n      <td>12</td>\n      <td>R$/l</td>\n      <td>4.582</td>\n      <td>0.056</td>\n      <td>4.510</td>\n      <td>4.690</td>\n      <td>-99999.0</td>\n      <td>0.012</td>\n      <td>-99999.0</td>\n      <td>-99999.0</td>\n      <td>-99999.0</td>\n      <td>-99999.0</td>\n      <td>-99999.0</td>\n      <td>2020</td>\n    </tr>\n    <tr>\n      <th>120819</th>\n      <td>2021-04-25</td>\n      <td>2021-05-01</td>\n      <td>SUL</td>\n      <td>SANTA CATARINA</td>\n      <td>OLEO DIESEL S10</td>\n      <td>100</td>\n      <td>R$/l</td>\n      <td>4.141</td>\n      <td>0.187</td>\n      <td>3.838</td>\n      <td>4.739</td>\n      <td>-99999.0</td>\n      <td>0.045</td>\n      <td>-99999.0</td>\n      <td>-99999.0</td>\n      <td>-99999.0</td>\n      <td>-99999.0</td>\n      <td>-99999.0</td>\n      <td>2021</td>\n    </tr>\n    <tr>\n      <th>120820</th>\n      <td>2021-04-25</td>\n      <td>2021-05-01</td>\n      <td>SUDESTE</td>\n      <td>SAO PAULO</td>\n      <td>OLEO DIESEL S10</td>\n      <td>886</td>\n      <td>R$/l</td>\n      <td>4.246</td>\n      <td>0.216</td>\n      <td>3.769</td>\n      <td>5.199</td>\n      <td>-99999.0</td>\n      <td>0.051</td>\n      <td>-99999.0</td>\n      <td>-99999.0</td>\n      <td>-99999.0</td>\n      <td>-99999.0</td>\n      <td>-99999.0</td>\n      <td>2017</td>\n    </tr>\n    <tr>\n      <th>120821</th>\n      <td>2021-04-25</td>\n      <td>2021-05-01</td>\n      <td>NORDESTE</td>\n      <td>SERGIPE</td>\n      <td>OLEO DIESEL S10</td>\n      <td>33</td>\n      <td>R$/l</td>\n      <td>4.464</td>\n      <td>0.205</td>\n      <td>4.190</td>\n      <td>4.699</td>\n      <td>-99999.0</td>\n      <td>0.046</td>\n      <td>-99999.0</td>\n      <td>-99999.0</td>\n      <td>-99999.0</td>\n      <td>-99999.0</td>\n      <td>-99999.0</td>\n      <td>2018</td>\n    </tr>\n    <tr>\n      <th>120822</th>\n      <td>2021-04-25</td>\n      <td>2021-05-01</td>\n      <td>NORTE</td>\n      <td>TOCANTINS</td>\n      <td>OLEO DIESEL S10</td>\n      <td>18</td>\n      <td>R$/l</td>\n      <td>4.352</td>\n      <td>0.156</td>\n      <td>4.199</td>\n      <td>4.699</td>\n      <td>-99999.0</td>\n      <td>0.036</td>\n      <td>-99999.0</td>\n      <td>-99999.0</td>\n      <td>-99999.0</td>\n      <td>-99999.0</td>\n      <td>-99999.0</td>\n      <td>2019</td>\n    </tr>\n  </tbody>\n</table>\n<p>120823 rows × 19 columns</p>\n</div>"
          },
          "metadata": {}
        }
      ],
      "execution_count": 66
    },
    {
      "id": "damaged-horse",
      "cell_type": "code",
      "source": "data",
      "metadata": {
        "trusted": true
      },
      "outputs": [
        {
          "execution_count": 65,
          "output_type": "execute_result",
          "data": {
            "text/plain": "       DATA INICIAL  DATA FINAL        REGIÃO              ESTADO  \\\n0        2004-05-09  2004-05-15  CENTRO OESTE    DISTRITO FEDERAL   \n1        2004-05-09  2004-05-15  CENTRO OESTE               GOIAS   \n2        2004-05-09  2004-05-15  CENTRO OESTE         MATO GROSSO   \n3        2004-05-09  2004-05-15  CENTRO OESTE  MATO GROSSO DO SUL   \n4        2004-05-09  2004-05-15      NORDESTE             ALAGOAS   \n...             ...         ...           ...                 ...   \n120818   2021-04-25  2021-05-01         NORTE             RORAIMA   \n120819   2021-04-25  2021-05-01           SUL      SANTA CATARINA   \n120820   2021-04-25  2021-05-01       SUDESTE           SAO PAULO   \n120821   2021-04-25  2021-05-01      NORDESTE             SERGIPE   \n120822   2021-04-25  2021-05-01         NORTE           TOCANTINS   \n\n                 PRODUTO  NÚMERO DE POSTOS PESQUISADOS UNIDADE DE MEDIDA  \\\n0       ETANOL HIDRATADO                           127              R$/l   \n1       ETANOL HIDRATADO                           387              R$/l   \n2       ETANOL HIDRATADO                           192              R$/l   \n3       ETANOL HIDRATADO                           162              R$/l   \n4       ETANOL HIDRATADO                           103              R$/l   \n...                  ...                           ...               ...   \n120818   OLEO DIESEL S10                            12              R$/l   \n120819   OLEO DIESEL S10                           100              R$/l   \n120820   OLEO DIESEL S10                           886              R$/l   \n120821   OLEO DIESEL S10                            33              R$/l   \n120822   OLEO DIESEL S10                            18              R$/l   \n\n        PREÇO MÉDIO REVENDA  DESVIO PADRÃO REVENDA  PREÇO MÍNIMO REVENDA  \\\n0                     1.288                  0.016                 1.190   \n1                     1.162                  0.114                 0.890   \n2                     1.389                  0.097                 1.180   \n3                     1.262                  0.070                 1.090   \n4                     1.181                  0.078                 1.050   \n...                     ...                    ...                   ...   \n120818                4.582                  0.056                 4.510   \n120819                4.141                  0.187                 3.838   \n120820                4.246                  0.216                 3.769   \n120821                4.464                  0.205                 4.190   \n120822                4.352                  0.156                 4.199   \n\n        PREÇO MÁXIMO REVENDA MARGEM MÉDIA REVENDA  COEF DE VARIAÇÃO REVENDA  \\\n0                      1.350                0.463                     0.012   \n1                      1.449                0.399                     0.098   \n2                      1.760                0.419                     0.070   \n3                      1.509                0.432                     0.055   \n4                      1.400                 0.24                     0.066   \n...                      ...                  ...                       ...   \n120818                 4.690             -99999.0                     0.012   \n120819                 4.739             -99999.0                     0.045   \n120820                 5.199             -99999.0                     0.051   \n120821                 4.699             -99999.0                     0.046   \n120822                 4.699             -99999.0                     0.036   \n\n       PREÇO MÉDIO DISTRIBUIÇÃO DESVIO PADRÃO DISTRIBUIÇÃO  \\\n0                         0.825                       0.11   \n1                         0.763                      0.088   \n2                          0.97                      0.095   \n3                          0.83                      0.119   \n4                         0.941                      0.077   \n...                         ...                        ...   \n120818                 -99999.0                   -99999.0   \n120819                 -99999.0                   -99999.0   \n120820                 -99999.0                   -99999.0   \n120821                 -99999.0                   -99999.0   \n120822                 -99999.0                   -99999.0   \n\n       PREÇO MÍNIMO DISTRIBUIÇÃO PREÇO MÁXIMO DISTRIBUIÇÃO  \\\n0                         0.4201                    0.9666   \n1                         0.5013                      1.05   \n2                         0.5614                     1.161   \n3                         0.5991                   1.22242   \n4                         0.7441                    1.0317   \n...                          ...                       ...   \n120818                  -99999.0                  -99999.0   \n120819                  -99999.0                  -99999.0   \n120820                  -99999.0                  -99999.0   \n120821                  -99999.0                  -99999.0   \n120822                  -99999.0                  -99999.0   \n\n       COEF DE VARIAÇÃO DISTRIBUIÇÃO  \n0                              0.133  \n1                              0.115  \n2                              0.098  \n3                              0.143  \n4                              0.082  \n...                              ...  \n120818                      -99999.0  \n120819                      -99999.0  \n120820                      -99999.0  \n120821                      -99999.0  \n120822                      -99999.0  \n\n[120823 rows x 18 columns]",
            "text/html": "<div>\n<style scoped>\n    .dataframe tbody tr th:only-of-type {\n        vertical-align: middle;\n    }\n\n    .dataframe tbody tr th {\n        vertical-align: top;\n    }\n\n    .dataframe thead th {\n        text-align: right;\n    }\n</style>\n<table border=\"1\" class=\"dataframe\">\n  <thead>\n    <tr style=\"text-align: right;\">\n      <th></th>\n      <th>DATA INICIAL</th>\n      <th>DATA FINAL</th>\n      <th>REGIÃO</th>\n      <th>ESTADO</th>\n      <th>PRODUTO</th>\n      <th>NÚMERO DE POSTOS PESQUISADOS</th>\n      <th>UNIDADE DE MEDIDA</th>\n      <th>PREÇO MÉDIO REVENDA</th>\n      <th>DESVIO PADRÃO REVENDA</th>\n      <th>PREÇO MÍNIMO REVENDA</th>\n      <th>PREÇO MÁXIMO REVENDA</th>\n      <th>MARGEM MÉDIA REVENDA</th>\n      <th>COEF DE VARIAÇÃO REVENDA</th>\n      <th>PREÇO MÉDIO DISTRIBUIÇÃO</th>\n      <th>DESVIO PADRÃO DISTRIBUIÇÃO</th>\n      <th>PREÇO MÍNIMO DISTRIBUIÇÃO</th>\n      <th>PREÇO MÁXIMO DISTRIBUIÇÃO</th>\n      <th>COEF DE VARIAÇÃO DISTRIBUIÇÃO</th>\n    </tr>\n  </thead>\n  <tbody>\n    <tr>\n      <th>0</th>\n      <td>2004-05-09</td>\n      <td>2004-05-15</td>\n      <td>CENTRO OESTE</td>\n      <td>DISTRITO FEDERAL</td>\n      <td>ETANOL HIDRATADO</td>\n      <td>127</td>\n      <td>R$/l</td>\n      <td>1.288</td>\n      <td>0.016</td>\n      <td>1.190</td>\n      <td>1.350</td>\n      <td>0.463</td>\n      <td>0.012</td>\n      <td>0.825</td>\n      <td>0.11</td>\n      <td>0.4201</td>\n      <td>0.9666</td>\n      <td>0.133</td>\n    </tr>\n    <tr>\n      <th>1</th>\n      <td>2004-05-09</td>\n      <td>2004-05-15</td>\n      <td>CENTRO OESTE</td>\n      <td>GOIAS</td>\n      <td>ETANOL HIDRATADO</td>\n      <td>387</td>\n      <td>R$/l</td>\n      <td>1.162</td>\n      <td>0.114</td>\n      <td>0.890</td>\n      <td>1.449</td>\n      <td>0.399</td>\n      <td>0.098</td>\n      <td>0.763</td>\n      <td>0.088</td>\n      <td>0.5013</td>\n      <td>1.05</td>\n      <td>0.115</td>\n    </tr>\n    <tr>\n      <th>2</th>\n      <td>2004-05-09</td>\n      <td>2004-05-15</td>\n      <td>CENTRO OESTE</td>\n      <td>MATO GROSSO</td>\n      <td>ETANOL HIDRATADO</td>\n      <td>192</td>\n      <td>R$/l</td>\n      <td>1.389</td>\n      <td>0.097</td>\n      <td>1.180</td>\n      <td>1.760</td>\n      <td>0.419</td>\n      <td>0.070</td>\n      <td>0.97</td>\n      <td>0.095</td>\n      <td>0.5614</td>\n      <td>1.161</td>\n      <td>0.098</td>\n    </tr>\n    <tr>\n      <th>3</th>\n      <td>2004-05-09</td>\n      <td>2004-05-15</td>\n      <td>CENTRO OESTE</td>\n      <td>MATO GROSSO DO SUL</td>\n      <td>ETANOL HIDRATADO</td>\n      <td>162</td>\n      <td>R$/l</td>\n      <td>1.262</td>\n      <td>0.070</td>\n      <td>1.090</td>\n      <td>1.509</td>\n      <td>0.432</td>\n      <td>0.055</td>\n      <td>0.83</td>\n      <td>0.119</td>\n      <td>0.5991</td>\n      <td>1.22242</td>\n      <td>0.143</td>\n    </tr>\n    <tr>\n      <th>4</th>\n      <td>2004-05-09</td>\n      <td>2004-05-15</td>\n      <td>NORDESTE</td>\n      <td>ALAGOAS</td>\n      <td>ETANOL HIDRATADO</td>\n      <td>103</td>\n      <td>R$/l</td>\n      <td>1.181</td>\n      <td>0.078</td>\n      <td>1.050</td>\n      <td>1.400</td>\n      <td>0.24</td>\n      <td>0.066</td>\n      <td>0.941</td>\n      <td>0.077</td>\n      <td>0.7441</td>\n      <td>1.0317</td>\n      <td>0.082</td>\n    </tr>\n    <tr>\n      <th>...</th>\n      <td>...</td>\n      <td>...</td>\n      <td>...</td>\n      <td>...</td>\n      <td>...</td>\n      <td>...</td>\n      <td>...</td>\n      <td>...</td>\n      <td>...</td>\n      <td>...</td>\n      <td>...</td>\n      <td>...</td>\n      <td>...</td>\n      <td>...</td>\n      <td>...</td>\n      <td>...</td>\n      <td>...</td>\n      <td>...</td>\n    </tr>\n    <tr>\n      <th>120818</th>\n      <td>2021-04-25</td>\n      <td>2021-05-01</td>\n      <td>NORTE</td>\n      <td>RORAIMA</td>\n      <td>OLEO DIESEL S10</td>\n      <td>12</td>\n      <td>R$/l</td>\n      <td>4.582</td>\n      <td>0.056</td>\n      <td>4.510</td>\n      <td>4.690</td>\n      <td>-99999.0</td>\n      <td>0.012</td>\n      <td>-99999.0</td>\n      <td>-99999.0</td>\n      <td>-99999.0</td>\n      <td>-99999.0</td>\n      <td>-99999.0</td>\n    </tr>\n    <tr>\n      <th>120819</th>\n      <td>2021-04-25</td>\n      <td>2021-05-01</td>\n      <td>SUL</td>\n      <td>SANTA CATARINA</td>\n      <td>OLEO DIESEL S10</td>\n      <td>100</td>\n      <td>R$/l</td>\n      <td>4.141</td>\n      <td>0.187</td>\n      <td>3.838</td>\n      <td>4.739</td>\n      <td>-99999.0</td>\n      <td>0.045</td>\n      <td>-99999.0</td>\n      <td>-99999.0</td>\n      <td>-99999.0</td>\n      <td>-99999.0</td>\n      <td>-99999.0</td>\n    </tr>\n    <tr>\n      <th>120820</th>\n      <td>2021-04-25</td>\n      <td>2021-05-01</td>\n      <td>SUDESTE</td>\n      <td>SAO PAULO</td>\n      <td>OLEO DIESEL S10</td>\n      <td>886</td>\n      <td>R$/l</td>\n      <td>4.246</td>\n      <td>0.216</td>\n      <td>3.769</td>\n      <td>5.199</td>\n      <td>-99999.0</td>\n      <td>0.051</td>\n      <td>-99999.0</td>\n      <td>-99999.0</td>\n      <td>-99999.0</td>\n      <td>-99999.0</td>\n      <td>-99999.0</td>\n    </tr>\n    <tr>\n      <th>120821</th>\n      <td>2021-04-25</td>\n      <td>2021-05-01</td>\n      <td>NORDESTE</td>\n      <td>SERGIPE</td>\n      <td>OLEO DIESEL S10</td>\n      <td>33</td>\n      <td>R$/l</td>\n      <td>4.464</td>\n      <td>0.205</td>\n      <td>4.190</td>\n      <td>4.699</td>\n      <td>-99999.0</td>\n      <td>0.046</td>\n      <td>-99999.0</td>\n      <td>-99999.0</td>\n      <td>-99999.0</td>\n      <td>-99999.0</td>\n      <td>-99999.0</td>\n    </tr>\n    <tr>\n      <th>120822</th>\n      <td>2021-04-25</td>\n      <td>2021-05-01</td>\n      <td>NORTE</td>\n      <td>TOCANTINS</td>\n      <td>OLEO DIESEL S10</td>\n      <td>18</td>\n      <td>R$/l</td>\n      <td>4.352</td>\n      <td>0.156</td>\n      <td>4.199</td>\n      <td>4.699</td>\n      <td>-99999.0</td>\n      <td>0.036</td>\n      <td>-99999.0</td>\n      <td>-99999.0</td>\n      <td>-99999.0</td>\n      <td>-99999.0</td>\n      <td>-99999.0</td>\n    </tr>\n  </tbody>\n</table>\n<p>120823 rows × 18 columns</p>\n</div>"
          },
          "metadata": {}
        }
      ],
      "execution_count": 65
    },
    {
      "id": "complicated-louis",
      "cell_type": "code",
      "source": "gasolina_sp_2018 = data.query('PRODUTO == \"GASOLINA COMUM\" and ESTADO == \"SAO PAULO\" and Ano == 2018')\ngasolina_sp_2018.head()",
      "metadata": {
        "trusted": true
      },
      "outputs": [
        {
          "execution_count": 72,
          "output_type": "execute_result",
          "data": {
            "text/plain": "      DATA INICIAL  DATA FINAL   REGIÃO     ESTADO         PRODUTO  \\\n12141   2004-05-23  2004-05-29  SUDESTE  SAO PAULO  GASOLINA COMUM   \n12276   2004-06-27  2004-07-03  SUDESTE  SAO PAULO  GASOLINA COMUM   \n12411   2004-08-01  2004-08-07  SUDESTE  SAO PAULO  GASOLINA COMUM   \n12546   2004-09-05  2004-09-11  SUDESTE  SAO PAULO  GASOLINA COMUM   \n12681   2004-10-10  2004-10-16  SUDESTE  SAO PAULO  GASOLINA COMUM   \n\n       NÚMERO DE POSTOS PESQUISADOS UNIDADE DE MEDIDA  PREÇO MÉDIO REVENDA  \\\n12141                          4139              R$/l                1.894   \n12276                          4122              R$/l                2.033   \n12411                          4131              R$/l                2.030   \n12546                          4152              R$/l                2.032   \n12681                          4123              R$/l                2.041   \n\n       DESVIO PADRÃO REVENDA  PREÇO MÍNIMO REVENDA  PREÇO MÁXIMO REVENDA  \\\n12141                  0.095                 1.570                 2.399   \n12276                  0.092                 1.680                 2.399   \n12411                  0.087                 1.699                 2.449   \n12546                  0.091                 1.740                 2.399   \n12681                  0.090                 1.699                 2.499   \n\n      MARGEM MÉDIA REVENDA  COEF DE VARIAÇÃO REVENDA PREÇO MÉDIO DISTRIBUIÇÃO  \\\n12141                0.234                     0.050                     1.66   \n12276                 0.25                     0.045                    1.783   \n12411                0.246                     0.043                    1.784   \n12546                0.231                     0.045                    1.801   \n12681                0.235                     0.044                    1.806   \n\n      DESVIO PADRÃO DISTRIBUIÇÃO PREÇO MÍNIMO DISTRIBUIÇÃO  \\\n12141                      0.065                      1.39   \n12276                      0.064                     1.433   \n12411                      0.054                      1.54   \n12546                      0.055                     1.477   \n12681                      0.053                      1.56   \n\n      PREÇO MÁXIMO DISTRIBUIÇÃO COEF DE VARIAÇÃO DISTRIBUIÇÃO   Ano  \n12141                    1.9291                         0.039  2018  \n12276                    2.1589                         0.036  2018  \n12411                    2.1291                          0.03  2018  \n12546                     2.127                         0.031  2018  \n12681                    2.1182                         0.029  2018  ",
            "text/html": "<div>\n<style scoped>\n    .dataframe tbody tr th:only-of-type {\n        vertical-align: middle;\n    }\n\n    .dataframe tbody tr th {\n        vertical-align: top;\n    }\n\n    .dataframe thead th {\n        text-align: right;\n    }\n</style>\n<table border=\"1\" class=\"dataframe\">\n  <thead>\n    <tr style=\"text-align: right;\">\n      <th></th>\n      <th>DATA INICIAL</th>\n      <th>DATA FINAL</th>\n      <th>REGIÃO</th>\n      <th>ESTADO</th>\n      <th>PRODUTO</th>\n      <th>NÚMERO DE POSTOS PESQUISADOS</th>\n      <th>UNIDADE DE MEDIDA</th>\n      <th>PREÇO MÉDIO REVENDA</th>\n      <th>DESVIO PADRÃO REVENDA</th>\n      <th>PREÇO MÍNIMO REVENDA</th>\n      <th>PREÇO MÁXIMO REVENDA</th>\n      <th>MARGEM MÉDIA REVENDA</th>\n      <th>COEF DE VARIAÇÃO REVENDA</th>\n      <th>PREÇO MÉDIO DISTRIBUIÇÃO</th>\n      <th>DESVIO PADRÃO DISTRIBUIÇÃO</th>\n      <th>PREÇO MÍNIMO DISTRIBUIÇÃO</th>\n      <th>PREÇO MÁXIMO DISTRIBUIÇÃO</th>\n      <th>COEF DE VARIAÇÃO DISTRIBUIÇÃO</th>\n      <th>Ano</th>\n    </tr>\n  </thead>\n  <tbody>\n    <tr>\n      <th>12141</th>\n      <td>2004-05-23</td>\n      <td>2004-05-29</td>\n      <td>SUDESTE</td>\n      <td>SAO PAULO</td>\n      <td>GASOLINA COMUM</td>\n      <td>4139</td>\n      <td>R$/l</td>\n      <td>1.894</td>\n      <td>0.095</td>\n      <td>1.570</td>\n      <td>2.399</td>\n      <td>0.234</td>\n      <td>0.050</td>\n      <td>1.66</td>\n      <td>0.065</td>\n      <td>1.39</td>\n      <td>1.9291</td>\n      <td>0.039</td>\n      <td>2018</td>\n    </tr>\n    <tr>\n      <th>12276</th>\n      <td>2004-06-27</td>\n      <td>2004-07-03</td>\n      <td>SUDESTE</td>\n      <td>SAO PAULO</td>\n      <td>GASOLINA COMUM</td>\n      <td>4122</td>\n      <td>R$/l</td>\n      <td>2.033</td>\n      <td>0.092</td>\n      <td>1.680</td>\n      <td>2.399</td>\n      <td>0.25</td>\n      <td>0.045</td>\n      <td>1.783</td>\n      <td>0.064</td>\n      <td>1.433</td>\n      <td>2.1589</td>\n      <td>0.036</td>\n      <td>2018</td>\n    </tr>\n    <tr>\n      <th>12411</th>\n      <td>2004-08-01</td>\n      <td>2004-08-07</td>\n      <td>SUDESTE</td>\n      <td>SAO PAULO</td>\n      <td>GASOLINA COMUM</td>\n      <td>4131</td>\n      <td>R$/l</td>\n      <td>2.030</td>\n      <td>0.087</td>\n      <td>1.699</td>\n      <td>2.449</td>\n      <td>0.246</td>\n      <td>0.043</td>\n      <td>1.784</td>\n      <td>0.054</td>\n      <td>1.54</td>\n      <td>2.1291</td>\n      <td>0.03</td>\n      <td>2018</td>\n    </tr>\n    <tr>\n      <th>12546</th>\n      <td>2004-09-05</td>\n      <td>2004-09-11</td>\n      <td>SUDESTE</td>\n      <td>SAO PAULO</td>\n      <td>GASOLINA COMUM</td>\n      <td>4152</td>\n      <td>R$/l</td>\n      <td>2.032</td>\n      <td>0.091</td>\n      <td>1.740</td>\n      <td>2.399</td>\n      <td>0.231</td>\n      <td>0.045</td>\n      <td>1.801</td>\n      <td>0.055</td>\n      <td>1.477</td>\n      <td>2.127</td>\n      <td>0.031</td>\n      <td>2018</td>\n    </tr>\n    <tr>\n      <th>12681</th>\n      <td>2004-10-10</td>\n      <td>2004-10-16</td>\n      <td>SUDESTE</td>\n      <td>SAO PAULO</td>\n      <td>GASOLINA COMUM</td>\n      <td>4123</td>\n      <td>R$/l</td>\n      <td>2.041</td>\n      <td>0.090</td>\n      <td>1.699</td>\n      <td>2.499</td>\n      <td>0.235</td>\n      <td>0.044</td>\n      <td>1.806</td>\n      <td>0.053</td>\n      <td>1.56</td>\n      <td>2.1182</td>\n      <td>0.029</td>\n      <td>2018</td>\n    </tr>\n  </tbody>\n</table>\n</div>"
          },
          "metadata": {}
        }
      ],
      "execution_count": 72
    },
    {
      "id": "7f45027f-705e-494c-9653-e2b2c872ae85",
      "cell_type": "code",
      "source": "gasolina_sp_2018.shape",
      "metadata": {
        "trusted": true
      },
      "outputs": [
        {
          "execution_count": 74,
          "output_type": "execute_result",
          "data": {
            "text/plain": "(174, 19)"
          },
          "metadata": {}
        }
      ],
      "execution_count": 74
    },
    {
      "id": "ecological-pavilion",
      "cell_type": "markdown",
      "source": "#### **Estatísticas Descritivas**",
      "metadata": {}
    },
    {
      "id": "scientific-acrylic",
      "cell_type": "code",
      "source": "gasolina_sp_2018.describe()",
      "metadata": {
        "trusted": true
      },
      "outputs": [
        {
          "execution_count": 75,
          "output_type": "execute_result",
          "data": {
            "text/plain": "       NÚMERO DE POSTOS PESQUISADOS  PREÇO MÉDIO REVENDA  \\\ncount                    174.000000           174.000000   \nmean                    2248.189655             2.996615   \nstd                      845.518799             0.737845   \nmin                      102.000000             1.894000   \n25%                     1638.000000             2.422750   \n50%                     2372.000000             2.662000   \n75%                     2384.250000             3.548250   \nmax                     4152.000000             5.308000   \n\n       DESVIO PADRÃO REVENDA  PREÇO MÍNIMO REVENDA  PREÇO MÁXIMO REVENDA  \\\ncount             174.000000            174.000000            174.000000   \nmean                0.127218              2.614753              3.545201   \nstd                 0.037454              0.628436              0.895651   \nmin                 0.085000              1.570000              2.399000   \n25%                 0.099000              2.149250              2.799000   \n50%                 0.109500              2.349000              3.199000   \n75%                 0.152000              3.149000              4.074000   \nmax                 0.234000              4.279000              6.149000   \n\n       COEF DE VARIAÇÃO REVENDA     Ano  \ncount                174.000000   174.0  \nmean                   0.042201  2018.0  \nstd                    0.004027     0.0  \nmin                    0.030000  2018.0  \n25%                    0.040000  2018.0  \n50%                    0.042000  2018.0  \n75%                    0.044000  2018.0  \nmax                    0.063000  2018.0  ",
            "text/html": "<div>\n<style scoped>\n    .dataframe tbody tr th:only-of-type {\n        vertical-align: middle;\n    }\n\n    .dataframe tbody tr th {\n        vertical-align: top;\n    }\n\n    .dataframe thead th {\n        text-align: right;\n    }\n</style>\n<table border=\"1\" class=\"dataframe\">\n  <thead>\n    <tr style=\"text-align: right;\">\n      <th></th>\n      <th>NÚMERO DE POSTOS PESQUISADOS</th>\n      <th>PREÇO MÉDIO REVENDA</th>\n      <th>DESVIO PADRÃO REVENDA</th>\n      <th>PREÇO MÍNIMO REVENDA</th>\n      <th>PREÇO MÁXIMO REVENDA</th>\n      <th>COEF DE VARIAÇÃO REVENDA</th>\n      <th>Ano</th>\n    </tr>\n  </thead>\n  <tbody>\n    <tr>\n      <th>count</th>\n      <td>174.000000</td>\n      <td>174.000000</td>\n      <td>174.000000</td>\n      <td>174.000000</td>\n      <td>174.000000</td>\n      <td>174.000000</td>\n      <td>174.0</td>\n    </tr>\n    <tr>\n      <th>mean</th>\n      <td>2248.189655</td>\n      <td>2.996615</td>\n      <td>0.127218</td>\n      <td>2.614753</td>\n      <td>3.545201</td>\n      <td>0.042201</td>\n      <td>2018.0</td>\n    </tr>\n    <tr>\n      <th>std</th>\n      <td>845.518799</td>\n      <td>0.737845</td>\n      <td>0.037454</td>\n      <td>0.628436</td>\n      <td>0.895651</td>\n      <td>0.004027</td>\n      <td>0.0</td>\n    </tr>\n    <tr>\n      <th>min</th>\n      <td>102.000000</td>\n      <td>1.894000</td>\n      <td>0.085000</td>\n      <td>1.570000</td>\n      <td>2.399000</td>\n      <td>0.030000</td>\n      <td>2018.0</td>\n    </tr>\n    <tr>\n      <th>25%</th>\n      <td>1638.000000</td>\n      <td>2.422750</td>\n      <td>0.099000</td>\n      <td>2.149250</td>\n      <td>2.799000</td>\n      <td>0.040000</td>\n      <td>2018.0</td>\n    </tr>\n    <tr>\n      <th>50%</th>\n      <td>2372.000000</td>\n      <td>2.662000</td>\n      <td>0.109500</td>\n      <td>2.349000</td>\n      <td>3.199000</td>\n      <td>0.042000</td>\n      <td>2018.0</td>\n    </tr>\n    <tr>\n      <th>75%</th>\n      <td>2384.250000</td>\n      <td>3.548250</td>\n      <td>0.152000</td>\n      <td>3.149000</td>\n      <td>4.074000</td>\n      <td>0.044000</td>\n      <td>2018.0</td>\n    </tr>\n    <tr>\n      <th>max</th>\n      <td>4152.000000</td>\n      <td>5.308000</td>\n      <td>0.234000</td>\n      <td>4.279000</td>\n      <td>6.149000</td>\n      <td>0.063000</td>\n      <td>2018.0</td>\n    </tr>\n  </tbody>\n</table>\n</div>"
          },
          "metadata": {}
        }
      ],
      "execution_count": 75
    },
    {
      "id": "touched-irrigation",
      "cell_type": "code",
      "source": "gasolina_sp_2018['PREÇO MÉDIO REVENDA'].describe().to_frame()",
      "metadata": {
        "trusted": true
      },
      "outputs": [
        {
          "execution_count": 80,
          "output_type": "execute_result",
          "data": {
            "text/plain": "       PREÇO MÉDIO REVENDA\ncount           174.000000\nmean              2.996615\nstd               0.737845\nmin               1.894000\n25%               2.422750\n50%               2.662000\n75%               3.548250\nmax               5.308000",
            "text/html": "<div>\n<style scoped>\n    .dataframe tbody tr th:only-of-type {\n        vertical-align: middle;\n    }\n\n    .dataframe tbody tr th {\n        vertical-align: top;\n    }\n\n    .dataframe thead th {\n        text-align: right;\n    }\n</style>\n<table border=\"1\" class=\"dataframe\">\n  <thead>\n    <tr style=\"text-align: right;\">\n      <th></th>\n      <th>PREÇO MÉDIO REVENDA</th>\n    </tr>\n  </thead>\n  <tbody>\n    <tr>\n      <th>count</th>\n      <td>174.000000</td>\n    </tr>\n    <tr>\n      <th>mean</th>\n      <td>2.996615</td>\n    </tr>\n    <tr>\n      <th>std</th>\n      <td>0.737845</td>\n    </tr>\n    <tr>\n      <th>min</th>\n      <td>1.894000</td>\n    </tr>\n    <tr>\n      <th>25%</th>\n      <td>2.422750</td>\n    </tr>\n    <tr>\n      <th>50%</th>\n      <td>2.662000</td>\n    </tr>\n    <tr>\n      <th>75%</th>\n      <td>3.548250</td>\n    </tr>\n    <tr>\n      <th>max</th>\n      <td>5.308000</td>\n    </tr>\n  </tbody>\n</table>\n</div>"
          },
          "metadata": {}
        }
      ],
      "execution_count": 80
    },
    {
      "id": "freelance-python",
      "cell_type": "markdown",
      "source": "### 7.3 Como os preços da Gasolina Comum e do Etanol em São Paulo variaram em 2018?",
      "metadata": {}
    },
    {
      "id": "diagnostic-replacement",
      "cell_type": "code",
      "source": "data",
      "metadata": {
        "trusted": true
      },
      "outputs": [
        {
          "execution_count": 81,
          "output_type": "execute_result",
          "data": {
            "text/plain": "       DATA INICIAL  DATA FINAL        REGIÃO              ESTADO  \\\n0        2004-05-09  2004-05-15  CENTRO OESTE    DISTRITO FEDERAL   \n1        2004-05-09  2004-05-15  CENTRO OESTE               GOIAS   \n2        2004-05-09  2004-05-15  CENTRO OESTE         MATO GROSSO   \n3        2004-05-09  2004-05-15  CENTRO OESTE  MATO GROSSO DO SUL   \n4        2004-05-09  2004-05-15      NORDESTE             ALAGOAS   \n...             ...         ...           ...                 ...   \n120818   2021-04-25  2021-05-01         NORTE             RORAIMA   \n120819   2021-04-25  2021-05-01           SUL      SANTA CATARINA   \n120820   2021-04-25  2021-05-01       SUDESTE           SAO PAULO   \n120821   2021-04-25  2021-05-01      NORDESTE             SERGIPE   \n120822   2021-04-25  2021-05-01         NORTE           TOCANTINS   \n\n                 PRODUTO  NÚMERO DE POSTOS PESQUISADOS UNIDADE DE MEDIDA  \\\n0       ETANOL HIDRATADO                           127              R$/l   \n1       ETANOL HIDRATADO                           387              R$/l   \n2       ETANOL HIDRATADO                           192              R$/l   \n3       ETANOL HIDRATADO                           162              R$/l   \n4       ETANOL HIDRATADO                           103              R$/l   \n...                  ...                           ...               ...   \n120818   OLEO DIESEL S10                            12              R$/l   \n120819   OLEO DIESEL S10                           100              R$/l   \n120820   OLEO DIESEL S10                           886              R$/l   \n120821   OLEO DIESEL S10                            33              R$/l   \n120822   OLEO DIESEL S10                            18              R$/l   \n\n        PREÇO MÉDIO REVENDA  DESVIO PADRÃO REVENDA  PREÇO MÍNIMO REVENDA  \\\n0                     1.288                  0.016                 1.190   \n1                     1.162                  0.114                 0.890   \n2                     1.389                  0.097                 1.180   \n3                     1.262                  0.070                 1.090   \n4                     1.181                  0.078                 1.050   \n...                     ...                    ...                   ...   \n120818                4.582                  0.056                 4.510   \n120819                4.141                  0.187                 3.838   \n120820                4.246                  0.216                 3.769   \n120821                4.464                  0.205                 4.190   \n120822                4.352                  0.156                 4.199   \n\n        PREÇO MÁXIMO REVENDA MARGEM MÉDIA REVENDA  COEF DE VARIAÇÃO REVENDA  \\\n0                      1.350                0.463                     0.012   \n1                      1.449                0.399                     0.098   \n2                      1.760                0.419                     0.070   \n3                      1.509                0.432                     0.055   \n4                      1.400                 0.24                     0.066   \n...                      ...                  ...                       ...   \n120818                 4.690             -99999.0                     0.012   \n120819                 4.739             -99999.0                     0.045   \n120820                 5.199             -99999.0                     0.051   \n120821                 4.699             -99999.0                     0.046   \n120822                 4.699             -99999.0                     0.036   \n\n       PREÇO MÉDIO DISTRIBUIÇÃO DESVIO PADRÃO DISTRIBUIÇÃO  \\\n0                         0.825                       0.11   \n1                         0.763                      0.088   \n2                          0.97                      0.095   \n3                          0.83                      0.119   \n4                         0.941                      0.077   \n...                         ...                        ...   \n120818                 -99999.0                   -99999.0   \n120819                 -99999.0                   -99999.0   \n120820                 -99999.0                   -99999.0   \n120821                 -99999.0                   -99999.0   \n120822                 -99999.0                   -99999.0   \n\n       PREÇO MÍNIMO DISTRIBUIÇÃO PREÇO MÁXIMO DISTRIBUIÇÃO  \\\n0                         0.4201                    0.9666   \n1                         0.5013                      1.05   \n2                         0.5614                     1.161   \n3                         0.5991                   1.22242   \n4                         0.7441                    1.0317   \n...                          ...                       ...   \n120818                  -99999.0                  -99999.0   \n120819                  -99999.0                  -99999.0   \n120820                  -99999.0                  -99999.0   \n120821                  -99999.0                  -99999.0   \n120822                  -99999.0                  -99999.0   \n\n       COEF DE VARIAÇÃO DISTRIBUIÇÃO   Ano  \n0                              0.133  2017  \n1                              0.115  2018  \n2                              0.098  2019  \n3                              0.143  2020  \n4                              0.082  2021  \n...                              ...   ...  \n120818                      -99999.0  2020  \n120819                      -99999.0  2021  \n120820                      -99999.0  2017  \n120821                      -99999.0  2018  \n120822                      -99999.0  2019  \n\n[120823 rows x 19 columns]",
            "text/html": "<div>\n<style scoped>\n    .dataframe tbody tr th:only-of-type {\n        vertical-align: middle;\n    }\n\n    .dataframe tbody tr th {\n        vertical-align: top;\n    }\n\n    .dataframe thead th {\n        text-align: right;\n    }\n</style>\n<table border=\"1\" class=\"dataframe\">\n  <thead>\n    <tr style=\"text-align: right;\">\n      <th></th>\n      <th>DATA INICIAL</th>\n      <th>DATA FINAL</th>\n      <th>REGIÃO</th>\n      <th>ESTADO</th>\n      <th>PRODUTO</th>\n      <th>NÚMERO DE POSTOS PESQUISADOS</th>\n      <th>UNIDADE DE MEDIDA</th>\n      <th>PREÇO MÉDIO REVENDA</th>\n      <th>DESVIO PADRÃO REVENDA</th>\n      <th>PREÇO MÍNIMO REVENDA</th>\n      <th>PREÇO MÁXIMO REVENDA</th>\n      <th>MARGEM MÉDIA REVENDA</th>\n      <th>COEF DE VARIAÇÃO REVENDA</th>\n      <th>PREÇO MÉDIO DISTRIBUIÇÃO</th>\n      <th>DESVIO PADRÃO DISTRIBUIÇÃO</th>\n      <th>PREÇO MÍNIMO DISTRIBUIÇÃO</th>\n      <th>PREÇO MÁXIMO DISTRIBUIÇÃO</th>\n      <th>COEF DE VARIAÇÃO DISTRIBUIÇÃO</th>\n      <th>Ano</th>\n    </tr>\n  </thead>\n  <tbody>\n    <tr>\n      <th>0</th>\n      <td>2004-05-09</td>\n      <td>2004-05-15</td>\n      <td>CENTRO OESTE</td>\n      <td>DISTRITO FEDERAL</td>\n      <td>ETANOL HIDRATADO</td>\n      <td>127</td>\n      <td>R$/l</td>\n      <td>1.288</td>\n      <td>0.016</td>\n      <td>1.190</td>\n      <td>1.350</td>\n      <td>0.463</td>\n      <td>0.012</td>\n      <td>0.825</td>\n      <td>0.11</td>\n      <td>0.4201</td>\n      <td>0.9666</td>\n      <td>0.133</td>\n      <td>2017</td>\n    </tr>\n    <tr>\n      <th>1</th>\n      <td>2004-05-09</td>\n      <td>2004-05-15</td>\n      <td>CENTRO OESTE</td>\n      <td>GOIAS</td>\n      <td>ETANOL HIDRATADO</td>\n      <td>387</td>\n      <td>R$/l</td>\n      <td>1.162</td>\n      <td>0.114</td>\n      <td>0.890</td>\n      <td>1.449</td>\n      <td>0.399</td>\n      <td>0.098</td>\n      <td>0.763</td>\n      <td>0.088</td>\n      <td>0.5013</td>\n      <td>1.05</td>\n      <td>0.115</td>\n      <td>2018</td>\n    </tr>\n    <tr>\n      <th>2</th>\n      <td>2004-05-09</td>\n      <td>2004-05-15</td>\n      <td>CENTRO OESTE</td>\n      <td>MATO GROSSO</td>\n      <td>ETANOL HIDRATADO</td>\n      <td>192</td>\n      <td>R$/l</td>\n      <td>1.389</td>\n      <td>0.097</td>\n      <td>1.180</td>\n      <td>1.760</td>\n      <td>0.419</td>\n      <td>0.070</td>\n      <td>0.97</td>\n      <td>0.095</td>\n      <td>0.5614</td>\n      <td>1.161</td>\n      <td>0.098</td>\n      <td>2019</td>\n    </tr>\n    <tr>\n      <th>3</th>\n      <td>2004-05-09</td>\n      <td>2004-05-15</td>\n      <td>CENTRO OESTE</td>\n      <td>MATO GROSSO DO SUL</td>\n      <td>ETANOL HIDRATADO</td>\n      <td>162</td>\n      <td>R$/l</td>\n      <td>1.262</td>\n      <td>0.070</td>\n      <td>1.090</td>\n      <td>1.509</td>\n      <td>0.432</td>\n      <td>0.055</td>\n      <td>0.83</td>\n      <td>0.119</td>\n      <td>0.5991</td>\n      <td>1.22242</td>\n      <td>0.143</td>\n      <td>2020</td>\n    </tr>\n    <tr>\n      <th>4</th>\n      <td>2004-05-09</td>\n      <td>2004-05-15</td>\n      <td>NORDESTE</td>\n      <td>ALAGOAS</td>\n      <td>ETANOL HIDRATADO</td>\n      <td>103</td>\n      <td>R$/l</td>\n      <td>1.181</td>\n      <td>0.078</td>\n      <td>1.050</td>\n      <td>1.400</td>\n      <td>0.24</td>\n      <td>0.066</td>\n      <td>0.941</td>\n      <td>0.077</td>\n      <td>0.7441</td>\n      <td>1.0317</td>\n      <td>0.082</td>\n      <td>2021</td>\n    </tr>\n    <tr>\n      <th>...</th>\n      <td>...</td>\n      <td>...</td>\n      <td>...</td>\n      <td>...</td>\n      <td>...</td>\n      <td>...</td>\n      <td>...</td>\n      <td>...</td>\n      <td>...</td>\n      <td>...</td>\n      <td>...</td>\n      <td>...</td>\n      <td>...</td>\n      <td>...</td>\n      <td>...</td>\n      <td>...</td>\n      <td>...</td>\n      <td>...</td>\n      <td>...</td>\n    </tr>\n    <tr>\n      <th>120818</th>\n      <td>2021-04-25</td>\n      <td>2021-05-01</td>\n      <td>NORTE</td>\n      <td>RORAIMA</td>\n      <td>OLEO DIESEL S10</td>\n      <td>12</td>\n      <td>R$/l</td>\n      <td>4.582</td>\n      <td>0.056</td>\n      <td>4.510</td>\n      <td>4.690</td>\n      <td>-99999.0</td>\n      <td>0.012</td>\n      <td>-99999.0</td>\n      <td>-99999.0</td>\n      <td>-99999.0</td>\n      <td>-99999.0</td>\n      <td>-99999.0</td>\n      <td>2020</td>\n    </tr>\n    <tr>\n      <th>120819</th>\n      <td>2021-04-25</td>\n      <td>2021-05-01</td>\n      <td>SUL</td>\n      <td>SANTA CATARINA</td>\n      <td>OLEO DIESEL S10</td>\n      <td>100</td>\n      <td>R$/l</td>\n      <td>4.141</td>\n      <td>0.187</td>\n      <td>3.838</td>\n      <td>4.739</td>\n      <td>-99999.0</td>\n      <td>0.045</td>\n      <td>-99999.0</td>\n      <td>-99999.0</td>\n      <td>-99999.0</td>\n      <td>-99999.0</td>\n      <td>-99999.0</td>\n      <td>2021</td>\n    </tr>\n    <tr>\n      <th>120820</th>\n      <td>2021-04-25</td>\n      <td>2021-05-01</td>\n      <td>SUDESTE</td>\n      <td>SAO PAULO</td>\n      <td>OLEO DIESEL S10</td>\n      <td>886</td>\n      <td>R$/l</td>\n      <td>4.246</td>\n      <td>0.216</td>\n      <td>3.769</td>\n      <td>5.199</td>\n      <td>-99999.0</td>\n      <td>0.051</td>\n      <td>-99999.0</td>\n      <td>-99999.0</td>\n      <td>-99999.0</td>\n      <td>-99999.0</td>\n      <td>-99999.0</td>\n      <td>2017</td>\n    </tr>\n    <tr>\n      <th>120821</th>\n      <td>2021-04-25</td>\n      <td>2021-05-01</td>\n      <td>NORDESTE</td>\n      <td>SERGIPE</td>\n      <td>OLEO DIESEL S10</td>\n      <td>33</td>\n      <td>R$/l</td>\n      <td>4.464</td>\n      <td>0.205</td>\n      <td>4.190</td>\n      <td>4.699</td>\n      <td>-99999.0</td>\n      <td>0.046</td>\n      <td>-99999.0</td>\n      <td>-99999.0</td>\n      <td>-99999.0</td>\n      <td>-99999.0</td>\n      <td>-99999.0</td>\n      <td>2018</td>\n    </tr>\n    <tr>\n      <th>120822</th>\n      <td>2021-04-25</td>\n      <td>2021-05-01</td>\n      <td>NORTE</td>\n      <td>TOCANTINS</td>\n      <td>OLEO DIESEL S10</td>\n      <td>18</td>\n      <td>R$/l</td>\n      <td>4.352</td>\n      <td>0.156</td>\n      <td>4.199</td>\n      <td>4.699</td>\n      <td>-99999.0</td>\n      <td>0.036</td>\n      <td>-99999.0</td>\n      <td>-99999.0</td>\n      <td>-99999.0</td>\n      <td>-99999.0</td>\n      <td>-99999.0</td>\n      <td>2019</td>\n    </tr>\n  </tbody>\n</table>\n<p>120823 rows × 19 columns</p>\n</div>"
          },
          "metadata": {}
        }
      ],
      "execution_count": 81
    },
    {
      "id": "necessary-absolute",
      "cell_type": "code",
      "source": "# lista_de_produtos = [\"GASOLINA COMUM\", \"ETANOL HIDRATADO\"]\n# data.query('PRODUTO in @lista_de_produtos and ESTADO == \"SAO PAULO\" and Ano == 2018')\ngasolina_etanol_sp_2018 = data.query('PRODUTO in [\"GASOLINA COMUM\", \"ETANOL HIDRATADO\"] and ESTADO == \"SAO PAULO\" and Ano == 2018')\ngasolina_etanol_sp_2018",
      "metadata": {
        "trusted": true
      },
      "outputs": [
        {
          "execution_count": 102,
          "output_type": "execute_result",
          "data": {
            "text/plain": "       DATA INICIAL  DATA FINAL   REGIÃO     ESTADO           PRODUTO  \\\n131      2004-06-06  2004-06-12  SUDESTE  SAO PAULO  ETANOL HIDRATADO   \n266      2004-07-11  2004-07-17  SUDESTE  SAO PAULO  ETANOL HIDRATADO   \n401      2004-08-15  2004-08-21  SUDESTE  SAO PAULO  ETANOL HIDRATADO   \n536      2004-09-19  2004-09-25  SUDESTE  SAO PAULO  ETANOL HIDRATADO   \n671      2004-10-24  2004-10-30  SUDESTE  SAO PAULO  ETANOL HIDRATADO   \n...             ...         ...      ...        ...               ...   \n118761   2021-02-07  2021-02-13  SUDESTE  SAO PAULO    GASOLINA COMUM   \n119116   2021-02-21  2021-02-27  SUDESTE  SAO PAULO    GASOLINA COMUM   \n119831   2021-03-21  2021-03-27  SUDESTE  SAO PAULO    GASOLINA COMUM   \n120366   2021-04-11  2021-04-17  SUDESTE  SAO PAULO    GASOLINA COMUM   \n120491   2021-04-18  2021-04-24  SUDESTE  SAO PAULO  ETANOL HIDRATADO   \n\n        NÚMERO DE POSTOS PESQUISADOS UNIDADE DE MEDIDA  PREÇO MÉDIO REVENDA  \\\n131                             4082              R$/l                0.894   \n266                             4079              R$/l                0.907   \n401                             4075              R$/l                1.034   \n536                             4102              R$/l                1.034   \n671                             4065              R$/l                1.180   \n...                              ...               ...                  ...   \n118761                           830              R$/l                4.551   \n119116                           935              R$/l                4.864   \n119831                          1016              R$/l                5.308   \n120366                          1058              R$/l                5.206   \n120491                          1078              R$/l                3.587   \n\n        DESVIO PADRÃO REVENDA  PREÇO MÍNIMO REVENDA  PREÇO MÁXIMO REVENDA  \\\n131                     0.071                 0.669                 1.199   \n266                     0.073                 0.699                 1.299   \n401                     0.075                 0.829                 1.370   \n536                     0.077                 0.820                 1.400   \n671                     0.065                 0.940                 1.500   \n...                       ...                   ...                   ...   \n118761                  0.227                 3.890                 5.399   \n119116                  0.214                 4.199                 5.799   \n119831                  0.217                 4.279                 6.149   \n120366                  0.234                 3.899                 5.999   \n120491                  0.183                 2.379                 4.699   \n\n       MARGEM MÉDIA REVENDA  COEF DE VARIAÇÃO REVENDA  \\\n131                   0.205                     0.079   \n266                   0.191                     0.080   \n401                   0.192                     0.073   \n536                   0.187                     0.074   \n671                   0.208                     0.055   \n...                     ...                       ...   \n118761             -99999.0                     0.050   \n119116             -99999.0                     0.044   \n119831             -99999.0                     0.041   \n120366             -99999.0                     0.045   \n120491             -99999.0                     0.051   \n\n       PREÇO MÉDIO DISTRIBUIÇÃO DESVIO PADRÃO DISTRIBUIÇÃO  \\\n131                       0.689                      0.072   \n266                       0.716                      0.054   \n401                       0.842                      0.065   \n536                       0.847                      0.065   \n671                       0.972                      0.059   \n...                         ...                        ...   \n118761                 -99999.0                   -99999.0   \n119116                 -99999.0                   -99999.0   \n119831                 -99999.0                   -99999.0   \n120366                 -99999.0                   -99999.0   \n120491                 -99999.0                   -99999.0   \n\n       PREÇO MÍNIMO DISTRIBUIÇÃO PREÇO MÁXIMO DISTRIBUIÇÃO  \\\n131                      0.47797                    1.0669   \n266                       0.4757                    0.9689   \n401                       0.4757                    1.0621   \n536                       0.4757                   1.06618   \n671                       0.4757                    1.1542   \n...                          ...                       ...   \n118761                  -99999.0                  -99999.0   \n119116                  -99999.0                  -99999.0   \n119831                  -99999.0                  -99999.0   \n120366                  -99999.0                  -99999.0   \n120491                  -99999.0                  -99999.0   \n\n       COEF DE VARIAÇÃO DISTRIBUIÇÃO   Ano  \n131                            0.104  2018  \n266                            0.075  2018  \n401                            0.077  2018  \n536                            0.077  2018  \n671                            0.061  2018  \n...                              ...   ...  \n118761                      -99999.0  2018  \n119116                      -99999.0  2018  \n119831                      -99999.0  2018  \n120366                      -99999.0  2018  \n120491                      -99999.0  2018  \n\n[349 rows x 19 columns]",
            "text/html": "<div>\n<style scoped>\n    .dataframe tbody tr th:only-of-type {\n        vertical-align: middle;\n    }\n\n    .dataframe tbody tr th {\n        vertical-align: top;\n    }\n\n    .dataframe thead th {\n        text-align: right;\n    }\n</style>\n<table border=\"1\" class=\"dataframe\">\n  <thead>\n    <tr style=\"text-align: right;\">\n      <th></th>\n      <th>DATA INICIAL</th>\n      <th>DATA FINAL</th>\n      <th>REGIÃO</th>\n      <th>ESTADO</th>\n      <th>PRODUTO</th>\n      <th>NÚMERO DE POSTOS PESQUISADOS</th>\n      <th>UNIDADE DE MEDIDA</th>\n      <th>PREÇO MÉDIO REVENDA</th>\n      <th>DESVIO PADRÃO REVENDA</th>\n      <th>PREÇO MÍNIMO REVENDA</th>\n      <th>PREÇO MÁXIMO REVENDA</th>\n      <th>MARGEM MÉDIA REVENDA</th>\n      <th>COEF DE VARIAÇÃO REVENDA</th>\n      <th>PREÇO MÉDIO DISTRIBUIÇÃO</th>\n      <th>DESVIO PADRÃO DISTRIBUIÇÃO</th>\n      <th>PREÇO MÍNIMO DISTRIBUIÇÃO</th>\n      <th>PREÇO MÁXIMO DISTRIBUIÇÃO</th>\n      <th>COEF DE VARIAÇÃO DISTRIBUIÇÃO</th>\n      <th>Ano</th>\n    </tr>\n  </thead>\n  <tbody>\n    <tr>\n      <th>131</th>\n      <td>2004-06-06</td>\n      <td>2004-06-12</td>\n      <td>SUDESTE</td>\n      <td>SAO PAULO</td>\n      <td>ETANOL HIDRATADO</td>\n      <td>4082</td>\n      <td>R$/l</td>\n      <td>0.894</td>\n      <td>0.071</td>\n      <td>0.669</td>\n      <td>1.199</td>\n      <td>0.205</td>\n      <td>0.079</td>\n      <td>0.689</td>\n      <td>0.072</td>\n      <td>0.47797</td>\n      <td>1.0669</td>\n      <td>0.104</td>\n      <td>2018</td>\n    </tr>\n    <tr>\n      <th>266</th>\n      <td>2004-07-11</td>\n      <td>2004-07-17</td>\n      <td>SUDESTE</td>\n      <td>SAO PAULO</td>\n      <td>ETANOL HIDRATADO</td>\n      <td>4079</td>\n      <td>R$/l</td>\n      <td>0.907</td>\n      <td>0.073</td>\n      <td>0.699</td>\n      <td>1.299</td>\n      <td>0.191</td>\n      <td>0.080</td>\n      <td>0.716</td>\n      <td>0.054</td>\n      <td>0.4757</td>\n      <td>0.9689</td>\n      <td>0.075</td>\n      <td>2018</td>\n    </tr>\n    <tr>\n      <th>401</th>\n      <td>2004-08-15</td>\n      <td>2004-08-21</td>\n      <td>SUDESTE</td>\n      <td>SAO PAULO</td>\n      <td>ETANOL HIDRATADO</td>\n      <td>4075</td>\n      <td>R$/l</td>\n      <td>1.034</td>\n      <td>0.075</td>\n      <td>0.829</td>\n      <td>1.370</td>\n      <td>0.192</td>\n      <td>0.073</td>\n      <td>0.842</td>\n      <td>0.065</td>\n      <td>0.4757</td>\n      <td>1.0621</td>\n      <td>0.077</td>\n      <td>2018</td>\n    </tr>\n    <tr>\n      <th>536</th>\n      <td>2004-09-19</td>\n      <td>2004-09-25</td>\n      <td>SUDESTE</td>\n      <td>SAO PAULO</td>\n      <td>ETANOL HIDRATADO</td>\n      <td>4102</td>\n      <td>R$/l</td>\n      <td>1.034</td>\n      <td>0.077</td>\n      <td>0.820</td>\n      <td>1.400</td>\n      <td>0.187</td>\n      <td>0.074</td>\n      <td>0.847</td>\n      <td>0.065</td>\n      <td>0.4757</td>\n      <td>1.06618</td>\n      <td>0.077</td>\n      <td>2018</td>\n    </tr>\n    <tr>\n      <th>671</th>\n      <td>2004-10-24</td>\n      <td>2004-10-30</td>\n      <td>SUDESTE</td>\n      <td>SAO PAULO</td>\n      <td>ETANOL HIDRATADO</td>\n      <td>4065</td>\n      <td>R$/l</td>\n      <td>1.180</td>\n      <td>0.065</td>\n      <td>0.940</td>\n      <td>1.500</td>\n      <td>0.208</td>\n      <td>0.055</td>\n      <td>0.972</td>\n      <td>0.059</td>\n      <td>0.4757</td>\n      <td>1.1542</td>\n      <td>0.061</td>\n      <td>2018</td>\n    </tr>\n    <tr>\n      <th>...</th>\n      <td>...</td>\n      <td>...</td>\n      <td>...</td>\n      <td>...</td>\n      <td>...</td>\n      <td>...</td>\n      <td>...</td>\n      <td>...</td>\n      <td>...</td>\n      <td>...</td>\n      <td>...</td>\n      <td>...</td>\n      <td>...</td>\n      <td>...</td>\n      <td>...</td>\n      <td>...</td>\n      <td>...</td>\n      <td>...</td>\n      <td>...</td>\n    </tr>\n    <tr>\n      <th>118761</th>\n      <td>2021-02-07</td>\n      <td>2021-02-13</td>\n      <td>SUDESTE</td>\n      <td>SAO PAULO</td>\n      <td>GASOLINA COMUM</td>\n      <td>830</td>\n      <td>R$/l</td>\n      <td>4.551</td>\n      <td>0.227</td>\n      <td>3.890</td>\n      <td>5.399</td>\n      <td>-99999.0</td>\n      <td>0.050</td>\n      <td>-99999.0</td>\n      <td>-99999.0</td>\n      <td>-99999.0</td>\n      <td>-99999.0</td>\n      <td>-99999.0</td>\n      <td>2018</td>\n    </tr>\n    <tr>\n      <th>119116</th>\n      <td>2021-02-21</td>\n      <td>2021-02-27</td>\n      <td>SUDESTE</td>\n      <td>SAO PAULO</td>\n      <td>GASOLINA COMUM</td>\n      <td>935</td>\n      <td>R$/l</td>\n      <td>4.864</td>\n      <td>0.214</td>\n      <td>4.199</td>\n      <td>5.799</td>\n      <td>-99999.0</td>\n      <td>0.044</td>\n      <td>-99999.0</td>\n      <td>-99999.0</td>\n      <td>-99999.0</td>\n      <td>-99999.0</td>\n      <td>-99999.0</td>\n      <td>2018</td>\n    </tr>\n    <tr>\n      <th>119831</th>\n      <td>2021-03-21</td>\n      <td>2021-03-27</td>\n      <td>SUDESTE</td>\n      <td>SAO PAULO</td>\n      <td>GASOLINA COMUM</td>\n      <td>1016</td>\n      <td>R$/l</td>\n      <td>5.308</td>\n      <td>0.217</td>\n      <td>4.279</td>\n      <td>6.149</td>\n      <td>-99999.0</td>\n      <td>0.041</td>\n      <td>-99999.0</td>\n      <td>-99999.0</td>\n      <td>-99999.0</td>\n      <td>-99999.0</td>\n      <td>-99999.0</td>\n      <td>2018</td>\n    </tr>\n    <tr>\n      <th>120366</th>\n      <td>2021-04-11</td>\n      <td>2021-04-17</td>\n      <td>SUDESTE</td>\n      <td>SAO PAULO</td>\n      <td>GASOLINA COMUM</td>\n      <td>1058</td>\n      <td>R$/l</td>\n      <td>5.206</td>\n      <td>0.234</td>\n      <td>3.899</td>\n      <td>5.999</td>\n      <td>-99999.0</td>\n      <td>0.045</td>\n      <td>-99999.0</td>\n      <td>-99999.0</td>\n      <td>-99999.0</td>\n      <td>-99999.0</td>\n      <td>-99999.0</td>\n      <td>2018</td>\n    </tr>\n    <tr>\n      <th>120491</th>\n      <td>2021-04-18</td>\n      <td>2021-04-24</td>\n      <td>SUDESTE</td>\n      <td>SAO PAULO</td>\n      <td>ETANOL HIDRATADO</td>\n      <td>1078</td>\n      <td>R$/l</td>\n      <td>3.587</td>\n      <td>0.183</td>\n      <td>2.379</td>\n      <td>4.699</td>\n      <td>-99999.0</td>\n      <td>0.051</td>\n      <td>-99999.0</td>\n      <td>-99999.0</td>\n      <td>-99999.0</td>\n      <td>-99999.0</td>\n      <td>-99999.0</td>\n      <td>2018</td>\n    </tr>\n  </tbody>\n</table>\n<p>349 rows × 19 columns</p>\n</div>"
          },
          "metadata": {}
        }
      ],
      "execution_count": 102
    },
    {
      "id": "selected-confidentiality",
      "cell_type": "code",
      "source": "gasolina_etanol_sp_2018.describe()",
      "metadata": {
        "trusted": true
      },
      "outputs": [
        {
          "execution_count": 103,
          "output_type": "execute_result",
          "data": {
            "text/plain": "       NÚMERO DE POSTOS PESQUISADOS  PREÇO MÉDIO REVENDA  \\\ncount                    349.000000           349.000000   \nmean                    2277.020057             2.446032   \nstd                      818.373659             0.863741   \nmin                      102.000000             0.894000   \n25%                     1645.000000             1.857000   \n50%                     2375.000000             2.418000   \n75%                     2386.000000             2.801000   \nmax                     4152.000000             5.308000   \n\n       DESVIO PADRÃO REVENDA  PREÇO MÍNIMO REVENDA  PREÇO MÁXIMO REVENDA  \\\ncount             349.000000            349.000000            349.000000   \nmean                0.124103              2.082708              3.042103   \nstd                 0.035061              0.779536              0.990228   \nmin                 0.065000              0.669000              1.199000   \n25%                 0.098000              1.499000              2.319000   \n50%                 0.111000              2.129000              2.899000   \n75%                 0.144000              2.389000              3.699000   \nmax                 0.245000              4.279000              6.149000   \n\n       COEF DE VARIAÇÃO REVENDA     Ano  \ncount                349.000000   349.0  \nmean                   0.054315  2018.0  \nstd                    0.016193     0.0  \nmin                    0.030000  2018.0  \n25%                    0.042000  2018.0  \n50%                    0.047000  2018.0  \n75%                    0.065000  2018.0  \nmax                    0.112000  2018.0  ",
            "text/html": "<div>\n<style scoped>\n    .dataframe tbody tr th:only-of-type {\n        vertical-align: middle;\n    }\n\n    .dataframe tbody tr th {\n        vertical-align: top;\n    }\n\n    .dataframe thead th {\n        text-align: right;\n    }\n</style>\n<table border=\"1\" class=\"dataframe\">\n  <thead>\n    <tr style=\"text-align: right;\">\n      <th></th>\n      <th>NÚMERO DE POSTOS PESQUISADOS</th>\n      <th>PREÇO MÉDIO REVENDA</th>\n      <th>DESVIO PADRÃO REVENDA</th>\n      <th>PREÇO MÍNIMO REVENDA</th>\n      <th>PREÇO MÁXIMO REVENDA</th>\n      <th>COEF DE VARIAÇÃO REVENDA</th>\n      <th>Ano</th>\n    </tr>\n  </thead>\n  <tbody>\n    <tr>\n      <th>count</th>\n      <td>349.000000</td>\n      <td>349.000000</td>\n      <td>349.000000</td>\n      <td>349.000000</td>\n      <td>349.000000</td>\n      <td>349.000000</td>\n      <td>349.0</td>\n    </tr>\n    <tr>\n      <th>mean</th>\n      <td>2277.020057</td>\n      <td>2.446032</td>\n      <td>0.124103</td>\n      <td>2.082708</td>\n      <td>3.042103</td>\n      <td>0.054315</td>\n      <td>2018.0</td>\n    </tr>\n    <tr>\n      <th>std</th>\n      <td>818.373659</td>\n      <td>0.863741</td>\n      <td>0.035061</td>\n      <td>0.779536</td>\n      <td>0.990228</td>\n      <td>0.016193</td>\n      <td>0.0</td>\n    </tr>\n    <tr>\n      <th>min</th>\n      <td>102.000000</td>\n      <td>0.894000</td>\n      <td>0.065000</td>\n      <td>0.669000</td>\n      <td>1.199000</td>\n      <td>0.030000</td>\n      <td>2018.0</td>\n    </tr>\n    <tr>\n      <th>25%</th>\n      <td>1645.000000</td>\n      <td>1.857000</td>\n      <td>0.098000</td>\n      <td>1.499000</td>\n      <td>2.319000</td>\n      <td>0.042000</td>\n      <td>2018.0</td>\n    </tr>\n    <tr>\n      <th>50%</th>\n      <td>2375.000000</td>\n      <td>2.418000</td>\n      <td>0.111000</td>\n      <td>2.129000</td>\n      <td>2.899000</td>\n      <td>0.047000</td>\n      <td>2018.0</td>\n    </tr>\n    <tr>\n      <th>75%</th>\n      <td>2386.000000</td>\n      <td>2.801000</td>\n      <td>0.144000</td>\n      <td>2.389000</td>\n      <td>3.699000</td>\n      <td>0.065000</td>\n      <td>2018.0</td>\n    </tr>\n    <tr>\n      <th>max</th>\n      <td>4152.000000</td>\n      <td>5.308000</td>\n      <td>0.245000</td>\n      <td>4.279000</td>\n      <td>6.149000</td>\n      <td>0.112000</td>\n      <td>2018.0</td>\n    </tr>\n  </tbody>\n</table>\n</div>"
          },
          "metadata": {}
        }
      ],
      "execution_count": 103
    },
    {
      "id": "minute-september",
      "cell_type": "code",
      "source": "gasolina_etanol_sp_2018['PREÇO MÉDIO REVENDA'].describe().to_frame()",
      "metadata": {
        "trusted": true
      },
      "outputs": [
        {
          "execution_count": 104,
          "output_type": "execute_result",
          "data": {
            "text/plain": "       PREÇO MÉDIO REVENDA\ncount           349.000000\nmean              2.446032\nstd               0.863741\nmin               0.894000\n25%               1.857000\n50%               2.418000\n75%               2.801000\nmax               5.308000",
            "text/html": "<div>\n<style scoped>\n    .dataframe tbody tr th:only-of-type {\n        vertical-align: middle;\n    }\n\n    .dataframe tbody tr th {\n        vertical-align: top;\n    }\n\n    .dataframe thead th {\n        text-align: right;\n    }\n</style>\n<table border=\"1\" class=\"dataframe\">\n  <thead>\n    <tr style=\"text-align: right;\">\n      <th></th>\n      <th>PREÇO MÉDIO REVENDA</th>\n    </tr>\n  </thead>\n  <tbody>\n    <tr>\n      <th>count</th>\n      <td>349.000000</td>\n    </tr>\n    <tr>\n      <th>mean</th>\n      <td>2.446032</td>\n    </tr>\n    <tr>\n      <th>std</th>\n      <td>0.863741</td>\n    </tr>\n    <tr>\n      <th>min</th>\n      <td>0.894000</td>\n    </tr>\n    <tr>\n      <th>25%</th>\n      <td>1.857000</td>\n    </tr>\n    <tr>\n      <th>50%</th>\n      <td>2.418000</td>\n    </tr>\n    <tr>\n      <th>75%</th>\n      <td>2.801000</td>\n    </tr>\n    <tr>\n      <th>max</th>\n      <td>5.308000</td>\n    </tr>\n  </tbody>\n</table>\n</div>"
          },
          "metadata": {}
        }
      ],
      "execution_count": 104
    },
    {
      "id": "phantom-environment",
      "cell_type": "code",
      "source": "gasolina_etanol_sp_2018.groupby('PRODUTO')['PREÇO MÉDIO REVENDA'].describe()",
      "metadata": {
        "trusted": true
      },
      "outputs": [
        {
          "execution_count": 105,
          "output_type": "execute_result",
          "data": {
            "text/plain": "                  count      mean       std    min      25%    50%      75%  \\\nPRODUTO                                                                       \nETANOL HIDRATADO  175.0  1.898594  0.588438  0.894  1.33000  1.857  2.41400   \nGASOLINA COMUM    174.0  2.996615  0.737845  1.894  2.42275  2.662  3.54825   \n\n                    max  \nPRODUTO                  \nETANOL HIDRATADO  3.587  \nGASOLINA COMUM    5.308  ",
            "text/html": "<div>\n<style scoped>\n    .dataframe tbody tr th:only-of-type {\n        vertical-align: middle;\n    }\n\n    .dataframe tbody tr th {\n        vertical-align: top;\n    }\n\n    .dataframe thead th {\n        text-align: right;\n    }\n</style>\n<table border=\"1\" class=\"dataframe\">\n  <thead>\n    <tr style=\"text-align: right;\">\n      <th></th>\n      <th>count</th>\n      <th>mean</th>\n      <th>std</th>\n      <th>min</th>\n      <th>25%</th>\n      <th>50%</th>\n      <th>75%</th>\n      <th>max</th>\n    </tr>\n    <tr>\n      <th>PRODUTO</th>\n      <th></th>\n      <th></th>\n      <th></th>\n      <th></th>\n      <th></th>\n      <th></th>\n      <th></th>\n      <th></th>\n    </tr>\n  </thead>\n  <tbody>\n    <tr>\n      <th>ETANOL HIDRATADO</th>\n      <td>175.0</td>\n      <td>1.898594</td>\n      <td>0.588438</td>\n      <td>0.894</td>\n      <td>1.33000</td>\n      <td>1.857</td>\n      <td>2.41400</td>\n      <td>3.587</td>\n    </tr>\n    <tr>\n      <th>GASOLINA COMUM</th>\n      <td>174.0</td>\n      <td>2.996615</td>\n      <td>0.737845</td>\n      <td>1.894</td>\n      <td>2.42275</td>\n      <td>2.662</td>\n      <td>3.54825</td>\n      <td>5.308</td>\n    </tr>\n  </tbody>\n</table>\n</div>"
          },
          "metadata": {}
        }
      ],
      "execution_count": 105
    }
  ]
}